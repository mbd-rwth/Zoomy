{
 "cells": [
  {
   "cell_type": "markdown",
   "metadata": {},
   "source": [
    "# Imports"
   ]
  },
  {
   "cell_type": "code",
   "execution_count": 2,
   "metadata": {},
   "outputs": [],
   "source": [
    "import numpy as np\n",
    "import os\n",
    "import pytest\n",
    "from types import SimpleNamespace\n",
    "import ipywidgets as widgets\n",
    "\n",
    "from library.pysolver.solver import *\n",
    "from library.model.model import *\n",
    "import library.model.initial_conditions as IC\n",
    "import library.model.boundary_conditions as BC\n",
    "from library.pysolver.ode import RK1\n",
    "import library.misc.io as io\n",
    "from library.pysolver.reconstruction import GradientMesh\n",
    "import library.postprocessing.postprocessing as postprocessing"
   ]
  },
  {
   "cell_type": "code",
   "execution_count": null,
   "metadata": {},
   "outputs": [],
   "source": [
    "\n",
    "    settings = Settings(\n",
    "        name=\"ShallowMoments2d\",\n",
    "        momentum_eqns=[1, 2] + [3 + l for l in range(2 * level)],\n",
    "        parameters={\"g\": 1.0, \"C\": 16.0, \"nu\": 0.1},\n",
    "        reconstruction=recon.constant,\n",
    "        num_flux=flux.LLF(),\n",
    "        compute_dt=timestepping.adaptive(CFL=0.45),\n",
    "        time_end=1.0,\n",
    "        output_snapshots=30,\n",
    "        output_dir='output_test'\n",
    "    )\n"
   ]
  },
  {
   "cell_type": "code",
   "execution_count": null,
   "metadata": {},
   "outputs": [],
   "source": [
    "\n",
    "    main_dir = os.getenv(\"SMS\")\n",
    "    mesh = Mesh.load_gmsh(\n",
    "        os.path.join(main_dir, \"meshes/{}_2d/mesh_coarse.msh\".format('triangle')),\n",
    "        'triangle',\n",
    "    )\n"
   ]
  },
  {
   "cell_type": "code",
   "execution_count": null,
   "metadata": {},
   "outputs": [],
   "source": [
    "\n",
    "    bc_tags = [\"left\", \"right\", \"top\", \"bottom\"]\n",
    "    bc_tags_periodic_to = [\"right\", \"left\", \"bottom\", \"top\"]\n",
    "\n",
    "    bcs = BC.BoundaryConditions(\n",
    "        [\n",
    "            BC.Periodic(physical_tag=tag, periodic_to_physical_tag=tag_periodic_to)\n",
    "            for (tag, tag_periodic_to) in zip(bc_tags, bc_tags_periodic_to)\n",
    "        ]\n",
    "    )"
   ]
  },
  {
   "cell_type": "code",
   "execution_count": null,
   "metadata": {},
   "outputs": [],
   "source": [
    "\n",
    "    ic = IC.RP(\n",
    "        left=lambda n_field: np.array(\n",
    "            [2.0, 0.0, 0.0] + [0.0 for l in range(2 * level)]\n",
    "        ),\n",
    "        right=lambda n_field: np.array(\n",
    "            [1.0, 0.0, 0.0] + [0.0 for l in range(2 * level)]\n",
    "        ),\n",
    "    )"
   ]
  },
  {
   "cell_type": "code",
   "execution_count": null,
   "metadata": {},
   "outputs": [],
   "source": [
    "\n",
    "\n",
    "    level = 2\n",
    "    model = ShallowMoments2d(\n",
    "        dimension=2,\n",
    "        fields=3 + 2 * level,\n",
    "        aux_fields=0,\n",
    "        parameters=settings.parameters,\n",
    "        boundary_conditions=bcs,\n",
    "        initial_conditions=ic,\n",
    "        settings={\"friction\": [\"chezy\"]},\n",
    "    )"
   ]
  },
  {
   "cell_type": "code",
   "execution_count": null,
   "metadata": {},
   "outputs": [],
   "source": [
    "\n",
    "    fvm_unsteady_semidiscrete(mesh, model, settings, RK1)"
   ]
  },
  {
   "cell_type": "code",
   "execution_count": null,
   "metadata": {},
   "outputs": [],
   "source": [
    "\n",
    "    mesh = GradientMesh.fromMesh(mesh)\n",
    "\n",
    "    io.generate_vtk(settings.output_dir)\n",
    "    # postprocessing.recover_3d_from_smm_as_vtk(\n",
    "    #     model,\n",
    "    #     settings.output_dir,\n",
    "    #     os.path.join(settings.output_dir, \"mesh.hdf5\"),\n",
    "    #     os.path.join(settings.output_dir, \"fields.hdf5\"),\n",
    "    #     Nz=10,\n",
    "    #     start_at_time=1.0,\n",
    "    # )"
   ]
  },
  {
   "cell_type": "code",
   "execution_count": 4,
   "metadata": {},
   "outputs": [],
   "source": [
    "accordion = widgets.Accordion(children=[widgets.IntSlider(), widgets.Text()], titles=('Slider', 'Text'))\n",
    "tab_nest = widgets.Tab()\n",
    "tab_nest.children = [accordion, accordion]\n",
    "tab_nest.titles = ('An accordion', 'Copy of the accordion')\n"
   ]
  },
  {
   "cell_type": "code",
   "execution_count": 3,
   "metadata": {},
   "outputs": [
    {
     "data": {
      "application/vnd.jupyter.widget-view+json": {
       "model_id": "9e3b4a0278e0452ba6e514e297af82b1",
       "version_major": 2,
       "version_minor": 0
      },
      "text/plain": [
       "Accordion(children=(IntSlider(value=0), Text(value='')), titles=('Slider', 'Text'))"
      ]
     },
     "execution_count": 3,
     "metadata": {},
     "output_type": "execute_result"
    }
   ],
   "source": [
    "accordion"
   ]
  },
  {
   "cell_type": "code",
   "execution_count": 5,
   "metadata": {},
   "outputs": [
    {
     "data": {
      "application/vnd.jupyter.widget-view+json": {
       "model_id": "307b1ec981924403bc798b6c6ca89ea9",
       "version_major": 2,
       "version_minor": 0
      },
      "text/plain": [
       "Tab(children=(Accordion(children=(IntSlider(value=0), Text(value='')), titles=('Slider', 'Text')), Accordion(c…"
      ]
     },
     "execution_count": 5,
     "metadata": {},
     "output_type": "execute_result"
    }
   ],
   "source": [
    "tab_nest"
   ]
  },
  {
   "cell_type": "code",
   "execution_count": 11,
   "metadata": {},
   "outputs": [
    {
     "data": {
      "application/vnd.jupyter.widget-view+json": {
       "model_id": "88fa7f84e0d342198eb4bff64ade2135",
       "version_major": 2,
       "version_minor": 0
      },
      "text/plain": [
       "FileChooser(path='/home/ingo/git/shallow-moments-simulation/meshes/quad_2d', filename='mesh_coarse.msh', title…"
      ]
     },
     "metadata": {},
     "output_type": "display_data"
    }
   ],
   "source": [
    "from ipyfilechooser import FileChooser\n",
    "\n",
    "main_dir = os.getenv(\"SMS\")\n",
    "default_mesh_path = os.path.join(main_dir, \"meshes/quad_2d\")\n",
    "# Create and display a FileChooser widget\n",
    "fc = FileChooser(default_mesh_path)\n",
    "fc.default_path = default_mesh_path\n",
    "fc.default_filename = 'mesh_coarse.msh'\n",
    "fc.filter_pattern = '*.msh'\n",
    "fc.reset()\n",
    "display(fc)\n"
   ]
  },
  {
   "cell_type": "code",
   "execution_count": 16,
   "metadata": {},
   "outputs": [],
   "source": [
    "# load mesh with pyvista\n",
    "# extract physical tags from mesh (loadmesh association table has that I think)\n",
    "# but I do not want to load the whole mesh yet...\n",
    "# mesh stats?\n",
    "# combine in one tab\n",
    "# callbacks, such that chaning the value automatically triggers a recalculation\n"
   ]
  },
  {
   "cell_type": "code",
   "execution_count": null,
   "metadata": {},
   "outputs": [],
   "source": []
  }
 ],
 "metadata": {
  "kernelspec": {
   "display_name": "sms",
   "language": "python",
   "name": "python3"
  },
  "language_info": {
   "codemirror_mode": {
    "name": "ipython",
    "version": 3
   },
   "file_extension": ".py",
   "mimetype": "text/x-python",
   "name": "python",
   "nbconvert_exporter": "python",
   "pygments_lexer": "ipython3",
   "version": "3.9.18"
  }
 },
 "nbformat": 4,
 "nbformat_minor": 2
}
