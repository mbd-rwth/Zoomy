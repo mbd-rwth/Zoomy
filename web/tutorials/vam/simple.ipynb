{
 "cells": [
  {
   "cell_type": "raw",
   "id": "906eac95",
   "metadata": {
    "vscode": {
     "languageId": "raw"
    }
   },
   "source": [
    "---\n",
    "title: \"Simple\"\n",
    "author: Ingo Steldermann\n",
    "date: 07/10/2025\n",
    "format:\n",
    "  html:\n",
    "    code-fold: false\n",
    "    code-tools: true\n",
    "    css: ../notebook.css\n",
    "---"
   ]
  },
  {
   "cell_type": "markdown",
   "id": "de054a92",
   "metadata": {
    "vscode": {
     "languageId": "raw"
    }
   },
   "source": [
    "# VAM Tutorial (Simple)\n",
    "\n",
    "::: {.callout-note title=\"Reference\"}\n",
    "The following the model is described in the paper: \n",
    "\n",
    "```\n",
    " @article{Escalante_2024, \n",
    "    title={Vertically averaged and moment equations: New derivation, efficient numerical solution and comparison with other physical approximations for modeling non-hydrostatic free surface flows}, \n",
    "    volume={504}, \n",
    "    ISSN={00219991}, \n",
    "    DOI={10.1016/j.jcp.2024.112882}, \n",
    "    journal={Journal of Computational Physics}, \n",
    "    author={Escalante, C. and Morales De Luna, T. and Cantero-Chinchilla, F. and Castro-Orgaz, O.}, \n",
    "    year={2024}, \n",
    "    month=may, \n",
    "    pages={112882}, \n",
    "    language={en} \n",
    "}\n",
    "```\n",
    "\n",
    ":::\n",
    "\n"
   ]
  },
  {
   "cell_type": "markdown",
   "id": "3ef50635",
   "metadata": {},
   "source": [
    "## Imports"
   ]
  },
  {
   "cell_type": "code",
   "execution_count": 1,
   "id": "4f583c96",
   "metadata": {},
   "outputs": [
    {
     "name": "stderr",
     "output_type": "stream",
     "text": [
      "\u001b[32m2025-07-31 12:14:42.089\u001b[0m | \u001b[33m\u001b[1mWARNING \u001b[0m | \u001b[36mlibrary.fvm.solver\u001b[0m:\u001b[36m<module>\u001b[0m:\u001b[36m24\u001b[0m - \u001b[33m\u001b[1mNo module named 'precice'\u001b[0m\n"
     ]
    }
   ],
   "source": [
    "# | code-fold: true\n",
    "# | code-summary: \"Load packages\"\n",
    "# | output: false\n",
    "\n",
    "import os\n",
    "import numpy as np\n",
    "import jax\n",
    "from jax import numpy as jnp\n",
    "import pytest\n",
    "from types import SimpleNamespace\n",
    "from sympy import cos, pi, symbols, Derivative, Function, exp, I, Rational, Derivative, init_printing, Matrix, sqrt, diff\n",
    "from time import time as gettime\n",
    "\n",
    "from library.fvm.solver import HyperbolicSolver, Settings\n",
    "from library.fvm.ode import RK1\n",
    "import library.fvm.reconstruction as recon\n",
    "import library.fvm.timestepping as timestepping\n",
    "import library.fvm.flux as flux\n",
    "import library.fvm.nonconservative_flux as nc_flux\n",
    "from library.model.boundary_conditions import BoundaryCondition\n",
    "from library.model.models.basisfunctions import Basisfunction, Legendre_shifted\n",
    "from library.model.models.basismatrices import Basismatrices\n",
    "from library.model.models.base import (\n",
    "    register_sympy_attribute,\n",
    ")\n",
    "\n",
    "from library.model.model import *\n",
    "import library.model.initial_conditions as IC\n",
    "import library.model.boundary_conditions as BC\n",
    "import library.misc.io as io\n",
    "from library.mesh.mesh import compute_derivatives\n",
    "from tests.pdesoft import plots_paper\n",
    "import library.model.analysis as analysis\n",
    "\n",
    "import library.mesh.mesh as petscMesh\n",
    "import library.postprocessing.postprocessing as postprocessing\n",
    "from library.mesh.mesh import convert_mesh_to_jax\n",
    "import argparse\n",
    "\n",
    "init_printing(use_latex=True)"
   ]
  },
  {
   "cell_type": "markdown",
   "id": "e90e06e9",
   "metadata": {},
   "source": [
    "## Model definition"
   ]
  },
  {
   "cell_type": "code",
   "execution_count": 2,
   "id": "9d8b0a27",
   "metadata": {},
   "outputs": [],
   "source": [
    "class VAMHyperbolic(Model):\n",
    "    def __init__(\n",
    "        self,\n",
    "        boundary_conditions=None,\n",
    "        initial_conditions=None,\n",
    "        dimension=1,\n",
    "        fields=6,\n",
    "        aux_fields=['hw2', 'p0', 'p1', 'dbdx', 'dhdx', 'dhp0dx', 'dhp1dx'],\n",
    "        parameters={},\n",
    "        parameters_default={\"g\": 9.81},\n",
    "        settings={},\n",
    "        settings_default={},\n",
    "    ):\n",
    "        self.variables = register_sympy_attribute(fields, \"q\")\n",
    "        self.n_fields = self.variables.length()\n",
    "        super().__init__(\n",
    "            dimension=dimension,\n",
    "            fields=fields,\n",
    "            aux_fields=aux_fields,\n",
    "            parameters=parameters,\n",
    "            parameters_default=parameters_default,\n",
    "            boundary_conditions=boundary_conditions,\n",
    "            initial_conditions=initial_conditions,\n",
    "            settings={**settings_default, **settings},\n",
    "        )\n",
    "        \n",
    "    def flux(self):\n",
    "        fx = Matrix([0 for i in range(self.n_fields)])\n",
    "        hw2 = self.aux_variables.hw2\n",
    "        h = self.variables[0]\n",
    "        hu0 = self.variables[1]\n",
    "        hu1 = self.variables[2]\n",
    "        hw0 = self.variables[3]\n",
    "        hw1 = self.variables[4]\n",
    "        param = self.parameters\n",
    "\n",
    "        u0 = hu0 / h\n",
    "        u1 = hu1 / h\n",
    "        w0 = hw0 / h\n",
    "        w1 = hw1 / h\n",
    "        \n",
    "        fx[0] = hu0\n",
    "        fx[1] = hu0 * u0 + 1/3 * hu1 * u1\n",
    "        fx[2] = 2*hu0 * u1\n",
    "        fx[3] = hu0 * w0 + 1/3 * hu1 * w1\n",
    "        fx[4] = hu0 * w1 + u1 * (hw0 + 2/5*hw2)\n",
    "        \n",
    "        return [fx]\n",
    "\n",
    "    def nonconservative_matrix(self):\n",
    "        nc = Matrix([[0 for i in range(self.n_fields)] for j in range(self.n_fields)])\n",
    "\n",
    "        hw2 = self.aux_variables.hw2\n",
    "        h = self.variables[0]\n",
    "        hu0 = self.variables[1]\n",
    "        hu1 = self.variables[2]\n",
    "        hw0 = self.variables[3]\n",
    "        hw1 = self.variables[4]\n",
    "        param = self.parameters\n",
    "\n",
    "        u0 = hu0 / h\n",
    "        u1 = hu1 / h\n",
    "        w0 = hw0 / h\n",
    "        w1 = hw1 / h\n",
    "        w2 = hw2 / h\n",
    "\n",
    "        nc[1, 0] = param.g * h\n",
    "        nc[1, 5] = param.g * h\n",
    "        nc[2, 3] = -u0\n",
    "        nc[4, 2] = + 1/5 * w2 - w0\n",
    "        return [-nc]\n",
    "    \n",
    "    def eigenvalues(self):\n",
    "        ev = Matrix([0 for i in range(self.n_fields)])\n",
    "        h = self.variables[0]\n",
    "        hu0 = self.variables[1]\n",
    "        hu1 = self.variables[2]\n",
    "        param = self.parameters\n",
    "\n",
    "        u0 = hu0 / h\n",
    "        u1 = hu1 / h\n",
    "\n",
    "        ev[0] = u0\n",
    "        ev[1] = u0 + 1/sqrt(3) * u1\n",
    "        ev[2] = u0 - 1/sqrt(3) * u1\n",
    "        ev[3] = u0 + sqrt(param.g * h + u1**2)\n",
    "        ev[4] = u0 - sqrt(param.g * h + u1**2)\n",
    "        ev[5] = 0\n",
    "        \n",
    "        return ev\n",
    "\n",
    "    def source_implicit(self):\n",
    "        R = Matrix([0 for i in range(self.n_fields)])\n",
    "        hw2 = self.aux_variables.hw2\n",
    "        h = self.variables[0]\n",
    "        hu0 = self.variables[1]\n",
    "        hu1 = self.variables[2]\n",
    "        hw0 = self.variables[3]\n",
    "        hw1 = self.variables[4]\n",
    "        b = self.variables[5]\n",
    "        param = self.parameters\n",
    "\n",
    "        u0 = hu0 / h\n",
    "        u1 = hu1 / h\n",
    "        w0 = hw0 / h\n",
    "        w1 = hw1 / h\n",
    "        w2 = hw2 /h  \n",
    "\n",
    "\n",
    "        p0 = self.aux_variables.p0\n",
    "        p1 = self.aux_variables.p1\n",
    "        dbdx = self.aux_variables.dbdx\n",
    "        dhdx = self.aux_variables.dhdx\n",
    "        dhp0dx = self.aux_variables.dhp0dx\n",
    "        dhp1dx = self.aux_variables.dhp1dx\n",
    "\n",
    "        R[0] = 0\n",
    "        R[1] = dhp0dx + 2 * p1 * dbdx \n",
    "        R[2] = dhp1dx - (3*p0 - p1)*dhdx  -6*(p0-p1)*dbdx\n",
    "        R[3] = -2*p1\n",
    "        R[4] = 6*(p0-p1)\n",
    "        R[5] = 0\n",
    "        return -R\n",
    "        \n",
    "    def constraints(self):\n",
    "        C = Matrix([0 for i in range(3)])\n",
    "        param = self.parameters\n",
    "        \n",
    "        t = model.time\n",
    "        x = model.position[0]\n",
    "        q0 = self.variables[0]\n",
    "        q1 = self.variables[1]\n",
    "        q2 = self.variables[2]\n",
    "        q3 = self.variables[3]\n",
    "        q4 = self.variables[4]\n",
    "        q5 = self.variables[5]\n",
    "        h = q0\n",
    "        u0 = q1/h\n",
    "        u1 = q2/h\n",
    "        w0 = q3/h\n",
    "        w1 = q4/h\n",
    "        b = q5\n",
    "        w2 = self.aux_variables.hw2 / q0\n",
    "        \n",
    "        C[0] = h * Derivative(u0, x) + Rational(1,3) * Derivative(h*u1, x) + Rational(1,3) * u1 * Derivative(h, x) + 2*(w0 - u0 * Derivative(b, x)) \n",
    "        C[1] = h * Derivative(u0, x) + u1 * Derivative(h, x) + 2*(u1 * Derivative(b,x) - w1)\n",
    "        C[2] = h * Derivative(u0, x) + u1 * Derivative(h, x) + 2*(w0 + w2 - u0 *  Derivative(b, x))\n",
    "        return C\n",
    "        \n",
    "        \n",
    "        "
   ]
  },
  {
   "cell_type": "code",
   "execution_count": 3,
   "id": "31f8e1fb",
   "metadata": {},
   "outputs": [],
   "source": [
    "model = VAMHyperbolic()"
   ]
  },
  {
   "cell_type": "markdown",
   "id": "2dc7ada4",
   "metadata": {},
   "source": [
    "## Linear stability analysis"
   ]
  },
  {
   "cell_type": "code",
   "execution_count": 4,
   "id": "776ad0e1",
   "metadata": {},
   "outputs": [],
   "source": [
    "\n",
    "analyzer = analysis.ModelAnalyser(model)\n",
    "h0, b0 = symbols('h_c b_c')\n",
    "eps = analyzer.get_eps()\n",
    "h, u0, u1, w0, w1, w2, p0, p1 = analyzer.create_functions_from_list(['h', 'u_0', 'u_1', 'w_0', 'w_1', 'w_2', 'p_0', 'p_1'])\n",
    "t, x, y, z = analyzer.get_time_space()\n",
    "Q = Matrix([h0 + eps * h, (h0 + eps * h) * eps * u0, (h0 + eps * h) * eps * u1, (h0 + eps * h) * eps * w0, (h0 + eps * h)* eps * w1, b0])\n",
    "Qaux = Matrix([(h0 + eps * h) * eps*w2, eps*p0, eps*p1, diff(b0, x), diff(h0 + eps * h, x), diff((h0 + eps * h) * eps * p0, x), diff((h0 + eps * h) * eps * p1, x)])\n",
    "\n",
    "linearized_system = analyzer.linearize_system(Q, Qaux, constraints = model.constraints())"
   ]
  },
  {
   "cell_type": "code",
   "execution_count": 5,
   "id": "ab35bbd2",
   "metadata": {},
   "outputs": [
    {
     "data": {
      "text/latex": [
       "$$\\begin{align*}\n",
       "& h_{c} \\frac{\\partial}{\\partial X_{0}} u_{0}{\\left(t,X_{0},X_{1},X_{2} \\right)} + \\frac{\\partial}{\\partial t} h{\\left(t,X_{0},X_{1},X_{2} \\right)} = 0 \\\\\n",
       "& h_{c} \\left(g \\frac{\\partial}{\\partial X_{0}} h{\\left(t,X_{0},X_{1},X_{2} \\right)} + \\frac{\\partial}{\\partial X_{0}} p_{0}{\\left(t,X_{0},X_{1},X_{2} \\right)} + \\frac{\\partial}{\\partial t} u_{0}{\\left(t,X_{0},X_{1},X_{2} \\right)}\\right) = 0 \\\\\n",
       "& h_{c} \\left(\\frac{\\partial}{\\partial X_{0}} p_{1}{\\left(t,X_{0},X_{1},X_{2} \\right)} + \\frac{\\partial}{\\partial t} u_{1}{\\left(t,X_{0},X_{1},X_{2} \\right)}\\right) = 0 \\\\\n",
       "& h_{c} \\frac{\\partial}{\\partial t} w_{0}{\\left(t,X_{0},X_{1},X_{2} \\right)} - 2 p_{1}{\\left(t,X_{0},X_{1},X_{2} \\right)} = 0 \\\\\n",
       "& h_{c} \\frac{\\partial}{\\partial t} w_{1}{\\left(t,X_{0},X_{1},X_{2} \\right)} + 6 p_{0}{\\left(t,X_{0},X_{1},X_{2} \\right)} - 6 p_{1}{\\left(t,X_{0},X_{1},X_{2} \\right)} = 0 \\\\\n",
       "& \\text{True} \\\\\n",
       "& 3 h_{c} \\frac{\\partial}{\\partial X_{0}} u_{0}{\\left(t,X_{0},X_{1},X_{2} \\right)} + h_{c} \\frac{\\partial}{\\partial X_{0}} u_{1}{\\left(t,X_{0},X_{1},X_{2} \\right)} + 6 w_{0}{\\left(t,X_{0},X_{1},X_{2} \\right)} = 0 \\\\\n",
       "& h_{c} \\frac{\\partial}{\\partial X_{0}} u_{0}{\\left(t,X_{0},X_{1},X_{2} \\right)} - 2 w_{1}{\\left(t,X_{0},X_{1},X_{2} \\right)} = 0 \\\\\n",
       "& h_{c} \\frac{\\partial}{\\partial X_{0}} u_{0}{\\left(t,X_{0},X_{1},X_{2} \\right)} + 2 w_{0}{\\left(t,X_{0},X_{1},X_{2} \\right)} + 2 w_{2}{\\left(t,X_{0},X_{1},X_{2} \\right)} = 0\\end{align*}$$"
      ],
      "text/plain": [
       "<IPython.core.display.Latex object>"
      ]
     },
     "metadata": {},
     "output_type": "display_data"
    }
   ],
   "source": [
    "analyzer.print_equations()"
   ]
  },
  {
   "cell_type": "code",
   "execution_count": 6,
   "id": "47f95432",
   "metadata": {},
   "outputs": [],
   "source": [
    "linearized_system = analyzer.delete_equations([5])"
   ]
  },
  {
   "cell_type": "code",
   "execution_count": 7,
   "id": "832ceaed",
   "metadata": {},
   "outputs": [
    {
     "data": {
      "text/latex": [
       "$$\\begin{align*}\n",
       "& h_{c} \\frac{\\partial}{\\partial X_{0}} u_{0}{\\left(t,X_{0},X_{1},X_{2} \\right)} + \\frac{\\partial}{\\partial t} h{\\left(t,X_{0},X_{1},X_{2} \\right)} = 0 \\\\\n",
       "& h_{c} \\left(g \\frac{\\partial}{\\partial X_{0}} h{\\left(t,X_{0},X_{1},X_{2} \\right)} + \\frac{\\partial}{\\partial X_{0}} p_{0}{\\left(t,X_{0},X_{1},X_{2} \\right)} + \\frac{\\partial}{\\partial t} u_{0}{\\left(t,X_{0},X_{1},X_{2} \\right)}\\right) = 0 \\\\\n",
       "& h_{c} \\left(\\frac{\\partial}{\\partial X_{0}} p_{1}{\\left(t,X_{0},X_{1},X_{2} \\right)} + \\frac{\\partial}{\\partial t} u_{1}{\\left(t,X_{0},X_{1},X_{2} \\right)}\\right) = 0 \\\\\n",
       "& h_{c} \\frac{\\partial}{\\partial t} w_{0}{\\left(t,X_{0},X_{1},X_{2} \\right)} - 2 p_{1}{\\left(t,X_{0},X_{1},X_{2} \\right)} = 0 \\\\\n",
       "& h_{c} \\frac{\\partial}{\\partial t} w_{1}{\\left(t,X_{0},X_{1},X_{2} \\right)} + 6 p_{0}{\\left(t,X_{0},X_{1},X_{2} \\right)} - 6 p_{1}{\\left(t,X_{0},X_{1},X_{2} \\right)} = 0 \\\\\n",
       "& 3 h_{c} \\frac{\\partial}{\\partial X_{0}} u_{0}{\\left(t,X_{0},X_{1},X_{2} \\right)} + h_{c} \\frac{\\partial}{\\partial X_{0}} u_{1}{\\left(t,X_{0},X_{1},X_{2} \\right)} + 6 w_{0}{\\left(t,X_{0},X_{1},X_{2} \\right)} = 0 \\\\\n",
       "& h_{c} \\frac{\\partial}{\\partial X_{0}} u_{0}{\\left(t,X_{0},X_{1},X_{2} \\right)} - 2 w_{1}{\\left(t,X_{0},X_{1},X_{2} \\right)} = 0 \\\\\n",
       "& h_{c} \\frac{\\partial}{\\partial X_{0}} u_{0}{\\left(t,X_{0},X_{1},X_{2} \\right)} + 2 w_{0}{\\left(t,X_{0},X_{1},X_{2} \\right)} + 2 w_{2}{\\left(t,X_{0},X_{1},X_{2} \\right)} = 0\\end{align*}$$"
      ],
      "text/plain": [
       "<IPython.core.display.Latex object>"
      ]
     },
     "metadata": {},
     "output_type": "display_data"
    }
   ],
   "source": [
    "analyzer.print_equations()"
   ]
  },
  {
   "cell_type": "code",
   "execution_count": 8,
   "id": "2a7d316e",
   "metadata": {},
   "outputs": [],
   "source": [
    "analyzer.insert_plane_wave_ansatz([h, u0, u1, w0, w1])"
   ]
  },
  {
   "cell_type": "code",
   "execution_count": 9,
   "id": "dbef3d68",
   "metadata": {},
   "outputs": [
    {
     "data": {
      "text/latex": [
       "$$\\begin{align*}\n",
       "& - i \\bar{h} \\omega e^{i \\left(X_{0} k_{x} + X_{1} k_{y} + X_{2} k_{z} - \\omega t\\right)} + i \\bar{u_0} h_{c} k_{x} e^{i \\left(X_{0} k_{x} + X_{1} k_{y} + X_{2} k_{z} - \\omega t\\right)} = 0 \\\\\n",
       "& h_{c} \\left(i \\bar{h} g k_{x} e^{i \\left(X_{0} k_{x} + X_{1} k_{y} + X_{2} k_{z} - \\omega t\\right)} - i \\bar{u_0} \\omega e^{i \\left(X_{0} k_{x} + X_{1} k_{y} + X_{2} k_{z} - \\omega t\\right)} + \\frac{\\partial}{\\partial X_{0}} p_{0}{\\left(t,X_{0},X_{1},X_{2} \\right)}\\right) = 0 \\\\\n",
       "& h_{c} \\left(- i \\bar{u_1} \\omega e^{i \\left(X_{0} k_{x} + X_{1} k_{y} + X_{2} k_{z} - \\omega t\\right)} + \\frac{\\partial}{\\partial X_{0}} p_{1}{\\left(t,X_{0},X_{1},X_{2} \\right)}\\right) = 0 \\\\\n",
       "& - i \\bar{w_0} h_{c} \\omega e^{i \\left(X_{0} k_{x} + X_{1} k_{y} + X_{2} k_{z} - \\omega t\\right)} - 2 p_{1}{\\left(t,X_{0},X_{1},X_{2} \\right)} = 0 \\\\\n",
       "& - i \\bar{w_1} h_{c} \\omega e^{i \\left(X_{0} k_{x} + X_{1} k_{y} + X_{2} k_{z} - \\omega t\\right)} + 6 p_{0}{\\left(t,X_{0},X_{1},X_{2} \\right)} - 6 p_{1}{\\left(t,X_{0},X_{1},X_{2} \\right)} = 0 \\\\\n",
       "& 3 i \\bar{u_0} h_{c} k_{x} e^{i \\left(X_{0} k_{x} + X_{1} k_{y} + X_{2} k_{z} - \\omega t\\right)} + i \\bar{u_1} h_{c} k_{x} e^{i \\left(X_{0} k_{x} + X_{1} k_{y} + X_{2} k_{z} - \\omega t\\right)} + 6 \\bar{w_0} e^{i \\left(X_{0} k_{x} + X_{1} k_{y} + X_{2} k_{z} - \\omega t\\right)} = 0 \\\\\n",
       "& i \\bar{u_0} h_{c} k_{x} e^{i \\left(X_{0} k_{x} + X_{1} k_{y} + X_{2} k_{z} - \\omega t\\right)} - 2 \\bar{w_1} e^{i \\left(X_{0} k_{x} + X_{1} k_{y} + X_{2} k_{z} - \\omega t\\right)} = 0 \\\\\n",
       "& i \\bar{u_0} h_{c} k_{x} e^{i \\left(X_{0} k_{x} + X_{1} k_{y} + X_{2} k_{z} - \\omega t\\right)} + 2 \\bar{w_0} e^{i \\left(X_{0} k_{x} + X_{1} k_{y} + X_{2} k_{z} - \\omega t\\right)} + 2 w_{2}{\\left(t,X_{0},X_{1},X_{2} \\right)} = 0\\end{align*}$$"
      ],
      "text/plain": [
       "<IPython.core.display.Latex object>"
      ]
     },
     "metadata": {},
     "output_type": "display_data"
    }
   ],
   "source": [
    "analyzer.print_equations()"
   ]
  },
  {
   "cell_type": "code",
   "execution_count": 10,
   "id": "9f4d3854",
   "metadata": {},
   "outputs": [
    {
     "data": {
      "image/png": "[encoded data removed]",
      "text/latex": [
       "$\\displaystyle \\left\\{ p_{0}{\\left(t,X_{0},X_{1},X_{2} \\right)} : - \\frac{i \\bar{w_0} h_{c} \\omega e^{i X_{0} k_{x}} e^{i X_{1} k_{y}} e^{i X_{2} k_{z}} e^{- i \\omega t}}{2} + \\frac{i \\bar{w_1} h_{c} \\omega e^{i X_{0} k_{x}} e^{i X_{1} k_{y}} e^{i X_{2} k_{z}} e^{- i \\omega t}}{6}, \\  p_{1}{\\left(t,X_{0},X_{1},X_{2} \\right)} : - \\frac{i \\bar{w_0} h_{c} \\omega e^{i X_{0} k_{x}} e^{i X_{1} k_{y}} e^{i X_{2} k_{z}} e^{- i \\omega t}}{2}, \\  w_{2}{\\left(t,X_{0},X_{1},X_{2} \\right)} : - \\frac{i \\bar{u_0} h_{c} k_{x} e^{i X_{0} k_{x}} e^{i X_{1} k_{y}} e^{i X_{2} k_{z}} e^{- i \\omega t}}{2} - \\bar{w_0} e^{i X_{0} k_{x}} e^{i X_{1} k_{y}} e^{i X_{2} k_{z}} e^{- i \\omega t}\\right\\}$"
      ],
      "text/plain": [
       "⎧                                        ⅈ⋅X₀⋅kₓ  ⅈ⋅X₁⋅k_y  ⅈ⋅X₂⋅k_z  -ⅈ⋅ω⋅t   ↪\n",
       "⎪                     ⅈ⋅\\bar{w_0}⋅h_c⋅ω⋅ℯ       ⋅ℯ        ⋅ℯ        ⋅ℯ         ↪\n",
       "⎨p₀(t, X₀, X₁, X₂): - ────────────────────────────────────────────────────── + ↪\n",
       "⎪                                               2                              ↪\n",
       "⎩                                                                              ↪\n",
       "\n",
       "↪                     ⅈ⋅X₀⋅kₓ  ⅈ⋅X₁⋅k_y  ⅈ⋅X₂⋅k_z  -ⅈ⋅ω⋅t                      ↪\n",
       "↪  ⅈ⋅\\bar{w_1}⋅h_c⋅ω⋅ℯ       ⋅ℯ        ⋅ℯ        ⋅ℯ                            ↪\n",
       "↪  ──────────────────────────────────────────────────────, p₁(t, X₀, X₁, X₂):  ↪\n",
       "↪                            6                                                 ↪\n",
       "↪                                                                              ↪\n",
       "\n",
       "↪                     ⅈ⋅X₀⋅kₓ  ⅈ⋅X₁⋅k_y  ⅈ⋅X₂⋅k_z  -ⅈ⋅ω⋅t                      ↪\n",
       "↪ -ⅈ⋅\\bar{w_0}⋅h_c⋅ω⋅ℯ       ⋅ℯ        ⋅ℯ        ⋅ℯ                            ↪\n",
       "↪ ────────────────────────────────────────────────────────, w₂(t, X₀, X₁, X₂): ↪\n",
       "↪                            2                                                 ↪\n",
       "↪                                                                              ↪\n",
       "\n",
       "↪                        ⅈ⋅X₀⋅kₓ  ⅈ⋅X₁⋅k_y  ⅈ⋅X₂⋅k_z  -ⅈ⋅ω⋅t                   ↪\n",
       "↪    ⅈ⋅\\bar{u_0}⋅h_c⋅kₓ⋅ℯ       ⋅ℯ        ⋅ℯ        ⋅ℯ                    ⅈ⋅X₀ ↪\n",
       "↪  - ─────────────────────────────────────────────────────── - \\bar{w_0}⋅ℯ     ↪\n",
       "↪                               2                                              ↪\n",
       "↪                                                                              ↪\n",
       "\n",
       "↪                                ⎫\n",
       "↪ ⋅kₓ  ⅈ⋅X₁⋅k_y  ⅈ⋅X₂⋅k_z  -ⅈ⋅ω⋅t⎪\n",
       "↪    ⋅ℯ        ⋅ℯ        ⋅ℯ      ⎬\n",
       "↪                                ⎪\n",
       "↪                                ⎭"
      ]
     },
     "execution_count": 10,
     "metadata": {},
     "output_type": "execute_result"
    }
   ],
   "source": [
    "analyzer.solve_for_constraints([3, 4, 7], [p0, p1, w2])"
   ]
  },
  {
   "cell_type": "code",
   "execution_count": 11,
   "id": "c9a17303",
   "metadata": {},
   "outputs": [
    {
     "data": {
      "text/latex": [
       "$$\\begin{align*}\n",
       "& - i \\bar{h} \\omega e^{i \\left(X_{0} k_{x} + X_{1} k_{y} + X_{2} k_{z} - \\omega t\\right)} + i \\bar{u_0} h_{c} k_{x} e^{i \\left(X_{0} k_{x} + X_{1} k_{y} + X_{2} k_{z} - \\omega t\\right)} = 0 \\\\\n",
       "& h_{c} \\left(i \\bar{h} g k_{x} e^{i \\left(X_{0} k_{x} + X_{1} k_{y} + X_{2} k_{z} - \\omega t\\right)} - i \\bar{u_0} \\omega e^{i \\left(X_{0} k_{x} + X_{1} k_{y} + X_{2} k_{z} - \\omega t\\right)} + \\frac{\\bar{w_0} h_{c} k_{x} \\omega e^{i X_{0} k_{x}} e^{i X_{1} k_{y}} e^{i X_{2} k_{z}} e^{- i \\omega t}}{2} - \\frac{\\bar{w_1} h_{c} k_{x} \\omega e^{i X_{0} k_{x}} e^{i X_{1} k_{y}} e^{i X_{2} k_{z}} e^{- i \\omega t}}{6}\\right) = 0 \\\\\n",
       "& h_{c} \\left(- i \\bar{u_1} \\omega e^{i \\left(X_{0} k_{x} + X_{1} k_{y} + X_{2} k_{z} - \\omega t\\right)} + \\frac{\\bar{w_0} h_{c} k_{x} \\omega e^{i X_{0} k_{x}} e^{i X_{1} k_{y}} e^{i X_{2} k_{z}} e^{- i \\omega t}}{2}\\right) = 0 \\\\\n",
       "& 3 i \\bar{u_0} h_{c} k_{x} e^{i \\left(X_{0} k_{x} + X_{1} k_{y} + X_{2} k_{z} - \\omega t\\right)} + i \\bar{u_1} h_{c} k_{x} e^{i \\left(X_{0} k_{x} + X_{1} k_{y} + X_{2} k_{z} - \\omega t\\right)} + 6 \\bar{w_0} e^{i \\left(X_{0} k_{x} + X_{1} k_{y} + X_{2} k_{z} - \\omega t\\right)} = 0 \\\\\n",
       "& i \\bar{u_0} h_{c} k_{x} e^{i \\left(X_{0} k_{x} + X_{1} k_{y} + X_{2} k_{z} - \\omega t\\right)} - 2 \\bar{w_1} e^{i \\left(X_{0} k_{x} + X_{1} k_{y} + X_{2} k_{z} - \\omega t\\right)} = 0\\end{align*}$$"
      ],
      "text/plain": [
       "<IPython.core.display.Latex object>"
      ]
     },
     "metadata": {},
     "output_type": "display_data"
    }
   ],
   "source": [
    "analyzer.print_equations()"
   ]
  },
  {
   "cell_type": "code",
   "execution_count": 12,
   "id": "2082e0e4",
   "metadata": {},
   "outputs": [],
   "source": [
    "analyzer.remove_exponential()"
   ]
  },
  {
   "cell_type": "code",
   "execution_count": 13,
   "id": "c17a14b0",
   "metadata": {},
   "outputs": [
    {
     "data": {
      "text/latex": [
       "$$\\begin{align*}\n",
       "& i \\left(- \\bar{h} \\omega + \\bar{u_0} h_{c} k_{x}\\right) = 0 \\\\\n",
       "& \\frac{h_{c} \\left(6 i \\bar{h} g k_{x} - 6 i \\bar{u_0} \\omega + 3 \\bar{w_0} h_{c} k_{x} \\omega - \\bar{w_1} h_{c} k_{x} \\omega\\right)}{6} = 0 \\\\\n",
       "& \\frac{h_{c} \\omega \\left(- 2 i \\bar{u_1} + \\bar{w_0} h_{c} k_{x}\\right)}{2} = 0 \\\\\n",
       "& 3 i \\bar{u_0} h_{c} k_{x} + i \\bar{u_1} h_{c} k_{x} + 6 \\bar{w_0} = 0 \\\\\n",
       "& i \\bar{u_0} h_{c} k_{x} - 2 \\bar{w_1} = 0\\end{align*}$$"
      ],
      "text/plain": [
       "<IPython.core.display.Latex object>"
      ]
     },
     "metadata": {},
     "output_type": "display_data"
    }
   ],
   "source": [
    "analyzer.print_equations()"
   ]
  },
  {
   "cell_type": "code",
   "execution_count": 14,
   "id": "8b7dcb8f",
   "metadata": {},
   "outputs": [
    {
     "data": {
      "image/png": "[encoded data removed]",
      "text/latex": [
       "$\\displaystyle \\left[ 0, \\  - 2 \\sqrt{3} k_{x} \\sqrt{\\frac{g h_{c} \\left(h_{c}^{2} k_{x}^{2} + 12\\right)}{h_{c}^{4} k_{x}^{4} + 60 h_{c}^{2} k_{x}^{2} + 144}}, \\  2 \\sqrt{3} k_{x} \\sqrt{\\frac{g h_{c} \\left(h_{c}^{2} k_{x}^{2} + 12\\right)}{h_{c}^{4} k_{x}^{4} + 60 h_{c}^{2} k_{x}^{2} + 144}}\\right]$"
      ],
      "text/plain": [
       "⎡                  ______________________________                _____________ ↪\n",
       "⎢                 ╱          ⎛   2   2     ⎞                    ╱          ⎛   ↪\n",
       "⎢                ╱     g⋅h_c⋅⎝h_c ⋅kₓ  + 12⎠                   ╱     g⋅h_c⋅⎝h_ ↪\n",
       "⎢0, -2⋅√3⋅kₓ⋅   ╱   ──────────────────────────── , 2⋅√3⋅kₓ⋅   ╱   ──────────── ↪\n",
       "⎢              ╱       4   4         2   2                   ╱       4   4     ↪\n",
       "⎣            ╲╱     h_c ⋅kₓ  + 60⋅h_c ⋅kₓ  + 144           ╲╱     h_c ⋅kₓ  + 6 ↪\n",
       "\n",
       "↪ _________________⎤\n",
       "↪  2   2     ⎞     ⎥\n",
       "↪ c ⋅kₓ  + 12⎠     ⎥\n",
       "↪ ──────────────── ⎥\n",
       "↪      2   2       ⎥\n",
       "↪ 0⋅h_c ⋅kₓ  + 144 ⎦"
      ]
     },
     "execution_count": 14,
     "metadata": {},
     "output_type": "execute_result"
    }
   ],
   "source": [
    "dispersion_relation = analyzer.solve_for_dispersion_relation()\n",
    "dispersion_relation"
   ]
  },
  {
   "cell_type": "code",
   "execution_count": 15,
   "id": "b75e8cef",
   "metadata": {},
   "outputs": [
    {
     "data": {
      "image/png": "[encoded data removed]",
      "text/latex": [
       "$\\displaystyle \\frac{12 k_{x}^{2} \\left(h_{c}^{2} k_{x}^{2} + 12\\right)}{h_{c}^{4} k_{x}^{4} + 60 h_{c}^{2} k_{x}^{2} + 144}$"
      ],
      "text/plain": [
       "        2 ⎛   2   2     ⎞   \n",
       "   12⋅kₓ ⋅⎝h_c ⋅kₓ  + 12⎠   \n",
       "────────────────────────────\n",
       "   4   4         2   2      \n",
       "h_c ⋅kₓ  + 60⋅h_c ⋅kₓ  + 144"
      ]
     },
     "execution_count": 15,
     "metadata": {},
     "output_type": "execute_result"
    }
   ],
   "source": [
    "group_velocity = dispersion_relation[1]**2 / model.parameters.g / h0\n",
    "group_velocity"
   ]
  },
  {
   "cell_type": "markdown",
   "id": "4ed0fb6b",
   "metadata": {},
   "source": [
    "## Numerical solution"
   ]
  },
  {
   "cell_type": "code",
   "execution_count": 16,
   "id": "fbecce08",
   "metadata": {},
   "outputs": [],
   "source": [
    "class VAMPoisson(Model):\n",
    "    def __init__(\n",
    "        self,\n",
    "        boundary_conditions,\n",
    "        initial_conditions,\n",
    "        dimension=1,\n",
    "        fields=['p0', 'p1'],\n",
    "        aux_fields=['dp0dx', 'ddp0dxx', 'dp1dx', 'ddp1dxx', 'd4p0dx4', 'd4p1dx4', 'h', 'dbdx', 'ddbdxx', 'dhdx', 'ddhdxx', 'u0', 'du0dx', 'w0', 'w1', 'u1', 'du1dx', 'dt'],\n",
    "        parameters={},\n",
    "        parameters_default={\"g\": 9.81},\n",
    "        settings={},\n",
    "        settings_default={},\n",
    "    ):\n",
    "        self.variables = register_sympy_attribute(fields, \"q\")\n",
    "        self.n_fields = self.variables.length()\n",
    "        super().__init__(\n",
    "            dimension=dimension,\n",
    "            fields=fields,\n",
    "            aux_fields=aux_fields,\n",
    "            parameters=parameters,\n",
    "            parameters_default=parameters_default,\n",
    "            boundary_conditions=boundary_conditions,\n",
    "            initial_conditions=initial_conditions,\n",
    "            settings={**settings_default, **settings},\n",
    "        )\n",
    "\n",
    "    def source_implicit(self):\n",
    "        R = Matrix([0 for i in range(self.n_fields)])\n",
    "\n",
    "        h = self.aux_variables.h\n",
    "        p0 = self.variables.p0\n",
    "        p1 = self.variables.p1\n",
    "        dt = self.aux_variables.dt\n",
    "\n",
    "        dbdx   = self.aux_variables.dbdx\n",
    "        ddbdxx = self.aux_variables.ddbdxx\n",
    "\n",
    "        dhdx   = self.aux_variables.dhdx\n",
    "        ddhdxx = self.aux_variables.ddhdxx\n",
    "        \n",
    "        dp0dx = self.aux_variables.dp0dx\n",
    "        dp1dx = self.aux_variables.dp1dx\n",
    "        ddp0dxx = self.aux_variables.ddp0dxx\n",
    "        ddp1dxx = self.aux_variables.ddp1dxx\n",
    "\n",
    "        d4p0dx4 = self.aux_variables.d4p0dx4\n",
    "        d4p1dx4 = self.aux_variables.d4p1dx4\n",
    "        \n",
    "        \n",
    "        #Note, these are not truly the values from the old time step, but rather the values from the middle state after hyperbolic step\n",
    "        oldu0 = self.aux_variables.u0\n",
    "        doldu0dx = self.aux_variables.du0dx\n",
    "        oldw1 = self.aux_variables.w1\n",
    "        oldw0 = self.aux_variables.w0\n",
    "        oldu1 = self.aux_variables.u1\n",
    "        doldu1dx = self.aux_variables.du1dx\n",
    "\n",
    "        I1 = -1/3*dt*(-(3*p0 - p1)*ddhdxx - (6*p0 - 6*p1)*ddbdxx - (3*dp0dx - dp1dx)*dhdx - (6*dp0dx - 6*dp1dx)*dbdx + h*ddp1dxx + p1*ddhdxx + 2*dhdx*dp1dx) - 2*(-dt*(h*dp0dx + p0*dhdx + 2*p1*dbdx) + h*oldu0)*dbdx/h + 1/3*(-dt*(-(3*p0 - p1)*dhdx - (6*p0 - 6*p1)*dbdx + h*dp1dx + p1*dhdx) + h*oldu1)*dhdx/h + 2*(2*dt*p1 + h*oldw0)/h + (-(-dt*(h*dp0dx + p0*dhdx + 2*p1*dbdx) + h*oldu0)*dhdx/h**2 + (-dt*(h*ddp0dxx + p0*ddhdxx + 2*p1*ddbdxx + 2*dbdx*dp1dx + 2*dhdx*dp0dx) + h*doldu0dx + oldu0*dhdx)/h)*h + 1/3*h*doldu1dx + 1/3*oldu1*dhdx\n",
    "        I2 =-2*(-dt*(6*p0 - 6*p1) + h*oldw1)/h + 2*(-dt*(-(3*p0 - p1)*dhdx - (6*p0 - 6*p1)*dbdx + h*dp1dx + p1*dhdx) + h*oldu1)*dbdx/h + (-dt*(-(3*p0 - p1)*dhdx - (6*p0 - 6*p1)*dbdx + h*dp1dx + p1*dhdx) + h*oldu1)*dhdx/h + (-(-dt*(h*dp0dx + p0*dhdx + 2*p1*dbdx) + h*oldu0)*dhdx/h**2 + (-dt*(h*ddp0dxx + p0*ddhdxx + 2*p1*ddbdxx + 2*dbdx*dp1dx + 2*dhdx*dp0dx) + h*doldu0dx + oldu0*dhdx)/h)*h \n",
    "        R[0] = I1 \n",
    "        R[1] = I2\n",
    "\n",
    "        return R\n",
    "    \n",
    "    def eigenvalues(self):\n",
    "        ev = Matrix([0 for i in range(self.n_fields)])\n",
    "        return ev\n"
   ]
  },
  {
   "cell_type": "markdown",
   "id": "cdcd4eea",
   "metadata": {},
   "source": [
    "### Solver definitions"
   ]
  },
  {
   "cell_type": "code",
   "execution_count": 17,
   "id": "05937caa",
   "metadata": {},
   "outputs": [],
   "source": [
    "class HyperbolicSolver(HyperbolicSolver):\n",
    "\n",
    "    def update_qaux(self, Q, Qaux, Qold, Qauxold, mesh, model, parameters, time, dt):\n",
    "\n",
    "        h=Q[0]\n",
    "        hu0=Q[1]\n",
    "        hu1=Q[2]\n",
    "        hw0=Q[3]\n",
    "        hw1=Q[4]\n",
    "        b=Q[5]\n",
    "        \n",
    "        w0 = hw0 / h\n",
    "        w1 = hw1 / h\n",
    "        u0 = hu0 / h\n",
    "        u1 = hu1 / h\n",
    "        # aux_fields=['hw2', 'p0', 'p1', 'dbdx', 'dhdx', 'dhp0dx', 'dhp1dx'],\n",
    "\n",
    "        dbdx  = compute_derivatives(b, mesh, derivatives_multi_index=([[1]]))[:,0]\n",
    "        Qaux = Qaux.at[3].set(dbdx)\n",
    "        \n",
    "        hw2 = h*(-(w0 + w1) + (u0 + u1) * dbdx)\n",
    "        Qaux = Qaux.at[0].set(hw2)\n",
    "        \n",
    "        \n",
    "        dhdx   = compute_derivatives(h, mesh, derivatives_multi_index=([[1]]))[:, 0]\n",
    "        Qaux = Qaux.at[4].set(dhdx)\n",
    "        return Qaux\n",
    "    \n",
    "    # @partial(jax.jit, static_argnames=[\"self\", \"mesh\", \"pde\"])\n",
    "    def compute_source_pressure(self, mesh, pde):\n",
    "        @jax.jit\n",
    "        def f(dt, Q, Qaux, parameters):\n",
    "            dQ = jnp.zeros_like(Q)\n",
    "            dQ = dQ.at[:, : mesh.n_inner_cells].set(\n",
    "                pde.source_implicit(\n",
    "                    Q[:, : mesh.n_inner_cells],\n",
    "                    Qaux[:, : mesh.n_inner_cells],\n",
    "                    parameters,\n",
    "                )\n",
    "            )\n",
    "            return Q + dt * dQ\n",
    "        return f\n"
   ]
  },
  {
   "cell_type": "code",
   "execution_count": 18,
   "id": "6485e0cc",
   "metadata": {},
   "outputs": [
    {
     "ename": "NameError",
     "evalue": "name 'Solver' is not defined",
     "output_type": "error",
     "traceback": [
      "\u001b[31m---------------------------------------------------------------------------\u001b[39m",
      "\u001b[31mNameError\u001b[39m                                 Traceback (most recent call last)",
      "\u001b[36mCell\u001b[39m\u001b[36m \u001b[39m\u001b[32mIn[18]\u001b[39m\u001b[32m, line 1\u001b[39m\n\u001b[32m----> \u001b[39m\u001b[32m1\u001b[39m \u001b[38;5;28;01mclass\u001b[39;00m\u001b[38;5;250m \u001b[39m\u001b[34;01mPoissonSolver\u001b[39;00m(\u001b[43mSolver\u001b[49m):\n\u001b[32m      2\u001b[39m     \u001b[38;5;28;01mdef\u001b[39;00m\u001b[38;5;250m \u001b[39m\u001b[34mupdate_qaux\u001b[39m(\u001b[38;5;28mself\u001b[39m, Q, Qaux, Qold, Qauxold, mesh, model, parameters, time, dt):\n\u001b[32m      4\u001b[39m         p0 = Q[\u001b[32m0\u001b[39m]\n",
      "\u001b[31mNameError\u001b[39m: name 'Solver' is not defined"
     ]
    }
   ],
   "source": [
    "class PoissonSolver(Solver):\n",
    "    def update_qaux(self, Q, Qaux, Qold, Qauxold, mesh, model, parameters, time, dt):\n",
    "\n",
    "        p0 = Q[0]\n",
    "        p1 = Q[1]\n",
    "        \n",
    "\n",
    "        #  aux_fields=[ 'dp0dx', 'ddp0dxx', 'dp1dx', 'ddp1dxx', 'h', 'dbdx', 'ddbdxx', 'dhdx', 'ddhdxx', 'u0', 'du0dx', 'w0', 'w1', 'u1', 'du1dx', 'dt'],\n",
    "\n",
    "        dp0dx = compute_derivatives(p0, mesh, derivatives_multi_index=([[1]]))[:, 0]\n",
    "        ddp0dxx = compute_derivatives(p0, mesh, derivatives_multi_index=([[2]]))[:, 0]\n",
    "        dp1dx = compute_derivatives(p1, mesh, derivatives_multi_index=([[1]]))[:, 0]\n",
    "        ddp1dxx = compute_derivatives(p1, mesh, derivatives_multi_index=([[2]]))[:, 0]\n",
    "\n",
    "        d4p0dx4 = compute_derivatives(p0, mesh, derivatives_multi_index=([[4]]))[:, 0]\n",
    "        d4p1dx4 = compute_derivatives(p1, mesh, derivatives_multi_index=([[4]]))[:, 0]\n",
    "\n",
    "        Qaux = Qaux.at[0].set(dp0dx)\n",
    "        Qaux = Qaux.at[1].set(ddp0dxx)\n",
    "        Qaux = Qaux.at[2].set(dp1dx)\n",
    "        Qaux = Qaux.at[3].set(ddp1dxx)\n",
    "        Qaux = Qaux.at[4].set(d4p0dx4)\n",
    "        Qaux = Qaux.at[5].set(d4p1dx4)\n",
    "\n",
    "        return Qaux\n"
   ]
  },
  {
   "cell_type": "code",
   "execution_count": null,
   "id": "d2393202",
   "metadata": {},
   "outputs": [],
   "source": [
    "def solve_vam(\n",
    "    mesh, model1, model2, settings\n",
    "):\n",
    "    solverQ = HyperbolicSolver(settings)\n",
    "    solverP = PoissonSolver(settings)\n",
    "    \n",
    "    Q, Qaux = solverQ.initialize(model1, mesh)\n",
    "    P, Paux = solverP.initialize(model2, mesh)\n",
    "\n",
    "    parameters1 = model1.parameter_values\n",
    "    parameters2 = model2.parameter_values\n",
    "\n",
    "    parameters1 = jnp.asarray(parameters1)\n",
    "    parameters2 = jnp.asarray(parameters2)\n",
    "    \n",
    "    mesh = convert_mesh_to_jax(mesh)\n",
    "\n",
    "\n",
    "    pde1, bcs1 = solverQ.transform_in_place(model1)\n",
    "    pde2, bcs2 = solverP.transform_in_place(model2)\n",
    "    output_hdf5_path = os.path.join(settings.output.directory, f\"{settings.name}.h5\")\n",
    "    save_fields = io.get_save_fields(output_hdf5_path, settings.output_write_all)\n",
    "\n",
    "    def run(Q, Qaux, parameters1, pde1, bcs1, P, Paux, parameters2, pde2, bcs2):\n",
    "        iteration = 0.0\n",
    "        time = 0.0\n",
    "        assert model1.dimension == mesh.dimension\n",
    "        assert model2.dimension == mesh.dimension\n",
    "\n",
    "        i_snapshot = 0.0\n",
    "        dt_snapshot = settings.time_end / (settings.output_snapshots - 1)\n",
    "        io.init_output_directory(settings.output.directory, settings.output_clean_dir)\n",
    "        mesh.write_to_hdf5(output_hdf5_path)\n",
    "        _ = save_fields(time, 0.0, i_snapshot, Q, Qaux)\n",
    "        i_snapshot = save_fields(time, 0.0, i_snapshot, Q, Qaux)\n",
    "\n",
    "        Q0 = Q\n",
    "        Qnew = Q\n",
    "        Pnew = P\n",
    "        Qauxnew = Qaux\n",
    "        Pauxnew = Paux\n",
    "\n",
    "        min_inradius = jnp.min(mesh.cell_inradius)\n",
    "\n",
    "\n",
    "        compute_max_abs_eigenvalue = solverQ.get_compute_max_abs_eigenvalue(\n",
    "            mesh, pde1, settings\n",
    "        )\n",
    "        flux_operator = solverQ.get_flux_operator(\n",
    "            mesh, pde1, bcs1, settings\n",
    "        )\n",
    "        source_operator = solverQ.get_compute_source(mesh, pde1, settings)\n",
    "        boundary_operator1 = solverQ.get_apply_boundary_conditions(mesh, bcs1)\n",
    "        \n",
    "        source_operator2 = solverP.get_compute_source(mesh, pde2, settings)\n",
    "        boundary_operator2 = solverP.get_apply_boundary_conditions(mesh, bcs2)\n",
    "        \n",
    "        pressure_correction = solverQ.compute_source_pressure(mesh, pde1)\n",
    "\n",
    "        time_start = gettime()\n",
    "\n",
    "        @jax.jit\n",
    "        def time_loop(time, iteration, i_snapshot, Q, Qaux, Pnew, Paux, Qold, Qauxold, Pold, Pauxold):\n",
    "            loop_val = (time, iteration, i_snapshot, Q, Qaux, Pnew, Paux, Qold, Qauxold, Pold, Pauxold)\n",
    "\n",
    "            def loop_body(init_value):\n",
    "                time, iteration, i_snapshot, Q, Qaux, P, Paux, Qold, Qauxold, Pold, Pauxold = init_value\n",
    "\n",
    "                dt = settings.compute_dt(\n",
    "                    Q, Qaux, parameters1, min_inradius, compute_max_abs_eigenvalue\n",
    "                )\n",
    "                \n",
    "                def step(Q, Qaux, P, Paux):\n",
    "\n",
    "                    #############################################################\n",
    "                    #####################VELOCITY PREDICTOR######################\n",
    "                    #############################################################\n",
    "                    Qauxnew = solverQ.update_qaux(\n",
    "                        Q, Qaux, Qold, Qauxold, mesh, pde1, parameters1, time, dt\n",
    "                    )\n",
    "                    Q1 = ode_solver_flux(\n",
    "                        flux_operator, Q, Qauxnew, parameters1, dt\n",
    "                    )\n",
    "\n",
    "                    Q1 = Q1.at[5].set(Q0[5])\n",
    "\n",
    "                    Qauxnew = solverQ.update_qaux(\n",
    "                        Q1, Qauxnew, Qold, Qauxold, mesh, pde1, parameters1, time, dt\n",
    "                    )\n",
    "                    #Qnew = ode_solver_source(\n",
    "                    #    source_operator,\n",
    "                    #    Q1,\n",
    "                    #    Qauxnew,\n",
    "                    #    parameters1,\n",
    "                    #    dt,\n",
    "                    #    func_jac=solverQ.compute_source_jac,\n",
    "                    #)\n",
    "\n",
    "                    #Qauxnew = solverQ.update_qaux(\n",
    "                    #    Qnew, Qauxnew, Q, Qaux, mesh, pde1, parameters1, time, dt\n",
    "                    #)\n",
    "                    Qnew = Q1\n",
    "                    Qnew = boundary_operator1(time, Qnew, Qauxnew, parameters1)\n",
    "\n",
    "\n",
    "                    #############################################################\n",
    "                    #########################PRESSURE############################\n",
    "                    #############################################################\n",
    "                    \n",
    "                    #        aux_fields=['dp0dx', 'ddp0dxx', 'dp1dx', 'ddp1dxx','h', 'dbdx', 'ddbdxx', 'dhdx', 'ddhdxx', 'u0', 'du0dx', 'w0', 'w1', 'u1', 'du1dx'],\n",
    "                    #         aux_fields=['hw2', 'p0', 'p1', 'dbdx', 'dhdx', 'dhp0dx', 'dhp1dx'],\n",
    "\n",
    "                    h = Q[0]\n",
    "                    u0 = Q[1]/h\n",
    "                    u1 = Q[2]/h\n",
    "                    w0 = Q[3]/h\n",
    "                    w1 = Q[4]/h\n",
    "                    b = Q[5]\n",
    "                    \n",
    "                    dbdx = Qaux[3]\n",
    "                    ddbdxx = compute_derivatives(b, mesh, derivatives_multi_index=([[2]]))[:, 0]\n",
    "                    dhdx = Qaux[4]\n",
    "                    ddhdxx = compute_derivatives(h, mesh, derivatives_multi_index=([[2]]))[:, 0]\n",
    "                    du0dx = compute_derivatives(u0, mesh, derivatives_multi_index=([[1]]))[:, 0]\n",
    "                    du1dx = compute_derivatives(u1, mesh, derivatives_multi_index=([[1]]))[:, 0]\n",
    "\n",
    "                    offset = 2\n",
    "                    Paux = Paux.at[4+offset].set(h)\n",
    "                    Paux = Paux.at[5+offset].set(dbdx)\n",
    "                    Paux = Paux.at[6+offset].set(ddbdxx)\n",
    "                    Paux = Paux.at[7+offset].set(dhdx)\n",
    "                    Paux = Paux.at[8+offset].set(ddhdxx)\n",
    "                    Paux = Paux.at[9+offset].set(u0)\n",
    "                    Paux = Paux.at[10+offset].set(du0dx)\n",
    "                    Paux = Paux.at[11+offset].set(w0)\n",
    "                    Paux = Paux.at[12+offset].set(w1)\n",
    "                    Paux = Paux.at[13+offset].set(u1)\n",
    "                    Paux = Paux.at[14+offset].set(du1dx)\n",
    "                    Paux = Paux.at[15+offset].set(dt)\n",
    "\n",
    "                    Paux = solverP.update_qaux(\n",
    "                        P, Paux, Pold, Pauxold, mesh, pde2, parameters2, time, dt\n",
    "                    )\n",
    "\n",
    "                    def residual(P):\n",
    "\n",
    "                    \n",
    "                        # dp0dx = compute_derivatives(P[0], mesh, derivatives_multi_index=([[1]]))[:, 0]\n",
    "                        # ddp0dxx = compute_derivatives(P[0], mesh, derivatives_multi_index=([[2]]))[:, 0]\n",
    "                        # dp1dx = compute_derivatives(P[1], mesh, derivatives_multi_index=([[1]]))[:, 0]\n",
    "                        # ddp1dxx = compute_derivatives(P[1], mesh, derivatives_multi_index=([[2]]))[:, 0]\n",
    "\n",
    "\n",
    "                        paux = solverP.update_qaux(P, Paux, Pold, Pauxold, mesh, pde2, parameters2, time, dt)\n",
    "\n",
    "                        res = pde2.source_implicit(P, paux, parameters2)\n",
    "                        res = res.at[:, mesh.n_inner_cells:].set(0.)\n",
    "                        return res\n",
    "\n",
    "\n",
    "                    Pnew = solverP.implicit_solve(P, Paux, Pold, Pauxold, mesh, model2, pde2, parameters2, time, dt, boundary_operator2, debug=[True, False], user_residual=residual)\n",
    "\n",
    "                    ############################################################\n",
    "                    ########################CORRECTOR###########################\n",
    "                    ############################################################\n",
    "                    \n",
    "                    #         aux_fields=['hw2', 'p0', 'p1', 'dbdx', 'dhdx', 'dhp0dx', 'dhp1dx'],\n",
    "                    Pauxnew = solverP.update_qaux(\n",
    "                        Pnew, Paux, Pold, Pauxold, mesh, pde2, parameters2, time, dt\n",
    "                    )\n",
    "                    Qauxnew = Qauxnew.at[1].set(Pnew[0])\n",
    "                    Qauxnew = Qauxnew.at[2].set(Pnew[1])\n",
    "                    h =  Qnew[0]\n",
    "                    \n",
    "                    dhp0dx = compute_derivatives(h*Pnew[0], mesh, derivatives_multi_index=([[1]]))[:, 0]\n",
    "                    dhp1dx = compute_derivatives(h*Pnew[1], mesh, derivatives_multi_index=([[1]]))[:, 0]\n",
    "\n",
    "                    Qauxnew = Qauxnew.at[5].set(dhp0dx)\n",
    "                    Qauxnew = Qauxnew.at[6].set(dhp1dx)\n",
    "                    # Qauxnew = solverQ.update_qaux(\n",
    "                    #     Qnew, Qauxnew, Qold, Qauxold, mesh, pde1, parameters1, time, dt\n",
    "                    # )\n",
    "                    # Qnew = boundary_operator1(time, Qnew, Qauxnew, parameters1)\n",
    "\n",
    "                    Qnew = pressure_correction(dt, Qnew, Qauxnew, parameters1)\n",
    "                    Qauxnew = solverQ.update_qaux(\n",
    "                        Qnew, Qauxnew, Qold, Qauxold, mesh, pde1, parameters1, time, dt\n",
    "                    )\n",
    "                    Qnew = boundary_operator1(time, Qnew, Qauxnew, parameters1)\n",
    "                    return Qnew, Qauxnew, Pnew, Pauxnew\n",
    "            \n",
    "                Qnew, Qauxnew, Pnew, Pauxnew = step(Q, Qaux, P, Paux)\n",
    "                Qnew, Qauxnew, Pnew, Pauxnew = step(Qnew, Qauxnew, Pnew, Pauxnew)\n",
    "                Qnew = 0.5 * (Qold + Qnew)\n",
    "                Pnew = 0.5 * (Pold + Pnew)\n",
    "                Qauxnew = solverQ.update_qaux(\n",
    "                    Qnew, Qauxnew, Qold, Qauxold, mesh, pde1, parameters1, time, dt)\n",
    "                \n",
    "                # Update solution and time\n",
    "                time += dt\n",
    "                iteration += 1\n",
    "                \n",
    "                time_stamp = (i_snapshot + 1) * dt_snapshot\n",
    "\n",
    "                jax.debug.print(\n",
    "                    \"iteration: {iteration}, time: {time}, dt: {dt}, i_snapshot: {i_snapshot}, time_stamp: {time_stamp}\",\n",
    "                    iteration=iteration,\n",
    "                    time=time,\n",
    "                    dt=dt,\n",
    "                    i_snapshot=i_snapshot,\n",
    "                    time_stamp=time_stamp\n",
    "                )\n",
    "                i_snapshot = save_fields(time, time_stamp, i_snapshot, Qnew, Qauxnew)\n",
    "\n",
    "\n",
    "                return (time, iteration, i_snapshot, Qnew, Qauxnew, Pnew, Pauxnew, Q, Qaux, P, Paux)\n",
    "\n",
    "            def proceed(loop_val):\n",
    "                time, iteration, i_snapshot, Q, Qaux, P, Paux, Qold, Qauxold, Pold, Pauxold = loop_val\n",
    "                return time < settings.time_end\n",
    "\n",
    "            (time, iteration, i_snapshot, Q, Qaux, P, Paux, Qold, Qauxold, Pold, Pauxold) = jax.lax.while_loop(\n",
    "                proceed, loop_body, loop_val\n",
    "            )\n",
    "            \n",
    "            return P, Paux\n",
    "\n",
    "        P, Paux = time_loop(time, iteration, i_snapshot, Qnew, Qauxnew, Pnew, Pauxnew, Q, Qaux, P, Paux)\n",
    "        return P, Paux\n",
    "\n",
    "    time_start = gettime()\n",
    "    P, Paux = run(Q, Qaux, parameters1, pde1, bcs1, P, Paux, parameters2, pde2, bcs2)\n",
    "\n",
    "    print(f\"Runtime: {gettime() - time_start}\")\n",
    "\n",
    "    return P, Paux\n",
    "\n"
   ]
  },
  {
   "cell_type": "markdown",
   "id": "e46c1988",
   "metadata": {},
   "source": [
    "### Simulation"
   ]
  },
  {
   "cell_type": "code",
   "execution_count": null,
   "id": "b58df51e",
   "metadata": {},
   "outputs": [
    {
     "ename": "TypeError",
     "evalue": "Solver.__init__() missing 1 required positional argument: 'settings'",
     "output_type": "error",
     "traceback": [
      "\u001b[31m---------------------------------------------------------------------------\u001b[39m",
      "\u001b[31mTypeError\u001b[39m                                 Traceback (most recent call last)",
      "\u001b[36mCell\u001b[39m\u001b[36m \u001b[39m\u001b[32mIn[20]\u001b[39m\u001b[32m, line 65\u001b[39m\n\u001b[32m     56\u001b[39m model2 = VAMPoisson(\n\u001b[32m     57\u001b[39m     parameters={\u001b[33m\"\u001b[39m\u001b[33mg\u001b[39m\u001b[33m\"\u001b[39m: \u001b[32m9.81\u001b[39m},\n\u001b[32m     58\u001b[39m     boundary_conditions=bcs2,\n\u001b[32m     59\u001b[39m     initial_conditions=ic2,\n\u001b[32m     60\u001b[39m     settings={},\n\u001b[32m     61\u001b[39m )\n\u001b[32m     63\u001b[39m mesh = petscMesh.Mesh.create_1d((-\u001b[32m1.5\u001b[39m, \u001b[32m1.5\u001b[39m), \u001b[32m60\u001b[39m, lsq_degree=\u001b[32m2\u001b[39m)\n\u001b[32m---> \u001b[39m\u001b[32m65\u001b[39m Q, Qaux = \u001b[43msolve_vam\u001b[49m\u001b[43m(\u001b[49m\n\u001b[32m     66\u001b[39m \u001b[43m    \u001b[49m\u001b[43mmesh\u001b[49m\u001b[43m,\u001b[49m\n\u001b[32m     67\u001b[39m \u001b[43m    \u001b[49m\u001b[43mmodel1\u001b[49m\u001b[43m,\u001b[49m\n\u001b[32m     68\u001b[39m \u001b[43m    \u001b[49m\u001b[43mmodel2\u001b[49m\u001b[43m,\u001b[49m\n\u001b[32m     69\u001b[39m \u001b[43m    \u001b[49m\u001b[43msettings\u001b[49m\u001b[43m,\u001b[49m\n\u001b[32m     70\u001b[39m \u001b[43m)\u001b[49m\n\u001b[32m     71\u001b[39m io.generate_vtk(os.path.join(settings.output.directory, \u001b[33mf\u001b[39m\u001b[33m\"\u001b[39m\u001b[38;5;132;01m{\u001b[39;00msettings.name\u001b[38;5;132;01m}\u001b[39;00m\u001b[33m.h5\u001b[39m\u001b[33m\"\u001b[39m))\n",
      "\u001b[36mCell\u001b[39m\u001b[36m \u001b[39m\u001b[32mIn[19]\u001b[39m\u001b[32m, line 4\u001b[39m, in \u001b[36msolve_vam\u001b[39m\u001b[34m(mesh, model1, model2, settings, ode_solver_flux, ode_solver_source)\u001b[39m\n\u001b[32m      1\u001b[39m \u001b[38;5;28;01mdef\u001b[39;00m\u001b[38;5;250m \u001b[39m\u001b[34msolve_vam\u001b[39m(\n\u001b[32m      2\u001b[39m     mesh, model1, model2, settings, ode_solver_flux=RK1, ode_solver_source=RK1\n\u001b[32m      3\u001b[39m ):\n\u001b[32m----> \u001b[39m\u001b[32m4\u001b[39m     solverQ = \u001b[43mHyperbolicSolver\u001b[49m\u001b[43m(\u001b[49m\u001b[43m)\u001b[49m\n\u001b[32m      5\u001b[39m     solverP = PoissonSolver()\n\u001b[32m      7\u001b[39m     Q, Qaux = solverQ.initialize(model1, mesh)\n",
      "\u001b[31mTypeError\u001b[39m: Solver.__init__() missing 1 required positional argument: 'settings'"
     ]
    }
   ],
   "source": [
    "settings = Settings(\n",
    "    name=\"VAM\",\n",
    "    compute_dt=timestepping.adaptive(CFL=0.4),\n",
    "    time_end=50.,\n",
    "    output_snapshots=100,\n",
    "    output_dir=\"outputs/vam\",\n",
    ")\n",
    "\n",
    "bc_tags = [\"left\", \"right\"]\n",
    "bc_tags_periodic_to = [\"right\", \"left\"]\n",
    "\n",
    "bcs1 = BC.BoundaryConditions(\n",
    "    [\n",
    "        BC.Lambda(physical_tag='left', prescribe_fields={\n",
    "            1: lambda t, x, dx, q, qaux, p, n: .11197,\n",
    "            2: lambda t, x, dx, q, qaux, p, n: 0.,\n",
    "            3: lambda t, x, dx, q, qaux, p, n: 0.,\n",
    "            4: lambda t, x, dx, q, qaux, p, n: 0.\n",
    "        }),\n",
    "        BC.Extrapolation(physical_tag='right')\n",
    "\n",
    "    ]\n",
    ")\n",
    "\n",
    "bcs2 = BC.BoundaryConditions(\n",
    "    [\n",
    "        BC.Extrapolation(physical_tag='left'),\n",
    "        BC.Extrapolation(physical_tag='right'),\n",
    "    ]\n",
    ")\n",
    "\n",
    "def custom_ic1(x):\n",
    "    Q = np.zeros(6, dtype=float)\n",
    "    Q[1] = np.where(x[0]-5 < 1, 0.0, 0.)\n",
    "    Q[5] = 0.20*np.exp(-(x[0]-0.)**2 / (2*0.2**2)) \n",
    "    Q[0] = np.where(x[0] < 1, 0.34, 0.015) - Q[5]\n",
    "    Q[0] = np.where(Q[0] > 0.015, Q[0], 0.015)\n",
    "    # Q[0] = np.where(x[0]**2 < 0.5, 0.2, 0.1)\n",
    "    return Q\n",
    "\n",
    "def custom_ic2(x):\n",
    "    Q = np.zeros(2, dtype=float)\n",
    "    return Q\n",
    "\n",
    "ic1 = IC.UserFunction(custom_ic1)\n",
    "ic2 = IC.UserFunction(custom_ic2)\n",
    "\n",
    "\n",
    "model1 = VAMHyperbolic(\n",
    "    parameters={\"g\": 9.81},\n",
    "    boundary_conditions=bcs1,\n",
    "    initial_conditions=ic1,\n",
    "    settings={},\n",
    ")\n",
    "\n",
    "model2 = VAMPoisson(\n",
    "    parameters={\"g\": 9.81},\n",
    "    boundary_conditions=bcs2,\n",
    "    initial_conditions=ic2,\n",
    "    settings={},\n",
    ")\n",
    "\n",
    "mesh = petscMesh.Mesh.create_1d((-1.5, 1.5), 60, lsq_degree=2)\n",
    "\n",
    "Q, Qaux = solve_vam(\n",
    "    mesh,\n",
    "    model1,\n",
    "    model2,\n",
    "    settings,\n",
    ")\n",
    "io.generate_vtk(os.path.join(settings.output.directory, f\"{settings.name}.h5\"))\n",
    "\n"
   ]
  },
  {
   "cell_type": "markdown",
   "id": "d28e11d9",
   "metadata": {},
   "source": [
    "### Visualization"
   ]
  },
  {
   "cell_type": "code",
   "execution_count": null,
   "id": "a2b1acac",
   "metadata": {},
   "outputs": [
    {
     "data": {
      "image/png": "[encoded data removed]",
      "text/plain": [
       "<Figure size 629.333x388.928 with 2 Axes>"
      ]
     },
     "metadata": {},
     "output_type": "display_data"
    }
   ],
   "source": [
    "fig = plots_paper.plot_vam(os.path.join(settings.output.directory, settings.name + \".h5\"))"
   ]
  }
 ],
 "metadata": {
  "kernelspec": {
   "display_name": "sms",
   "language": "python",
   "name": "python3"
  },
  "language_info": {
   "codemirror_mode": {
    "name": "ipython",
    "version": 3
   },
   "file_extension": ".py",
   "mimetype": "text/x-python",
   "name": "python",
   "nbconvert_exporter": "python",
   "pygments_lexer": "ipython3",
   "version": "3.12.9"
  }
 },
 "nbformat": 4,
 "nbformat_minor": 5
}
