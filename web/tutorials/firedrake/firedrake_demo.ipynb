{
 "cells": [
  {
   "cell_type": "raw",
   "id": "906eac95",
   "metadata": {
    "vscode": {
     "languageId": "raw"
    }
   },
   "source": [
    "---\n",
    "title: \"Firedrake Demo\"\n",
    "author: Ingo Steldermann\n",
    "date: 10/13/2025\n",
    "format:\n",
    "  html:\n",
    "    code-fold: false\n",
    "    code-tools: true\n",
    "    css: ../notebook.css\n",
    "---"
   ]
  },
  {
   "cell_type": "markdown",
   "id": "a700b01f",
   "metadata": {},
   "source": [
    "## Imports"
   ]
  },
  {
   "cell_type": "code",
   "execution_count": 1,
   "id": "601a29cb",
   "metadata": {},
   "outputs": [
    {
     "ename": "ModuleNotFoundError",
     "evalue": "No module named 'firedrake'",
     "output_type": "error",
     "traceback": [
      "\u001b[31m---------------------------------------------------------------------------\u001b[39m",
      "\u001b[31mModuleNotFoundError\u001b[39m                       Traceback (most recent call last)",
      "\u001b[36mCell\u001b[39m\u001b[36m \u001b[39m\u001b[32mIn[1]\u001b[39m\u001b[32m, line 14\u001b[39m\n\u001b[32m     12\u001b[39m \u001b[38;5;28;01mfrom\u001b[39;00m\u001b[38;5;250m \u001b[39m\u001b[34;01mlibrary\u001b[39;00m\u001b[34;01m.\u001b[39;00m\u001b[34;01mpython\u001b[39;00m\u001b[34;01m.\u001b[39;00m\u001b[34;01mmisc\u001b[39;00m\u001b[34;01m.\u001b[39;00m\u001b[34;01mmisc\u001b[39;00m\u001b[38;5;250m \u001b[39m\u001b[38;5;28;01mimport\u001b[39;00m Zstruct\n\u001b[32m     13\u001b[39m \u001b[38;5;28;01mimport\u001b[39;00m\u001b[38;5;250m \u001b[39m\u001b[34;01mlibrary\u001b[39;00m\u001b[34;01m.\u001b[39;00m\u001b[34;01mpython\u001b[39;00m\u001b[34;01m.\u001b[39;00m\u001b[34;01mtransformation\u001b[39;00m\u001b[34;01m.\u001b[39;00m\u001b[34;01mto_ufl\u001b[39;00m\u001b[38;5;250m \u001b[39m\u001b[38;5;28;01mas\u001b[39;00m\u001b[38;5;250m \u001b[39m\u001b[34;01mtrafo\u001b[39;00m\n\u001b[32m---> \u001b[39m\u001b[32m14\u001b[39m \u001b[38;5;28;01mimport\u001b[39;00m\u001b[38;5;250m \u001b[39m\u001b[34;01mlibrary\u001b[39;00m\u001b[34;01m.\u001b[39;00m\u001b[34;01mdg\u001b[39;00m\u001b[34;01m.\u001b[39;00m\u001b[34;01mfiredrake_solver\u001b[39;00m\u001b[38;5;250m \u001b[39m\u001b[38;5;28;01mas\u001b[39;00m\u001b[38;5;250m \u001b[39m\u001b[34;01mdg\u001b[39;00m\n",
      "\u001b[36mFile \u001b[39m\u001b[32m~/Git/Zoomy/library/dg/firedrake_solver.py:1\u001b[39m\n\u001b[32m----> \u001b[39m\u001b[32m1\u001b[39m \u001b[38;5;28;01mimport\u001b[39;00m\u001b[38;5;250m \u001b[39m\u001b[34;01mfiredrake\u001b[39;00m\u001b[38;5;250m \u001b[39m\u001b[38;5;28;01mas\u001b[39;00m\u001b[38;5;250m \u001b[39m\u001b[34;01mfd\u001b[39;00m\n\u001b[32m      2\u001b[39m \u001b[38;5;28;01mimport\u001b[39;00m\u001b[38;5;250m \u001b[39m\u001b[34;01mufl\u001b[39;00m\n\u001b[32m      3\u001b[39m \u001b[38;5;28;01mfrom\u001b[39;00m\u001b[38;5;250m \u001b[39m\u001b[34;01mlibrary\u001b[39;00m\u001b[34;01m.\u001b[39;00m\u001b[34;01mpython\u001b[39;00m\u001b[34;01m.\u001b[39;00m\u001b[34;01mfvm\u001b[39;00m\u001b[34;01m.\u001b[39;00m\u001b[34;01msolver_jax\u001b[39;00m\u001b[38;5;250m \u001b[39m\u001b[38;5;28;01mimport\u001b[39;00m Settings\n",
      "\u001b[31mModuleNotFoundError\u001b[39m: No module named 'firedrake'"
     ]
    }
   ],
   "source": [
    "# | code-fold: true\n",
    "# | code-summary: \"Load packages\"\n",
    "# | output: false\n",
    "\n",
    "import os\n",
    "import numpy as np\n",
    "\n",
    "from library.python.fvm.solver_numpy import Settings\n",
    "from library.model.models.shallow_water import ShallowWaterEquations\n",
    "import library.model.initial_conditions as IC\n",
    "import library.model.boundary_conditions as BC\n",
    "from library.python.misc.misc import Zstruct\n",
    "import library.python.transformation.to_ufl as trafo\n",
    "import library.dg.firedrake_solver as dg\n"
   ]
  },
  {
   "cell_type": "markdown",
   "id": "0125f8c9",
   "metadata": {
    "vscode": {
     "languageId": "raw"
    }
   },
   "source": [
    "# Transformation to UFL Code (Medium)"
   ]
  },
  {
   "cell_type": "markdown",
   "id": "ce2c4fb3",
   "metadata": {},
   "source": [
    "### Map from Sympy to UFL"
   ]
  },
  {
   "cell_type": "code",
   "execution_count": 2,
   "id": "f07b3724",
   "metadata": {},
   "outputs": [
    {
     "name": "stderr",
     "output_type": "stream",
     "text": [
      "\u001b[32m2025-10-13 06:46:11.257\u001b[0m | \u001b[33m\u001b[1mWARNING \u001b[0m | \u001b[36mlibrary.python.misc.misc\u001b[0m:\u001b[36m__init__\u001b[0m:\u001b[36m146\u001b[0m - \u001b[33m\u001b[1mNo 'clean_directory' attribute found in output Zstruct. Default: False\u001b[0m\n"
     ]
    }
   ],
   "source": [
    "bcs = BC.BoundaryConditions(\n",
    "    [\n",
    "        # BC.Extrapolation(physical_tag=\"top\"),\n",
    "        # BC.Extrapolation(physical_tag=\"bottom\"),\n",
    "        # BC.Extrapolation(physical_tag=\"left\"),\n",
    "        # BC.Extrapolation(physical_tag=\"right\"),\n",
    "        BC.Wall(physical_tag=\"top\"),\n",
    "        BC.Wall(physical_tag=\"bottom\"),\n",
    "        BC.Wall(physical_tag=\"left\"),\n",
    "        BC.Wall(physical_tag=\"right\"),\n",
    "    ]\n",
    ")\n",
    "\n",
    " ### Initial condition\n",
    "def ic_q(x):\n",
    "    R = 0.15\n",
    "    r = np.sqrt((x[0] - 0.7)**2 + (x[1] - 0.7)**2)\n",
    "    b = 0.1*np.sqrt((x[0] - 3.)**2 + (x[1] - 3.)**2)\n",
    "    return np.array([np.where(r <= R, 1., 0.9), 0.*x[0], 0.*x[0]])\n",
    "\n",
    "ic = IC.UserFunction(ic_q)\n",
    "\n",
    "model = ShallowWaterEquations(\n",
    "    dimension=2,\n",
    "    boundary_conditions=bcs,\n",
    "    initial_conditions=ic,\n",
    ")\n",
    "\n",
    "settings = Settings(name=\"Dolfinx\", output=Zstruct(directory=\"outputs/dolfinx\", filename='dg'))\n"
   ]
  },
  {
   "cell_type": "code",
   "execution_count": 3,
   "id": "6ee88fae",
   "metadata": {},
   "outputs": [],
   "source": [
    "solver = dg.DolfinxHyperbolicSolver(settings=settings, time_end = 10.)"
   ]
  },
  {
   "cell_type": "code",
   "execution_count": 4,
   "id": "bc54d0a9",
   "metadata": {},
   "outputs": [
    {
     "name": "stdout",
     "output_type": "stream",
     "text": [
      "\n",
      "Info    : Reading '/home/ingo/Git/Zoomy/meshes/channel_quad_2d/mesh_coarse.msh'...\n",
      "Info    : 729 nodes\n",
      "Info    : 816 elements\n",
      "Info    : Done reading '/home/ingo/Git/Zoomy/meshes/channel_quad_2d/mesh_coarse.msh'\n"
     ]
    },
    {
     "name": "stderr",
     "output_type": "stream",
     "text": [
      "Setup  sim , solving PDE: 100%|██████████| 10.009173603152462/10.0 [00:15<00:00,  1.58s/it] \n"
     ]
    },
    {
     "data": {
      "text/plain": [
       "Coefficient(FunctionSpace(Mesh(blocked element (Basix element (P, quadrilateral, 1, equispaced, unset, False, float64, []), (2,)), 0), blocked element (Basix element (P, quadrilateral, 0, gll_warped, unset, True, float64, []), (3,))), 1)"
      ]
     },
     "execution_count": 4,
     "metadata": {},
     "output_type": "execute_result"
    }
   ],
   "source": [
    "main_dir = os.getenv('ZOOMY_DIR')\n",
    "path_to_mesh = os.path.join(main_dir, \"meshes\", \"channel_quad_2d\", \"mesh_coarse.msh\")\n",
    "solver.solve(path_to_mesh, model)"
   ]
  },
  {
   "cell_type": "code",
   "execution_count": null,
   "id": "e34b6117",
   "metadata": {},
   "outputs": [],
   "source": []
  }
 ],
 "metadata": {
  "kernelspec": {
   "display_name": "zoomy",
   "language": "python",
   "name": "python3"
  },
  "language_info": {
   "codemirror_mode": {
    "name": "ipython",
    "version": 3
   },
   "file_extension": ".py",
   "mimetype": "text/x-python",
   "name": "python",
   "nbconvert_exporter": "python",
   "pygments_lexer": "ipython3",
   "version": "3.12.11"
  }
 },
 "nbformat": 4,
 "nbformat_minor": 5
}
