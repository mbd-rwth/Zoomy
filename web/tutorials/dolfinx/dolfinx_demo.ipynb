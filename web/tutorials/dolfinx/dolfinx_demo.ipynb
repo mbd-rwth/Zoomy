{
 "cells": [
  {
   "cell_type": "raw",
   "id": "906eac95",
   "metadata": {
    "vscode": {
     "languageId": "raw"
    }
   },
   "source": [
    "---\n",
    "title: \"Dolfinx Demo\"\n",
    "author: Ingo Steldermann\n",
    "date: 08/19/2025\n",
    "format:\n",
    "  html:\n",
    "    code-fold: false\n",
    "    code-tools: true\n",
    "    css: ../notebook.css\n",
    "---"
   ]
  },
  {
   "cell_type": "markdown",
   "id": "a700b01f",
   "metadata": {},
   "source": [
    "## Imports"
   ]
  },
  {
   "cell_type": "code",
   "execution_count": null,
   "id": "601a29cb",
   "metadata": {},
   "outputs": [],
   "source": [
    "# | code-fold: true\n",
    "# | code-summary: \"Load packages\"\n",
    "# | output: false\n",
    "\n",
    "import os\n",
    "import numpy as np\n",
    "from sympy.utilities.lambdify import lambdify\n",
    "import sympy\n",
    "from mpi4py import MPI\n",
    "from dolfinx.io import gmshio\n",
    "# import gmsh\n",
    "# import dolfinx\n",
    "from dolfinx import fem\n",
    "import basix\n",
    "import tqdm\n",
    "from petsc4py import PETSc\n",
    "import ufl\n",
    "# import pyvista\n",
    "from  dolfinx.fem import petsc\n",
    "# import sys\n",
    "# from dolfinx import mesh\n",
    "from ufl import (\n",
    "    TestFunction,\n",
    "    TrialFunction,\n",
    "    dx,\n",
    "    inner,\n",
    ")\n",
    "import dolfinx\n",
    "from dolfinx.fem.petsc import LinearProblem\n",
    "from dolfinx.mesh import locate_entities_boundary, meshtags\n",
    "from dolfinx import mesh as dolfinx_mesh\n",
    "\n",
    "import numpy.typing as npt\n",
    "\n",
    "\n",
    "from library.python.fvm.solver_numpy import Settings\n",
    "from library.model.models.shallow_water import ShallowWaterEquations\n",
    "from library.python.mesh.mesh import Mesh\n",
    "import library.model.initial_conditions as IC\n",
    "import library.model.boundary_conditions as BC\n",
    "from library.python.misc.misc import Zstruct\n",
    "import library.python.transformation.to_ufl as trafo\n",
    "import library.dg.dolfinx_solver as dg\n"
   ]
  },
  {
   "cell_type": "markdown",
   "id": "0125f8c9",
   "metadata": {
    "vscode": {
     "languageId": "raw"
    }
   },
   "source": [
    "# Transformation to UFL Code (Medium)"
   ]
  },
  {
   "cell_type": "markdown",
   "id": "ce2c4fb3",
   "metadata": {},
   "source": [
    "### Map from Sympy to UFL"
   ]
  },
  {
   "cell_type": "code",
   "execution_count": null,
   "id": "f07b3724",
   "metadata": {},
   "outputs": [
    {
     "name": "stderr",
     "output_type": "stream",
     "text": [
      "\u001b[32m2025-10-13 11:43:52.035\u001b[0m | \u001b[33m\u001b[1mWARNING \u001b[0m | \u001b[36mlibrary.python.misc.misc\u001b[0m:\u001b[36m__init__\u001b[0m:\u001b[36m146\u001b[0m - \u001b[33m\u001b[1mNo 'clean_directory' attribute found in output Zstruct. Default: False\u001b[0m\n"
     ]
    }
   ],
   "source": [
    "bcs = BC.BoundaryConditions(\n",
    "    [\n",
    "        # BC.Extrapolation(physical_tag=\"top\"),\n",
    "        # BC.Extrapolation(physical_tag=\"bottom\"),\n",
    "        # BC.Extrapolation(physical_tag=\"left\"),\n",
    "        # BC.Extrapolation(physical_tag=\"right\"),\n",
    "        BC.Wall(physical_tag=\"top\"),\n",
    "        BC.Wall(physical_tag=\"bottom\"),\n",
    "        BC.Wall(physical_tag=\"left\"),\n",
    "        BC.Wall(physical_tag=\"right\"),\n",
    "    ]\n",
    ")\n",
    "\n",
    " ### Initial condition\n",
    "def ic_q(x):\n",
    "    R = 0.15\n",
    "    r = np.sqrt((x[0] - 0.7)**2 + (x[1] - 0.7)**2)\n",
    "    b = 0.1*np.sqrt((x[0] - 3.)**2 + (x[1] - 3.)**2)\n",
    "    return np.array([np.where(r <= R, 1., 0.9), 0.*x[0], 0.*x[0]])\n",
    "\n",
    "ic = IC.UserFunction(ic_q)\n",
    "\n",
    "\n",
    "class SWE(ShallowWaterEquations):\n",
    "    def source(self):\n",
    "        out = self.chezy()\n",
    "        return out   \n",
    "\n",
    "model = SWE(\n",
    "    dimension=2,\n",
    "    boundary_conditions=bcs,\n",
    "    initial_conditions=ic,\n",
    "    parameters=Zstruct(g=9.81, C=25.),\n",
    ")\n",
    "\n",
    "settings = Settings(name=\"Dolfinx\", output=Zstruct(directory=\"outputs/dolfinx\", filename='dg'))\n"
   ]
  },
  {
   "cell_type": "code",
   "execution_count": null,
   "id": "4873ace0",
   "metadata": {},
   "outputs": [
    {
     "data": {
      "image/png": "[encoded data removed]",
      "text/latex": [
       "$\\displaystyle \\left[ \\left[\\begin{matrix}q_{1}\\\\\\frac{g q_{0}^{2}}{2} + \\frac{q_{1}^{2}}{q_{0}}\\\\\\frac{q_{1} q_{2}}{q_{0}}\\end{matrix}\\right], \\  \\left[\\begin{matrix}q_{2}\\\\\\frac{q_{1} q_{2}}{q_{0}}\\\\\\frac{g q_{0}^{2}}{2} + \\frac{q_{2}^{2}}{q_{0}}\\end{matrix}\\right]\\right]$"
      ],
      "text/plain": [
       "⎡⎡    q₁     ⎤  ⎡    q₂     ⎤⎤\n",
       "⎢⎢           ⎥  ⎢           ⎥⎥\n",
       "⎢⎢    2     2⎥  ⎢   q₁⋅q₂   ⎥⎥\n",
       "⎢⎢g⋅q₀    q₁ ⎥  ⎢   ─────   ⎥⎥\n",
       "⎢⎢───── + ───⎥  ⎢    q₀     ⎥⎥\n",
       "⎢⎢  2     q₀ ⎥, ⎢           ⎥⎥\n",
       "⎢⎢           ⎥  ⎢    2     2⎥⎥\n",
       "⎢⎢   q₁⋅q₂   ⎥  ⎢g⋅q₀    q₂ ⎥⎥\n",
       "⎢⎢   ─────   ⎥  ⎢───── + ───⎥⎥\n",
       "⎣⎣    q₀     ⎦  ⎣  2     q₀ ⎦⎦"
      ]
     },
     "execution_count": 3,
     "metadata": {},
     "output_type": "execute_result"
    }
   ],
   "source": [
    "model.flux()"
   ]
  },
  {
   "cell_type": "code",
   "execution_count": null,
   "id": "76c8b9b1",
   "metadata": {},
   "outputs": [
    {
     "data": {
      "image/png": "[encoded data removed]",
      "text/latex": [
       "$\\displaystyle \\left[\\begin{matrix}0\\\\- \\frac{1.0 q_{1} \\sqrt{\\frac{q_{1}^{2}}{q_{0}^{2}} + \\frac{q_{2}^{2}}{q_{0}^{2}}}}{C^{2} q_{0}}\\\\- \\frac{1.0 q_{2} \\sqrt{\\frac{q_{1}^{2}}{q_{0}^{2}} + \\frac{q_{2}^{2}}{q_{0}^{2}}}}{C^{2} q_{0}}\\end{matrix}\\right]$"
      ],
      "text/plain": [
       "⎡            0             ⎤\n",
       "⎢                          ⎥\n",
       "⎢              ___________ ⎥\n",
       "⎢             ╱   2     2  ⎥\n",
       "⎢            ╱  q₁    q₂   ⎥\n",
       "⎢-1.0⋅q₁⋅   ╱   ─── + ───  ⎥\n",
       "⎢          ╱      2     2  ⎥\n",
       "⎢        ╲╱     q₀    q₀   ⎥\n",
       "⎢──────────────────────────⎥\n",
       "⎢           2              ⎥\n",
       "⎢          C ⋅q₀           ⎥\n",
       "⎢                          ⎥\n",
       "⎢              ___________ ⎥\n",
       "⎢             ╱   2     2  ⎥\n",
       "⎢            ╱  q₁    q₂   ⎥\n",
       "⎢-1.0⋅q₂⋅   ╱   ─── + ───  ⎥\n",
       "⎢          ╱      2     2  ⎥\n",
       "⎢        ╲╱     q₀    q₀   ⎥\n",
       "⎢──────────────────────────⎥\n",
       "⎢           2              ⎥\n",
       "⎣          C ⋅q₀           ⎦"
      ]
     },
     "execution_count": 4,
     "metadata": {},
     "output_type": "execute_result"
    }
   ],
   "source": [
    "model.source()"
   ]
  },
  {
   "cell_type": "code",
   "execution_count": null,
   "id": "6ee88fae",
   "metadata": {},
   "outputs": [],
   "source": [
    "solver = dg.DolfinxHyperbolicSolver(settings=settings, time_end = 1.)"
   ]
  },
  {
   "cell_type": "code",
   "execution_count": null,
   "id": "bc54d0a9",
   "metadata": {},
   "outputs": [
    {
     "name": "stdout",
     "output_type": "stream",
     "text": [
      "\n",
      "Info    : Reading '/home/ingo/Git/Zoomy/meshes/channel_quad_2d/mesh_coarse.msh'...\n",
      "Info    : 729 nodes\n",
      "Info    : 816 elements\n",
      "Info    : Done reading '/home/ingo/Git/Zoomy/meshes/channel_quad_2d/mesh_coarse.msh'\n"
     ]
    },
    {
     "name": "stderr",
     "output_type": "stream",
     "text": [
      "Setup  sim , solving PDE:  65%|██████▌   | 0.652917717182038/1.0 [00:01<00:00,  2.45s/it]   "
     ]
    }
   ],
   "source": [
    "main_dir = os.getenv('ZOOMY_DIR')\n",
    "path_to_mesh = os.path.join(main_dir, \"meshes\", \"channel_quad_2d\", \"mesh_coarse.msh\")\n",
    "solver.solve(path_to_mesh, model)"
   ]
  },
  {
   "cell_type": "code",
   "execution_count": null,
   "id": "e34b6117",
   "metadata": {},
   "outputs": [],
   "source": []
  }
 ],
 "metadata": {
  "kernelspec": {
   "display_name": "zoomy",
   "language": "python",
   "name": "python3"
  },
  "language_info": {
   "codemirror_mode": {
    "name": "ipython",
    "version": 3
   },
   "file_extension": ".py",
   "mimetype": "text/x-python",
   "name": "python",
   "nbconvert_exporter": "python",
   "pygments_lexer": "ipython3",
   "version": "3.12.11"
  }
 },
 "nbformat": 4,
 "nbformat_minor": 5
}
