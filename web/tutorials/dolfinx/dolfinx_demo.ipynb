{
 "cells": [
  {
   "cell_type": "raw",
   "id": "906eac95",
   "metadata": {
    "vscode": {
     "languageId": "raw"
    }
   },
   "source": [
    "---\n",
    "title: \"Dolfinx Demo\"\n",
    "author: Ingo Steldermann\n",
    "date: 08/19/2025\n",
    "format:\n",
    "  html:\n",
    "    code-fold: false\n",
    "    code-tools: true\n",
    "    css: ../notebook.css\n",
    "---"
   ]
  },
  {
   "cell_type": "markdown",
   "id": "a700b01f",
   "metadata": {},
   "source": [
    "## Imports"
   ]
  },
  {
   "cell_type": "code",
   "execution_count": 1,
   "id": "601a29cb",
   "metadata": {},
   "outputs": [
    {
     "name": "stderr",
     "output_type": "stream",
     "text": [
      "\u001b[32m2025-09-04 13:47:37.115\u001b[0m | \u001b[33m\u001b[1mWARNING \u001b[0m | \u001b[36mlibrary.fvm.solver\u001b[0m:\u001b[36m<module>\u001b[0m:\u001b[36m28\u001b[0m - \u001b[33m\u001b[1mNo module named 'precice'\u001b[0m\n"
     ]
    }
   ],
   "source": [
    "# | code-fold: true\n",
    "# | code-summary: \"Load packages\"\n",
    "# | output: false\n",
    "\n",
    "import os\n",
    "import numpy as np\n",
    "from sympy.utilities.lambdify import lambdify\n",
    "import sympy\n",
    "from mpi4py import MPI\n",
    "from dolfinx.io import gmshio\n",
    "# import gmsh\n",
    "# import dolfinx\n",
    "from dolfinx import fem\n",
    "import basix\n",
    "import tqdm\n",
    "from petsc4py import PETSc\n",
    "import ufl\n",
    "# import pyvista\n",
    "from  dolfinx.fem import petsc\n",
    "# import sys\n",
    "# from dolfinx import mesh\n",
    "from ufl import (\n",
    "    TestFunction,\n",
    "    TrialFunction,\n",
    "    dx,\n",
    "    inner,\n",
    ")\n",
    "import dolfinx\n",
    "from dolfinx.fem.petsc import LinearProblem\n",
    "from dolfinx.mesh import locate_entities_boundary, meshtags\n",
    "from dolfinx import mesh as dolfinx_mesh\n",
    "\n",
    "import numpy.typing as npt\n",
    "\n",
    "\n",
    "from library.fvm.solver import Settings\n",
    "from library.model.models.shallow_water import ShallowWaterEquations\n",
    "from library.mesh.mesh import Mesh\n",
    "import library.model.initial_conditions as IC\n",
    "import library.model.boundary_conditions as BC\n",
    "from library.misc.misc import Zstruct\n",
    "import library.transformation.to_ufl as trafo\n",
    "import library.dg.dolfinx_solver as dg\n"
   ]
  },
  {
   "cell_type": "markdown",
   "id": "0125f8c9",
   "metadata": {
    "vscode": {
     "languageId": "raw"
    }
   },
   "source": [
    "# Transformation to UFL Code (Medium)"
   ]
  },
  {
   "cell_type": "markdown",
   "id": "ce2c4fb3",
   "metadata": {},
   "source": [
    "### Map from Sympy to UFL"
   ]
  },
  {
   "cell_type": "code",
   "execution_count": 2,
   "id": "f07b3724",
   "metadata": {},
   "outputs": [
    {
     "name": "stderr",
     "output_type": "stream",
     "text": [
      "\u001b[32m2025-09-04 13:47:37.302\u001b[0m | \u001b[33m\u001b[1mWARNING \u001b[0m | \u001b[36mlibrary.misc.misc\u001b[0m:\u001b[36m__init__\u001b[0m:\u001b[36m146\u001b[0m - \u001b[33m\u001b[1mNo 'clean_directory' attribute found in output Zstruct. Default: False\u001b[0m\n"
     ]
    }
   ],
   "source": [
    "bcs = BC.BoundaryConditions(\n",
    "    [\n",
    "        # BC.Extrapolation(physical_tag=\"top\"),\n",
    "        # BC.Extrapolation(physical_tag=\"bottom\"),\n",
    "        # BC.Extrapolation(physical_tag=\"left\"),\n",
    "        # BC.Extrapolation(physical_tag=\"right\"),\n",
    "        BC.Wall(physical_tag=\"top\"),\n",
    "        BC.Wall(physical_tag=\"bottom\"),\n",
    "        BC.Wall(physical_tag=\"left\"),\n",
    "        BC.Wall(physical_tag=\"right\"),\n",
    "    ]\n",
    ")\n",
    "\n",
    " ### Initial condition\n",
    "def ic_q(x):\n",
    "    R = 0.15\n",
    "    r = np.sqrt((x[0] - 0.7)**2 + (x[1] - 0.7)**2)\n",
    "    b = 0.1*np.sqrt((x[0] - 3.)**2 + (x[1] - 3.)**2)\n",
    "    return np.array([np.where(r <= R, 1., 0.9), 0.*x[0], 0.*x[0]])\n",
    "\n",
    "ic = IC.UserFunction(ic_q)\n",
    "\n",
    "model = ShallowWaterEquations(\n",
    "    dimension=2,\n",
    "    boundary_conditions=bcs,\n",
    "    initial_conditions=ic,\n",
    ")\n",
    "\n",
    "settings = Settings(name=\"Dolfinx\", output=Zstruct(directory=\"outputs/dolfinx\", filename='dg'))\n"
   ]
  },
  {
   "cell_type": "code",
   "execution_count": 3,
   "id": "6ee88fae",
   "metadata": {},
   "outputs": [],
   "source": [
    "solver = dg.DolfinxHyperbolicSolver(settings=settings, time_end = 10.)"
   ]
  },
  {
   "cell_type": "code",
   "execution_count": 4,
   "id": "bc54d0a9",
   "metadata": {},
   "outputs": [
    {
     "name": "stdout",
     "output_type": "stream",
     "text": [
      "\n",
      "Info    : Reading '/home/ingo/Git/Zoomy/meshes/channel_quad_2d/mesh_coarse.msh'...\n",
      "Info    : 729 nodes\n",
      "Info    : 816 elements\n",
      "Info    : Done reading '/home/ingo/Git/Zoomy/meshes/channel_quad_2d/mesh_coarse.msh'\n"
     ]
    },
    {
     "name": "stderr",
     "output_type": "stream",
     "text": [
      "Setup  sim , solving PDE: 100%|██████████| 10.009173603152462/10.0 [00:25<00:00,  2.52s/it]  \n"
     ]
    },
    {
     "data": {
      "text/plain": [
       "Coefficient(FunctionSpace(Mesh(blocked element (Basix element (P, quadrilateral, 1, equispaced, unset, False, float64, []), (2,)), 0), blocked element (Basix element (P, quadrilateral, 0, gll_warped, unset, True, float64, []), (3,))), 1)"
      ]
     },
     "execution_count": 4,
     "metadata": {},
     "output_type": "execute_result"
    }
   ],
   "source": [
    "main_dir = os.getenv('ZOOMY_DIR')\n",
    "path_to_mesh = os.path.join(main_dir, \"meshes\", \"channel_quad_2d\", \"mesh_coarse.msh\")\n",
    "solver.solve(path_to_mesh, model)"
   ]
  },
  {
   "cell_type": "code",
   "execution_count": null,
   "id": "e34b6117",
   "metadata": {},
   "outputs": [],
   "source": []
  }
 ],
 "metadata": {
  "kernelspec": {
   "display_name": "zoomy",
   "language": "python",
   "name": "python3"
  },
  "language_info": {
   "codemirror_mode": {
    "name": "ipython",
    "version": 3
   },
   "file_extension": ".py",
   "mimetype": "text/x-python",
   "name": "python",
   "nbconvert_exporter": "python",
   "pygments_lexer": "ipython3",
   "version": "3.12.11"
  }
 },
 "nbformat": 4,
 "nbformat_minor": 5
}
