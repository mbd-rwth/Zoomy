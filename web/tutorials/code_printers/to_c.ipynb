{
 "cells": [
  {
   "cell_type": "raw",
   "id": "906eac95",
   "metadata": {
    "vscode": {
     "languageId": "raw"
    }
   },
   "source": [
    "---\n",
    "title: \"Transformation to C Code\"\n",
    "author: Ingo Steldermann\n",
    "date: 10/13/2025\n",
    "format:\n",
    "  html:\n",
    "    code-fold: false\n",
    "    code-tools: true\n",
    "    css: ../notebook.css\n",
    "---"
   ]
  },
  {
   "cell_type": "markdown",
   "id": "0125f8c9",
   "metadata": {
    "vscode": {
     "languageId": "raw"
    }
   },
   "source": [
    "# Transformation to C Code (Simple)"
   ]
  },
  {
   "cell_type": "markdown",
   "id": "bf8c1703",
   "metadata": {},
   "source": [
    "## Imports"
   ]
  },
  {
   "cell_type": "code",
   "execution_count": 1,
   "id": "4f583c96",
   "metadata": {},
   "outputs": [],
   "source": [
    "# | code-fold: true\n",
    "# | code-summary: \"Load packages\"\n",
    "# | output: false\n",
    "\n",
    "import os\n",
    "import numpy as np\n",
    "\n",
    "from library.python.fvm.solver_jax import Settings\n",
    "from library.model.models.shallow_water import ShallowWaterEquations\n",
    "\n",
    "import library.model.initial_conditions as IC\n",
    "import library.model.boundary_conditions as BC\n",
    "from library.python.misc.misc import Zstruct\n",
    "import library.python.transformation.to_c as trafo\n",
    "import library.python.mesh.mesh as petscMesh\n"
   ]
  },
  {
   "cell_type": "markdown",
   "id": "8908e33f",
   "metadata": {},
   "source": [
    "## Model definition"
   ]
  },
  {
   "cell_type": "code",
   "execution_count": 2,
   "id": "9d8b0a27",
   "metadata": {},
   "outputs": [
    {
     "name": "stdout",
     "output_type": "stream",
     "text": [
      "\n"
     ]
    }
   ],
   "source": [
    "bcs = BC.BoundaryConditions(\n",
    "    [\n",
    "        BC.Wall(physical_tag=\"wall\"),\n",
    "        BC.Wall(physical_tag=\"inflow\"),\n",
    "        BC.Wall(physical_tag=\"outflow\"),\n",
    "    ]\n",
    ")\n",
    "\n",
    "def custom_ic(x):\n",
    "    Q = np.zeros(3, dtype=float)\n",
    "    Q[0] = np.where(x[0] < 5., 0.005, 0.001)\n",
    "    return Q\n",
    "\n",
    "ic = IC.UserFunction(custom_ic)\n",
    "\n",
    "model = ShallowWaterEquations(\n",
    "    dimension=2,\n",
    "    boundary_conditions=bcs,\n",
    "    initial_conditions=ic,\n",
    ")\n",
    "\n",
    "# the mesh is necessary to connect the boundary conditions to the mesh tags\n",
    "main_dir = os.getenv(\"ZOOMY_DIR\")\n",
    "mesh = petscMesh.Mesh.from_gmsh(\n",
    "    os.path.join(main_dir, \"meshes/channel_quad_2d/mesh.msh\")\n",
    ")\n",
    "model.initialize_boundary_conditions(mesh)"
   ]
  },
  {
   "cell_type": "markdown",
   "id": "b4119a5c",
   "metadata": {},
   "source": [
    "## Sympy Model"
   ]
  },
  {
   "cell_type": "code",
   "execution_count": 3,
   "id": "4deb8ab5",
   "metadata": {},
   "outputs": [
    {
     "data": {
      "image/png": "[encoded data removed]",
      "text/latex": [
       "$\\displaystyle \\left[ \\left[\\begin{matrix}q_{1}\\\\\\frac{g q_{0}^{2}}{2} + \\frac{q_{1}^{2}}{q_{0}}\\\\\\frac{q_{1} q_{2}}{q_{0}}\\end{matrix}\\right], \\  \\left[\\begin{matrix}q_{2}\\\\\\frac{q_{1} q_{2}}{q_{0}}\\\\\\frac{g q_{0}^{2}}{2} + \\frac{q_{2}^{2}}{q_{0}}\\end{matrix}\\right]\\right]$"
      ],
      "text/plain": [
       "⎡⎡    q₁     ⎤  ⎡    q₂     ⎤⎤\n",
       "⎢⎢           ⎥  ⎢           ⎥⎥\n",
       "⎢⎢    2     2⎥  ⎢   q₁⋅q₂   ⎥⎥\n",
       "⎢⎢g⋅q₀    q₁ ⎥  ⎢   ─────   ⎥⎥\n",
       "⎢⎢───── + ───⎥  ⎢    q₀     ⎥⎥\n",
       "⎢⎢  2     q₀ ⎥, ⎢           ⎥⎥\n",
       "⎢⎢           ⎥  ⎢    2     2⎥⎥\n",
       "⎢⎢   q₁⋅q₂   ⎥  ⎢g⋅q₀    q₂ ⎥⎥\n",
       "⎢⎢   ─────   ⎥  ⎢───── + ───⎥⎥\n",
       "⎣⎣    q₀     ⎦  ⎣  2     q₀ ⎦⎦"
      ]
     },
     "execution_count": 3,
     "metadata": {},
     "output_type": "execute_result"
    }
   ],
   "source": [
    "model.flux()"
   ]
  },
  {
   "cell_type": "code",
   "execution_count": 4,
   "id": "15516519",
   "metadata": {},
   "outputs": [
    {
     "data": {
      "image/png": "[encoded data removed]",
      "text/latex": [
       "$\\displaystyle \\left[\\begin{matrix}q_{0} & - n_{0} \\left(1.0 n_{0} q_{1} + 1.0 n_{1} q_{2}\\right) - 1.0 n_{0} \\left(n_{0} q_{1} + n_{1} q_{2}\\right) + 1.0 q_{1} & - n_{1} \\left(1.0 n_{0} q_{1} + 1.0 n_{1} q_{2}\\right) - 1.0 n_{1} \\left(n_{0} q_{1} + n_{1} q_{2}\\right) + 1.0 q_{2}\\\\q_{0} & - n_{0} \\left(1.0 n_{0} q_{1} + 1.0 n_{1} q_{2}\\right) - 1.0 n_{0} \\left(n_{0} q_{1} + n_{1} q_{2}\\right) + 1.0 q_{1} & - n_{1} \\left(1.0 n_{0} q_{1} + 1.0 n_{1} q_{2}\\right) - 1.0 n_{1} \\left(n_{0} q_{1} + n_{1} q_{2}\\right) + 1.0 q_{2}\\\\q_{0} & - n_{0} \\left(1.0 n_{0} q_{1} + 1.0 n_{1} q_{2}\\right) - 1.0 n_{0} \\left(n_{0} q_{1} + n_{1} q_{2}\\right) + 1.0 q_{1} & - n_{1} \\left(1.0 n_{0} q_{1} + 1.0 n_{1} q_{2}\\right) - 1.0 n_{1} \\left(n_{0} q_{1} + n_{1} q_{2}\\right) + 1.0 q_{2}\\end{matrix}\\right]$"
      ],
      "text/plain": [
       "⎡q₀  -n₀⋅(1.0⋅n₀⋅q₁ + 1.0⋅n₁⋅q₂) - 1.0⋅n₀⋅(n₀⋅q₁ + n₁⋅q₂) + 1.0⋅q₁  -n₁⋅(1.0⋅n ↪\n",
       "⎢                                                                              ↪\n",
       "⎢q₀  -n₀⋅(1.0⋅n₀⋅q₁ + 1.0⋅n₁⋅q₂) - 1.0⋅n₀⋅(n₀⋅q₁ + n₁⋅q₂) + 1.0⋅q₁  -n₁⋅(1.0⋅n ↪\n",
       "⎢                                                                              ↪\n",
       "⎣q₀  -n₀⋅(1.0⋅n₀⋅q₁ + 1.0⋅n₁⋅q₂) - 1.0⋅n₀⋅(n₀⋅q₁ + n₁⋅q₂) + 1.0⋅q₁  -n₁⋅(1.0⋅n ↪\n",
       "\n",
       "↪ ₀⋅q₁ + 1.0⋅n₁⋅q₂) - 1.0⋅n₁⋅(n₀⋅q₁ + n₁⋅q₂) + 1.0⋅q₂⎤\n",
       "↪                                                    ⎥\n",
       "↪ ₀⋅q₁ + 1.0⋅n₁⋅q₂) - 1.0⋅n₁⋅(n₀⋅q₁ + n₁⋅q₂) + 1.0⋅q₂⎥\n",
       "↪                                                    ⎥\n",
       "↪ ₀⋅q₁ + 1.0⋅n₁⋅q₂) - 1.0⋅n₁⋅(n₀⋅q₁ + n₁⋅q₂) + 1.0⋅q₂⎦"
      ]
     },
     "execution_count": 4,
     "metadata": {},
     "output_type": "execute_result"
    }
   ],
   "source": [
    "model.print_boundary_conditions()"
   ]
  },
  {
   "cell_type": "markdown",
   "id": "e3f1a6bc",
   "metadata": {},
   "source": [
    "## Code transformation"
   ]
  },
  {
   "cell_type": "code",
   "execution_count": 5,
   "id": "0be9f302",
   "metadata": {},
   "outputs": [
    {
     "name": "stderr",
     "output_type": "stream",
     "text": [
      "\u001b[32m2025-10-13 16:22:40.258\u001b[0m | \u001b[33m\u001b[1mWARNING \u001b[0m | \u001b[36mlibrary.python.misc.misc\u001b[0m:\u001b[36m__init__\u001b[0m:\u001b[36m146\u001b[0m - \u001b[33m\u001b[1mNo 'clean_directory' attribute found in output Zstruct. Default: False\u001b[0m\n"
     ]
    }
   ],
   "source": [
    "settings = Settings(name=\"ShallowWater\", output=Zstruct(directory=\"outputs/trafo\", filename=\"swe.h5\"))\n",
    "trafo.write_code(model, settings)"
   ]
  },
  {
   "cell_type": "markdown",
   "id": "197fe967",
   "metadata": {},
   "source": [
    "## Check the output"
   ]
  },
  {
   "cell_type": "code",
   "execution_count": 7,
   "id": "28fd7c60",
   "metadata": {},
   "outputs": [
    {
     "name": "stdout",
     "output_type": "stream",
     "text": [
      "#pragma once\n",
      "\n",
      "namespace Model\n",
      "{\n",
      "constexpr int n_dof_q    = 3;\n",
      "constexpr int n_dof_qaux = 2;\n",
      "constexpr int dimension  = 2;\n",
      "static const int n_boundary_tags = 3;\n",
      "static const char* map_boundary_tag_to_function_index[] = { \"wall\", \"inflow\", \"outflow\" };\n",
      "\n",
      "inline void flux_x(\n",
      "    const double* Q,\n",
      "    const double* Qaux,\n",
      "    double* res\n",
      "    )\n",
      "{\n",
      "    double t0 = (1.0 / std::pow(Q[0], 1));\n",
      "        res[0] = Q[1];\n",
      "        res[1] = (1.0/2.0)*9.81*std::pow(Q[0], 2) + std::pow(Q[1], 2)*t0;\n",
      "        res[2] = Q[1]*Q[2]*t0;\n",
      "}\n",
      "        \n",
      "\n",
      "inline void flux_y(\n",
      "    const double* Q,\n",
      "    const double* Qaux,\n",
      "    double* res\n",
      "    )\n",
      "{\n",
      "    double t0 = (1.0 / std::pow(Q[0], 1));\n",
      "        res[0] = Q[2];\n",
      "        res[1] = Q[1]*Q[2]*t0;\n",
      "        res[2] = (1.0/2.0)*9.81*std::pow(Q[0], 2) + std::pow(Q[2], 2)*t0;\n",
      "}\n",
      "        \n",
      "\n",
      "inline void flux_jacobian_x(\n",
      "    const double* Q,\n",
      "    const double* Qaux,\n",
      "    double* res\n",
      "    )\n",
      "{\n",
      "    double t0 = (1.0 / std::pow(Q[0], 2));\n",
      "        double t1 = (1.0 / std::pow(Q[0], 1));\n",
      "        double t2 = Q[1]*t1;\n",
      "        res[0] = 0;\n",
      "        res[1] = 1;\n",
      "        res[2] = 0;\n",
      "        res[3] = 9.81*Q[0] - std::pow(Q[1], 2)*t0;\n",
      "        res[4] = 2*t2;\n",
      "        res[5] = 0;\n",
      "        res[6] = -Q[1]*Q[2]*t0;\n",
      "        res[7] = Q[2]*t1;\n",
      "        res[8] = t2;\n",
      "}\n",
      "        \n",
      "\n",
      "inline void flux_jacobian_y(\n",
      "    const double* Q,\n",
      "    const double* Qaux,\n",
      "    double* res\n",
      "    )\n",
      "{\n",
      "    double t0 = (1.0 / std::pow(Q[0], 2));\n",
      "        double t1 = (1.0 / std::pow(Q[0], 1));\n",
      "        double t2 = Q[2]*t1;\n",
      "        res[0] = 0;\n",
      "        res[1] = 0;\n",
      "        res[2] = 1;\n",
      "        res[3] = -Q[1]*Q[2]*t0;\n",
      "        res[4] = t2;\n",
      "        res[5] = Q[1]*t1;\n",
      "        res[6] = 9.81*Q[0] - std::pow(Q[2], 2)*t0;\n",
      "        res[7] = 0;\n",
      "        res[8] = 2*t2;\n",
      "}\n",
      "        \n",
      "\n",
      "inline void nonconservative_matrix_x(\n",
      "    const double* Q,\n",
      "    const double* Qaux,\n",
      "    double* res\n",
      "    )\n",
      "{\n",
      "    res[0] = 0;\n",
      "        res[1] = 0;\n",
      "        res[2] = 0;\n",
      "        res[3] = 0;\n",
      "        res[4] = 0;\n",
      "        res[5] = 0;\n",
      "        res[6] = 0;\n",
      "        res[7] = 0;\n",
      "        res[8] = 0;\n",
      "}\n",
      "        \n",
      "\n",
      "inline void nonconservative_matrix_y(\n",
      "    const double* Q,\n",
      "    const double* Qaux,\n",
      "    double* res\n",
      "    )\n",
      "{\n",
      "    res[0] = 0;\n",
      "        res[1] = 0;\n",
      "        res[2] = 0;\n",
      "        res[3] = 0;\n",
      "        res[4] = 0;\n",
      "        res[5] = 0;\n",
      "        res[6] = 0;\n",
      "        res[7] = 0;\n",
      "        res[8] = 0;\n",
      "}\n",
      "        \n",
      "\n",
      "inline void quasilinear_matrix_x(\n",
      "    const double* Q,\n",
      "    const double* Qaux,\n",
      "    double* res\n",
      "    )\n",
      "{\n",
      "    double t0 = (1.0 / std::pow(Q[0], 2));\n",
      "        double t1 = (1.0 / std::pow(Q[0], 1));\n",
      "        double t2 = Q[1]*t1;\n",
      "        res[0] = 0;\n",
      "        res[1] = 1;\n",
      "        res[2] = 0;\n",
      "        res[3] = 9.81*Q[0] - std::pow(Q[1], 2)*t0;\n",
      "        res[4] = 2*t2;\n",
      "        res[5] = 0;\n",
      "        res[6] = -Q[1]*Q[2]*t0;\n",
      "        res[7] = Q[2]*t1;\n",
      "        res[8] = t2;\n",
      "}\n",
      "        \n",
      "\n",
      "inline void quasilinear_matrix_y(\n",
      "    const double* Q,\n",
      "    const double* Qaux,\n",
      "    double* res\n",
      "    )\n",
      "{\n",
      "    double t0 = (1.0 / std::pow(Q[0], 2));\n",
      "        double t1 = (1.0 / std::pow(Q[0], 1));\n",
      "        double t2 = Q[2]*t1;\n",
      "        res[0] = 0;\n",
      "        res[1] = 0;\n",
      "        res[2] = 1;\n",
      "        res[3] = -Q[1]*Q[2]*t0;\n",
      "        res[4] = t2;\n",
      "        res[5] = Q[1]*t1;\n",
      "        res[6] = 9.81*Q[0] - std::pow(Q[2], 2)*t0;\n",
      "        res[7] = 0;\n",
      "        res[8] = 2*t2;\n",
      "}\n",
      "        \n",
      "\n",
      "inline void eigenvalues(\n",
      "    const double* Q,\n",
      "    const double* Qaux,\n",
      "    const double* n,\n",
      "    double* res)\n",
      "{\n",
      "    double t0 = n[0]*Q[1];\n",
      "        double t1 = n[1]*Q[2];\n",
      "        double t2 = (1.0 / std::pow(Q[0], 2));\n",
      "        double t3 = std::pow(9.81*std::pow(Q[0], 5), 1.0/2.0)*std::pow(std::pow(n[0], 2) + std::pow(n[1], 2), 1.0/2.0);\n",
      "        double t4 = Q[0]*t0 + Q[0]*t1;\n",
      "        res[0] = (t0 + t1)/Q[0];\n",
      "        res[1] = t2*(t3 + t4);\n",
      "        res[2] = t2*(-t3 + t4);\n",
      "}\n",
      "        \n",
      "\n",
      "inline void left_eigenvectors(\n",
      "    const double* Q,\n",
      "    const double* Qaux,\n",
      "    double* res\n",
      "    )\n",
      "{\n",
      "    res[0] = 0;\n",
      "        res[1] = 0;\n",
      "        res[2] = 0;\n",
      "        res[3] = 0;\n",
      "        res[4] = 0;\n",
      "        res[5] = 0;\n",
      "        res[6] = 0;\n",
      "        res[7] = 0;\n",
      "        res[8] = 0;\n",
      "}\n",
      "        \n",
      "\n",
      "inline void right_eigenvectors(\n",
      "    const double* Q,\n",
      "    const double* Qaux,\n",
      "    double* res\n",
      "    )\n",
      "{\n",
      "    res[0] = 0;\n",
      "        res[1] = 0;\n",
      "        res[2] = 0;\n",
      "        res[3] = 0;\n",
      "        res[4] = 0;\n",
      "        res[5] = 0;\n",
      "        res[6] = 0;\n",
      "        res[7] = 0;\n",
      "        res[8] = 0;\n",
      "}\n",
      "        \n",
      "\n",
      "inline void source(\n",
      "    const double* Q,\n",
      "    const double* Qaux,\n",
      "    double* res\n",
      "    )\n",
      "{\n",
      "    res[0] = 0;\n",
      "        res[1] = 0;\n",
      "        res[2] = 0;\n",
      "}\n",
      "        \n",
      "\n",
      "inline void residual(\n",
      "    const double* Q,\n",
      "    const double* Qaux,\n",
      "    double* res\n",
      "    )\n",
      "{\n",
      "    res[0] = 0;\n",
      "        res[1] = 0;\n",
      "        res[2] = 0;\n",
      "}\n",
      "        \n",
      "\n",
      "inline void source_implicit(\n",
      "    const double* Q,\n",
      "    const double* Qaux,\n",
      "    double* res\n",
      "    )\n",
      "{\n",
      "    res[0] = 0;\n",
      "        res[1] = 0;\n",
      "        res[2] = 0;\n",
      "}\n",
      "        \n",
      "\n",
      "inline double* interpolate(\n",
      "    const double* Q,\n",
      "    const double* Qaux,\n",
      "    const double* X,\n",
      "    double* res)\n",
      "{\n",
      "    double t0 = (1.0 / std::pow(Q[0], 1));\n",
      "        res[0] = Q[0];\n",
      "        res[1] = Q[1]*t0;\n",
      "        res[2] = Q[2]*t0;\n",
      "        res[3] = 0;\n",
      "        res[4] = 9810.0*Q[0]*(1 - X[2]);\n",
      "}\n",
      "        \n",
      "\n",
      "inline double* boundary_conditions(\n",
      "    const double* Q,\n",
      "    const double* Qaux,\n",
      "    const double* n,\n",
      "    const double* X,\n",
      "    const double time,\n",
      "    const double dX, \n",
      "    double* res)\n",
      "{\n",
      "    double t0 = n[1]*Q[2];\n",
      "        double t1 = 1.0*n[0]*Q[1] + 1.0*t0;\n",
      "        double t2 = 1.0*n[0]*Q[1] + 1.0*t0;\n",
      "        double t3 = -n[0]*t1 - n[0]*t2 + 1.0*Q[1];\n",
      "        double t4 = -n[1]*t1 - n[1]*t2 + 1.0*Q[2];\n",
      "        res[0] = Q[0];\n",
      "        res[1] = t3;\n",
      "        res[2] = t4;\n",
      "        res[3] = Q[0];\n",
      "        res[4] = t3;\n",
      "        res[5] = t4;\n",
      "        res[6] = Q[0];\n",
      "        res[7] = t3;\n",
      "        res[8] = t4;\n",
      "}\n",
      "        \n",
      "} // namespace Model\n",
      "\n"
     ]
    }
   ],
   "source": [
    "main_dir = os.getenv(\"ZOOMY_DIR\")\n",
    "path = os.path.join(main_dir, os.path.join(settings.output.directory, '.c_interface/Model.H'))\n",
    "with open(path, \"r\") as f:\n",
    "    print(f.read())\n"
   ]
  },
  {
   "cell_type": "code",
   "execution_count": null,
   "id": "cc1cb2af",
   "metadata": {},
   "outputs": [],
   "source": []
  }
 ],
 "metadata": {
  "kernelspec": {
   "display_name": "zoomy",
   "language": "python",
   "name": "python3"
  },
  "language_info": {
   "codemirror_mode": {
    "name": "ipython",
    "version": 3
   },
   "file_extension": ".py",
   "mimetype": "text/x-python",
   "name": "python",
   "nbconvert_exporter": "python",
   "pygments_lexer": "ipython3",
   "version": "3.12.11"
  }
 },
 "nbformat": 4,
 "nbformat_minor": 5
}
