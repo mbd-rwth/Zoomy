{
 "cells": [
  {
   "cell_type": "raw",
   "id": "906eac95",
   "metadata": {
    "vscode": {
     "languageId": "raw"
    }
   },
   "source": [
    "---\n",
    "title: \"Simple\"\n",
    "author: Ingo Steldermann\n",
    "date: 07/10/2025\n",
    "format:\n",
    "  html:\n",
    "    code-fold: false\n",
    "    code-tools: true\n",
    "    css: ../notebook.css\n",
    "---"
   ]
  },
  {
   "cell_type": "markdown",
   "id": "34f3e469",
   "metadata": {},
   "source": [
    "# Poission Tutorial (Simple)"
   ]
  },
  {
   "cell_type": "markdown",
   "id": "cf4dfa13",
   "metadata": {},
   "source": [
    "## Imports"
   ]
  },
  {
   "cell_type": "code",
   "execution_count": 1,
   "id": "4f583c96",
   "metadata": {},
   "outputs": [
    {
     "name": "stdout",
     "output_type": "stream",
     "text": [
      "No module named 'precice'\n"
     ]
    }
   ],
   "source": [
    "# | code-fold: true\n",
    "# | code-summary: \"Load packages\"\n",
    "# | output: false\n",
    "\n",
    "import os\n",
    "import numpy as np\n",
    "import jax\n",
    "from jax import numpy as jnp\n",
    "import pytest\n",
    "from types import SimpleNamespace\n",
    "from sympy import cos, pi\n",
    "from time import time as gettime\n",
    "\n",
    "from library.fvm.solver import Solver, Settings\n",
    "from library.fvm.ode import RK1\n",
    "import library.fvm.reconstruction as recon\n",
    "import library.fvm.timestepping as timestepping\n",
    "import library.fvm.flux as flux\n",
    "import library.fvm.nonconservative_flux as nc_flux\n",
    "from library.model.boundary_conditions import BoundaryCondition\n",
    "from library.model.models.basisfunctions import Basisfunction, Legendre_shifted\n",
    "from library.model.models.basismatrices import Basismatrices\n",
    "\n",
    "from library.model.model import *\n",
    "import library.model.initial_conditions as IC\n",
    "import library.model.boundary_conditions as BC\n",
    "import library.misc.io as io\n",
    "from library.mesh.mesh import compute_derivatives\n",
    "from tests.pdesoft import plots_paper\n",
    "\n",
    "\n",
    "import library.mesh.mesh as petscMesh\n",
    "import library.postprocessing.postprocessing as postprocessing\n",
    "from library.mesh.mesh import convert_mesh_to_jax\n",
    "import argparse"
   ]
  },
  {
   "cell_type": "markdown",
   "id": "d4780d53",
   "metadata": {},
   "source": [
    "## Solver definition"
   ]
  },
  {
   "cell_type": "code",
   "execution_count": 2,
   "id": "e3aa0717",
   "metadata": {},
   "outputs": [],
   "source": [
    "class PoissonSolver(Solver):\n",
    "    def update_qaux(self, Q, Qaux, Qold, Qauxold, mesh, model, parameters, time, dt):\n",
    "        T = Q[0]\n",
    "        ddTdxx  = compute_derivatives(T, mesh, derivatives_multi_index=([[2]]))[:,0]\n",
    "        Qaux = Qaux.at[0].set(ddTdxx)\n",
    "        return Qaux\n",
    "\n",
    "\n",
    "def solve(\n",
    "    mesh, model, settings\n",
    "):\n",
    "    solver = PoissonSolver()\n",
    "    \n",
    "    Q, Qaux = solver.initialize(model, mesh)\n",
    "\n",
    "    parameters = model.parameter_values\n",
    "\n",
    "    parameters = jnp.asarray(parameters)\n",
    "    \n",
    "    mesh = convert_mesh_to_jax(mesh)\n",
    "\n",
    "\n",
    "    pde, bcs = solver.transform_in_place(model)\n",
    "\n",
    "    output_hdf5_path = os.path.join(settings.output.directory, f\"{settings.name}.h5\")\n",
    "    save_fields = io.get_save_fields(output_hdf5_path, settings.output_write_all)\n",
    "\n",
    "    assert model.dimension == mesh.dimension\n",
    "\n",
    "    time = 0.0\n",
    "    dt = 0.0\n",
    "    i_snapshot = 0.0\n",
    "\n",
    "    io.init_output_directory(settings.output.directory, settings.output_clean_dir)\n",
    "    mesh.write_to_hdf5(output_hdf5_path)\n",
    "    i_snapshot = save_fields(time, 0.0, i_snapshot, Q, Qaux)\n",
    "\n",
    "    Q0 = Q\n",
    "    Qnew = Q\n",
    "    Qold = Q\n",
    "    Qauxnew = Qaux\n",
    "    Qauxold = Qaux\n",
    "\n",
    "    min_inradius = jnp.min(mesh.cell_inradius)\n",
    "\n",
    "    boundary_operator = solver.get_apply_boundary_conditions(mesh, bcs)\n",
    "    \n",
    "    time_start = gettime()\n",
    "\n",
    "    Q = boundary_operator(time, Q, Qaux, parameters)\n",
    "    Qnew = solver.implicit_solve(Q, Qaux, Qold, Qauxold, mesh, model, pde, parameters, time, dt, boundary_operator, debug=[True, False])\n",
    "\n",
    "    time = 2.0\n",
    "    i_snapshot = save_fields(time, 1., i_snapshot, Qnew, Qauxnew)\n",
    "\n",
    "    time_start = gettime()\n",
    "\n",
    "    print(f\"Runtime: {gettime() - time_start}\")\n",
    "\n",
    "    return Q, Qaux\n"
   ]
  },
  {
   "cell_type": "markdown",
   "id": "17bd86e2",
   "metadata": {},
   "source": [
    "## Simulation"
   ]
  },
  {
   "cell_type": "code",
   "execution_count": 3,
   "id": "9d8b0a27",
   "metadata": {},
   "outputs": [
    {
     "name": "stdout",
     "output_type": "stream",
     "text": [
      "Newton Iter 0: residual norm = 9.394e+04\n",
      "Newton Iter 1: residual norm = 1.487e-01\n",
      "Newton Iter 2: residual norm = 2.105e-07\n",
      "Runtime: 7.152557373046875e-07\n"
     ]
    }
   ],
   "source": [
    "settings = Settings(\n",
    "        name=\"Poisson\",\n",
    "        parameters={\"alpha\": 1.},\n",
    "        compute_dt=timestepping.adaptive(CFL=0.9),\n",
    "        output_snapshots=100,\n",
    "        output_dir=\"outputs/poisson\",\n",
    "        output_write_all=True\n",
    "    )\n",
    "\n",
    "bc_tags = [\"left\", \"right\"]\n",
    "bc_tags_periodic_to = [\"right\", \"left\"]\n",
    "\n",
    "bcs = BC.BoundaryConditions( [\n",
    "        BC.Lambda(physical_tag='left', prescribe_fields={0: lambda t, x, dx, q, qaux, p, n: 1.}),\n",
    "        BC.Lambda(physical_tag='right', prescribe_fields={0: lambda t, x, dx, q, qaux, p, n: 2.}),\n",
    "    ]\n",
    ")\n",
    "\n",
    "def custom_ic(x):\n",
    "    Q = np.zeros(1, dtype=float)\n",
    "    Q[0] = 0.\n",
    "    return Q\n",
    "\n",
    "ic = IC.UserFunction(custom_ic)\n",
    "\n",
    "\n",
    "model = Poisson(\n",
    "    parameters={\"alpha\": 1.},\n",
    "    boundary_conditions=bcs,\n",
    "    initial_conditions=ic,\n",
    "    settings={},\n",
    ")\n",
    "\n",
    "mesh = petscMesh.Mesh.create_1d((0., 1.), 300, lsq_degree = 2)\n",
    "\n",
    "Q, Qaux = solve(\n",
    "    mesh,\n",
    "    model,\n",
    "    settings,\n",
    ")\n",
    "io.generate_vtk(os.path.join(settings.output.directory, f\"{settings.name}.h5\"))\n"
   ]
  },
  {
   "cell_type": "code",
   "execution_count": 4,
   "id": "a2b1acac",
   "metadata": {},
   "outputs": [
    {
     "data": {
      "image/png": "[encoded data removed]",
      "text/plain": [
       "<Figure size 629.333x388.928 with 1 Axes>"
      ]
     },
     "metadata": {},
     "output_type": "display_data"
    }
   ],
   "source": [
    "fig = plots_paper.plot_poisson(os.path.join(settings.output.directory, settings.name + \".h5\"))"
   ]
  }
 ],
 "metadata": {
  "kernelspec": {
   "display_name": "sms",
   "language": "python",
   "name": "python3"
  },
  "language_info": {
   "codemirror_mode": {
    "name": "ipython",
    "version": 3
   },
   "file_extension": ".py",
   "mimetype": "text/x-python",
   "name": "python",
   "nbconvert_exporter": "python",
   "pygments_lexer": "ipython3",
   "version": "3.12.9"
  }
 },
 "nbformat": 4,
 "nbformat_minor": 5
}
