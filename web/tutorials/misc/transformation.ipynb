{
 "cells": [
  {
   "cell_type": "raw",
   "id": "906eac95",
   "metadata": {
    "vscode": {
     "languageId": "raw"
    }
   },
   "source": [
    "---\n",
    "title: \"Transformation to C Code\"\n",
    "author: Ingo Steldermann\n",
    "date: 08/18/2025\n",
    "format:\n",
    "  html:\n",
    "    code-fold: false\n",
    "    code-tools: true\n",
    "    css: ../notebook.css\n",
    "---"
   ]
  },
  {
   "cell_type": "markdown",
   "id": "0125f8c9",
   "metadata": {
    "vscode": {
     "languageId": "raw"
    }
   },
   "source": [
    "# Transformation to C Code (Simple)"
   ]
  },
  {
   "cell_type": "markdown",
   "id": "bf8c1703",
   "metadata": {},
   "source": [
    "## Imports"
   ]
  },
  {
   "cell_type": "code",
   "execution_count": 1,
   "id": "4f583c96",
   "metadata": {},
   "outputs": [
    {
     "name": "stderr",
     "output_type": "stream",
     "text": [
      "\u001b[32m2025-08-18 12:01:31.278\u001b[0m | \u001b[33m\u001b[1mWARNING \u001b[0m | \u001b[36mlibrary.fvm.solver\u001b[0m:\u001b[36m<module>\u001b[0m:\u001b[36m28\u001b[0m - \u001b[33m\u001b[1mNo module named 'precice'\u001b[0m\n"
     ]
    }
   ],
   "source": [
    "# | code-fold: true\n",
    "# | code-summary: \"Load packages\"\n",
    "# | output: false\n",
    "\n",
    "import os\n",
    "import numpy as np\n",
    "import jax\n",
    "from jax import numpy as jnp\n",
    "import pytest\n",
    "from types import SimpleNamespace\n",
    "from sympy import cos, pi, Matrix\n",
    "\n",
    "from attr import field, define\n",
    "\n",
    "from library.fvm.solver import HyperbolicSolver, Settings\n",
    "from library.fvm.ode import RK1\n",
    "import library.fvm.reconstruction as recon\n",
    "import library.fvm.timestepping as timestepping\n",
    "import library.fvm.flux as flux\n",
    "import library.fvm.nonconservative_flux as nc_flux\n",
    "from library.model.boundary_conditions import BoundaryCondition\n",
    "from library.model.models.shallow_water import ShallowWaterEquations\n",
    "\n",
    "\n",
    "# from library.model.model import *\n",
    "import library.model.initial_conditions as IC\n",
    "import library.model.boundary_conditions as BC\n",
    "import library.misc.io as io\n",
    "from library.mesh.mesh import compute_derivatives\n",
    "from library.misc.misc import Zstruct\n",
    "from tests.pdesoft import plots_paper\n",
    "\n",
    "\n",
    "import library.mesh.mesh as petscMesh\n",
    "import library.postprocessing.postprocessing as postprocessing\n",
    "from library.mesh.mesh import convert_mesh_to_jax\n",
    "import argparse"
   ]
  },
  {
   "cell_type": "code",
   "execution_count": 2,
   "id": "9d8b0a27",
   "metadata": {},
   "outputs": [],
   "source": [
    "bcs = BC.BoundaryConditions(\n",
    "    [\n",
    "        BC.Wall(physical_tag=\"top\"),\n",
    "        BC.Wall(physical_tag=\"bottom\"),\n",
    "        BC.Wall(physical_tag=\"left\"),\n",
    "        BC.Wall(physical_tag=\"right\"),\n",
    "    ]\n",
    ")\n",
    "\n",
    "def custom_ic(x):\n",
    "    Q = np.zeros(3, dtype=float)\n",
    "    Q[0] = np.where(x[0] < 5., 0.005, 0.001)\n",
    "    return Q\n",
    "\n",
    "ic = IC.UserFunction(custom_ic)\n",
    "\n",
    "model = ShallowWaterEquations(\n",
    "    dimension=2,\n",
    "    boundary_conditions=bcs,\n",
    "    initial_conditions=ic,\n",
    ")\n",
    "\n",
    "main_dir = os.getenv(\"SMS\")\n",
    "\n"
   ]
  },
  {
   "cell_type": "code",
   "execution_count": 3,
   "id": "e3f1a6bc",
   "metadata": {},
   "outputs": [],
   "source": [
    "import library.transformation.trafo_to_c as trafo"
   ]
  },
  {
   "cell_type": "code",
   "execution_count": 4,
   "id": "0be9f302",
   "metadata": {},
   "outputs": [
    {
     "name": "stderr",
     "output_type": "stream",
     "text": [
      "\u001b[32m2025-08-18 12:01:32.101\u001b[0m | \u001b[33m\u001b[1mWARNING \u001b[0m | \u001b[36mlibrary.misc.misc\u001b[0m:\u001b[36m__init__\u001b[0m:\u001b[36m146\u001b[0m - \u001b[33m\u001b[1mNo 'clean_directory' attribute found in output Zstruct. Default: False\u001b[0m\n"
     ]
    },
    {
     "ename": "AttributeError",
     "evalue": "'ShallowWaterEquations' object has no attribute 'left_eigenvectors'",
     "output_type": "error",
     "traceback": [
      "\u001b[31m---------------------------------------------------------------------------\u001b[39m",
      "\u001b[31mAttributeError\u001b[39m                            Traceback (most recent call last)",
      "\u001b[36mCell\u001b[39m\u001b[36m \u001b[39m\u001b[32mIn[4]\u001b[39m\u001b[32m, line 3\u001b[39m\n\u001b[32m      1\u001b[39m settings = Settings(name=\u001b[33m\"\u001b[39m\u001b[33mShallowWater\u001b[39m\u001b[33m\"\u001b[39m, output=Zstruct(directory=\u001b[33m\"\u001b[39m\u001b[33moutputs/trafo\u001b[39m\u001b[33m\"\u001b[39m, filename=\u001b[33m\"\u001b[39m\u001b[33mswe.h5\u001b[39m\u001b[33m\"\u001b[39m))\n\u001b[32m----> \u001b[39m\u001b[32m3\u001b[39m \u001b[43mtrafo\u001b[49m\u001b[43m.\u001b[49m\u001b[43msave_model_to_C\u001b[49m\u001b[43m(\u001b[49m\u001b[43mmodel\u001b[49m\u001b[43m,\u001b[49m\u001b[43m \u001b[49m\u001b[43msettings\u001b[49m\u001b[43m)\u001b[49m\n",
      "\u001b[36mFile \u001b[39m\u001b[32m~/Git/Zoomy/library/transformation/trafo_to_c.py:26\u001b[39m, in \u001b[36msave_model_to_C\u001b[39m\u001b[34m(model, settings)\u001b[39m\n\u001b[32m     25\u001b[39m \u001b[38;5;28;01mdef\u001b[39;00m\u001b[38;5;250m \u001b[39m\u001b[34msave_model_to_C\u001b[39m(model, settings):\n\u001b[32m---> \u001b[39m\u001b[32m26\u001b[39m     _ = \u001b[43mcreate_c_model_interface\u001b[49m\u001b[43m(\u001b[49m\u001b[43mmodel\u001b[49m\u001b[43m,\u001b[49m\u001b[43m \u001b[49m\u001b[43msettings\u001b[49m\u001b[43m)\u001b[49m\n",
      "\u001b[36mFile \u001b[39m\u001b[32m~/Git/Zoomy/library/transformation/trafo_to_c.py:83\u001b[39m, in \u001b[36mcreate_c_model_interface\u001b[39m\u001b[34m(model, settings)\u001b[39m\n\u001b[32m     81\u001b[39m quasilinear_matrix = deepcopy(model.quasilinear_matrix())\n\u001b[32m     82\u001b[39m eigenvalues = deepcopy(model.eigenvalues())\n\u001b[32m---> \u001b[39m\u001b[32m83\u001b[39m left_eigenvectors = deepcopy(\u001b[43mmodel\u001b[49m\u001b[43m.\u001b[49m\u001b[43mleft_eigenvectors\u001b[49m())\n\u001b[32m     84\u001b[39m right_eigenvectors = deepcopy(model.right_eigenvectors())\n\u001b[32m     85\u001b[39m source_implicit = deepcopy(model.source_implicit())\n",
      "\u001b[31mAttributeError\u001b[39m: 'ShallowWaterEquations' object has no attribute 'left_eigenvectors'"
     ]
    }
   ],
   "source": [
    "settings = Settings(name=\"ShallowWater\", output=Zstruct(directory=\"outputs/trafo\", filename=\"swe.h5\"))\n",
    "\n",
    "trafo.save_model_to_C(model, settings)"
   ]
  },
  {
   "cell_type": "code",
   "execution_count": null,
   "id": "28fd7c60",
   "metadata": {},
   "outputs": [],
   "source": []
  }
 ],
 "metadata": {
  "kernelspec": {
   "display_name": "sms",
   "language": "python",
   "name": "python3"
  },
  "language_info": {
   "codemirror_mode": {
    "name": "ipython",
    "version": 3
   },
   "file_extension": ".py",
   "mimetype": "text/x-python",
   "name": "python",
   "nbconvert_exporter": "python",
   "pygments_lexer": "ipython3",
   "version": "3.12.9"
  }
 },
 "nbformat": 4,
 "nbformat_minor": 5
}
