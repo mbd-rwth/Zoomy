{
 "cells": [
  {
   "cell_type": "raw",
   "id": "906eac95",
   "metadata": {
    "vscode": {
     "languageId": "raw"
    }
   },
   "source": [
    "---\n",
    "title: \"Shallow Water Tutorial 2d with JAX\"\n",
    "author: Ingo Steldermann\n",
    "date: 07/10/2025\n",
    "format:\n",
    "  html:\n",
    "    code-fold: false\n",
    "    code-tools: true\n",
    "    css: ../notebook.css\n",
    "---"
   ]
  },
  {
   "cell_type": "markdown",
   "id": "0125f8c9",
   "metadata": {
    "vscode": {
     "languageId": "raw"
    }
   },
   "source": [
    "# Shallow Water Tutorial 2d with JAX (Simple)"
   ]
  },
  {
   "cell_type": "markdown",
   "id": "14eb4c1d",
   "metadata": {
    "vscode": {
     "languageId": "raw"
    }
   },
   "source": [
    "\n",
    "::: {.callout-note title=\"Reference\"}\n",
    "The following verification is based on the paper: \n",
    "\n",
    "```\n",
    " @article{Delestre_2013, \n",
    " title={SWASHES: a compilation of Shallow Water Analytic Solutions for Hydraulic and Environmental Studies}, \n",
    " volume={72}, \n",
    " ISSN={0271-2091, 1097-0363}, DOI={10.1002/fld.3741}, \n",
    " note={arXiv:1110.0288 [physics]}, \n",
    " number={3}, \n",
    " journal={International Journal for Numerical Methods in Fluids}, \n",
    " author={Delestre, Olivier and Lucas, Carine and Ksinant, Pierre-Antoine and Darboux, Frédéric and Laguerre, Christian and Vo, Thi Ngoc Tuoi and James, Francois and Cordier, Stephane}, \n",
    " year={2013}, \n",
    " month=may, \n",
    " pages={269–300} \n",
    "}\n",
    "```\n",
    "\n",
    ":::"
   ]
  },
  {
   "cell_type": "markdown",
   "id": "bf8c1703",
   "metadata": {},
   "source": [
    "## Imports"
   ]
  },
  {
   "cell_type": "code",
   "execution_count": 1,
   "id": "4f583c96",
   "metadata": {},
   "outputs": [],
   "source": [
    "# | code-fold: true\n",
    "# | code-summary: \"Load packages\"\n",
    "# | output: false\n",
    "\n",
    "import os\n",
    "import numpy as np\n",
    "import jax\n",
    "from jax import numpy as jnp\n",
    "import pytest\n",
    "from types import SimpleNamespace\n",
    "from sympy import cos, pi, Matrix\n",
    "import pytest\n",
    "\n",
    "from sympy import MutableDenseNDimArray as Arr\n",
    "\n",
    "from library.python.fvm.solver_jax import HyperbolicSolver, Settings\n",
    "from library.python.fvm.ode import RK1\n",
    "import library.python.fvm.reconstruction as recon\n",
    "import library.python.fvm.timestepping as timestepping\n",
    "import library.python.fvm.flux as flux\n",
    "import library.python.fvm.nonconservative_flux as nc_flux\n",
    "from library.model.boundary_conditions import BoundaryCondition\n",
    "from library.model.basemodel import Model, Function\n",
    "from attr import field, define\n",
    "# from library.model.model import *\n",
    "import library.model.initial_conditions as IC\n",
    "import library.model.boundary_conditions as BC\n",
    "import library.python.misc.io as io\n",
    "from library.python.mesh.mesh import compute_derivatives\n",
    "from library.python.misc.misc import Zstruct\n",
    "from tests.pdesoft import plots_paper\n",
    "from library.python.transformation.to_jax import JaxRuntimeModel\n",
    "from library.python.transformation.to_numpy import NumpyRuntimeModel\n",
    "\n",
    "\n",
    "import library.python.mesh.mesh as petscMesh\n",
    "import library.python.postprocessing.postprocessing as postprocessing\n",
    "from library.python.mesh.mesh import convert_mesh_to_jax\n",
    "import argparse"
   ]
  },
  {
   "cell_type": "code",
   "execution_count": 9,
   "id": "9155543c",
   "metadata": {},
   "outputs": [],
   "source": [
    "@define(frozen=True, slots=True, kw_only=True)\n",
    "class SWE(Model):\n",
    "    dimension: int = 2\n",
    "    variables: Zstruct = field(init=False, default=dimension + 1)\n",
    "    aux_variables: Zstruct = field(default=2)\n",
    "    _default_parameters: dict = field(\n",
    "        init=False,\n",
    "        factory=lambda: {\"g\": 9.81, \"ex\": 0.0, \"ey\": 0.0, \"ez\": 1.0}\n",
    "        )\n",
    "\n",
    "\n",
    "    def project_2d_to_3d(self):\n",
    "        out = Arr.zeros(6)\n",
    "        dim = self.dimension\n",
    "        x = self.position[0]\n",
    "        y = self.position[1]\n",
    "        z = self.position[2]\n",
    "        h = self.variables[0]\n",
    "        U = [hu / h for hu in self.variables[1:1+dim]]\n",
    "        rho_w = 1000.\n",
    "        g = 9.81\n",
    "        out[0] = 0\n",
    "        out[1] = h\n",
    "        out[2] = U[0]\n",
    "        out[3] = 0 if dim == 1 else U[1]\n",
    "        out[4] = 0\n",
    "        out[5] = rho_w * g * h * (1-z)\n",
    "        return out\n",
    "\n",
    "    def flux(self):\n",
    "        dim = self.dimension\n",
    "        h = self.variables[0]\n",
    "        U = Matrix([hu / h for hu in self.variables[1:1+dim]])\n",
    "        g = self.parameters.g\n",
    "        I = Matrix.eye(dim)\n",
    "        F = Arr.zeros(self.variables.length(), dim)\n",
    "        F[0, :] = list(h * U)\n",
    "        F[1:, :] = h * U * U.T + g/2 * h**2 * I\n",
    "        return F\n",
    "    \n"
   ]
  },
  {
   "cell_type": "code",
   "execution_count": 11,
   "id": "9d8b0a27",
   "metadata": {},
   "outputs": [
    {
     "name": "stdout",
     "output_type": "stream",
     "text": [
      "[[[0, 0], [g*q0 - q1**2/q0**2, -q1*q2/q0**2], [-q1*q2/q0**2, g*q0 - q2**2/q0**2]], [[1, 0], [2*q1/q0, q2/q0], [q2/q0, 0]], [[0, 1], [0, q1/q0], [q1/q0, 2*q2/q0]]]\n",
      "1\n"
     ]
    },
    {
     "ename": "AttributeError",
     "evalue": "'Piecewise' object has no attribute 'tolist'",
     "output_type": "error",
     "traceback": [
      "\u001b[31m---------------------------------------------------------------------------\u001b[39m",
      "\u001b[31mAttributeError\u001b[39m                            Traceback (most recent call last)",
      "\u001b[36mCell\u001b[39m\u001b[36m \u001b[39m\u001b[32mIn[11]\u001b[39m\u001b[32m, line 24\u001b[39m\n\u001b[32m     22\u001b[39m \u001b[38;5;28mprint\u001b[39m(model.quasilinear_matrix())\n\u001b[32m     23\u001b[39m \u001b[38;5;28mprint\u001b[39m(\u001b[33m'\u001b[39m\u001b[33m1\u001b[39m\u001b[33m'\u001b[39m)\n\u001b[32m---> \u001b[39m\u001b[32m24\u001b[39m rmodel = \u001b[43mNumpyRuntimeModel\u001b[49m\u001b[43m(\u001b[49m\u001b[43mmodel\u001b[49m\u001b[43m)\u001b[49m\n\u001b[32m     25\u001b[39m \u001b[38;5;28mprint\u001b[39m(\u001b[33m\"\u001b[39m\u001b[33m2\u001b[39m\u001b[33m\"\u001b[39m)\n\u001b[32m     27\u001b[39m q = np.linspace(\u001b[32m1\u001b[39m,\u001b[32m3\u001b[39m,\u001b[32m3\u001b[39m)\n",
      "\u001b[36mFile \u001b[39m\u001b[32m<attrs generated init library.python.transformation.to_numpy.NumpyRuntimeModel>:7\u001b[39m, in \u001b[36m__init__\u001b[39m\u001b[34m(self, model)\u001b[39m\n\u001b[32m      5\u001b[39m _setattr(\u001b[33m'\u001b[39m\u001b[33mleft_eigenvectors\u001b[39m\u001b[33m'\u001b[39m, attr_dict[\u001b[33m'\u001b[39m\u001b[33mleft_eigenvectors\u001b[39m\u001b[33m'\u001b[39m].default)\n\u001b[32m      6\u001b[39m _setattr(\u001b[33m'\u001b[39m\u001b[33mright_eigenvectors\u001b[39m\u001b[33m'\u001b[39m, attr_dict[\u001b[33m'\u001b[39m\u001b[33mright_eigenvectors\u001b[39m\u001b[33m'\u001b[39m].default)\n\u001b[32m----> \u001b[39m\u001b[32m7\u001b[39m \u001b[38;5;28;43mself\u001b[39;49m\u001b[43m.\u001b[49m\u001b[43m__attrs_post_init__\u001b[49m\u001b[43m(\u001b[49m\u001b[43m)\u001b[49m\n",
      "\u001b[36mFile \u001b[39m\u001b[32m~/Git/Zoomy/library/python/transformation/to_numpy.py:87\u001b[39m, in \u001b[36mNumpyRuntimeModel.__attrs_post_init__\u001b[39m\u001b[34m(self)\u001b[39m\n\u001b[32m     81\u001b[39m project_2d_to_3d=model._project_2d_to_3d.lambdify(\n\u001b[32m     82\u001b[39m     modules=[\u001b[38;5;28mself\u001b[39m.module, \u001b[38;5;28mself\u001b[39m.printer]\n\u001b[32m     83\u001b[39m ),\n\u001b[32m     84\u001b[39m project_3d_to_2d=model._project_3d_to_2d.lambdify(\n\u001b[32m     85\u001b[39m     modules=[\u001b[38;5;28mself\u001b[39m.module, \u001b[38;5;28mself\u001b[39m.printer]\n\u001b[32m     86\u001b[39m ),\n\u001b[32m---> \u001b[39m\u001b[32m87\u001b[39m bcs = \u001b[43mmodel\u001b[49m\u001b[43m.\u001b[49m\u001b[43m_boundary_conditions\u001b[49m\u001b[43m.\u001b[49m\u001b[43mlambdify\u001b[49m\u001b[43m(\u001b[49m\u001b[43mmodules\u001b[49m\u001b[43m=\u001b[49m\u001b[43m[\u001b[49m\u001b[38;5;28;43mself\u001b[39;49m\u001b[43m.\u001b[49m\u001b[43mmodule\u001b[49m\u001b[43m,\u001b[49m\u001b[43m \u001b[49m\u001b[38;5;28;43mself\u001b[39;49m\u001b[43m.\u001b[49m\u001b[43mprinter\u001b[49m\u001b[43m]\u001b[49m\u001b[43m)\u001b[49m,\n\u001b[32m     90\u001b[39m \u001b[38;5;66;03m# --- Assign frozen fields -------------------------------------\u001b[39;00m\n\u001b[32m     91\u001b[39m \u001b[38;5;28mobject\u001b[39m.\u001b[34m__setattr__\u001b[39m(\u001b[38;5;28mself\u001b[39m, \u001b[33m\"\u001b[39m\u001b[33mname\u001b[39m\u001b[33m\"\u001b[39m, model.name)\n",
      "\u001b[36mFile \u001b[39m\u001b[32m~/Git/Zoomy/library/model/basefunction.py:79\u001b[39m, in \u001b[36mFunction.lambdify\u001b[39m\u001b[34m(self, modules)\u001b[39m\n\u001b[32m     74\u001b[39m \u001b[38;5;28;01mdef\u001b[39;00m\u001b[38;5;250m \u001b[39m\u001b[34mlambdify\u001b[39m(\u001b[38;5;28mself\u001b[39m, modules=\u001b[38;5;28;01mNone\u001b[39;00m):\n\u001b[32m     75\u001b[39m \u001b[38;5;250m    \u001b[39m\u001b[33;03m\"\"\"Return a lambdified version of the function.\"\"\"\u001b[39;00m\n\u001b[32m     77\u001b[39m     func = lambdify(\n\u001b[32m     78\u001b[39m         \u001b[38;5;28mself\u001b[39m.args.get_list(),\n\u001b[32m---> \u001b[39m\u001b[32m79\u001b[39m         sympy.Array(\u001b[43mvectorize_constant_sympy_expressions\u001b[49m\u001b[43m(\u001b[49m\n\u001b[32m     80\u001b[39m \u001b[43m            \u001b[49m\u001b[38;5;28;43mself\u001b[39;49m\u001b[43m.\u001b[49m\u001b[43mdefinition\u001b[49m\u001b[43m,\u001b[49m\u001b[43m \u001b[49m\u001b[38;5;28;43mself\u001b[39;49m\u001b[43m.\u001b[49m\u001b[43margs\u001b[49m\u001b[43m.\u001b[49m\u001b[43mvariables\u001b[49m\u001b[43m,\u001b[49m\u001b[43m \u001b[49m\u001b[38;5;28;43mself\u001b[39;49m\u001b[43m.\u001b[49m\u001b[43margs\u001b[49m\u001b[43m.\u001b[49m\u001b[43maux_variables\u001b[49m\n\u001b[32m     81\u001b[39m \u001b[43m        \u001b[49m\u001b[43m)\u001b[49m),\n\u001b[32m     82\u001b[39m         modules=modules\n\u001b[32m     83\u001b[39m     )\n\u001b[32m     84\u001b[39m     \u001b[38;5;28;01mreturn\u001b[39;00m func\n",
      "\u001b[36mFile \u001b[39m\u001b[32m~/Git/Zoomy/library/model/basefunction.py:26\u001b[39m, in \u001b[36mvectorize_constant_sympy_expressions\u001b[39m\u001b[34m(expr, Q, Qaux)\u001b[39m\n\u001b[32m     24\u001b[39m ones_like = sp.Function(\u001b[33m\"\u001b[39m\u001b[33mones_like\u001b[39m\u001b[33m\"\u001b[39m)  \u001b[38;5;66;03m# symbolic placeholder\u001b[39;00m\n\u001b[32m     25\u001b[39m zeros_like = sp.Function(\u001b[33m\"\u001b[39m\u001b[33mzeros_like\u001b[39m\u001b[33m\"\u001b[39m)  \u001b[38;5;66;03m# symbolic placeholder\u001b[39;00m\n\u001b[32m---> \u001b[39m\u001b[32m26\u001b[39m expr = \u001b[43mexpr\u001b[49m\u001b[43m.\u001b[49m\u001b[43mtolist\u001b[49m()\n\u001b[32m     28\u001b[39m \u001b[38;5;28;01mdef\u001b[39;00m\u001b[38;5;250m \u001b[39m\u001b[34mvectorize_entry\u001b[39m(entry):\n\u001b[32m     29\u001b[39m \u001b[38;5;250m    \u001b[39m\u001b[33;03m\"\"\"Return entry multiplied by ones_like(q0) if it is constant.\"\"\"\u001b[39;00m\n",
      "\u001b[31mAttributeError\u001b[39m: 'Piecewise' object has no attribute 'tolist'"
     ]
    }
   ],
   "source": [
    "\n",
    "\n",
    "bcs = BC.BoundaryConditions(\n",
    "    [\n",
    "        BC.Wall(physical_tag=\"wall\"),\n",
    "        BC.Wall(physical_tag=\"inflow\"),\n",
    "        BC.Wall(physical_tag=\"outflow\"),\n",
    "    ]\n",
    ")\n",
    "\n",
    "def custom_ic(x):\n",
    "    Q = np.zeros(3, dtype=float)\n",
    "    Q[0] = np.where(x[0] < 5., 0.005, 0.001)\n",
    "    return Q\n",
    "\n",
    "ic = IC.UserFunction(custom_ic)\n",
    "\n",
    "model = SWE(\n",
    "    dimension=2,\n",
    "    boundary_conditions=bcs,\n",
    "    initial_conditions=ic,\n",
    ")\n",
    "\n",
    "print(model.quasilinear_matrix())\n",
    "print('1')\n",
    "rmodel = NumpyRuntimeModel(model)\n",
    "print(\"2\")\n",
    "\n",
    "q = np.linspace(1,3,3)\n",
    "qaux = np.linspace(1,2,2)\n",
    "param = model.parameter_values\n",
    "print(q, qaux, param)\n",
    "print(rmodel.quasilinear_matrix(q, qaux, param))\n",
    "\n",
    "\n",
    "# main_dir = os.getenv(\"ZOOMY_DIR\")\n",
    "# mesh = petscMesh.Mesh.from_gmsh(\n",
    "#     os.path.join(main_dir, \"meshes/channel_quad_2d/mesh.msh\")\n",
    "# )\n",
    "\n",
    "# class SWESolver(HyperbolicSolver):\n",
    "#     def update_qaux(self, Q, Qaux, Qold, Qauxold, mesh, model, parameters, time, dt):\n",
    "#         dudx = compute_derivatives(Q[1]/Q[0], mesh, derivatives_multi_index=[[0, 0]])[:,0]\n",
    "#         dvdy = compute_derivatives(Q[2]/Q[0], mesh, derivatives_multi_index=[[0, 1]])[:,0]\n",
    "#         Qaux = Qaux.at[0].set(dudx)\n",
    "#         Qaux = Qaux.at[1].set(dvdy)\n",
    "#         return Qaux\n",
    "    \n",
    "# settings = Settings(name=\"ShallowWater\", output=Zstruct(directory=\"outputs/shallow_water_2d\", filename=\"swe.h5\", clean_directory=True))\n",
    "\n",
    "# solver = SWESolver(time_end=6, settings=settings)\n",
    "# Qnew, Qaux = solver.solve(mesh, model)"
   ]
  },
  {
   "cell_type": "code",
   "execution_count": null,
   "id": "e7446719",
   "metadata": {},
   "outputs": [],
   "source": [
    "io.generate_vtk(os.path.join(settings.output.directory, f\"{settings.output.filename}.h5\"))\n",
    "postprocessing.vtk_project_2d_to_3d(model, settings, Nz=20, filename='out_3d')"
   ]
  },
  {
   "cell_type": "code",
   "execution_count": null,
   "id": "a2b1acac",
   "metadata": {},
   "outputs": [],
   "source": [
    "fig = plots_paper.plot_swe(os.path.join(settings.output.directory, settings.output.filename + \".h5\"))"
   ]
  },
  {
   "cell_type": "code",
   "execution_count": null,
   "id": "d7d1f1c3",
   "metadata": {},
   "outputs": [],
   "source": [
    "@pytest.mark.nbworking\n",
    "def test_working():\n",
    "    assert True"
   ]
  }
 ],
 "metadata": {
  "kernelspec": {
   "display_name": "zoomy",
   "language": "python",
   "name": "python3"
  },
  "language_info": {
   "codemirror_mode": {
    "name": "ipython",
    "version": 3
   },
   "file_extension": ".py",
   "mimetype": "text/x-python",
   "name": "python",
   "nbconvert_exporter": "python",
   "pygments_lexer": "ipython3",
   "version": "3.12.11"
  }
 },
 "nbformat": 4,
 "nbformat_minor": 5
}
