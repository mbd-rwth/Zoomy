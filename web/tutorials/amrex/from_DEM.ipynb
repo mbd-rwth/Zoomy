{
 "cells": [
  {
   "cell_type": "raw",
   "id": "906eac95",
   "metadata": {
    "vscode": {
     "languageId": "raw"
    }
   },
   "source": [
    "---\n",
    "title: \"Simulate from DEM\"\n",
    "author: Ingo Steldermann\n",
    "date: 08/28/2025\n",
    "format:\n",
    "  html:\n",
    "    code-fold: false\n",
    "    code-tools: true\n",
    "    css: ../notebook.css\n",
    "---"
   ]
  },
  {
   "cell_type": "markdown",
   "id": "0125f8c9",
   "metadata": {
    "vscode": {
     "languageId": "raw"
    }
   },
   "source": [
    "# Simulate from FEM"
   ]
  },
  {
   "cell_type": "markdown",
   "id": "bf8c1703",
   "metadata": {},
   "source": [
    "## Imports\n",
    "\n",
    "\n",
    ":::{.callout-warning}\n",
    "You need to modify  `ZOOMY_AMREX_HOME` below to point to your local AMReX installation\n",
    ":::"
   ]
  },
  {
   "cell_type": "code",
   "execution_count": 1,
   "id": "5c9d986d",
   "metadata": {},
   "outputs": [],
   "source": [
    "import os\n",
    "from pathlib import Path\n",
    "import sys\n",
    "import rasterio\n",
    "os.environ['PYTHONPATH'] = os.path.join(os.getcwd(), '../../..')\n",
    "os.environ['ZOOMY_DIR'] = os.path.join(os.getcwd(), '../../..')\n",
    "os.environ['ZoomyLog'] = 'Default'\n",
    "os.environ['ZoomyLogLevel'] = 'INFO'\n",
    "os.environ['JAX_ENABLE_X64'] = 'True'\n",
    "os.environ['ZOOMY_AMREX_HOME'] = '/home/is086873/MBD/Git/amrex'\n",
    "\n",
    "\n",
    "project_root = Path.cwd().parents[2]  # 0=current, 1=.., 2=../..\n",
    "sys.path.append(str(project_root))"
   ]
  },
  {
   "cell_type": "code",
   "execution_count": 2,
   "id": "4f583c96",
   "metadata": {},
   "outputs": [
    {
     "name": "stderr",
     "output_type": "stream",
     "text": [
      "\u001b[32m2025-09-02 16:58:50.320\u001b[0m | \u001b[33m\u001b[1mWARNING \u001b[0m | \u001b[36mlibrary.fvm.solver\u001b[0m:\u001b[36m<module>\u001b[0m:\u001b[36m28\u001b[0m - \u001b[33m\u001b[1mNo module named 'precice'\u001b[0m\n"
     ]
    }
   ],
   "source": [
    "# | code-fold: true\n",
    "# | code-summary: \"Load packages\"\n",
    "# | output: false\n",
    "\n",
    "import os\n",
    "import numpy as np\n",
    "from sympy import Matrix\n",
    "\n",
    "from library.fvm.solver import Settings\n",
    "from library.model.models.shallow_water import ShallowWaterEquations\n",
    "from library.model.models.shallow_moments_topo import ShallowMomentsTopo, ShallowMomentsTopoNumerical\n",
    "\n",
    "\n",
    "import library.model.initial_conditions as IC\n",
    "import library.model.boundary_conditions as BC\n",
    "from library.misc.misc import Zstruct\n",
    "import library.transformation.to_c as trafo\n",
    "from tutorials.amrex.helper import create_artificial_raster, show_raster"
   ]
  },
  {
   "cell_type": "markdown",
   "id": "8908e33f",
   "metadata": {},
   "source": [
    "## Model definition"
   ]
  },
  {
   "cell_type": "code",
   "execution_count": 3,
   "id": "9d8b0a27",
   "metadata": {},
   "outputs": [],
   "source": [
    "# Currently, BCs are not implemented in AMReX and periodic BCs are applied\n",
    "bcs = BC.BoundaryConditions(\n",
    "    [\n",
    "        BC.Extrapolation(physical_tag=\"N\"),\n",
    "        BC.Extrapolation(physical_tag=\"S\"),\n",
    "        BC.Extrapolation(physical_tag=\"E\"),\n",
    "        BC.Extrapolation(physical_tag=\"W\"),\n",
    "    ]\n",
    ")\n",
    "\n",
    "\n",
    "class MyModel(ShallowMomentsTopoNumerical):\n",
    "    def source(self):\n",
    "        out = Matrix([0 for i in range(self.n_variables)])\n",
    "        out += self.inclination()\n",
    "        out += self.newtonian()\n",
    "        out += self.slip_mod()\n",
    "        out += self.chezy()\n",
    "        return self.substitute_precomputed_denominator(out, self.variables[1], self.aux_variables.hinv)\n",
    "         \n",
    "\n",
    "level = 0\n",
    "model = MyModel(\n",
    "    level=level,\n",
    "    boundary_conditions=bcs,\n",
    "    parameters=Zstruct(nu=0.000001, lamda=1/1000., rho=1000, c_slipmod=1/30, C=1/6),\n",
    "    # aux_variables = ['hinv'] + [f'dalpha_{i}_dx' for i in range(level+1)] + [f'dbeta_{i}_dy' for i in range(level+1)],\n",
    "    aux_variables = ['hinv'],\n",
    "    \n",
    ")\n"
   ]
  },
  {
   "cell_type": "code",
   "execution_count": 4,
   "id": "ddfe40a8",
   "metadata": {},
   "outputs": [
    {
     "name": "stdout",
     "output_type": "stream",
     "text": [
      "['g', 'ex', 'ey', 'ez', 'rho', 'nu', 'lamda', 'c_slipmod', 'C']\n",
      "[9.81000000e+00 0.00000000e+00 0.00000000e+00 1.00000000e+00\n",
      " 1.00000000e+03 1.00000000e-06 1.00000000e-03 3.33333333e-02\n",
      " 1.66666667e-01]\n"
     ]
    }
   ],
   "source": [
    "print(model.parameters.keys())\n",
    "print(model.parameter_values)"
   ]
  },
  {
   "cell_type": "code",
   "execution_count": 5,
   "id": "adaf2a08",
   "metadata": {},
   "outputs": [
    {
     "data": {
      "text/latex": [
       "$\\displaystyle \\left[\\begin{matrix}0\\\\0\\\\ex g q_{1} - \\frac{1.0 hinv q_{2} \\sqrt{hinv^{2} q_{2}^{2} + hinv^{2} q_{3}^{2}}}{C^{2}}\\\\ey g q_{1} - \\frac{1.0 hinv q_{3} \\sqrt{hinv^{2} q_{2}^{2} + hinv^{2} q_{3}^{2}}}{C^{2}}\\end{matrix}\\right]$"
      ],
      "text/plain": [
       "⎡                       0                        ⎤\n",
       "⎢                                                ⎥\n",
       "⎢                       0                        ⎥\n",
       "⎢                                                ⎥\n",
       "⎢                         _______________________⎥\n",
       "⎢                        ╱     2   2       2   2 ⎥\n",
       "⎢          1.0⋅hinv⋅q₂⋅╲╱  hinv ⋅q₂  + hinv ⋅q₃  ⎥\n",
       "⎢ex⋅g⋅q₁ - ──────────────────────────────────────⎥\n",
       "⎢                             2                  ⎥\n",
       "⎢                            C                   ⎥\n",
       "⎢                                                ⎥\n",
       "⎢                         _______________________⎥\n",
       "⎢                        ╱     2   2       2   2 ⎥\n",
       "⎢          1.0⋅hinv⋅q₃⋅╲╱  hinv ⋅q₂  + hinv ⋅q₃  ⎥\n",
       "⎢ey⋅g⋅q₁ - ──────────────────────────────────────⎥\n",
       "⎢                             2                  ⎥\n",
       "⎣                            C                   ⎦"
      ]
     },
     "execution_count": 5,
     "metadata": {},
     "output_type": "execute_result"
    }
   ],
   "source": [
    "model.source()"
   ]
  },
  {
   "cell_type": "code",
   "execution_count": 6,
   "id": "42b419c4",
   "metadata": {},
   "outputs": [
    {
     "data": {
      "text/latex": [
       "$\\displaystyle \\left[\\begin{matrix}0\\\\hinv \\left(n_{0} q_{2} + n_{1} q_{3}\\right)\\\\hinv^{2} \\left(n_{0} q_{1} q_{2} + n_{1} q_{1} q_{3} + \\sqrt{ez g q_{1}^{5}} \\sqrt{n_{0}^{2} + n_{1}^{2}}\\right)\\\\hinv^{2} \\left(n_{0} q_{1} q_{2} + n_{1} q_{1} q_{3} - \\sqrt{ez g q_{1}^{5}} \\sqrt{n_{0}^{2} + n_{1}^{2}}\\right)\\end{matrix}\\right]$"
      ],
      "text/plain": [
       "⎡                            0                             ⎤\n",
       "⎢                                                          ⎥\n",
       "⎢                   hinv⋅(n₀⋅q₂ + n₁⋅q₃)                   ⎥\n",
       "⎢                                                          ⎥\n",
       "⎢      ⎛                         __________    ___________⎞⎥\n",
       "⎢    2 ⎜                        ╱        5    ╱   2     2 ⎟⎥\n",
       "⎢hinv ⋅⎝n₀⋅q₁⋅q₂ + n₁⋅q₁⋅q₃ + ╲╱  ez⋅g⋅q₁  ⋅╲╱  n₀  + n₁  ⎠⎥\n",
       "⎢                                                          ⎥\n",
       "⎢      ⎛                         __________    ___________⎞⎥\n",
       "⎢    2 ⎜                        ╱        5    ╱   2     2 ⎟⎥\n",
       "⎣hinv ⋅⎝n₀⋅q₁⋅q₂ + n₁⋅q₁⋅q₃ - ╲╱  ez⋅g⋅q₁  ⋅╲╱  n₀  + n₁  ⎠⎦"
      ]
     },
     "execution_count": 6,
     "metadata": {},
     "output_type": "execute_result"
    }
   ],
   "source": [
    "model.eigenvalues()"
   ]
  },
  {
   "cell_type": "code",
   "execution_count": 7,
   "id": "44c68292",
   "metadata": {},
   "outputs": [
    {
     "data": {
      "text/latex": [
       "$\\displaystyle \\left[ \\left[\\begin{matrix}0 & 0 & 0 & 0\\\\0 & 0 & 1 & 0\\\\ez g q_{1} & ez g q_{1} - hinv^{2} q_{2}^{2} & 2 hinv q_{2} & 0\\\\0 & - hinv^{2} q_{2} q_{3} & hinv q_{3} & hinv q_{2}\\end{matrix}\\right], \\  \\left[\\begin{matrix}0 & 0 & 0 & 0\\\\0 & 0 & 0 & 1\\\\0 & - hinv^{2} q_{2} q_{3} & hinv q_{3} & hinv q_{2}\\\\ez g q_{1} & ez g q_{1} - hinv^{2} q_{3}^{2} & 0 & 2 hinv q_{3}\\end{matrix}\\right]\\right]$"
      ],
      "text/plain": [
       "⎡⎡   0              0               0         0   ⎤  ⎡   0              0      ↪\n",
       "⎢⎢                                                ⎥  ⎢                         ↪\n",
       "⎢⎢   0              0               1         0   ⎥  ⎢   0              0      ↪\n",
       "⎢⎢                                                ⎥  ⎢                         ↪\n",
       "⎢⎢                       2   2                    ⎥, ⎢                 2       ↪\n",
       "⎢⎢ez⋅g⋅q₁  ez⋅g⋅q₁ - hinv ⋅q₂   2⋅hinv⋅q₂     0   ⎥  ⎢   0        -hinv ⋅q₂⋅q₃ ↪\n",
       "⎢⎢                                                ⎥  ⎢                         ↪\n",
       "⎢⎢                 2                              ⎥  ⎢                       2 ↪\n",
       "⎣⎣   0        -hinv ⋅q₂⋅q₃       hinv⋅q₃   hinv⋅q₂⎦  ⎣ez⋅g⋅q₁  ez⋅g⋅q₁ - hinv  ↪\n",
       "\n",
       "↪          0         0    ⎤⎤\n",
       "↪                         ⎥⎥\n",
       "↪          0         1    ⎥⎥\n",
       "↪                         ⎥⎥\n",
       "↪                         ⎥⎥\n",
       "↪       hinv⋅q₃   hinv⋅q₂ ⎥⎥\n",
       "↪                         ⎥⎥\n",
       "↪    2                    ⎥⎥\n",
       "↪ ⋅q₃      0     2⋅hinv⋅q₃⎦⎦"
      ]
     },
     "execution_count": 7,
     "metadata": {},
     "output_type": "execute_result"
    }
   ],
   "source": [
    "model.quasilinear_matrix()"
   ]
  },
  {
   "cell_type": "markdown",
   "id": "5f7de862",
   "metadata": {},
   "source": [
    "## Display DEM inputs"
   ]
  },
  {
   "cell_type": "code",
   "execution_count": 8,
   "id": "71655e40",
   "metadata": {},
   "outputs": [
    {
     "data": {
      "image/png": "[encoded data removed]",
      "text/plain": [
       "<Figure size 640x480 with 1 Axes>"
      ]
     },
     "metadata": {},
     "output_type": "display_data"
    },
    {
     "data": {
      "image/png": "[encoded data removed]",
      "text/plain": [
       "<Figure size 640x480 with 1 Axes>"
      ]
     },
     "metadata": {},
     "output_type": "display_data"
    }
   ],
   "source": [
    "main_dir = os.getenv(\"ZOOMY_DIR\")\n",
    "dem_path = os.path.join(main_dir, 'data/ca_elev.tif')\n",
    "ic_water_path = os.path.join(main_dir, 'data/ca_debrisflow.tif')\n",
    "\n",
    "dem_path = os.path.join(main_dir, 'data/evel_artificial.tif')\n",
    "ic_water_path = os.path.join(main_dir, 'data/release_artificial.tif')\n",
    "N = 100\n",
    "dx = 1\n",
    "M = N * dx\n",
    "create_artificial_raster(lambda x, y: 10*np.exp((-x**2-y**2)/M), (-M, M, -M, M), dx, ic_water_path)\n",
    "create_artificial_raster(lambda x, y: 0. * np.exp(-(x+M)**2/M**2), (-M, M, -M, M), dx, dem_path)\n",
    "\n",
    "show_raster(dem_path)\n",
    "show_raster(ic_water_path)\n"
   ]
  },
  {
   "cell_type": "markdown",
   "id": "e3f1a6bc",
   "metadata": {},
   "source": [
    "## Code transformation and AMReX compilation\n",
    "\n",
    "currently, we always \"clean\" and compile from scratch. Comment out \"make clean\" to disable."
   ]
  },
  {
   "cell_type": "code",
   "execution_count": 9,
   "id": "0be9f302",
   "metadata": {},
   "outputs": [
    {
     "name": "stderr",
     "output_type": "stream",
     "text": [
      "\u001b[32m2025-09-02 16:58:51.477\u001b[0m | \u001b[33m\u001b[1mWARNING \u001b[0m | \u001b[36mlibrary.misc.misc\u001b[0m:\u001b[36m__init__\u001b[0m:\u001b[36m143\u001b[0m - \u001b[33m\u001b[1mNo 'filename' attribute found in output Zstruct. Default: 'simulation'\u001b[0m\n",
      "\u001b[32m2025-09-02 16:58:51.478\u001b[0m | \u001b[33m\u001b[1mWARNING \u001b[0m | \u001b[36mlibrary.misc.misc\u001b[0m:\u001b[36m__init__\u001b[0m:\u001b[36m146\u001b[0m - \u001b[33m\u001b[1mNo 'clean_directory' attribute found in output Zstruct. Default: False\u001b[0m\n"
     ]
    }
   ],
   "source": [
    "\n",
    "import shutil\n",
    "from pathlib import Path\n",
    "settings = Settings(name=\"ShallowWater\", output=Zstruct(directory=\"outputs/amrex\"))\n",
    "source_dir = Path(os.path.join(main_dir, 'library/amrex/Exec'))\n",
    "output_dir = Path(os.path.join(main_dir, settings.output.directory))\n",
    "\n",
    "if os.path.exists(output_dir):\n",
    "    shutil.rmtree(output_dir)\n",
    "\n",
    "trafo.to_c(model, settings)\n",
    "main_dir = os.getenv(\"ZOOMY_DIR\")\n",
    "os.environ['ZOOMY_AMREX_MODEL'] = os.path.join(main_dir, os.path.join(settings.output.directory, '.c_interface'))"
   ]
  },
  {
   "cell_type": "code",
   "execution_count": null,
   "id": "9a966579",
   "metadata": {},
   "outputs": [
    {
     "name": "stderr",
     "output_type": "stream",
     "text": [
      "[WARN] OpenMPI's default binding is set to OFF, you can override this\n",
      "[INFO] Module foss/2024a loaded.\n",
      "fatal: not a git repository (or any parent up to mount point /rwthfs/rz/cluster/home)\n",
      "Stopping at filesystem boundary (GIT_DISCOVERY_ACROSS_FILESYSTEM not set).\n"
     ]
    },
    {
     "name": "stdout",
     "output_type": "stream",
     "text": [
      "Loading /home/is086873/MBD/Git/amrex/Tools/GNUMake/comps/gnu.mak...\n",
      "Loading /home/is086873/MBD/Git/amrex/Tools/GNUMake/sites/Make.unknown...\n",
      "Compiling write_plotfiles.cpp ...\n",
      "mpicxx -MMD -MP -Werror=return-type -gdwarf-4 -O3 -finline-limit=43210 -std=c++17  -pthread    -DBL_USE_MPI -DAMREX_USE_MPI -DAMREX_GPU_MAX_THREADS=0 -DBL_SPACEDIM=3 -DAMREX_SPACEDIM=3 -DBL_FORT_USE_UNDERSCORE -DAMREX_FORT_USE_UNDERSCORE -DBL_Linux -DAMREX_Linux -DNDEBUG -DOMPI_SKIP_MPICXX -Itmp_build_dir/s/3d.gnu.MPI.EXE -I. -I../Source -I/rwthfs/rz/cluster/home/is086873/Git/Zoomy/web/tutorials/amrex/../../../outputs/amrex/.c_interface -I/home/is086873/MBD/Git/amrex/Src/Base -I/home/is086873/MBD/Git/amrex/Src/Base/Parser  -I/cvmfs/software.hpc.rwth.de/Linux/RH9/x86_64/intel/sapphirerapids/software/OpenMPI/5.0.3-GCC-13.3.0/include -c ../Source/write_plotfiles.cpp -o tmp_build_dir/o/3d.gnu.MPI.EXE/write_plotfiles.o\n",
      "Compiling main.cpp ...\n",
      "mpicxx -MMD -MP -Werror=return-type -gdwarf-4 -O3 -finline-limit=43210 -std=c++17  -pthread    -DBL_USE_MPI -DAMREX_USE_MPI -DAMREX_GPU_MAX_THREADS=0 -DBL_SPACEDIM=3 -DAMREX_SPACEDIM=3 -DBL_FORT_USE_UNDERSCORE -DAMREX_FORT_USE_UNDERSCORE -DBL_Linux -DAMREX_Linux -DNDEBUG -DOMPI_SKIP_MPICXX -Itmp_build_dir/s/3d.gnu.MPI.EXE -I. -I../Source -I/rwthfs/rz/cluster/home/is086873/Git/Zoomy/web/tutorials/amrex/../../../outputs/amrex/.c_interface -I/home/is086873/MBD/Git/amrex/Src/Base -I/home/is086873/MBD/Git/amrex/Src/Base/Parser  -I/cvmfs/software.hpc.rwth.de/Linux/RH9/x86_64/intel/sapphirerapids/software/OpenMPI/5.0.3-GCC-13.3.0/include -c ../Source/main.cpp -o tmp_build_dir/o/3d.gnu.MPI.EXE/main.o\n",
      "Linking main3d.gnu.MPI.ex ...\n",
      "mpicxx -Werror=return-type -gdwarf-4 -O3 -finline-limit=43210 -std=c++17  -pthread   -DBL_USE_MPI -DAMREX_USE_MPI -DAMREX_GPU_MAX_THREADS=0 -DBL_SPACEDIM=3 -DAMREX_SPACEDIM=3 -DBL_FORT_USE_UNDERSCORE -DAMREX_FORT_USE_UNDERSCORE -DBL_Linux -DAMREX_Linux -DNDEBUG -DOMPI_SKIP_MPICXX -Itmp_build_dir/s/3d.gnu.MPI.EXE -I. -I../Source -I/rwthfs/rz/cluster/home/is086873/Git/Zoomy/web/tutorials/amrex/../../../outputs/amrex/.c_interface -I/home/is086873/MBD/Git/amrex/Src/Base -I/home/is086873/MBD/Git/amrex/Src/Base/Parser  -L. -L/cvmfs/software.hpc.rwth.de/Linux/RH9/x86_64/intel/sapphirerapids/software/GCCcore/13.3.0/lib/gcc/x86_64-pc-linux-gnu/13.3.0/../../../../lib64/ -o main3d.gnu.MPI.ex tmp_build_dir/o/3d.gnu.MPI.EXE/init_solution.o tmp_build_dir/o/3d.gnu.MPI.EXE/write_plotfiles.o tmp_build_dir/o/3d.gnu.MPI.EXE/plotfile_utils.o tmp_build_dir/o/3d.gnu.MPI.EXE/main.o tmp_build_dir/o/3d.gnu.MPI.EXE/AMReX.o tmp_build_dir/o/3d.gnu.MPI.EXE/AMReX_error_fi.o tmp_build_dir/o/3d.gnu.MPI.EXE/AMReX_Version.o tmp_build_dir/o/3d.gnu.MPI.EXE/AMReX_PODVector.o tmp_build_dir/o/3d.gnu.MPI.EXE/AMReX_BlockMutex.o tmp_build_dir/o/3d.gnu.MPI.EXE/AMReX_String.o tmp_build_dir/o/3d.gnu.MPI.EXE/AMReX_ParmParse.o tmp_build_dir/o/3d.gnu.MPI.EXE/AMReX_parmparse_fi.o tmp_build_dir/o/3d.gnu.MPI.EXE/AMReX_Utility.o tmp_build_dir/o/3d.gnu.MPI.EXE/AMReX_FileSystem.o tmp_build_dir/o/3d.gnu.MPI.EXE/AMReX_Random.o tmp_build_dir/o/3d.gnu.MPI.EXE/AMReX_DistributionMapping.o tmp_build_dir/o/3d.gnu.MPI.EXE/AMReX_ParallelDescriptor.o tmp_build_dir/o/3d.gnu.MPI.EXE/AMReX_OpenMP.o tmp_build_dir/o/3d.gnu.MPI.EXE/AMReX_ForkJoin.o tmp_build_dir/o/3d.gnu.MPI.EXE/AMReX_ParallelContext.o tmp_build_dir/o/3d.gnu.MPI.EXE/AMReX_VisMF.o tmp_build_dir/o/3d.gnu.MPI.EXE/AMReX_Arena.o tmp_build_dir/o/3d.gnu.MPI.EXE/AMReX_BArena.o tmp_build_dir/o/3d.gnu.MPI.EXE/AMReX_CArena.o tmp_build_dir/o/3d.gnu.MPI.EXE/AMReX_PArena.o tmp_build_dir/o/3d.gnu.MPI.EXE/AMReX_AsyncOut.o tmp_build_dir/o/3d.gnu.MPI.EXE/AMReX_BackgroundThread.o tmp_build_dir/o/3d.gnu.MPI.EXE/AMReX_NFiles.o tmp_build_dir/o/3d.gnu.MPI.EXE/AMReX_parstream.o tmp_build_dir/o/3d.gnu.MPI.EXE/AMReX_GpuControl.o tmp_build_dir/o/3d.gnu.MPI.EXE/AMReX_GpuDevice.o tmp_build_dir/o/3d.gnu.MPI.EXE/AMReX_GpuUtility.o tmp_build_dir/o/3d.gnu.MPI.EXE/AMReX_GpuAsyncArray.o tmp_build_dir/o/3d.gnu.MPI.EXE/AMReX_GpuElixir.o tmp_build_dir/o/3d.gnu.MPI.EXE/AMReX_FabConv.o tmp_build_dir/o/3d.gnu.MPI.EXE/AMReX_FPC.o tmp_build_dir/o/3d.gnu.MPI.EXE/AMReX_IntConv.o tmp_build_dir/o/3d.gnu.MPI.EXE/AMReX_VectorIO.o tmp_build_dir/o/3d.gnu.MPI.EXE/AMReX_Box.o tmp_build_dir/o/3d.gnu.MPI.EXE/AMReX_BoxIterator.o tmp_build_dir/o/3d.gnu.MPI.EXE/AMReX_IntVect.o tmp_build_dir/o/3d.gnu.MPI.EXE/AMReX_IndexType.o tmp_build_dir/o/3d.gnu.MPI.EXE/AMReX_Orientation.o tmp_build_dir/o/3d.gnu.MPI.EXE/AMReX_Periodicity.o tmp_build_dir/o/3d.gnu.MPI.EXE/AMReX_RealBox.o tmp_build_dir/o/3d.gnu.MPI.EXE/AMReX_RealVect.o tmp_build_dir/o/3d.gnu.MPI.EXE/AMReX_BoxList.o tmp_build_dir/o/3d.gnu.MPI.EXE/AMReX_BoxArray.o tmp_build_dir/o/3d.gnu.MPI.EXE/AMReX_BoxDomain.o tmp_build_dir/o/3d.gnu.MPI.EXE/AMReX_FArrayBox.o tmp_build_dir/o/3d.gnu.MPI.EXE/AMReX_IArrayBox.o tmp_build_dir/o/3d.gnu.MPI.EXE/AMReX_BaseFab.o tmp_build_dir/o/3d.gnu.MPI.EXE/AMReX_MultiFab.o tmp_build_dir/o/3d.gnu.MPI.EXE/AMReX_MFCopyDescriptor.o tmp_build_dir/o/3d.gnu.MPI.EXE/AMReX_iMultiFab.o tmp_build_dir/o/3d.gnu.MPI.EXE/AMReX_FabArrayBase.o tmp_build_dir/o/3d.gnu.MPI.EXE/AMReX_MFIter.o tmp_build_dir/o/3d.gnu.MPI.EXE/AMReX_CoordSys.o tmp_build_dir/o/3d.gnu.MPI.EXE/AMReX_Geometry.o tmp_build_dir/o/3d.gnu.MPI.EXE/AMReX_MultiFabUtil.o tmp_build_dir/o/3d.gnu.MPI.EXE/AMReX_BCRec.o tmp_build_dir/o/3d.gnu.MPI.EXE/AMReX_PhysBCFunct.o tmp_build_dir/o/3d.gnu.MPI.EXE/AMReX_BCUtil.o tmp_build_dir/o/3d.gnu.MPI.EXE/AMReX_FilCC_C.o tmp_build_dir/o/3d.gnu.MPI.EXE/AMReX_FilND_C.o tmp_build_dir/o/3d.gnu.MPI.EXE/AMReX_FilFC_C.o tmp_build_dir/o/3d.gnu.MPI.EXE/AMReX_NonLocalBC.o tmp_build_dir/o/3d.gnu.MPI.EXE/AMReX_PlotFileUtil.o tmp_build_dir/o/3d.gnu.MPI.EXE/AMReX_PlotFileDataImpl.o tmp_build_dir/o/3d.gnu.MPI.EXE/AMReX_BLProfiler.o tmp_build_dir/o/3d.gnu.MPI.EXE/AMReX_BLBackTrace.o tmp_build_dir/o/3d.gnu.MPI.EXE/AMReX_MemPool.o tmp_build_dir/o/3d.gnu.MPI.EXE/AMReX_Machine.o tmp_build_dir/o/3d.gnu.MPI.EXE/AMReX_MPMD.o tmp_build_dir/o/3d.gnu.MPI.EXE/amrex_parser.lex.o tmp_build_dir/o/3d.gnu.MPI.EXE/amrex_parser.tab.o tmp_build_dir/o/3d.gnu.MPI.EXE/AMReX_Parser_Y.o tmp_build_dir/o/3d.gnu.MPI.EXE/AMReX_Parser_Exe.o tmp_build_dir/o/3d.gnu.MPI.EXE/AMReX_Parser.o tmp_build_dir/o/3d.gnu.MPI.EXE/amrex_iparser.lex.o tmp_build_dir/o/3d.gnu.MPI.EXE/amrex_iparser.tab.o tmp_build_dir/o/3d.gnu.MPI.EXE/AMReX_IParser_Y.o tmp_build_dir/o/3d.gnu.MPI.EXE/AMReX_IParser_Exe.o tmp_build_dir/o/3d.gnu.MPI.EXE/AMReX_IParser.o tmp_build_dir/o/3d.gnu.MPI.EXE/AMReX_constants_mod.o tmp_build_dir/o/3d.gnu.MPI.EXE/AMReX_BLutil_F.o tmp_build_dir/o/3d.gnu.MPI.EXE/AMReX_BLProfiler_F.o tmp_build_dir/o/3d.gnu.MPI.EXE/AMReX_filcc_mod.o tmp_build_dir/o/3d.gnu.MPI.EXE/AMReX_omp_mod.o tmp_build_dir/o/3d.gnu.MPI.EXE/AMReX_acc_mod.o tmp_build_dir/o/3d.gnu.MPI.EXE/AMReX_fort_mod.o tmp_build_dir/o/3d.gnu.MPI.EXE/AMReX_error_mod.o tmp_build_dir/o/3d.gnu.MPI.EXE/AMReX_parmparse_mod.o tmp_build_dir/o/3d.gnu.MPI.EXE/AMReX_string_mod.o tmp_build_dir/o/3d.gnu.MPI.EXE/AMReX_bc_types_mod.o tmp_build_dir/o/3d.gnu.MPI.EXE/AMReX_io_mod.o tmp_build_dir/o/3d.gnu.MPI.EXE/AMReX_ParallelDescriptor_F.o tmp_build_dir/o/3d.gnu.MPI.EXE/AMReX_mempool_mod.o  -I/cvmfs/software.hpc.rwth.de/Linux/RH9/x86_64/intel/sapphirerapids/software/OpenMPI/5.0.3-GCC-13.3.0/include -I/cvmfs/software.hpc.rwth.de/Linux/RH9/x86_64/intel/sapphirerapids/software/OpenMPI/5.0.3-GCC-13.3.0/lib -L/cvmfs/software.hpc.rwth.de/Linux/RH9/x86_64/intel/sapphirerapids/software/OpenMPI/5.0.3-GCC-13.3.0/lib -Wl,-rpath -Wl,/cvmfs/software.hpc.rwth.de/Linux/RH9/x86_64/intel/sapphirerapids/software/OpenMPI/5.0.3-GCC-13.3.0/lib -Wl,--enable-new-dtags -lmpi_usempif08 -lmpi_usempi_ignore_tkr -lmpi_mpifh -lmpi -lmpi -lgfortran -lquadmath\n"
     ]
    },
    {
     "name": "stderr",
     "output_type": "stream",
     "text": [
      "/cvmfs/software.hpc.rwth.de/Linux/RH9/x86_64/intel/sapphirerapids/software/binutils/2.42-GCCcore-13.3.0/bin/ld: tmp_build_dir/o/3d.gnu.MPI.EXE/main.o:/rwthfs/rz/cluster/home/is086873/Git/Zoomy/library/amrex/Exec/../Source/constants.H:18: multiple definition of `ih'; tmp_build_dir/o/3d.gnu.MPI.EXE/write_plotfiles.o:/rwthfs/rz/cluster/home/is086873/Git/Zoomy/library/amrex/Exec/../Source/constants.H:18: first defined here\n",
      "/cvmfs/software.hpc.rwth.de/Linux/RH9/x86_64/intel/sapphirerapids/software/binutils/2.42-GCCcore-13.3.0/bin/ld: tmp_build_dir/o/3d.gnu.MPI.EXE/main.o:/rwthfs/rz/cluster/home/is086873/Git/Zoomy/library/amrex/Exec/../Source/constants.H:17: multiple definition of `eps'; tmp_build_dir/o/3d.gnu.MPI.EXE/write_plotfiles.o:/rwthfs/rz/cluster/home/is086873/Git/Zoomy/library/amrex/Exec/../Source/constants.H:17: first defined here\n",
      "/cvmfs/software.hpc.rwth.de/Linux/RH9/x86_64/intel/sapphirerapids/software/binutils/2.42-GCCcore-13.3.0/bin/ld: tmp_build_dir/o/3d.gnu.MPI.EXE/main.o:/rwthfs/rz/cluster/home/is086873/Git/Zoomy/library/amrex/Exec/../Source/constants.H:19: multiple definition of `ib'; tmp_build_dir/o/3d.gnu.MPI.EXE/write_plotfiles.o:/rwthfs/rz/cluster/home/is086873/Git/Zoomy/library/amrex/Exec/../Source/constants.H:19: first defined here\n",
      "collect2: error: ld returned 1 exit status\n",
      "make: *** [/home/is086873/MBD/Git/amrex/Tools/GNUMake/Make.rules:64: main3d.gnu.MPI.ex] Error 1\n"
     ]
    },
    {
     "data": {
      "text/plain": [
       "CompletedProcess(args='cp ../../outputs/amrex/.c_interface/model.h ./Source/model.h && source ~/.zshrc && source setup.sh && cd Exec && make', returncode=2)"
      ]
     },
     "execution_count": 10,
     "metadata": {},
     "output_type": "execute_result"
    }
   ],
   "source": [
    "import subprocess\n",
    "\n",
    "base = os.path.join(os.environ['ZOOMY_DIR'], 'library/amrex/')\n",
    "cmds = [\n",
    "    f\"cp ../../{settings.output.directory}/.c_interface/model.h ./Source/model.h\",\n",
    "    \"source ~/.zshrc\",\n",
    "    \"source setup.sh\",\n",
    "    \"cd Exec\",\n",
    "    \"make clean\",\n",
    "    \"make\"\n",
    "]\n",
    "\n",
    "subprocess.run(\" && \".join(cmds), shell=True, executable=\"/bin/zsh\", cwd=base)\n",
    "\n"
   ]
  },
  {
   "cell_type": "markdown",
   "id": "412a0497",
   "metadata": {},
   "source": [
    "## Prepare raster data for AMReX\n",
    "\n",
    "... and copy stuff to the output directory ..."
   ]
  },
  {
   "cell_type": "code",
   "execution_count": 11,
   "id": "fc403459",
   "metadata": {},
   "outputs": [
    {
     "name": "stdout",
     "output_type": "stream",
     "text": [
      "The simulation output will be written to:  /rwthfs/rz/cluster/home/is086873/Git/Zoomy/web/tutorials/amrex/../../../outputs/amrex\n",
      "✓ raw files: evel_artificial.raw release_artificial.raw\n",
      "✓ inputs updated → /rwthfs/rz/cluster/home/is086873/Git/Zoomy/outputs/amrex/inputs\n"
     ]
    }
   ],
   "source": [
    "\n",
    "\n",
    "output_dir.mkdir(parents=True, exist_ok=True)  # make sure output folder exists\n",
    "\n",
    "for item in source_dir.iterdir():\n",
    "    dest = output_dir / item.name\n",
    "    if item.is_dir():\n",
    "        shutil.copytree(item, dest, dirs_exist_ok=True)\n",
    "    else:\n",
    "        shutil.copy2(item, dest)\n",
    "        \n",
    "shutil.copy(dem_path, output_dir)\n",
    "shutil.copy(ic_water_path, output_dir)\n",
    "\n",
    "print(\"The simulation output will be written to: \", output_dir)\n",
    "\n",
    "from library.amrex.preprocess_rasterdata import preprocess\n",
    "preprocess(os.path.join(output_dir, 'inputs'), dem_path, ic_water_path)\n"
   ]
  },
  {
   "cell_type": "markdown",
   "id": "e56d7f71",
   "metadata": {},
   "source": [
    "## Do the Simulation\n",
    "\n",
    "run in the notebook or as a batch job"
   ]
  },
  {
   "cell_type": "code",
   "execution_count": 12,
   "id": "c2533f14",
   "metadata": {},
   "outputs": [],
   "source": [
    "run_in_notebook = True"
   ]
  },
  {
   "cell_type": "code",
   "execution_count": 13,
   "id": "1399b3c1",
   "metadata": {},
   "outputs": [
    {
     "name": "stderr",
     "output_type": "stream",
     "text": [
      "[WARN] OpenMPI's default binding is set to OFF, you can override this\n",
      "[INFO] Module foss/2024a loaded.\n",
      "./clean.sh:3: no matches found: plt*\n",
      "./clean.sh:4: no matches found: output*.txt\n",
      "./clean.sh:5: no matches found: Backtrace*\n",
      "--------------------------------------------------------------------------\n",
      "prterun was unable to launch the specified application as it lacked\n",
      "permissions to execute an executable:\n",
      "\n",
      "Executable: ./main3d.gnu.MPI.ex Node: login23-3\n",
      "\n",
      "while attempting to start process rank 0.\n",
      "--------------------------------------------------------------------------\n"
     ]
    }
   ],
   "source": [
    "if (run_in_notebook):\n",
    "    base = os.path.join(os.environ['ZOOMY_DIR'], 'library/amrex/')\n",
    "    cmds = [\n",
    "        \"source ~/.zshrc\",\n",
    "        \"source setup.sh\",\n",
    "        f\"cd ../../{settings.output.directory}\",\n",
    "        \"./clean.sh\",\n",
    "        \"mpiexec -np 1 ./main3d.gnu.MPI.ex inputs\",\n",
    "    ]\n",
    "\n",
    "    subprocess.run(\"\\n\".join(cmds), shell=True, executable=\"/bin/zsh\", cwd=base)\n",
    "else:\n",
    "    \n",
    "    base = os.path.join(os.environ['ZOOMY_DIR'], 'library/amrex/')\n",
    "    cmds = [\n",
    "        \"source ~/.zshrc\",\n",
    "        \"source setup.sh\",\n",
    "        f\"cd ../../{settings.output.directory}\",\n",
    "        \"./clean.sh\",\n",
    "        \"sbatch batch.sh < inputs\",\n",
    "    ]\n",
    "\n",
    "    subprocess.run(\"\\n\".join(cmds), shell=True, executable=\"/bin/zsh\", cwd=base)\n",
    "\n",
    "        "
   ]
  },
  {
   "cell_type": "code",
   "execution_count": null,
   "id": "8871a525",
   "metadata": {},
   "outputs": [],
   "source": []
  }
 ],
 "metadata": {
  "kernelspec": {
   "display_name": "zoomy",
   "language": "python",
   "name": "python3"
  },
  "language_info": {
   "codemirror_mode": {
    "name": "ipython",
    "version": 3
   },
   "file_extension": ".py",
   "mimetype": "text/x-python",
   "name": "python",
   "nbconvert_exporter": "python",
   "pygments_lexer": "ipython3",
   "version": "3.12.11"
  }
 },
 "nbformat": 4,
 "nbformat_minor": 5
}
