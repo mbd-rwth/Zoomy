{
 "cells": [
  {
   "cell_type": "raw",
   "id": "906eac95",
   "metadata": {
    "vscode": {
     "languageId": "raw"
    }
   },
   "source": [
    "---\n",
    "title: \"Simple\"\n",
    "author: Ingo Steldermann\n",
    "date: 07/10/2025\n",
    "format:\n",
    "  html:\n",
    "    code-fold: false\n",
    "    code-tools: true\n",
    "    css: ../notebook.css\n",
    "---"
   ]
  },
  {
   "cell_type": "markdown",
   "id": "a8c5b74f",
   "metadata": {
    "vscode": {
     "languageId": "raw"
    }
   },
   "source": [
    "# Shallow Moment Tutorial (Simple)"
   ]
  },
  {
   "cell_type": "markdown",
   "id": "b7ce1821",
   "metadata": {
    "vscode": {
     "languageId": "raw"
    }
   },
   "source": [
    "## Imports"
   ]
  },
  {
   "cell_type": "code",
   "execution_count": 1,
   "id": "4f583c96",
   "metadata": {
    "tags": []
   },
   "outputs": [
    {
     "name": "stderr",
     "output_type": "stream",
     "text": [
      "\u001b[32m2025-08-28 21:38:13.882\u001b[0m | \u001b[33m\u001b[1mWARNING \u001b[0m | \u001b[36mlibrary.fvm.solver\u001b[0m:\u001b[36m<module>\u001b[0m:\u001b[36m28\u001b[0m - \u001b[33m\u001b[1mlibprecice.so.3: cannot open shared object file: No such file or directory\u001b[0m\n"
     ]
    },
    {
     "data": {
      "text/html": [
       "<script type=\"esms-options\">{\"shimMode\": true}</script><style>*[data-root-id],\n",
       "*[data-root-id] > * {\n",
       "  box-sizing: border-box;\n",
       "  font-family: var(--jp-ui-font-family);\n",
       "  font-size: var(--jp-ui-font-size1);\n",
       "  color: var(--vscode-editor-foreground, var(--jp-ui-font-color1));\n",
       "}\n",
       "\n",
       "/* Override VSCode background color */\n",
       ".cell-output-ipywidget-background:has(\n",
       "  > .cell-output-ipywidget-background > .lm-Widget > *[data-root-id]\n",
       "),\n",
       ".cell-output-ipywidget-background:has(> .lm-Widget > *[data-root-id]) {\n",
       "  background-color: transparent !important;\n",
       "}\n",
       "</style>"
      ]
     },
     "metadata": {},
     "output_type": "display_data"
    },
    {
     "data": {
      "application/javascript": "(function(root) {\n  function now() {\n    return new Date();\n  }\n\n  const force = true;\n  const py_version = '3.7.3'.replace('rc', '-rc.').replace('.dev', '-dev.');\n  const reloading = false;\n  const Bokeh = root.Bokeh;\n\n  // Set a timeout for this load but only if we are not already initializing\n  if (typeof (root._bokeh_timeout) === \"undefined\" || (force || !root._bokeh_is_initializing)) {\n    root._bokeh_timeout = Date.now() + 5000;\n    root._bokeh_failed_load = false;\n  }\n\n  function run_callbacks() {\n    try {\n      root._bokeh_onload_callbacks.forEach(function(callback) {\n        if (callback != null)\n          callback();\n      });\n    } finally {\n      delete root._bokeh_onload_callbacks;\n    }\n    console.debug(\"Bokeh: all callbacks have finished\");\n  }\n\n  function load_libs(css_urls, js_urls, js_modules, js_exports, callback) {\n    if (css_urls == null) css_urls = [];\n    if (js_urls == null) js_urls = [];\n    if (js_modules == null) js_modules = [];\n    if (js_exports == null) js_exports = {};\n\n    root._bokeh_onload_callbacks.push(callback);\n\n    if (root._bokeh_is_loading > 0) {\n      // Don't load bokeh if it is still initializing\n      console.debug(\"Bokeh: BokehJS is being loaded, scheduling callback at\", now());\n      return null;\n    } else if (js_urls.length === 0 && js_modules.length === 0 && Object.keys(js_exports).length === 0) {\n      // There is nothing to load\n      run_callbacks();\n      return null;\n    }\n\n    function on_load() {\n      root._bokeh_is_loading--;\n      if (root._bokeh_is_loading === 0) {\n        console.debug(\"Bokeh: all BokehJS libraries/stylesheets loaded\");\n        run_callbacks()\n      }\n    }\n    window._bokeh_on_load = on_load\n\n    function on_error(e) {\n      const src_el = e.srcElement\n      console.error(\"failed to load \" + (src_el.href || src_el.src));\n    }\n\n    const skip = [];\n    if (window.requirejs) {\n      window.requirejs.config({'packages': {}, 'paths': {'vtk': 'https://cdn.jsdelivr.net/npm/vtk.js@30.1.0/vtk'}, 'shim': {'vtk': {'exports': 'vtk'}}});\n      require([\"vtk\"], function() {\n        on_load()\n      })\n      root._bokeh_is_loading = css_urls.length + 1;\n    } else {\n      root._bokeh_is_loading = css_urls.length + js_urls.length + js_modules.length + Object.keys(js_exports).length;\n    }\n\n    const existing_stylesheets = []\n    const links = document.getElementsByTagName('link')\n    for (let i = 0; i < links.length; i++) {\n      const link = links[i]\n      if (link.href != null) {\n        existing_stylesheets.push(link.href)\n      }\n    }\n    for (let i = 0; i < css_urls.length; i++) {\n      const url = css_urls[i];\n      const escaped = encodeURI(url)\n      if (existing_stylesheets.indexOf(escaped) !== -1) {\n        on_load()\n        continue;\n      }\n      const element = document.createElement(\"link\");\n      element.onload = on_load;\n      element.onerror = on_error;\n      element.rel = \"stylesheet\";\n      element.type = \"text/css\";\n      element.href = url;\n      console.debug(\"Bokeh: injecting link tag for BokehJS stylesheet: \", url);\n      document.body.appendChild(element);\n    }    if (((window.vtk !== undefined) && (!(window.vtk instanceof HTMLElement))) || window.requirejs) {\n      var urls = ['https://cdn.holoviz.org/panel/1.7.5/dist/bundled/abstractvtkplot/vtk.js@30.1.0/vtk.js'];\n      for (var i = 0; i < urls.length; i++) {\n        skip.push(encodeURI(urls[i]))\n      }\n    }    var existing_scripts = []\n    const scripts = document.getElementsByTagName('script')\n    for (let i = 0; i < scripts.length; i++) {\n      var script = scripts[i]\n      if (script.src != null) {\n        existing_scripts.push(script.src)\n      }\n    }\n    for (let i = 0; i < js_urls.length; i++) {\n      const url = js_urls[i];\n      const escaped = encodeURI(url)\n      if (skip.indexOf(escaped) !== -1 || existing_scripts.indexOf(escaped) !== -1) {\n        if (!window.requirejs) {\n          on_load();\n        }\n        continue;\n      }\n      const element = document.createElement('script');\n      element.onload = on_load;\n      element.onerror = on_error;\n      element.async = false;\n      element.src = url;\n      console.debug(\"Bokeh: injecting script tag for BokehJS library: \", url);\n      document.head.appendChild(element);\n    }\n    for (let i = 0; i < js_modules.length; i++) {\n      const url = js_modules[i];\n      const escaped = encodeURI(url)\n      if (skip.indexOf(escaped) !== -1 || existing_scripts.indexOf(escaped) !== -1) {\n        if (!window.requirejs) {\n          on_load();\n        }\n        continue;\n      }\n      var element = document.createElement('script');\n      element.onload = on_load;\n      element.onerror = on_error;\n      element.async = false;\n      element.src = url;\n      element.type = \"module\";\n      console.debug(\"Bokeh: injecting script tag for BokehJS library: \", url);\n      document.head.appendChild(element);\n    }\n    for (const name in js_exports) {\n      const url = js_exports[name];\n      const escaped = encodeURI(url)\n      if (skip.indexOf(escaped) >= 0 || root[name] != null) {\n        if (!window.requirejs) {\n          on_load();\n        }\n        continue;\n      }\n      var element = document.createElement('script');\n      element.onerror = on_error;\n      element.async = false;\n      element.type = \"module\";\n      console.debug(\"Bokeh: injecting script tag for BokehJS library: \", url);\n      element.textContent = `\n      import ${name} from \"${url}\"\n      window.${name} = ${name}\n      window._bokeh_on_load()\n      `\n      document.head.appendChild(element);\n    }\n    if (!js_urls.length && !js_modules.length) {\n      on_load()\n    }\n  };\n\n  function inject_raw_css(css) {\n    const element = document.createElement(\"style\");\n    element.appendChild(document.createTextNode(css));\n    document.body.appendChild(element);\n  }\n\n  const js_urls = [\"https://cdn.holoviz.org/panel/1.7.5/dist/bundled/reactiveesm/es-module-shims@^1.10.0/dist/es-module-shims.min.js\", \"https://cdn.holoviz.org/panel/1.7.5/dist/bundled/abstractvtkplot/vtk.js@30.1.0/vtk.js\", \"https://cdn.bokeh.org/bokeh/release/bokeh-3.7.3.min.js\", \"https://cdn.bokeh.org/bokeh/release/bokeh-gl-3.7.3.min.js\", \"https://cdn.bokeh.org/bokeh/release/bokeh-widgets-3.7.3.min.js\", \"https://cdn.bokeh.org/bokeh/release/bokeh-tables-3.7.3.min.js\", \"https://cdn.holoviz.org/panel/1.7.5/dist/panel.min.js\"];\n  const js_modules = [];\n  const js_exports = {};\n  const css_urls = [];\n  const inline_js = [    function(Bokeh) {\n      Bokeh.set_log_level(\"info\");\n    },\nfunction(Bokeh) {} // ensure no trailing comma for IE\n  ];\n\n  function run_inline_js() {\n    if ((root.Bokeh !== undefined) || (force === true)) {\n      for (let i = 0; i < inline_js.length; i++) {\n        try {\n          inline_js[i].call(root, root.Bokeh);\n        } catch(e) {\n          if (!reloading) {\n            throw e;\n          }\n        }\n      }\n      // Cache old bokeh versions\n      if (Bokeh != undefined && !reloading) {\n        var NewBokeh = root.Bokeh;\n        if (Bokeh.versions === undefined) {\n          Bokeh.versions = new Map();\n        }\n        if (NewBokeh.version !== Bokeh.version) {\n          Bokeh.versions.set(NewBokeh.version, NewBokeh)\n        }\n        root.Bokeh = Bokeh;\n      }\n    } else if (Date.now() < root._bokeh_timeout) {\n      setTimeout(run_inline_js, 100);\n    } else if (!root._bokeh_failed_load) {\n      console.log(\"Bokeh: BokehJS failed to load within specified timeout.\");\n      root._bokeh_failed_load = true;\n    }\n    root._bokeh_is_initializing = false\n  }\n\n  function load_or_wait() {\n    // Implement a backoff loop that tries to ensure we do not load multiple\n    // versions of Bokeh and its dependencies at the same time.\n    // In recent versions we use the root._bokeh_is_initializing flag\n    // to determine whether there is an ongoing attempt to initialize\n    // bokeh, however for backward compatibility we also try to ensure\n    // that we do not start loading a newer (Panel>=1.0 and Bokeh>3) version\n    // before older versions are fully initialized.\n    if (root._bokeh_is_initializing && Date.now() > root._bokeh_timeout) {\n      // If the timeout and bokeh was not successfully loaded we reset\n      // everything and try loading again\n      root._bokeh_timeout = Date.now() + 5000;\n      root._bokeh_is_initializing = false;\n      root._bokeh_onload_callbacks = undefined;\n      root._bokeh_is_loading = 0\n      console.log(\"Bokeh: BokehJS was loaded multiple times but one version failed to initialize.\");\n      load_or_wait();\n    } else if (root._bokeh_is_initializing || (typeof root._bokeh_is_initializing === \"undefined\" && root._bokeh_onload_callbacks !== undefined)) {\n      setTimeout(load_or_wait, 100);\n    } else {\n      root._bokeh_is_initializing = true\n      root._bokeh_onload_callbacks = []\n      const bokeh_loaded = root.Bokeh != null && (root.Bokeh.version === py_version || (root.Bokeh.versions !== undefined && root.Bokeh.versions.has(py_version)));\n      if (!reloading && !bokeh_loaded) {\n        if (root.Bokeh) {\n          root.Bokeh = undefined;\n        }\n        console.debug(\"Bokeh: BokehJS not loaded, scheduling load and callback at\", now());\n      }\n      load_libs(css_urls, js_urls, js_modules, js_exports, function() {\n        console.debug(\"Bokeh: BokehJS plotting callback run at\", now());\n        run_inline_js();\n      });\n    }\n  }\n  // Give older versions of the autoload script a head-start to ensure\n  // they initialize before we start loading newer version.\n  setTimeout(load_or_wait, 100)\n}(window));",
      "application/vnd.holoviews_load.v0+json": ""
     },
     "metadata": {},
     "output_type": "display_data"
    },
    {
     "data": {
      "application/javascript": "\nif ((window.PyViz === undefined) || (window.PyViz instanceof HTMLElement)) {\n  window.PyViz = {comms: {}, comm_status:{}, kernels:{}, receivers: {}, plot_index: []}\n}\n\n\n    function JupyterCommManager() {\n    }\n\n    JupyterCommManager.prototype.register_target = function(plot_id, comm_id, msg_handler) {\n      if (window.comm_manager || ((window.Jupyter !== undefined) && (Jupyter.notebook.kernel != null))) {\n        var comm_manager = window.comm_manager || Jupyter.notebook.kernel.comm_manager;\n        comm_manager.register_target(comm_id, function(comm) {\n          comm.on_msg(msg_handler);\n        });\n      } else if ((plot_id in window.PyViz.kernels) && (window.PyViz.kernels[plot_id])) {\n        window.PyViz.kernels[plot_id].registerCommTarget(comm_id, function(comm) {\n          comm.onMsg = msg_handler;\n        });\n      } else if (typeof google != 'undefined' && google.colab.kernel != null) {\n        google.colab.kernel.comms.registerTarget(comm_id, (comm) => {\n          var messages = comm.messages[Symbol.asyncIterator]();\n          function processIteratorResult(result) {\n            var message = result.value;\n            var content = {data: message.data, comm_id};\n            var buffers = []\n            for (var buffer of message.buffers || []) {\n              buffers.push(new DataView(buffer))\n            }\n            var metadata = message.metadata || {};\n            var msg = {content, buffers, metadata}\n            msg_handler(msg);\n            return messages.next().then(processIteratorResult);\n          }\n          return messages.next().then(processIteratorResult);\n        })\n      }\n    }\n\n    JupyterCommManager.prototype.get_client_comm = function(plot_id, comm_id, msg_handler) {\n      if (comm_id in window.PyViz.comms) {\n        return window.PyViz.comms[comm_id];\n      } else if (window.comm_manager || ((window.Jupyter !== undefined) && (Jupyter.notebook.kernel != null))) {\n        var comm_manager = window.comm_manager || Jupyter.notebook.kernel.comm_manager;\n        var comm = comm_manager.new_comm(comm_id, {}, {}, {}, comm_id);\n        if (msg_handler) {\n          comm.on_msg(msg_handler);\n        }\n      } else if ((plot_id in window.PyViz.kernels) && (window.PyViz.kernels[plot_id])) {\n        var comm = window.PyViz.kernels[plot_id].connectToComm(comm_id);\n        let retries = 0;\n        const open = () => {\n          if (comm.active) {\n            comm.open();\n          } else if (retries > 3) {\n            console.warn('Comm target never activated')\n          } else {\n            retries += 1\n            setTimeout(open, 500)\n          }\n        }\n        if (comm.active) {\n          comm.open();\n        } else {\n          setTimeout(open, 500)\n        }\n        if (msg_handler) {\n          comm.onMsg = msg_handler;\n        }\n      } else if (typeof google != 'undefined' && google.colab.kernel != null) {\n        var comm_promise = google.colab.kernel.comms.open(comm_id)\n        comm_promise.then((comm) => {\n          window.PyViz.comms[comm_id] = comm;\n          if (msg_handler) {\n            var messages = comm.messages[Symbol.asyncIterator]();\n            function processIteratorResult(result) {\n              var message = result.value;\n              var content = {data: message.data};\n              var metadata = message.metadata || {comm_id};\n              var msg = {content, metadata}\n              msg_handler(msg);\n              return messages.next().then(processIteratorResult);\n            }\n            return messages.next().then(processIteratorResult);\n          }\n        })\n        var sendClosure = (data, metadata, buffers, disposeOnDone) => {\n          return comm_promise.then((comm) => {\n            comm.send(data, metadata, buffers, disposeOnDone);\n          });\n        };\n        var comm = {\n          send: sendClosure\n        };\n      }\n      window.PyViz.comms[comm_id] = comm;\n      return comm;\n    }\n    window.PyViz.comm_manager = new JupyterCommManager();\n    \n\n\nvar JS_MIME_TYPE = 'application/javascript';\nvar HTML_MIME_TYPE = 'text/html';\nvar EXEC_MIME_TYPE = 'application/vnd.holoviews_exec.v0+json';\nvar CLASS_NAME = 'output';\n\n/**\n * Render data to the DOM node\n */\nfunction render(props, node) {\n  var div = document.createElement(\"div\");\n  var script = document.createElement(\"script\");\n  node.appendChild(div);\n  node.appendChild(script);\n}\n\n/**\n * Handle when a new output is added\n */\nfunction handle_add_output(event, handle) {\n  var output_area = handle.output_area;\n  var output = handle.output;\n  if ((output.data == undefined) || (!output.data.hasOwnProperty(EXEC_MIME_TYPE))) {\n    return\n  }\n  var id = output.metadata[EXEC_MIME_TYPE][\"id\"];\n  var toinsert = output_area.element.find(\".\" + CLASS_NAME.split(' ')[0]);\n  if (id !== undefined) {\n    var nchildren = toinsert.length;\n    var html_node = toinsert[nchildren-1].children[0];\n    html_node.innerHTML = output.data[HTML_MIME_TYPE];\n    var scripts = [];\n    var nodelist = html_node.querySelectorAll(\"script\");\n    for (var i in nodelist) {\n      if (nodelist.hasOwnProperty(i)) {\n        scripts.push(nodelist[i])\n      }\n    }\n\n    scripts.forEach( function (oldScript) {\n      var newScript = document.createElement(\"script\");\n      var attrs = [];\n      var nodemap = oldScript.attributes;\n      for (var j in nodemap) {\n        if (nodemap.hasOwnProperty(j)) {\n          attrs.push(nodemap[j])\n        }\n      }\n      attrs.forEach(function(attr) { newScript.setAttribute(attr.name, attr.value) });\n      newScript.appendChild(document.createTextNode(oldScript.innerHTML));\n      oldScript.parentNode.replaceChild(newScript, oldScript);\n    });\n    if (JS_MIME_TYPE in output.data) {\n      toinsert[nchildren-1].children[1].textContent = output.data[JS_MIME_TYPE];\n    }\n    output_area._hv_plot_id = id;\n    if ((window.Bokeh !== undefined) && (id in Bokeh.index)) {\n      window.PyViz.plot_index[id] = Bokeh.index[id];\n    } else {\n      window.PyViz.plot_index[id] = null;\n    }\n  } else if (output.metadata[EXEC_MIME_TYPE][\"server_id\"] !== undefined) {\n    var bk_div = document.createElement(\"div\");\n    bk_div.innerHTML = output.data[HTML_MIME_TYPE];\n    var script_attrs = bk_div.children[0].attributes;\n    for (var i = 0; i < script_attrs.length; i++) {\n      toinsert[toinsert.length - 1].childNodes[1].setAttribute(script_attrs[i].name, script_attrs[i].value);\n    }\n    // store reference to server id on output_area\n    output_area._bokeh_server_id = output.metadata[EXEC_MIME_TYPE][\"server_id\"];\n  }\n}\n\n/**\n * Handle when an output is cleared or removed\n */\nfunction handle_clear_output(event, handle) {\n  var id = handle.cell.output_area._hv_plot_id;\n  var server_id = handle.cell.output_area._bokeh_server_id;\n  if (((id === undefined) || !(id in PyViz.plot_index)) && (server_id !== undefined)) { return; }\n  var comm = window.PyViz.comm_manager.get_client_comm(\"hv-extension-comm\", \"hv-extension-comm\", function () {});\n  if (server_id !== null) {\n    comm.send({event_type: 'server_delete', 'id': server_id});\n    return;\n  } else if (comm !== null) {\n    comm.send({event_type: 'delete', 'id': id});\n  }\n  delete PyViz.plot_index[id];\n  if ((window.Bokeh !== undefined) & (id in window.Bokeh.index)) {\n    var doc = window.Bokeh.index[id].model.document\n    doc.clear();\n    const i = window.Bokeh.documents.indexOf(doc);\n    if (i > -1) {\n      window.Bokeh.documents.splice(i, 1);\n    }\n  }\n}\n\n/**\n * Handle kernel restart event\n */\nfunction handle_kernel_cleanup(event, handle) {\n  delete PyViz.comms[\"hv-extension-comm\"];\n  window.PyViz.plot_index = {}\n}\n\n/**\n * Handle update_display_data messages\n */\nfunction handle_update_output(event, handle) {\n  handle_clear_output(event, {cell: {output_area: handle.output_area}})\n  handle_add_output(event, handle)\n}\n\nfunction register_renderer(events, OutputArea) {\n  function append_mime(data, metadata, element) {\n    // create a DOM node to render to\n    var toinsert = this.create_output_subarea(\n    metadata,\n    CLASS_NAME,\n    EXEC_MIME_TYPE\n    );\n    this.keyboard_manager.register_events(toinsert);\n    // Render to node\n    var props = {data: data, metadata: metadata[EXEC_MIME_TYPE]};\n    render(props, toinsert[0]);\n    element.append(toinsert);\n    return toinsert\n  }\n\n  events.on('output_added.OutputArea', handle_add_output);\n  events.on('output_updated.OutputArea', handle_update_output);\n  events.on('clear_output.CodeCell', handle_clear_output);\n  events.on('delete.Cell', handle_clear_output);\n  events.on('kernel_ready.Kernel', handle_kernel_cleanup);\n\n  OutputArea.prototype.register_mime_type(EXEC_MIME_TYPE, append_mime, {\n    safe: true,\n    index: 0\n  });\n}\n\nif (window.Jupyter !== undefined) {\n  try {\n    var events = require('base/js/events');\n    var OutputArea = require('notebook/js/outputarea').OutputArea;\n    if (OutputArea.prototype.mime_types().indexOf(EXEC_MIME_TYPE) == -1) {\n      register_renderer(events, OutputArea);\n    }\n  } catch(err) {\n  }\n}\n",
      "application/vnd.holoviews_load.v0+json": ""
     },
     "metadata": {},
     "output_type": "display_data"
    },
    {
     "data": {
      "application/vnd.holoviews_exec.v0+json": "",
      "text/html": [
       "<div id='a0348989-6183-488e-a2c2-c282322769a6'>\n",
       "  <div id=\"d29bef08-fdfd-4995-9cb4-c7d3fc735607\" data-root-id=\"a0348989-6183-488e-a2c2-c282322769a6\" style=\"display: contents;\"></div>\n",
       "</div>\n",
       "<script type=\"application/javascript\">(function(root) {\n",
       "  var docs_json = {\"6dc48854-b7a7-4067-8f69-e09c7513272d\":{\"version\":\"3.7.3\",\"title\":\"Bokeh Application\",\"roots\":[{\"type\":\"object\",\"name\":\"panel.models.browser.BrowserInfo\",\"id\":\"a0348989-6183-488e-a2c2-c282322769a6\"},{\"type\":\"object\",\"name\":\"panel.models.comm_manager.CommManager\",\"id\":\"343bad4d-cec7-4a76-9f99-5469b9080a53\",\"attributes\":{\"plot_id\":\"a0348989-6183-488e-a2c2-c282322769a6\",\"comm_id\":\"5304bbd93e504e37895a42206a7d3b12\",\"client_comm_id\":\"2e70cb5ef9284bb19a6fe910e9e9e441\"}}],\"defs\":[{\"type\":\"model\",\"name\":\"ReactiveHTML1\"},{\"type\":\"model\",\"name\":\"FlexBox1\",\"properties\":[{\"name\":\"align_content\",\"kind\":\"Any\",\"default\":\"flex-start\"},{\"name\":\"align_items\",\"kind\":\"Any\",\"default\":\"flex-start\"},{\"name\":\"flex_direction\",\"kind\":\"Any\",\"default\":\"row\"},{\"name\":\"flex_wrap\",\"kind\":\"Any\",\"default\":\"wrap\"},{\"name\":\"gap\",\"kind\":\"Any\",\"default\":\"\"},{\"name\":\"justify_content\",\"kind\":\"Any\",\"default\":\"flex-start\"}]},{\"type\":\"model\",\"name\":\"FloatPanel1\",\"properties\":[{\"name\":\"config\",\"kind\":\"Any\",\"default\":{\"type\":\"map\"}},{\"name\":\"contained\",\"kind\":\"Any\",\"default\":true},{\"name\":\"position\",\"kind\":\"Any\",\"default\":\"right-top\"},{\"name\":\"offsetx\",\"kind\":\"Any\",\"default\":null},{\"name\":\"offsety\",\"kind\":\"Any\",\"default\":null},{\"name\":\"theme\",\"kind\":\"Any\",\"default\":\"primary\"},{\"name\":\"status\",\"kind\":\"Any\",\"default\":\"normalized\"}]},{\"type\":\"model\",\"name\":\"GridStack1\",\"properties\":[{\"name\":\"ncols\",\"kind\":\"Any\",\"default\":null},{\"name\":\"nrows\",\"kind\":\"Any\",\"default\":null},{\"name\":\"allow_resize\",\"kind\":\"Any\",\"default\":true},{\"name\":\"allow_drag\",\"kind\":\"Any\",\"default\":true},{\"name\":\"state\",\"kind\":\"Any\",\"default\":[]}]},{\"type\":\"model\",\"name\":\"drag1\",\"properties\":[{\"name\":\"slider_width\",\"kind\":\"Any\",\"default\":5},{\"name\":\"slider_color\",\"kind\":\"Any\",\"default\":\"black\"},{\"name\":\"value\",\"kind\":\"Any\",\"default\":50}]},{\"type\":\"model\",\"name\":\"click1\",\"properties\":[{\"name\":\"terminal_output\",\"kind\":\"Any\",\"default\":\"\"},{\"name\":\"debug_name\",\"kind\":\"Any\",\"default\":\"\"},{\"name\":\"clears\",\"kind\":\"Any\",\"default\":0}]},{\"type\":\"model\",\"name\":\"ReactiveESM1\",\"properties\":[{\"name\":\"esm_constants\",\"kind\":\"Any\",\"default\":{\"type\":\"map\"}}]},{\"type\":\"model\",\"name\":\"JSComponent1\",\"properties\":[{\"name\":\"esm_constants\",\"kind\":\"Any\",\"default\":{\"type\":\"map\"}}]},{\"type\":\"model\",\"name\":\"ReactComponent1\",\"properties\":[{\"name\":\"use_shadow_dom\",\"kind\":\"Any\",\"default\":true},{\"name\":\"esm_constants\",\"kind\":\"Any\",\"default\":{\"type\":\"map\"}}]},{\"type\":\"model\",\"name\":\"AnyWidgetComponent1\",\"properties\":[{\"name\":\"use_shadow_dom\",\"kind\":\"Any\",\"default\":true},{\"name\":\"esm_constants\",\"kind\":\"Any\",\"default\":{\"type\":\"map\"}}]},{\"type\":\"model\",\"name\":\"FastWrapper1\",\"properties\":[{\"name\":\"object\",\"kind\":\"Any\",\"default\":null},{\"name\":\"style\",\"kind\":\"Any\",\"default\":null}]},{\"type\":\"model\",\"name\":\"NotificationArea1\",\"properties\":[{\"name\":\"js_events\",\"kind\":\"Any\",\"default\":{\"type\":\"map\"}},{\"name\":\"max_notifications\",\"kind\":\"Any\",\"default\":5},{\"name\":\"notifications\",\"kind\":\"Any\",\"default\":[]},{\"name\":\"position\",\"kind\":\"Any\",\"default\":\"bottom-right\"},{\"name\":\"_clear\",\"kind\":\"Any\",\"default\":0},{\"name\":\"types\",\"kind\":\"Any\",\"default\":[{\"type\":\"map\",\"entries\":[[\"type\",\"warning\"],[\"background\",\"#ffc107\"],[\"icon\",{\"type\":\"map\",\"entries\":[[\"className\",\"fas fa-exclamation-triangle\"],[\"tagName\",\"i\"],[\"color\",\"white\"]]}]]},{\"type\":\"map\",\"entries\":[[\"type\",\"info\"],[\"background\",\"#007bff\"],[\"icon\",{\"type\":\"map\",\"entries\":[[\"className\",\"fas fa-info-circle\"],[\"tagName\",\"i\"],[\"color\",\"white\"]]}]]}]}]},{\"type\":\"model\",\"name\":\"Notification\",\"properties\":[{\"name\":\"background\",\"kind\":\"Any\",\"default\":null},{\"name\":\"duration\",\"kind\":\"Any\",\"default\":3000},{\"name\":\"icon\",\"kind\":\"Any\",\"default\":null},{\"name\":\"message\",\"kind\":\"Any\",\"default\":\"\"},{\"name\":\"notification_type\",\"kind\":\"Any\",\"default\":null},{\"name\":\"_rendered\",\"kind\":\"Any\",\"default\":false},{\"name\":\"_destroyed\",\"kind\":\"Any\",\"default\":false}]},{\"type\":\"model\",\"name\":\"TemplateActions1\",\"properties\":[{\"name\":\"open_modal\",\"kind\":\"Any\",\"default\":0},{\"name\":\"close_modal\",\"kind\":\"Any\",\"default\":0}]},{\"type\":\"model\",\"name\":\"BootstrapTemplateActions1\",\"properties\":[{\"name\":\"open_modal\",\"kind\":\"Any\",\"default\":0},{\"name\":\"close_modal\",\"kind\":\"Any\",\"default\":0}]},{\"type\":\"model\",\"name\":\"TemplateEditor1\",\"properties\":[{\"name\":\"layout\",\"kind\":\"Any\",\"default\":[]}]},{\"type\":\"model\",\"name\":\"MaterialTemplateActions1\",\"properties\":[{\"name\":\"open_modal\",\"kind\":\"Any\",\"default\":0},{\"name\":\"close_modal\",\"kind\":\"Any\",\"default\":0}]},{\"type\":\"model\",\"name\":\"request_value1\",\"properties\":[{\"name\":\"fill\",\"kind\":\"Any\",\"default\":\"none\"},{\"name\":\"_synced\",\"kind\":\"Any\",\"default\":null},{\"name\":\"_request_sync\",\"kind\":\"Any\",\"default\":0}]}]}};\n",
       "  var render_items = [{\"docid\":\"6dc48854-b7a7-4067-8f69-e09c7513272d\",\"roots\":{\"a0348989-6183-488e-a2c2-c282322769a6\":\"d29bef08-fdfd-4995-9cb4-c7d3fc735607\"},\"root_ids\":[\"a0348989-6183-488e-a2c2-c282322769a6\"]}];\n",
       "  var docs = Object.values(docs_json)\n",
       "  if (!docs) {\n",
       "    return\n",
       "  }\n",
       "  const py_version = docs[0].version.replace('rc', '-rc.').replace('.dev', '-dev.')\n",
       "  async function embed_document(root) {\n",
       "    var Bokeh = get_bokeh(root)\n",
       "    await Bokeh.embed.embed_items_notebook(docs_json, render_items);\n",
       "    for (const render_item of render_items) {\n",
       "      for (const root_id of render_item.root_ids) {\n",
       "\tconst id_el = document.getElementById(root_id)\n",
       "\tif (id_el.children.length && id_el.children[0].hasAttribute('data-root-id')) {\n",
       "\t  const root_el = id_el.children[0]\n",
       "\t  root_el.id = root_el.id + '-rendered'\n",
       "\t  for (const child of root_el.children) {\n",
       "            // Ensure JupyterLab does not capture keyboard shortcuts\n",
       "            // see: https://jupyterlab.readthedocs.io/en/4.1.x/extension/notebook.html#keyboard-interaction-model\n",
       "\t    child.setAttribute('data-lm-suppress-shortcuts', 'true')\n",
       "\t  }\n",
       "\t}\n",
       "      }\n",
       "    }\n",
       "  }\n",
       "  function get_bokeh(root) {\n",
       "    if (root.Bokeh === undefined) {\n",
       "      return null\n",
       "    } else if (root.Bokeh.version !== py_version) {\n",
       "      if (root.Bokeh.versions === undefined || !root.Bokeh.versions.has(py_version)) {\n",
       "\treturn null\n",
       "      }\n",
       "      return root.Bokeh.versions.get(py_version);\n",
       "    } else if (root.Bokeh.version === py_version) {\n",
       "      return root.Bokeh\n",
       "    }\n",
       "    return null\n",
       "  }\n",
       "  function is_loaded(root) {\n",
       "    var Bokeh = get_bokeh(root)\n",
       "    return (Bokeh != null && Bokeh.Panel !== undefined && ( root.vtk !== undefined) && ( root.vtk !== undefined))\n",
       "  }\n",
       "  if (is_loaded(root)) {\n",
       "    embed_document(root);\n",
       "  } else {\n",
       "    var attempts = 0;\n",
       "    var timer = setInterval(function(root) {\n",
       "      if (is_loaded(root)) {\n",
       "        clearInterval(timer);\n",
       "        embed_document(root);\n",
       "      } else if (document.readyState == \"complete\") {\n",
       "        attempts++;\n",
       "        if (attempts > 200) {\n",
       "          clearInterval(timer);\n",
       "\t  var Bokeh = get_bokeh(root)\n",
       "\t  if (Bokeh == null || Bokeh.Panel == null) {\n",
       "            console.warn(\"Panel: ERROR: Unable to run Panel code because Bokeh or Panel library is missing\");\n",
       "\t  } else {\n",
       "\t    console.warn(\"Panel: WARNING: Attempting to render but not all required libraries could be resolved.\")\n",
       "\t    embed_document(root)\n",
       "\t  }\n",
       "        }\n",
       "      }\n",
       "    }, 25, root)\n",
       "  }\n",
       "})(window);</script>"
      ]
     },
     "metadata": {
      "application/vnd.holoviews_exec.v0+json": {
       "id": "a0348989-6183-488e-a2c2-c282322769a6"
      }
     },
     "output_type": "display_data"
    }
   ],
   "source": [
    "# | code-fold: true\n",
    "# | code-summary: \"Load packages\"\n",
    "# | output: false\n",
    "\n",
    "import os\n",
    "import numpy as np\n",
    "import jax\n",
    "from jax import numpy as jnp\n",
    "import pytest\n",
    "from types import SimpleNamespace\n",
    "from sympy import cos, pi, Piecewise\n",
    "\n",
    "from library.fvm.solver import HyperbolicSolver, Settings\n",
    "from library.fvm.ode import RK1\n",
    "import library.fvm.reconstruction as recon\n",
    "import library.fvm.timestepping as timestepping\n",
    "import library.fvm.flux as flux\n",
    "import library.fvm.nonconservative_flux as nc_flux\n",
    "from library.model.boundary_conditions import BoundaryCondition\n",
    "from library.model.models.basisfunctions import Basisfunction, Legendre_shifted\n",
    "from library.model.models.basismatrices import Basismatrices\n",
    "from library.misc.misc import Zstruct\n",
    "\n",
    "from library.model.models.shallow_moments import ShallowMoments2d\n",
    "import library.model.initial_conditions as IC\n",
    "import library.model.boundary_conditions as BC\n",
    "import library.misc.io as io\n",
    "from library.mesh.mesh import compute_derivatives\n",
    "from tests.pdesoft import plots_paper\n",
    "import library.postprocessing.visualization as visu\n",
    "\n",
    "\n",
    "import library.mesh.mesh as petscMesh\n",
    "import library.postprocessing.postprocessing as postprocessing\n",
    "from library.mesh.mesh import convert_mesh_to_jax\n",
    "import argparse"
   ]
  },
  {
   "cell_type": "markdown",
   "id": "96d5e564",
   "metadata": {},
   "source": [
    "## Model"
   ]
  },
  {
   "cell_type": "code",
   "execution_count": 2,
   "id": "ad87e829-022c-4468-a8b1-55f0965a2e07",
   "metadata": {
    "tags": []
   },
   "outputs": [
    {
     "name": "stderr",
     "output_type": "stream",
     "text": [
      "\u001b[32m2025-08-28 21:38:26.754\u001b[0m | \u001b[33m\u001b[1mWARNING \u001b[0m | \u001b[36mlibrary.misc.misc\u001b[0m:\u001b[36m__init__\u001b[0m:\u001b[36m146\u001b[0m - \u001b[33m\u001b[1mNo 'clean_directory' attribute found in output Zstruct. Default: False\u001b[0m\n"
     ]
    }
   ],
   "source": [
    "level = 0\n",
    "offset = 1+level\n",
    "n_fields = 3 + 2 * level\n",
    "settings = Settings(\n",
    "    name=\"SME\",\n",
    "    output=Zstruct(\n",
    "        directory=f\"outputs/junction_{level}\", filename=\"SME\", output_snapshots=30\n",
    "    ),\n",
    ")"
   ]
  },
  {
   "cell_type": "code",
   "execution_count": 4,
   "id": "fd25e4e2-4653-441c-a82b-4d4c2e4c013b",
   "metadata": {
    "tags": []
   },
   "outputs": [
    {
     "name": "stdout",
     "output_type": "stream",
     "text": [
      "Time compute matrices: 0.09297966957092285\n"
     ]
    },
    {
     "name": "stdout",
     "output_type": "stream",
     "text": [
      "\n"
     ]
    }
   ],
   "source": [
    "inflow_dict = { \n",
    "    0: lambda t, x, dx, q, qaux, p, n: Piecewise((0.1, t < 0.2),(q[0], True)),\n",
    "    1: lambda t, x, dx, q, qaux, p, n: Piecewise((-0.3, t < 0.2),(-q[1], True)),\n",
    "                }\n",
    "inflow_dict.update({\n",
    "    1+i: lambda t, x, dx, q, qaux, p, n: 0 for i in range(level)\n",
    "})\n",
    "inflow_dict.update({\n",
    "    1+offset+i: lambda t, x, dx, q, qaux, p, n: 0 for i in range(level+1)\n",
    "})\n",
    "\n",
    "bcs = BC.BoundaryConditions(\n",
    "    [\n",
    "        BC.Lambda(physical_tag=\"inflow\", prescribe_fields=inflow_dict),\n",
    "        BC.Wall(physical_tag=\"wall\"),\n",
    "    ]\n",
    ")\n",
    "\n",
    "def custom_ic(x):\n",
    "    Q = np.zeros(3 + 2 * level, dtype=float)\n",
    "    Q[0] = 0.01\n",
    "    return Q\n",
    "\n",
    "ic = IC.UserFunction(custom_ic)\n",
    "\n",
    "model = ShallowMoments2d(\n",
    "    level=level,\n",
    "    boundary_conditions=bcs,\n",
    "    initial_conditions=ic,\n",
    ")\n",
    "\n",
    "main_dir = os.getenv(\"ZOOMY_DIR\")\n",
    "mesh = petscMesh.Mesh.from_gmsh(\n",
    "    os.path.join(main_dir, \"meshes/channel_junction/mesh_2d_coarse.msh\")\n",
    "    # os.path.join(main_dir, \"meshes/channel_junction/mesh_2d_fine.msh\")\n",
    ")\n",
    "\n",
    "mesh = convert_mesh_to_jax(mesh)\n",
    "class SMESolver(HyperbolicSolver):\n",
    "    def update_qaux(self, Q, Qaux, Qold, Qauxold, mesh, model, parameters, time, dt):\n",
    "        dudx = compute_derivatives(Q[1]/Q[0], mesh, derivatives_multi_index=[[0, 0]])[:,0]\n",
    "        dvdy = compute_derivatives(Q[1+offset]/Q[0], mesh, derivatives_multi_index=[[0, 1]])[:,0]\n",
    "        Qaux = Qaux.at[0].set(dudx)\n",
    "        Qaux = Qaux.at[1].set(dvdy)\n",
    "        return Qaux\n",
    "solver = SMESolver(settings=settings)"
   ]
  },
  {
   "cell_type": "markdown",
   "id": "4bb1cf64",
   "metadata": {},
   "source": [
    "## Solve"
   ]
  },
  {
   "cell_type": "code",
   "execution_count": 5,
   "id": "34211aa2-8f9a-4e1d-bb55-1af32668f51e",
   "metadata": {},
   "outputs": [
    {
     "name": "stderr",
     "output_type": "stream",
     "text": [
      "\u001b[32m2025-08-28 21:40:27.171\u001b[0m | \u001b[1mINFO    \u001b[0m | \u001b[36mlibrary.fvm.solver\u001b[0m:\u001b[36mlog_callback_hyperbolic\u001b[0m:\u001b[36m44\u001b[0m - \u001b[1miteration: 10, time: 0.005779, dt: 0.000266, next write at time: 0.011111\u001b[0m\n",
      "\u001b[32m2025-08-28 21:40:27.676\u001b[0m | \u001b[1mINFO    \u001b[0m | \u001b[36mlibrary.fvm.solver\u001b[0m:\u001b[36mlog_callback_hyperbolic\u001b[0m:\u001b[36m44\u001b[0m - \u001b[1miteration: 20, time: 0.008436, dt: 0.000266, next write at time: 0.011111\u001b[0m\n",
      "\u001b[32m2025-08-28 21:40:28.124\u001b[0m | \u001b[1mINFO    \u001b[0m | \u001b[36mlibrary.fvm.solver\u001b[0m:\u001b[36mlog_callback_hyperbolic\u001b[0m:\u001b[36m44\u001b[0m - \u001b[1miteration: 30, time: 0.011093, dt: 0.000266, next write at time: 0.011111\u001b[0m\n",
      "\u001b[32m2025-08-28 21:40:28.670\u001b[0m | \u001b[1mINFO    \u001b[0m | \u001b[36mlibrary.fvm.solver\u001b[0m:\u001b[36mlog_callback_hyperbolic\u001b[0m:\u001b[36m44\u001b[0m - \u001b[1miteration: 40, time: 0.013750, dt: 0.000266, next write at time: 0.022222\u001b[0m\n",
      "\u001b[32m2025-08-28 21:40:29.153\u001b[0m | \u001b[1mINFO    \u001b[0m | \u001b[36mlibrary.fvm.solver\u001b[0m:\u001b[36mlog_callback_hyperbolic\u001b[0m:\u001b[36m44\u001b[0m - \u001b[1miteration: 50, time: 0.016406, dt: 0.000266, next write at time: 0.022222\u001b[0m\n",
      "\u001b[32m2025-08-28 21:40:29.636\u001b[0m | \u001b[1mINFO    \u001b[0m | \u001b[36mlibrary.fvm.solver\u001b[0m:\u001b[36mlog_callback_hyperbolic\u001b[0m:\u001b[36m44\u001b[0m - \u001b[1miteration: 60, time: 0.019064, dt: 0.000266, next write at time: 0.022222\u001b[0m\n",
      "\u001b[32m2025-08-28 21:40:30.150\u001b[0m | \u001b[1mINFO    \u001b[0m | \u001b[36mlibrary.fvm.solver\u001b[0m:\u001b[36mlog_callback_hyperbolic\u001b[0m:\u001b[36m44\u001b[0m - \u001b[1miteration: 70, time: 0.021721, dt: 0.000266, next write at time: 0.022222\u001b[0m\n",
      "\u001b[32m2025-08-28 21:40:30.831\u001b[0m | \u001b[1mINFO    \u001b[0m | \u001b[36mlibrary.fvm.solver\u001b[0m:\u001b[36mlog_callback_hyperbolic\u001b[0m:\u001b[36m44\u001b[0m - \u001b[1miteration: 80, time: 0.024379, dt: 0.000266, next write at time: 0.033333\u001b[0m\n",
      "\u001b[32m2025-08-28 21:40:31.311\u001b[0m | \u001b[1mINFO    \u001b[0m | \u001b[36mlibrary.fvm.solver\u001b[0m:\u001b[36mlog_callback_hyperbolic\u001b[0m:\u001b[36m44\u001b[0m - \u001b[1miteration: 90, time: 0.027037, dt: 0.000266, next write at time: 0.033333\u001b[0m\n",
      "\u001b[32m2025-08-28 21:40:31.799\u001b[0m | \u001b[1mINFO    \u001b[0m | \u001b[36mlibrary.fvm.solver\u001b[0m:\u001b[36mlog_callback_hyperbolic\u001b[0m:\u001b[36m44\u001b[0m - \u001b[1miteration: 100, time: 0.029694, dt: 0.000266, next write at time: 0.033333\u001b[0m\n",
      "\u001b[32m2025-08-28 21:40:32.284\u001b[0m | \u001b[1mINFO    \u001b[0m | \u001b[36mlibrary.fvm.solver\u001b[0m:\u001b[36mlog_callback_hyperbolic\u001b[0m:\u001b[36m44\u001b[0m - \u001b[1miteration: 110, time: 0.032352, dt: 0.000266, next write at time: 0.033333\u001b[0m\n",
      "\u001b[32m2025-08-28 21:40:32.835\u001b[0m | \u001b[1mINFO    \u001b[0m | \u001b[36mlibrary.fvm.solver\u001b[0m:\u001b[36mlog_callback_hyperbolic\u001b[0m:\u001b[36m44\u001b[0m - \u001b[1miteration: 120, time: 0.035010, dt: 0.000266, next write at time: 0.044444\u001b[0m\n",
      "\u001b[32m2025-08-28 21:40:33.329\u001b[0m | \u001b[1mINFO    \u001b[0m | \u001b[36mlibrary.fvm.solver\u001b[0m:\u001b[36mlog_callback_hyperbolic\u001b[0m:\u001b[36m44\u001b[0m - \u001b[1miteration: 130, time: 0.037668, dt: 0.000266, next write at time: 0.044444\u001b[0m\n",
      "\u001b[32m2025-08-28 21:40:33.803\u001b[0m | \u001b[1mINFO    \u001b[0m | \u001b[36mlibrary.fvm.solver\u001b[0m:\u001b[36mlog_callback_hyperbolic\u001b[0m:\u001b[36m44\u001b[0m - \u001b[1miteration: 140, time: 0.040326, dt: 0.000266, next write at time: 0.044444\u001b[0m\n",
      "\u001b[32m2025-08-28 21:40:34.269\u001b[0m | \u001b[1mINFO    \u001b[0m | \u001b[36mlibrary.fvm.solver\u001b[0m:\u001b[36mlog_callback_hyperbolic\u001b[0m:\u001b[36m44\u001b[0m - \u001b[1miteration: 150, time: 0.042984, dt: 0.000266, next write at time: 0.044444\u001b[0m\n",
      "\u001b[32m2025-08-28 21:40:34.740\u001b[0m | \u001b[1mINFO    \u001b[0m | \u001b[36mlibrary.fvm.solver\u001b[0m:\u001b[36mlog_callback_hyperbolic\u001b[0m:\u001b[36m44\u001b[0m - \u001b[1miteration: 160, time: 0.045642, dt: 0.000266, next write at time: 0.055556\u001b[0m\n",
      "\u001b[32m2025-08-28 21:40:35.270\u001b[0m | \u001b[1mINFO    \u001b[0m | \u001b[36mlibrary.fvm.solver\u001b[0m:\u001b[36mlog_callback_hyperbolic\u001b[0m:\u001b[36m44\u001b[0m - \u001b[1miteration: 170, time: 0.048300, dt: 0.000266, next write at time: 0.055556\u001b[0m\n",
      "\u001b[32m2025-08-28 21:40:35.742\u001b[0m | \u001b[1mINFO    \u001b[0m | \u001b[36mlibrary.fvm.solver\u001b[0m:\u001b[36mlog_callback_hyperbolic\u001b[0m:\u001b[36m44\u001b[0m - \u001b[1miteration: 180, time: 0.050958, dt: 0.000266, next write at time: 0.055556\u001b[0m\n",
      "\u001b[32m2025-08-28 21:40:36.393\u001b[0m | \u001b[1mINFO    \u001b[0m | \u001b[36mlibrary.fvm.solver\u001b[0m:\u001b[36mlog_callback_hyperbolic\u001b[0m:\u001b[36m44\u001b[0m - \u001b[1miteration: 190, time: 0.053616, dt: 0.000266, next write at time: 0.055556\u001b[0m\n",
      "\u001b[32m2025-08-28 21:40:37.093\u001b[0m | \u001b[1mINFO    \u001b[0m | \u001b[36mlibrary.fvm.solver\u001b[0m:\u001b[36mlog_callback_hyperbolic\u001b[0m:\u001b[36m44\u001b[0m - \u001b[1miteration: 200, time: 0.056274, dt: 0.000266, next write at time: 0.066667\u001b[0m\n",
      "\u001b[32m2025-08-28 21:40:37.747\u001b[0m | \u001b[1mINFO    \u001b[0m | \u001b[36mlibrary.fvm.solver\u001b[0m:\u001b[36mlog_callback_hyperbolic\u001b[0m:\u001b[36m44\u001b[0m - \u001b[1miteration: 210, time: 0.058932, dt: 0.000266, next write at time: 0.066667\u001b[0m\n",
      "\u001b[32m2025-08-28 21:40:38.336\u001b[0m | \u001b[1mINFO    \u001b[0m | \u001b[36mlibrary.fvm.solver\u001b[0m:\u001b[36mlog_callback_hyperbolic\u001b[0m:\u001b[36m44\u001b[0m - \u001b[1miteration: 220, time: 0.061590, dt: 0.000266, next write at time: 0.066667\u001b[0m\n",
      "\u001b[32m2025-08-28 21:40:38.849\u001b[0m | \u001b[1mINFO    \u001b[0m | \u001b[36mlibrary.fvm.solver\u001b[0m:\u001b[36mlog_callback_hyperbolic\u001b[0m:\u001b[36m44\u001b[0m - \u001b[1miteration: 230, time: 0.064248, dt: 0.000266, next write at time: 0.066667\u001b[0m\n",
      "\u001b[32m2025-08-28 21:40:39.402\u001b[0m | \u001b[1mINFO    \u001b[0m | \u001b[36mlibrary.fvm.solver\u001b[0m:\u001b[36mlog_callback_hyperbolic\u001b[0m:\u001b[36m44\u001b[0m - \u001b[1miteration: 240, time: 0.066906, dt: 0.000266, next write at time: 0.066667\u001b[0m\n",
      "\u001b[32m2025-08-28 21:40:39.881\u001b[0m | \u001b[1mINFO    \u001b[0m | \u001b[36mlibrary.fvm.solver\u001b[0m:\u001b[36mlog_callback_hyperbolic\u001b[0m:\u001b[36m44\u001b[0m - \u001b[1miteration: 250, time: 0.069564, dt: 0.000266, next write at time: 0.077778\u001b[0m\n",
      "\u001b[32m2025-08-28 21:40:40.383\u001b[0m | \u001b[1mINFO    \u001b[0m | \u001b[36mlibrary.fvm.solver\u001b[0m:\u001b[36mlog_callback_hyperbolic\u001b[0m:\u001b[36m44\u001b[0m - \u001b[1miteration: 260, time: 0.072222, dt: 0.000266, next write at time: 0.077778\u001b[0m\n",
      "\u001b[32m2025-08-28 21:40:40.881\u001b[0m | \u001b[1mINFO    \u001b[0m | \u001b[36mlibrary.fvm.solver\u001b[0m:\u001b[36mlog_callback_hyperbolic\u001b[0m:\u001b[36m44\u001b[0m - \u001b[1miteration: 270, time: 0.074880, dt: 0.000266, next write at time: 0.077778\u001b[0m\n",
      "\u001b[32m2025-08-28 21:40:41.536\u001b[0m | \u001b[1mINFO    \u001b[0m | \u001b[36mlibrary.fvm.solver\u001b[0m:\u001b[36mlog_callback_hyperbolic\u001b[0m:\u001b[36m44\u001b[0m - \u001b[1miteration: 280, time: 0.077538, dt: 0.000266, next write at time: 0.077778\u001b[0m\n",
      "\u001b[32m2025-08-28 21:40:42.248\u001b[0m | \u001b[1mINFO    \u001b[0m | \u001b[36mlibrary.fvm.solver\u001b[0m:\u001b[36mlog_callback_hyperbolic\u001b[0m:\u001b[36m44\u001b[0m - \u001b[1miteration: 290, time: 0.080196, dt: 0.000266, next write at time: 0.088889\u001b[0m\n",
      "\u001b[32m2025-08-28 21:40:42.788\u001b[0m | \u001b[1mINFO    \u001b[0m | \u001b[36mlibrary.fvm.solver\u001b[0m:\u001b[36mlog_callback_hyperbolic\u001b[0m:\u001b[36m44\u001b[0m - \u001b[1miteration: 300, time: 0.082854, dt: 0.000266, next write at time: 0.088889\u001b[0m\n",
      "\u001b[32m2025-08-28 21:40:43.324\u001b[0m | \u001b[1mINFO    \u001b[0m | \u001b[36mlibrary.fvm.solver\u001b[0m:\u001b[36mlog_callback_hyperbolic\u001b[0m:\u001b[36m44\u001b[0m - \u001b[1miteration: 310, time: 0.085512, dt: 0.000266, next write at time: 0.088889\u001b[0m\n",
      "\u001b[32m2025-08-28 21:40:43.924\u001b[0m | \u001b[1mINFO    \u001b[0m | \u001b[36mlibrary.fvm.solver\u001b[0m:\u001b[36mlog_callback_hyperbolic\u001b[0m:\u001b[36m44\u001b[0m - \u001b[1miteration: 320, time: 0.088170, dt: 0.000266, next write at time: 0.088889\u001b[0m\n",
      "\u001b[32m2025-08-28 21:40:44.441\u001b[0m | \u001b[1mINFO    \u001b[0m | \u001b[36mlibrary.fvm.solver\u001b[0m:\u001b[36mlog_callback_hyperbolic\u001b[0m:\u001b[36m44\u001b[0m - \u001b[1miteration: 330, time: 0.090828, dt: 0.000266, next write at time: 0.100000\u001b[0m\n",
      "\u001b[32m2025-08-28 21:40:44.928\u001b[0m | \u001b[1mINFO    \u001b[0m | \u001b[36mlibrary.fvm.solver\u001b[0m:\u001b[36mlog_callback_hyperbolic\u001b[0m:\u001b[36m44\u001b[0m - \u001b[1miteration: 340, time: 0.093486, dt: 0.000266, next write at time: 0.100000\u001b[0m\n",
      "\u001b[32m2025-08-28 21:40:45.477\u001b[0m | \u001b[1mINFO    \u001b[0m | \u001b[36mlibrary.fvm.solver\u001b[0m:\u001b[36mlog_callback_hyperbolic\u001b[0m:\u001b[36m44\u001b[0m - \u001b[1miteration: 350, time: 0.096144, dt: 0.000266, next write at time: 0.100000\u001b[0m\n",
      "\u001b[32m2025-08-28 21:40:46.037\u001b[0m | \u001b[1mINFO    \u001b[0m | \u001b[36mlibrary.fvm.solver\u001b[0m:\u001b[36mlog_callback_hyperbolic\u001b[0m:\u001b[36m44\u001b[0m - \u001b[1miteration: 360, time: 0.098802, dt: 0.000266, next write at time: 0.100000\u001b[0m\n",
      "\u001b[32m2025-08-28 21:40:46.359\u001b[0m | \u001b[1mINFO    \u001b[0m | \u001b[36mlibrary.fvm.solver\u001b[0m:\u001b[36mlog_callback_execution_time\u001b[0m:\u001b[36m56\u001b[0m - \u001b[1mFinished simulation with in 22.908 seconds\u001b[0m\n"
     ]
    }
   ],
   "source": [
    "Qnew, Qaux = solver.solve(mesh, model)"
   ]
  },
  {
   "cell_type": "markdown",
   "id": "491a9389",
   "metadata": {},
   "source": [
    "## Visualization"
   ]
  },
  {
   "cell_type": "code",
   "execution_count": 6,
   "id": "91f0af61",
   "metadata": {},
   "outputs": [
    {
     "ename": "ValueError",
     "evalue": "could not broadcast input array from shape (16000,5) into shape (16000,6)",
     "output_type": "error",
     "traceback": [
      "\u001b[31m---------------------------------------------------------------------------\u001b[39m",
      "\u001b[31mValueError\u001b[39m                                Traceback (most recent call last)",
      "\u001b[36mCell\u001b[39m\u001b[36m \u001b[39m\u001b[32mIn[6]\u001b[39m\u001b[32m, line 2\u001b[39m\n\u001b[32m      1\u001b[39m io.generate_vtk(os.path.join(settings.output.directory, \u001b[33mf\u001b[39m\u001b[33m\"\u001b[39m\u001b[38;5;132;01m{\u001b[39;00msettings.output.filename\u001b[38;5;132;01m}\u001b[39;00m\u001b[33m.h5\u001b[39m\u001b[33m\"\u001b[39m))\n\u001b[32m----> \u001b[39m\u001b[32m2\u001b[39m \u001b[43mpostprocessing\u001b[49m\u001b[43m.\u001b[49m\u001b[43mvtk_interpolate_3d\u001b[49m\u001b[43m(\u001b[49m\u001b[43mmodel\u001b[49m\u001b[43m,\u001b[49m\u001b[43m \u001b[49m\u001b[43msettings\u001b[49m\u001b[43m,\u001b[49m\u001b[43m \u001b[49m\u001b[43mNz\u001b[49m\u001b[43m=\u001b[49m\u001b[32;43m20\u001b[39;49m\u001b[43m,\u001b[49m\u001b[43m \u001b[49m\u001b[43mfilename\u001b[49m\u001b[43m=\u001b[49m\u001b[33;43m'\u001b[39;49m\u001b[33;43mout_3d\u001b[39;49m\u001b[33;43m'\u001b[39;49m\u001b[43m)\u001b[49m\n",
      "\u001b[36mFile \u001b[39m\u001b[32m~/Git/Zoomy/library/postprocessing/postprocessing.py:54\u001b[39m, in \u001b[36mvtk_interpolate_3d\u001b[39m\u001b[34m(model, settings, Nz, start_at_time, scale_h, filename)\u001b[39m\n\u001b[32m     49\u001b[39m \u001b[38;5;28;01mfor\u001b[39;00m iz, z \u001b[38;5;129;01min\u001b[39;00m \u001b[38;5;28menumerate\u001b[39m(Z):\n\u001b[32m     50\u001b[39m \n\u001b[32m     51\u001b[39m     \u001b[38;5;66;03m#rhoUVWP[i_elem + (iz * mesh.n_cells), :] = pde.interpolate_3d(np.array([0, 0, z]), q, qaux, parameters)\u001b[39;00m\n\u001b[32m     52\u001b[39m     \u001b[38;5;66;03m# rhoUVWP[(iz * mesh.n_inner_cells):((iz+1) * mesh.n_inner_cells), 0] = Q[0, :mesh.n_inner_cells]\u001b[39;00m\n\u001b[32m     53\u001b[39m     Qnew = pde.interpolate_3d(np.array([\u001b[32m0\u001b[39m, \u001b[32m0\u001b[39m, z]), Q[:, :mesh.n_inner_cells], Qaux[:, :mesh.n_inner_cells], model.parameter_values).T\n\u001b[32m---> \u001b[39m\u001b[32m54\u001b[39m     \u001b[43mrhoUVWP\u001b[49m\u001b[43m[\u001b[49m\u001b[43m(\u001b[49m\u001b[43miz\u001b[49m\u001b[43m \u001b[49m\u001b[43m*\u001b[49m\u001b[43m \u001b[49m\u001b[43mmesh\u001b[49m\u001b[43m.\u001b[49m\u001b[43mn_inner_cells\u001b[49m\u001b[43m)\u001b[49m\u001b[43m:\u001b[49m\u001b[43m(\u001b[49m\u001b[43m(\u001b[49m\u001b[43miz\u001b[49m\u001b[43m+\u001b[49m\u001b[32;43m1\u001b[39;49m\u001b[43m)\u001b[49m\u001b[43m \u001b[49m\u001b[43m*\u001b[49m\u001b[43m \u001b[49m\u001b[43mmesh\u001b[49m\u001b[43m.\u001b[49m\u001b[43mn_inner_cells\u001b[49m\u001b[43m)\u001b[49m\u001b[43m,\u001b[49m\u001b[43m \u001b[49m\u001b[43m:\u001b[49m\u001b[43m]\u001b[49m = Qnew\n\u001b[32m     56\u001b[39m \u001b[38;5;66;03m# rhoUVWP[mesh.n_inner_cells:mesh.n_inner_cells+mesh.n_inner_cells, 0] = Q[0, :mesh.n_inner_cells]\u001b[39;00m\n\u001b[32m     58\u001b[39m qaux = np.zeros((Q.shape[\u001b[32m1\u001b[39m]*Nz, \u001b[32m1\u001b[39m), dtype=\u001b[38;5;28mfloat\u001b[39m)\n",
      "\u001b[31mValueError\u001b[39m: could not broadcast input array from shape (16000,5) into shape (16000,6)"
     ]
    }
   ],
   "source": [
    "io.generate_vtk(os.path.join(settings.output.directory, f\"{settings.output.filename}.h5\"))\n",
    "postprocessing.vtk_interpolate_3d(model, settings, Nz=20, filename='out_3d')"
   ]
  },
  {
   "cell_type": "code",
   "execution_count": null,
   "id": "9998344a",
   "metadata": {},
   "outputs": [
    {
     "data": {
      "application/vnd.jupyter.widget-view+json": {
       "model_id": "3d28911d68f645ff9f2d6be72031891a",
       "version_major": 2,
       "version_minor": 0
      },
      "text/plain": [
       "BokehModel(combine_events=True, render_bundle={'docs_json': {'27d40e6f-9809-46fc-aaa7-e2c427429dcd': {'version…"
      ]
     },
     "execution_count": 9,
     "metadata": {},
     "output_type": "execute_result"
    }
   ],
   "source": [
    "visu.pyvista_3d(settings.output.directory, scale=1.0)"
   ]
  },
  {
   "cell_type": "code",
   "execution_count": null,
   "id": "2cf15e84",
   "metadata": {},
   "outputs": [],
   "source": []
  }
 ],
 "metadata": {
  "kernelspec": {
   "display_name": "zoomy",
   "language": "python",
   "name": "python3"
  },
  "language_info": {
   "codemirror_mode": {
    "name": "ipython",
    "version": 3
   },
   "file_extension": ".py",
   "mimetype": "text/x-python",
   "name": "python",
   "nbconvert_exporter": "python",
   "pygments_lexer": "ipython3",
   "version": "3.12.11"
  },
  "widgets": {
   "application/vnd.jupyter.widget-state+json": {
    "state": {
     "58197ea96c8d4208a27b23118644168f": {
      "model_module": "@jupyter-widgets/base",
      "model_module_version": "2.0.0",
      "model_name": "LayoutModel",
      "state": {
       "_model_module": "@jupyter-widgets/base",
       "_model_module_version": "2.0.0",
       "_model_name": "LayoutModel",
       "_view_count": null,
       "_view_module": "@jupyter-widgets/base",
       "_view_module_version": "2.0.0",
       "_view_name": "LayoutView",
       "align_content": null,
       "align_items": null,
       "align_self": null,
       "border_bottom": null,
       "border_left": null,
       "border_right": null,
       "border_top": null,
       "bottom": null,
       "display": null,
       "flex": null,
       "flex_flow": null,
       "grid_area": null,
       "grid_auto_columns": null,
       "grid_auto_flow": null,
       "grid_auto_rows": null,
       "grid_column": null,
       "grid_gap": null,
       "grid_row": null,
       "grid_template_areas": null,
       "grid_template_columns": null,
       "grid_template_rows": null,
       "height": null,
       "justify_content": null,
       "justify_items": null,
       "left": null,
       "margin": null,
       "max_height": null,
       "max_width": null,
       "min_height": null,
       "min_width": null,
       "object_fit": null,
       "object_position": null,
       "order": null,
       "overflow": null,
       "padding": null,
       "right": null,
       "top": null,
       "visibility": null,
       "width": null
      }
     },
     "6aee9427c56642c3a758e75c7f50945d": {
      "model_module": "@jupyter-widgets/controls",
      "model_module_version": "2.0.0",
      "model_name": "HTMLStyleModel",
      "state": {
       "_model_module": "@jupyter-widgets/controls",
       "_model_module_version": "2.0.0",
       "_model_name": "HTMLStyleModel",
       "_view_count": null,
       "_view_module": "@jupyter-widgets/base",
       "_view_module_version": "2.0.0",
       "_view_name": "StyleView",
       "background": null,
       "description_width": "",
       "font_size": null,
       "text_color": null
      }
     },
     "8e858fdf20384196aa8989375078223c": {
      "model_module": "@jupyter-widgets/controls",
      "model_module_version": "2.0.0",
      "model_name": "HTMLModel",
      "state": {
       "_dom_classes": [],
       "_model_module": "@jupyter-widgets/controls",
       "_model_module_version": "2.0.0",
       "_model_name": "HTMLModel",
       "_view_count": null,
       "_view_module": "@jupyter-widgets/controls",
       "_view_module_version": "2.0.0",
       "_view_name": "HTMLView",
       "description": "",
       "description_allow_html": false,
       "layout": "IPY_MODEL_58197ea96c8d4208a27b23118644168f",
       "placeholder": "​",
       "style": "IPY_MODEL_6aee9427c56642c3a758e75c7f50945d",
       "tabbable": null,
       "tooltip": null,
       "value": "<iframe src=\"http://localhost:40521/index.html?ui=P_0x7fedf49b1c40_0&reconnect=auto\" class=\"pyvista\" style=\"width: 99%; height: 600px; border: 1px solid rgb(221,221,221);\"></iframe>"
      }
     }
    },
    "version_major": 2,
    "version_minor": 0
   }
  }
 },
 "nbformat": 4,
 "nbformat_minor": 5
}
