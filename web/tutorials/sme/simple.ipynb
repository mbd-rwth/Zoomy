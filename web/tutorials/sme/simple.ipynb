{
 "cells": [
  {
   "cell_type": "raw",
   "id": "906eac95",
   "metadata": {
    "vscode": {
     "languageId": "raw"
    }
   },
   "source": [
    "---\n",
    "title: \"Simple\"\n",
    "author: Ingo Steldermann\n",
    "date: 07/10/2025\n",
    "format:\n",
    "  html:\n",
    "    code-fold: false\n",
    "    code-tools: true\n",
    "    css: ../notebook.css\n",
    "---"
   ]
  },
  {
   "cell_type": "markdown",
   "id": "a8c5b74f",
   "metadata": {
    "vscode": {
     "languageId": "raw"
    }
   },
   "source": [
    "# Shallow Moment Tutorial (Simple)"
   ]
  },
  {
   "cell_type": "markdown",
   "id": "b7ce1821",
   "metadata": {
    "vscode": {
     "languageId": "raw"
    }
   },
   "source": [
    "## Imports"
   ]
  },
  {
   "cell_type": "code",
   "execution_count": 1,
   "id": "4f583c96",
   "metadata": {
    "tags": []
   },
   "outputs": [
    {
     "name": "stderr",
     "output_type": "stream",
     "text": [
      "\u001b[32m2025-08-08 06:21:29.819\u001b[0m | \u001b[33m\u001b[1mWARNING \u001b[0m | \u001b[36mlibrary.fvm.solver\u001b[0m:\u001b[36m<module>\u001b[0m:\u001b[36m28\u001b[0m - \u001b[33m\u001b[1mNo module named 'precice'\u001b[0m\n"
     ]
    },
    {
     "data": {
      "text/html": [
       "<script type=\"esms-options\">{\"shimMode\": true}</script><style>*[data-root-id],\n",
       "*[data-root-id] > * {\n",
       "  box-sizing: border-box;\n",
       "  font-family: var(--jp-ui-font-family);\n",
       "  font-size: var(--jp-ui-font-size1);\n",
       "  color: var(--vscode-editor-foreground, var(--jp-ui-font-color1));\n",
       "}\n",
       "\n",
       "/* Override VSCode background color */\n",
       ".cell-output-ipywidget-background:has(\n",
       "    > .cell-output-ipywidget-background > .lm-Widget > *[data-root-id]\n",
       "  ),\n",
       ".cell-output-ipywidget-background:has(> .lm-Widget > *[data-root-id]) {\n",
       "  background-color: transparent !important;\n",
       "}\n",
       "</style>"
      ]
     },
     "metadata": {},
     "output_type": "display_data"
    },
    {
     "data": {
      "application/javascript": "(function(root) {\n  function now() {\n    return new Date();\n  }\n\n  const force = true;\n  const py_version = '3.6.3'.replace('rc', '-rc.').replace('.dev', '-dev.');\n  const reloading = false;\n  const Bokeh = root.Bokeh;\n\n  // Set a timeout for this load but only if we are not already initializing\n  if (typeof (root._bokeh_timeout) === \"undefined\" || (force || !root._bokeh_is_initializing)) {\n    root._bokeh_timeout = Date.now() + 5000;\n    root._bokeh_failed_load = false;\n  }\n\n  function run_callbacks() {\n    try {\n      root._bokeh_onload_callbacks.forEach(function(callback) {\n        if (callback != null)\n          callback();\n      });\n    } finally {\n      delete root._bokeh_onload_callbacks;\n    }\n    console.debug(\"Bokeh: all callbacks have finished\");\n  }\n\n  function load_libs(css_urls, js_urls, js_modules, js_exports, callback) {\n    if (css_urls == null) css_urls = [];\n    if (js_urls == null) js_urls = [];\n    if (js_modules == null) js_modules = [];\n    if (js_exports == null) js_exports = {};\n\n    root._bokeh_onload_callbacks.push(callback);\n\n    if (root._bokeh_is_loading > 0) {\n      // Don't load bokeh if it is still initializing\n      console.debug(\"Bokeh: BokehJS is being loaded, scheduling callback at\", now());\n      return null;\n    } else if (js_urls.length === 0 && js_modules.length === 0 && Object.keys(js_exports).length === 0) {\n      // There is nothing to load\n      run_callbacks();\n      return null;\n    }\n\n    function on_load() {\n      root._bokeh_is_loading--;\n      if (root._bokeh_is_loading === 0) {\n        console.debug(\"Bokeh: all BokehJS libraries/stylesheets loaded\");\n        run_callbacks()\n      }\n    }\n    window._bokeh_on_load = on_load\n\n    function on_error(e) {\n      const src_el = e.srcElement\n      console.error(\"failed to load \" + (src_el.href || src_el.src));\n    }\n\n    const skip = [];\n    if (window.requirejs) {\n      window.requirejs.config({'packages': {}, 'paths': {'vtk': 'https://cdn.jsdelivr.net/npm/vtk.js@30.1.0/vtk'}, 'shim': {'vtk': {'exports': 'vtk'}}});\n      require([\"vtk\"], function() {\n        on_load()\n      })\n      root._bokeh_is_loading = css_urls.length + 1;\n    } else {\n      root._bokeh_is_loading = css_urls.length + js_urls.length + js_modules.length + Object.keys(js_exports).length;\n    }\n\n    const existing_stylesheets = []\n    const links = document.getElementsByTagName('link')\n    for (let i = 0; i < links.length; i++) {\n      const link = links[i]\n      if (link.href != null) {\n        existing_stylesheets.push(link.href)\n      }\n    }\n    for (let i = 0; i < css_urls.length; i++) {\n      const url = css_urls[i];\n      const escaped = encodeURI(url)\n      if (existing_stylesheets.indexOf(escaped) !== -1) {\n        on_load()\n        continue;\n      }\n      const element = document.createElement(\"link\");\n      element.onload = on_load;\n      element.onerror = on_error;\n      element.rel = \"stylesheet\";\n      element.type = \"text/css\";\n      element.href = url;\n      console.debug(\"Bokeh: injecting link tag for BokehJS stylesheet: \", url);\n      document.body.appendChild(element);\n    }    if (((window.vtk !== undefined) && (!(window.vtk instanceof HTMLElement))) || window.requirejs) {\n      var urls = ['https://cdn.holoviz.org/panel/1.6.1/dist/bundled/abstractvtkplot/vtk.js@30.1.0/vtk.js'];\n      for (var i = 0; i < urls.length; i++) {\n        skip.push(encodeURI(urls[i]))\n      }\n    }    var existing_scripts = []\n    const scripts = document.getElementsByTagName('script')\n    for (let i = 0; i < scripts.length; i++) {\n      var script = scripts[i]\n      if (script.src != null) {\n        existing_scripts.push(script.src)\n      }\n    }\n    for (let i = 0; i < js_urls.length; i++) {\n      const url = js_urls[i];\n      const escaped = encodeURI(url)\n      if (skip.indexOf(escaped) !== -1 || existing_scripts.indexOf(escaped) !== -1) {\n        if (!window.requirejs) {\n          on_load();\n        }\n        continue;\n      }\n      const element = document.createElement('script');\n      element.onload = on_load;\n      element.onerror = on_error;\n      element.async = false;\n      element.src = url;\n      console.debug(\"Bokeh: injecting script tag for BokehJS library: \", url);\n      document.head.appendChild(element);\n    }\n    for (let i = 0; i < js_modules.length; i++) {\n      const url = js_modules[i];\n      const escaped = encodeURI(url)\n      if (skip.indexOf(escaped) !== -1 || existing_scripts.indexOf(escaped) !== -1) {\n        if (!window.requirejs) {\n          on_load();\n        }\n        continue;\n      }\n      var element = document.createElement('script');\n      element.onload = on_load;\n      element.onerror = on_error;\n      element.async = false;\n      element.src = url;\n      element.type = \"module\";\n      console.debug(\"Bokeh: injecting script tag for BokehJS library: \", url);\n      document.head.appendChild(element);\n    }\n    for (const name in js_exports) {\n      const url = js_exports[name];\n      const escaped = encodeURI(url)\n      if (skip.indexOf(escaped) >= 0 || root[name] != null) {\n        if (!window.requirejs) {\n          on_load();\n        }\n        continue;\n      }\n      var element = document.createElement('script');\n      element.onerror = on_error;\n      element.async = false;\n      element.type = \"module\";\n      console.debug(\"Bokeh: injecting script tag for BokehJS library: \", url);\n      element.textContent = `\n      import ${name} from \"${url}\"\n      window.${name} = ${name}\n      window._bokeh_on_load()\n      `\n      document.head.appendChild(element);\n    }\n    if (!js_urls.length && !js_modules.length) {\n      on_load()\n    }\n  };\n\n  function inject_raw_css(css) {\n    const element = document.createElement(\"style\");\n    element.appendChild(document.createTextNode(css));\n    document.body.appendChild(element);\n  }\n\n  const js_urls = [\"https://cdn.holoviz.org/panel/1.6.1/dist/bundled/reactiveesm/es-module-shims@^1.10.0/dist/es-module-shims.min.js\", \"https://cdn.holoviz.org/panel/1.6.1/dist/bundled/abstractvtkplot/vtk.js@30.1.0/vtk.js\", \"https://cdn.bokeh.org/bokeh/release/bokeh-3.6.3.min.js\", \"https://cdn.bokeh.org/bokeh/release/bokeh-gl-3.6.3.min.js\", \"https://cdn.bokeh.org/bokeh/release/bokeh-widgets-3.6.3.min.js\", \"https://cdn.bokeh.org/bokeh/release/bokeh-tables-3.6.3.min.js\", \"https://cdn.holoviz.org/panel/1.6.1/dist/panel.min.js\"];\n  const js_modules = [];\n  const js_exports = {};\n  const css_urls = [];\n  const inline_js = [    function(Bokeh) {\n      Bokeh.set_log_level(\"info\");\n    },\nfunction(Bokeh) {} // ensure no trailing comma for IE\n  ];\n\n  function run_inline_js() {\n    if ((root.Bokeh !== undefined) || (force === true)) {\n      for (let i = 0; i < inline_js.length; i++) {\n        try {\n          inline_js[i].call(root, root.Bokeh);\n        } catch(e) {\n          if (!reloading) {\n            throw e;\n          }\n        }\n      }\n      // Cache old bokeh versions\n      if (Bokeh != undefined && !reloading) {\n        var NewBokeh = root.Bokeh;\n        if (Bokeh.versions === undefined) {\n          Bokeh.versions = new Map();\n        }\n        if (NewBokeh.version !== Bokeh.version) {\n          Bokeh.versions.set(NewBokeh.version, NewBokeh)\n        }\n        root.Bokeh = Bokeh;\n      }\n    } else if (Date.now() < root._bokeh_timeout) {\n      setTimeout(run_inline_js, 100);\n    } else if (!root._bokeh_failed_load) {\n      console.log(\"Bokeh: BokehJS failed to load within specified timeout.\");\n      root._bokeh_failed_load = true;\n    }\n    root._bokeh_is_initializing = false\n  }\n\n  function load_or_wait() {\n    // Implement a backoff loop that tries to ensure we do not load multiple\n    // versions of Bokeh and its dependencies at the same time.\n    // In recent versions we use the root._bokeh_is_initializing flag\n    // to determine whether there is an ongoing attempt to initialize\n    // bokeh, however for backward compatibility we also try to ensure\n    // that we do not start loading a newer (Panel>=1.0 and Bokeh>3) version\n    // before older versions are fully initialized.\n    if (root._bokeh_is_initializing && Date.now() > root._bokeh_timeout) {\n      // If the timeout and bokeh was not successfully loaded we reset\n      // everything and try loading again\n      root._bokeh_timeout = Date.now() + 5000;\n      root._bokeh_is_initializing = false;\n      root._bokeh_onload_callbacks = undefined;\n      root._bokeh_is_loading = 0\n      console.log(\"Bokeh: BokehJS was loaded multiple times but one version failed to initialize.\");\n      load_or_wait();\n    } else if (root._bokeh_is_initializing || (typeof root._bokeh_is_initializing === \"undefined\" && root._bokeh_onload_callbacks !== undefined)) {\n      setTimeout(load_or_wait, 100);\n    } else {\n      root._bokeh_is_initializing = true\n      root._bokeh_onload_callbacks = []\n      const bokeh_loaded = root.Bokeh != null && (root.Bokeh.version === py_version || (root.Bokeh.versions !== undefined && root.Bokeh.versions.has(py_version)));\n      if (!reloading && !bokeh_loaded) {\n        if (root.Bokeh) {\n          root.Bokeh = undefined;\n        }\n        console.debug(\"Bokeh: BokehJS not loaded, scheduling load and callback at\", now());\n      }\n      load_libs(css_urls, js_urls, js_modules, js_exports, function() {\n        console.debug(\"Bokeh: BokehJS plotting callback run at\", now());\n        run_inline_js();\n      });\n    }\n  }\n  // Give older versions of the autoload script a head-start to ensure\n  // they initialize before we start loading newer version.\n  setTimeout(load_or_wait, 100)\n}(window));",
      "application/vnd.holoviews_load.v0+json": ""
     },
     "metadata": {},
     "output_type": "display_data"
    },
    {
     "data": {
      "application/javascript": "\nif ((window.PyViz === undefined) || (window.PyViz instanceof HTMLElement)) {\n  window.PyViz = {comms: {}, comm_status:{}, kernels:{}, receivers: {}, plot_index: []}\n}\n\n\n    function JupyterCommManager() {\n    }\n\n    JupyterCommManager.prototype.register_target = function(plot_id, comm_id, msg_handler) {\n      if (window.comm_manager || ((window.Jupyter !== undefined) && (Jupyter.notebook.kernel != null))) {\n        var comm_manager = window.comm_manager || Jupyter.notebook.kernel.comm_manager;\n        comm_manager.register_target(comm_id, function(comm) {\n          comm.on_msg(msg_handler);\n        });\n      } else if ((plot_id in window.PyViz.kernels) && (window.PyViz.kernels[plot_id])) {\n        window.PyViz.kernels[plot_id].registerCommTarget(comm_id, function(comm) {\n          comm.onMsg = msg_handler;\n        });\n      } else if (typeof google != 'undefined' && google.colab.kernel != null) {\n        google.colab.kernel.comms.registerTarget(comm_id, (comm) => {\n          var messages = comm.messages[Symbol.asyncIterator]();\n          function processIteratorResult(result) {\n            var message = result.value;\n            console.log(message)\n            var content = {data: message.data, comm_id};\n            var buffers = []\n            for (var buffer of message.buffers || []) {\n              buffers.push(new DataView(buffer))\n            }\n            var metadata = message.metadata || {};\n            var msg = {content, buffers, metadata}\n            msg_handler(msg);\n            return messages.next().then(processIteratorResult);\n          }\n          return messages.next().then(processIteratorResult);\n        })\n      }\n    }\n\n    JupyterCommManager.prototype.get_client_comm = function(plot_id, comm_id, msg_handler) {\n      if (comm_id in window.PyViz.comms) {\n        return window.PyViz.comms[comm_id];\n      } else if (window.comm_manager || ((window.Jupyter !== undefined) && (Jupyter.notebook.kernel != null))) {\n        var comm_manager = window.comm_manager || Jupyter.notebook.kernel.comm_manager;\n        var comm = comm_manager.new_comm(comm_id, {}, {}, {}, comm_id);\n        if (msg_handler) {\n          comm.on_msg(msg_handler);\n        }\n      } else if ((plot_id in window.PyViz.kernels) && (window.PyViz.kernels[plot_id])) {\n        var comm = window.PyViz.kernels[plot_id].connectToComm(comm_id);\n        comm.open();\n        if (msg_handler) {\n          comm.onMsg = msg_handler;\n        }\n      } else if (typeof google != 'undefined' && google.colab.kernel != null) {\n        var comm_promise = google.colab.kernel.comms.open(comm_id)\n        comm_promise.then((comm) => {\n          window.PyViz.comms[comm_id] = comm;\n          if (msg_handler) {\n            var messages = comm.messages[Symbol.asyncIterator]();\n            function processIteratorResult(result) {\n              var message = result.value;\n              var content = {data: message.data};\n              var metadata = message.metadata || {comm_id};\n              var msg = {content, metadata}\n              msg_handler(msg);\n              return messages.next().then(processIteratorResult);\n            }\n            return messages.next().then(processIteratorResult);\n          }\n        })\n        var sendClosure = (data, metadata, buffers, disposeOnDone) => {\n          return comm_promise.then((comm) => {\n            comm.send(data, metadata, buffers, disposeOnDone);\n          });\n        };\n        var comm = {\n          send: sendClosure\n        };\n      }\n      window.PyViz.comms[comm_id] = comm;\n      return comm;\n    }\n    window.PyViz.comm_manager = new JupyterCommManager();\n    \n\n\nvar JS_MIME_TYPE = 'application/javascript';\nvar HTML_MIME_TYPE = 'text/html';\nvar EXEC_MIME_TYPE = 'application/vnd.holoviews_exec.v0+json';\nvar CLASS_NAME = 'output';\n\n/**\n * Render data to the DOM node\n */\nfunction render(props, node) {\n  var div = document.createElement(\"div\");\n  var script = document.createElement(\"script\");\n  node.appendChild(div);\n  node.appendChild(script);\n}\n\n/**\n * Handle when a new output is added\n */\nfunction handle_add_output(event, handle) {\n  var output_area = handle.output_area;\n  var output = handle.output;\n  if ((output.data == undefined) || (!output.data.hasOwnProperty(EXEC_MIME_TYPE))) {\n    return\n  }\n  var id = output.metadata[EXEC_MIME_TYPE][\"id\"];\n  var toinsert = output_area.element.find(\".\" + CLASS_NAME.split(' ')[0]);\n  if (id !== undefined) {\n    var nchildren = toinsert.length;\n    var html_node = toinsert[nchildren-1].children[0];\n    html_node.innerHTML = output.data[HTML_MIME_TYPE];\n    var scripts = [];\n    var nodelist = html_node.querySelectorAll(\"script\");\n    for (var i in nodelist) {\n      if (nodelist.hasOwnProperty(i)) {\n        scripts.push(nodelist[i])\n      }\n    }\n\n    scripts.forEach( function (oldScript) {\n      var newScript = document.createElement(\"script\");\n      var attrs = [];\n      var nodemap = oldScript.attributes;\n      for (var j in nodemap) {\n        if (nodemap.hasOwnProperty(j)) {\n          attrs.push(nodemap[j])\n        }\n      }\n      attrs.forEach(function(attr) { newScript.setAttribute(attr.name, attr.value) });\n      newScript.appendChild(document.createTextNode(oldScript.innerHTML));\n      oldScript.parentNode.replaceChild(newScript, oldScript);\n    });\n    if (JS_MIME_TYPE in output.data) {\n      toinsert[nchildren-1].children[1].textContent = output.data[JS_MIME_TYPE];\n    }\n    output_area._hv_plot_id = id;\n    if ((window.Bokeh !== undefined) && (id in Bokeh.index)) {\n      window.PyViz.plot_index[id] = Bokeh.index[id];\n    } else {\n      window.PyViz.plot_index[id] = null;\n    }\n  } else if (output.metadata[EXEC_MIME_TYPE][\"server_id\"] !== undefined) {\n    var bk_div = document.createElement(\"div\");\n    bk_div.innerHTML = output.data[HTML_MIME_TYPE];\n    var script_attrs = bk_div.children[0].attributes;\n    for (var i = 0; i < script_attrs.length; i++) {\n      toinsert[toinsert.length - 1].childNodes[1].setAttribute(script_attrs[i].name, script_attrs[i].value);\n    }\n    // store reference to server id on output_area\n    output_area._bokeh_server_id = output.metadata[EXEC_MIME_TYPE][\"server_id\"];\n  }\n}\n\n/**\n * Handle when an output is cleared or removed\n */\nfunction handle_clear_output(event, handle) {\n  var id = handle.cell.output_area._hv_plot_id;\n  var server_id = handle.cell.output_area._bokeh_server_id;\n  if (((id === undefined) || !(id in PyViz.plot_index)) && (server_id !== undefined)) { return; }\n  var comm = window.PyViz.comm_manager.get_client_comm(\"hv-extension-comm\", \"hv-extension-comm\", function () {});\n  if (server_id !== null) {\n    comm.send({event_type: 'server_delete', 'id': server_id});\n    return;\n  } else if (comm !== null) {\n    comm.send({event_type: 'delete', 'id': id});\n  }\n  delete PyViz.plot_index[id];\n  if ((window.Bokeh !== undefined) & (id in window.Bokeh.index)) {\n    var doc = window.Bokeh.index[id].model.document\n    doc.clear();\n    const i = window.Bokeh.documents.indexOf(doc);\n    if (i > -1) {\n      window.Bokeh.documents.splice(i, 1);\n    }\n  }\n}\n\n/**\n * Handle kernel restart event\n */\nfunction handle_kernel_cleanup(event, handle) {\n  delete PyViz.comms[\"hv-extension-comm\"];\n  window.PyViz.plot_index = {}\n}\n\n/**\n * Handle update_display_data messages\n */\nfunction handle_update_output(event, handle) {\n  handle_clear_output(event, {cell: {output_area: handle.output_area}})\n  handle_add_output(event, handle)\n}\n\nfunction register_renderer(events, OutputArea) {\n  function append_mime(data, metadata, element) {\n    // create a DOM node to render to\n    var toinsert = this.create_output_subarea(\n    metadata,\n    CLASS_NAME,\n    EXEC_MIME_TYPE\n    );\n    this.keyboard_manager.register_events(toinsert);\n    // Render to node\n    var props = {data: data, metadata: metadata[EXEC_MIME_TYPE]};\n    render(props, toinsert[0]);\n    element.append(toinsert);\n    return toinsert\n  }\n\n  events.on('output_added.OutputArea', handle_add_output);\n  events.on('output_updated.OutputArea', handle_update_output);\n  events.on('clear_output.CodeCell', handle_clear_output);\n  events.on('delete.Cell', handle_clear_output);\n  events.on('kernel_ready.Kernel', handle_kernel_cleanup);\n\n  OutputArea.prototype.register_mime_type(EXEC_MIME_TYPE, append_mime, {\n    safe: true,\n    index: 0\n  });\n}\n\nif (window.Jupyter !== undefined) {\n  try {\n    var events = require('base/js/events');\n    var OutputArea = require('notebook/js/outputarea').OutputArea;\n    if (OutputArea.prototype.mime_types().indexOf(EXEC_MIME_TYPE) == -1) {\n      register_renderer(events, OutputArea);\n    }\n  } catch(err) {\n  }\n}\n",
      "application/vnd.holoviews_load.v0+json": ""
     },
     "metadata": {},
     "output_type": "display_data"
    },
    {
     "data": {
      "application/vnd.holoviews_exec.v0+json": "",
      "text/html": [
       "<div id='16f53840-93d4-4234-b17d-dc90f2a332ec'>\n",
       "  <div id=\"e3d8ff70-56c7-4e62-b299-d3aff1a98732\" data-root-id=\"16f53840-93d4-4234-b17d-dc90f2a332ec\" style=\"display: contents;\"></div>\n",
       "</div>\n",
       "<script type=\"application/javascript\">(function(root) {\n",
       "  var docs_json = {\"c550ad3a-76a8-4537-bbe2-73847778c624\":{\"version\":\"3.6.3\",\"title\":\"Bokeh Application\",\"roots\":[{\"type\":\"object\",\"name\":\"panel.models.browser.BrowserInfo\",\"id\":\"16f53840-93d4-4234-b17d-dc90f2a332ec\"},{\"type\":\"object\",\"name\":\"panel.models.comm_manager.CommManager\",\"id\":\"54127e47-92e9-4ba2-9d69-96bdbbbf2285\",\"attributes\":{\"plot_id\":\"16f53840-93d4-4234-b17d-dc90f2a332ec\",\"comm_id\":\"9d110fa5b8d74804952292520041e52d\",\"client_comm_id\":\"b0e08b54e260460c977f9b7afda6b359\"}}],\"defs\":[{\"type\":\"model\",\"name\":\"ReactiveHTML1\"},{\"type\":\"model\",\"name\":\"FlexBox1\",\"properties\":[{\"name\":\"align_content\",\"kind\":\"Any\",\"default\":\"flex-start\"},{\"name\":\"align_items\",\"kind\":\"Any\",\"default\":\"flex-start\"},{\"name\":\"flex_direction\",\"kind\":\"Any\",\"default\":\"row\"},{\"name\":\"flex_wrap\",\"kind\":\"Any\",\"default\":\"wrap\"},{\"name\":\"gap\",\"kind\":\"Any\",\"default\":\"\"},{\"name\":\"justify_content\",\"kind\":\"Any\",\"default\":\"flex-start\"}]},{\"type\":\"model\",\"name\":\"FloatPanel1\",\"properties\":[{\"name\":\"config\",\"kind\":\"Any\",\"default\":{\"type\":\"map\"}},{\"name\":\"contained\",\"kind\":\"Any\",\"default\":true},{\"name\":\"position\",\"kind\":\"Any\",\"default\":\"right-top\"},{\"name\":\"offsetx\",\"kind\":\"Any\",\"default\":null},{\"name\":\"offsety\",\"kind\":\"Any\",\"default\":null},{\"name\":\"theme\",\"kind\":\"Any\",\"default\":\"primary\"},{\"name\":\"status\",\"kind\":\"Any\",\"default\":\"normalized\"}]},{\"type\":\"model\",\"name\":\"GridStack1\",\"properties\":[{\"name\":\"mode\",\"kind\":\"Any\",\"default\":\"warn\"},{\"name\":\"ncols\",\"kind\":\"Any\",\"default\":null},{\"name\":\"nrows\",\"kind\":\"Any\",\"default\":null},{\"name\":\"allow_resize\",\"kind\":\"Any\",\"default\":true},{\"name\":\"allow_drag\",\"kind\":\"Any\",\"default\":true},{\"name\":\"state\",\"kind\":\"Any\",\"default\":[]}]},{\"type\":\"model\",\"name\":\"drag1\",\"properties\":[{\"name\":\"slider_width\",\"kind\":\"Any\",\"default\":5},{\"name\":\"slider_color\",\"kind\":\"Any\",\"default\":\"black\"},{\"name\":\"value\",\"kind\":\"Any\",\"default\":50}]},{\"type\":\"model\",\"name\":\"click1\",\"properties\":[{\"name\":\"terminal_output\",\"kind\":\"Any\",\"default\":\"\"},{\"name\":\"debug_name\",\"kind\":\"Any\",\"default\":\"\"},{\"name\":\"clears\",\"kind\":\"Any\",\"default\":0}]},{\"type\":\"model\",\"name\":\"FastWrapper1\",\"properties\":[{\"name\":\"object\",\"kind\":\"Any\",\"default\":null},{\"name\":\"style\",\"kind\":\"Any\",\"default\":null}]},{\"type\":\"model\",\"name\":\"NotificationAreaBase1\",\"properties\":[{\"name\":\"js_events\",\"kind\":\"Any\",\"default\":{\"type\":\"map\"}},{\"name\":\"position\",\"kind\":\"Any\",\"default\":\"bottom-right\"},{\"name\":\"_clear\",\"kind\":\"Any\",\"default\":0}]},{\"type\":\"model\",\"name\":\"NotificationArea1\",\"properties\":[{\"name\":\"js_events\",\"kind\":\"Any\",\"default\":{\"type\":\"map\"}},{\"name\":\"notifications\",\"kind\":\"Any\",\"default\":[]},{\"name\":\"position\",\"kind\":\"Any\",\"default\":\"bottom-right\"},{\"name\":\"_clear\",\"kind\":\"Any\",\"default\":0},{\"name\":\"types\",\"kind\":\"Any\",\"default\":[{\"type\":\"map\",\"entries\":[[\"type\",\"warning\"],[\"background\",\"#ffc107\"],[\"icon\",{\"type\":\"map\",\"entries\":[[\"className\",\"fas fa-exclamation-triangle\"],[\"tagName\",\"i\"],[\"color\",\"white\"]]}]]},{\"type\":\"map\",\"entries\":[[\"type\",\"info\"],[\"background\",\"#007bff\"],[\"icon\",{\"type\":\"map\",\"entries\":[[\"className\",\"fas fa-info-circle\"],[\"tagName\",\"i\"],[\"color\",\"white\"]]}]]}]}]},{\"type\":\"model\",\"name\":\"Notification\",\"properties\":[{\"name\":\"background\",\"kind\":\"Any\",\"default\":null},{\"name\":\"duration\",\"kind\":\"Any\",\"default\":3000},{\"name\":\"icon\",\"kind\":\"Any\",\"default\":null},{\"name\":\"message\",\"kind\":\"Any\",\"default\":\"\"},{\"name\":\"notification_type\",\"kind\":\"Any\",\"default\":null},{\"name\":\"_rendered\",\"kind\":\"Any\",\"default\":false},{\"name\":\"_destroyed\",\"kind\":\"Any\",\"default\":false}]},{\"type\":\"model\",\"name\":\"TemplateActions1\",\"properties\":[{\"name\":\"open_modal\",\"kind\":\"Any\",\"default\":0},{\"name\":\"close_modal\",\"kind\":\"Any\",\"default\":0}]},{\"type\":\"model\",\"name\":\"BootstrapTemplateActions1\",\"properties\":[{\"name\":\"open_modal\",\"kind\":\"Any\",\"default\":0},{\"name\":\"close_modal\",\"kind\":\"Any\",\"default\":0}]},{\"type\":\"model\",\"name\":\"TemplateEditor1\",\"properties\":[{\"name\":\"layout\",\"kind\":\"Any\",\"default\":[]}]},{\"type\":\"model\",\"name\":\"MaterialTemplateActions1\",\"properties\":[{\"name\":\"open_modal\",\"kind\":\"Any\",\"default\":0},{\"name\":\"close_modal\",\"kind\":\"Any\",\"default\":0}]},{\"type\":\"model\",\"name\":\"ReactiveESM1\",\"properties\":[{\"name\":\"esm_constants\",\"kind\":\"Any\",\"default\":{\"type\":\"map\"}}]},{\"type\":\"model\",\"name\":\"JSComponent1\",\"properties\":[{\"name\":\"esm_constants\",\"kind\":\"Any\",\"default\":{\"type\":\"map\"}}]},{\"type\":\"model\",\"name\":\"ReactComponent1\",\"properties\":[{\"name\":\"esm_constants\",\"kind\":\"Any\",\"default\":{\"type\":\"map\"}}]},{\"type\":\"model\",\"name\":\"AnyWidgetComponent1\",\"properties\":[{\"name\":\"esm_constants\",\"kind\":\"Any\",\"default\":{\"type\":\"map\"}}]},{\"type\":\"model\",\"name\":\"request_value1\",\"properties\":[{\"name\":\"fill\",\"kind\":\"Any\",\"default\":\"none\"},{\"name\":\"_synced\",\"kind\":\"Any\",\"default\":null},{\"name\":\"_request_sync\",\"kind\":\"Any\",\"default\":0}]}]}};\n",
       "  var render_items = [{\"docid\":\"c550ad3a-76a8-4537-bbe2-73847778c624\",\"roots\":{\"16f53840-93d4-4234-b17d-dc90f2a332ec\":\"e3d8ff70-56c7-4e62-b299-d3aff1a98732\"},\"root_ids\":[\"16f53840-93d4-4234-b17d-dc90f2a332ec\"]}];\n",
       "  var docs = Object.values(docs_json)\n",
       "  if (!docs) {\n",
       "    return\n",
       "  }\n",
       "  const py_version = docs[0].version.replace('rc', '-rc.').replace('.dev', '-dev.')\n",
       "  async function embed_document(root) {\n",
       "    var Bokeh = get_bokeh(root)\n",
       "    await Bokeh.embed.embed_items_notebook(docs_json, render_items);\n",
       "    for (const render_item of render_items) {\n",
       "      for (const root_id of render_item.root_ids) {\n",
       "\tconst id_el = document.getElementById(root_id)\n",
       "\tif (id_el.children.length && id_el.children[0].hasAttribute('data-root-id')) {\n",
       "\t  const root_el = id_el.children[0]\n",
       "\t  root_el.id = root_el.id + '-rendered'\n",
       "\t  for (const child of root_el.children) {\n",
       "            // Ensure JupyterLab does not capture keyboard shortcuts\n",
       "            // see: https://jupyterlab.readthedocs.io/en/4.1.x/extension/notebook.html#keyboard-interaction-model\n",
       "\t    child.setAttribute('data-lm-suppress-shortcuts', 'true')\n",
       "\t  }\n",
       "\t}\n",
       "      }\n",
       "    }\n",
       "  }\n",
       "  function get_bokeh(root) {\n",
       "    if (root.Bokeh === undefined) {\n",
       "      return null\n",
       "    } else if (root.Bokeh.version !== py_version) {\n",
       "      if (root.Bokeh.versions === undefined || !root.Bokeh.versions.has(py_version)) {\n",
       "\treturn null\n",
       "      }\n",
       "      return root.Bokeh.versions.get(py_version);\n",
       "    } else if (root.Bokeh.version === py_version) {\n",
       "      return root.Bokeh\n",
       "    }\n",
       "    return null\n",
       "  }\n",
       "  function is_loaded(root) {\n",
       "    var Bokeh = get_bokeh(root)\n",
       "    return (Bokeh != null && Bokeh.Panel !== undefined && ( root.vtk !== undefined) && ( root.vtk !== undefined))\n",
       "  }\n",
       "  if (is_loaded(root)) {\n",
       "    embed_document(root);\n",
       "  } else {\n",
       "    var attempts = 0;\n",
       "    var timer = setInterval(function(root) {\n",
       "      if (is_loaded(root)) {\n",
       "        clearInterval(timer);\n",
       "        embed_document(root);\n",
       "      } else if (document.readyState == \"complete\") {\n",
       "        attempts++;\n",
       "        if (attempts > 200) {\n",
       "          clearInterval(timer);\n",
       "\t  var Bokeh = get_bokeh(root)\n",
       "\t  if (Bokeh == null || Bokeh.Panel == null) {\n",
       "            console.warn(\"Panel: ERROR: Unable to run Panel code because Bokeh or Panel library is missing\");\n",
       "\t  } else {\n",
       "\t    console.warn(\"Panel: WARNING: Attempting to render but not all required libraries could be resolved.\")\n",
       "\t    embed_document(root)\n",
       "\t  }\n",
       "        }\n",
       "      }\n",
       "    }, 25, root)\n",
       "  }\n",
       "})(window);</script>"
      ]
     },
     "metadata": {
      "application/vnd.holoviews_exec.v0+json": {
       "id": "16f53840-93d4-4234-b17d-dc90f2a332ec"
      }
     },
     "output_type": "display_data"
    }
   ],
   "source": [
    "# | code-fold: true\n",
    "# | code-summary: \"Load packages\"\n",
    "# | output: false\n",
    "\n",
    "import os\n",
    "import numpy as np\n",
    "import jax\n",
    "from jax import numpy as jnp\n",
    "import pytest\n",
    "from types import SimpleNamespace\n",
    "from sympy import cos, pi, Piecewise\n",
    "\n",
    "from library.fvm.solver import HyperbolicSolver, Settings\n",
    "from library.fvm.ode import RK1\n",
    "import library.fvm.reconstruction as recon\n",
    "import library.fvm.timestepping as timestepping\n",
    "import library.fvm.flux as flux\n",
    "import library.fvm.nonconservative_flux as nc_flux\n",
    "from library.model.boundary_conditions import BoundaryCondition\n",
    "from library.model.models.basisfunctions import Basisfunction, Legendre_shifted\n",
    "from library.model.models.basismatrices import Basismatrices\n",
    "from library.misc.misc import Zstruct\n",
    "\n",
    "from library.model.models.shallow_moments import ShallowMoments2d\n",
    "import library.model.initial_conditions as IC\n",
    "import library.model.boundary_conditions as BC\n",
    "import library.misc.io as io\n",
    "from library.mesh.mesh import compute_derivatives\n",
    "from tests.pdesoft import plots_paper\n",
    "import library.postprocessing.visualization as visu\n",
    "\n",
    "\n",
    "import library.mesh.mesh as petscMesh\n",
    "import library.postprocessing.postprocessing as postprocessing\n",
    "from library.mesh.mesh import convert_mesh_to_jax\n",
    "import argparse"
   ]
  },
  {
   "cell_type": "markdown",
   "id": "96d5e564",
   "metadata": {},
   "source": [
    "## Model"
   ]
  },
  {
   "cell_type": "code",
   "execution_count": 3,
   "id": "ad87e829-022c-4468-a8b1-55f0965a2e07",
   "metadata": {
    "tags": []
   },
   "outputs": [
    {
     "name": "stderr",
     "output_type": "stream",
     "text": [
      "\u001b[32m2025-08-08 06:21:39.648\u001b[0m | \u001b[33m\u001b[1mWARNING \u001b[0m | \u001b[36mlibrary.misc.misc\u001b[0m:\u001b[36m__init__\u001b[0m:\u001b[36m136\u001b[0m - \u001b[33m\u001b[1mNo 'solver' Zstruct found in Settings. Default: empty Zstruct\u001b[0m\n",
      "\u001b[32m2025-08-08 06:21:39.649\u001b[0m | \u001b[33m\u001b[1mWARNING \u001b[0m | \u001b[36mlibrary.misc.misc\u001b[0m:\u001b[36m__init__\u001b[0m:\u001b[36m139\u001b[0m - \u001b[33m\u001b[1mNo 'model' Zstruct found in Settings. Default: empty Zstruct\u001b[0m\n",
      "\u001b[32m2025-08-08 06:21:39.649\u001b[0m | \u001b[33m\u001b[1mWARNING \u001b[0m | \u001b[36mlibrary.misc.misc\u001b[0m:\u001b[36m__init__\u001b[0m:\u001b[36m153\u001b[0m - \u001b[33m\u001b[1mNo 'clean_directory' attribute found in output Zstruct. Default: False\u001b[0m\n",
      "\u001b[32m2025-08-08 06:21:39.649\u001b[0m | \u001b[33m\u001b[1mWARNING \u001b[0m | \u001b[36mlibrary.misc.misc\u001b[0m:\u001b[36m__init__\u001b[0m:\u001b[36m156\u001b[0m - \u001b[33m\u001b[1mNo 'parameters' attribute found in model Zstruct. Default: empty Zstruct\u001b[0m\n"
     ]
    }
   ],
   "source": [
    "level = 0\n",
    "offset = 1+level\n",
    "n_fields = 3 + 2 * level\n",
    "settings = Settings(\n",
    "    name=\"SME\",\n",
    "    output=Zstruct(\n",
    "        directory=f\"outputs/junction_{level}\", filename=\"SME\", output_snapshots=30\n",
    "    ),\n",
    ")"
   ]
  },
  {
   "cell_type": "code",
   "execution_count": 6,
   "id": "fd25e4e2-4653-441c-a82b-4d4c2e4c013b",
   "metadata": {
    "tags": []
   },
   "outputs": [
    {
     "name": "stdout",
     "output_type": "stream",
     "text": [
      "\n"
     ]
    }
   ],
   "source": [
    "inflow_dict = { \n",
    "    0: lambda t, x, dx, q, qaux, p, n: Piecewise((0.1, t < 0.2),(q[0], True)),\n",
    "    1: lambda t, x, dx, q, qaux, p, n: Piecewise((-0.3, t < 0.2),(-q[1], True)),\n",
    "                }\n",
    "inflow_dict.update({\n",
    "    1+i: lambda t, x, dx, q, qaux, p, n: 0 for i in range(level)\n",
    "})\n",
    "inflow_dict.update({\n",
    "    1+offset+i: lambda t, x, dx, q, qaux, p, n: 0 for i in range(level+1)\n",
    "})\n",
    "\n",
    "bcs = BC.BoundaryConditions(\n",
    "    [\n",
    "        BC.Lambda(physical_tag=\"inflow\", prescribe_fields=inflow_dict),\n",
    "        BC.Wall(physical_tag=\"wall\"),\n",
    "    ]\n",
    ")\n",
    "\n",
    "def custom_ic(x):\n",
    "    Q = np.zeros(3 + 2 * level, dtype=float)\n",
    "    Q[0] = 0.01\n",
    "    return Q\n",
    "\n",
    "ic = IC.UserFunction(custom_ic)\n",
    "\n",
    "model = ShallowMoments2d(\n",
    "    level=level,\n",
    "    boundary_conditions=bcs,\n",
    "    initial_conditions=ic,\n",
    ")\n",
    "\n",
    "main_dir = os.getenv(\"SMS\")\n",
    "mesh = petscMesh.Mesh.from_gmsh(\n",
    "    os.path.join(main_dir, \"meshes/channel_junction/mesh_2d_coarse.msh\")\n",
    "    # os.path.join(main_dir, \"meshes/channel_junction/mesh_2d_fine.msh\")\n",
    ")\n",
    "\n",
    "mesh = convert_mesh_to_jax(mesh)\n",
    "class SMESolver(HyperbolicSolver):\n",
    "    def update_qaux(self, Q, Qaux, Qold, Qauxold, mesh, model, parameters, time, dt):\n",
    "        dudx = compute_derivatives(Q[1]/Q[0], mesh, derivatives_multi_index=[[0, 0]])[:,0]\n",
    "        dvdy = compute_derivatives(Q[1+offset]/Q[0], mesh, derivatives_multi_index=[[0, 1]])[:,0]\n",
    "        Qaux = Qaux.at[0].set(dudx)\n",
    "        Qaux = Qaux.at[1].set(dvdy)\n",
    "        return Qaux\n",
    "solver = SMESolver(settings=settings)"
   ]
  },
  {
   "cell_type": "markdown",
   "id": "4bb1cf64",
   "metadata": {},
   "source": [
    "## Solve"
   ]
  },
  {
   "cell_type": "code",
   "execution_count": 7,
   "id": "34211aa2-8f9a-4e1d-bb55-1af32668f51e",
   "metadata": {},
   "outputs": [
    {
     "name": "stderr",
     "output_type": "stream",
     "text": [
      "\u001b[32m2025-08-08 06:22:47.778\u001b[0m | \u001b[1mINFO    \u001b[0m | \u001b[36mlibrary.fvm.solver\u001b[0m:\u001b[36mlog_callback_hyperbolic\u001b[0m:\u001b[36m43\u001b[0m - \u001b[1miteration: 1, time: 0.006773, dt: 0.006773, next write at time: 0.011111\u001b[0m\n",
      "\u001b[32m2025-08-08 06:22:47.797\u001b[0m | \u001b[1mINFO    \u001b[0m | \u001b[36mlibrary.fvm.solver\u001b[0m:\u001b[36mlog_callback_hyperbolic\u001b[0m:\u001b[36m43\u001b[0m - \u001b[1miteration: 2, time: 0.007304, dt: 0.000532, next write at time: 0.011111\u001b[0m\n",
      "\u001b[32m2025-08-08 06:22:47.817\u001b[0m | \u001b[1mINFO    \u001b[0m | \u001b[36mlibrary.fvm.solver\u001b[0m:\u001b[36mlog_callback_hyperbolic\u001b[0m:\u001b[36m43\u001b[0m - \u001b[1miteration: 3, time: 0.007836, dt: 0.000532, next write at time: 0.011111\u001b[0m\n",
      "\u001b[32m2025-08-08 06:22:47.841\u001b[0m | \u001b[1mINFO    \u001b[0m | \u001b[36mlibrary.fvm.solver\u001b[0m:\u001b[36mlog_callback_hyperbolic\u001b[0m:\u001b[36m43\u001b[0m - \u001b[1miteration: 4, time: 0.008368, dt: 0.000532, next write at time: 0.011111\u001b[0m\n",
      "\u001b[32m2025-08-08 06:22:47.858\u001b[0m | \u001b[1mINFO    \u001b[0m | \u001b[36mlibrary.fvm.solver\u001b[0m:\u001b[36mlog_callback_hyperbolic\u001b[0m:\u001b[36m43\u001b[0m - \u001b[1miteration: 5, time: 0.008899, dt: 0.000532, next write at time: 0.011111\u001b[0m\n",
      "\u001b[32m2025-08-08 06:22:47.879\u001b[0m | \u001b[1mINFO    \u001b[0m | \u001b[36mlibrary.fvm.solver\u001b[0m:\u001b[36mlog_callback_hyperbolic\u001b[0m:\u001b[36m43\u001b[0m - \u001b[1miteration: 6, time: 0.009431, dt: 0.000532, next write at time: 0.011111\u001b[0m\n",
      "\u001b[32m2025-08-08 06:22:47.897\u001b[0m | \u001b[1mINFO    \u001b[0m | \u001b[36mlibrary.fvm.solver\u001b[0m:\u001b[36mlog_callback_hyperbolic\u001b[0m:\u001b[36m43\u001b[0m - \u001b[1miteration: 7, time: 0.009962, dt: 0.000531, next write at time: 0.011111\u001b[0m\n",
      "\u001b[32m2025-08-08 06:22:47.918\u001b[0m | \u001b[1mINFO    \u001b[0m | \u001b[36mlibrary.fvm.solver\u001b[0m:\u001b[36mlog_callback_hyperbolic\u001b[0m:\u001b[36m43\u001b[0m - \u001b[1miteration: 8, time: 0.010494, dt: 0.000531, next write at time: 0.011111\u001b[0m\n",
      "\u001b[32m2025-08-08 06:22:47.942\u001b[0m | \u001b[1mINFO    \u001b[0m | \u001b[36mlibrary.fvm.solver\u001b[0m:\u001b[36mlog_callback_hyperbolic\u001b[0m:\u001b[36m43\u001b[0m - \u001b[1miteration: 9, time: 0.011025, dt: 0.000531, next write at time: 0.011111\u001b[0m\n",
      "\u001b[32m2025-08-08 06:22:47.969\u001b[0m | \u001b[1mINFO    \u001b[0m | \u001b[36mlibrary.fvm.solver\u001b[0m:\u001b[36mlog_callback_hyperbolic\u001b[0m:\u001b[36m43\u001b[0m - \u001b[1miteration: 10, time: 0.011557, dt: 0.000531, next write at time: 0.011111\u001b[0m\n",
      "\u001b[32m2025-08-08 06:22:48.000\u001b[0m | \u001b[1mINFO    \u001b[0m | \u001b[36mlibrary.fvm.solver\u001b[0m:\u001b[36mlog_callback_hyperbolic\u001b[0m:\u001b[36m43\u001b[0m - \u001b[1miteration: 11, time: 0.012088, dt: 0.000531, next write at time: 0.022222\u001b[0m\n",
      "\u001b[32m2025-08-08 06:22:48.042\u001b[0m | \u001b[1mINFO    \u001b[0m | \u001b[36mlibrary.fvm.solver\u001b[0m:\u001b[36mlog_callback_hyperbolic\u001b[0m:\u001b[36m43\u001b[0m - \u001b[1miteration: 12, time: 0.012620, dt: 0.000532, next write at time: 0.022222\u001b[0m\n",
      "\u001b[32m2025-08-08 06:22:48.067\u001b[0m | \u001b[1mINFO    \u001b[0m | \u001b[36mlibrary.fvm.solver\u001b[0m:\u001b[36mlog_callback_hyperbolic\u001b[0m:\u001b[36m43\u001b[0m - \u001b[1miteration: 13, time: 0.013151, dt: 0.000531, next write at time: 0.022222\u001b[0m\n",
      "\u001b[32m2025-08-08 06:22:48.091\u001b[0m | \u001b[1mINFO    \u001b[0m | \u001b[36mlibrary.fvm.solver\u001b[0m:\u001b[36mlog_callback_hyperbolic\u001b[0m:\u001b[36m43\u001b[0m - \u001b[1miteration: 14, time: 0.013683, dt: 0.000532, next write at time: 0.022222\u001b[0m\n",
      "\u001b[32m2025-08-08 06:22:48.114\u001b[0m | \u001b[1mINFO    \u001b[0m | \u001b[36mlibrary.fvm.solver\u001b[0m:\u001b[36mlog_callback_hyperbolic\u001b[0m:\u001b[36m43\u001b[0m - \u001b[1miteration: 15, time: 0.014214, dt: 0.000532, next write at time: 0.022222\u001b[0m\n",
      "\u001b[32m2025-08-08 06:22:48.134\u001b[0m | \u001b[1mINFO    \u001b[0m | \u001b[36mlibrary.fvm.solver\u001b[0m:\u001b[36mlog_callback_hyperbolic\u001b[0m:\u001b[36m43\u001b[0m - \u001b[1miteration: 16, time: 0.014746, dt: 0.000532, next write at time: 0.022222\u001b[0m\n",
      "\u001b[32m2025-08-08 06:22:48.152\u001b[0m | \u001b[1mINFO    \u001b[0m | \u001b[36mlibrary.fvm.solver\u001b[0m:\u001b[36mlog_callback_hyperbolic\u001b[0m:\u001b[36m43\u001b[0m - \u001b[1miteration: 17, time: 0.015277, dt: 0.000532, next write at time: 0.022222\u001b[0m\n",
      "\u001b[32m2025-08-08 06:22:48.175\u001b[0m | \u001b[1mINFO    \u001b[0m | \u001b[36mlibrary.fvm.solver\u001b[0m:\u001b[36mlog_callback_hyperbolic\u001b[0m:\u001b[36m43\u001b[0m - \u001b[1miteration: 18, time: 0.015809, dt: 0.000532, next write at time: 0.022222\u001b[0m\n",
      "\u001b[32m2025-08-08 06:22:48.198\u001b[0m | \u001b[1mINFO    \u001b[0m | \u001b[36mlibrary.fvm.solver\u001b[0m:\u001b[36mlog_callback_hyperbolic\u001b[0m:\u001b[36m43\u001b[0m - \u001b[1miteration: 19, time: 0.016340, dt: 0.000532, next write at time: 0.022222\u001b[0m\n",
      "\u001b[32m2025-08-08 06:22:48.224\u001b[0m | \u001b[1mINFO    \u001b[0m | \u001b[36mlibrary.fvm.solver\u001b[0m:\u001b[36mlog_callback_hyperbolic\u001b[0m:\u001b[36m43\u001b[0m - \u001b[1miteration: 20, time: 0.016872, dt: 0.000532, next write at time: 0.022222\u001b[0m\n",
      "\u001b[32m2025-08-08 06:22:48.246\u001b[0m | \u001b[1mINFO    \u001b[0m | \u001b[36mlibrary.fvm.solver\u001b[0m:\u001b[36mlog_callback_hyperbolic\u001b[0m:\u001b[36m43\u001b[0m - \u001b[1miteration: 21, time: 0.017404, dt: 0.000532, next write at time: 0.022222\u001b[0m\n",
      "\u001b[32m2025-08-08 06:22:48.272\u001b[0m | \u001b[1mINFO    \u001b[0m | \u001b[36mlibrary.fvm.solver\u001b[0m:\u001b[36mlog_callback_hyperbolic\u001b[0m:\u001b[36m43\u001b[0m - \u001b[1miteration: 22, time: 0.017935, dt: 0.000532, next write at time: 0.022222\u001b[0m\n",
      "\u001b[32m2025-08-08 06:22:48.294\u001b[0m | \u001b[1mINFO    \u001b[0m | \u001b[36mlibrary.fvm.solver\u001b[0m:\u001b[36mlog_callback_hyperbolic\u001b[0m:\u001b[36m43\u001b[0m - \u001b[1miteration: 23, time: 0.018467, dt: 0.000532, next write at time: 0.022222\u001b[0m\n",
      "\u001b[32m2025-08-08 06:22:48.308\u001b[0m | \u001b[1mINFO    \u001b[0m | \u001b[36mlibrary.fvm.solver\u001b[0m:\u001b[36mlog_callback_hyperbolic\u001b[0m:\u001b[36m43\u001b[0m - \u001b[1miteration: 24, time: 0.018998, dt: 0.000532, next write at time: 0.022222\u001b[0m\n",
      "\u001b[32m2025-08-08 06:22:48.328\u001b[0m | \u001b[1mINFO    \u001b[0m | \u001b[36mlibrary.fvm.solver\u001b[0m:\u001b[36mlog_callback_hyperbolic\u001b[0m:\u001b[36m43\u001b[0m - \u001b[1miteration: 25, time: 0.019530, dt: 0.000532, next write at time: 0.022222\u001b[0m\n",
      "\u001b[32m2025-08-08 06:22:48.343\u001b[0m | \u001b[1mINFO    \u001b[0m | \u001b[36mlibrary.fvm.solver\u001b[0m:\u001b[36mlog_callback_hyperbolic\u001b[0m:\u001b[36m43\u001b[0m - \u001b[1miteration: 26, time: 0.020061, dt: 0.000532, next write at time: 0.022222\u001b[0m\n",
      "\u001b[32m2025-08-08 06:22:48.369\u001b[0m | \u001b[1mINFO    \u001b[0m | \u001b[36mlibrary.fvm.solver\u001b[0m:\u001b[36mlog_callback_hyperbolic\u001b[0m:\u001b[36m43\u001b[0m - \u001b[1miteration: 27, time: 0.020593, dt: 0.000532, next write at time: 0.022222\u001b[0m\n",
      "\u001b[32m2025-08-08 06:22:48.393\u001b[0m | \u001b[1mINFO    \u001b[0m | \u001b[36mlibrary.fvm.solver\u001b[0m:\u001b[36mlog_callback_hyperbolic\u001b[0m:\u001b[36m43\u001b[0m - \u001b[1miteration: 28, time: 0.021125, dt: 0.000532, next write at time: 0.022222\u001b[0m\n",
      "\u001b[32m2025-08-08 06:22:48.411\u001b[0m | \u001b[1mINFO    \u001b[0m | \u001b[36mlibrary.fvm.solver\u001b[0m:\u001b[36mlog_callback_hyperbolic\u001b[0m:\u001b[36m43\u001b[0m - \u001b[1miteration: 29, time: 0.021656, dt: 0.000532, next write at time: 0.022222\u001b[0m\n",
      "\u001b[32m2025-08-08 06:22:48.425\u001b[0m | \u001b[1mINFO    \u001b[0m | \u001b[36mlibrary.fvm.solver\u001b[0m:\u001b[36mlog_callback_hyperbolic\u001b[0m:\u001b[36m43\u001b[0m - \u001b[1miteration: 30, time: 0.022188, dt: 0.000532, next write at time: 0.022222\u001b[0m\n",
      "\u001b[32m2025-08-08 06:22:48.442\u001b[0m | \u001b[1mINFO    \u001b[0m | \u001b[36mlibrary.fvm.solver\u001b[0m:\u001b[36mlog_callback_hyperbolic\u001b[0m:\u001b[36m43\u001b[0m - \u001b[1miteration: 31, time: 0.022719, dt: 0.000532, next write at time: 0.022222\u001b[0m\n",
      "\u001b[32m2025-08-08 06:22:48.468\u001b[0m | \u001b[1mINFO    \u001b[0m | \u001b[36mlibrary.fvm.solver\u001b[0m:\u001b[36mlog_callback_hyperbolic\u001b[0m:\u001b[36m43\u001b[0m - \u001b[1miteration: 32, time: 0.023251, dt: 0.000532, next write at time: 0.033333\u001b[0m\n",
      "\u001b[32m2025-08-08 06:22:48.492\u001b[0m | \u001b[1mINFO    \u001b[0m | \u001b[36mlibrary.fvm.solver\u001b[0m:\u001b[36mlog_callback_hyperbolic\u001b[0m:\u001b[36m43\u001b[0m - \u001b[1miteration: 33, time: 0.023783, dt: 0.000532, next write at time: 0.033333\u001b[0m\n",
      "\u001b[32m2025-08-08 06:22:48.520\u001b[0m | \u001b[1mINFO    \u001b[0m | \u001b[36mlibrary.fvm.solver\u001b[0m:\u001b[36mlog_callback_hyperbolic\u001b[0m:\u001b[36m43\u001b[0m - \u001b[1miteration: 34, time: 0.024314, dt: 0.000532, next write at time: 0.033333\u001b[0m\n",
      "\u001b[32m2025-08-08 06:22:48.537\u001b[0m | \u001b[1mINFO    \u001b[0m | \u001b[36mlibrary.fvm.solver\u001b[0m:\u001b[36mlog_callback_hyperbolic\u001b[0m:\u001b[36m43\u001b[0m - \u001b[1miteration: 35, time: 0.024846, dt: 0.000532, next write at time: 0.033333\u001b[0m\n",
      "\u001b[32m2025-08-08 06:22:48.559\u001b[0m | \u001b[1mINFO    \u001b[0m | \u001b[36mlibrary.fvm.solver\u001b[0m:\u001b[36mlog_callback_hyperbolic\u001b[0m:\u001b[36m43\u001b[0m - \u001b[1miteration: 36, time: 0.025377, dt: 0.000532, next write at time: 0.033333\u001b[0m\n",
      "\u001b[32m2025-08-08 06:22:48.575\u001b[0m | \u001b[1mINFO    \u001b[0m | \u001b[36mlibrary.fvm.solver\u001b[0m:\u001b[36mlog_callback_hyperbolic\u001b[0m:\u001b[36m43\u001b[0m - \u001b[1miteration: 37, time: 0.025909, dt: 0.000532, next write at time: 0.033333\u001b[0m\n",
      "\u001b[32m2025-08-08 06:22:48.596\u001b[0m | \u001b[1mINFO    \u001b[0m | \u001b[36mlibrary.fvm.solver\u001b[0m:\u001b[36mlog_callback_hyperbolic\u001b[0m:\u001b[36m43\u001b[0m - \u001b[1miteration: 38, time: 0.026441, dt: 0.000532, next write at time: 0.033333\u001b[0m\n",
      "\u001b[32m2025-08-08 06:22:48.613\u001b[0m | \u001b[1mINFO    \u001b[0m | \u001b[36mlibrary.fvm.solver\u001b[0m:\u001b[36mlog_callback_hyperbolic\u001b[0m:\u001b[36m43\u001b[0m - \u001b[1miteration: 39, time: 0.026972, dt: 0.000532, next write at time: 0.033333\u001b[0m\n",
      "\u001b[32m2025-08-08 06:22:48.631\u001b[0m | \u001b[1mINFO    \u001b[0m | \u001b[36mlibrary.fvm.solver\u001b[0m:\u001b[36mlog_callback_hyperbolic\u001b[0m:\u001b[36m43\u001b[0m - \u001b[1miteration: 40, time: 0.027504, dt: 0.000532, next write at time: 0.033333\u001b[0m\n",
      "\u001b[32m2025-08-08 06:22:48.650\u001b[0m | \u001b[1mINFO    \u001b[0m | \u001b[36mlibrary.fvm.solver\u001b[0m:\u001b[36mlog_callback_hyperbolic\u001b[0m:\u001b[36m43\u001b[0m - \u001b[1miteration: 41, time: 0.028035, dt: 0.000532, next write at time: 0.033333\u001b[0m\n",
      "\u001b[32m2025-08-08 06:22:48.668\u001b[0m | \u001b[1mINFO    \u001b[0m | \u001b[36mlibrary.fvm.solver\u001b[0m:\u001b[36mlog_callback_hyperbolic\u001b[0m:\u001b[36m43\u001b[0m - \u001b[1miteration: 42, time: 0.028567, dt: 0.000532, next write at time: 0.033333\u001b[0m\n",
      "\u001b[32m2025-08-08 06:22:48.688\u001b[0m | \u001b[1mINFO    \u001b[0m | \u001b[36mlibrary.fvm.solver\u001b[0m:\u001b[36mlog_callback_hyperbolic\u001b[0m:\u001b[36m43\u001b[0m - \u001b[1miteration: 43, time: 0.029099, dt: 0.000532, next write at time: 0.033333\u001b[0m\n",
      "\u001b[32m2025-08-08 06:22:48.717\u001b[0m | \u001b[1mINFO    \u001b[0m | \u001b[36mlibrary.fvm.solver\u001b[0m:\u001b[36mlog_callback_hyperbolic\u001b[0m:\u001b[36m43\u001b[0m - \u001b[1miteration: 44, time: 0.029630, dt: 0.000532, next write at time: 0.033333\u001b[0m\n",
      "\u001b[32m2025-08-08 06:22:48.738\u001b[0m | \u001b[1mINFO    \u001b[0m | \u001b[36mlibrary.fvm.solver\u001b[0m:\u001b[36mlog_callback_hyperbolic\u001b[0m:\u001b[36m43\u001b[0m - \u001b[1miteration: 45, time: 0.030162, dt: 0.000532, next write at time: 0.033333\u001b[0m\n",
      "\u001b[32m2025-08-08 06:22:48.761\u001b[0m | \u001b[1mINFO    \u001b[0m | \u001b[36mlibrary.fvm.solver\u001b[0m:\u001b[36mlog_callback_hyperbolic\u001b[0m:\u001b[36m43\u001b[0m - \u001b[1miteration: 46, time: 0.030693, dt: 0.000532, next write at time: 0.033333\u001b[0m\n",
      "\u001b[32m2025-08-08 06:22:48.775\u001b[0m | \u001b[1mINFO    \u001b[0m | \u001b[36mlibrary.fvm.solver\u001b[0m:\u001b[36mlog_callback_hyperbolic\u001b[0m:\u001b[36m43\u001b[0m - \u001b[1miteration: 47, time: 0.031225, dt: 0.000532, next write at time: 0.033333\u001b[0m\n",
      "\u001b[32m2025-08-08 06:22:48.791\u001b[0m | \u001b[1mINFO    \u001b[0m | \u001b[36mlibrary.fvm.solver\u001b[0m:\u001b[36mlog_callback_hyperbolic\u001b[0m:\u001b[36m43\u001b[0m - \u001b[1miteration: 48, time: 0.031757, dt: 0.000532, next write at time: 0.033333\u001b[0m\n",
      "\u001b[32m2025-08-08 06:22:48.812\u001b[0m | \u001b[1mINFO    \u001b[0m | \u001b[36mlibrary.fvm.solver\u001b[0m:\u001b[36mlog_callback_hyperbolic\u001b[0m:\u001b[36m43\u001b[0m - \u001b[1miteration: 49, time: 0.032288, dt: 0.000532, next write at time: 0.033333\u001b[0m\n",
      "\u001b[32m2025-08-08 06:22:48.828\u001b[0m | \u001b[1mINFO    \u001b[0m | \u001b[36mlibrary.fvm.solver\u001b[0m:\u001b[36mlog_callback_hyperbolic\u001b[0m:\u001b[36m43\u001b[0m - \u001b[1miteration: 50, time: 0.032820, dt: 0.000532, next write at time: 0.033333\u001b[0m\n",
      "\u001b[32m2025-08-08 06:22:48.852\u001b[0m | \u001b[1mINFO    \u001b[0m | \u001b[36mlibrary.fvm.solver\u001b[0m:\u001b[36mlog_callback_hyperbolic\u001b[0m:\u001b[36m43\u001b[0m - \u001b[1miteration: 51, time: 0.033351, dt: 0.000532, next write at time: 0.033333\u001b[0m\n",
      "\u001b[32m2025-08-08 06:22:48.874\u001b[0m | \u001b[1mINFO    \u001b[0m | \u001b[36mlibrary.fvm.solver\u001b[0m:\u001b[36mlog_callback_hyperbolic\u001b[0m:\u001b[36m43\u001b[0m - \u001b[1miteration: 52, time: 0.033883, dt: 0.000532, next write at time: 0.044444\u001b[0m\n",
      "\u001b[32m2025-08-08 06:22:48.893\u001b[0m | \u001b[1mINFO    \u001b[0m | \u001b[36mlibrary.fvm.solver\u001b[0m:\u001b[36mlog_callback_hyperbolic\u001b[0m:\u001b[36m43\u001b[0m - \u001b[1miteration: 53, time: 0.034415, dt: 0.000532, next write at time: 0.044444\u001b[0m\n",
      "\u001b[32m2025-08-08 06:22:48.909\u001b[0m | \u001b[1mINFO    \u001b[0m | \u001b[36mlibrary.fvm.solver\u001b[0m:\u001b[36mlog_callback_hyperbolic\u001b[0m:\u001b[36m43\u001b[0m - \u001b[1miteration: 54, time: 0.034946, dt: 0.000532, next write at time: 0.044444\u001b[0m\n",
      "\u001b[32m2025-08-08 06:22:48.933\u001b[0m | \u001b[1mINFO    \u001b[0m | \u001b[36mlibrary.fvm.solver\u001b[0m:\u001b[36mlog_callback_hyperbolic\u001b[0m:\u001b[36m43\u001b[0m - \u001b[1miteration: 55, time: 0.035478, dt: 0.000532, next write at time: 0.044444\u001b[0m\n",
      "\u001b[32m2025-08-08 06:22:48.954\u001b[0m | \u001b[1mINFO    \u001b[0m | \u001b[36mlibrary.fvm.solver\u001b[0m:\u001b[36mlog_callback_hyperbolic\u001b[0m:\u001b[36m43\u001b[0m - \u001b[1miteration: 56, time: 0.036009, dt: 0.000532, next write at time: 0.044444\u001b[0m\n",
      "\u001b[32m2025-08-08 06:22:48.975\u001b[0m | \u001b[1mINFO    \u001b[0m | \u001b[36mlibrary.fvm.solver\u001b[0m:\u001b[36mlog_callback_hyperbolic\u001b[0m:\u001b[36m43\u001b[0m - \u001b[1miteration: 57, time: 0.036541, dt: 0.000532, next write at time: 0.044444\u001b[0m\n",
      "\u001b[32m2025-08-08 06:22:48.996\u001b[0m | \u001b[1mINFO    \u001b[0m | \u001b[36mlibrary.fvm.solver\u001b[0m:\u001b[36mlog_callback_hyperbolic\u001b[0m:\u001b[36m43\u001b[0m - \u001b[1miteration: 58, time: 0.037073, dt: 0.000532, next write at time: 0.044444\u001b[0m\n",
      "\u001b[32m2025-08-08 06:22:49.012\u001b[0m | \u001b[1mINFO    \u001b[0m | \u001b[36mlibrary.fvm.solver\u001b[0m:\u001b[36mlog_callback_hyperbolic\u001b[0m:\u001b[36m43\u001b[0m - \u001b[1miteration: 59, time: 0.037604, dt: 0.000532, next write at time: 0.044444\u001b[0m\n",
      "\u001b[32m2025-08-08 06:22:49.036\u001b[0m | \u001b[1mINFO    \u001b[0m | \u001b[36mlibrary.fvm.solver\u001b[0m:\u001b[36mlog_callback_hyperbolic\u001b[0m:\u001b[36m43\u001b[0m - \u001b[1miteration: 60, time: 0.038136, dt: 0.000532, next write at time: 0.044444\u001b[0m\n",
      "\u001b[32m2025-08-08 06:22:49.052\u001b[0m | \u001b[1mINFO    \u001b[0m | \u001b[36mlibrary.fvm.solver\u001b[0m:\u001b[36mlog_callback_hyperbolic\u001b[0m:\u001b[36m43\u001b[0m - \u001b[1miteration: 61, time: 0.038667, dt: 0.000532, next write at time: 0.044444\u001b[0m\n",
      "\u001b[32m2025-08-08 06:22:49.076\u001b[0m | \u001b[1mINFO    \u001b[0m | \u001b[36mlibrary.fvm.solver\u001b[0m:\u001b[36mlog_callback_hyperbolic\u001b[0m:\u001b[36m43\u001b[0m - \u001b[1miteration: 62, time: 0.039199, dt: 0.000532, next write at time: 0.044444\u001b[0m\n",
      "\u001b[32m2025-08-08 06:22:49.091\u001b[0m | \u001b[1mINFO    \u001b[0m | \u001b[36mlibrary.fvm.solver\u001b[0m:\u001b[36mlog_callback_hyperbolic\u001b[0m:\u001b[36m43\u001b[0m - \u001b[1miteration: 63, time: 0.039731, dt: 0.000532, next write at time: 0.044444\u001b[0m\n",
      "\u001b[32m2025-08-08 06:22:49.114\u001b[0m | \u001b[1mINFO    \u001b[0m | \u001b[36mlibrary.fvm.solver\u001b[0m:\u001b[36mlog_callback_hyperbolic\u001b[0m:\u001b[36m43\u001b[0m - \u001b[1miteration: 64, time: 0.040262, dt: 0.000532, next write at time: 0.044444\u001b[0m\n",
      "\u001b[32m2025-08-08 06:22:49.131\u001b[0m | \u001b[1mINFO    \u001b[0m | \u001b[36mlibrary.fvm.solver\u001b[0m:\u001b[36mlog_callback_hyperbolic\u001b[0m:\u001b[36m43\u001b[0m - \u001b[1miteration: 65, time: 0.040794, dt: 0.000532, next write at time: 0.044444\u001b[0m\n",
      "\u001b[32m2025-08-08 06:22:49.150\u001b[0m | \u001b[1mINFO    \u001b[0m | \u001b[36mlibrary.fvm.solver\u001b[0m:\u001b[36mlog_callback_hyperbolic\u001b[0m:\u001b[36m43\u001b[0m - \u001b[1miteration: 66, time: 0.041325, dt: 0.000532, next write at time: 0.044444\u001b[0m\n",
      "\u001b[32m2025-08-08 06:22:49.168\u001b[0m | \u001b[1mINFO    \u001b[0m | \u001b[36mlibrary.fvm.solver\u001b[0m:\u001b[36mlog_callback_hyperbolic\u001b[0m:\u001b[36m43\u001b[0m - \u001b[1miteration: 67, time: 0.041857, dt: 0.000532, next write at time: 0.044444\u001b[0m\n",
      "\u001b[32m2025-08-08 06:22:49.194\u001b[0m | \u001b[1mINFO    \u001b[0m | \u001b[36mlibrary.fvm.solver\u001b[0m:\u001b[36mlog_callback_hyperbolic\u001b[0m:\u001b[36m43\u001b[0m - \u001b[1miteration: 68, time: 0.042389, dt: 0.000532, next write at time: 0.044444\u001b[0m\n",
      "\u001b[32m2025-08-08 06:22:49.241\u001b[0m | \u001b[1mINFO    \u001b[0m | \u001b[36mlibrary.fvm.solver\u001b[0m:\u001b[36mlog_callback_hyperbolic\u001b[0m:\u001b[36m43\u001b[0m - \u001b[1miteration: 69, time: 0.042920, dt: 0.000532, next write at time: 0.044444\u001b[0m\n",
      "\u001b[32m2025-08-08 06:22:49.280\u001b[0m | \u001b[1mINFO    \u001b[0m | \u001b[36mlibrary.fvm.solver\u001b[0m:\u001b[36mlog_callback_hyperbolic\u001b[0m:\u001b[36m43\u001b[0m - \u001b[1miteration: 70, time: 0.043451, dt: 0.000531, next write at time: 0.044444\u001b[0m\n",
      "\u001b[32m2025-08-08 06:22:49.304\u001b[0m | \u001b[1mINFO    \u001b[0m | \u001b[36mlibrary.fvm.solver\u001b[0m:\u001b[36mlog_callback_hyperbolic\u001b[0m:\u001b[36m43\u001b[0m - \u001b[1miteration: 71, time: 0.043980, dt: 0.000529, next write at time: 0.044444\u001b[0m\n",
      "\u001b[32m2025-08-08 06:22:49.320\u001b[0m | \u001b[1mINFO    \u001b[0m | \u001b[36mlibrary.fvm.solver\u001b[0m:\u001b[36mlog_callback_hyperbolic\u001b[0m:\u001b[36m43\u001b[0m - \u001b[1miteration: 72, time: 0.044509, dt: 0.000528, next write at time: 0.044444\u001b[0m\n",
      "\u001b[32m2025-08-08 06:22:49.341\u001b[0m | \u001b[1mINFO    \u001b[0m | \u001b[36mlibrary.fvm.solver\u001b[0m:\u001b[36mlog_callback_hyperbolic\u001b[0m:\u001b[36m43\u001b[0m - \u001b[1miteration: 73, time: 0.045035, dt: 0.000526, next write at time: 0.055556\u001b[0m\n",
      "\u001b[32m2025-08-08 06:22:49.358\u001b[0m | \u001b[1mINFO    \u001b[0m | \u001b[36mlibrary.fvm.solver\u001b[0m:\u001b[36mlog_callback_hyperbolic\u001b[0m:\u001b[36m43\u001b[0m - \u001b[1miteration: 74, time: 0.045560, dt: 0.000525, next write at time: 0.055556\u001b[0m\n",
      "\u001b[32m2025-08-08 06:22:49.379\u001b[0m | \u001b[1mINFO    \u001b[0m | \u001b[36mlibrary.fvm.solver\u001b[0m:\u001b[36mlog_callback_hyperbolic\u001b[0m:\u001b[36m43\u001b[0m - \u001b[1miteration: 75, time: 0.046083, dt: 0.000523, next write at time: 0.055556\u001b[0m\n",
      "\u001b[32m2025-08-08 06:22:49.397\u001b[0m | \u001b[1mINFO    \u001b[0m | \u001b[36mlibrary.fvm.solver\u001b[0m:\u001b[36mlog_callback_hyperbolic\u001b[0m:\u001b[36m43\u001b[0m - \u001b[1miteration: 76, time: 0.046606, dt: 0.000523, next write at time: 0.055556\u001b[0m\n",
      "\u001b[32m2025-08-08 06:22:49.425\u001b[0m | \u001b[1mINFO    \u001b[0m | \u001b[36mlibrary.fvm.solver\u001b[0m:\u001b[36mlog_callback_hyperbolic\u001b[0m:\u001b[36m43\u001b[0m - \u001b[1miteration: 77, time: 0.047127, dt: 0.000521, next write at time: 0.055556\u001b[0m\n",
      "\u001b[32m2025-08-08 06:22:49.441\u001b[0m | \u001b[1mINFO    \u001b[0m | \u001b[36mlibrary.fvm.solver\u001b[0m:\u001b[36mlog_callback_hyperbolic\u001b[0m:\u001b[36m43\u001b[0m - \u001b[1miteration: 78, time: 0.047647, dt: 0.000521, next write at time: 0.055556\u001b[0m\n",
      "\u001b[32m2025-08-08 06:22:49.461\u001b[0m | \u001b[1mINFO    \u001b[0m | \u001b[36mlibrary.fvm.solver\u001b[0m:\u001b[36mlog_callback_hyperbolic\u001b[0m:\u001b[36m43\u001b[0m - \u001b[1miteration: 79, time: 0.048166, dt: 0.000519, next write at time: 0.055556\u001b[0m\n",
      "\u001b[32m2025-08-08 06:22:49.484\u001b[0m | \u001b[1mINFO    \u001b[0m | \u001b[36mlibrary.fvm.solver\u001b[0m:\u001b[36mlog_callback_hyperbolic\u001b[0m:\u001b[36m43\u001b[0m - \u001b[1miteration: 80, time: 0.048685, dt: 0.000518, next write at time: 0.055556\u001b[0m\n",
      "\u001b[32m2025-08-08 06:22:49.501\u001b[0m | \u001b[1mINFO    \u001b[0m | \u001b[36mlibrary.fvm.solver\u001b[0m:\u001b[36mlog_callback_hyperbolic\u001b[0m:\u001b[36m43\u001b[0m - \u001b[1miteration: 81, time: 0.049201, dt: 0.000517, next write at time: 0.055556\u001b[0m\n",
      "\u001b[32m2025-08-08 06:22:49.527\u001b[0m | \u001b[1mINFO    \u001b[0m | \u001b[36mlibrary.fvm.solver\u001b[0m:\u001b[36mlog_callback_hyperbolic\u001b[0m:\u001b[36m43\u001b[0m - \u001b[1miteration: 82, time: 0.049718, dt: 0.000517, next write at time: 0.055556\u001b[0m\n",
      "\u001b[32m2025-08-08 06:22:49.548\u001b[0m | \u001b[1mINFO    \u001b[0m | \u001b[36mlibrary.fvm.solver\u001b[0m:\u001b[36mlog_callback_hyperbolic\u001b[0m:\u001b[36m43\u001b[0m - \u001b[1miteration: 83, time: 0.050234, dt: 0.000516, next write at time: 0.055556\u001b[0m\n",
      "\u001b[32m2025-08-08 06:22:49.569\u001b[0m | \u001b[1mINFO    \u001b[0m | \u001b[36mlibrary.fvm.solver\u001b[0m:\u001b[36mlog_callback_hyperbolic\u001b[0m:\u001b[36m43\u001b[0m - \u001b[1miteration: 84, time: 0.050750, dt: 0.000516, next write at time: 0.055556\u001b[0m\n",
      "\u001b[32m2025-08-08 06:22:49.591\u001b[0m | \u001b[1mINFO    \u001b[0m | \u001b[36mlibrary.fvm.solver\u001b[0m:\u001b[36mlog_callback_hyperbolic\u001b[0m:\u001b[36m43\u001b[0m - \u001b[1miteration: 85, time: 0.051265, dt: 0.000515, next write at time: 0.055556\u001b[0m\n",
      "\u001b[32m2025-08-08 06:22:49.612\u001b[0m | \u001b[1mINFO    \u001b[0m | \u001b[36mlibrary.fvm.solver\u001b[0m:\u001b[36mlog_callback_hyperbolic\u001b[0m:\u001b[36m43\u001b[0m - \u001b[1miteration: 86, time: 0.051780, dt: 0.000514, next write at time: 0.055556\u001b[0m\n",
      "\u001b[32m2025-08-08 06:22:49.648\u001b[0m | \u001b[1mINFO    \u001b[0m | \u001b[36mlibrary.fvm.solver\u001b[0m:\u001b[36mlog_callback_hyperbolic\u001b[0m:\u001b[36m43\u001b[0m - \u001b[1miteration: 87, time: 0.052293, dt: 0.000513, next write at time: 0.055556\u001b[0m\n",
      "\u001b[32m2025-08-08 06:22:49.671\u001b[0m | \u001b[1mINFO    \u001b[0m | \u001b[36mlibrary.fvm.solver\u001b[0m:\u001b[36mlog_callback_hyperbolic\u001b[0m:\u001b[36m43\u001b[0m - \u001b[1miteration: 88, time: 0.052807, dt: 0.000514, next write at time: 0.055556\u001b[0m\n",
      "\u001b[32m2025-08-08 06:22:49.688\u001b[0m | \u001b[1mINFO    \u001b[0m | \u001b[36mlibrary.fvm.solver\u001b[0m:\u001b[36mlog_callback_hyperbolic\u001b[0m:\u001b[36m43\u001b[0m - \u001b[1miteration: 89, time: 0.053321, dt: 0.000514, next write at time: 0.055556\u001b[0m\n",
      "\u001b[32m2025-08-08 06:22:49.708\u001b[0m | \u001b[1mINFO    \u001b[0m | \u001b[36mlibrary.fvm.solver\u001b[0m:\u001b[36mlog_callback_hyperbolic\u001b[0m:\u001b[36m43\u001b[0m - \u001b[1miteration: 90, time: 0.053834, dt: 0.000514, next write at time: 0.055556\u001b[0m\n",
      "\u001b[32m2025-08-08 06:22:49.731\u001b[0m | \u001b[1mINFO    \u001b[0m | \u001b[36mlibrary.fvm.solver\u001b[0m:\u001b[36mlog_callback_hyperbolic\u001b[0m:\u001b[36m43\u001b[0m - \u001b[1miteration: 91, time: 0.054347, dt: 0.000513, next write at time: 0.055556\u001b[0m\n",
      "\u001b[32m2025-08-08 06:22:49.747\u001b[0m | \u001b[1mINFO    \u001b[0m | \u001b[36mlibrary.fvm.solver\u001b[0m:\u001b[36mlog_callback_hyperbolic\u001b[0m:\u001b[36m43\u001b[0m - \u001b[1miteration: 92, time: 0.054860, dt: 0.000513, next write at time: 0.055556\u001b[0m\n",
      "\u001b[32m2025-08-08 06:22:49.765\u001b[0m | \u001b[1mINFO    \u001b[0m | \u001b[36mlibrary.fvm.solver\u001b[0m:\u001b[36mlog_callback_hyperbolic\u001b[0m:\u001b[36m43\u001b[0m - \u001b[1miteration: 93, time: 0.055372, dt: 0.000512, next write at time: 0.055556\u001b[0m\n",
      "\u001b[32m2025-08-08 06:22:49.783\u001b[0m | \u001b[1mINFO    \u001b[0m | \u001b[36mlibrary.fvm.solver\u001b[0m:\u001b[36mlog_callback_hyperbolic\u001b[0m:\u001b[36m43\u001b[0m - \u001b[1miteration: 94, time: 0.055885, dt: 0.000513, next write at time: 0.055556\u001b[0m\n",
      "\u001b[32m2025-08-08 06:22:49.804\u001b[0m | \u001b[1mINFO    \u001b[0m | \u001b[36mlibrary.fvm.solver\u001b[0m:\u001b[36mlog_callback_hyperbolic\u001b[0m:\u001b[36m43\u001b[0m - \u001b[1miteration: 95, time: 0.056398, dt: 0.000513, next write at time: 0.066667\u001b[0m\n",
      "\u001b[32m2025-08-08 06:22:49.827\u001b[0m | \u001b[1mINFO    \u001b[0m | \u001b[36mlibrary.fvm.solver\u001b[0m:\u001b[36mlog_callback_hyperbolic\u001b[0m:\u001b[36m43\u001b[0m - \u001b[1miteration: 96, time: 0.056910, dt: 0.000512, next write at time: 0.066667\u001b[0m\n",
      "\u001b[32m2025-08-08 06:22:49.852\u001b[0m | \u001b[1mINFO    \u001b[0m | \u001b[36mlibrary.fvm.solver\u001b[0m:\u001b[36mlog_callback_hyperbolic\u001b[0m:\u001b[36m43\u001b[0m - \u001b[1miteration: 97, time: 0.057422, dt: 0.000512, next write at time: 0.066667\u001b[0m\n",
      "\u001b[32m2025-08-08 06:22:49.886\u001b[0m | \u001b[1mINFO    \u001b[0m | \u001b[36mlibrary.fvm.solver\u001b[0m:\u001b[36mlog_callback_hyperbolic\u001b[0m:\u001b[36m43\u001b[0m - \u001b[1miteration: 98, time: 0.057934, dt: 0.000512, next write at time: 0.066667\u001b[0m\n",
      "\u001b[32m2025-08-08 06:22:49.907\u001b[0m | \u001b[1mINFO    \u001b[0m | \u001b[36mlibrary.fvm.solver\u001b[0m:\u001b[36mlog_callback_hyperbolic\u001b[0m:\u001b[36m43\u001b[0m - \u001b[1miteration: 99, time: 0.058445, dt: 0.000511, next write at time: 0.066667\u001b[0m\n",
      "\u001b[32m2025-08-08 06:22:49.931\u001b[0m | \u001b[1mINFO    \u001b[0m | \u001b[36mlibrary.fvm.solver\u001b[0m:\u001b[36mlog_callback_hyperbolic\u001b[0m:\u001b[36m43\u001b[0m - \u001b[1miteration: 100, time: 0.058959, dt: 0.000513, next write at time: 0.066667\u001b[0m\n",
      "\u001b[32m2025-08-08 06:22:49.946\u001b[0m | \u001b[1mINFO    \u001b[0m | \u001b[36mlibrary.fvm.solver\u001b[0m:\u001b[36mlog_callback_hyperbolic\u001b[0m:\u001b[36m43\u001b[0m - \u001b[1miteration: 101, time: 0.059472, dt: 0.000513, next write at time: 0.066667\u001b[0m\n",
      "\u001b[32m2025-08-08 06:22:49.965\u001b[0m | \u001b[1mINFO    \u001b[0m | \u001b[36mlibrary.fvm.solver\u001b[0m:\u001b[36mlog_callback_hyperbolic\u001b[0m:\u001b[36m43\u001b[0m - \u001b[1miteration: 102, time: 0.059983, dt: 0.000512, next write at time: 0.066667\u001b[0m\n",
      "\u001b[32m2025-08-08 06:22:49.987\u001b[0m | \u001b[1mINFO    \u001b[0m | \u001b[36mlibrary.fvm.solver\u001b[0m:\u001b[36mlog_callback_hyperbolic\u001b[0m:\u001b[36m43\u001b[0m - \u001b[1miteration: 103, time: 0.060495, dt: 0.000511, next write at time: 0.066667\u001b[0m\n",
      "\u001b[32m2025-08-08 06:22:50.005\u001b[0m | \u001b[1mINFO    \u001b[0m | \u001b[36mlibrary.fvm.solver\u001b[0m:\u001b[36mlog_callback_hyperbolic\u001b[0m:\u001b[36m43\u001b[0m - \u001b[1miteration: 104, time: 0.061007, dt: 0.000512, next write at time: 0.066667\u001b[0m\n",
      "\u001b[32m2025-08-08 06:22:50.024\u001b[0m | \u001b[1mINFO    \u001b[0m | \u001b[36mlibrary.fvm.solver\u001b[0m:\u001b[36mlog_callback_hyperbolic\u001b[0m:\u001b[36m43\u001b[0m - \u001b[1miteration: 105, time: 0.061519, dt: 0.000512, next write at time: 0.066667\u001b[0m\n",
      "\u001b[32m2025-08-08 06:22:50.041\u001b[0m | \u001b[1mINFO    \u001b[0m | \u001b[36mlibrary.fvm.solver\u001b[0m:\u001b[36mlog_callback_hyperbolic\u001b[0m:\u001b[36m43\u001b[0m - \u001b[1miteration: 106, time: 0.062032, dt: 0.000513, next write at time: 0.066667\u001b[0m\n",
      "\u001b[32m2025-08-08 06:22:50.059\u001b[0m | \u001b[1mINFO    \u001b[0m | \u001b[36mlibrary.fvm.solver\u001b[0m:\u001b[36mlog_callback_hyperbolic\u001b[0m:\u001b[36m43\u001b[0m - \u001b[1miteration: 107, time: 0.062544, dt: 0.000512, next write at time: 0.066667\u001b[0m\n",
      "\u001b[32m2025-08-08 06:22:50.080\u001b[0m | \u001b[1mINFO    \u001b[0m | \u001b[36mlibrary.fvm.solver\u001b[0m:\u001b[36mlog_callback_hyperbolic\u001b[0m:\u001b[36m43\u001b[0m - \u001b[1miteration: 108, time: 0.063056, dt: 0.000512, next write at time: 0.066667\u001b[0m\n",
      "\u001b[32m2025-08-08 06:22:50.097\u001b[0m | \u001b[1mINFO    \u001b[0m | \u001b[36mlibrary.fvm.solver\u001b[0m:\u001b[36mlog_callback_hyperbolic\u001b[0m:\u001b[36m43\u001b[0m - \u001b[1miteration: 109, time: 0.063567, dt: 0.000511, next write at time: 0.066667\u001b[0m\n",
      "\u001b[32m2025-08-08 06:22:50.121\u001b[0m | \u001b[1mINFO    \u001b[0m | \u001b[36mlibrary.fvm.solver\u001b[0m:\u001b[36mlog_callback_hyperbolic\u001b[0m:\u001b[36m43\u001b[0m - \u001b[1miteration: 110, time: 0.064080, dt: 0.000513, next write at time: 0.066667\u001b[0m\n",
      "\u001b[32m2025-08-08 06:22:50.141\u001b[0m | \u001b[1mINFO    \u001b[0m | \u001b[36mlibrary.fvm.solver\u001b[0m:\u001b[36mlog_callback_hyperbolic\u001b[0m:\u001b[36m43\u001b[0m - \u001b[1miteration: 111, time: 0.064593, dt: 0.000513, next write at time: 0.066667\u001b[0m\n",
      "\u001b[32m2025-08-08 06:22:50.162\u001b[0m | \u001b[1mINFO    \u001b[0m | \u001b[36mlibrary.fvm.solver\u001b[0m:\u001b[36mlog_callback_hyperbolic\u001b[0m:\u001b[36m43\u001b[0m - \u001b[1miteration: 112, time: 0.065106, dt: 0.000512, next write at time: 0.066667\u001b[0m\n",
      "\u001b[32m2025-08-08 06:22:50.182\u001b[0m | \u001b[1mINFO    \u001b[0m | \u001b[36mlibrary.fvm.solver\u001b[0m:\u001b[36mlog_callback_hyperbolic\u001b[0m:\u001b[36m43\u001b[0m - \u001b[1miteration: 113, time: 0.065617, dt: 0.000512, next write at time: 0.066667\u001b[0m\n",
      "\u001b[32m2025-08-08 06:22:50.201\u001b[0m | \u001b[1mINFO    \u001b[0m | \u001b[36mlibrary.fvm.solver\u001b[0m:\u001b[36mlog_callback_hyperbolic\u001b[0m:\u001b[36m43\u001b[0m - \u001b[1miteration: 114, time: 0.066129, dt: 0.000512, next write at time: 0.066667\u001b[0m\n",
      "\u001b[32m2025-08-08 06:22:50.220\u001b[0m | \u001b[1mINFO    \u001b[0m | \u001b[36mlibrary.fvm.solver\u001b[0m:\u001b[36mlog_callback_hyperbolic\u001b[0m:\u001b[36m43\u001b[0m - \u001b[1miteration: 115, time: 0.066641, dt: 0.000512, next write at time: 0.066667\u001b[0m\n",
      "\u001b[32m2025-08-08 06:22:50.238\u001b[0m | \u001b[1mINFO    \u001b[0m | \u001b[36mlibrary.fvm.solver\u001b[0m:\u001b[36mlog_callback_hyperbolic\u001b[0m:\u001b[36m43\u001b[0m - \u001b[1miteration: 116, time: 0.067154, dt: 0.000513, next write at time: 0.066667\u001b[0m\n",
      "\u001b[32m2025-08-08 06:22:50.258\u001b[0m | \u001b[1mINFO    \u001b[0m | \u001b[36mlibrary.fvm.solver\u001b[0m:\u001b[36mlog_callback_hyperbolic\u001b[0m:\u001b[36m43\u001b[0m - \u001b[1miteration: 117, time: 0.067666, dt: 0.000512, next write at time: 0.077778\u001b[0m\n",
      "\u001b[32m2025-08-08 06:22:50.279\u001b[0m | \u001b[1mINFO    \u001b[0m | \u001b[36mlibrary.fvm.solver\u001b[0m:\u001b[36mlog_callback_hyperbolic\u001b[0m:\u001b[36m43\u001b[0m - \u001b[1miteration: 118, time: 0.068178, dt: 0.000512, next write at time: 0.077778\u001b[0m\n",
      "\u001b[32m2025-08-08 06:22:50.293\u001b[0m | \u001b[1mINFO    \u001b[0m | \u001b[36mlibrary.fvm.solver\u001b[0m:\u001b[36mlog_callback_hyperbolic\u001b[0m:\u001b[36m43\u001b[0m - \u001b[1miteration: 119, time: 0.068689, dt: 0.000511, next write at time: 0.077778\u001b[0m\n",
      "\u001b[32m2025-08-08 06:22:50.314\u001b[0m | \u001b[1mINFO    \u001b[0m | \u001b[36mlibrary.fvm.solver\u001b[0m:\u001b[36mlog_callback_hyperbolic\u001b[0m:\u001b[36m43\u001b[0m - \u001b[1miteration: 120, time: 0.069203, dt: 0.000513, next write at time: 0.077778\u001b[0m\n",
      "\u001b[32m2025-08-08 06:22:50.342\u001b[0m | \u001b[1mINFO    \u001b[0m | \u001b[36mlibrary.fvm.solver\u001b[0m:\u001b[36mlog_callback_hyperbolic\u001b[0m:\u001b[36m43\u001b[0m - \u001b[1miteration: 121, time: 0.069715, dt: 0.000513, next write at time: 0.077778\u001b[0m\n",
      "\u001b[32m2025-08-08 06:22:50.365\u001b[0m | \u001b[1mINFO    \u001b[0m | \u001b[36mlibrary.fvm.solver\u001b[0m:\u001b[36mlog_callback_hyperbolic\u001b[0m:\u001b[36m43\u001b[0m - \u001b[1miteration: 122, time: 0.070227, dt: 0.000512, next write at time: 0.077778\u001b[0m\n",
      "\u001b[32m2025-08-08 06:22:50.382\u001b[0m | \u001b[1mINFO    \u001b[0m | \u001b[36mlibrary.fvm.solver\u001b[0m:\u001b[36mlog_callback_hyperbolic\u001b[0m:\u001b[36m43\u001b[0m - \u001b[1miteration: 123, time: 0.070738, dt: 0.000511, next write at time: 0.077778\u001b[0m\n",
      "\u001b[32m2025-08-08 06:22:50.405\u001b[0m | \u001b[1mINFO    \u001b[0m | \u001b[36mlibrary.fvm.solver\u001b[0m:\u001b[36mlog_callback_hyperbolic\u001b[0m:\u001b[36m43\u001b[0m - \u001b[1miteration: 124, time: 0.071250, dt: 0.000512, next write at time: 0.077778\u001b[0m\n",
      "\u001b[32m2025-08-08 06:22:50.418\u001b[0m | \u001b[1mINFO    \u001b[0m | \u001b[36mlibrary.fvm.solver\u001b[0m:\u001b[36mlog_callback_hyperbolic\u001b[0m:\u001b[36m43\u001b[0m - \u001b[1miteration: 125, time: 0.071762, dt: 0.000511, next write at time: 0.077778\u001b[0m\n",
      "\u001b[32m2025-08-08 06:22:50.445\u001b[0m | \u001b[1mINFO    \u001b[0m | \u001b[36mlibrary.fvm.solver\u001b[0m:\u001b[36mlog_callback_hyperbolic\u001b[0m:\u001b[36m43\u001b[0m - \u001b[1miteration: 126, time: 0.072274, dt: 0.000512, next write at time: 0.077778\u001b[0m\n",
      "\u001b[32m2025-08-08 06:22:50.461\u001b[0m | \u001b[1mINFO    \u001b[0m | \u001b[36mlibrary.fvm.solver\u001b[0m:\u001b[36mlog_callback_hyperbolic\u001b[0m:\u001b[36m43\u001b[0m - \u001b[1miteration: 127, time: 0.072786, dt: 0.000512, next write at time: 0.077778\u001b[0m\n",
      "\u001b[32m2025-08-08 06:22:50.478\u001b[0m | \u001b[1mINFO    \u001b[0m | \u001b[36mlibrary.fvm.solver\u001b[0m:\u001b[36mlog_callback_hyperbolic\u001b[0m:\u001b[36m43\u001b[0m - \u001b[1miteration: 128, time: 0.073297, dt: 0.000512, next write at time: 0.077778\u001b[0m\n",
      "\u001b[32m2025-08-08 06:22:50.501\u001b[0m | \u001b[1mINFO    \u001b[0m | \u001b[36mlibrary.fvm.solver\u001b[0m:\u001b[36mlog_callback_hyperbolic\u001b[0m:\u001b[36m43\u001b[0m - \u001b[1miteration: 129, time: 0.073808, dt: 0.000511, next write at time: 0.077778\u001b[0m\n",
      "\u001b[32m2025-08-08 06:22:50.525\u001b[0m | \u001b[1mINFO    \u001b[0m | \u001b[36mlibrary.fvm.solver\u001b[0m:\u001b[36mlog_callback_hyperbolic\u001b[0m:\u001b[36m43\u001b[0m - \u001b[1miteration: 130, time: 0.074321, dt: 0.000513, next write at time: 0.077778\u001b[0m\n",
      "\u001b[32m2025-08-08 06:22:50.547\u001b[0m | \u001b[1mINFO    \u001b[0m | \u001b[36mlibrary.fvm.solver\u001b[0m:\u001b[36mlog_callback_hyperbolic\u001b[0m:\u001b[36m43\u001b[0m - \u001b[1miteration: 131, time: 0.074834, dt: 0.000512, next write at time: 0.077778\u001b[0m\n",
      "\u001b[32m2025-08-08 06:22:50.572\u001b[0m | \u001b[1mINFO    \u001b[0m | \u001b[36mlibrary.fvm.solver\u001b[0m:\u001b[36mlog_callback_hyperbolic\u001b[0m:\u001b[36m43\u001b[0m - \u001b[1miteration: 132, time: 0.075345, dt: 0.000511, next write at time: 0.077778\u001b[0m\n",
      "\u001b[32m2025-08-08 06:22:50.601\u001b[0m | \u001b[1mINFO    \u001b[0m | \u001b[36mlibrary.fvm.solver\u001b[0m:\u001b[36mlog_callback_hyperbolic\u001b[0m:\u001b[36m43\u001b[0m - \u001b[1miteration: 133, time: 0.075856, dt: 0.000511, next write at time: 0.077778\u001b[0m\n",
      "\u001b[32m2025-08-08 06:22:50.623\u001b[0m | \u001b[1mINFO    \u001b[0m | \u001b[36mlibrary.fvm.solver\u001b[0m:\u001b[36mlog_callback_hyperbolic\u001b[0m:\u001b[36m43\u001b[0m - \u001b[1miteration: 134, time: 0.076368, dt: 0.000512, next write at time: 0.077778\u001b[0m\n",
      "\u001b[32m2025-08-08 06:22:50.642\u001b[0m | \u001b[1mINFO    \u001b[0m | \u001b[36mlibrary.fvm.solver\u001b[0m:\u001b[36mlog_callback_hyperbolic\u001b[0m:\u001b[36m43\u001b[0m - \u001b[1miteration: 135, time: 0.076879, dt: 0.000511, next write at time: 0.077778\u001b[0m\n",
      "\u001b[32m2025-08-08 06:22:50.664\u001b[0m | \u001b[1mINFO    \u001b[0m | \u001b[36mlibrary.fvm.solver\u001b[0m:\u001b[36mlog_callback_hyperbolic\u001b[0m:\u001b[36m43\u001b[0m - \u001b[1miteration: 136, time: 0.077391, dt: 0.000512, next write at time: 0.077778\u001b[0m\n",
      "\u001b[32m2025-08-08 06:22:50.689\u001b[0m | \u001b[1mINFO    \u001b[0m | \u001b[36mlibrary.fvm.solver\u001b[0m:\u001b[36mlog_callback_hyperbolic\u001b[0m:\u001b[36m43\u001b[0m - \u001b[1miteration: 137, time: 0.077902, dt: 0.000512, next write at time: 0.077778\u001b[0m\n",
      "\u001b[32m2025-08-08 06:22:50.716\u001b[0m | \u001b[1mINFO    \u001b[0m | \u001b[36mlibrary.fvm.solver\u001b[0m:\u001b[36mlog_callback_hyperbolic\u001b[0m:\u001b[36m43\u001b[0m - \u001b[1miteration: 138, time: 0.078414, dt: 0.000511, next write at time: 0.088889\u001b[0m\n",
      "\u001b[32m2025-08-08 06:22:50.751\u001b[0m | \u001b[1mINFO    \u001b[0m | \u001b[36mlibrary.fvm.solver\u001b[0m:\u001b[36mlog_callback_hyperbolic\u001b[0m:\u001b[36m43\u001b[0m - \u001b[1miteration: 139, time: 0.078925, dt: 0.000511, next write at time: 0.088889\u001b[0m\n",
      "\u001b[32m2025-08-08 06:22:50.769\u001b[0m | \u001b[1mINFO    \u001b[0m | \u001b[36mlibrary.fvm.solver\u001b[0m:\u001b[36mlog_callback_hyperbolic\u001b[0m:\u001b[36m43\u001b[0m - \u001b[1miteration: 140, time: 0.079438, dt: 0.000513, next write at time: 0.088889\u001b[0m\n",
      "\u001b[32m2025-08-08 06:22:50.793\u001b[0m | \u001b[1mINFO    \u001b[0m | \u001b[36mlibrary.fvm.solver\u001b[0m:\u001b[36mlog_callback_hyperbolic\u001b[0m:\u001b[36m43\u001b[0m - \u001b[1miteration: 141, time: 0.079950, dt: 0.000512, next write at time: 0.088889\u001b[0m\n",
      "\u001b[32m2025-08-08 06:22:50.815\u001b[0m | \u001b[1mINFO    \u001b[0m | \u001b[36mlibrary.fvm.solver\u001b[0m:\u001b[36mlog_callback_hyperbolic\u001b[0m:\u001b[36m43\u001b[0m - \u001b[1miteration: 142, time: 0.080462, dt: 0.000512, next write at time: 0.088889\u001b[0m\n",
      "\u001b[32m2025-08-08 06:22:50.837\u001b[0m | \u001b[1mINFO    \u001b[0m | \u001b[36mlibrary.fvm.solver\u001b[0m:\u001b[36mlog_callback_hyperbolic\u001b[0m:\u001b[36m43\u001b[0m - \u001b[1miteration: 143, time: 0.080973, dt: 0.000511, next write at time: 0.088889\u001b[0m\n",
      "\u001b[32m2025-08-08 06:22:50.892\u001b[0m | \u001b[1mINFO    \u001b[0m | \u001b[36mlibrary.fvm.solver\u001b[0m:\u001b[36mlog_callback_hyperbolic\u001b[0m:\u001b[36m43\u001b[0m - \u001b[1miteration: 144, time: 0.081485, dt: 0.000512, next write at time: 0.088889\u001b[0m\n",
      "\u001b[32m2025-08-08 06:22:50.918\u001b[0m | \u001b[1mINFO    \u001b[0m | \u001b[36mlibrary.fvm.solver\u001b[0m:\u001b[36mlog_callback_hyperbolic\u001b[0m:\u001b[36m43\u001b[0m - \u001b[1miteration: 145, time: 0.081997, dt: 0.000512, next write at time: 0.088889\u001b[0m\n",
      "\u001b[32m2025-08-08 06:22:50.946\u001b[0m | \u001b[1mINFO    \u001b[0m | \u001b[36mlibrary.fvm.solver\u001b[0m:\u001b[36mlog_callback_hyperbolic\u001b[0m:\u001b[36m43\u001b[0m - \u001b[1miteration: 146, time: 0.082510, dt: 0.000513, next write at time: 0.088889\u001b[0m\n",
      "\u001b[32m2025-08-08 06:22:50.963\u001b[0m | \u001b[1mINFO    \u001b[0m | \u001b[36mlibrary.fvm.solver\u001b[0m:\u001b[36mlog_callback_hyperbolic\u001b[0m:\u001b[36m43\u001b[0m - \u001b[1miteration: 147, time: 0.083023, dt: 0.000513, next write at time: 0.088889\u001b[0m\n",
      "\u001b[32m2025-08-08 06:22:50.983\u001b[0m | \u001b[1mINFO    \u001b[0m | \u001b[36mlibrary.fvm.solver\u001b[0m:\u001b[36mlog_callback_hyperbolic\u001b[0m:\u001b[36m43\u001b[0m - \u001b[1miteration: 148, time: 0.083535, dt: 0.000512, next write at time: 0.088889\u001b[0m\n",
      "\u001b[32m2025-08-08 06:22:51.007\u001b[0m | \u001b[1mINFO    \u001b[0m | \u001b[36mlibrary.fvm.solver\u001b[0m:\u001b[36mlog_callback_hyperbolic\u001b[0m:\u001b[36m43\u001b[0m - \u001b[1miteration: 149, time: 0.084047, dt: 0.000512, next write at time: 0.088889\u001b[0m\n",
      "\u001b[32m2025-08-08 06:22:51.025\u001b[0m | \u001b[1mINFO    \u001b[0m | \u001b[36mlibrary.fvm.solver\u001b[0m:\u001b[36mlog_callback_hyperbolic\u001b[0m:\u001b[36m43\u001b[0m - \u001b[1miteration: 150, time: 0.084561, dt: 0.000514, next write at time: 0.088889\u001b[0m\n",
      "\u001b[32m2025-08-08 06:22:51.046\u001b[0m | \u001b[1mINFO    \u001b[0m | \u001b[36mlibrary.fvm.solver\u001b[0m:\u001b[36mlog_callback_hyperbolic\u001b[0m:\u001b[36m43\u001b[0m - \u001b[1miteration: 151, time: 0.085074, dt: 0.000513, next write at time: 0.088889\u001b[0m\n",
      "\u001b[32m2025-08-08 06:22:51.064\u001b[0m | \u001b[1mINFO    \u001b[0m | \u001b[36mlibrary.fvm.solver\u001b[0m:\u001b[36mlog_callback_hyperbolic\u001b[0m:\u001b[36m43\u001b[0m - \u001b[1miteration: 152, time: 0.085588, dt: 0.000514, next write at time: 0.088889\u001b[0m\n",
      "\u001b[32m2025-08-08 06:22:51.091\u001b[0m | \u001b[1mINFO    \u001b[0m | \u001b[36mlibrary.fvm.solver\u001b[0m:\u001b[36mlog_callback_hyperbolic\u001b[0m:\u001b[36m43\u001b[0m - \u001b[1miteration: 153, time: 0.086102, dt: 0.000514, next write at time: 0.088889\u001b[0m\n",
      "\u001b[32m2025-08-08 06:22:51.110\u001b[0m | \u001b[1mINFO    \u001b[0m | \u001b[36mlibrary.fvm.solver\u001b[0m:\u001b[36mlog_callback_hyperbolic\u001b[0m:\u001b[36m43\u001b[0m - \u001b[1miteration: 154, time: 0.086615, dt: 0.000513, next write at time: 0.088889\u001b[0m\n",
      "\u001b[32m2025-08-08 06:22:51.132\u001b[0m | \u001b[1mINFO    \u001b[0m | \u001b[36mlibrary.fvm.solver\u001b[0m:\u001b[36mlog_callback_hyperbolic\u001b[0m:\u001b[36m43\u001b[0m - \u001b[1miteration: 155, time: 0.087128, dt: 0.000513, next write at time: 0.088889\u001b[0m\n",
      "\u001b[32m2025-08-08 06:22:51.148\u001b[0m | \u001b[1mINFO    \u001b[0m | \u001b[36mlibrary.fvm.solver\u001b[0m:\u001b[36mlog_callback_hyperbolic\u001b[0m:\u001b[36m43\u001b[0m - \u001b[1miteration: 156, time: 0.087645, dt: 0.000517, next write at time: 0.088889\u001b[0m\n",
      "\u001b[32m2025-08-08 06:22:51.167\u001b[0m | \u001b[1mINFO    \u001b[0m | \u001b[36mlibrary.fvm.solver\u001b[0m:\u001b[36mlog_callback_hyperbolic\u001b[0m:\u001b[36m43\u001b[0m - \u001b[1miteration: 157, time: 0.088161, dt: 0.000516, next write at time: 0.088889\u001b[0m\n",
      "\u001b[32m2025-08-08 06:22:51.193\u001b[0m | \u001b[1mINFO    \u001b[0m | \u001b[36mlibrary.fvm.solver\u001b[0m:\u001b[36mlog_callback_hyperbolic\u001b[0m:\u001b[36m43\u001b[0m - \u001b[1miteration: 158, time: 0.088677, dt: 0.000515, next write at time: 0.088889\u001b[0m\n",
      "\u001b[32m2025-08-08 06:22:51.208\u001b[0m | \u001b[1mINFO    \u001b[0m | \u001b[36mlibrary.fvm.solver\u001b[0m:\u001b[36mlog_callback_hyperbolic\u001b[0m:\u001b[36m43\u001b[0m - \u001b[1miteration: 159, time: 0.089192, dt: 0.000515, next write at time: 0.088889\u001b[0m\n",
      "\u001b[32m2025-08-08 06:22:51.234\u001b[0m | \u001b[1mINFO    \u001b[0m | \u001b[36mlibrary.fvm.solver\u001b[0m:\u001b[36mlog_callback_hyperbolic\u001b[0m:\u001b[36m43\u001b[0m - \u001b[1miteration: 160, time: 0.089707, dt: 0.000516, next write at time: 0.100000\u001b[0m\n",
      "\u001b[32m2025-08-08 06:22:51.259\u001b[0m | \u001b[1mINFO    \u001b[0m | \u001b[36mlibrary.fvm.solver\u001b[0m:\u001b[36mlog_callback_hyperbolic\u001b[0m:\u001b[36m43\u001b[0m - \u001b[1miteration: 161, time: 0.090223, dt: 0.000516, next write at time: 0.100000\u001b[0m\n",
      "\u001b[32m2025-08-08 06:22:51.286\u001b[0m | \u001b[1mINFO    \u001b[0m | \u001b[36mlibrary.fvm.solver\u001b[0m:\u001b[36mlog_callback_hyperbolic\u001b[0m:\u001b[36m43\u001b[0m - \u001b[1miteration: 162, time: 0.090741, dt: 0.000517, next write at time: 0.100000\u001b[0m\n",
      "\u001b[32m2025-08-08 06:22:51.320\u001b[0m | \u001b[1mINFO    \u001b[0m | \u001b[36mlibrary.fvm.solver\u001b[0m:\u001b[36mlog_callback_hyperbolic\u001b[0m:\u001b[36m43\u001b[0m - \u001b[1miteration: 163, time: 0.091257, dt: 0.000516, next write at time: 0.100000\u001b[0m\n",
      "\u001b[32m2025-08-08 06:22:51.344\u001b[0m | \u001b[1mINFO    \u001b[0m | \u001b[36mlibrary.fvm.solver\u001b[0m:\u001b[36mlog_callback_hyperbolic\u001b[0m:\u001b[36m43\u001b[0m - \u001b[1miteration: 164, time: 0.091772, dt: 0.000515, next write at time: 0.100000\u001b[0m\n",
      "\u001b[32m2025-08-08 06:22:51.365\u001b[0m | \u001b[1mINFO    \u001b[0m | \u001b[36mlibrary.fvm.solver\u001b[0m:\u001b[36mlog_callback_hyperbolic\u001b[0m:\u001b[36m43\u001b[0m - \u001b[1miteration: 165, time: 0.092287, dt: 0.000515, next write at time: 0.100000\u001b[0m\n",
      "\u001b[32m2025-08-08 06:22:51.391\u001b[0m | \u001b[1mINFO    \u001b[0m | \u001b[36mlibrary.fvm.solver\u001b[0m:\u001b[36mlog_callback_hyperbolic\u001b[0m:\u001b[36m43\u001b[0m - \u001b[1miteration: 166, time: 0.092801, dt: 0.000514, next write at time: 0.100000\u001b[0m\n",
      "\u001b[32m2025-08-08 06:22:51.408\u001b[0m | \u001b[1mINFO    \u001b[0m | \u001b[36mlibrary.fvm.solver\u001b[0m:\u001b[36mlog_callback_hyperbolic\u001b[0m:\u001b[36m43\u001b[0m - \u001b[1miteration: 167, time: 0.093315, dt: 0.000514, next write at time: 0.100000\u001b[0m\n",
      "\u001b[32m2025-08-08 06:22:51.427\u001b[0m | \u001b[1mINFO    \u001b[0m | \u001b[36mlibrary.fvm.solver\u001b[0m:\u001b[36mlog_callback_hyperbolic\u001b[0m:\u001b[36m43\u001b[0m - \u001b[1miteration: 168, time: 0.093829, dt: 0.000514, next write at time: 0.100000\u001b[0m\n",
      "\u001b[32m2025-08-08 06:22:51.447\u001b[0m | \u001b[1mINFO    \u001b[0m | \u001b[36mlibrary.fvm.solver\u001b[0m:\u001b[36mlog_callback_hyperbolic\u001b[0m:\u001b[36m43\u001b[0m - \u001b[1miteration: 169, time: 0.094343, dt: 0.000514, next write at time: 0.100000\u001b[0m\n",
      "\u001b[32m2025-08-08 06:22:51.464\u001b[0m | \u001b[1mINFO    \u001b[0m | \u001b[36mlibrary.fvm.solver\u001b[0m:\u001b[36mlog_callback_hyperbolic\u001b[0m:\u001b[36m43\u001b[0m - \u001b[1miteration: 170, time: 0.094856, dt: 0.000513, next write at time: 0.100000\u001b[0m\n",
      "\u001b[32m2025-08-08 06:22:51.493\u001b[0m | \u001b[1mINFO    \u001b[0m | \u001b[36mlibrary.fvm.solver\u001b[0m:\u001b[36mlog_callback_hyperbolic\u001b[0m:\u001b[36m43\u001b[0m - \u001b[1miteration: 171, time: 0.095368, dt: 0.000513, next write at time: 0.100000\u001b[0m\n",
      "\u001b[32m2025-08-08 06:22:51.509\u001b[0m | \u001b[1mINFO    \u001b[0m | \u001b[36mlibrary.fvm.solver\u001b[0m:\u001b[36mlog_callback_hyperbolic\u001b[0m:\u001b[36m43\u001b[0m - \u001b[1miteration: 172, time: 0.095881, dt: 0.000513, next write at time: 0.100000\u001b[0m\n",
      "\u001b[32m2025-08-08 06:22:51.530\u001b[0m | \u001b[1mINFO    \u001b[0m | \u001b[36mlibrary.fvm.solver\u001b[0m:\u001b[36mlog_callback_hyperbolic\u001b[0m:\u001b[36m43\u001b[0m - \u001b[1miteration: 173, time: 0.096393, dt: 0.000512, next write at time: 0.100000\u001b[0m\n",
      "\u001b[32m2025-08-08 06:22:51.549\u001b[0m | \u001b[1mINFO    \u001b[0m | \u001b[36mlibrary.fvm.solver\u001b[0m:\u001b[36mlog_callback_hyperbolic\u001b[0m:\u001b[36m43\u001b[0m - \u001b[1miteration: 174, time: 0.096906, dt: 0.000513, next write at time: 0.100000\u001b[0m\n",
      "\u001b[32m2025-08-08 06:22:51.587\u001b[0m | \u001b[1mINFO    \u001b[0m | \u001b[36mlibrary.fvm.solver\u001b[0m:\u001b[36mlog_callback_hyperbolic\u001b[0m:\u001b[36m43\u001b[0m - \u001b[1miteration: 175, time: 0.097420, dt: 0.000513, next write at time: 0.100000\u001b[0m\n",
      "\u001b[32m2025-08-08 06:22:51.605\u001b[0m | \u001b[1mINFO    \u001b[0m | \u001b[36mlibrary.fvm.solver\u001b[0m:\u001b[36mlog_callback_hyperbolic\u001b[0m:\u001b[36m43\u001b[0m - \u001b[1miteration: 176, time: 0.097932, dt: 0.000512, next write at time: 0.100000\u001b[0m\n",
      "\u001b[32m2025-08-08 06:22:51.626\u001b[0m | \u001b[1mINFO    \u001b[0m | \u001b[36mlibrary.fvm.solver\u001b[0m:\u001b[36mlog_callback_hyperbolic\u001b[0m:\u001b[36m43\u001b[0m - \u001b[1miteration: 177, time: 0.098444, dt: 0.000512, next write at time: 0.100000\u001b[0m\n",
      "\u001b[32m2025-08-08 06:22:51.645\u001b[0m | \u001b[1mINFO    \u001b[0m | \u001b[36mlibrary.fvm.solver\u001b[0m:\u001b[36mlog_callback_hyperbolic\u001b[0m:\u001b[36m43\u001b[0m - \u001b[1miteration: 178, time: 0.098956, dt: 0.000512, next write at time: 0.100000\u001b[0m\n",
      "\u001b[32m2025-08-08 06:22:51.663\u001b[0m | \u001b[1mINFO    \u001b[0m | \u001b[36mlibrary.fvm.solver\u001b[0m:\u001b[36mlog_callback_hyperbolic\u001b[0m:\u001b[36m43\u001b[0m - \u001b[1miteration: 179, time: 0.099468, dt: 0.000512, next write at time: 0.100000\u001b[0m\n",
      "\u001b[32m2025-08-08 06:22:51.681\u001b[0m | \u001b[1mINFO    \u001b[0m | \u001b[36mlibrary.fvm.solver\u001b[0m:\u001b[36mlog_callback_hyperbolic\u001b[0m:\u001b[36m43\u001b[0m - \u001b[1miteration: 180, time: 0.099981, dt: 0.000514, next write at time: 0.100000\u001b[0m\n",
      "\u001b[32m2025-08-08 06:22:51.703\u001b[0m | \u001b[1mINFO    \u001b[0m | \u001b[36mlibrary.fvm.solver\u001b[0m:\u001b[36mlog_callback_hyperbolic\u001b[0m:\u001b[36m43\u001b[0m - \u001b[1miteration: 181, time: 0.100495, dt: 0.000513, next write at time: 0.100000\u001b[0m\n",
      "\u001b[32m2025-08-08 06:22:51.733\u001b[0m | \u001b[1mINFO    \u001b[0m | \u001b[36mlibrary.fvm.solver\u001b[0m:\u001b[36mlog_callback_execution_time\u001b[0m:\u001b[36m55\u001b[0m - \u001b[1mFinished simulation with in 4.893 seconds\u001b[0m\n"
     ]
    }
   ],
   "source": [
    "Qnew, Qaux = solver.solve(mesh, model)"
   ]
  },
  {
   "cell_type": "markdown",
   "id": "491a9389",
   "metadata": {},
   "source": [
    "## Visualization"
   ]
  },
  {
   "cell_type": "code",
   "execution_count": 8,
   "id": "91f0af61",
   "metadata": {},
   "outputs": [
    {
     "name": "stderr",
     "output_type": "stream",
     "text": [
      "\u001b[32m2025-08-08 06:22:58.053\u001b[0m | \u001b[1mINFO    \u001b[0m | \u001b[36mlibrary.postprocessing.postprocessing\u001b[0m:\u001b[36mvtk_interpolate_3d\u001b[0m:\u001b[36m62\u001b[0m - \u001b[1mConverted snapshot 0/10\u001b[0m\n",
      "\u001b[32m2025-08-08 06:22:58.079\u001b[0m | \u001b[1mINFO    \u001b[0m | \u001b[36mlibrary.postprocessing.postprocessing\u001b[0m:\u001b[36mvtk_interpolate_3d\u001b[0m:\u001b[36m62\u001b[0m - \u001b[1mConverted snapshot 1/10\u001b[0m\n",
      "\u001b[32m2025-08-08 06:22:58.102\u001b[0m | \u001b[1mINFO    \u001b[0m | \u001b[36mlibrary.postprocessing.postprocessing\u001b[0m:\u001b[36mvtk_interpolate_3d\u001b[0m:\u001b[36m62\u001b[0m - \u001b[1mConverted snapshot 2/10\u001b[0m\n",
      "\u001b[32m2025-08-08 06:22:58.125\u001b[0m | \u001b[1mINFO    \u001b[0m | \u001b[36mlibrary.postprocessing.postprocessing\u001b[0m:\u001b[36mvtk_interpolate_3d\u001b[0m:\u001b[36m62\u001b[0m - \u001b[1mConverted snapshot 3/10\u001b[0m\n",
      "\u001b[32m2025-08-08 06:22:58.151\u001b[0m | \u001b[1mINFO    \u001b[0m | \u001b[36mlibrary.postprocessing.postprocessing\u001b[0m:\u001b[36mvtk_interpolate_3d\u001b[0m:\u001b[36m62\u001b[0m - \u001b[1mConverted snapshot 4/10\u001b[0m\n",
      "\u001b[32m2025-08-08 06:22:58.179\u001b[0m | \u001b[1mINFO    \u001b[0m | \u001b[36mlibrary.postprocessing.postprocessing\u001b[0m:\u001b[36mvtk_interpolate_3d\u001b[0m:\u001b[36m62\u001b[0m - \u001b[1mConverted snapshot 5/10\u001b[0m\n",
      "\u001b[32m2025-08-08 06:22:58.207\u001b[0m | \u001b[1mINFO    \u001b[0m | \u001b[36mlibrary.postprocessing.postprocessing\u001b[0m:\u001b[36mvtk_interpolate_3d\u001b[0m:\u001b[36m62\u001b[0m - \u001b[1mConverted snapshot 6/10\u001b[0m\n",
      "\u001b[32m2025-08-08 06:22:58.233\u001b[0m | \u001b[1mINFO    \u001b[0m | \u001b[36mlibrary.postprocessing.postprocessing\u001b[0m:\u001b[36mvtk_interpolate_3d\u001b[0m:\u001b[36m62\u001b[0m - \u001b[1mConverted snapshot 7/10\u001b[0m\n",
      "\u001b[32m2025-08-08 06:22:58.258\u001b[0m | \u001b[1mINFO    \u001b[0m | \u001b[36mlibrary.postprocessing.postprocessing\u001b[0m:\u001b[36mvtk_interpolate_3d\u001b[0m:\u001b[36m62\u001b[0m - \u001b[1mConverted snapshot 8/10\u001b[0m\n",
      "\u001b[32m2025-08-08 06:22:58.284\u001b[0m | \u001b[1mINFO    \u001b[0m | \u001b[36mlibrary.postprocessing.postprocessing\u001b[0m:\u001b[36mvtk_interpolate_3d\u001b[0m:\u001b[36m62\u001b[0m - \u001b[1mConverted snapshot 9/10\u001b[0m\n",
      "\u001b[32m2025-08-08 06:22:59.128\u001b[0m | \u001b[1mINFO    \u001b[0m | \u001b[36mlibrary.postprocessing.postprocessing\u001b[0m:\u001b[36mvtk_interpolate_3d\u001b[0m:\u001b[36m65\u001b[0m - \u001b[1mOutput is written to: /home/ingo/Git/Zoomy/outputs/junction_0/out_3d.h5/out_3d.*.vtk\u001b[0m\n"
     ]
    }
   ],
   "source": [
    "io.generate_vtk(os.path.join(settings.output.directory, f\"{settings.output.filename}.h5\"))\n",
    "postprocessing.vtk_interpolate_3d(model, settings, Nz=20, filename='out_3d')"
   ]
  },
  {
   "cell_type": "code",
   "execution_count": 9,
   "id": "9998344a",
   "metadata": {},
   "outputs": [
    {
     "data": {
      "application/vnd.jupyter.widget-view+json": {
       "model_id": "3d28911d68f645ff9f2d6be72031891a",
       "version_major": 2,
       "version_minor": 0
      },
      "text/plain": [
       "BokehModel(combine_events=True, render_bundle={'docs_json': {'27d40e6f-9809-46fc-aaa7-e2c427429dcd': {'version…"
      ]
     },
     "execution_count": 9,
     "metadata": {},
     "output_type": "execute_result"
    }
   ],
   "source": [
    "visu.pyvista_3d(settings.output.directory, scale=1.0)"
   ]
  },
  {
   "cell_type": "code",
   "execution_count": null,
   "id": "2cf15e84",
   "metadata": {},
   "outputs": [],
   "source": []
  }
 ],
 "metadata": {
  "kernelspec": {
   "display_name": "sms",
   "language": "python",
   "name": "python3"
  },
  "language_info": {
   "codemirror_mode": {
    "name": "ipython",
    "version": 3
   },
   "file_extension": ".py",
   "mimetype": "text/x-python",
   "name": "python",
   "nbconvert_exporter": "python",
   "pygments_lexer": "ipython3",
   "version": "3.12.9"
  },
  "widgets": {
   "application/vnd.jupyter.widget-state+json": {
    "state": {
     "58197ea96c8d4208a27b23118644168f": {
      "model_module": "@jupyter-widgets/base",
      "model_module_version": "2.0.0",
      "model_name": "LayoutModel",
      "state": {
       "_model_module": "@jupyter-widgets/base",
       "_model_module_version": "2.0.0",
       "_model_name": "LayoutModel",
       "_view_count": null,
       "_view_module": "@jupyter-widgets/base",
       "_view_module_version": "2.0.0",
       "_view_name": "LayoutView",
       "align_content": null,
       "align_items": null,
       "align_self": null,
       "border_bottom": null,
       "border_left": null,
       "border_right": null,
       "border_top": null,
       "bottom": null,
       "display": null,
       "flex": null,
       "flex_flow": null,
       "grid_area": null,
       "grid_auto_columns": null,
       "grid_auto_flow": null,
       "grid_auto_rows": null,
       "grid_column": null,
       "grid_gap": null,
       "grid_row": null,
       "grid_template_areas": null,
       "grid_template_columns": null,
       "grid_template_rows": null,
       "height": null,
       "justify_content": null,
       "justify_items": null,
       "left": null,
       "margin": null,
       "max_height": null,
       "max_width": null,
       "min_height": null,
       "min_width": null,
       "object_fit": null,
       "object_position": null,
       "order": null,
       "overflow": null,
       "padding": null,
       "right": null,
       "top": null,
       "visibility": null,
       "width": null
      }
     },
     "6aee9427c56642c3a758e75c7f50945d": {
      "model_module": "@jupyter-widgets/controls",
      "model_module_version": "2.0.0",
      "model_name": "HTMLStyleModel",
      "state": {
       "_model_module": "@jupyter-widgets/controls",
       "_model_module_version": "2.0.0",
       "_model_name": "HTMLStyleModel",
       "_view_count": null,
       "_view_module": "@jupyter-widgets/base",
       "_view_module_version": "2.0.0",
       "_view_name": "StyleView",
       "background": null,
       "description_width": "",
       "font_size": null,
       "text_color": null
      }
     },
     "8e858fdf20384196aa8989375078223c": {
      "model_module": "@jupyter-widgets/controls",
      "model_module_version": "2.0.0",
      "model_name": "HTMLModel",
      "state": {
       "_dom_classes": [],
       "_model_module": "@jupyter-widgets/controls",
       "_model_module_version": "2.0.0",
       "_model_name": "HTMLModel",
       "_view_count": null,
       "_view_module": "@jupyter-widgets/controls",
       "_view_module_version": "2.0.0",
       "_view_name": "HTMLView",
       "description": "",
       "description_allow_html": false,
       "layout": "IPY_MODEL_58197ea96c8d4208a27b23118644168f",
       "placeholder": "​",
       "style": "IPY_MODEL_6aee9427c56642c3a758e75c7f50945d",
       "tabbable": null,
       "tooltip": null,
       "value": "<iframe src=\"http://localhost:40521/index.html?ui=P_0x7fedf49b1c40_0&reconnect=auto\" class=\"pyvista\" style=\"width: 99%; height: 600px; border: 1px solid rgb(221,221,221);\"></iframe>"
      }
     }
    },
    "version_major": 2,
    "version_minor": 0
   }
  }
 },
 "nbformat": 4,
 "nbformat_minor": 5
}
