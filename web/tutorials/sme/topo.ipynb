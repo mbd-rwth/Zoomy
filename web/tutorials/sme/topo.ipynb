{
 "cells": [
  {
   "cell_type": "raw",
   "id": "906eac95",
   "metadata": {
    "vscode": {
     "languageId": "raw"
    }
   },
   "source": [
    "---\n",
    "title: \"Simple\"\n",
    "author: Ingo Steldermann\n",
    "date: 07/10/2025\n",
    "format:\n",
    "  html:\n",
    "    code-fold: false\n",
    "    code-tools: true\n",
    "    css: ../notebook.css\n",
    "---"
   ]
  },
  {
   "cell_type": "markdown",
   "id": "a8c5b74f",
   "metadata": {
    "vscode": {
     "languageId": "raw"
    }
   },
   "source": [
    "# Shallow Moments with topography (Simple)"
   ]
  },
  {
   "cell_type": "markdown",
   "id": "b7ce1821",
   "metadata": {
    "vscode": {
     "languageId": "raw"
    }
   },
   "source": [
    "## Imports"
   ]
  },
  {
   "cell_type": "code",
   "execution_count": 1,
   "id": "4f583c96",
   "metadata": {
    "tags": []
   },
   "outputs": [
    {
     "name": "stderr",
     "output_type": "stream",
     "text": [
      "\u001b[32m2025-08-30 13:04:07.259\u001b[0m | \u001b[33m\u001b[1mWARNING \u001b[0m | \u001b[36mlibrary.python.fvm.solver_jax\u001b[0m:\u001b[36m<module>\u001b[0m:\u001b[36m28\u001b[0m - \u001b[33m\u001b[1mNo module named 'precice'\u001b[0m\n"
     ]
    },
    {
     "data": {
      "text/html": [
       "<script type=\"esms-options\">{\"shimMode\": true}</script><style>*[data-root-id],\n",
       "*[data-root-id] > * {\n",
       "  box-sizing: border-box;\n",
       "  font-family: var(--jp-ui-font-family);\n",
       "  font-size: var(--jp-ui-font-size1);\n",
       "  color: var(--vscode-editor-foreground, var(--jp-ui-font-color1));\n",
       "}\n",
       "\n",
       "/* Override VSCode background color */\n",
       ".cell-output-ipywidget-background:has(\n",
       "  > .cell-output-ipywidget-background > .lm-Widget > *[data-root-id]\n",
       "),\n",
       ".cell-output-ipywidget-background:has(> .lm-Widget > *[data-root-id]) {\n",
       "  background-color: transparent !important;\n",
       "}\n",
       "</style>"
      ]
     },
     "metadata": {},
     "output_type": "display_data"
    },
    {
     "data": {
      "application/javascript": "(function(root) {\n  function now() {\n    return new Date();\n  }\n\n  const force = true;\n  const py_version = '3.7.3'.replace('rc', '-rc.').replace('.dev', '-dev.');\n  const reloading = false;\n  const Bokeh = root.Bokeh;\n\n  // Set a timeout for this load but only if we are not already initializing\n  if (typeof (root._bokeh_timeout) === \"undefined\" || (force || !root._bokeh_is_initializing)) {\n    root._bokeh_timeout = Date.now() + 5000;\n    root._bokeh_failed_load = false;\n  }\n\n  function run_callbacks() {\n    try {\n      root._bokeh_onload_callbacks.forEach(function(callback) {\n        if (callback != null)\n          callback();\n      });\n    } finally {\n      delete root._bokeh_onload_callbacks;\n    }\n    console.debug(\"Bokeh: all callbacks have finished\");\n  }\n\n  function load_libs(css_urls, js_urls, js_modules, js_exports, callback) {\n    if (css_urls == null) css_urls = [];\n    if (js_urls == null) js_urls = [];\n    if (js_modules == null) js_modules = [];\n    if (js_exports == null) js_exports = {};\n\n    root._bokeh_onload_callbacks.push(callback);\n\n    if (root._bokeh_is_loading > 0) {\n      // Don't load bokeh if it is still initializing\n      console.debug(\"Bokeh: BokehJS is being loaded, scheduling callback at\", now());\n      return null;\n    } else if (js_urls.length === 0 && js_modules.length === 0 && Object.keys(js_exports).length === 0) {\n      // There is nothing to load\n      run_callbacks();\n      return null;\n    }\n\n    function on_load() {\n      root._bokeh_is_loading--;\n      if (root._bokeh_is_loading === 0) {\n        console.debug(\"Bokeh: all BokehJS libraries/stylesheets loaded\");\n        run_callbacks()\n      }\n    }\n    window._bokeh_on_load = on_load\n\n    function on_error(e) {\n      const src_el = e.srcElement\n      console.error(\"failed to load \" + (src_el.href || src_el.src));\n    }\n\n    const skip = [];\n    if (window.requirejs) {\n      window.requirejs.config({'packages': {}, 'paths': {'vtk': 'https://cdn.jsdelivr.net/npm/vtk.js@30.1.0/vtk'}, 'shim': {'vtk': {'exports': 'vtk'}}});\n      require([\"vtk\"], function() {\n        on_load()\n      })\n      root._bokeh_is_loading = css_urls.length + 1;\n    } else {\n      root._bokeh_is_loading = css_urls.length + js_urls.length + js_modules.length + Object.keys(js_exports).length;\n    }\n\n    const existing_stylesheets = []\n    const links = document.getElementsByTagName('link')\n    for (let i = 0; i < links.length; i++) {\n      const link = links[i]\n      if (link.href != null) {\n        existing_stylesheets.push(link.href)\n      }\n    }\n    for (let i = 0; i < css_urls.length; i++) {\n      const url = css_urls[i];\n      const escaped = encodeURI(url)\n      if (existing_stylesheets.indexOf(escaped) !== -1) {\n        on_load()\n        continue;\n      }\n      const element = document.createElement(\"link\");\n      element.onload = on_load;\n      element.onerror = on_error;\n      element.rel = \"stylesheet\";\n      element.type = \"text/css\";\n      element.href = url;\n      console.debug(\"Bokeh: injecting link tag for BokehJS stylesheet: \", url);\n      document.body.appendChild(element);\n    }    if (((window.vtk !== undefined) && (!(window.vtk instanceof HTMLElement))) || window.requirejs) {\n      var urls = ['https://cdn.holoviz.org/panel/1.7.5/dist/bundled/abstractvtkplot/vtk.js@30.1.0/vtk.js'];\n      for (var i = 0; i < urls.length; i++) {\n        skip.push(encodeURI(urls[i]))\n      }\n    }    var existing_scripts = []\n    const scripts = document.getElementsByTagName('script')\n    for (let i = 0; i < scripts.length; i++) {\n      var script = scripts[i]\n      if (script.src != null) {\n        existing_scripts.push(script.src)\n      }\n    }\n    for (let i = 0; i < js_urls.length; i++) {\n      const url = js_urls[i];\n      const escaped = encodeURI(url)\n      if (skip.indexOf(escaped) !== -1 || existing_scripts.indexOf(escaped) !== -1) {\n        if (!window.requirejs) {\n          on_load();\n        }\n        continue;\n      }\n      const element = document.createElement('script');\n      element.onload = on_load;\n      element.onerror = on_error;\n      element.async = false;\n      element.src = url;\n      console.debug(\"Bokeh: injecting script tag for BokehJS library: \", url);\n      document.head.appendChild(element);\n    }\n    for (let i = 0; i < js_modules.length; i++) {\n      const url = js_modules[i];\n      const escaped = encodeURI(url)\n      if (skip.indexOf(escaped) !== -1 || existing_scripts.indexOf(escaped) !== -1) {\n        if (!window.requirejs) {\n          on_load();\n        }\n        continue;\n      }\n      var element = document.createElement('script');\n      element.onload = on_load;\n      element.onerror = on_error;\n      element.async = false;\n      element.src = url;\n      element.type = \"module\";\n      console.debug(\"Bokeh: injecting script tag for BokehJS library: \", url);\n      document.head.appendChild(element);\n    }\n    for (const name in js_exports) {\n      const url = js_exports[name];\n      const escaped = encodeURI(url)\n      if (skip.indexOf(escaped) >= 0 || root[name] != null) {\n        if (!window.requirejs) {\n          on_load();\n        }\n        continue;\n      }\n      var element = document.createElement('script');\n      element.onerror = on_error;\n      element.async = false;\n      element.type = \"module\";\n      console.debug(\"Bokeh: injecting script tag for BokehJS library: \", url);\n      element.textContent = `\n      import ${name} from \"${url}\"\n      window.${name} = ${name}\n      window._bokeh_on_load()\n      `\n      document.head.appendChild(element);\n    }\n    if (!js_urls.length && !js_modules.length) {\n      on_load()\n    }\n  };\n\n  function inject_raw_css(css) {\n    const element = document.createElement(\"style\");\n    element.appendChild(document.createTextNode(css));\n    document.body.appendChild(element);\n  }\n\n  const js_urls = [\"https://cdn.holoviz.org/panel/1.7.5/dist/bundled/reactiveesm/es-module-shims@^1.10.0/dist/es-module-shims.min.js\", \"https://cdn.holoviz.org/panel/1.7.5/dist/bundled/abstractvtkplot/vtk.js@30.1.0/vtk.js\", \"https://cdn.bokeh.org/bokeh/release/bokeh-3.7.3.min.js\", \"https://cdn.bokeh.org/bokeh/release/bokeh-gl-3.7.3.min.js\", \"https://cdn.bokeh.org/bokeh/release/bokeh-widgets-3.7.3.min.js\", \"https://cdn.bokeh.org/bokeh/release/bokeh-tables-3.7.3.min.js\", \"https://cdn.holoviz.org/panel/1.7.5/dist/panel.min.js\"];\n  const js_modules = [];\n  const js_exports = {};\n  const css_urls = [];\n  const inline_js = [    function(Bokeh) {\n      Bokeh.set_log_level(\"info\");\n    },\nfunction(Bokeh) {} // ensure no trailing comma for IE\n  ];\n\n  function run_inline_js() {\n    if ((root.Bokeh !== undefined) || (force === true)) {\n      for (let i = 0; i < inline_js.length; i++) {\n        try {\n          inline_js[i].call(root, root.Bokeh);\n        } catch(e) {\n          if (!reloading) {\n            throw e;\n          }\n        }\n      }\n      // Cache old bokeh versions\n      if (Bokeh != undefined && !reloading) {\n        var NewBokeh = root.Bokeh;\n        if (Bokeh.versions === undefined) {\n          Bokeh.versions = new Map();\n        }\n        if (NewBokeh.version !== Bokeh.version) {\n          Bokeh.versions.set(NewBokeh.version, NewBokeh)\n        }\n        root.Bokeh = Bokeh;\n      }\n    } else if (Date.now() < root._bokeh_timeout) {\n      setTimeout(run_inline_js, 100);\n    } else if (!root._bokeh_failed_load) {\n      console.log(\"Bokeh: BokehJS failed to load within specified timeout.\");\n      root._bokeh_failed_load = true;\n    }\n    root._bokeh_is_initializing = false\n  }\n\n  function load_or_wait() {\n    // Implement a backoff loop that tries to ensure we do not load multiple\n    // versions of Bokeh and its dependencies at the same time.\n    // In recent versions we use the root._bokeh_is_initializing flag\n    // to determine whether there is an ongoing attempt to initialize\n    // bokeh, however for backward compatibility we also try to ensure\n    // that we do not start loading a newer (Panel>=1.0 and Bokeh>3) version\n    // before older versions are fully initialized.\n    if (root._bokeh_is_initializing && Date.now() > root._bokeh_timeout) {\n      // If the timeout and bokeh was not successfully loaded we reset\n      // everything and try loading again\n      root._bokeh_timeout = Date.now() + 5000;\n      root._bokeh_is_initializing = false;\n      root._bokeh_onload_callbacks = undefined;\n      root._bokeh_is_loading = 0\n      console.log(\"Bokeh: BokehJS was loaded multiple times but one version failed to initialize.\");\n      load_or_wait();\n    } else if (root._bokeh_is_initializing || (typeof root._bokeh_is_initializing === \"undefined\" && root._bokeh_onload_callbacks !== undefined)) {\n      setTimeout(load_or_wait, 100);\n    } else {\n      root._bokeh_is_initializing = true\n      root._bokeh_onload_callbacks = []\n      const bokeh_loaded = root.Bokeh != null && (root.Bokeh.version === py_version || (root.Bokeh.versions !== undefined && root.Bokeh.versions.has(py_version)));\n      if (!reloading && !bokeh_loaded) {\n        if (root.Bokeh) {\n          root.Bokeh = undefined;\n        }\n        console.debug(\"Bokeh: BokehJS not loaded, scheduling load and callback at\", now());\n      }\n      load_libs(css_urls, js_urls, js_modules, js_exports, function() {\n        console.debug(\"Bokeh: BokehJS plotting callback run at\", now());\n        run_inline_js();\n      });\n    }\n  }\n  // Give older versions of the autoload script a head-start to ensure\n  // they initialize before we start loading newer version.\n  setTimeout(load_or_wait, 100)\n}(window));",
      "application/vnd.holoviews_load.v0+json": ""
     },
     "metadata": {},
     "output_type": "display_data"
    },
    {
     "data": {
      "application/javascript": "\nif ((window.PyViz === undefined) || (window.PyViz instanceof HTMLElement)) {\n  window.PyViz = {comms: {}, comm_status:{}, kernels:{}, receivers: {}, plot_index: []}\n}\n\n\n    function JupyterCommManager() {\n    }\n\n    JupyterCommManager.prototype.register_target = function(plot_id, comm_id, msg_handler) {\n      if (window.comm_manager || ((window.Jupyter !== undefined) && (Jupyter.notebook.kernel != null))) {\n        var comm_manager = window.comm_manager || Jupyter.notebook.kernel.comm_manager;\n        comm_manager.register_target(comm_id, function(comm) {\n          comm.on_msg(msg_handler);\n        });\n      } else if ((plot_id in window.PyViz.kernels) && (window.PyViz.kernels[plot_id])) {\n        window.PyViz.kernels[plot_id].registerCommTarget(comm_id, function(comm) {\n          comm.onMsg = msg_handler;\n        });\n      } else if (typeof google != 'undefined' && google.colab.kernel != null) {\n        google.colab.kernel.comms.registerTarget(comm_id, (comm) => {\n          var messages = comm.messages[Symbol.asyncIterator]();\n          function processIteratorResult(result) {\n            var message = result.value;\n            var content = {data: message.data, comm_id};\n            var buffers = []\n            for (var buffer of message.buffers || []) {\n              buffers.push(new DataView(buffer))\n            }\n            var metadata = message.metadata || {};\n            var msg = {content, buffers, metadata}\n            msg_handler(msg);\n            return messages.next().then(processIteratorResult);\n          }\n          return messages.next().then(processIteratorResult);\n        })\n      }\n    }\n\n    JupyterCommManager.prototype.get_client_comm = function(plot_id, comm_id, msg_handler) {\n      if (comm_id in window.PyViz.comms) {\n        return window.PyViz.comms[comm_id];\n      } else if (window.comm_manager || ((window.Jupyter !== undefined) && (Jupyter.notebook.kernel != null))) {\n        var comm_manager = window.comm_manager || Jupyter.notebook.kernel.comm_manager;\n        var comm = comm_manager.new_comm(comm_id, {}, {}, {}, comm_id);\n        if (msg_handler) {\n          comm.on_msg(msg_handler);\n        }\n      } else if ((plot_id in window.PyViz.kernels) && (window.PyViz.kernels[plot_id])) {\n        var comm = window.PyViz.kernels[plot_id].connectToComm(comm_id);\n        let retries = 0;\n        const open = () => {\n          if (comm.active) {\n            comm.open();\n          } else if (retries > 3) {\n            console.warn('Comm target never activated')\n          } else {\n            retries += 1\n            setTimeout(open, 500)\n          }\n        }\n        if (comm.active) {\n          comm.open();\n        } else {\n          setTimeout(open, 500)\n        }\n        if (msg_handler) {\n          comm.onMsg = msg_handler;\n        }\n      } else if (typeof google != 'undefined' && google.colab.kernel != null) {\n        var comm_promise = google.colab.kernel.comms.open(comm_id)\n        comm_promise.then((comm) => {\n          window.PyViz.comms[comm_id] = comm;\n          if (msg_handler) {\n            var messages = comm.messages[Symbol.asyncIterator]();\n            function processIteratorResult(result) {\n              var message = result.value;\n              var content = {data: message.data};\n              var metadata = message.metadata || {comm_id};\n              var msg = {content, metadata}\n              msg_handler(msg);\n              return messages.next().then(processIteratorResult);\n            }\n            return messages.next().then(processIteratorResult);\n          }\n        })\n        var sendClosure = (data, metadata, buffers, disposeOnDone) => {\n          return comm_promise.then((comm) => {\n            comm.send(data, metadata, buffers, disposeOnDone);\n          });\n        };\n        var comm = {\n          send: sendClosure\n        };\n      }\n      window.PyViz.comms[comm_id] = comm;\n      return comm;\n    }\n    window.PyViz.comm_manager = new JupyterCommManager();\n    \n\n\nvar JS_MIME_TYPE = 'application/javascript';\nvar HTML_MIME_TYPE = 'text/html';\nvar EXEC_MIME_TYPE = 'application/vnd.holoviews_exec.v0+json';\nvar CLASS_NAME = 'output';\n\n/**\n * Render data to the DOM node\n */\nfunction render(props, node) {\n  var div = document.createElement(\"div\");\n  var script = document.createElement(\"script\");\n  node.appendChild(div);\n  node.appendChild(script);\n}\n\n/**\n * Handle when a new output is added\n */\nfunction handle_add_output(event, handle) {\n  var output_area = handle.output_area;\n  var output = handle.output;\n  if ((output.data == undefined) || (!output.data.hasOwnProperty(EXEC_MIME_TYPE))) {\n    return\n  }\n  var id = output.metadata[EXEC_MIME_TYPE][\"id\"];\n  var toinsert = output_area.element.find(\".\" + CLASS_NAME.split(' ')[0]);\n  if (id !== undefined) {\n    var nchildren = toinsert.length;\n    var html_node = toinsert[nchildren-1].children[0];\n    html_node.innerHTML = output.data[HTML_MIME_TYPE];\n    var scripts = [];\n    var nodelist = html_node.querySelectorAll(\"script\");\n    for (var i in nodelist) {\n      if (nodelist.hasOwnProperty(i)) {\n        scripts.push(nodelist[i])\n      }\n    }\n\n    scripts.forEach( function (oldScript) {\n      var newScript = document.createElement(\"script\");\n      var attrs = [];\n      var nodemap = oldScript.attributes;\n      for (var j in nodemap) {\n        if (nodemap.hasOwnProperty(j)) {\n          attrs.push(nodemap[j])\n        }\n      }\n      attrs.forEach(function(attr) { newScript.setAttribute(attr.name, attr.value) });\n      newScript.appendChild(document.createTextNode(oldScript.innerHTML));\n      oldScript.parentNode.replaceChild(newScript, oldScript);\n    });\n    if (JS_MIME_TYPE in output.data) {\n      toinsert[nchildren-1].children[1].textContent = output.data[JS_MIME_TYPE];\n    }\n    output_area._hv_plot_id = id;\n    if ((window.Bokeh !== undefined) && (id in Bokeh.index)) {\n      window.PyViz.plot_index[id] = Bokeh.index[id];\n    } else {\n      window.PyViz.plot_index[id] = null;\n    }\n  } else if (output.metadata[EXEC_MIME_TYPE][\"server_id\"] !== undefined) {\n    var bk_div = document.createElement(\"div\");\n    bk_div.innerHTML = output.data[HTML_MIME_TYPE];\n    var script_attrs = bk_div.children[0].attributes;\n    for (var i = 0; i < script_attrs.length; i++) {\n      toinsert[toinsert.length - 1].childNodes[1].setAttribute(script_attrs[i].name, script_attrs[i].value);\n    }\n    // store reference to server id on output_area\n    output_area._bokeh_server_id = output.metadata[EXEC_MIME_TYPE][\"server_id\"];\n  }\n}\n\n/**\n * Handle when an output is cleared or removed\n */\nfunction handle_clear_output(event, handle) {\n  var id = handle.cell.output_area._hv_plot_id;\n  var server_id = handle.cell.output_area._bokeh_server_id;\n  if (((id === undefined) || !(id in PyViz.plot_index)) && (server_id !== undefined)) { return; }\n  var comm = window.PyViz.comm_manager.get_client_comm(\"hv-extension-comm\", \"hv-extension-comm\", function () {});\n  if (server_id !== null) {\n    comm.send({event_type: 'server_delete', 'id': server_id});\n    return;\n  } else if (comm !== null) {\n    comm.send({event_type: 'delete', 'id': id});\n  }\n  delete PyViz.plot_index[id];\n  if ((window.Bokeh !== undefined) & (id in window.Bokeh.index)) {\n    var doc = window.Bokeh.index[id].model.document\n    doc.clear();\n    const i = window.Bokeh.documents.indexOf(doc);\n    if (i > -1) {\n      window.Bokeh.documents.splice(i, 1);\n    }\n  }\n}\n\n/**\n * Handle kernel restart event\n */\nfunction handle_kernel_cleanup(event, handle) {\n  delete PyViz.comms[\"hv-extension-comm\"];\n  window.PyViz.plot_index = {}\n}\n\n/**\n * Handle update_display_data messages\n */\nfunction handle_update_output(event, handle) {\n  handle_clear_output(event, {cell: {output_area: handle.output_area}})\n  handle_add_output(event, handle)\n}\n\nfunction register_renderer(events, OutputArea) {\n  function append_mime(data, metadata, element) {\n    // create a DOM node to render to\n    var toinsert = this.create_output_subarea(\n    metadata,\n    CLASS_NAME,\n    EXEC_MIME_TYPE\n    );\n    this.keyboard_manager.register_events(toinsert);\n    // Render to node\n    var props = {data: data, metadata: metadata[EXEC_MIME_TYPE]};\n    render(props, toinsert[0]);\n    element.append(toinsert);\n    return toinsert\n  }\n\n  events.on('output_added.OutputArea', handle_add_output);\n  events.on('output_updated.OutputArea', handle_update_output);\n  events.on('clear_output.CodeCell', handle_clear_output);\n  events.on('delete.Cell', handle_clear_output);\n  events.on('kernel_ready.Kernel', handle_kernel_cleanup);\n\n  OutputArea.prototype.register_mime_type(EXEC_MIME_TYPE, append_mime, {\n    safe: true,\n    index: 0\n  });\n}\n\nif (window.Jupyter !== undefined) {\n  try {\n    var events = require('base/js/events');\n    var OutputArea = require('notebook/js/outputarea').OutputArea;\n    if (OutputArea.prototype.mime_types().indexOf(EXEC_MIME_TYPE) == -1) {\n      register_renderer(events, OutputArea);\n    }\n  } catch(err) {\n  }\n}\n",
      "application/vnd.holoviews_load.v0+json": ""
     },
     "metadata": {},
     "output_type": "display_data"
    },
    {
     "data": {
      "application/vnd.holoviews_exec.v0+json": "",
      "text/html": [
       "<div id='d551487c-617e-4bd7-8f28-ef376596fc4a'>\n",
       "  <div id=\"b8050658-27bc-446f-8091-9f8b285f1530\" data-root-id=\"d551487c-617e-4bd7-8f28-ef376596fc4a\" style=\"display: contents;\"></div>\n",
       "</div>\n",
       "<script type=\"application/javascript\">(function(root) {\n",
       "  var docs_json = {\"334806c6-6758-4f07-a35b-90af1fe28228\":{\"version\":\"3.7.3\",\"title\":\"Bokeh Application\",\"roots\":[{\"type\":\"object\",\"name\":\"panel.models.browser.BrowserInfo\",\"id\":\"d551487c-617e-4bd7-8f28-ef376596fc4a\"},{\"type\":\"object\",\"name\":\"panel.models.comm_manager.CommManager\",\"id\":\"de849e8e-1d9a-417b-8ce3-906874931922\",\"attributes\":{\"plot_id\":\"d551487c-617e-4bd7-8f28-ef376596fc4a\",\"comm_id\":\"7034e8c80a0445d6af545b6bdbd14804\",\"client_comm_id\":\"32fead70e4a44f61bdb930a0cd5670cc\"}}],\"defs\":[{\"type\":\"model\",\"name\":\"ReactiveHTML1\"},{\"type\":\"model\",\"name\":\"FlexBox1\",\"properties\":[{\"name\":\"align_content\",\"kind\":\"Any\",\"default\":\"flex-start\"},{\"name\":\"align_items\",\"kind\":\"Any\",\"default\":\"flex-start\"},{\"name\":\"flex_direction\",\"kind\":\"Any\",\"default\":\"row\"},{\"name\":\"flex_wrap\",\"kind\":\"Any\",\"default\":\"wrap\"},{\"name\":\"gap\",\"kind\":\"Any\",\"default\":\"\"},{\"name\":\"justify_content\",\"kind\":\"Any\",\"default\":\"flex-start\"}]},{\"type\":\"model\",\"name\":\"FloatPanel1\",\"properties\":[{\"name\":\"config\",\"kind\":\"Any\",\"default\":{\"type\":\"map\"}},{\"name\":\"contained\",\"kind\":\"Any\",\"default\":true},{\"name\":\"position\",\"kind\":\"Any\",\"default\":\"right-top\"},{\"name\":\"offsetx\",\"kind\":\"Any\",\"default\":null},{\"name\":\"offsety\",\"kind\":\"Any\",\"default\":null},{\"name\":\"theme\",\"kind\":\"Any\",\"default\":\"primary\"},{\"name\":\"status\",\"kind\":\"Any\",\"default\":\"normalized\"}]},{\"type\":\"model\",\"name\":\"GridStack1\",\"properties\":[{\"name\":\"ncols\",\"kind\":\"Any\",\"default\":null},{\"name\":\"nrows\",\"kind\":\"Any\",\"default\":null},{\"name\":\"allow_resize\",\"kind\":\"Any\",\"default\":true},{\"name\":\"allow_drag\",\"kind\":\"Any\",\"default\":true},{\"name\":\"state\",\"kind\":\"Any\",\"default\":[]}]},{\"type\":\"model\",\"name\":\"drag1\",\"properties\":[{\"name\":\"slider_width\",\"kind\":\"Any\",\"default\":5},{\"name\":\"slider_color\",\"kind\":\"Any\",\"default\":\"black\"},{\"name\":\"value\",\"kind\":\"Any\",\"default\":50}]},{\"type\":\"model\",\"name\":\"click1\",\"properties\":[{\"name\":\"terminal_output\",\"kind\":\"Any\",\"default\":\"\"},{\"name\":\"debug_name\",\"kind\":\"Any\",\"default\":\"\"},{\"name\":\"clears\",\"kind\":\"Any\",\"default\":0}]},{\"type\":\"model\",\"name\":\"ReactiveESM1\",\"properties\":[{\"name\":\"esm_constants\",\"kind\":\"Any\",\"default\":{\"type\":\"map\"}}]},{\"type\":\"model\",\"name\":\"JSComponent1\",\"properties\":[{\"name\":\"esm_constants\",\"kind\":\"Any\",\"default\":{\"type\":\"map\"}}]},{\"type\":\"model\",\"name\":\"ReactComponent1\",\"properties\":[{\"name\":\"use_shadow_dom\",\"kind\":\"Any\",\"default\":true},{\"name\":\"esm_constants\",\"kind\":\"Any\",\"default\":{\"type\":\"map\"}}]},{\"type\":\"model\",\"name\":\"AnyWidgetComponent1\",\"properties\":[{\"name\":\"use_shadow_dom\",\"kind\":\"Any\",\"default\":true},{\"name\":\"esm_constants\",\"kind\":\"Any\",\"default\":{\"type\":\"map\"}}]},{\"type\":\"model\",\"name\":\"FastWrapper1\",\"properties\":[{\"name\":\"object\",\"kind\":\"Any\",\"default\":null},{\"name\":\"style\",\"kind\":\"Any\",\"default\":null}]},{\"type\":\"model\",\"name\":\"NotificationArea1\",\"properties\":[{\"name\":\"js_events\",\"kind\":\"Any\",\"default\":{\"type\":\"map\"}},{\"name\":\"max_notifications\",\"kind\":\"Any\",\"default\":5},{\"name\":\"notifications\",\"kind\":\"Any\",\"default\":[]},{\"name\":\"position\",\"kind\":\"Any\",\"default\":\"bottom-right\"},{\"name\":\"_clear\",\"kind\":\"Any\",\"default\":0},{\"name\":\"types\",\"kind\":\"Any\",\"default\":[{\"type\":\"map\",\"entries\":[[\"type\",\"warning\"],[\"background\",\"#ffc107\"],[\"icon\",{\"type\":\"map\",\"entries\":[[\"className\",\"fas fa-exclamation-triangle\"],[\"tagName\",\"i\"],[\"color\",\"white\"]]}]]},{\"type\":\"map\",\"entries\":[[\"type\",\"info\"],[\"background\",\"#007bff\"],[\"icon\",{\"type\":\"map\",\"entries\":[[\"className\",\"fas fa-info-circle\"],[\"tagName\",\"i\"],[\"color\",\"white\"]]}]]}]}]},{\"type\":\"model\",\"name\":\"Notification\",\"properties\":[{\"name\":\"background\",\"kind\":\"Any\",\"default\":null},{\"name\":\"duration\",\"kind\":\"Any\",\"default\":3000},{\"name\":\"icon\",\"kind\":\"Any\",\"default\":null},{\"name\":\"message\",\"kind\":\"Any\",\"default\":\"\"},{\"name\":\"notification_type\",\"kind\":\"Any\",\"default\":null},{\"name\":\"_rendered\",\"kind\":\"Any\",\"default\":false},{\"name\":\"_destroyed\",\"kind\":\"Any\",\"default\":false}]},{\"type\":\"model\",\"name\":\"TemplateActions1\",\"properties\":[{\"name\":\"open_modal\",\"kind\":\"Any\",\"default\":0},{\"name\":\"close_modal\",\"kind\":\"Any\",\"default\":0}]},{\"type\":\"model\",\"name\":\"BootstrapTemplateActions1\",\"properties\":[{\"name\":\"open_modal\",\"kind\":\"Any\",\"default\":0},{\"name\":\"close_modal\",\"kind\":\"Any\",\"default\":0}]},{\"type\":\"model\",\"name\":\"TemplateEditor1\",\"properties\":[{\"name\":\"layout\",\"kind\":\"Any\",\"default\":[]}]},{\"type\":\"model\",\"name\":\"MaterialTemplateActions1\",\"properties\":[{\"name\":\"open_modal\",\"kind\":\"Any\",\"default\":0},{\"name\":\"close_modal\",\"kind\":\"Any\",\"default\":0}]},{\"type\":\"model\",\"name\":\"request_value1\",\"properties\":[{\"name\":\"fill\",\"kind\":\"Any\",\"default\":\"none\"},{\"name\":\"_synced\",\"kind\":\"Any\",\"default\":null},{\"name\":\"_request_sync\",\"kind\":\"Any\",\"default\":0}]}]}};\n",
       "  var render_items = [{\"docid\":\"334806c6-6758-4f07-a35b-90af1fe28228\",\"roots\":{\"d551487c-617e-4bd7-8f28-ef376596fc4a\":\"b8050658-27bc-446f-8091-9f8b285f1530\"},\"root_ids\":[\"d551487c-617e-4bd7-8f28-ef376596fc4a\"]}];\n",
       "  var docs = Object.values(docs_json)\n",
       "  if (!docs) {\n",
       "    return\n",
       "  }\n",
       "  const py_version = docs[0].version.replace('rc', '-rc.').replace('.dev', '-dev.')\n",
       "  async function embed_document(root) {\n",
       "    var Bokeh = get_bokeh(root)\n",
       "    await Bokeh.embed.embed_items_notebook(docs_json, render_items);\n",
       "    for (const render_item of render_items) {\n",
       "      for (const root_id of render_item.root_ids) {\n",
       "\tconst id_el = document.getElementById(root_id)\n",
       "\tif (id_el.children.length && id_el.children[0].hasAttribute('data-root-id')) {\n",
       "\t  const root_el = id_el.children[0]\n",
       "\t  root_el.id = root_el.id + '-rendered'\n",
       "\t  for (const child of root_el.children) {\n",
       "            // Ensure JupyterLab does not capture keyboard shortcuts\n",
       "            // see: https://jupyterlab.readthedocs.io/en/4.1.x/extension/notebook.html#keyboard-interaction-model\n",
       "\t    child.setAttribute('data-lm-suppress-shortcuts', 'true')\n",
       "\t  }\n",
       "\t}\n",
       "      }\n",
       "    }\n",
       "  }\n",
       "  function get_bokeh(root) {\n",
       "    if (root.Bokeh === undefined) {\n",
       "      return null\n",
       "    } else if (root.Bokeh.version !== py_version) {\n",
       "      if (root.Bokeh.versions === undefined || !root.Bokeh.versions.has(py_version)) {\n",
       "\treturn null\n",
       "      }\n",
       "      return root.Bokeh.versions.get(py_version);\n",
       "    } else if (root.Bokeh.version === py_version) {\n",
       "      return root.Bokeh\n",
       "    }\n",
       "    return null\n",
       "  }\n",
       "  function is_loaded(root) {\n",
       "    var Bokeh = get_bokeh(root)\n",
       "    return (Bokeh != null && Bokeh.Panel !== undefined && ( root.vtk !== undefined) && ( root.vtk !== undefined))\n",
       "  }\n",
       "  if (is_loaded(root)) {\n",
       "    embed_document(root);\n",
       "  } else {\n",
       "    var attempts = 0;\n",
       "    var timer = setInterval(function(root) {\n",
       "      if (is_loaded(root)) {\n",
       "        clearInterval(timer);\n",
       "        embed_document(root);\n",
       "      } else if (document.readyState == \"complete\") {\n",
       "        attempts++;\n",
       "        if (attempts > 200) {\n",
       "          clearInterval(timer);\n",
       "\t  var Bokeh = get_bokeh(root)\n",
       "\t  if (Bokeh == null || Bokeh.Panel == null) {\n",
       "            console.warn(\"Panel: ERROR: Unable to run Panel code because Bokeh or Panel library is missing\");\n",
       "\t  } else {\n",
       "\t    console.warn(\"Panel: WARNING: Attempting to render but not all required libraries could be resolved.\")\n",
       "\t    embed_document(root)\n",
       "\t  }\n",
       "        }\n",
       "      }\n",
       "    }, 25, root)\n",
       "  }\n",
       "})(window);</script>"
      ]
     },
     "metadata": {
      "application/vnd.holoviews_exec.v0+json": {
       "id": "d551487c-617e-4bd7-8f28-ef376596fc4a"
      }
     },
     "output_type": "display_data"
    }
   ],
   "source": [
    "# | code-fold: true\n",
    "# | code-summary: \"Load packages\"\n",
    "# | output: false\n",
    "\n",
    "import os\n",
    "import numpy as np\n",
    "import jax\n",
    "from jax import numpy as jnp\n",
    "import pytest\n",
    "from types import SimpleNamespace\n",
    "from sympy import cos, pi, Piecewise, Matrix\n",
    "\n",
    "from library.python.fvm.solver_jax import HyperbolicSolver, Settings\n",
    "from library.python.fvm.ode import RK1\n",
    "import library.python.fvm.reconstruction as recon\n",
    "import library.python.fvm.timestepping as timestepping\n",
    "import library.python.fvm.flux as flux\n",
    "import library.python.fvm.nonconservative_flux as nc_flux\n",
    "from library.model.boundary_conditions import BoundaryCondition\n",
    "from library.model.models.basisfunctions import Basisfunction, Legendre_shifted\n",
    "from library.model.models.basismatrices import Basismatrices\n",
    "from library.python.misc.misc import Zstruct\n",
    "\n",
    "from library.model.models.shallow_moments_topo import ShallowMomentsTopo, ShallowMomentsTopoNumerical\n",
    "from library.model.models.shallow_moments import ShallowMoments2d\n",
    "\n",
    "import library.model.initial_conditions as IC\n",
    "import library.model.boundary_conditions as BC\n",
    "import library.python.misc.io as io\n",
    "from library.python.mesh.mesh import compute_derivatives\n",
    "from tests.pdesoft import plots_paper\n",
    "import library.postprocessing.visualization as visu\n",
    "\n",
    "\n",
    "import library.python.mesh.mesh as petscMesh\n",
    "import library.postprocessing.postprocessing as postprocessing\n",
    "from library.python.mesh.mesh import convert_mesh_to_jax\n",
    "import argparse"
   ]
  },
  {
   "cell_type": "markdown",
   "id": "96d5e564",
   "metadata": {},
   "source": [
    "## Model"
   ]
  },
  {
   "cell_type": "code",
   "execution_count": 2,
   "id": "ad87e829-022c-4468-a8b1-55f0965a2e07",
   "metadata": {
    "tags": []
   },
   "outputs": [
    {
     "name": "stderr",
     "output_type": "stream",
     "text": [
      "\u001b[32m2025-08-30 13:04:10.281\u001b[0m | \u001b[33m\u001b[1mWARNING \u001b[0m | \u001b[36mlibrary.python.misc.misc\u001b[0m:\u001b[36m__init__\u001b[0m:\u001b[36m146\u001b[0m - \u001b[33m\u001b[1mNo 'clean_directory' attribute found in output Zstruct. Default: False\u001b[0m\n"
     ]
    }
   ],
   "source": [
    "level = 4\n",
    "offset = 1+level\n",
    "n_fields = 3 + 2 * level\n",
    "settings = Settings(\n",
    "    name=\"SME\",\n",
    "    output=Zstruct(\n",
    "        directory=f\"outputs/topo_{level}\", filename=\"SME\", snapshots=30\n",
    "    ),\n",
    ")"
   ]
  },
  {
   "cell_type": "code",
   "execution_count": null,
   "id": "fd25e4e2-4653-441c-a82b-4d4c2e4c013b",
   "metadata": {
    "tags": []
   },
   "outputs": [
    {
     "name": "stdout",
     "output_type": "stream",
     "text": [
      "\n"
     ]
    }
   ],
   "source": [
    "inflow_dict = { \n",
    "    0: lambda t, x, dx, q, qaux, p, n: q[0],\n",
    "    1: lambda t, x, dx, q, qaux, p, n: Piecewise((0.1, t < 0.2),(q[1], True)),\n",
    "    2: lambda t, x, dx, q, qaux, p, n: Piecewise((0.01, t < 0.2),(-q[2], True)),\n",
    "                }\n",
    "inflow_dict.update({2+i: lambda t, x, dx, q, qaux, p, n: 0.0 for i in range(1, level+1)})\n",
    "inflow_dict.update({2+offset+i: lambda t, x, dx, q, qaux, p, n: 0.0 for i in range(level+1)})\n",
    "\n",
    "bcs = BC.BoundaryConditions(\n",
    "    [\n",
    "        BC.Lambda(physical_tag=\"inflow\", prescribe_fields=inflow_dict),\n",
    "        BC.Wall(physical_tag=\"wall\", momentum_field_indices=[[2+i, 2+offset+i] for i in range(level+1)]),\n",
    "    ]\n",
    ")\n",
    "\n",
    "def custom_ic(x):\n",
    "    Q = np.zeros(4 + 2 * level, dtype=float)\n",
    "    Q[0] = x[0] * (0.01)\n",
    "    Q[1] = np.where(x[0] < 0.35, 0.01, 0.)\n",
    "    return Q\n",
    "\n",
    "# def custom_ic_aux(x):\n",
    "#     Q = custom_ic(x)\n",
    "#     h = Q[1]\n",
    "#     # Qaux = np.zeros(1 + 2 + 2 * level, dtype=float)\n",
    "#     Qaux = np.zeros(1, dtype=float)\n",
    "#     Qaux[0] = np.where(h > 0, 1/h, 0.0)\n",
    "#     return Qaux\n",
    "\n",
    "ic = IC.UserFunction(custom_ic)\n",
    "# ic_aux = IC.UserFunction(custom_ic_aux)\n",
    "\n",
    "class MyModel(ShallowMomentsTopoNumerical):\n",
    "    def source(self):\n",
    "        out = Matrix([0 for i in range(self.n_variables)])\n",
    "        out += self.newtonian()\n",
    "        out += self.slip_mod()\n",
    "        return self.substitute_precomputed_denominator(out, self.variables[1], self.aux_variables.hinv)\n",
    "        \n",
    "\n",
    "model = MyModel(\n",
    "    level=level,\n",
    "    boundary_conditions=bcs,\n",
    "    initial_conditions=ic,\n",
    "    # aux_initial_conditions=ic_aux,\n",
    "    parameters=Zstruct(nu=0.000001, lamda=1/1000., c_slipmod=1/30),\n",
    "    aux_variables = ['hinv'] + [f'dalpha_{i}_dx' for i in range(level+1)] + [f'dbeta_{i}_dy' for i in range(level+1)],\n",
    "    # aux_variables = ['hinv'],\n",
    "    \n",
    ")\n",
    "\n",
    "main_dir = os.getenv(\"ZOOMY_DIR\")\n",
    "mesh = petscMesh.Mesh.from_gmsh(\n",
    "    os.path.join(main_dir, \"meshes/channel_junction/mesh_2d_coarse.msh\")\n",
    "    # os.path.join(main_dir, \"meshes/channel_junction/mesh_2d_fine.msh\")\n",
    ")\n",
    "\n",
    "mesh = convert_mesh_to_jax(mesh)\n",
    "class SMESolver(HyperbolicSolver):\n",
    "    def update_q(self, Q, Qaux, mesh, model, parameters):\n",
    "        h = Q[1]\n",
    "        h = jnp.where(h > 0, h, 0.0)\n",
    "        eps = 1e-6\n",
    "        denom = jnp.where(h**2 > eps, h**2, eps)\n",
    "        factor = (h**2) / denom\n",
    "        \n",
    "        Q = Q.at[1].set(h)\n",
    "        Q = Q.at[2:].multiply(factor)\n",
    "        return Q\n",
    "    \n",
    "    def update_qaux(self, Q, Qaux, Qold, Qauxold, mesh, model, parameters, time, dt):\n",
    "        level = (model.n_variables-2)//2 -1\n",
    "        offset = 1+level\n",
    "        ## h with wet/dry fix\n",
    "        h = Q[1]\n",
    "        # hinv = 1/h\n",
    "\n",
    "        ### This does not work for some reason\n",
    "        # h = jnp.where(h > 0, h, 0.0)\n",
    "        # eps = 1e-6\n",
    "        # denom = jnp.sqrt(h**4 + jnp.where(h**4 > eps, h**4, eps))\n",
    "        # hinv = (jnp.sqrt(2.0) * h) / denom\n",
    "        # Qaux = Qaux.at[0].set(hinv)\n",
    "        \n",
    "        h = jnp.where(h > 0, h, 0.0)\n",
    "        eps = 1e-6\n",
    "        denom = jnp.where(h**2 > eps, h**2, eps)\n",
    "        hinv = (h) / denom\n",
    "        Qaux = Qaux.at[0].set(hinv)\n",
    "        \n",
    "        idxs = jnp.arange(level+1)\n",
    "\n",
    "        # derivatives of alpha and beta for 3d interpolation\n",
    "        # dalphaidx for each i\n",
    "        dalphaidxs = jax.vmap(\n",
    "            lambda i: compute_derivatives(Q[2+i] * hinv, mesh,\n",
    "                                        derivatives_multi_index=[[0, 0]])[:, 0]\n",
    "        )(idxs)\n",
    "\n",
    "        # dbetaidy for each i\n",
    "        dbetaidys = jax.vmap(\n",
    "            lambda i: compute_derivatives(Q[2+offset+i] * hinv, mesh,\n",
    "                                        derivatives_multi_index=[[0, 1]])[:, 0]\n",
    "        )(idxs)\n",
    "\n",
    "        # scatter results into Qaux\n",
    "        Qaux = Qaux.at[1:1+level+1].set(dalphaidxs)\n",
    "        Qaux = Qaux.at[1+offset:1+offset+level+1].set(dbetaidys)\n",
    "        \n",
    "        return Qaux\n",
    "# solver = SMESolver(settings=settings, time_end=0.000035, compute_dt=timestepping.constant(dt =0.0000001))\n",
    "\n",
    "solver = SMESolver(settings=settings, time_end=0.533, compute_dt=timestepping.adaptive(CFL=0.45))"
   ]
  },
  {
   "cell_type": "code",
   "execution_count": 4,
   "id": "1445a5fb",
   "metadata": {},
   "outputs": [
    {
     "data": {
      "image/png": "[encoded data removed]",
      "text/latex": [
       "$\\displaystyle \\left[\\begin{matrix}0\\\\0\\\\0\\\\- \\frac{3.0 c_{slipmod} \\left(hinv q_{2} + hinv q_{3} + hinv q_{4} + hinv q_{5} + hinv q_{6}\\right)}{\\lambda \\rho} - 12 hinv^{2} \\nu q_{3} - 12 hinv^{2} \\nu q_{5}\\\\- \\frac{5.0 c_{slipmod} \\left(hinv q_{2} + hinv q_{3} + hinv q_{4} + hinv q_{5} + hinv q_{6}\\right)}{\\lambda \\rho} - 60 hinv^{2} \\nu q_{4} - 60 hinv^{2} \\nu q_{6}\\\\- \\frac{7.0 c_{slipmod} \\left(hinv q_{2} + hinv q_{3} + hinv q_{4} + hinv q_{5} + hinv q_{6}\\right)}{\\lambda \\rho} - 28 hinv^{2} \\nu q_{3} - 168 hinv^{2} \\nu q_{5}\\\\- \\frac{9.0 c_{slipmod} \\left(hinv q_{2} + hinv q_{3} + hinv q_{4} + hinv q_{5} + hinv q_{6}\\right)}{\\lambda \\rho} - 108 hinv^{2} \\nu q_{4} - 360 hinv^{2} \\nu q_{6}\\\\0\\\\- \\frac{3.0 c_{slipmod} \\left(hinv q_{10} + hinv q_{11} + hinv q_{7} + hinv q_{8} + hinv q_{9}\\right)}{\\lambda \\rho} - 12 hinv^{2} \\nu q_{10} - 12 hinv^{2} \\nu q_{8}\\\\- \\frac{5.0 c_{slipmod} \\left(hinv q_{10} + hinv q_{11} + hinv q_{7} + hinv q_{8} + hinv q_{9}\\right)}{\\lambda \\rho} - 60 hinv^{2} \\nu q_{11} - 60 hinv^{2} \\nu q_{9}\\\\- \\frac{7.0 c_{slipmod} \\left(hinv q_{10} + hinv q_{11} + hinv q_{7} + hinv q_{8} + hinv q_{9}\\right)}{\\lambda \\rho} - 168 hinv^{2} \\nu q_{10} - 28 hinv^{2} \\nu q_{8}\\\\- \\frac{9.0 c_{slipmod} \\left(hinv q_{10} + hinv q_{11} + hinv q_{7} + hinv q_{8} + hinv q_{9}\\right)}{\\lambda \\rho} - 360 hinv^{2} \\nu q_{11} - 108 hinv^{2} \\nu q_{9}\\end{matrix}\\right]$"
      ],
      "text/plain": [
       "⎡                                                  0                           ↪\n",
       "⎢                                                                              ↪\n",
       "⎢                                                  0                           ↪\n",
       "⎢                                                                              ↪\n",
       "⎢                                                  0                           ↪\n",
       "⎢                                                                              ↪\n",
       "⎢    3.0⋅c_slipmod⋅(hinv⋅q₂ + hinv⋅q₃ + hinv⋅q₄ + hinv⋅q₅ + hinv⋅q₆)           ↪\n",
       "⎢  - ─────────────────────────────────────────────────────────────── - 12⋅hinv ↪\n",
       "⎢                                  λ⋅ρ                                         ↪\n",
       "⎢                                                                              ↪\n",
       "⎢    5.0⋅c_slipmod⋅(hinv⋅q₂ + hinv⋅q₃ + hinv⋅q₄ + hinv⋅q₅ + hinv⋅q₆)           ↪\n",
       "⎢  - ─────────────────────────────────────────────────────────────── - 60⋅hinv ↪\n",
       "⎢                                  λ⋅ρ                                         ↪\n",
       "⎢                                                                              ↪\n",
       "⎢    7.0⋅c_slipmod⋅(hinv⋅q₂ + hinv⋅q₃ + hinv⋅q₄ + hinv⋅q₅ + hinv⋅q₆)           ↪\n",
       "⎢  - ─────────────────────────────────────────────────────────────── - 28⋅hinv ↪\n",
       "⎢                                  λ⋅ρ                                         ↪\n",
       "⎢                                                                              ↪\n",
       "⎢   9.0⋅c_slipmod⋅(hinv⋅q₂ + hinv⋅q₃ + hinv⋅q₄ + hinv⋅q₅ + hinv⋅q₆)            ↪\n",
       "⎢ - ─────────────────────────────────────────────────────────────── - 108⋅hinv ↪\n",
       "⎢                                 λ⋅ρ                                          ↪\n",
       "⎢                                                                              ↪\n",
       "⎢                                                  0                           ↪\n",
       "⎢                                                                              ↪\n",
       "⎢   3.0⋅c_slipmod⋅(hinv⋅q₁₀ + hinv⋅q₁₁ + hinv⋅q₇ + hinv⋅q₈ + hinv⋅q₉)          ↪\n",
       "⎢ - ───────────────────────────────────────────────────────────────── - 12⋅hin ↪\n",
       "⎢                                  λ⋅ρ                                         ↪\n",
       "⎢                                                                              ↪\n",
       "⎢   5.0⋅c_slipmod⋅(hinv⋅q₁₀ + hinv⋅q₁₁ + hinv⋅q₇ + hinv⋅q₈ + hinv⋅q₉)          ↪\n",
       "⎢ - ───────────────────────────────────────────────────────────────── - 60⋅hin ↪\n",
       "⎢                                  λ⋅ρ                                         ↪\n",
       "⎢                                                                              ↪\n",
       "⎢  7.0⋅c_slipmod⋅(hinv⋅q₁₀ + hinv⋅q₁₁ + hinv⋅q₇ + hinv⋅q₈ + hinv⋅q₉)           ↪\n",
       "⎢- ───────────────────────────────────────────────────────────────── - 168⋅hin ↪\n",
       "⎢                                 λ⋅ρ                                          ↪\n",
       "⎢                                                                              ↪\n",
       "⎢  9.0⋅c_slipmod⋅(hinv⋅q₁₀ + hinv⋅q₁₁ + hinv⋅q₇ + hinv⋅q₈ + hinv⋅q₉)           ↪\n",
       "⎢- ───────────────────────────────────────────────────────────────── - 360⋅hin ↪\n",
       "⎣                                 λ⋅ρ                                          ↪\n",
       "\n",
       "↪                          ⎤\n",
       "↪                          ⎥\n",
       "↪                          ⎥\n",
       "↪                          ⎥\n",
       "↪                          ⎥\n",
       "↪                          ⎥\n",
       "↪ 2               2        ⎥\n",
       "↪  ⋅ν⋅q₃ - 12⋅hinv ⋅ν⋅q₅   ⎥\n",
       "↪                          ⎥\n",
       "↪                          ⎥\n",
       "↪ 2               2        ⎥\n",
       "↪  ⋅ν⋅q₄ - 60⋅hinv ⋅ν⋅q₆   ⎥\n",
       "↪                          ⎥\n",
       "↪                          ⎥\n",
       "↪ 2                2       ⎥\n",
       "↪  ⋅ν⋅q₃ - 168⋅hinv ⋅ν⋅q₅  ⎥\n",
       "↪                          ⎥\n",
       "↪                          ⎥\n",
       "↪ 2                2       ⎥\n",
       "↪  ⋅ν⋅q₄ - 360⋅hinv ⋅ν⋅q₆  ⎥\n",
       "↪                          ⎥\n",
       "↪                          ⎥\n",
       "↪                          ⎥\n",
       "↪                          ⎥\n",
       "↪  2                2      ⎥\n",
       "↪ v ⋅ν⋅q₁₀ - 12⋅hinv ⋅ν⋅q₈ ⎥\n",
       "↪                          ⎥\n",
       "↪                          ⎥\n",
       "↪  2                2      ⎥\n",
       "↪ v ⋅ν⋅q₁₁ - 60⋅hinv ⋅ν⋅q₉ ⎥\n",
       "↪                          ⎥\n",
       "↪                          ⎥\n",
       "↪  2                2      ⎥\n",
       "↪ v ⋅ν⋅q₁₀ - 28⋅hinv ⋅ν⋅q₈ ⎥\n",
       "↪                          ⎥\n",
       "↪                          ⎥\n",
       "↪  2                 2     ⎥\n",
       "↪ v ⋅ν⋅q₁₁ - 108⋅hinv ⋅ν⋅q₉⎥\n",
       "↪                          ⎦"
      ]
     },
     "execution_count": 4,
     "metadata": {},
     "output_type": "execute_result"
    }
   ],
   "source": [
    "model.source()"
   ]
  },
  {
   "cell_type": "markdown",
   "id": "4bb1cf64",
   "metadata": {},
   "source": [
    "## Solve"
   ]
  },
  {
   "cell_type": "code",
   "execution_count": null,
   "id": "34211aa2-8f9a-4e1d-bb55-1af32668f51e",
   "metadata": {},
   "outputs": [
    {
     "name": "stderr",
     "output_type": "stream",
     "text": [
      "\u001b[32m2025-08-30 12:59:54.836\u001b[0m | \u001b[1mINFO    \u001b[0m | \u001b[36mlibrary.python.fvm.solver_jax\u001b[0m:\u001b[36mlog_callback_hyperbolic\u001b[0m:\u001b[36m44\u001b[0m - \u001b[1miteration: 10, time: 0.011645, dt: 0.000860, next write at time: 0.044828\u001b[0m\n",
      "\u001b[32m2025-08-30 12:59:57.354\u001b[0m | \u001b[1mINFO    \u001b[0m | \u001b[36mlibrary.python.fvm.solver_jax\u001b[0m:\u001b[36mlog_callback_hyperbolic\u001b[0m:\u001b[36m44\u001b[0m - \u001b[1miteration: 20, time: 0.019959, dt: 0.000810, next write at time: 0.044828\u001b[0m\n",
      "\u001b[32m2025-08-30 12:59:59.785\u001b[0m | \u001b[1mINFO    \u001b[0m | \u001b[36mlibrary.python.fvm.solver_jax\u001b[0m:\u001b[36mlog_callback_hyperbolic\u001b[0m:\u001b[36m44\u001b[0m - \u001b[1miteration: 30, time: 0.027914, dt: 0.000784, next write at time: 0.044828\u001b[0m\n",
      "\u001b[32m2025-08-30 13:00:02.192\u001b[0m | \u001b[1mINFO    \u001b[0m | \u001b[36mlibrary.python.fvm.solver_jax\u001b[0m:\u001b[36mlog_callback_hyperbolic\u001b[0m:\u001b[36m44\u001b[0m - \u001b[1miteration: 40, time: 0.035686, dt: 0.000771, next write at time: 0.044828\u001b[0m\n",
      "\u001b[32m2025-08-30 13:00:04.576\u001b[0m | \u001b[1mINFO    \u001b[0m | \u001b[36mlibrary.python.fvm.solver_jax\u001b[0m:\u001b[36mlog_callback_hyperbolic\u001b[0m:\u001b[36m44\u001b[0m - \u001b[1miteration: 50, time: 0.043362, dt: 0.000764, next write at time: 0.044828\u001b[0m\n",
      "\u001b[32m2025-08-30 13:00:07.119\u001b[0m | \u001b[1mINFO    \u001b[0m | \u001b[36mlibrary.python.fvm.solver_jax\u001b[0m:\u001b[36mlog_callback_hyperbolic\u001b[0m:\u001b[36m44\u001b[0m - \u001b[1miteration: 60, time: 0.050987, dt: 0.000761, next write at time: 0.089655\u001b[0m\n",
      "\u001b[32m2025-08-30 13:00:09.573\u001b[0m | \u001b[1mINFO    \u001b[0m | \u001b[36mlibrary.python.fvm.solver_jax\u001b[0m:\u001b[36mlog_callback_hyperbolic\u001b[0m:\u001b[36m44\u001b[0m - \u001b[1miteration: 70, time: 0.058582, dt: 0.000758, next write at time: 0.089655\u001b[0m\n",
      "\u001b[32m2025-08-30 13:00:11.953\u001b[0m | \u001b[1mINFO    \u001b[0m | \u001b[36mlibrary.python.fvm.solver_jax\u001b[0m:\u001b[36mlog_callback_hyperbolic\u001b[0m:\u001b[36m44\u001b[0m - \u001b[1miteration: 80, time: 0.066159, dt: 0.000757, next write at time: 0.089655\u001b[0m\n",
      "\u001b[32m2025-08-30 13:00:14.369\u001b[0m | \u001b[1mINFO    \u001b[0m | \u001b[36mlibrary.python.fvm.solver_jax\u001b[0m:\u001b[36mlog_callback_hyperbolic\u001b[0m:\u001b[36m44\u001b[0m - \u001b[1miteration: 90, time: 0.073725, dt: 0.000756, next write at time: 0.089655\u001b[0m\n",
      "\u001b[32m2025-08-30 13:00:16.763\u001b[0m | \u001b[1mINFO    \u001b[0m | \u001b[36mlibrary.python.fvm.solver_jax\u001b[0m:\u001b[36mlog_callback_hyperbolic\u001b[0m:\u001b[36m44\u001b[0m - \u001b[1miteration: 100, time: 0.081282, dt: 0.000755, next write at time: 0.089655\u001b[0m\n",
      "\u001b[32m2025-08-30 13:00:19.149\u001b[0m | \u001b[1mINFO    \u001b[0m | \u001b[36mlibrary.python.fvm.solver_jax\u001b[0m:\u001b[36mlog_callback_hyperbolic\u001b[0m:\u001b[36m44\u001b[0m - \u001b[1miteration: 110, time: 0.088832, dt: 0.000755, next write at time: 0.089655\u001b[0m\n",
      "\u001b[32m2025-08-30 13:00:21.657\u001b[0m | \u001b[1mINFO    \u001b[0m | \u001b[36mlibrary.python.fvm.solver_jax\u001b[0m:\u001b[36mlog_callback_hyperbolic\u001b[0m:\u001b[36m44\u001b[0m - \u001b[1miteration: 120, time: 0.096377, dt: 0.000754, next write at time: 0.134483\u001b[0m\n",
      "\u001b[32m2025-08-30 13:00:24.125\u001b[0m | \u001b[1mINFO    \u001b[0m | \u001b[36mlibrary.python.fvm.solver_jax\u001b[0m:\u001b[36mlog_callback_hyperbolic\u001b[0m:\u001b[36m44\u001b[0m - \u001b[1miteration: 130, time: 0.103917, dt: 0.000754, next write at time: 0.134483\u001b[0m\n",
      "\u001b[32m2025-08-30 13:00:26.576\u001b[0m | \u001b[1mINFO    \u001b[0m | \u001b[36mlibrary.python.fvm.solver_jax\u001b[0m:\u001b[36mlog_callback_hyperbolic\u001b[0m:\u001b[36m44\u001b[0m - \u001b[1miteration: 140, time: 0.111447, dt: 0.000753, next write at time: 0.134483\u001b[0m\n",
      "\u001b[32m2025-08-30 13:00:28.945\u001b[0m | \u001b[1mINFO    \u001b[0m | \u001b[36mlibrary.python.fvm.solver_jax\u001b[0m:\u001b[36mlog_callback_hyperbolic\u001b[0m:\u001b[36m44\u001b[0m - \u001b[1miteration: 150, time: 0.118966, dt: 0.000752, next write at time: 0.134483\u001b[0m\n",
      "\u001b[32m2025-08-30 13:00:31.325\u001b[0m | \u001b[1mINFO    \u001b[0m | \u001b[36mlibrary.python.fvm.solver_jax\u001b[0m:\u001b[36mlog_callback_hyperbolic\u001b[0m:\u001b[36m44\u001b[0m - \u001b[1miteration: 160, time: 0.126477, dt: 0.000751, next write at time: 0.134483\u001b[0m\n",
      "\u001b[32m2025-08-30 13:00:33.597\u001b[0m | \u001b[1mINFO    \u001b[0m | \u001b[36mlibrary.python.fvm.solver_jax\u001b[0m:\u001b[36mlog_callback_hyperbolic\u001b[0m:\u001b[36m44\u001b[0m - \u001b[1miteration: 170, time: 0.133979, dt: 0.000750, next write at time: 0.134483\u001b[0m\n",
      "\u001b[32m2025-08-30 13:00:35.997\u001b[0m | \u001b[1mINFO    \u001b[0m | \u001b[36mlibrary.python.fvm.solver_jax\u001b[0m:\u001b[36mlog_callback_hyperbolic\u001b[0m:\u001b[36m44\u001b[0m - \u001b[1miteration: 180, time: 0.141474, dt: 0.000749, next write at time: 0.179310\u001b[0m\n",
      "\u001b[32m2025-08-30 13:00:38.293\u001b[0m | \u001b[1mINFO    \u001b[0m | \u001b[36mlibrary.python.fvm.solver_jax\u001b[0m:\u001b[36mlog_callback_hyperbolic\u001b[0m:\u001b[36m44\u001b[0m - \u001b[1miteration: 190, time: 0.148963, dt: 0.000749, next write at time: 0.179310\u001b[0m\n",
      "\u001b[32m2025-08-30 13:00:40.578\u001b[0m | \u001b[1mINFO    \u001b[0m | \u001b[36mlibrary.python.fvm.solver_jax\u001b[0m:\u001b[36mlog_callback_hyperbolic\u001b[0m:\u001b[36m44\u001b[0m - \u001b[1miteration: 200, time: 0.156446, dt: 0.000748, next write at time: 0.179310\u001b[0m\n",
      "\u001b[32m2025-08-30 13:00:42.877\u001b[0m | \u001b[1mINFO    \u001b[0m | \u001b[36mlibrary.python.fvm.solver_jax\u001b[0m:\u001b[36mlog_callback_hyperbolic\u001b[0m:\u001b[36m44\u001b[0m - \u001b[1miteration: 210, time: 0.163926, dt: 0.000748, next write at time: 0.179310\u001b[0m\n",
      "\u001b[32m2025-08-30 13:00:45.257\u001b[0m | \u001b[1mINFO    \u001b[0m | \u001b[36mlibrary.python.fvm.solver_jax\u001b[0m:\u001b[36mlog_callback_hyperbolic\u001b[0m:\u001b[36m44\u001b[0m - \u001b[1miteration: 220, time: 0.171402, dt: 0.000747, next write at time: 0.179310\u001b[0m\n",
      "\u001b[32m2025-08-30 13:00:47.575\u001b[0m | \u001b[1mINFO    \u001b[0m | \u001b[36mlibrary.python.fvm.solver_jax\u001b[0m:\u001b[36mlog_callback_hyperbolic\u001b[0m:\u001b[36m44\u001b[0m - \u001b[1miteration: 230, time: 0.178876, dt: 0.000747, next write at time: 0.179310\u001b[0m\n",
      "\u001b[32m2025-08-30 13:00:50.018\u001b[0m | \u001b[1mINFO    \u001b[0m | \u001b[36mlibrary.python.fvm.solver_jax\u001b[0m:\u001b[36mlog_callback_hyperbolic\u001b[0m:\u001b[36m44\u001b[0m - \u001b[1miteration: 240, time: 0.186348, dt: 0.000747, next write at time: 0.224138\u001b[0m\n",
      "\u001b[32m2025-08-30 13:00:52.424\u001b[0m | \u001b[1mINFO    \u001b[0m | \u001b[36mlibrary.python.fvm.solver_jax\u001b[0m:\u001b[36mlog_callback_hyperbolic\u001b[0m:\u001b[36m44\u001b[0m - \u001b[1miteration: 250, time: 0.193820, dt: 0.000747, next write at time: 0.224138\u001b[0m\n",
      "\u001b[32m2025-08-30 13:00:54.706\u001b[0m | \u001b[1mINFO    \u001b[0m | \u001b[36mlibrary.python.fvm.solver_jax\u001b[0m:\u001b[36mlog_callback_hyperbolic\u001b[0m:\u001b[36m44\u001b[0m - \u001b[1miteration: 260, time: 0.201292, dt: 0.000747, next write at time: 0.224138\u001b[0m\n",
      "\u001b[32m2025-08-30 13:00:57.161\u001b[0m | \u001b[1mINFO    \u001b[0m | \u001b[36mlibrary.python.fvm.solver_jax\u001b[0m:\u001b[36mlog_callback_hyperbolic\u001b[0m:\u001b[36m44\u001b[0m - \u001b[1miteration: 270, time: 0.208766, dt: 0.000747, next write at time: 0.224138\u001b[0m\n",
      "\u001b[32m2025-08-30 13:00:59.609\u001b[0m | \u001b[1mINFO    \u001b[0m | \u001b[36mlibrary.python.fvm.solver_jax\u001b[0m:\u001b[36mlog_callback_hyperbolic\u001b[0m:\u001b[36m44\u001b[0m - \u001b[1miteration: 280, time: 0.216241, dt: 0.000748, next write at time: 0.224138\u001b[0m\n",
      "\u001b[32m2025-08-30 13:01:02.165\u001b[0m | \u001b[1mINFO    \u001b[0m | \u001b[36mlibrary.python.fvm.solver_jax\u001b[0m:\u001b[36mlog_callback_hyperbolic\u001b[0m:\u001b[36m44\u001b[0m - \u001b[1miteration: 290, time: 0.223718, dt: 0.000748, next write at time: 0.224138\u001b[0m\n",
      "\u001b[32m2025-08-30 13:01:04.714\u001b[0m | \u001b[1mINFO    \u001b[0m | \u001b[36mlibrary.python.fvm.solver_jax\u001b[0m:\u001b[36mlog_callback_hyperbolic\u001b[0m:\u001b[36m44\u001b[0m - \u001b[1miteration: 300, time: 0.231197, dt: 0.000748, next write at time: 0.268966\u001b[0m\n",
      "\u001b[32m2025-08-30 13:01:07.157\u001b[0m | \u001b[1mINFO    \u001b[0m | \u001b[36mlibrary.python.fvm.solver_jax\u001b[0m:\u001b[36mlog_callback_hyperbolic\u001b[0m:\u001b[36m44\u001b[0m - \u001b[1miteration: 310, time: 0.238679, dt: 0.000748, next write at time: 0.268966\u001b[0m\n",
      "\u001b[32m2025-08-30 13:01:09.589\u001b[0m | \u001b[1mINFO    \u001b[0m | \u001b[36mlibrary.python.fvm.solver_jax\u001b[0m:\u001b[36mlog_callback_hyperbolic\u001b[0m:\u001b[36m44\u001b[0m - \u001b[1miteration: 320, time: 0.246163, dt: 0.000749, next write at time: 0.268966\u001b[0m\n",
      "\u001b[32m2025-08-30 13:01:12.054\u001b[0m | \u001b[1mINFO    \u001b[0m | \u001b[36mlibrary.python.fvm.solver_jax\u001b[0m:\u001b[36mlog_callback_hyperbolic\u001b[0m:\u001b[36m44\u001b[0m - \u001b[1miteration: 330, time: 0.253650, dt: 0.000749, next write at time: 0.268966\u001b[0m\n",
      "\u001b[32m2025-08-30 13:01:14.592\u001b[0m | \u001b[1mINFO    \u001b[0m | \u001b[36mlibrary.python.fvm.solver_jax\u001b[0m:\u001b[36mlog_callback_hyperbolic\u001b[0m:\u001b[36m44\u001b[0m - \u001b[1miteration: 340, time: 0.261138, dt: 0.000749, next write at time: 0.268966\u001b[0m\n",
      "\u001b[32m2025-08-30 13:01:16.816\u001b[0m | \u001b[1mINFO    \u001b[0m | \u001b[36mlibrary.python.fvm.solver_jax\u001b[0m:\u001b[36mlog_callback_hyperbolic\u001b[0m:\u001b[36m44\u001b[0m - \u001b[1miteration: 350, time: 0.268628, dt: 0.000749, next write at time: 0.268966\u001b[0m\n",
      "\u001b[32m2025-08-30 13:01:19.358\u001b[0m | \u001b[1mINFO    \u001b[0m | \u001b[36mlibrary.python.fvm.solver_jax\u001b[0m:\u001b[36mlog_callback_hyperbolic\u001b[0m:\u001b[36m44\u001b[0m - \u001b[1miteration: 360, time: 0.276116, dt: 0.000747, next write at time: 0.313793\u001b[0m\n",
      "\u001b[32m2025-08-30 13:01:21.690\u001b[0m | \u001b[1mINFO    \u001b[0m | \u001b[36mlibrary.python.fvm.solver_jax\u001b[0m:\u001b[36mlog_callback_hyperbolic\u001b[0m:\u001b[36m44\u001b[0m - \u001b[1miteration: 370, time: 0.283551, dt: 0.000740, next write at time: 0.313793\u001b[0m\n",
      "\u001b[32m2025-08-30 13:01:24.003\u001b[0m | \u001b[1mINFO    \u001b[0m | \u001b[36mlibrary.python.fvm.solver_jax\u001b[0m:\u001b[36mlog_callback_hyperbolic\u001b[0m:\u001b[36m44\u001b[0m - \u001b[1miteration: 380, time: 0.290914, dt: 0.000734, next write at time: 0.313793\u001b[0m\n",
      "\u001b[32m2025-08-30 13:01:26.455\u001b[0m | \u001b[1mINFO    \u001b[0m | \u001b[36mlibrary.python.fvm.solver_jax\u001b[0m:\u001b[36mlog_callback_hyperbolic\u001b[0m:\u001b[36m44\u001b[0m - \u001b[1miteration: 390, time: 0.298188, dt: 0.000724, next write at time: 0.313793\u001b[0m\n",
      "\u001b[32m2025-08-30 13:01:28.931\u001b[0m | \u001b[1mINFO    \u001b[0m | \u001b[36mlibrary.python.fvm.solver_jax\u001b[0m:\u001b[36mlog_callback_hyperbolic\u001b[0m:\u001b[36m44\u001b[0m - \u001b[1miteration: 400, time: 0.305413, dt: 0.000720, next write at time: 0.313793\u001b[0m\n",
      "\u001b[32m2025-08-30 13:01:31.373\u001b[0m | \u001b[1mINFO    \u001b[0m | \u001b[36mlibrary.python.fvm.solver_jax\u001b[0m:\u001b[36mlog_callback_hyperbolic\u001b[0m:\u001b[36m44\u001b[0m - \u001b[1miteration: 410, time: 0.312581, dt: 0.000715, next write at time: 0.313793\u001b[0m\n",
      "\u001b[32m2025-08-30 13:01:33.859\u001b[0m | \u001b[1mINFO    \u001b[0m | \u001b[36mlibrary.python.fvm.solver_jax\u001b[0m:\u001b[36mlog_callback_hyperbolic\u001b[0m:\u001b[36m44\u001b[0m - \u001b[1miteration: 420, time: 0.319686, dt: 0.000707, next write at time: 0.358621\u001b[0m\n",
      "\u001b[32m2025-08-30 13:01:36.276\u001b[0m | \u001b[1mINFO    \u001b[0m | \u001b[36mlibrary.python.fvm.solver_jax\u001b[0m:\u001b[36mlog_callback_hyperbolic\u001b[0m:\u001b[36m44\u001b[0m - \u001b[1miteration: 430, time: 0.326727, dt: 0.000701, next write at time: 0.358621\u001b[0m\n",
      "\u001b[32m2025-08-30 13:01:38.729\u001b[0m | \u001b[1mINFO    \u001b[0m | \u001b[36mlibrary.python.fvm.solver_jax\u001b[0m:\u001b[36mlog_callback_hyperbolic\u001b[0m:\u001b[36m44\u001b[0m - \u001b[1miteration: 440, time: 0.333707, dt: 0.000695, next write at time: 0.358621\u001b[0m\n",
      "\u001b[32m2025-08-30 13:01:41.220\u001b[0m | \u001b[1mINFO    \u001b[0m | \u001b[36mlibrary.python.fvm.solver_jax\u001b[0m:\u001b[36mlog_callback_hyperbolic\u001b[0m:\u001b[36m44\u001b[0m - \u001b[1miteration: 450, time: 0.340629, dt: 0.000690, next write at time: 0.358621\u001b[0m\n",
      "\u001b[32m2025-08-30 13:01:43.727\u001b[0m | \u001b[1mINFO    \u001b[0m | \u001b[36mlibrary.python.fvm.solver_jax\u001b[0m:\u001b[36mlog_callback_hyperbolic\u001b[0m:\u001b[36m44\u001b[0m - \u001b[1miteration: 460, time: 0.347503, dt: 0.000686, next write at time: 0.358621\u001b[0m\n",
      "\u001b[32m2025-08-30 13:01:46.163\u001b[0m | \u001b[1mINFO    \u001b[0m | \u001b[36mlibrary.python.fvm.solver_jax\u001b[0m:\u001b[36mlog_callback_hyperbolic\u001b[0m:\u001b[36m44\u001b[0m - \u001b[1miteration: 470, time: 0.354334, dt: 0.000681, next write at time: 0.358621\u001b[0m\n",
      "\u001b[32m2025-08-30 13:01:48.670\u001b[0m | \u001b[1mINFO    \u001b[0m | \u001b[36mlibrary.python.fvm.solver_jax\u001b[0m:\u001b[36mlog_callback_hyperbolic\u001b[0m:\u001b[36m44\u001b[0m - \u001b[1miteration: 480, time: 0.361126, dt: 0.000678, next write at time: 0.403448\u001b[0m\n",
      "\u001b[32m2025-08-30 13:01:51.194\u001b[0m | \u001b[1mINFO    \u001b[0m | \u001b[36mlibrary.python.fvm.solver_jax\u001b[0m:\u001b[36mlog_callback_hyperbolic\u001b[0m:\u001b[36m44\u001b[0m - \u001b[1miteration: 490, time: 0.367886, dt: 0.000675, next write at time: 0.403448\u001b[0m\n",
      "\u001b[32m2025-08-30 13:01:53.652\u001b[0m | \u001b[1mINFO    \u001b[0m | \u001b[36mlibrary.python.fvm.solver_jax\u001b[0m:\u001b[36mlog_callback_hyperbolic\u001b[0m:\u001b[36m44\u001b[0m - \u001b[1miteration: 500, time: 0.374618, dt: 0.000672, next write at time: 0.403448\u001b[0m\n",
      "\u001b[32m2025-08-30 13:01:56.117\u001b[0m | \u001b[1mINFO    \u001b[0m | \u001b[36mlibrary.python.fvm.solver_jax\u001b[0m:\u001b[36mlog_callback_hyperbolic\u001b[0m:\u001b[36m44\u001b[0m - \u001b[1miteration: 510, time: 0.381328, dt: 0.000670, next write at time: 0.403448\u001b[0m\n",
      "\u001b[32m2025-08-30 13:01:58.552\u001b[0m | \u001b[1mINFO    \u001b[0m | \u001b[36mlibrary.python.fvm.solver_jax\u001b[0m:\u001b[36mlog_callback_hyperbolic\u001b[0m:\u001b[36m44\u001b[0m - \u001b[1miteration: 520, time: 0.388021, dt: 0.000669, next write at time: 0.403448\u001b[0m\n",
      "\u001b[32m2025-08-30 13:02:00.988\u001b[0m | \u001b[1mINFO    \u001b[0m | \u001b[36mlibrary.python.fvm.solver_jax\u001b[0m:\u001b[36mlog_callback_hyperbolic\u001b[0m:\u001b[36m44\u001b[0m - \u001b[1miteration: 530, time: 0.394698, dt: 0.000667, next write at time: 0.403448\u001b[0m\n",
      "\u001b[32m2025-08-30 13:02:03.444\u001b[0m | \u001b[1mINFO    \u001b[0m | \u001b[36mlibrary.python.fvm.solver_jax\u001b[0m:\u001b[36mlog_callback_hyperbolic\u001b[0m:\u001b[36m44\u001b[0m - \u001b[1miteration: 540, time: 0.401363, dt: 0.000666, next write at time: 0.403448\u001b[0m\n",
      "\u001b[32m2025-08-30 13:02:06.007\u001b[0m | \u001b[1mINFO    \u001b[0m | \u001b[36mlibrary.python.fvm.solver_jax\u001b[0m:\u001b[36mlog_callback_hyperbolic\u001b[0m:\u001b[36m44\u001b[0m - \u001b[1miteration: 550, time: 0.408018, dt: 0.000665, next write at time: 0.448276\u001b[0m\n",
      "\u001b[32m2025-08-30 13:02:08.436\u001b[0m | \u001b[1mINFO    \u001b[0m | \u001b[36mlibrary.python.fvm.solver_jax\u001b[0m:\u001b[36mlog_callback_hyperbolic\u001b[0m:\u001b[36m44\u001b[0m - \u001b[1miteration: 560, time: 0.414665, dt: 0.000664, next write at time: 0.448276\u001b[0m\n",
      "\u001b[32m2025-08-30 13:02:10.905\u001b[0m | \u001b[1mINFO    \u001b[0m | \u001b[36mlibrary.python.fvm.solver_jax\u001b[0m:\u001b[36mlog_callback_hyperbolic\u001b[0m:\u001b[36m44\u001b[0m - \u001b[1miteration: 570, time: 0.421232, dt: 0.000647, next write at time: 0.448276\u001b[0m\n",
      "\u001b[32m2025-08-30 13:02:13.306\u001b[0m | \u001b[1mINFO    \u001b[0m | \u001b[36mlibrary.python.fvm.solver_jax\u001b[0m:\u001b[36mlog_callback_hyperbolic\u001b[0m:\u001b[36m44\u001b[0m - \u001b[1miteration: 580, time: 0.427589, dt: 0.000628, next write at time: 0.448276\u001b[0m\n",
      "\u001b[32m2025-08-30 13:02:15.694\u001b[0m | \u001b[1mINFO    \u001b[0m | \u001b[36mlibrary.python.fvm.solver_jax\u001b[0m:\u001b[36mlog_callback_hyperbolic\u001b[0m:\u001b[36m44\u001b[0m - \u001b[1miteration: 590, time: 0.433798, dt: 0.000617, next write at time: 0.448276\u001b[0m\n",
      "\u001b[32m2025-08-30 13:02:18.149\u001b[0m | \u001b[1mINFO    \u001b[0m | \u001b[36mlibrary.python.fvm.solver_jax\u001b[0m:\u001b[36mlog_callback_hyperbolic\u001b[0m:\u001b[36m44\u001b[0m - \u001b[1miteration: 600, time: 0.439922, dt: 0.000610, next write at time: 0.448276\u001b[0m\n",
      "\u001b[32m2025-08-30 13:02:20.535\u001b[0m | \u001b[1mINFO    \u001b[0m | \u001b[36mlibrary.python.fvm.solver_jax\u001b[0m:\u001b[36mlog_callback_hyperbolic\u001b[0m:\u001b[36m44\u001b[0m - \u001b[1miteration: 610, time: 0.446002, dt: 0.000607, next write at time: 0.448276\u001b[0m\n",
      "\u001b[32m2025-08-30 13:02:23.024\u001b[0m | \u001b[1mINFO    \u001b[0m | \u001b[36mlibrary.python.fvm.solver_jax\u001b[0m:\u001b[36mlog_callback_hyperbolic\u001b[0m:\u001b[36m44\u001b[0m - \u001b[1miteration: 620, time: 0.452064, dt: 0.000606, next write at time: 0.493103\u001b[0m\n",
      "\u001b[32m2025-08-30 13:02:25.518\u001b[0m | \u001b[1mINFO    \u001b[0m | \u001b[36mlibrary.python.fvm.solver_jax\u001b[0m:\u001b[36mlog_callback_hyperbolic\u001b[0m:\u001b[36m44\u001b[0m - \u001b[1miteration: 630, time: 0.458125, dt: 0.000606, next write at time: 0.493103\u001b[0m\n",
      "\u001b[32m2025-08-30 13:02:27.941\u001b[0m | \u001b[1mINFO    \u001b[0m | \u001b[36mlibrary.python.fvm.solver_jax\u001b[0m:\u001b[36mlog_callback_hyperbolic\u001b[0m:\u001b[36m44\u001b[0m - \u001b[1miteration: 640, time: 0.464183, dt: 0.000606, next write at time: 0.493103\u001b[0m\n",
      "\u001b[32m2025-08-30 13:02:30.363\u001b[0m | \u001b[1mINFO    \u001b[0m | \u001b[36mlibrary.python.fvm.solver_jax\u001b[0m:\u001b[36mlog_callback_hyperbolic\u001b[0m:\u001b[36m44\u001b[0m - \u001b[1miteration: 650, time: 0.470228, dt: 0.000605, next write at time: 0.493103\u001b[0m\n",
      "\u001b[32m2025-08-30 13:02:32.878\u001b[0m | \u001b[1mINFO    \u001b[0m | \u001b[36mlibrary.python.fvm.solver_jax\u001b[0m:\u001b[36mlog_callback_hyperbolic\u001b[0m:\u001b[36m44\u001b[0m - \u001b[1miteration: 660, time: 0.476252, dt: 0.000602, next write at time: 0.493103\u001b[0m\n",
      "\u001b[32m2025-08-30 13:02:35.310\u001b[0m | \u001b[1mINFO    \u001b[0m | \u001b[36mlibrary.python.fvm.solver_jax\u001b[0m:\u001b[36mlog_callback_hyperbolic\u001b[0m:\u001b[36m44\u001b[0m - \u001b[1miteration: 670, time: 0.482249, dt: 0.000599, next write at time: 0.493103\u001b[0m\n",
      "\u001b[32m2025-08-30 13:02:37.723\u001b[0m | \u001b[1mINFO    \u001b[0m | \u001b[36mlibrary.python.fvm.solver_jax\u001b[0m:\u001b[36mlog_callback_hyperbolic\u001b[0m:\u001b[36m44\u001b[0m - \u001b[1miteration: 680, time: 0.488225, dt: 0.000596, next write at time: 0.493103\u001b[0m\n",
      "\u001b[32m2025-08-30 13:02:40.229\u001b[0m | \u001b[1mINFO    \u001b[0m | \u001b[36mlibrary.python.fvm.solver_jax\u001b[0m:\u001b[36mlog_callback_hyperbolic\u001b[0m:\u001b[36m44\u001b[0m - \u001b[1miteration: 690, time: 0.494177, dt: 0.000594, next write at time: 0.537931\u001b[0m\n",
      "\u001b[32m2025-08-30 13:02:42.796\u001b[0m | \u001b[1mINFO    \u001b[0m | \u001b[36mlibrary.python.fvm.solver_jax\u001b[0m:\u001b[36mlog_callback_hyperbolic\u001b[0m:\u001b[36m44\u001b[0m - \u001b[1miteration: 700, time: 0.500105, dt: 0.000593, next write at time: 0.537931\u001b[0m\n",
      "\u001b[32m2025-08-30 13:02:45.194\u001b[0m | \u001b[1mINFO    \u001b[0m | \u001b[36mlibrary.python.fvm.solver_jax\u001b[0m:\u001b[36mlog_callback_hyperbolic\u001b[0m:\u001b[36m44\u001b[0m - \u001b[1miteration: 710, time: 0.506021, dt: 0.000593, next write at time: 0.537931\u001b[0m\n",
      "\u001b[32m2025-08-30 13:02:47.617\u001b[0m | \u001b[1mINFO    \u001b[0m | \u001b[36mlibrary.python.fvm.solver_jax\u001b[0m:\u001b[36mlog_callback_hyperbolic\u001b[0m:\u001b[36m44\u001b[0m - \u001b[1miteration: 720, time: 0.511919, dt: 0.000590, next write at time: 0.537931\u001b[0m\n",
      "\u001b[32m2025-08-30 13:02:50.069\u001b[0m | \u001b[1mINFO    \u001b[0m | \u001b[36mlibrary.python.fvm.solver_jax\u001b[0m:\u001b[36mlog_callback_hyperbolic\u001b[0m:\u001b[36m44\u001b[0m - \u001b[1miteration: 730, time: 0.517806, dt: 0.000587, next write at time: 0.537931\u001b[0m\n",
      "\u001b[32m2025-08-30 13:02:52.407\u001b[0m | \u001b[1mINFO    \u001b[0m | \u001b[36mlibrary.python.fvm.solver_jax\u001b[0m:\u001b[36mlog_callback_hyperbolic\u001b[0m:\u001b[36m44\u001b[0m - \u001b[1miteration: 740, time: 0.523684, dt: 0.000585, next write at time: 0.537931\u001b[0m\n",
      "\u001b[32m2025-08-30 13:02:54.821\u001b[0m | \u001b[1mINFO    \u001b[0m | \u001b[36mlibrary.python.fvm.solver_jax\u001b[0m:\u001b[36mlog_callback_hyperbolic\u001b[0m:\u001b[36m44\u001b[0m - \u001b[1miteration: 750, time: 0.529551, dt: 0.000584, next write at time: 0.537931\u001b[0m\n",
      "\u001b[32m2025-08-30 13:02:57.165\u001b[0m | \u001b[1mINFO    \u001b[0m | \u001b[36mlibrary.python.fvm.solver_jax\u001b[0m:\u001b[36mlog_callback_hyperbolic\u001b[0m:\u001b[36m44\u001b[0m - \u001b[1miteration: 760, time: 0.532051, dt: 0.000072, next write at time: 0.537931\u001b[0m\n",
      "\u001b[32m2025-08-30 13:02:59.674\u001b[0m | \u001b[1mINFO    \u001b[0m | \u001b[36mlibrary.python.fvm.solver_jax\u001b[0m:\u001b[36mlog_callback_hyperbolic\u001b[0m:\u001b[36m44\u001b[0m - \u001b[1miteration: 770, time: 0.532149, dt: 0.000000, next write at time: 0.537931\u001b[0m\n",
      "\u001b[32m2025-08-30 13:03:02.150\u001b[0m | \u001b[1mINFO    \u001b[0m | \u001b[36mlibrary.python.fvm.solver_jax\u001b[0m:\u001b[36mlog_callback_hyperbolic\u001b[0m:\u001b[36m44\u001b[0m - \u001b[1miteration: 780, time: 0.532149, dt: 0.000000, next write at time: 0.537931\u001b[0m\n",
      "\u001b[32m2025-08-30 13:03:04.574\u001b[0m | \u001b[1mINFO    \u001b[0m | \u001b[36mlibrary.python.fvm.solver_jax\u001b[0m:\u001b[36mlog_callback_hyperbolic\u001b[0m:\u001b[36m44\u001b[0m - \u001b[1miteration: 790, time: 0.532149, dt: 0.000000, next write at time: 0.537931\u001b[0m\n",
      "\u001b[32m2025-08-30 13:03:06.984\u001b[0m | \u001b[1mINFO    \u001b[0m | \u001b[36mlibrary.python.fvm.solver_jax\u001b[0m:\u001b[36mlog_callback_hyperbolic\u001b[0m:\u001b[36m44\u001b[0m - \u001b[1miteration: 800, time: 0.532149, dt: 0.000000, next write at time: 0.537931\u001b[0m\n",
      "\u001b[32m2025-08-30 13:03:09.364\u001b[0m | \u001b[1mINFO    \u001b[0m | \u001b[36mlibrary.python.fvm.solver_jax\u001b[0m:\u001b[36mlog_callback_hyperbolic\u001b[0m:\u001b[36m44\u001b[0m - \u001b[1miteration: 810, time: 0.532149, dt: 0.000000, next write at time: 0.537931\u001b[0m\n",
      "\u001b[32m2025-08-30 13:03:11.718\u001b[0m | \u001b[1mINFO    \u001b[0m | \u001b[36mlibrary.python.fvm.solver_jax\u001b[0m:\u001b[36mlog_callback_hyperbolic\u001b[0m:\u001b[36m44\u001b[0m - \u001b[1miteration: 820, time: 0.532149, dt: 0.000000, next write at time: 0.537931\u001b[0m\n",
      "\u001b[32m2025-08-30 13:03:14.184\u001b[0m | \u001b[1mINFO    \u001b[0m | \u001b[36mlibrary.python.fvm.solver_jax\u001b[0m:\u001b[36mlog_callback_hyperbolic\u001b[0m:\u001b[36m44\u001b[0m - \u001b[1miteration: 830, time: 0.532149, dt: 0.000000, next write at time: 0.537931\u001b[0m\n",
      "\u001b[32m2025-08-30 13:03:16.526\u001b[0m | \u001b[1mINFO    \u001b[0m | \u001b[36mlibrary.python.fvm.solver_jax\u001b[0m:\u001b[36mlog_callback_hyperbolic\u001b[0m:\u001b[36m44\u001b[0m - \u001b[1miteration: 840, time: 0.532149, dt: 0.000000, next write at time: 0.537931\u001b[0m\n",
      "\u001b[32m2025-08-30 13:03:18.766\u001b[0m | \u001b[1mINFO    \u001b[0m | \u001b[36mlibrary.python.fvm.solver_jax\u001b[0m:\u001b[36mlog_callback_hyperbolic\u001b[0m:\u001b[36m44\u001b[0m - \u001b[1miteration: 850, time: 0.532149, dt: 0.000000, next write at time: 0.537931\u001b[0m\n",
      "\u001b[32m2025-08-30 13:03:21.101\u001b[0m | \u001b[1mINFO    \u001b[0m | \u001b[36mlibrary.python.fvm.solver_jax\u001b[0m:\u001b[36mlog_callback_hyperbolic\u001b[0m:\u001b[36m44\u001b[0m - \u001b[1miteration: 860, time: 0.532149, dt: 0.000000, next write at time: 0.537931\u001b[0m\n",
      "\u001b[32m2025-08-30 13:03:23.398\u001b[0m | \u001b[1mINFO    \u001b[0m | \u001b[36mlibrary.python.fvm.solver_jax\u001b[0m:\u001b[36mlog_callback_hyperbolic\u001b[0m:\u001b[36m44\u001b[0m - \u001b[1miteration: 870, time: 0.532149, dt: 0.000000, next write at time: 0.537931\u001b[0m\n",
      "\u001b[32m2025-08-30 13:03:25.679\u001b[0m | \u001b[1mINFO    \u001b[0m | \u001b[36mlibrary.python.fvm.solver_jax\u001b[0m:\u001b[36mlog_callback_hyperbolic\u001b[0m:\u001b[36m44\u001b[0m - \u001b[1miteration: 880, time: 0.532149, dt: 0.000000, next write at time: 0.537931\u001b[0m\n",
      "\u001b[32m2025-08-30 13:03:27.898\u001b[0m | \u001b[1mINFO    \u001b[0m | \u001b[36mlibrary.python.fvm.solver_jax\u001b[0m:\u001b[36mlog_callback_hyperbolic\u001b[0m:\u001b[36m44\u001b[0m - \u001b[1miteration: 890, time: 0.532149, dt: 0.000000, next write at time: 0.537931\u001b[0m\n",
      "\u001b[32m2025-08-30 13:03:30.111\u001b[0m | \u001b[1mINFO    \u001b[0m | \u001b[36mlibrary.python.fvm.solver_jax\u001b[0m:\u001b[36mlog_callback_hyperbolic\u001b[0m:\u001b[36m44\u001b[0m - \u001b[1miteration: 900, time: 0.532149, dt: 0.000000, next write at time: 0.537931\u001b[0m\n",
      "\u001b[32m2025-08-30 13:03:32.431\u001b[0m | \u001b[1mINFO    \u001b[0m | \u001b[36mlibrary.python.fvm.solver_jax\u001b[0m:\u001b[36mlog_callback_hyperbolic\u001b[0m:\u001b[36m44\u001b[0m - \u001b[1miteration: 910, time: 0.532149, dt: 0.000000, next write at time: 0.537931\u001b[0m\n",
      "\u001b[32m2025-08-30 13:03:34.902\u001b[0m | \u001b[1mINFO    \u001b[0m | \u001b[36mlibrary.python.fvm.solver_jax\u001b[0m:\u001b[36mlog_callback_hyperbolic\u001b[0m:\u001b[36m44\u001b[0m - \u001b[1miteration: 920, time: 0.532149, dt: 0.000000, next write at time: 0.537931\u001b[0m\n",
      "\u001b[32m2025-08-30 13:03:37.274\u001b[0m | \u001b[1mINFO    \u001b[0m | \u001b[36mlibrary.python.fvm.solver_jax\u001b[0m:\u001b[36mlog_callback_hyperbolic\u001b[0m:\u001b[36m44\u001b[0m - \u001b[1miteration: 930, time: 0.532149, dt: 0.000000, next write at time: 0.537931\u001b[0m\n",
      "\u001b[32m2025-08-30 13:03:39.718\u001b[0m | \u001b[1mINFO    \u001b[0m | \u001b[36mlibrary.python.fvm.solver_jax\u001b[0m:\u001b[36mlog_callback_hyperbolic\u001b[0m:\u001b[36m44\u001b[0m - \u001b[1miteration: 940, time: 0.532149, dt: 0.000000, next write at time: 0.537931\u001b[0m\n",
      "\u001b[32m2025-08-30 13:03:42.154\u001b[0m | \u001b[1mINFO    \u001b[0m | \u001b[36mlibrary.python.fvm.solver_jax\u001b[0m:\u001b[36mlog_callback_hyperbolic\u001b[0m:\u001b[36m44\u001b[0m - \u001b[1miteration: 950, time: 0.532149, dt: 0.000000, next write at time: 0.537931\u001b[0m\n",
      "\u001b[32m2025-08-30 13:03:44.737\u001b[0m | \u001b[1mINFO    \u001b[0m | \u001b[36mlibrary.python.fvm.solver_jax\u001b[0m:\u001b[36mlog_callback_hyperbolic\u001b[0m:\u001b[36m44\u001b[0m - \u001b[1miteration: 960, time: 0.532149, dt: 0.000000, next write at time: 0.537931\u001b[0m\n",
      "\u001b[32m2025-08-30 13:03:47.155\u001b[0m | \u001b[1mINFO    \u001b[0m | \u001b[36mlibrary.python.fvm.solver_jax\u001b[0m:\u001b[36mlog_callback_hyperbolic\u001b[0m:\u001b[36m44\u001b[0m - \u001b[1miteration: 970, time: 0.532149, dt: 0.000000, next write at time: 0.537931\u001b[0m\n",
      "\u001b[32m2025-08-30 13:03:49.657\u001b[0m | \u001b[1mINFO    \u001b[0m | \u001b[36mlibrary.python.fvm.solver_jax\u001b[0m:\u001b[36mlog_callback_hyperbolic\u001b[0m:\u001b[36m44\u001b[0m - \u001b[1miteration: 980, time: 0.532149, dt: 0.000000, next write at time: 0.537931\u001b[0m\n",
      "\u001b[32m2025-08-30 13:03:52.084\u001b[0m | \u001b[1mINFO    \u001b[0m | \u001b[36mlibrary.python.fvm.solver_jax\u001b[0m:\u001b[36mlog_callback_hyperbolic\u001b[0m:\u001b[36m44\u001b[0m - \u001b[1miteration: 990, time: 0.532149, dt: 0.000000, next write at time: 0.537931\u001b[0m\n",
      "\u001b[32m2025-08-30 13:03:54.750\u001b[0m | \u001b[1mINFO    \u001b[0m | \u001b[36mlibrary.python.fvm.solver_jax\u001b[0m:\u001b[36mlog_callback_hyperbolic\u001b[0m:\u001b[36m44\u001b[0m - \u001b[1miteration: 1000, time: 0.532149, dt: 0.000000, next write at time: 0.537931\u001b[0m\n",
      "\u001b[32m2025-08-30 13:03:57.367\u001b[0m | \u001b[1mINFO    \u001b[0m | \u001b[36mlibrary.python.fvm.solver_jax\u001b[0m:\u001b[36mlog_callback_hyperbolic\u001b[0m:\u001b[36m44\u001b[0m - \u001b[1miteration: 1010, time: 0.532149, dt: 0.000000, next write at time: 0.537931\u001b[0m\n",
      "\u001b[32m2025-08-30 13:03:59.900\u001b[0m | \u001b[1mINFO    \u001b[0m | \u001b[36mlibrary.python.fvm.solver_jax\u001b[0m:\u001b[36mlog_callback_hyperbolic\u001b[0m:\u001b[36m44\u001b[0m - \u001b[1miteration: 1020, time: 0.532149, dt: 0.000000, next write at time: 0.537931\u001b[0m\n"
     ]
    }
   ],
   "source": [
    "Qnew, Qaux = solver.solve(mesh, model)"
   ]
  },
  {
   "cell_type": "markdown",
   "id": "491a9389",
   "metadata": {},
   "source": [
    "## Visualization"
   ]
  },
  {
   "cell_type": "code",
   "execution_count": 6,
   "id": "91f0af61",
   "metadata": {},
   "outputs": [],
   "source": [
    "io.generate_vtk(os.path.join(settings.output.directory, f\"{settings.output.filename}.h5\"))\n",
    "# postprocessing.vtk_project_2d_to_3d(model, settings, Nz=20, filename='out_3d')"
   ]
  },
  {
   "cell_type": "code",
   "execution_count": null,
   "id": "9998344a",
   "metadata": {},
   "outputs": [],
   "source": [
    "# visu.pyvista_3d(settings.output.directory, scale=1.0)"
   ]
  },
  {
   "cell_type": "code",
   "execution_count": null,
   "id": "5846d84a",
   "metadata": {},
   "outputs": [],
   "source": []
  }
 ],
 "metadata": {
  "kernelspec": {
   "display_name": "zoomy",
   "language": "python",
   "name": "python3"
  },
  "language_info": {
   "codemirror_mode": {
    "name": "ipython",
    "version": 3
   },
   "file_extension": ".py",
   "mimetype": "text/x-python",
   "name": "python",
   "nbconvert_exporter": "python",
   "pygments_lexer": "ipython3",
   "version": "3.12.11"
  },
  "widgets": {
   "application/vnd.jupyter.widget-state+json": {
    "state": {
     "58197ea96c8d4208a27b23118644168f": {
      "model_module": "@jupyter-widgets/base",
      "model_module_version": "2.0.0",
      "model_name": "LayoutModel",
      "state": {
       "_model_module": "@jupyter-widgets/base",
       "_model_module_version": "2.0.0",
       "_model_name": "LayoutModel",
       "_view_count": null,
       "_view_module": "@jupyter-widgets/base",
       "_view_module_version": "2.0.0",
       "_view_name": "LayoutView",
       "align_content": null,
       "align_items": null,
       "align_self": null,
       "border_bottom": null,
       "border_left": null,
       "border_right": null,
       "border_top": null,
       "bottom": null,
       "display": null,
       "flex": null,
       "flex_flow": null,
       "grid_area": null,
       "grid_auto_columns": null,
       "grid_auto_flow": null,
       "grid_auto_rows": null,
       "grid_column": null,
       "grid_gap": null,
       "grid_row": null,
       "grid_template_areas": null,
       "grid_template_columns": null,
       "grid_template_rows": null,
       "height": null,
       "justify_content": null,
       "justify_items": null,
       "left": null,
       "margin": null,
       "max_height": null,
       "max_width": null,
       "min_height": null,
       "min_width": null,
       "object_fit": null,
       "object_position": null,
       "order": null,
       "overflow": null,
       "padding": null,
       "right": null,
       "top": null,
       "visibility": null,
       "width": null
      }
     },
     "6aee9427c56642c3a758e75c7f50945d": {
      "model_module": "@jupyter-widgets/controls",
      "model_module_version": "2.0.0",
      "model_name": "HTMLStyleModel",
      "state": {
       "_model_module": "@jupyter-widgets/controls",
       "_model_module_version": "2.0.0",
       "_model_name": "HTMLStyleModel",
       "_view_count": null,
       "_view_module": "@jupyter-widgets/base",
       "_view_module_version": "2.0.0",
       "_view_name": "StyleView",
       "background": null,
       "description_width": "",
       "font_size": null,
       "text_color": null
      }
     },
     "8e858fdf20384196aa8989375078223c": {
      "model_module": "@jupyter-widgets/controls",
      "model_module_version": "2.0.0",
      "model_name": "HTMLModel",
      "state": {
       "_dom_classes": [],
       "_model_module": "@jupyter-widgets/controls",
       "_model_module_version": "2.0.0",
       "_model_name": "HTMLModel",
       "_view_count": null,
       "_view_module": "@jupyter-widgets/controls",
       "_view_module_version": "2.0.0",
       "_view_name": "HTMLView",
       "description": "",
       "description_allow_html": false,
       "layout": "IPY_MODEL_58197ea96c8d4208a27b23118644168f",
       "placeholder": "​",
       "style": "IPY_MODEL_6aee9427c56642c3a758e75c7f50945d",
       "tabbable": null,
       "tooltip": null,
       "value": "<iframe src=\"http://localhost:40521/index.html?ui=P_0x7fedf49b1c40_0&reconnect=auto\" class=\"pyvista\" style=\"width: 99%; height: 600px; border: 1px solid rgb(221,221,221);\"></iframe>"
      }
     }
    },
    "version_major": 2,
    "version_minor": 0
   }
  }
 },
 "nbformat": 4,
 "nbformat_minor": 5
}
