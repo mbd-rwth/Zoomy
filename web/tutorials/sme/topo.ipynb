{
 "cells": [
  {
   "cell_type": "raw",
   "id": "906eac95",
   "metadata": {
    "vscode": {
     "languageId": "raw"
    }
   },
   "source": [
    "---\n",
    "title: \"Simple\"\n",
    "author: Ingo Steldermann\n",
    "date: 07/10/2025\n",
    "format:\n",
    "  html:\n",
    "    code-fold: false\n",
    "    code-tools: true\n",
    "    css: ../notebook.css\n",
    "---"
   ]
  },
  {
   "cell_type": "markdown",
   "id": "a8c5b74f",
   "metadata": {
    "vscode": {
     "languageId": "raw"
    }
   },
   "source": [
    "# Shallow Moments with topography (Simple)"
   ]
  },
  {
   "cell_type": "markdown",
   "id": "b7ce1821",
   "metadata": {
    "vscode": {
     "languageId": "raw"
    }
   },
   "source": [
    "## Imports"
   ]
  },
  {
   "cell_type": "code",
   "execution_count": null,
   "id": "4f583c96",
   "metadata": {
    "tags": []
   },
   "outputs": [],
   "source": [
    "# | code-fold: true\n",
    "# | code-summary: \"Load packages\"\n",
    "# | output: false\n",
    "\n",
    "import os\n",
    "import numpy as np\n",
    "import jax\n",
    "from jax import numpy as jnp\n",
    "import pytest\n",
    "from types import SimpleNamespace\n",
    "from sympy import cos, pi, Piecewise\n",
    "\n",
    "from library.fvm.solver import HyperbolicSolver, Settings\n",
    "from library.fvm.ode import RK1\n",
    "import library.fvm.reconstruction as recon\n",
    "import library.fvm.timestepping as timestepping\n",
    "import library.fvm.flux as flux\n",
    "import library.fvm.nonconservative_flux as nc_flux\n",
    "from library.model.boundary_conditions import BoundaryCondition\n",
    "from library.model.models.basisfunctions import Basisfunction, Legendre_shifted\n",
    "from library.model.models.basismatrices import Basismatrices\n",
    "from library.misc.misc import Zstruct\n",
    "\n",
    "from library.model.models.shallow_moments_topo import ShallowMomentsTopo, ShallowMomentsTopoNumerical\n",
    "from library.model.models.shallow_moments import ShallowMoments2d\n",
    "\n",
    "import library.model.initial_conditions as IC\n",
    "import library.model.boundary_conditions as BC\n",
    "import library.misc.io as io\n",
    "from library.mesh.mesh import compute_derivatives\n",
    "from tests.pdesoft import plots_paper\n",
    "import library.postprocessing.visualization as visu\n",
    "\n",
    "\n",
    "import library.mesh.mesh as petscMesh\n",
    "import library.postprocessing.postprocessing as postprocessing\n",
    "from library.mesh.mesh import convert_mesh_to_jax\n",
    "import argparse"
   ]
  },
  {
   "cell_type": "code",
   "execution_count": null,
   "id": "ad87e829-022c-4468-a8b1-55f0965a2e07",
   "metadata": {
    "tags": []
   },
   "outputs": [],
   "source": [
    "level = 0\n",
    "offset = 1+level\n",
    "n_fields = 3 + 2 * level\n",
    "settings = Settings(\n",
    "    name=\"SME\",\n",
    "    output=Zstruct(\n",
    "        directory=f\"outputs/topo_junction_{level}\", filename=\"SME\", output_snapshots=30\n",
    "    ),\n",
    ")"
   ]
  },
  {
   "cell_type": "code",
   "execution_count": null,
   "id": "fd25e4e2-4653-441c-a82b-4d4c2e4c013b",
   "metadata": {
    "tags": []
   },
   "outputs": [],
   "source": [
    "inflow_dict = { \n",
    "    1: lambda t, x, dx, q, qaux, p, n: Piecewise((0.1, t < 0.2),(q[0], True)),\n",
    "    2: lambda t, x, dx, q, qaux, p, n: Piecewise((-0.3, t < 0.2),(-q[2], True)),\n",
    "                }\n",
    "inflow_dict.update({\n",
    "    2+i: lambda t, x, dx, q, qaux, p, n: 0 for i in range(level)\n",
    "})\n",
    "inflow_dict.update({\n",
    "    1+offset+i: lambda t, x, dx, q, qaux, p, n: 0 for i in range(level+1)\n",
    "})\n",
    "\n",
    "bcs = BC.BoundaryConditions(\n",
    "    [\n",
    "        BC.Lambda(physical_tag=\"inflow\", prescribe_fields=inflow_dict),\n",
    "        BC.Wall(physical_tag=\"wall\"),\n",
    "    ]\n",
    ")\n",
    "\n",
    "def custom_ic(x):\n",
    "    Q = np.zeros(4 + 2 * level, dtype=float)\n",
    "    Q[1] = 0.01\n",
    "    return Q\n",
    "\n",
    "ic = IC.UserFunction(custom_ic)\n",
    "\n",
    "model = ShallowMomentsTopoNumerical(\n",
    "    level=level,\n",
    "    boundary_conditions=bcs,\n",
    "    initial_conditions=ic,\n",
    ")\n",
    "\n",
    "main_dir = os.getenv(\"ZOOMY_DIR\")\n",
    "mesh = petscMesh.Mesh.from_gmsh(\n",
    "    os.path.join(main_dir, \"meshes/channel_junction/mesh_2d_coarse.msh\")\n",
    "    # os.path.join(main_dir, \"meshes/channel_junction/mesh_2d_fine.msh\")\n",
    ")\n",
    "\n",
    "mesh = convert_mesh_to_jax(mesh)\n",
    "class SMESolver(HyperbolicSolver):\n",
    "    def update_qaux(self, Q, Qaux, Qold, Qauxold, mesh, model, parameters, time, dt):\n",
    "        dudx = compute_derivatives(Q[2]/Q[1], mesh, derivatives_multi_index=[[0, 0]])[:,0]\n",
    "        dvdy = compute_derivatives(Q[2+offset]/Q[1], mesh, derivatives_multi_index=[[0, 1]])[:,0]\n",
    "        Qaux = Qaux.at[0].set(dudx)\n",
    "        Qaux = Qaux.at[1].set(dvdy)\n",
    "        return Qaux\n",
    "solver = SMESolver(settings=settings)"
   ]
  },
  {
   "cell_type": "markdown",
   "id": "4bb1cf64",
   "metadata": {},
   "source": [
    "## Solve\n",
    "\n",
    "IF I CHANGE THE MODEL TO SHALLOWMOMENTS2D, IT WORKS FINE\n",
    "\n",
    "The numerical model does also not work as it is. I think I need to use the old model and had a funciton substitute, \n",
    "1. stick with ha / h instead of u\n",
    "2. i have a function get_hinv\n",
    "3. I substitute h_inv with a new hinv in the numerical model"
   ]
  },
  {
   "cell_type": "code",
   "execution_count": null,
   "id": "34211aa2-8f9a-4e1d-bb55-1af32668f51e",
   "metadata": {},
   "outputs": [
    {
     "name": "stdout",
     "output_type": "stream",
     "text": [
      "JitTracer<float64[]>\n",
      "JitTracer<float64[]>\n",
      "JitTracer<float64[]>\n"
     ]
    },
    {
     "name": "stderr",
     "output_type": "stream",
     "text": [
      "\u001b[32m2025-08-28 22:02:11.943\u001b[0m | \u001b[1mINFO    \u001b[0m | \u001b[36mlibrary.fvm.solver\u001b[0m:\u001b[36mlog_callback_hyperbolic\u001b[0m:\u001b[36m44\u001b[0m - \u001b[1miteration: 770, time: 0.009447, dt: 0.000003, next write at time: 0.011111\u001b[0m\n"
     ]
    },
    {
     "name": "stdout",
     "output_type": "stream",
     "text": [
      "JitTracer<float64[]>\n",
      "JitTracer<float64[]>\n",
      "JitTracer<float64[]>\n",
      "JitTracer<float64[]>\n",
      "JitTracer<float64[]>\n",
      "JitTracer<float64[]>\n",
      "JitTracer<float64[]>\n",
      "JitTracer<float64[]>\n",
      "JitTracer<float64[]>\n",
      "JitTracer<float64[]>\n",
      "JitTracer<float64[]>\n",
      "JitTracer<float64[]>\n"
     ]
    },
    {
     "name": "stderr",
     "output_type": "stream",
     "text": [
      "\u001b[32m2025-08-28 22:02:12.998\u001b[0m | \u001b[1mINFO    \u001b[0m | \u001b[36mlibrary.fvm.solver\u001b[0m:\u001b[36mlog_callback_hyperbolic\u001b[0m:\u001b[36m44\u001b[0m - \u001b[1miteration: 780, time: 0.009479, dt: 0.000003, next write at time: 0.011111\u001b[0m\n"
     ]
    },
    {
     "name": "stdout",
     "output_type": "stream",
     "text": [
      "JitTracer<float64[]>\n",
      "JitTracer<float64[]>\n",
      "JitTracer<float64[]>\n",
      "JitTracer<float64[]>\n",
      "JitTracer<float64[]>\n",
      "JitTracer<float64[]>\n",
      "JitTracer<float64[]>\n",
      "JitTracer<float64[]>\n"
     ]
    },
    {
     "name": "stderr",
     "output_type": "stream",
     "text": [
      "\u001b[32m2025-08-28 22:02:14.077\u001b[0m | \u001b[1mINFO    \u001b[0m | \u001b[36mlibrary.fvm.solver\u001b[0m:\u001b[36mlog_callback_hyperbolic\u001b[0m:\u001b[36m44\u001b[0m - \u001b[1miteration: 790, time: 0.009510, dt: 0.000003, next write at time: 0.011111\u001b[0m\n"
     ]
    },
    {
     "name": "stdout",
     "output_type": "stream",
     "text": [
      "JitTracer<float64[]>\n",
      "JitTracer<float64[]>\n",
      "JitTracer<float64[]>\n",
      "JitTracer<float64[]>\n",
      "JitTracer<float64[]>\n",
      "JitTracer<float64[]>\n",
      "JitTracer<float64[]>\n",
      "JitTracer<float64[]>\n",
      "JitTracer<float64[]>\n",
      "JitTracer<float64[]>\n",
      "JitTracer<float64[]>\n"
     ]
    },
    {
     "name": "stderr",
     "output_type": "stream",
     "text": [
      "\u001b[32m2025-08-28 22:02:14.993\u001b[0m | \u001b[1mINFO    \u001b[0m | \u001b[36mlibrary.fvm.solver\u001b[0m:\u001b[36mlog_callback_hyperbolic\u001b[0m:\u001b[36m44\u001b[0m - \u001b[1miteration: 800, time: 0.009541, dt: 0.000003, next write at time: 0.011111\u001b[0m\n"
     ]
    },
    {
     "name": "stdout",
     "output_type": "stream",
     "text": [
      "JitTracer<float64[]>\n",
      "JitTracer<float64[]>\n",
      "JitTracer<float64[]>\n",
      "JitTracer<float64[]>\n",
      "JitTracer<float64[]>\n",
      "JitTracer<float64[]>\n",
      "JitTracer<float64[]>\n",
      "JitTracer<float64[]>\n",
      "JitTracer<float64[]>\n"
     ]
    },
    {
     "name": "stderr",
     "output_type": "stream",
     "text": [
      "\u001b[32m2025-08-28 22:02:15.816\u001b[0m | \u001b[1mINFO    \u001b[0m | \u001b[36mlibrary.fvm.solver\u001b[0m:\u001b[36mlog_callback_hyperbolic\u001b[0m:\u001b[36m44\u001b[0m - \u001b[1miteration: 810, time: 0.009572, dt: 0.000003, next write at time: 0.011111\u001b[0m\n"
     ]
    },
    {
     "name": "stdout",
     "output_type": "stream",
     "text": [
      "JitTracer<float64[]>\n",
      "JitTracer<float64[]>\n",
      "JitTracer<float64[]>\n",
      "JitTracer<float64[]>\n",
      "JitTracer<float64[]>\n",
      "JitTracer<float64[]>\n",
      "JitTracer<float64[]>\n",
      "JitTracer<float64[]>\n",
      "JitTracer<float64[]>\n",
      "JitTracer<float64[]>\n"
     ]
    },
    {
     "name": "stderr",
     "output_type": "stream",
     "text": [
      "\u001b[32m2025-08-28 22:02:16.591\u001b[0m | \u001b[1mINFO    \u001b[0m | \u001b[36mlibrary.fvm.solver\u001b[0m:\u001b[36mlog_callback_hyperbolic\u001b[0m:\u001b[36m44\u001b[0m - \u001b[1miteration: 820, time: 0.009603, dt: 0.000003, next write at time: 0.011111\u001b[0m\n"
     ]
    },
    {
     "name": "stdout",
     "output_type": "stream",
     "text": [
      "JitTracer<float64[]>\n",
      "JitTracer<float64[]>\n",
      "JitTracer<float64[]>\n",
      "JitTracer<float64[]>\n",
      "JitTracer<float64[]>\n",
      "JitTracer<float64[]>\n",
      "JitTracer<float64[]>\n",
      "JitTracer<float64[]>\n",
      "JitTracer<float64[]>\n"
     ]
    },
    {
     "name": "stderr",
     "output_type": "stream",
     "text": [
      "\u001b[32m2025-08-28 22:02:17.486\u001b[0m | \u001b[1mINFO    \u001b[0m | \u001b[36mlibrary.fvm.solver\u001b[0m:\u001b[36mlog_callback_hyperbolic\u001b[0m:\u001b[36m44\u001b[0m - \u001b[1miteration: 830, time: 0.009633, dt: 0.000003, next write at time: 0.011111\u001b[0m\n"
     ]
    },
    {
     "name": "stdout",
     "output_type": "stream",
     "text": [
      "JitTracer<float64[]>\n",
      "JitTracer<float64[]>\n",
      "JitTracer<float64[]>\n",
      "JitTracer<float64[]>\n",
      "JitTracer<float64[]>\n",
      "JitTracer<float64[]>\n",
      "JitTracer<float64[]>\n",
      "JitTracer<float64[]>\n"
     ]
    }
   ],
   "source": [
    "Qnew, Qaux = solver.solve(mesh, model)"
   ]
  },
  {
   "cell_type": "markdown",
   "id": "491a9389",
   "metadata": {},
   "source": [
    "## Visualization"
   ]
  },
  {
   "cell_type": "code",
   "execution_count": null,
   "id": "91f0af61",
   "metadata": {},
   "outputs": [],
   "source": [
    "io.generate_vtk(os.path.join(settings.output.directory, f\"{settings.output.filename}.h5\"))\n",
    "# postprocessing.vtk_interpolate_3d(model, settings, Nz=20, filename='out_3d')"
   ]
  },
  {
   "cell_type": "code",
   "execution_count": null,
   "id": "9998344a",
   "metadata": {},
   "outputs": [],
   "source": [
    "visu.pyvista_3d(settings.output.directory, scale=1.0)"
   ]
  }
 ],
 "metadata": {
  "kernelspec": {
   "display_name": "zoomy",
   "language": "python",
   "name": "python3"
  },
  "language_info": {
   "codemirror_mode": {
    "name": "ipython",
    "version": 3
   },
   "file_extension": ".py",
   "mimetype": "text/x-python",
   "name": "python",
   "nbconvert_exporter": "python",
   "pygments_lexer": "ipython3",
   "version": "3.12.11"
  },
  "widgets": {
   "application/vnd.jupyter.widget-state+json": {
    "state": {
     "58197ea96c8d4208a27b23118644168f": {
      "model_module": "@jupyter-widgets/base",
      "model_module_version": "2.0.0",
      "model_name": "LayoutModel",
      "state": {
       "_model_module": "@jupyter-widgets/base",
       "_model_module_version": "2.0.0",
       "_model_name": "LayoutModel",
       "_view_count": null,
       "_view_module": "@jupyter-widgets/base",
       "_view_module_version": "2.0.0",
       "_view_name": "LayoutView",
       "align_content": null,
       "align_items": null,
       "align_self": null,
       "border_bottom": null,
       "border_left": null,
       "border_right": null,
       "border_top": null,
       "bottom": null,
       "display": null,
       "flex": null,
       "flex_flow": null,
       "grid_area": null,
       "grid_auto_columns": null,
       "grid_auto_flow": null,
       "grid_auto_rows": null,
       "grid_column": null,
       "grid_gap": null,
       "grid_row": null,
       "grid_template_areas": null,
       "grid_template_columns": null,
       "grid_template_rows": null,
       "height": null,
       "justify_content": null,
       "justify_items": null,
       "left": null,
       "margin": null,
       "max_height": null,
       "max_width": null,
       "min_height": null,
       "min_width": null,
       "object_fit": null,
       "object_position": null,
       "order": null,
       "overflow": null,
       "padding": null,
       "right": null,
       "top": null,
       "visibility": null,
       "width": null
      }
     },
     "6aee9427c56642c3a758e75c7f50945d": {
      "model_module": "@jupyter-widgets/controls",
      "model_module_version": "2.0.0",
      "model_name": "HTMLStyleModel",
      "state": {
       "_model_module": "@jupyter-widgets/controls",
       "_model_module_version": "2.0.0",
       "_model_name": "HTMLStyleModel",
       "_view_count": null,
       "_view_module": "@jupyter-widgets/base",
       "_view_module_version": "2.0.0",
       "_view_name": "StyleView",
       "background": null,
       "description_width": "",
       "font_size": null,
       "text_color": null
      }
     },
     "8e858fdf20384196aa8989375078223c": {
      "model_module": "@jupyter-widgets/controls",
      "model_module_version": "2.0.0",
      "model_name": "HTMLModel",
      "state": {
       "_dom_classes": [],
       "_model_module": "@jupyter-widgets/controls",
       "_model_module_version": "2.0.0",
       "_model_name": "HTMLModel",
       "_view_count": null,
       "_view_module": "@jupyter-widgets/controls",
       "_view_module_version": "2.0.0",
       "_view_name": "HTMLView",
       "description": "",
       "description_allow_html": false,
       "layout": "IPY_MODEL_58197ea96c8d4208a27b23118644168f",
       "placeholder": "​",
       "style": "IPY_MODEL_6aee9427c56642c3a758e75c7f50945d",
       "tabbable": null,
       "tooltip": null,
       "value": "<iframe src=\"http://localhost:40521/index.html?ui=P_0x7fedf49b1c40_0&reconnect=auto\" class=\"pyvista\" style=\"width: 99%; height: 600px; border: 1px solid rgb(221,221,221);\"></iframe>"
      }
     }
    },
    "version_major": 2,
    "version_minor": 0
   }
  }
 },
 "nbformat": 4,
 "nbformat_minor": 5
}
