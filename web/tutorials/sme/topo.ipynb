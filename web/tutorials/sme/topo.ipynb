{
 "cells": [
  {
   "cell_type": "raw",
   "id": "906eac95",
   "metadata": {
    "vscode": {
     "languageId": "raw"
    }
   },
   "source": [
    "---\n",
    "title: \"Simple\"\n",
    "author: Ingo Steldermann\n",
    "date: 07/10/2025\n",
    "format:\n",
    "  html:\n",
    "    code-fold: false\n",
    "    code-tools: true\n",
    "    css: ../notebook.css\n",
    "---"
   ]
  },
  {
   "cell_type": "markdown",
   "id": "a8c5b74f",
   "metadata": {
    "vscode": {
     "languageId": "raw"
    }
   },
   "source": [
    "# Shallow Moments with topography (Simple)"
   ]
  },
  {
   "cell_type": "markdown",
   "id": "b7ce1821",
   "metadata": {
    "vscode": {
     "languageId": "raw"
    }
   },
   "source": [
    "## Imports"
   ]
  },
  {
   "cell_type": "code",
   "execution_count": 1,
   "id": "4f583c96",
   "metadata": {
    "tags": []
   },
   "outputs": [
    {
     "name": "stderr",
     "output_type": "stream",
     "text": [
      "\u001b[32m2025-08-30 11:43:44.620\u001b[0m | \u001b[33m\u001b[1mWARNING \u001b[0m | \u001b[36mlibrary.fvm.solver\u001b[0m:\u001b[36m<module>\u001b[0m:\u001b[36m28\u001b[0m - \u001b[33m\u001b[1mNo module named 'precice'\u001b[0m\n"
     ]
    },
    {
     "data": {
      "text/html": [
       "<script type=\"esms-options\">{\"shimMode\": true}</script><style>*[data-root-id],\n",
       "*[data-root-id] > * {\n",
       "  box-sizing: border-box;\n",
       "  font-family: var(--jp-ui-font-family);\n",
       "  font-size: var(--jp-ui-font-size1);\n",
       "  color: var(--vscode-editor-foreground, var(--jp-ui-font-color1));\n",
       "}\n",
       "\n",
       "/* Override VSCode background color */\n",
       ".cell-output-ipywidget-background:has(\n",
       "  > .cell-output-ipywidget-background > .lm-Widget > *[data-root-id]\n",
       "),\n",
       ".cell-output-ipywidget-background:has(> .lm-Widget > *[data-root-id]) {\n",
       "  background-color: transparent !important;\n",
       "}\n",
       "</style>"
      ]
     },
     "metadata": {},
     "output_type": "display_data"
    },
    {
     "data": {
      "application/javascript": "(function(root) {\n  function now() {\n    return new Date();\n  }\n\n  const force = true;\n  const py_version = '3.7.3'.replace('rc', '-rc.').replace('.dev', '-dev.');\n  const reloading = false;\n  const Bokeh = root.Bokeh;\n\n  // Set a timeout for this load but only if we are not already initializing\n  if (typeof (root._bokeh_timeout) === \"undefined\" || (force || !root._bokeh_is_initializing)) {\n    root._bokeh_timeout = Date.now() + 5000;\n    root._bokeh_failed_load = false;\n  }\n\n  function run_callbacks() {\n    try {\n      root._bokeh_onload_callbacks.forEach(function(callback) {\n        if (callback != null)\n          callback();\n      });\n    } finally {\n      delete root._bokeh_onload_callbacks;\n    }\n    console.debug(\"Bokeh: all callbacks have finished\");\n  }\n\n  function load_libs(css_urls, js_urls, js_modules, js_exports, callback) {\n    if (css_urls == null) css_urls = [];\n    if (js_urls == null) js_urls = [];\n    if (js_modules == null) js_modules = [];\n    if (js_exports == null) js_exports = {};\n\n    root._bokeh_onload_callbacks.push(callback);\n\n    if (root._bokeh_is_loading > 0) {\n      // Don't load bokeh if it is still initializing\n      console.debug(\"Bokeh: BokehJS is being loaded, scheduling callback at\", now());\n      return null;\n    } else if (js_urls.length === 0 && js_modules.length === 0 && Object.keys(js_exports).length === 0) {\n      // There is nothing to load\n      run_callbacks();\n      return null;\n    }\n\n    function on_load() {\n      root._bokeh_is_loading--;\n      if (root._bokeh_is_loading === 0) {\n        console.debug(\"Bokeh: all BokehJS libraries/stylesheets loaded\");\n        run_callbacks()\n      }\n    }\n    window._bokeh_on_load = on_load\n\n    function on_error(e) {\n      const src_el = e.srcElement\n      console.error(\"failed to load \" + (src_el.href || src_el.src));\n    }\n\n    const skip = [];\n    if (window.requirejs) {\n      window.requirejs.config({'packages': {}, 'paths': {'vtk': 'https://cdn.jsdelivr.net/npm/vtk.js@30.1.0/vtk'}, 'shim': {'vtk': {'exports': 'vtk'}}});\n      require([\"vtk\"], function() {\n        on_load()\n      })\n      root._bokeh_is_loading = css_urls.length + 1;\n    } else {\n      root._bokeh_is_loading = css_urls.length + js_urls.length + js_modules.length + Object.keys(js_exports).length;\n    }\n\n    const existing_stylesheets = []\n    const links = document.getElementsByTagName('link')\n    for (let i = 0; i < links.length; i++) {\n      const link = links[i]\n      if (link.href != null) {\n        existing_stylesheets.push(link.href)\n      }\n    }\n    for (let i = 0; i < css_urls.length; i++) {\n      const url = css_urls[i];\n      const escaped = encodeURI(url)\n      if (existing_stylesheets.indexOf(escaped) !== -1) {\n        on_load()\n        continue;\n      }\n      const element = document.createElement(\"link\");\n      element.onload = on_load;\n      element.onerror = on_error;\n      element.rel = \"stylesheet\";\n      element.type = \"text/css\";\n      element.href = url;\n      console.debug(\"Bokeh: injecting link tag for BokehJS stylesheet: \", url);\n      document.body.appendChild(element);\n    }    if (((window.vtk !== undefined) && (!(window.vtk instanceof HTMLElement))) || window.requirejs) {\n      var urls = ['https://cdn.holoviz.org/panel/1.7.5/dist/bundled/abstractvtkplot/vtk.js@30.1.0/vtk.js'];\n      for (var i = 0; i < urls.length; i++) {\n        skip.push(encodeURI(urls[i]))\n      }\n    }    var existing_scripts = []\n    const scripts = document.getElementsByTagName('script')\n    for (let i = 0; i < scripts.length; i++) {\n      var script = scripts[i]\n      if (script.src != null) {\n        existing_scripts.push(script.src)\n      }\n    }\n    for (let i = 0; i < js_urls.length; i++) {\n      const url = js_urls[i];\n      const escaped = encodeURI(url)\n      if (skip.indexOf(escaped) !== -1 || existing_scripts.indexOf(escaped) !== -1) {\n        if (!window.requirejs) {\n          on_load();\n        }\n        continue;\n      }\n      const element = document.createElement('script');\n      element.onload = on_load;\n      element.onerror = on_error;\n      element.async = false;\n      element.src = url;\n      console.debug(\"Bokeh: injecting script tag for BokehJS library: \", url);\n      document.head.appendChild(element);\n    }\n    for (let i = 0; i < js_modules.length; i++) {\n      const url = js_modules[i];\n      const escaped = encodeURI(url)\n      if (skip.indexOf(escaped) !== -1 || existing_scripts.indexOf(escaped) !== -1) {\n        if (!window.requirejs) {\n          on_load();\n        }\n        continue;\n      }\n      var element = document.createElement('script');\n      element.onload = on_load;\n      element.onerror = on_error;\n      element.async = false;\n      element.src = url;\n      element.type = \"module\";\n      console.debug(\"Bokeh: injecting script tag for BokehJS library: \", url);\n      document.head.appendChild(element);\n    }\n    for (const name in js_exports) {\n      const url = js_exports[name];\n      const escaped = encodeURI(url)\n      if (skip.indexOf(escaped) >= 0 || root[name] != null) {\n        if (!window.requirejs) {\n          on_load();\n        }\n        continue;\n      }\n      var element = document.createElement('script');\n      element.onerror = on_error;\n      element.async = false;\n      element.type = \"module\";\n      console.debug(\"Bokeh: injecting script tag for BokehJS library: \", url);\n      element.textContent = `\n      import ${name} from \"${url}\"\n      window.${name} = ${name}\n      window._bokeh_on_load()\n      `\n      document.head.appendChild(element);\n    }\n    if (!js_urls.length && !js_modules.length) {\n      on_load()\n    }\n  };\n\n  function inject_raw_css(css) {\n    const element = document.createElement(\"style\");\n    element.appendChild(document.createTextNode(css));\n    document.body.appendChild(element);\n  }\n\n  const js_urls = [\"https://cdn.holoviz.org/panel/1.7.5/dist/bundled/reactiveesm/es-module-shims@^1.10.0/dist/es-module-shims.min.js\", \"https://cdn.holoviz.org/panel/1.7.5/dist/bundled/abstractvtkplot/vtk.js@30.1.0/vtk.js\", \"https://cdn.bokeh.org/bokeh/release/bokeh-3.7.3.min.js\", \"https://cdn.bokeh.org/bokeh/release/bokeh-gl-3.7.3.min.js\", \"https://cdn.bokeh.org/bokeh/release/bokeh-widgets-3.7.3.min.js\", \"https://cdn.bokeh.org/bokeh/release/bokeh-tables-3.7.3.min.js\", \"https://cdn.holoviz.org/panel/1.7.5/dist/panel.min.js\"];\n  const js_modules = [];\n  const js_exports = {};\n  const css_urls = [];\n  const inline_js = [    function(Bokeh) {\n      Bokeh.set_log_level(\"info\");\n    },\nfunction(Bokeh) {} // ensure no trailing comma for IE\n  ];\n\n  function run_inline_js() {\n    if ((root.Bokeh !== undefined) || (force === true)) {\n      for (let i = 0; i < inline_js.length; i++) {\n        try {\n          inline_js[i].call(root, root.Bokeh);\n        } catch(e) {\n          if (!reloading) {\n            throw e;\n          }\n        }\n      }\n      // Cache old bokeh versions\n      if (Bokeh != undefined && !reloading) {\n        var NewBokeh = root.Bokeh;\n        if (Bokeh.versions === undefined) {\n          Bokeh.versions = new Map();\n        }\n        if (NewBokeh.version !== Bokeh.version) {\n          Bokeh.versions.set(NewBokeh.version, NewBokeh)\n        }\n        root.Bokeh = Bokeh;\n      }\n    } else if (Date.now() < root._bokeh_timeout) {\n      setTimeout(run_inline_js, 100);\n    } else if (!root._bokeh_failed_load) {\n      console.log(\"Bokeh: BokehJS failed to load within specified timeout.\");\n      root._bokeh_failed_load = true;\n    }\n    root._bokeh_is_initializing = false\n  }\n\n  function load_or_wait() {\n    // Implement a backoff loop that tries to ensure we do not load multiple\n    // versions of Bokeh and its dependencies at the same time.\n    // In recent versions we use the root._bokeh_is_initializing flag\n    // to determine whether there is an ongoing attempt to initialize\n    // bokeh, however for backward compatibility we also try to ensure\n    // that we do not start loading a newer (Panel>=1.0 and Bokeh>3) version\n    // before older versions are fully initialized.\n    if (root._bokeh_is_initializing && Date.now() > root._bokeh_timeout) {\n      // If the timeout and bokeh was not successfully loaded we reset\n      // everything and try loading again\n      root._bokeh_timeout = Date.now() + 5000;\n      root._bokeh_is_initializing = false;\n      root._bokeh_onload_callbacks = undefined;\n      root._bokeh_is_loading = 0\n      console.log(\"Bokeh: BokehJS was loaded multiple times but one version failed to initialize.\");\n      load_or_wait();\n    } else if (root._bokeh_is_initializing || (typeof root._bokeh_is_initializing === \"undefined\" && root._bokeh_onload_callbacks !== undefined)) {\n      setTimeout(load_or_wait, 100);\n    } else {\n      root._bokeh_is_initializing = true\n      root._bokeh_onload_callbacks = []\n      const bokeh_loaded = root.Bokeh != null && (root.Bokeh.version === py_version || (root.Bokeh.versions !== undefined && root.Bokeh.versions.has(py_version)));\n      if (!reloading && !bokeh_loaded) {\n        if (root.Bokeh) {\n          root.Bokeh = undefined;\n        }\n        console.debug(\"Bokeh: BokehJS not loaded, scheduling load and callback at\", now());\n      }\n      load_libs(css_urls, js_urls, js_modules, js_exports, function() {\n        console.debug(\"Bokeh: BokehJS plotting callback run at\", now());\n        run_inline_js();\n      });\n    }\n  }\n  // Give older versions of the autoload script a head-start to ensure\n  // they initialize before we start loading newer version.\n  setTimeout(load_or_wait, 100)\n}(window));",
      "application/vnd.holoviews_load.v0+json": ""
     },
     "metadata": {},
     "output_type": "display_data"
    },
    {
     "data": {
      "application/javascript": "\nif ((window.PyViz === undefined) || (window.PyViz instanceof HTMLElement)) {\n  window.PyViz = {comms: {}, comm_status:{}, kernels:{}, receivers: {}, plot_index: []}\n}\n\n\n    function JupyterCommManager() {\n    }\n\n    JupyterCommManager.prototype.register_target = function(plot_id, comm_id, msg_handler) {\n      if (window.comm_manager || ((window.Jupyter !== undefined) && (Jupyter.notebook.kernel != null))) {\n        var comm_manager = window.comm_manager || Jupyter.notebook.kernel.comm_manager;\n        comm_manager.register_target(comm_id, function(comm) {\n          comm.on_msg(msg_handler);\n        });\n      } else if ((plot_id in window.PyViz.kernels) && (window.PyViz.kernels[plot_id])) {\n        window.PyViz.kernels[plot_id].registerCommTarget(comm_id, function(comm) {\n          comm.onMsg = msg_handler;\n        });\n      } else if (typeof google != 'undefined' && google.colab.kernel != null) {\n        google.colab.kernel.comms.registerTarget(comm_id, (comm) => {\n          var messages = comm.messages[Symbol.asyncIterator]();\n          function processIteratorResult(result) {\n            var message = result.value;\n            var content = {data: message.data, comm_id};\n            var buffers = []\n            for (var buffer of message.buffers || []) {\n              buffers.push(new DataView(buffer))\n            }\n            var metadata = message.metadata || {};\n            var msg = {content, buffers, metadata}\n            msg_handler(msg);\n            return messages.next().then(processIteratorResult);\n          }\n          return messages.next().then(processIteratorResult);\n        })\n      }\n    }\n\n    JupyterCommManager.prototype.get_client_comm = function(plot_id, comm_id, msg_handler) {\n      if (comm_id in window.PyViz.comms) {\n        return window.PyViz.comms[comm_id];\n      } else if (window.comm_manager || ((window.Jupyter !== undefined) && (Jupyter.notebook.kernel != null))) {\n        var comm_manager = window.comm_manager || Jupyter.notebook.kernel.comm_manager;\n        var comm = comm_manager.new_comm(comm_id, {}, {}, {}, comm_id);\n        if (msg_handler) {\n          comm.on_msg(msg_handler);\n        }\n      } else if ((plot_id in window.PyViz.kernels) && (window.PyViz.kernels[plot_id])) {\n        var comm = window.PyViz.kernels[plot_id].connectToComm(comm_id);\n        let retries = 0;\n        const open = () => {\n          if (comm.active) {\n            comm.open();\n          } else if (retries > 3) {\n            console.warn('Comm target never activated')\n          } else {\n            retries += 1\n            setTimeout(open, 500)\n          }\n        }\n        if (comm.active) {\n          comm.open();\n        } else {\n          setTimeout(open, 500)\n        }\n        if (msg_handler) {\n          comm.onMsg = msg_handler;\n        }\n      } else if (typeof google != 'undefined' && google.colab.kernel != null) {\n        var comm_promise = google.colab.kernel.comms.open(comm_id)\n        comm_promise.then((comm) => {\n          window.PyViz.comms[comm_id] = comm;\n          if (msg_handler) {\n            var messages = comm.messages[Symbol.asyncIterator]();\n            function processIteratorResult(result) {\n              var message = result.value;\n              var content = {data: message.data};\n              var metadata = message.metadata || {comm_id};\n              var msg = {content, metadata}\n              msg_handler(msg);\n              return messages.next().then(processIteratorResult);\n            }\n            return messages.next().then(processIteratorResult);\n          }\n        })\n        var sendClosure = (data, metadata, buffers, disposeOnDone) => {\n          return comm_promise.then((comm) => {\n            comm.send(data, metadata, buffers, disposeOnDone);\n          });\n        };\n        var comm = {\n          send: sendClosure\n        };\n      }\n      window.PyViz.comms[comm_id] = comm;\n      return comm;\n    }\n    window.PyViz.comm_manager = new JupyterCommManager();\n    \n\n\nvar JS_MIME_TYPE = 'application/javascript';\nvar HTML_MIME_TYPE = 'text/html';\nvar EXEC_MIME_TYPE = 'application/vnd.holoviews_exec.v0+json';\nvar CLASS_NAME = 'output';\n\n/**\n * Render data to the DOM node\n */\nfunction render(props, node) {\n  var div = document.createElement(\"div\");\n  var script = document.createElement(\"script\");\n  node.appendChild(div);\n  node.appendChild(script);\n}\n\n/**\n * Handle when a new output is added\n */\nfunction handle_add_output(event, handle) {\n  var output_area = handle.output_area;\n  var output = handle.output;\n  if ((output.data == undefined) || (!output.data.hasOwnProperty(EXEC_MIME_TYPE))) {\n    return\n  }\n  var id = output.metadata[EXEC_MIME_TYPE][\"id\"];\n  var toinsert = output_area.element.find(\".\" + CLASS_NAME.split(' ')[0]);\n  if (id !== undefined) {\n    var nchildren = toinsert.length;\n    var html_node = toinsert[nchildren-1].children[0];\n    html_node.innerHTML = output.data[HTML_MIME_TYPE];\n    var scripts = [];\n    var nodelist = html_node.querySelectorAll(\"script\");\n    for (var i in nodelist) {\n      if (nodelist.hasOwnProperty(i)) {\n        scripts.push(nodelist[i])\n      }\n    }\n\n    scripts.forEach( function (oldScript) {\n      var newScript = document.createElement(\"script\");\n      var attrs = [];\n      var nodemap = oldScript.attributes;\n      for (var j in nodemap) {\n        if (nodemap.hasOwnProperty(j)) {\n          attrs.push(nodemap[j])\n        }\n      }\n      attrs.forEach(function(attr) { newScript.setAttribute(attr.name, attr.value) });\n      newScript.appendChild(document.createTextNode(oldScript.innerHTML));\n      oldScript.parentNode.replaceChild(newScript, oldScript);\n    });\n    if (JS_MIME_TYPE in output.data) {\n      toinsert[nchildren-1].children[1].textContent = output.data[JS_MIME_TYPE];\n    }\n    output_area._hv_plot_id = id;\n    if ((window.Bokeh !== undefined) && (id in Bokeh.index)) {\n      window.PyViz.plot_index[id] = Bokeh.index[id];\n    } else {\n      window.PyViz.plot_index[id] = null;\n    }\n  } else if (output.metadata[EXEC_MIME_TYPE][\"server_id\"] !== undefined) {\n    var bk_div = document.createElement(\"div\");\n    bk_div.innerHTML = output.data[HTML_MIME_TYPE];\n    var script_attrs = bk_div.children[0].attributes;\n    for (var i = 0; i < script_attrs.length; i++) {\n      toinsert[toinsert.length - 1].childNodes[1].setAttribute(script_attrs[i].name, script_attrs[i].value);\n    }\n    // store reference to server id on output_area\n    output_area._bokeh_server_id = output.metadata[EXEC_MIME_TYPE][\"server_id\"];\n  }\n}\n\n/**\n * Handle when an output is cleared or removed\n */\nfunction handle_clear_output(event, handle) {\n  var id = handle.cell.output_area._hv_plot_id;\n  var server_id = handle.cell.output_area._bokeh_server_id;\n  if (((id === undefined) || !(id in PyViz.plot_index)) && (server_id !== undefined)) { return; }\n  var comm = window.PyViz.comm_manager.get_client_comm(\"hv-extension-comm\", \"hv-extension-comm\", function () {});\n  if (server_id !== null) {\n    comm.send({event_type: 'server_delete', 'id': server_id});\n    return;\n  } else if (comm !== null) {\n    comm.send({event_type: 'delete', 'id': id});\n  }\n  delete PyViz.plot_index[id];\n  if ((window.Bokeh !== undefined) & (id in window.Bokeh.index)) {\n    var doc = window.Bokeh.index[id].model.document\n    doc.clear();\n    const i = window.Bokeh.documents.indexOf(doc);\n    if (i > -1) {\n      window.Bokeh.documents.splice(i, 1);\n    }\n  }\n}\n\n/**\n * Handle kernel restart event\n */\nfunction handle_kernel_cleanup(event, handle) {\n  delete PyViz.comms[\"hv-extension-comm\"];\n  window.PyViz.plot_index = {}\n}\n\n/**\n * Handle update_display_data messages\n */\nfunction handle_update_output(event, handle) {\n  handle_clear_output(event, {cell: {output_area: handle.output_area}})\n  handle_add_output(event, handle)\n}\n\nfunction register_renderer(events, OutputArea) {\n  function append_mime(data, metadata, element) {\n    // create a DOM node to render to\n    var toinsert = this.create_output_subarea(\n    metadata,\n    CLASS_NAME,\n    EXEC_MIME_TYPE\n    );\n    this.keyboard_manager.register_events(toinsert);\n    // Render to node\n    var props = {data: data, metadata: metadata[EXEC_MIME_TYPE]};\n    render(props, toinsert[0]);\n    element.append(toinsert);\n    return toinsert\n  }\n\n  events.on('output_added.OutputArea', handle_add_output);\n  events.on('output_updated.OutputArea', handle_update_output);\n  events.on('clear_output.CodeCell', handle_clear_output);\n  events.on('delete.Cell', handle_clear_output);\n  events.on('kernel_ready.Kernel', handle_kernel_cleanup);\n\n  OutputArea.prototype.register_mime_type(EXEC_MIME_TYPE, append_mime, {\n    safe: true,\n    index: 0\n  });\n}\n\nif (window.Jupyter !== undefined) {\n  try {\n    var events = require('base/js/events');\n    var OutputArea = require('notebook/js/outputarea').OutputArea;\n    if (OutputArea.prototype.mime_types().indexOf(EXEC_MIME_TYPE) == -1) {\n      register_renderer(events, OutputArea);\n    }\n  } catch(err) {\n  }\n}\n",
      "application/vnd.holoviews_load.v0+json": ""
     },
     "metadata": {},
     "output_type": "display_data"
    },
    {
     "data": {
      "application/vnd.holoviews_exec.v0+json": "",
      "text/html": [
       "<div id='81c39046-924c-42ae-9e7d-905819caa654'>\n",
       "  <div id=\"deb7c9a7-f5ea-454d-afe6-3e0818461ae7\" data-root-id=\"81c39046-924c-42ae-9e7d-905819caa654\" style=\"display: contents;\"></div>\n",
       "</div>\n",
       "<script type=\"application/javascript\">(function(root) {\n",
       "  var docs_json = {\"76e588d5-e12b-4cfc-a511-6a45368dc20a\":{\"version\":\"3.7.3\",\"title\":\"Bokeh Application\",\"roots\":[{\"type\":\"object\",\"name\":\"panel.models.browser.BrowserInfo\",\"id\":\"81c39046-924c-42ae-9e7d-905819caa654\"},{\"type\":\"object\",\"name\":\"panel.models.comm_manager.CommManager\",\"id\":\"96fcc141-e6bd-463a-bd6b-f67f87911abe\",\"attributes\":{\"plot_id\":\"81c39046-924c-42ae-9e7d-905819caa654\",\"comm_id\":\"5383e42d6a744949abbec2e5d88cd077\",\"client_comm_id\":\"988ebcb4302e44268e749131e4e7685e\"}}],\"defs\":[{\"type\":\"model\",\"name\":\"ReactiveHTML1\"},{\"type\":\"model\",\"name\":\"FlexBox1\",\"properties\":[{\"name\":\"align_content\",\"kind\":\"Any\",\"default\":\"flex-start\"},{\"name\":\"align_items\",\"kind\":\"Any\",\"default\":\"flex-start\"},{\"name\":\"flex_direction\",\"kind\":\"Any\",\"default\":\"row\"},{\"name\":\"flex_wrap\",\"kind\":\"Any\",\"default\":\"wrap\"},{\"name\":\"gap\",\"kind\":\"Any\",\"default\":\"\"},{\"name\":\"justify_content\",\"kind\":\"Any\",\"default\":\"flex-start\"}]},{\"type\":\"model\",\"name\":\"FloatPanel1\",\"properties\":[{\"name\":\"config\",\"kind\":\"Any\",\"default\":{\"type\":\"map\"}},{\"name\":\"contained\",\"kind\":\"Any\",\"default\":true},{\"name\":\"position\",\"kind\":\"Any\",\"default\":\"right-top\"},{\"name\":\"offsetx\",\"kind\":\"Any\",\"default\":null},{\"name\":\"offsety\",\"kind\":\"Any\",\"default\":null},{\"name\":\"theme\",\"kind\":\"Any\",\"default\":\"primary\"},{\"name\":\"status\",\"kind\":\"Any\",\"default\":\"normalized\"}]},{\"type\":\"model\",\"name\":\"GridStack1\",\"properties\":[{\"name\":\"ncols\",\"kind\":\"Any\",\"default\":null},{\"name\":\"nrows\",\"kind\":\"Any\",\"default\":null},{\"name\":\"allow_resize\",\"kind\":\"Any\",\"default\":true},{\"name\":\"allow_drag\",\"kind\":\"Any\",\"default\":true},{\"name\":\"state\",\"kind\":\"Any\",\"default\":[]}]},{\"type\":\"model\",\"name\":\"drag1\",\"properties\":[{\"name\":\"slider_width\",\"kind\":\"Any\",\"default\":5},{\"name\":\"slider_color\",\"kind\":\"Any\",\"default\":\"black\"},{\"name\":\"value\",\"kind\":\"Any\",\"default\":50}]},{\"type\":\"model\",\"name\":\"click1\",\"properties\":[{\"name\":\"terminal_output\",\"kind\":\"Any\",\"default\":\"\"},{\"name\":\"debug_name\",\"kind\":\"Any\",\"default\":\"\"},{\"name\":\"clears\",\"kind\":\"Any\",\"default\":0}]},{\"type\":\"model\",\"name\":\"ReactiveESM1\",\"properties\":[{\"name\":\"esm_constants\",\"kind\":\"Any\",\"default\":{\"type\":\"map\"}}]},{\"type\":\"model\",\"name\":\"JSComponent1\",\"properties\":[{\"name\":\"esm_constants\",\"kind\":\"Any\",\"default\":{\"type\":\"map\"}}]},{\"type\":\"model\",\"name\":\"ReactComponent1\",\"properties\":[{\"name\":\"use_shadow_dom\",\"kind\":\"Any\",\"default\":true},{\"name\":\"esm_constants\",\"kind\":\"Any\",\"default\":{\"type\":\"map\"}}]},{\"type\":\"model\",\"name\":\"AnyWidgetComponent1\",\"properties\":[{\"name\":\"use_shadow_dom\",\"kind\":\"Any\",\"default\":true},{\"name\":\"esm_constants\",\"kind\":\"Any\",\"default\":{\"type\":\"map\"}}]},{\"type\":\"model\",\"name\":\"FastWrapper1\",\"properties\":[{\"name\":\"object\",\"kind\":\"Any\",\"default\":null},{\"name\":\"style\",\"kind\":\"Any\",\"default\":null}]},{\"type\":\"model\",\"name\":\"NotificationArea1\",\"properties\":[{\"name\":\"js_events\",\"kind\":\"Any\",\"default\":{\"type\":\"map\"}},{\"name\":\"max_notifications\",\"kind\":\"Any\",\"default\":5},{\"name\":\"notifications\",\"kind\":\"Any\",\"default\":[]},{\"name\":\"position\",\"kind\":\"Any\",\"default\":\"bottom-right\"},{\"name\":\"_clear\",\"kind\":\"Any\",\"default\":0},{\"name\":\"types\",\"kind\":\"Any\",\"default\":[{\"type\":\"map\",\"entries\":[[\"type\",\"warning\"],[\"background\",\"#ffc107\"],[\"icon\",{\"type\":\"map\",\"entries\":[[\"className\",\"fas fa-exclamation-triangle\"],[\"tagName\",\"i\"],[\"color\",\"white\"]]}]]},{\"type\":\"map\",\"entries\":[[\"type\",\"info\"],[\"background\",\"#007bff\"],[\"icon\",{\"type\":\"map\",\"entries\":[[\"className\",\"fas fa-info-circle\"],[\"tagName\",\"i\"],[\"color\",\"white\"]]}]]}]}]},{\"type\":\"model\",\"name\":\"Notification\",\"properties\":[{\"name\":\"background\",\"kind\":\"Any\",\"default\":null},{\"name\":\"duration\",\"kind\":\"Any\",\"default\":3000},{\"name\":\"icon\",\"kind\":\"Any\",\"default\":null},{\"name\":\"message\",\"kind\":\"Any\",\"default\":\"\"},{\"name\":\"notification_type\",\"kind\":\"Any\",\"default\":null},{\"name\":\"_rendered\",\"kind\":\"Any\",\"default\":false},{\"name\":\"_destroyed\",\"kind\":\"Any\",\"default\":false}]},{\"type\":\"model\",\"name\":\"TemplateActions1\",\"properties\":[{\"name\":\"open_modal\",\"kind\":\"Any\",\"default\":0},{\"name\":\"close_modal\",\"kind\":\"Any\",\"default\":0}]},{\"type\":\"model\",\"name\":\"BootstrapTemplateActions1\",\"properties\":[{\"name\":\"open_modal\",\"kind\":\"Any\",\"default\":0},{\"name\":\"close_modal\",\"kind\":\"Any\",\"default\":0}]},{\"type\":\"model\",\"name\":\"TemplateEditor1\",\"properties\":[{\"name\":\"layout\",\"kind\":\"Any\",\"default\":[]}]},{\"type\":\"model\",\"name\":\"MaterialTemplateActions1\",\"properties\":[{\"name\":\"open_modal\",\"kind\":\"Any\",\"default\":0},{\"name\":\"close_modal\",\"kind\":\"Any\",\"default\":0}]},{\"type\":\"model\",\"name\":\"request_value1\",\"properties\":[{\"name\":\"fill\",\"kind\":\"Any\",\"default\":\"none\"},{\"name\":\"_synced\",\"kind\":\"Any\",\"default\":null},{\"name\":\"_request_sync\",\"kind\":\"Any\",\"default\":0}]}]}};\n",
       "  var render_items = [{\"docid\":\"76e588d5-e12b-4cfc-a511-6a45368dc20a\",\"roots\":{\"81c39046-924c-42ae-9e7d-905819caa654\":\"deb7c9a7-f5ea-454d-afe6-3e0818461ae7\"},\"root_ids\":[\"81c39046-924c-42ae-9e7d-905819caa654\"]}];\n",
       "  var docs = Object.values(docs_json)\n",
       "  if (!docs) {\n",
       "    return\n",
       "  }\n",
       "  const py_version = docs[0].version.replace('rc', '-rc.').replace('.dev', '-dev.')\n",
       "  async function embed_document(root) {\n",
       "    var Bokeh = get_bokeh(root)\n",
       "    await Bokeh.embed.embed_items_notebook(docs_json, render_items);\n",
       "    for (const render_item of render_items) {\n",
       "      for (const root_id of render_item.root_ids) {\n",
       "\tconst id_el = document.getElementById(root_id)\n",
       "\tif (id_el.children.length && id_el.children[0].hasAttribute('data-root-id')) {\n",
       "\t  const root_el = id_el.children[0]\n",
       "\t  root_el.id = root_el.id + '-rendered'\n",
       "\t  for (const child of root_el.children) {\n",
       "            // Ensure JupyterLab does not capture keyboard shortcuts\n",
       "            // see: https://jupyterlab.readthedocs.io/en/4.1.x/extension/notebook.html#keyboard-interaction-model\n",
       "\t    child.setAttribute('data-lm-suppress-shortcuts', 'true')\n",
       "\t  }\n",
       "\t}\n",
       "      }\n",
       "    }\n",
       "  }\n",
       "  function get_bokeh(root) {\n",
       "    if (root.Bokeh === undefined) {\n",
       "      return null\n",
       "    } else if (root.Bokeh.version !== py_version) {\n",
       "      if (root.Bokeh.versions === undefined || !root.Bokeh.versions.has(py_version)) {\n",
       "\treturn null\n",
       "      }\n",
       "      return root.Bokeh.versions.get(py_version);\n",
       "    } else if (root.Bokeh.version === py_version) {\n",
       "      return root.Bokeh\n",
       "    }\n",
       "    return null\n",
       "  }\n",
       "  function is_loaded(root) {\n",
       "    var Bokeh = get_bokeh(root)\n",
       "    return (Bokeh != null && Bokeh.Panel !== undefined && ( root.vtk !== undefined) && ( root.vtk !== undefined))\n",
       "  }\n",
       "  if (is_loaded(root)) {\n",
       "    embed_document(root);\n",
       "  } else {\n",
       "    var attempts = 0;\n",
       "    var timer = setInterval(function(root) {\n",
       "      if (is_loaded(root)) {\n",
       "        clearInterval(timer);\n",
       "        embed_document(root);\n",
       "      } else if (document.readyState == \"complete\") {\n",
       "        attempts++;\n",
       "        if (attempts > 200) {\n",
       "          clearInterval(timer);\n",
       "\t  var Bokeh = get_bokeh(root)\n",
       "\t  if (Bokeh == null || Bokeh.Panel == null) {\n",
       "            console.warn(\"Panel: ERROR: Unable to run Panel code because Bokeh or Panel library is missing\");\n",
       "\t  } else {\n",
       "\t    console.warn(\"Panel: WARNING: Attempting to render but not all required libraries could be resolved.\")\n",
       "\t    embed_document(root)\n",
       "\t  }\n",
       "        }\n",
       "      }\n",
       "    }, 25, root)\n",
       "  }\n",
       "})(window);</script>"
      ]
     },
     "metadata": {
      "application/vnd.holoviews_exec.v0+json": {
       "id": "81c39046-924c-42ae-9e7d-905819caa654"
      }
     },
     "output_type": "display_data"
    }
   ],
   "source": [
    "# | code-fold: true\n",
    "# | code-summary: \"Load packages\"\n",
    "# | output: false\n",
    "\n",
    "import os\n",
    "import numpy as np\n",
    "import jax\n",
    "from jax import numpy as jnp\n",
    "import pytest\n",
    "from types import SimpleNamespace\n",
    "from sympy import cos, pi, Piecewise, Matrix\n",
    "\n",
    "from library.fvm.solver import HyperbolicSolver, Settings\n",
    "from library.fvm.ode import RK1\n",
    "import library.fvm.reconstruction as recon\n",
    "import library.fvm.timestepping as timestepping\n",
    "import library.fvm.flux as flux\n",
    "import library.fvm.nonconservative_flux as nc_flux\n",
    "from library.model.boundary_conditions import BoundaryCondition\n",
    "from library.model.models.basisfunctions import Basisfunction, Legendre_shifted\n",
    "from library.model.models.basismatrices import Basismatrices\n",
    "from library.misc.misc import Zstruct\n",
    "\n",
    "from library.model.models.shallow_moments_topo import ShallowMomentsTopo, ShallowMomentsTopoNumerical\n",
    "from library.model.models.shallow_moments import ShallowMoments2d\n",
    "\n",
    "import library.model.initial_conditions as IC\n",
    "import library.model.boundary_conditions as BC\n",
    "import library.misc.io as io\n",
    "from library.mesh.mesh import compute_derivatives\n",
    "from tests.pdesoft import plots_paper\n",
    "import library.postprocessing.visualization as visu\n",
    "\n",
    "\n",
    "import library.mesh.mesh as petscMesh\n",
    "import library.postprocessing.postprocessing as postprocessing\n",
    "from library.mesh.mesh import convert_mesh_to_jax\n",
    "import argparse"
   ]
  },
  {
   "cell_type": "markdown",
   "id": "96d5e564",
   "metadata": {},
   "source": [
    "## Model"
   ]
  },
  {
   "cell_type": "code",
   "execution_count": null,
   "id": "ad87e829-022c-4468-a8b1-55f0965a2e07",
   "metadata": {
    "tags": []
   },
   "outputs": [
    {
     "name": "stderr",
     "output_type": "stream",
     "text": [
      "\u001b[32m2025-08-30 11:43:47.392\u001b[0m | \u001b[33m\u001b[1mWARNING \u001b[0m | \u001b[36mlibrary.misc.misc\u001b[0m:\u001b[36m__init__\u001b[0m:\u001b[36m146\u001b[0m - \u001b[33m\u001b[1mNo 'clean_directory' attribute found in output Zstruct. Default: False\u001b[0m\n"
     ]
    }
   ],
   "source": [
    "level = 4\n",
    "offset = 1+level\n",
    "n_fields = 3 + 2 * level\n",
    "settings = Settings(\n",
    "    name=\"SME\",\n",
    "    output=Zstruct(\n",
    "        directory=f\"outputs/topo_{level}\", filename=\"SME\", snapshots=30\n",
    "    ),\n",
    ")"
   ]
  },
  {
   "cell_type": "code",
   "execution_count": null,
   "id": "fd25e4e2-4653-441c-a82b-4d4c2e4c013b",
   "metadata": {
    "tags": []
   },
   "outputs": [
    {
     "name": "stdout",
     "output_type": "stream",
     "text": [
      "\n"
     ]
    }
   ],
   "source": [
    "inflow_dict = { \n",
    "    0: lambda t, x, dx, q, qaux, p, n: q[0],\n",
    "    1: lambda t, x, dx, q, qaux, p, n: Piecewise((0.1, t < 0.2),(q[1], True)),\n",
    "    2: lambda t, x, dx, q, qaux, p, n: Piecewise((0.3, t < 0.2),(-q[2], True)),\n",
    "                }\n",
    "inflow_dict.update({2+i: lambda t, x, dx, q, qaux, p, n: 0.0 for i in range(1, level+1)})\n",
    "inflow_dict.update({2+offset+i: lambda t, x, dx, q, qaux, p, n: 0.0 for i in range(level+1)})\n",
    "\n",
    "bcs = BC.BoundaryConditions(\n",
    "    [\n",
    "        BC.Lambda(physical_tag=\"inflow\", prescribe_fields=inflow_dict),\n",
    "        BC.Wall(physical_tag=\"wall\", momentum_field_indices=[[2+i, 2+offset+i] for i in range(level+1)]),\n",
    "    ]\n",
    ")\n",
    "\n",
    "def custom_ic(x):\n",
    "    Q = np.zeros(4 + 2 * level, dtype=float)\n",
    "    Q[0] = x[0] * (0.01)\n",
    "    Q[1] = np.where(x[0] < 0.35, 0.01, 0.)\n",
    "    return Q\n",
    "\n",
    "# def custom_ic_aux(x):\n",
    "#     Q = custom_ic(x)\n",
    "#     h = Q[1]\n",
    "#     # Qaux = np.zeros(1 + 2 + 2 * level, dtype=float)\n",
    "#     Qaux = np.zeros(1, dtype=float)\n",
    "#     Qaux[0] = np.where(h > 0, 1/h, 0.0)\n",
    "#     return Qaux\n",
    "\n",
    "ic = IC.UserFunction(custom_ic)\n",
    "# ic_aux = IC.UserFunction(custom_ic_aux)\n",
    "\n",
    "class MyModel(ShallowMomentsTopoNumerical):\n",
    "    def source(self):\n",
    "        out = Matrix([0 for i in range(self.n_variables)])\n",
    "        out += self.newtonian()\n",
    "        out += self.slip_mod()\n",
    "        return self.substitute_precomputed_denominator(out, self.variables[1], self.aux_variables.hinv)\n",
    "        \n",
    "\n",
    "model = MyModel(\n",
    "    level=level,\n",
    "    boundary_conditions=bcs,\n",
    "    initial_conditions=ic,\n",
    "    # aux_initial_conditions=ic_aux,\n",
    "    parameters=Zstruct(nu=0.000001, lamda=1/1000., c_slipmod=1/30),\n",
    "    aux_variables = ['hinv'] + [f'dalpha_{i}_dx' for i in range(level+1)] + [f'dbeta_{i}_dy' for i in range(level+1)],\n",
    "    # aux_variables = ['hinv'],\n",
    "    \n",
    ")\n",
    "\n",
    "main_dir = os.getenv(\"ZOOMY_DIR\")\n",
    "mesh = petscMesh.Mesh.from_gmsh(\n",
    "    os.path.join(main_dir, \"meshes/channel_junction/mesh_2d_coarse.msh\")\n",
    "    # os.path.join(main_dir, \"meshes/channel_junction/mesh_2d_fine.msh\")\n",
    ")\n",
    "\n",
    "mesh = convert_mesh_to_jax(mesh)\n",
    "class SMESolver(HyperbolicSolver):\n",
    "    def update_q(self, Q, Qaux, mesh, model, parameters):\n",
    "        h = Q[1]\n",
    "        h = jnp.where(h > 0, h, 0.0)\n",
    "        eps = 1e-6\n",
    "        denom = jnp.where(h**2 > eps, h**2, eps)\n",
    "        factor = (h**2) / denom\n",
    "        \n",
    "        Q = Q.at[1:].multiply(factor)\n",
    "        # Q = Q.at[1].set(h)\n",
    "        return Q\n",
    "    \n",
    "    def update_qaux(self, Q, Qaux, Qold, Qauxold, mesh, model, parameters, time, dt):\n",
    "        level = (model.n_variables-2)//2 -1\n",
    "        offset = 1+level\n",
    "        ## h with wet/dry fix\n",
    "        h = Q[1]\n",
    "        # hinv = 1/h\n",
    "\n",
    "        ### This does not work for some reason\n",
    "        # h = jnp.where(h > 0, h, 0.0)\n",
    "        # eps = 1e-6\n",
    "        # denom = jnp.sqrt(h**4 + jnp.where(h**4 > eps, h**4, eps))\n",
    "        # hinv = (jnp.sqrt(2.0) * h) / denom\n",
    "        # Qaux = Qaux.at[0].set(hinv)\n",
    "        \n",
    "        h = jnp.where(h > 0, h, 0.0)\n",
    "        eps = 1e-6\n",
    "        denom = jnp.where(h**2 > eps, h**2, eps)\n",
    "        hinv = (h) / denom\n",
    "        Qaux = Qaux.at[0].set(hinv)\n",
    "        \n",
    "        idxs = jnp.arange(level+1)\n",
    "\n",
    "        # derivatives of alpha and beta for 3d interpolation\n",
    "        # dalphaidx for each i\n",
    "        dalphaidxs = jax.vmap(\n",
    "            lambda i: compute_derivatives(Q[2+i] * hinv, mesh,\n",
    "                                        derivatives_multi_index=[[0, 0]])[:, 0]\n",
    "        )(idxs)\n",
    "\n",
    "        # dbetaidy for each i\n",
    "        dbetaidys = jax.vmap(\n",
    "            lambda i: compute_derivatives(Q[2+offset+i] * hinv, mesh,\n",
    "                                        derivatives_multi_index=[[0, 1]])[:, 0]\n",
    "        )(idxs)\n",
    "\n",
    "        # scatter results into Qaux\n",
    "        Qaux = Qaux.at[1:1+level+1].set(dalphaidxs)\n",
    "        Qaux = Qaux.at[1+offset:1+offset+level+1].set(dbetaidys)\n",
    "        \n",
    "        return Qaux\n",
    "# solver = SMESolver(settings=settings, time_end=0.000035, compute_dt=timestepping.constant(dt =0.0000001))\n",
    "\n",
    "solver = SMESolver(settings=settings, time_end=1.3, compute_dt=timestepping.adaptive(CFL=0.45))"
   ]
  },
  {
   "cell_type": "code",
   "execution_count": 4,
   "id": "a0314852",
   "metadata": {},
   "outputs": [
    {
     "data": {
      "image/png": "[encoded data removed]",
      "text/latex": [
       "$\\displaystyle \\left[\\begin{matrix}q_{0}\\\\q_{1}\\\\hinv q_{2}\\\\hinv q_{3}\\\\0\\\\g q_{1} \\rho \\left(1 - X_{2}\\right)\\end{matrix}\\right]$"
      ],
      "text/plain": [
       "⎡      q₀       ⎤\n",
       "⎢               ⎥\n",
       "⎢      q₁       ⎥\n",
       "⎢               ⎥\n",
       "⎢    hinv⋅q₂    ⎥\n",
       "⎢               ⎥\n",
       "⎢    hinv⋅q₃    ⎥\n",
       "⎢               ⎥\n",
       "⎢       0       ⎥\n",
       "⎢               ⎥\n",
       "⎣g⋅q₁⋅ρ⋅(1 - X₂)⎦"
      ]
     },
     "execution_count": 4,
     "metadata": {},
     "output_type": "execute_result"
    }
   ],
   "source": [
    "model.interpolate_3d()"
   ]
  },
  {
   "cell_type": "code",
   "execution_count": 5,
   "id": "b408a0e4",
   "metadata": {},
   "outputs": [
    {
     "data": {
      "image/png": "[encoded data removed]",
      "text/latex": [
       "$\\displaystyle \\left[\\begin{matrix}0\\\\0\\\\0\\\\0\\end{matrix}\\right]$"
      ],
      "text/plain": [
       "⎡0⎤\n",
       "⎢ ⎥\n",
       "⎢0⎥\n",
       "⎢ ⎥\n",
       "⎢0⎥\n",
       "⎢ ⎥\n",
       "⎣0⎦"
      ]
     },
     "execution_count": 5,
     "metadata": {},
     "output_type": "execute_result"
    }
   ],
   "source": [
    "model.source()"
   ]
  },
  {
   "cell_type": "code",
   "execution_count": 6,
   "id": "4f4058b4",
   "metadata": {},
   "outputs": [
    {
     "data": {
      "image/png": "[encoded data removed]",
      "text/latex": [
       "$\\displaystyle \\left[\\begin{matrix}0\\\\\\begin{cases} hinv \\left(n_{0} q_{2} + n_{1} q_{3}\\right) & \\text{for}\\: q_{1} > 1.0 \\cdot 10^{-8} \\\\0 & \\text{otherwise} \\end{cases}\\\\\\begin{cases} hinv^{2} \\left(n_{0} q_{1} q_{2} + n_{1} q_{1} q_{3} + \\sqrt{ez g q_{1}^{5}} \\sqrt{n_{0}^{2} + n_{1}^{2}}\\right) & \\text{for}\\: q_{1} > 1.0 \\cdot 10^{-8} \\\\0 & \\text{otherwise} \\end{cases}\\\\\\begin{cases} hinv^{2} \\left(n_{0} q_{1} q_{2} + n_{1} q_{1} q_{3} - \\sqrt{ez g q_{1}^{5}} \\sqrt{n_{0}^{2} + n_{1}^{2}}\\right) & \\text{for}\\: q_{1} > 1.0 \\cdot 10^{-8} \\\\0 & \\text{otherwise} \\end{cases}\\end{matrix}\\right]$"
      ],
      "text/plain": [
       "⎡                                     0                                      ⎤\n",
       "⎢                                                                            ⎥\n",
       "⎢                   ⎧hinv⋅(n₀⋅q₂ + n₁⋅q₃)  for q₁ > 1.0e-8                   ⎥\n",
       "⎢                   ⎨                                                        ⎥\n",
       "⎢                   ⎩         0               otherwise                      ⎥\n",
       "⎢                                                                            ⎥\n",
       "⎢⎧      ⎛                         __________    ___________⎞                 ⎥\n",
       "⎢⎪    2 ⎜                        ╱        5    ╱   2     2 ⎟                 ⎥\n",
       "⎢⎨hinv ⋅⎝n₀⋅q₁⋅q₂ + n₁⋅q₁⋅q₃ + ╲╱  ez⋅g⋅q₁  ⋅╲╱  n₀  + n₁  ⎠  for q₁ > 1.0e-8⎥\n",
       "⎢⎪                                                                           ⎥\n",
       "⎢⎩                            0                                  otherwise   ⎥\n",
       "⎢                                                                            ⎥\n",
       "⎢⎧      ⎛                         __________    ___________⎞                 ⎥\n",
       "⎢⎪    2 ⎜                        ╱        5    ╱   2     2 ⎟                 ⎥\n",
       "⎢⎨hinv ⋅⎝n₀⋅q₁⋅q₂ + n₁⋅q₁⋅q₃ - ╲╱  ez⋅g⋅q₁  ⋅╲╱  n₀  + n₁  ⎠  for q₁ > 1.0e-8⎥\n",
       "⎢⎪                                                                           ⎥\n",
       "⎣⎩                            0                                  otherwise   ⎦"
      ]
     },
     "execution_count": 6,
     "metadata": {},
     "output_type": "execute_result"
    }
   ],
   "source": [
    "model.eigenvalues()"
   ]
  },
  {
   "cell_type": "markdown",
   "id": "4bb1cf64",
   "metadata": {},
   "source": [
    "## Solve"
   ]
  },
  {
   "cell_type": "code",
   "execution_count": 7,
   "id": "34211aa2-8f9a-4e1d-bb55-1af32668f51e",
   "metadata": {},
   "outputs": [
    {
     "name": "stderr",
     "output_type": "stream",
     "text": [
      "\u001b[32m2025-08-30 11:44:01.904\u001b[0m | \u001b[1mINFO    \u001b[0m | \u001b[36mlibrary.fvm.solver\u001b[0m:\u001b[36mlog_callback_hyperbolic\u001b[0m:\u001b[36m44\u001b[0m - \u001b[1miteration: 10, time: 0.005779, dt: 0.000266, next write at time: 0.006897\u001b[0m\n",
      "\u001b[32m2025-08-30 11:44:02.060\u001b[0m | \u001b[1mINFO    \u001b[0m | \u001b[36mlibrary.fvm.solver\u001b[0m:\u001b[36mlog_callback_hyperbolic\u001b[0m:\u001b[36m44\u001b[0m - \u001b[1miteration: 20, time: 0.008437, dt: 0.000266, next write at time: 0.010345\u001b[0m\n",
      "\u001b[32m2025-08-30 11:44:02.232\u001b[0m | \u001b[1mINFO    \u001b[0m | \u001b[36mlibrary.fvm.solver\u001b[0m:\u001b[36mlog_callback_hyperbolic\u001b[0m:\u001b[36m44\u001b[0m - \u001b[1miteration: 30, time: 0.011095, dt: 0.000266, next write at time: 0.013793\u001b[0m\n",
      "\u001b[32m2025-08-30 11:44:02.392\u001b[0m | \u001b[1mINFO    \u001b[0m | \u001b[36mlibrary.fvm.solver\u001b[0m:\u001b[36mlog_callback_hyperbolic\u001b[0m:\u001b[36m44\u001b[0m - \u001b[1miteration: 40, time: 0.013753, dt: 0.000266, next write at time: 0.013793\u001b[0m\n",
      "\u001b[32m2025-08-30 11:44:02.555\u001b[0m | \u001b[1mINFO    \u001b[0m | \u001b[36mlibrary.fvm.solver\u001b[0m:\u001b[36mlog_callback_hyperbolic\u001b[0m:\u001b[36m44\u001b[0m - \u001b[1miteration: 50, time: 0.016411, dt: 0.000266, next write at time: 0.017241\u001b[0m\n",
      "\u001b[32m2025-08-30 11:44:02.710\u001b[0m | \u001b[1mINFO    \u001b[0m | \u001b[36mlibrary.fvm.solver\u001b[0m:\u001b[36mlog_callback_hyperbolic\u001b[0m:\u001b[36m44\u001b[0m - \u001b[1miteration: 60, time: 0.019069, dt: 0.000266, next write at time: 0.020690\u001b[0m\n",
      "\u001b[32m2025-08-30 11:44:02.876\u001b[0m | \u001b[1mINFO    \u001b[0m | \u001b[36mlibrary.fvm.solver\u001b[0m:\u001b[36mlog_callback_hyperbolic\u001b[0m:\u001b[36m44\u001b[0m - \u001b[1miteration: 70, time: 0.021727, dt: 0.000266, next write at time: 0.024138\u001b[0m\n",
      "\u001b[32m2025-08-30 11:44:03.039\u001b[0m | \u001b[1mINFO    \u001b[0m | \u001b[36mlibrary.fvm.solver\u001b[0m:\u001b[36mlog_callback_hyperbolic\u001b[0m:\u001b[36m44\u001b[0m - \u001b[1miteration: 80, time: 0.024385, dt: 0.000266, next write at time: 0.024138\u001b[0m\n",
      "\u001b[32m2025-08-30 11:44:03.208\u001b[0m | \u001b[1mINFO    \u001b[0m | \u001b[36mlibrary.fvm.solver\u001b[0m:\u001b[36mlog_callback_hyperbolic\u001b[0m:\u001b[36m44\u001b[0m - \u001b[1miteration: 90, time: 0.027043, dt: 0.000266, next write at time: 0.027586\u001b[0m\n",
      "\u001b[32m2025-08-30 11:44:03.373\u001b[0m | \u001b[1mINFO    \u001b[0m | \u001b[36mlibrary.fvm.solver\u001b[0m:\u001b[36mlog_callback_hyperbolic\u001b[0m:\u001b[36m44\u001b[0m - \u001b[1miteration: 100, time: 0.029701, dt: 0.000266, next write at time: 0.031034\u001b[0m\n",
      "\u001b[32m2025-08-30 11:44:03.537\u001b[0m | \u001b[1mINFO    \u001b[0m | \u001b[36mlibrary.fvm.solver\u001b[0m:\u001b[36mlog_callback_hyperbolic\u001b[0m:\u001b[36m44\u001b[0m - \u001b[1miteration: 110, time: 0.032359, dt: 0.000266, next write at time: 0.034483\u001b[0m\n",
      "\u001b[32m2025-08-30 11:44:03.701\u001b[0m | \u001b[1mINFO    \u001b[0m | \u001b[36mlibrary.fvm.solver\u001b[0m:\u001b[36mlog_callback_hyperbolic\u001b[0m:\u001b[36m44\u001b[0m - \u001b[1miteration: 120, time: 0.035017, dt: 0.000266, next write at time: 0.037931\u001b[0m\n",
      "\u001b[32m2025-08-30 11:44:03.859\u001b[0m | \u001b[1mINFO    \u001b[0m | \u001b[36mlibrary.fvm.solver\u001b[0m:\u001b[36mlog_callback_hyperbolic\u001b[0m:\u001b[36m44\u001b[0m - \u001b[1miteration: 130, time: 0.037675, dt: 0.000266, next write at time: 0.037931\u001b[0m\n",
      "\u001b[32m2025-08-30 11:44:04.021\u001b[0m | \u001b[1mINFO    \u001b[0m | \u001b[36mlibrary.fvm.solver\u001b[0m:\u001b[36mlog_callback_hyperbolic\u001b[0m:\u001b[36m44\u001b[0m - \u001b[1miteration: 140, time: 0.040333, dt: 0.000266, next write at time: 0.041379\u001b[0m\n",
      "\u001b[32m2025-08-30 11:44:04.186\u001b[0m | \u001b[1mINFO    \u001b[0m | \u001b[36mlibrary.fvm.solver\u001b[0m:\u001b[36mlog_callback_hyperbolic\u001b[0m:\u001b[36m44\u001b[0m - \u001b[1miteration: 150, time: 0.042991, dt: 0.000266, next write at time: 0.044828\u001b[0m\n",
      "\u001b[32m2025-08-30 11:44:04.356\u001b[0m | \u001b[1mINFO    \u001b[0m | \u001b[36mlibrary.fvm.solver\u001b[0m:\u001b[36mlog_callback_hyperbolic\u001b[0m:\u001b[36m44\u001b[0m - \u001b[1miteration: 160, time: 0.045649, dt: 0.000266, next write at time: 0.048276\u001b[0m\n",
      "\u001b[32m2025-08-30 11:44:04.509\u001b[0m | \u001b[1mINFO    \u001b[0m | \u001b[36mlibrary.fvm.solver\u001b[0m:\u001b[36mlog_callback_hyperbolic\u001b[0m:\u001b[36m44\u001b[0m - \u001b[1miteration: 170, time: 0.048307, dt: 0.000266, next write at time: 0.048276\u001b[0m\n",
      "\u001b[32m2025-08-30 11:44:04.673\u001b[0m | \u001b[1mINFO    \u001b[0m | \u001b[36mlibrary.fvm.solver\u001b[0m:\u001b[36mlog_callback_hyperbolic\u001b[0m:\u001b[36m44\u001b[0m - \u001b[1miteration: 180, time: 0.050965, dt: 0.000266, next write at time: 0.051724\u001b[0m\n",
      "\u001b[32m2025-08-30 11:44:04.841\u001b[0m | \u001b[1mINFO    \u001b[0m | \u001b[36mlibrary.fvm.solver\u001b[0m:\u001b[36mlog_callback_hyperbolic\u001b[0m:\u001b[36m44\u001b[0m - \u001b[1miteration: 190, time: 0.053623, dt: 0.000266, next write at time: 0.055172\u001b[0m\n",
      "\u001b[32m2025-08-30 11:44:05.004\u001b[0m | \u001b[1mINFO    \u001b[0m | \u001b[36mlibrary.fvm.solver\u001b[0m:\u001b[36mlog_callback_hyperbolic\u001b[0m:\u001b[36m44\u001b[0m - \u001b[1miteration: 200, time: 0.056280, dt: 0.000266, next write at time: 0.058621\u001b[0m\n",
      "\u001b[32m2025-08-30 11:44:05.162\u001b[0m | \u001b[1mINFO    \u001b[0m | \u001b[36mlibrary.fvm.solver\u001b[0m:\u001b[36mlog_callback_hyperbolic\u001b[0m:\u001b[36m44\u001b[0m - \u001b[1miteration: 210, time: 0.058938, dt: 0.000266, next write at time: 0.062069\u001b[0m\n",
      "\u001b[32m2025-08-30 11:44:05.326\u001b[0m | \u001b[1mINFO    \u001b[0m | \u001b[36mlibrary.fvm.solver\u001b[0m:\u001b[36mlog_callback_hyperbolic\u001b[0m:\u001b[36m44\u001b[0m - \u001b[1miteration: 220, time: 0.061596, dt: 0.000266, next write at time: 0.062069\u001b[0m\n",
      "\u001b[32m2025-08-30 11:44:05.490\u001b[0m | \u001b[1mINFO    \u001b[0m | \u001b[36mlibrary.fvm.solver\u001b[0m:\u001b[36mlog_callback_hyperbolic\u001b[0m:\u001b[36m44\u001b[0m - \u001b[1miteration: 230, time: 0.064254, dt: 0.000266, next write at time: 0.065517\u001b[0m\n",
      "\u001b[32m2025-08-30 11:44:05.650\u001b[0m | \u001b[1mINFO    \u001b[0m | \u001b[36mlibrary.fvm.solver\u001b[0m:\u001b[36mlog_callback_hyperbolic\u001b[0m:\u001b[36m44\u001b[0m - \u001b[1miteration: 240, time: 0.066912, dt: 0.000266, next write at time: 0.068966\u001b[0m\n",
      "\u001b[32m2025-08-30 11:44:05.809\u001b[0m | \u001b[1mINFO    \u001b[0m | \u001b[36mlibrary.fvm.solver\u001b[0m:\u001b[36mlog_callback_hyperbolic\u001b[0m:\u001b[36m44\u001b[0m - \u001b[1miteration: 250, time: 0.069570, dt: 0.000266, next write at time: 0.072414\u001b[0m\n",
      "\u001b[32m2025-08-30 11:44:05.977\u001b[0m | \u001b[1mINFO    \u001b[0m | \u001b[36mlibrary.fvm.solver\u001b[0m:\u001b[36mlog_callback_hyperbolic\u001b[0m:\u001b[36m44\u001b[0m - \u001b[1miteration: 260, time: 0.072228, dt: 0.000266, next write at time: 0.072414\u001b[0m\n",
      "\u001b[32m2025-08-30 11:44:06.145\u001b[0m | \u001b[1mINFO    \u001b[0m | \u001b[36mlibrary.fvm.solver\u001b[0m:\u001b[36mlog_callback_hyperbolic\u001b[0m:\u001b[36m44\u001b[0m - \u001b[1miteration: 270, time: 0.074886, dt: 0.000266, next write at time: 0.075862\u001b[0m\n",
      "\u001b[32m2025-08-30 11:44:06.322\u001b[0m | \u001b[1mINFO    \u001b[0m | \u001b[36mlibrary.fvm.solver\u001b[0m:\u001b[36mlog_callback_hyperbolic\u001b[0m:\u001b[36m44\u001b[0m - \u001b[1miteration: 280, time: 0.077544, dt: 0.000266, next write at time: 0.079310\u001b[0m\n",
      "\u001b[32m2025-08-30 11:44:06.494\u001b[0m | \u001b[1mINFO    \u001b[0m | \u001b[36mlibrary.fvm.solver\u001b[0m:\u001b[36mlog_callback_hyperbolic\u001b[0m:\u001b[36m44\u001b[0m - \u001b[1miteration: 290, time: 0.080202, dt: 0.000266, next write at time: 0.082759\u001b[0m\n",
      "\u001b[32m2025-08-30 11:44:06.659\u001b[0m | \u001b[1mINFO    \u001b[0m | \u001b[36mlibrary.fvm.solver\u001b[0m:\u001b[36mlog_callback_hyperbolic\u001b[0m:\u001b[36m44\u001b[0m - \u001b[1miteration: 300, time: 0.082860, dt: 0.000266, next write at time: 0.082759\u001b[0m\n",
      "\u001b[32m2025-08-30 11:44:06.829\u001b[0m | \u001b[1mINFO    \u001b[0m | \u001b[36mlibrary.fvm.solver\u001b[0m:\u001b[36mlog_callback_hyperbolic\u001b[0m:\u001b[36m44\u001b[0m - \u001b[1miteration: 310, time: 0.085518, dt: 0.000266, next write at time: 0.086207\u001b[0m\n",
      "\u001b[32m2025-08-30 11:44:06.994\u001b[0m | \u001b[1mINFO    \u001b[0m | \u001b[36mlibrary.fvm.solver\u001b[0m:\u001b[36mlog_callback_hyperbolic\u001b[0m:\u001b[36m44\u001b[0m - \u001b[1miteration: 320, time: 0.088176, dt: 0.000266, next write at time: 0.089655\u001b[0m\n",
      "\u001b[32m2025-08-30 11:44:07.171\u001b[0m | \u001b[1mINFO    \u001b[0m | \u001b[36mlibrary.fvm.solver\u001b[0m:\u001b[36mlog_callback_hyperbolic\u001b[0m:\u001b[36m44\u001b[0m - \u001b[1miteration: 330, time: 0.090834, dt: 0.000266, next write at time: 0.093103\u001b[0m\n",
      "\u001b[32m2025-08-30 11:44:07.342\u001b[0m | \u001b[1mINFO    \u001b[0m | \u001b[36mlibrary.fvm.solver\u001b[0m:\u001b[36mlog_callback_hyperbolic\u001b[0m:\u001b[36m44\u001b[0m - \u001b[1miteration: 340, time: 0.093492, dt: 0.000266, next write at time: 0.096552\u001b[0m\n",
      "\u001b[32m2025-08-30 11:44:07.511\u001b[0m | \u001b[1mINFO    \u001b[0m | \u001b[36mlibrary.fvm.solver\u001b[0m:\u001b[36mlog_callback_hyperbolic\u001b[0m:\u001b[36m44\u001b[0m - \u001b[1miteration: 350, time: 0.096150, dt: 0.000266, next write at time: 0.096552\u001b[0m\n",
      "\u001b[32m2025-08-30 11:44:07.676\u001b[0m | \u001b[1mINFO    \u001b[0m | \u001b[36mlibrary.fvm.solver\u001b[0m:\u001b[36mlog_callback_hyperbolic\u001b[0m:\u001b[36m44\u001b[0m - \u001b[1miteration: 360, time: 0.098808, dt: 0.000266, next write at time: 0.100000\u001b[0m\n",
      "\u001b[32m2025-08-30 11:44:07.786\u001b[0m | \u001b[1mINFO    \u001b[0m | \u001b[36mlibrary.fvm.solver\u001b[0m:\u001b[36mlog_callback_execution_time\u001b[0m:\u001b[36m56\u001b[0m - \u001b[1mFinished simulation with in 7.666 seconds\u001b[0m\n"
     ]
    }
   ],
   "source": [
    "Qnew, Qaux = solver.solve(mesh, model)"
   ]
  },
  {
   "cell_type": "markdown",
   "id": "491a9389",
   "metadata": {},
   "source": [
    "## Visualization"
   ]
  },
  {
   "cell_type": "code",
   "execution_count": 8,
   "id": "91f0af61",
   "metadata": {},
   "outputs": [
    {
     "name": "stderr",
     "output_type": "stream",
     "text": [
      "\u001b[32m2025-08-30 11:44:13.615\u001b[0m | \u001b[1mINFO    \u001b[0m | \u001b[36mlibrary.postprocessing.postprocessing\u001b[0m:\u001b[36mvtk_interpolate_3d\u001b[0m:\u001b[36m62\u001b[0m - \u001b[1mConverted snapshot 0/30\u001b[0m\n",
      "\u001b[32m2025-08-30 11:44:13.650\u001b[0m | \u001b[1mINFO    \u001b[0m | \u001b[36mlibrary.postprocessing.postprocessing\u001b[0m:\u001b[36mvtk_interpolate_3d\u001b[0m:\u001b[36m62\u001b[0m - \u001b[1mConverted snapshot 1/30\u001b[0m\n",
      "\u001b[32m2025-08-30 11:44:13.681\u001b[0m | \u001b[1mINFO    \u001b[0m | \u001b[36mlibrary.postprocessing.postprocessing\u001b[0m:\u001b[36mvtk_interpolate_3d\u001b[0m:\u001b[36m62\u001b[0m - \u001b[1mConverted snapshot 2/30\u001b[0m\n",
      "\u001b[32m2025-08-30 11:44:13.712\u001b[0m | \u001b[1mINFO    \u001b[0m | \u001b[36mlibrary.postprocessing.postprocessing\u001b[0m:\u001b[36mvtk_interpolate_3d\u001b[0m:\u001b[36m62\u001b[0m - \u001b[1mConverted snapshot 3/30\u001b[0m\n",
      "\u001b[32m2025-08-30 11:44:13.748\u001b[0m | \u001b[1mINFO    \u001b[0m | \u001b[36mlibrary.postprocessing.postprocessing\u001b[0m:\u001b[36mvtk_interpolate_3d\u001b[0m:\u001b[36m62\u001b[0m - \u001b[1mConverted snapshot 4/30\u001b[0m\n",
      "\u001b[32m2025-08-30 11:44:13.782\u001b[0m | \u001b[1mINFO    \u001b[0m | \u001b[36mlibrary.postprocessing.postprocessing\u001b[0m:\u001b[36mvtk_interpolate_3d\u001b[0m:\u001b[36m62\u001b[0m - \u001b[1mConverted snapshot 5/30\u001b[0m\n",
      "\u001b[32m2025-08-30 11:44:13.817\u001b[0m | \u001b[1mINFO    \u001b[0m | \u001b[36mlibrary.postprocessing.postprocessing\u001b[0m:\u001b[36mvtk_interpolate_3d\u001b[0m:\u001b[36m62\u001b[0m - \u001b[1mConverted snapshot 6/30\u001b[0m\n",
      "\u001b[32m2025-08-30 11:44:13.852\u001b[0m | \u001b[1mINFO    \u001b[0m | \u001b[36mlibrary.postprocessing.postprocessing\u001b[0m:\u001b[36mvtk_interpolate_3d\u001b[0m:\u001b[36m62\u001b[0m - \u001b[1mConverted snapshot 7/30\u001b[0m\n",
      "\u001b[32m2025-08-30 11:44:13.883\u001b[0m | \u001b[1mINFO    \u001b[0m | \u001b[36mlibrary.postprocessing.postprocessing\u001b[0m:\u001b[36mvtk_interpolate_3d\u001b[0m:\u001b[36m62\u001b[0m - \u001b[1mConverted snapshot 8/30\u001b[0m\n",
      "\u001b[32m2025-08-30 11:44:13.916\u001b[0m | \u001b[1mINFO    \u001b[0m | \u001b[36mlibrary.postprocessing.postprocessing\u001b[0m:\u001b[36mvtk_interpolate_3d\u001b[0m:\u001b[36m62\u001b[0m - \u001b[1mConverted snapshot 9/30\u001b[0m\n",
      "\u001b[32m2025-08-30 11:44:13.950\u001b[0m | \u001b[1mINFO    \u001b[0m | \u001b[36mlibrary.postprocessing.postprocessing\u001b[0m:\u001b[36mvtk_interpolate_3d\u001b[0m:\u001b[36m62\u001b[0m - \u001b[1mConverted snapshot 10/30\u001b[0m\n",
      "\u001b[32m2025-08-30 11:44:13.985\u001b[0m | \u001b[1mINFO    \u001b[0m | \u001b[36mlibrary.postprocessing.postprocessing\u001b[0m:\u001b[36mvtk_interpolate_3d\u001b[0m:\u001b[36m62\u001b[0m - \u001b[1mConverted snapshot 11/30\u001b[0m\n",
      "\u001b[32m2025-08-30 11:44:14.016\u001b[0m | \u001b[1mINFO    \u001b[0m | \u001b[36mlibrary.postprocessing.postprocessing\u001b[0m:\u001b[36mvtk_interpolate_3d\u001b[0m:\u001b[36m62\u001b[0m - \u001b[1mConverted snapshot 12/30\u001b[0m\n",
      "\u001b[32m2025-08-30 11:44:14.047\u001b[0m | \u001b[1mINFO    \u001b[0m | \u001b[36mlibrary.postprocessing.postprocessing\u001b[0m:\u001b[36mvtk_interpolate_3d\u001b[0m:\u001b[36m62\u001b[0m - \u001b[1mConverted snapshot 13/30\u001b[0m\n",
      "\u001b[32m2025-08-30 11:44:14.081\u001b[0m | \u001b[1mINFO    \u001b[0m | \u001b[36mlibrary.postprocessing.postprocessing\u001b[0m:\u001b[36mvtk_interpolate_3d\u001b[0m:\u001b[36m62\u001b[0m - \u001b[1mConverted snapshot 14/30\u001b[0m\n",
      "\u001b[32m2025-08-30 11:44:14.116\u001b[0m | \u001b[1mINFO    \u001b[0m | \u001b[36mlibrary.postprocessing.postprocessing\u001b[0m:\u001b[36mvtk_interpolate_3d\u001b[0m:\u001b[36m62\u001b[0m - \u001b[1mConverted snapshot 15/30\u001b[0m\n",
      "\u001b[32m2025-08-30 11:44:14.149\u001b[0m | \u001b[1mINFO    \u001b[0m | \u001b[36mlibrary.postprocessing.postprocessing\u001b[0m:\u001b[36mvtk_interpolate_3d\u001b[0m:\u001b[36m62\u001b[0m - \u001b[1mConverted snapshot 16/30\u001b[0m\n",
      "\u001b[32m2025-08-30 11:44:14.181\u001b[0m | \u001b[1mINFO    \u001b[0m | \u001b[36mlibrary.postprocessing.postprocessing\u001b[0m:\u001b[36mvtk_interpolate_3d\u001b[0m:\u001b[36m62\u001b[0m - \u001b[1mConverted snapshot 17/30\u001b[0m\n",
      "\u001b[32m2025-08-30 11:44:14.216\u001b[0m | \u001b[1mINFO    \u001b[0m | \u001b[36mlibrary.postprocessing.postprocessing\u001b[0m:\u001b[36mvtk_interpolate_3d\u001b[0m:\u001b[36m62\u001b[0m - \u001b[1mConverted snapshot 18/30\u001b[0m\n",
      "\u001b[32m2025-08-30 11:44:14.248\u001b[0m | \u001b[1mINFO    \u001b[0m | \u001b[36mlibrary.postprocessing.postprocessing\u001b[0m:\u001b[36mvtk_interpolate_3d\u001b[0m:\u001b[36m62\u001b[0m - \u001b[1mConverted snapshot 19/30\u001b[0m\n",
      "\u001b[32m2025-08-30 11:44:14.279\u001b[0m | \u001b[1mINFO    \u001b[0m | \u001b[36mlibrary.postprocessing.postprocessing\u001b[0m:\u001b[36mvtk_interpolate_3d\u001b[0m:\u001b[36m62\u001b[0m - \u001b[1mConverted snapshot 20/30\u001b[0m\n",
      "\u001b[32m2025-08-30 11:44:14.317\u001b[0m | \u001b[1mINFO    \u001b[0m | \u001b[36mlibrary.postprocessing.postprocessing\u001b[0m:\u001b[36mvtk_interpolate_3d\u001b[0m:\u001b[36m62\u001b[0m - \u001b[1mConverted snapshot 21/30\u001b[0m\n",
      "\u001b[32m2025-08-30 11:44:14.348\u001b[0m | \u001b[1mINFO    \u001b[0m | \u001b[36mlibrary.postprocessing.postprocessing\u001b[0m:\u001b[36mvtk_interpolate_3d\u001b[0m:\u001b[36m62\u001b[0m - \u001b[1mConverted snapshot 22/30\u001b[0m\n",
      "\u001b[32m2025-08-30 11:44:14.380\u001b[0m | \u001b[1mINFO    \u001b[0m | \u001b[36mlibrary.postprocessing.postprocessing\u001b[0m:\u001b[36mvtk_interpolate_3d\u001b[0m:\u001b[36m62\u001b[0m - \u001b[1mConverted snapshot 23/30\u001b[0m\n",
      "\u001b[32m2025-08-30 11:44:14.413\u001b[0m | \u001b[1mINFO    \u001b[0m | \u001b[36mlibrary.postprocessing.postprocessing\u001b[0m:\u001b[36mvtk_interpolate_3d\u001b[0m:\u001b[36m62\u001b[0m - \u001b[1mConverted snapshot 24/30\u001b[0m\n",
      "\u001b[32m2025-08-30 11:44:14.445\u001b[0m | \u001b[1mINFO    \u001b[0m | \u001b[36mlibrary.postprocessing.postprocessing\u001b[0m:\u001b[36mvtk_interpolate_3d\u001b[0m:\u001b[36m62\u001b[0m - \u001b[1mConverted snapshot 25/30\u001b[0m\n",
      "\u001b[32m2025-08-30 11:44:14.477\u001b[0m | \u001b[1mINFO    \u001b[0m | \u001b[36mlibrary.postprocessing.postprocessing\u001b[0m:\u001b[36mvtk_interpolate_3d\u001b[0m:\u001b[36m62\u001b[0m - \u001b[1mConverted snapshot 26/30\u001b[0m\n",
      "\u001b[32m2025-08-30 11:44:14.511\u001b[0m | \u001b[1mINFO    \u001b[0m | \u001b[36mlibrary.postprocessing.postprocessing\u001b[0m:\u001b[36mvtk_interpolate_3d\u001b[0m:\u001b[36m62\u001b[0m - \u001b[1mConverted snapshot 27/30\u001b[0m\n",
      "\u001b[32m2025-08-30 11:44:14.550\u001b[0m | \u001b[1mINFO    \u001b[0m | \u001b[36mlibrary.postprocessing.postprocessing\u001b[0m:\u001b[36mvtk_interpolate_3d\u001b[0m:\u001b[36m62\u001b[0m - \u001b[1mConverted snapshot 28/30\u001b[0m\n",
      "\u001b[32m2025-08-30 11:44:14.582\u001b[0m | \u001b[1mINFO    \u001b[0m | \u001b[36mlibrary.postprocessing.postprocessing\u001b[0m:\u001b[36mvtk_interpolate_3d\u001b[0m:\u001b[36m62\u001b[0m - \u001b[1mConverted snapshot 29/30\u001b[0m\n",
      "\u001b[32m2025-08-30 11:44:17.891\u001b[0m | \u001b[1mINFO    \u001b[0m | \u001b[36mlibrary.postprocessing.postprocessing\u001b[0m:\u001b[36mvtk_interpolate_3d\u001b[0m:\u001b[36m65\u001b[0m - \u001b[1mOutput is written to: /home/ingo/Git/Zoomy/outputs/topo_0/out_3d.h5/out_3d.*.vtk\u001b[0m\n"
     ]
    }
   ],
   "source": [
    "io.generate_vtk(os.path.join(settings.output.directory, f\"{settings.output.filename}.h5\"))\n",
    "postprocessing.vtk_interpolate_3d(model, settings, Nz=20, filename='out_3d')"
   ]
  },
  {
   "cell_type": "code",
   "execution_count": 9,
   "id": "9998344a",
   "metadata": {},
   "outputs": [],
   "source": [
    "# visu.pyvista_3d(settings.output.directory, scale=1.0)"
   ]
  },
  {
   "cell_type": "code",
   "execution_count": null,
   "id": "5846d84a",
   "metadata": {},
   "outputs": [],
   "source": []
  }
 ],
 "metadata": {
  "kernelspec": {
   "display_name": "zoomy",
   "language": "python",
   "name": "python3"
  },
  "language_info": {
   "codemirror_mode": {
    "name": "ipython",
    "version": 3
   },
   "file_extension": ".py",
   "mimetype": "text/x-python",
   "name": "python",
   "nbconvert_exporter": "python",
   "pygments_lexer": "ipython3",
   "version": "3.12.11"
  },
  "widgets": {
   "application/vnd.jupyter.widget-state+json": {
    "state": {
     "58197ea96c8d4208a27b23118644168f": {
      "model_module": "@jupyter-widgets/base",
      "model_module_version": "2.0.0",
      "model_name": "LayoutModel",
      "state": {
       "_model_module": "@jupyter-widgets/base",
       "_model_module_version": "2.0.0",
       "_model_name": "LayoutModel",
       "_view_count": null,
       "_view_module": "@jupyter-widgets/base",
       "_view_module_version": "2.0.0",
       "_view_name": "LayoutView",
       "align_content": null,
       "align_items": null,
       "align_self": null,
       "border_bottom": null,
       "border_left": null,
       "border_right": null,
       "border_top": null,
       "bottom": null,
       "display": null,
       "flex": null,
       "flex_flow": null,
       "grid_area": null,
       "grid_auto_columns": null,
       "grid_auto_flow": null,
       "grid_auto_rows": null,
       "grid_column": null,
       "grid_gap": null,
       "grid_row": null,
       "grid_template_areas": null,
       "grid_template_columns": null,
       "grid_template_rows": null,
       "height": null,
       "justify_content": null,
       "justify_items": null,
       "left": null,
       "margin": null,
       "max_height": null,
       "max_width": null,
       "min_height": null,
       "min_width": null,
       "object_fit": null,
       "object_position": null,
       "order": null,
       "overflow": null,
       "padding": null,
       "right": null,
       "top": null,
       "visibility": null,
       "width": null
      }
     },
     "6aee9427c56642c3a758e75c7f50945d": {
      "model_module": "@jupyter-widgets/controls",
      "model_module_version": "2.0.0",
      "model_name": "HTMLStyleModel",
      "state": {
       "_model_module": "@jupyter-widgets/controls",
       "_model_module_version": "2.0.0",
       "_model_name": "HTMLStyleModel",
       "_view_count": null,
       "_view_module": "@jupyter-widgets/base",
       "_view_module_version": "2.0.0",
       "_view_name": "StyleView",
       "background": null,
       "description_width": "",
       "font_size": null,
       "text_color": null
      }
     },
     "8e858fdf20384196aa8989375078223c": {
      "model_module": "@jupyter-widgets/controls",
      "model_module_version": "2.0.0",
      "model_name": "HTMLModel",
      "state": {
       "_dom_classes": [],
       "_model_module": "@jupyter-widgets/controls",
       "_model_module_version": "2.0.0",
       "_model_name": "HTMLModel",
       "_view_count": null,
       "_view_module": "@jupyter-widgets/controls",
       "_view_module_version": "2.0.0",
       "_view_name": "HTMLView",
       "description": "",
       "description_allow_html": false,
       "layout": "IPY_MODEL_58197ea96c8d4208a27b23118644168f",
       "placeholder": "​",
       "style": "IPY_MODEL_6aee9427c56642c3a758e75c7f50945d",
       "tabbable": null,
       "tooltip": null,
       "value": "<iframe src=\"http://localhost:40521/index.html?ui=P_0x7fedf49b1c40_0&reconnect=auto\" class=\"pyvista\" style=\"width: 99%; height: 600px; border: 1px solid rgb(221,221,221);\"></iframe>"
      }
     }
    },
    "version_major": 2,
    "version_minor": 0
   }
  }
 },
 "nbformat": 4,
 "nbformat_minor": 5
}
