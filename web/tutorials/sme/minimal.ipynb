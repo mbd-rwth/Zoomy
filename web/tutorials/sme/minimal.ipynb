{
 "cells": [
  {
   "cell_type": "raw",
   "id": "906eac95",
   "metadata": {
    "vscode": {
     "languageId": "raw"
    }
   },
   "source": [
    "---\n",
    "title: \"Minimal\"\n",
    "author: Ingo Steldermann\n",
    "date: 07/10/2025\n",
    "format:\n",
    "  html:\n",
    "    code-fold: false\n",
    "    code-tools: true\n",
    "    css: ../notebook.css\n",
    "---"
   ]
  },
  {
   "cell_type": "markdown",
   "id": "a8c5b74f",
   "metadata": {
    "vscode": {
     "languageId": "raw"
    }
   },
   "source": [
    "# Shallow Moment Tutorial (Minimal)"
   ]
  },
  {
   "cell_type": "markdown",
   "id": "b7ce1821",
   "metadata": {
    "vscode": {
     "languageId": "raw"
    }
   },
   "source": [
    "## Imports"
   ]
  },
  {
   "cell_type": "code",
   "execution_count": 1,
   "id": "4f583c96",
   "metadata": {
    "tags": []
   },
   "outputs": [
    {
     "name": "stderr",
     "output_type": "stream",
     "text": [
      "\u001b[32m2025-08-08 06:20:40.500\u001b[0m | \u001b[33m\u001b[1mWARNING \u001b[0m | \u001b[36mlibrary.python.fvm.solver\u001b[0m:\u001b[36m<module>\u001b[0m:\u001b[36m28\u001b[0m - \u001b[33m\u001b[1mNo module named 'precice'\u001b[0m\n"
     ]
    }
   ],
   "source": [
    "# | code-fold: true\n",
    "# | code-summary: \"Load packages\"\n",
    "# | output: false\n",
    "\n",
    "import os\n",
    "import numpy as np\n",
    "import jax\n",
    "from jax import numpy as jnp\n",
    "import pytest\n",
    "from types import SimpleNamespace\n",
    "from sympy import cos, pi, Piecewise\n",
    "\n",
    "from library.python.fvm.solver import HyperbolicSolver\n",
    "from library.python.fvm.ode import RK1\n",
    "import library.python.fvm.reconstruction as recon\n",
    "import library.python.fvm.timestepping as timestepping\n",
    "import library.python.fvm.flux as flux\n",
    "import library.python.fvm.nonconservative_flux as nc_flux\n",
    "from library.model.boundary_conditions import BoundaryCondition\n",
    "from library.model.models.basisfunctions import Basisfunction, Legendre_shifted\n",
    "from library.model.models.basismatrices import Basismatrices\n",
    "from library.model.models.shallow_moments import ShallowMoments2d\n",
    "import library.python.misc.io as io\n",
    "\n",
    "import library.model.initial_conditions as IC\n",
    "import library.model.boundary_conditions as BC\n",
    "import library.python.misc.io as io\n",
    "from library.python.mesh.mesh import compute_derivatives\n",
    "from tests.pdesoft import plots_paper\n",
    "\n",
    "from library.python.misc.misc import Zstruct, Settings\n",
    "\n",
    "\n",
    "import library.python.mesh.mesh as petscMesh\n",
    "import library.postprocessing.postprocessing as postprocessing\n",
    "from library.python.mesh.mesh import convert_mesh_to_jax\n",
    "import argparse\n"
   ]
  },
  {
   "cell_type": "markdown",
   "id": "9a0972ba",
   "metadata": {},
   "source": [
    "## Model"
   ]
  },
  {
   "cell_type": "code",
   "execution_count": 2,
   "id": "e5acbbe7",
   "metadata": {},
   "outputs": [
    {
     "name": "stderr",
     "output_type": "stream",
     "text": [
      "\u001b[32m2025-08-08 06:20:41.268\u001b[0m | \u001b[33m\u001b[1mWARNING \u001b[0m | \u001b[36mlibrary.python.misc.misc\u001b[0m:\u001b[36m__init__\u001b[0m:\u001b[36m136\u001b[0m - \u001b[33m\u001b[1mNo 'solver' Zstruct found in Settings. Default: empty Zstruct\u001b[0m\n",
      "\u001b[32m2025-08-08 06:20:41.269\u001b[0m | \u001b[33m\u001b[1mWARNING \u001b[0m | \u001b[36mlibrary.python.misc.misc\u001b[0m:\u001b[36m__init__\u001b[0m:\u001b[36m139\u001b[0m - \u001b[33m\u001b[1mNo 'model' Zstruct found in Settings. Default: empty Zstruct\u001b[0m\n",
      "\u001b[32m2025-08-08 06:20:41.269\u001b[0m | \u001b[33m\u001b[1mWARNING \u001b[0m | \u001b[36mlibrary.python.misc.misc\u001b[0m:\u001b[36m__init__\u001b[0m:\u001b[36m156\u001b[0m - \u001b[33m\u001b[1mNo 'parameters' attribute found in model Zstruct. Default: empty Zstruct\u001b[0m\n"
     ]
    }
   ],
   "source": [
    "level = 0\n",
    "offset = 1 + level\n",
    "settings = Settings(\n",
    "    name=\"test\",\n",
    "    output=Zstruct(\n",
    "        directory=f\"outputs/junction_{level}\", filename=\"test\", output_snapshots=30, clean_directory=True\n",
    "    ),\n",
    ")\n"
   ]
  },
  {
   "cell_type": "code",
   "execution_count": 3,
   "id": "fd25e4e2-4653-441c-a82b-4d4c2e4c013b",
   "metadata": {
    "tags": []
   },
   "outputs": [
    {
     "name": "stdout",
     "output_type": "stream",
     "text": [
      "\n"
     ]
    }
   ],
   "source": [
    "inflow_dict = {\n",
    "    0: lambda t, x, dx, q, qaux, p, n: Piecewise((0.1, t < 0.2), (q[0], True)),\n",
    "    1: lambda t, x, dx, q, qaux, p, n: Piecewise((-0.3, t < 0.2), (-q[1], True)),\n",
    "}\n",
    "inflow_dict.update({1 + i: lambda t, x, dx, q, qaux, p, n: 0 for i in range(level)})\n",
    "inflow_dict.update(\n",
    "    {1 + offset + i: lambda t, x, dx, q, qaux, p, n: 0 for i in range(level + 1)}\n",
    ")\n",
    "\n",
    "bcs = BC.BoundaryConditions(\n",
    "    [\n",
    "        BC.Lambda(physical_tag=\"inflow\", prescribe_fields=inflow_dict),\n",
    "        BC.Wall(physical_tag=\"wall\"),\n",
    "    ]\n",
    ")\n",
    "\n",
    "\n",
    "def custom_ic(x):\n",
    "    Q = np.zeros(3 + 2 * level, dtype=float)\n",
    "    Q[0] = 0.01\n",
    "    return Q\n",
    "\n",
    "\n",
    "ic = IC.UserFunction(custom_ic)\n",
    "\n",
    "model = ShallowMoments2d(\n",
    "    level = level,\n",
    "    boundary_conditions=bcs,\n",
    ")\n",
    "\n",
    "main_dir = os.getenv(\"ZOOMY_DIR\")\n",
    "mesh = petscMesh.Mesh.from_gmsh(\n",
    "    os.path.join(main_dir, \"meshes/channel_junction/mesh_2d_coarse.msh\")\n",
    "    # os.path.join(main_dir, \"meshes/channel_junction/mesh_2d_fine.msh\")\n",
    ")\n",
    "\n",
    "\n",
    "class SMESolver(HyperbolicSolver):\n",
    "    def update_qaux(self, Q, Qaux, Qold, Qauxold, mesh, model, parameters, time, dt):\n",
    "        dudx = compute_derivatives(Q[1] / Q[0], mesh, derivatives_multi_index=[[0, 0]])[\n",
    "            :, 0\n",
    "        ]\n",
    "        dvdy = compute_derivatives(\n",
    "            Q[1 + offset] / Q[0], mesh, derivatives_multi_index=[[0, 1]]\n",
    "        )[:, 0]\n",
    "        Qaux = Qaux.at[0].set(dudx)\n",
    "        Qaux = Qaux.at[1].set(dvdy)\n",
    "        return Qaux\n",
    "\n",
    "\n",
    "solver = SMESolver(settings=settings)\n"
   ]
  },
  {
   "cell_type": "markdown",
   "id": "672b830b",
   "metadata": {},
   "source": [
    "## Solver"
   ]
  },
  {
   "cell_type": "code",
   "execution_count": 4,
   "id": "34211aa2-8f9a-4e1d-bb55-1af32668f51e",
   "metadata": {},
   "outputs": [
    {
     "name": "stderr",
     "output_type": "stream",
     "text": [
      "\u001b[32m2025-08-08 06:20:46.419\u001b[0m | \u001b[1mINFO    \u001b[0m | \u001b[36mlibrary.python.fvm.solver\u001b[0m:\u001b[36mlog_callback_hyperbolic\u001b[0m:\u001b[36m43\u001b[0m - \u001b[1miteration: 1, time: 0.000677, dt: 0.000677, next write at time: 0.011111\u001b[0m\n",
      "\u001b[32m2025-08-08 06:20:46.434\u001b[0m | \u001b[1mINFO    \u001b[0m | \u001b[36mlibrary.python.fvm.solver\u001b[0m:\u001b[36mlog_callback_hyperbolic\u001b[0m:\u001b[36m43\u001b[0m - \u001b[1miteration: 2, time: 0.001209, dt: 0.000532, next write at time: 0.011111\u001b[0m\n",
      "\u001b[32m2025-08-08 06:20:46.459\u001b[0m | \u001b[1mINFO    \u001b[0m | \u001b[36mlibrary.python.fvm.solver\u001b[0m:\u001b[36mlog_callback_hyperbolic\u001b[0m:\u001b[36m43\u001b[0m - \u001b[1miteration: 3, time: 0.001740, dt: 0.000532, next write at time: 0.011111\u001b[0m\n",
      "\u001b[32m2025-08-08 06:20:46.478\u001b[0m | \u001b[1mINFO    \u001b[0m | \u001b[36mlibrary.python.fvm.solver\u001b[0m:\u001b[36mlog_callback_hyperbolic\u001b[0m:\u001b[36m43\u001b[0m - \u001b[1miteration: 4, time: 0.002272, dt: 0.000532, next write at time: 0.011111\u001b[0m\n",
      "\u001b[32m2025-08-08 06:20:46.491\u001b[0m | \u001b[1mINFO    \u001b[0m | \u001b[36mlibrary.python.fvm.solver\u001b[0m:\u001b[36mlog_callback_hyperbolic\u001b[0m:\u001b[36m43\u001b[0m - \u001b[1miteration: 5, time: 0.002804, dt: 0.000532, next write at time: 0.011111\u001b[0m\n",
      "\u001b[32m2025-08-08 06:20:46.508\u001b[0m | \u001b[1mINFO    \u001b[0m | \u001b[36mlibrary.python.fvm.solver\u001b[0m:\u001b[36mlog_callback_hyperbolic\u001b[0m:\u001b[36m43\u001b[0m - \u001b[1miteration: 6, time: 0.003335, dt: 0.000532, next write at time: 0.011111\u001b[0m\n",
      "\u001b[32m2025-08-08 06:20:46.527\u001b[0m | \u001b[1mINFO    \u001b[0m | \u001b[36mlibrary.python.fvm.solver\u001b[0m:\u001b[36mlog_callback_hyperbolic\u001b[0m:\u001b[36m43\u001b[0m - \u001b[1miteration: 7, time: 0.003867, dt: 0.000532, next write at time: 0.011111\u001b[0m\n",
      "\u001b[32m2025-08-08 06:20:46.542\u001b[0m | \u001b[1mINFO    \u001b[0m | \u001b[36mlibrary.python.fvm.solver\u001b[0m:\u001b[36mlog_callback_hyperbolic\u001b[0m:\u001b[36m43\u001b[0m - \u001b[1miteration: 8, time: 0.004398, dt: 0.000532, next write at time: 0.011111\u001b[0m\n",
      "\u001b[32m2025-08-08 06:20:46.558\u001b[0m | \u001b[1mINFO    \u001b[0m | \u001b[36mlibrary.python.fvm.solver\u001b[0m:\u001b[36mlog_callback_hyperbolic\u001b[0m:\u001b[36m43\u001b[0m - \u001b[1miteration: 9, time: 0.004930, dt: 0.000532, next write at time: 0.011111\u001b[0m\n",
      "\u001b[32m2025-08-08 06:20:46.576\u001b[0m | \u001b[1mINFO    \u001b[0m | \u001b[36mlibrary.python.fvm.solver\u001b[0m:\u001b[36mlog_callback_hyperbolic\u001b[0m:\u001b[36m43\u001b[0m - \u001b[1miteration: 10, time: 0.005462, dt: 0.000532, next write at time: 0.011111\u001b[0m\n",
      "\u001b[32m2025-08-08 06:20:46.597\u001b[0m | \u001b[1mINFO    \u001b[0m | \u001b[36mlibrary.python.fvm.solver\u001b[0m:\u001b[36mlog_callback_hyperbolic\u001b[0m:\u001b[36m43\u001b[0m - \u001b[1miteration: 11, time: 0.005993, dt: 0.000532, next write at time: 0.011111\u001b[0m\n",
      "\u001b[32m2025-08-08 06:20:46.612\u001b[0m | \u001b[1mINFO    \u001b[0m | \u001b[36mlibrary.python.fvm.solver\u001b[0m:\u001b[36mlog_callback_hyperbolic\u001b[0m:\u001b[36m43\u001b[0m - \u001b[1miteration: 12, time: 0.006525, dt: 0.000532, next write at time: 0.011111\u001b[0m\n",
      "\u001b[32m2025-08-08 06:20:46.631\u001b[0m | \u001b[1mINFO    \u001b[0m | \u001b[36mlibrary.python.fvm.solver\u001b[0m:\u001b[36mlog_callback_hyperbolic\u001b[0m:\u001b[36m43\u001b[0m - \u001b[1miteration: 13, time: 0.007056, dt: 0.000532, next write at time: 0.011111\u001b[0m\n",
      "\u001b[32m2025-08-08 06:20:46.647\u001b[0m | \u001b[1mINFO    \u001b[0m | \u001b[36mlibrary.python.fvm.solver\u001b[0m:\u001b[36mlog_callback_hyperbolic\u001b[0m:\u001b[36m43\u001b[0m - \u001b[1miteration: 14, time: 0.007588, dt: 0.000532, next write at time: 0.011111\u001b[0m\n",
      "\u001b[32m2025-08-08 06:20:46.665\u001b[0m | \u001b[1mINFO    \u001b[0m | \u001b[36mlibrary.python.fvm.solver\u001b[0m:\u001b[36mlog_callback_hyperbolic\u001b[0m:\u001b[36m43\u001b[0m - \u001b[1miteration: 15, time: 0.008120, dt: 0.000532, next write at time: 0.011111\u001b[0m\n",
      "\u001b[32m2025-08-08 06:20:46.698\u001b[0m | \u001b[1mINFO    \u001b[0m | \u001b[36mlibrary.python.fvm.solver\u001b[0m:\u001b[36mlog_callback_hyperbolic\u001b[0m:\u001b[36m43\u001b[0m - \u001b[1miteration: 16, time: 0.008651, dt: 0.000532, next write at time: 0.011111\u001b[0m\n",
      "\u001b[32m2025-08-08 06:20:46.727\u001b[0m | \u001b[1mINFO    \u001b[0m | \u001b[36mlibrary.python.fvm.solver\u001b[0m:\u001b[36mlog_callback_hyperbolic\u001b[0m:\u001b[36m43\u001b[0m - \u001b[1miteration: 17, time: 0.009183, dt: 0.000532, next write at time: 0.011111\u001b[0m\n",
      "\u001b[32m2025-08-08 06:20:46.741\u001b[0m | \u001b[1mINFO    \u001b[0m | \u001b[36mlibrary.python.fvm.solver\u001b[0m:\u001b[36mlog_callback_hyperbolic\u001b[0m:\u001b[36m43\u001b[0m - \u001b[1miteration: 18, time: 0.009714, dt: 0.000532, next write at time: 0.011111\u001b[0m\n",
      "\u001b[32m2025-08-08 06:20:46.763\u001b[0m | \u001b[1mINFO    \u001b[0m | \u001b[36mlibrary.python.fvm.solver\u001b[0m:\u001b[36mlog_callback_hyperbolic\u001b[0m:\u001b[36m43\u001b[0m - \u001b[1miteration: 19, time: 0.010246, dt: 0.000532, next write at time: 0.011111\u001b[0m\n",
      "\u001b[32m2025-08-08 06:20:46.779\u001b[0m | \u001b[1mINFO    \u001b[0m | \u001b[36mlibrary.python.fvm.solver\u001b[0m:\u001b[36mlog_callback_hyperbolic\u001b[0m:\u001b[36m43\u001b[0m - \u001b[1miteration: 20, time: 0.010778, dt: 0.000532, next write at time: 0.011111\u001b[0m\n",
      "\u001b[32m2025-08-08 06:20:46.805\u001b[0m | \u001b[1mINFO    \u001b[0m | \u001b[36mlibrary.python.fvm.solver\u001b[0m:\u001b[36mlog_callback_hyperbolic\u001b[0m:\u001b[36m43\u001b[0m - \u001b[1miteration: 21, time: 0.011303, dt: 0.000525, next write at time: 0.011111\u001b[0m\n",
      "\u001b[32m2025-08-08 06:20:46.827\u001b[0m | \u001b[1mINFO    \u001b[0m | \u001b[36mlibrary.python.fvm.solver\u001b[0m:\u001b[36mlog_callback_hyperbolic\u001b[0m:\u001b[36m43\u001b[0m - \u001b[1miteration: 22, time: 0.011824, dt: 0.000522, next write at time: 0.022222\u001b[0m\n",
      "\u001b[32m2025-08-08 06:20:46.841\u001b[0m | \u001b[1mINFO    \u001b[0m | \u001b[36mlibrary.python.fvm.solver\u001b[0m:\u001b[36mlog_callback_hyperbolic\u001b[0m:\u001b[36m43\u001b[0m - \u001b[1miteration: 23, time: 0.012340, dt: 0.000515, next write at time: 0.022222\u001b[0m\n",
      "\u001b[32m2025-08-08 06:20:46.858\u001b[0m | \u001b[1mINFO    \u001b[0m | \u001b[36mlibrary.python.fvm.solver\u001b[0m:\u001b[36mlog_callback_hyperbolic\u001b[0m:\u001b[36m43\u001b[0m - \u001b[1miteration: 24, time: 0.012853, dt: 0.000514, next write at time: 0.022222\u001b[0m\n",
      "\u001b[32m2025-08-08 06:20:46.879\u001b[0m | \u001b[1mINFO    \u001b[0m | \u001b[36mlibrary.python.fvm.solver\u001b[0m:\u001b[36mlog_callback_hyperbolic\u001b[0m:\u001b[36m43\u001b[0m - \u001b[1miteration: 25, time: 0.013362, dt: 0.000508, next write at time: 0.022222\u001b[0m\n",
      "\u001b[32m2025-08-08 06:20:46.893\u001b[0m | \u001b[1mINFO    \u001b[0m | \u001b[36mlibrary.python.fvm.solver\u001b[0m:\u001b[36mlog_callback_hyperbolic\u001b[0m:\u001b[36m43\u001b[0m - \u001b[1miteration: 26, time: 0.013871, dt: 0.000509, next write at time: 0.022222\u001b[0m\n",
      "\u001b[32m2025-08-08 06:20:46.911\u001b[0m | \u001b[1mINFO    \u001b[0m | \u001b[36mlibrary.python.fvm.solver\u001b[0m:\u001b[36mlog_callback_hyperbolic\u001b[0m:\u001b[36m43\u001b[0m - \u001b[1miteration: 27, time: 0.014375, dt: 0.000504, next write at time: 0.022222\u001b[0m\n",
      "\u001b[32m2025-08-08 06:20:46.930\u001b[0m | \u001b[1mINFO    \u001b[0m | \u001b[36mlibrary.python.fvm.solver\u001b[0m:\u001b[36mlog_callback_hyperbolic\u001b[0m:\u001b[36m43\u001b[0m - \u001b[1miteration: 28, time: 0.014881, dt: 0.000506, next write at time: 0.022222\u001b[0m\n",
      "\u001b[32m2025-08-08 06:20:46.957\u001b[0m | \u001b[1mINFO    \u001b[0m | \u001b[36mlibrary.python.fvm.solver\u001b[0m:\u001b[36mlog_callback_hyperbolic\u001b[0m:\u001b[36m43\u001b[0m - \u001b[1miteration: 29, time: 0.015382, dt: 0.000501, next write at time: 0.022222\u001b[0m\n",
      "\u001b[32m2025-08-08 06:20:46.980\u001b[0m | \u001b[1mINFO    \u001b[0m | \u001b[36mlibrary.python.fvm.solver\u001b[0m:\u001b[36mlog_callback_hyperbolic\u001b[0m:\u001b[36m43\u001b[0m - \u001b[1miteration: 30, time: 0.015886, dt: 0.000504, next write at time: 0.022222\u001b[0m\n",
      "\u001b[32m2025-08-08 06:20:46.997\u001b[0m | \u001b[1mINFO    \u001b[0m | \u001b[36mlibrary.python.fvm.solver\u001b[0m:\u001b[36mlog_callback_hyperbolic\u001b[0m:\u001b[36m43\u001b[0m - \u001b[1miteration: 31, time: 0.016384, dt: 0.000499, next write at time: 0.022222\u001b[0m\n",
      "\u001b[32m2025-08-08 06:20:47.019\u001b[0m | \u001b[1mINFO    \u001b[0m | \u001b[36mlibrary.python.fvm.solver\u001b[0m:\u001b[36mlog_callback_hyperbolic\u001b[0m:\u001b[36m43\u001b[0m - \u001b[1miteration: 32, time: 0.016888, dt: 0.000503, next write at time: 0.022222\u001b[0m\n",
      "\u001b[32m2025-08-08 06:20:47.064\u001b[0m | \u001b[1mINFO    \u001b[0m | \u001b[36mlibrary.python.fvm.solver\u001b[0m:\u001b[36mlog_callback_hyperbolic\u001b[0m:\u001b[36m43\u001b[0m - \u001b[1miteration: 33, time: 0.017385, dt: 0.000497, next write at time: 0.022222\u001b[0m\n",
      "\u001b[32m2025-08-08 06:20:47.097\u001b[0m | \u001b[1mINFO    \u001b[0m | \u001b[36mlibrary.python.fvm.solver\u001b[0m:\u001b[36mlog_callback_hyperbolic\u001b[0m:\u001b[36m43\u001b[0m - \u001b[1miteration: 34, time: 0.017887, dt: 0.000502, next write at time: 0.022222\u001b[0m\n",
      "\u001b[32m2025-08-08 06:20:47.129\u001b[0m | \u001b[1mINFO    \u001b[0m | \u001b[36mlibrary.python.fvm.solver\u001b[0m:\u001b[36mlog_callback_hyperbolic\u001b[0m:\u001b[36m43\u001b[0m - \u001b[1miteration: 35, time: 0.018382, dt: 0.000495, next write at time: 0.022222\u001b[0m\n",
      "\u001b[32m2025-08-08 06:20:47.150\u001b[0m | \u001b[1mINFO    \u001b[0m | \u001b[36mlibrary.python.fvm.solver\u001b[0m:\u001b[36mlog_callback_hyperbolic\u001b[0m:\u001b[36m43\u001b[0m - \u001b[1miteration: 36, time: 0.018883, dt: 0.000501, next write at time: 0.022222\u001b[0m\n",
      "\u001b[32m2025-08-08 06:20:47.169\u001b[0m | \u001b[1mINFO    \u001b[0m | \u001b[36mlibrary.python.fvm.solver\u001b[0m:\u001b[36mlog_callback_hyperbolic\u001b[0m:\u001b[36m43\u001b[0m - \u001b[1miteration: 37, time: 0.019378, dt: 0.000494, next write at time: 0.022222\u001b[0m\n",
      "\u001b[32m2025-08-08 06:20:47.193\u001b[0m | \u001b[1mINFO    \u001b[0m | \u001b[36mlibrary.python.fvm.solver\u001b[0m:\u001b[36mlog_callback_hyperbolic\u001b[0m:\u001b[36m43\u001b[0m - \u001b[1miteration: 38, time: 0.019877, dt: 0.000500, next write at time: 0.022222\u001b[0m\n",
      "\u001b[32m2025-08-08 06:20:47.209\u001b[0m | \u001b[1mINFO    \u001b[0m | \u001b[36mlibrary.python.fvm.solver\u001b[0m:\u001b[36mlog_callback_hyperbolic\u001b[0m:\u001b[36m43\u001b[0m - \u001b[1miteration: 39, time: 0.020371, dt: 0.000493, next write at time: 0.022222\u001b[0m\n",
      "\u001b[32m2025-08-08 06:20:47.231\u001b[0m | \u001b[1mINFO    \u001b[0m | \u001b[36mlibrary.python.fvm.solver\u001b[0m:\u001b[36mlog_callback_hyperbolic\u001b[0m:\u001b[36m43\u001b[0m - \u001b[1miteration: 40, time: 0.020869, dt: 0.000498, next write at time: 0.022222\u001b[0m\n",
      "\u001b[32m2025-08-08 06:20:47.248\u001b[0m | \u001b[1mINFO    \u001b[0m | \u001b[36mlibrary.python.fvm.solver\u001b[0m:\u001b[36mlog_callback_hyperbolic\u001b[0m:\u001b[36m43\u001b[0m - \u001b[1miteration: 41, time: 0.021361, dt: 0.000492, next write at time: 0.022222\u001b[0m\n",
      "\u001b[32m2025-08-08 06:20:47.265\u001b[0m | \u001b[1mINFO    \u001b[0m | \u001b[36mlibrary.python.fvm.solver\u001b[0m:\u001b[36mlog_callback_hyperbolic\u001b[0m:\u001b[36m43\u001b[0m - \u001b[1miteration: 42, time: 0.021858, dt: 0.000497, next write at time: 0.022222\u001b[0m\n",
      "\u001b[32m2025-08-08 06:20:47.286\u001b[0m | \u001b[1mINFO    \u001b[0m | \u001b[36mlibrary.python.fvm.solver\u001b[0m:\u001b[36mlog_callback_hyperbolic\u001b[0m:\u001b[36m43\u001b[0m - \u001b[1miteration: 43, time: 0.022349, dt: 0.000492, next write at time: 0.022222\u001b[0m\n",
      "\u001b[32m2025-08-08 06:20:47.308\u001b[0m | \u001b[1mINFO    \u001b[0m | \u001b[36mlibrary.python.fvm.solver\u001b[0m:\u001b[36mlog_callback_hyperbolic\u001b[0m:\u001b[36m43\u001b[0m - \u001b[1miteration: 44, time: 0.022845, dt: 0.000495, next write at time: 0.033333\u001b[0m\n",
      "\u001b[32m2025-08-08 06:20:47.342\u001b[0m | \u001b[1mINFO    \u001b[0m | \u001b[36mlibrary.python.fvm.solver\u001b[0m:\u001b[36mlog_callback_hyperbolic\u001b[0m:\u001b[36m43\u001b[0m - \u001b[1miteration: 45, time: 0.023336, dt: 0.000491, next write at time: 0.033333\u001b[0m\n",
      "\u001b[32m2025-08-08 06:20:47.362\u001b[0m | \u001b[1mINFO    \u001b[0m | \u001b[36mlibrary.python.fvm.solver\u001b[0m:\u001b[36mlog_callback_hyperbolic\u001b[0m:\u001b[36m43\u001b[0m - \u001b[1miteration: 46, time: 0.023830, dt: 0.000494, next write at time: 0.033333\u001b[0m\n",
      "\u001b[32m2025-08-08 06:20:47.386\u001b[0m | \u001b[1mINFO    \u001b[0m | \u001b[36mlibrary.python.fvm.solver\u001b[0m:\u001b[36mlog_callback_hyperbolic\u001b[0m:\u001b[36m43\u001b[0m - \u001b[1miteration: 47, time: 0.024321, dt: 0.000491, next write at time: 0.033333\u001b[0m\n",
      "\u001b[32m2025-08-08 06:20:47.413\u001b[0m | \u001b[1mINFO    \u001b[0m | \u001b[36mlibrary.python.fvm.solver\u001b[0m:\u001b[36mlog_callback_hyperbolic\u001b[0m:\u001b[36m43\u001b[0m - \u001b[1miteration: 48, time: 0.024814, dt: 0.000493, next write at time: 0.033333\u001b[0m\n",
      "\u001b[32m2025-08-08 06:20:47.430\u001b[0m | \u001b[1mINFO    \u001b[0m | \u001b[36mlibrary.python.fvm.solver\u001b[0m:\u001b[36mlog_callback_hyperbolic\u001b[0m:\u001b[36m43\u001b[0m - \u001b[1miteration: 49, time: 0.025304, dt: 0.000490, next write at time: 0.033333\u001b[0m\n",
      "\u001b[32m2025-08-08 06:20:47.449\u001b[0m | \u001b[1mINFO    \u001b[0m | \u001b[36mlibrary.python.fvm.solver\u001b[0m:\u001b[36mlog_callback_hyperbolic\u001b[0m:\u001b[36m43\u001b[0m - \u001b[1miteration: 50, time: 0.025796, dt: 0.000492, next write at time: 0.033333\u001b[0m\n",
      "\u001b[32m2025-08-08 06:20:47.475\u001b[0m | \u001b[1mINFO    \u001b[0m | \u001b[36mlibrary.python.fvm.solver\u001b[0m:\u001b[36mlog_callback_hyperbolic\u001b[0m:\u001b[36m43\u001b[0m - \u001b[1miteration: 51, time: 0.026286, dt: 0.000490, next write at time: 0.033333\u001b[0m\n",
      "\u001b[32m2025-08-08 06:20:47.497\u001b[0m | \u001b[1mINFO    \u001b[0m | \u001b[36mlibrary.python.fvm.solver\u001b[0m:\u001b[36mlog_callback_hyperbolic\u001b[0m:\u001b[36m43\u001b[0m - \u001b[1miteration: 52, time: 0.026778, dt: 0.000491, next write at time: 0.033333\u001b[0m\n",
      "\u001b[32m2025-08-08 06:20:47.520\u001b[0m | \u001b[1mINFO    \u001b[0m | \u001b[36mlibrary.python.fvm.solver\u001b[0m:\u001b[36mlog_callback_hyperbolic\u001b[0m:\u001b[36m43\u001b[0m - \u001b[1miteration: 53, time: 0.027267, dt: 0.000490, next write at time: 0.033333\u001b[0m\n",
      "\u001b[32m2025-08-08 06:20:47.541\u001b[0m | \u001b[1mINFO    \u001b[0m | \u001b[36mlibrary.python.fvm.solver\u001b[0m:\u001b[36mlog_callback_hyperbolic\u001b[0m:\u001b[36m43\u001b[0m - \u001b[1miteration: 54, time: 0.027758, dt: 0.000490, next write at time: 0.033333\u001b[0m\n",
      "\u001b[32m2025-08-08 06:20:47.574\u001b[0m | \u001b[1mINFO    \u001b[0m | \u001b[36mlibrary.python.fvm.solver\u001b[0m:\u001b[36mlog_callback_hyperbolic\u001b[0m:\u001b[36m43\u001b[0m - \u001b[1miteration: 55, time: 0.028247, dt: 0.000489, next write at time: 0.033333\u001b[0m\n",
      "\u001b[32m2025-08-08 06:20:47.593\u001b[0m | \u001b[1mINFO    \u001b[0m | \u001b[36mlibrary.python.fvm.solver\u001b[0m:\u001b[36mlog_callback_hyperbolic\u001b[0m:\u001b[36m43\u001b[0m - \u001b[1miteration: 56, time: 0.028737, dt: 0.000490, next write at time: 0.033333\u001b[0m\n",
      "\u001b[32m2025-08-08 06:20:47.609\u001b[0m | \u001b[1mINFO    \u001b[0m | \u001b[36mlibrary.python.fvm.solver\u001b[0m:\u001b[36mlog_callback_hyperbolic\u001b[0m:\u001b[36m43\u001b[0m - \u001b[1miteration: 57, time: 0.029226, dt: 0.000489, next write at time: 0.033333\u001b[0m\n",
      "\u001b[32m2025-08-08 06:20:47.628\u001b[0m | \u001b[1mINFO    \u001b[0m | \u001b[36mlibrary.python.fvm.solver\u001b[0m:\u001b[36mlog_callback_hyperbolic\u001b[0m:\u001b[36m43\u001b[0m - \u001b[1miteration: 58, time: 0.029714, dt: 0.000489, next write at time: 0.033333\u001b[0m\n",
      "\u001b[32m2025-08-08 06:20:47.648\u001b[0m | \u001b[1mINFO    \u001b[0m | \u001b[36mlibrary.python.fvm.solver\u001b[0m:\u001b[36mlog_callback_hyperbolic\u001b[0m:\u001b[36m43\u001b[0m - \u001b[1miteration: 59, time: 0.030203, dt: 0.000489, next write at time: 0.033333\u001b[0m\n",
      "\u001b[32m2025-08-08 06:20:47.665\u001b[0m | \u001b[1mINFO    \u001b[0m | \u001b[36mlibrary.python.fvm.solver\u001b[0m:\u001b[36mlog_callback_hyperbolic\u001b[0m:\u001b[36m43\u001b[0m - \u001b[1miteration: 60, time: 0.030691, dt: 0.000488, next write at time: 0.033333\u001b[0m\n",
      "\u001b[32m2025-08-08 06:20:47.684\u001b[0m | \u001b[1mINFO    \u001b[0m | \u001b[36mlibrary.python.fvm.solver\u001b[0m:\u001b[36mlog_callback_hyperbolic\u001b[0m:\u001b[36m43\u001b[0m - \u001b[1miteration: 61, time: 0.031180, dt: 0.000488, next write at time: 0.033333\u001b[0m\n",
      "\u001b[32m2025-08-08 06:20:47.701\u001b[0m | \u001b[1mINFO    \u001b[0m | \u001b[36mlibrary.python.fvm.solver\u001b[0m:\u001b[36mlog_callback_hyperbolic\u001b[0m:\u001b[36m43\u001b[0m - \u001b[1miteration: 62, time: 0.031667, dt: 0.000488, next write at time: 0.033333\u001b[0m\n",
      "\u001b[32m2025-08-08 06:20:47.724\u001b[0m | \u001b[1mINFO    \u001b[0m | \u001b[36mlibrary.python.fvm.solver\u001b[0m:\u001b[36mlog_callback_hyperbolic\u001b[0m:\u001b[36m43\u001b[0m - \u001b[1miteration: 63, time: 0.032156, dt: 0.000488, next write at time: 0.033333\u001b[0m\n",
      "\u001b[32m2025-08-08 06:20:47.744\u001b[0m | \u001b[1mINFO    \u001b[0m | \u001b[36mlibrary.python.fvm.solver\u001b[0m:\u001b[36mlog_callback_hyperbolic\u001b[0m:\u001b[36m43\u001b[0m - \u001b[1miteration: 64, time: 0.032643, dt: 0.000487, next write at time: 0.033333\u001b[0m\n",
      "\u001b[32m2025-08-08 06:20:47.764\u001b[0m | \u001b[1mINFO    \u001b[0m | \u001b[36mlibrary.python.fvm.solver\u001b[0m:\u001b[36mlog_callback_hyperbolic\u001b[0m:\u001b[36m43\u001b[0m - \u001b[1miteration: 65, time: 0.033130, dt: 0.000488, next write at time: 0.033333\u001b[0m\n",
      "\u001b[32m2025-08-08 06:20:47.781\u001b[0m | \u001b[1mINFO    \u001b[0m | \u001b[36mlibrary.python.fvm.solver\u001b[0m:\u001b[36mlog_callback_hyperbolic\u001b[0m:\u001b[36m43\u001b[0m - \u001b[1miteration: 66, time: 0.033617, dt: 0.000487, next write at time: 0.033333\u001b[0m\n",
      "\u001b[32m2025-08-08 06:20:47.813\u001b[0m | \u001b[1mINFO    \u001b[0m | \u001b[36mlibrary.python.fvm.solver\u001b[0m:\u001b[36mlog_callback_hyperbolic\u001b[0m:\u001b[36m43\u001b[0m - \u001b[1miteration: 67, time: 0.034104, dt: 0.000488, next write at time: 0.044444\u001b[0m\n",
      "\u001b[32m2025-08-08 06:20:47.829\u001b[0m | \u001b[1mINFO    \u001b[0m | \u001b[36mlibrary.python.fvm.solver\u001b[0m:\u001b[36mlog_callback_hyperbolic\u001b[0m:\u001b[36m43\u001b[0m - \u001b[1miteration: 68, time: 0.034590, dt: 0.000486, next write at time: 0.044444\u001b[0m\n",
      "\u001b[32m2025-08-08 06:20:47.848\u001b[0m | \u001b[1mINFO    \u001b[0m | \u001b[36mlibrary.python.fvm.solver\u001b[0m:\u001b[36mlog_callback_hyperbolic\u001b[0m:\u001b[36m43\u001b[0m - \u001b[1miteration: 69, time: 0.035078, dt: 0.000487, next write at time: 0.044444\u001b[0m\n",
      "\u001b[32m2025-08-08 06:20:47.864\u001b[0m | \u001b[1mINFO    \u001b[0m | \u001b[36mlibrary.python.fvm.solver\u001b[0m:\u001b[36mlog_callback_hyperbolic\u001b[0m:\u001b[36m43\u001b[0m - \u001b[1miteration: 70, time: 0.035563, dt: 0.000486, next write at time: 0.044444\u001b[0m\n",
      "\u001b[32m2025-08-08 06:20:47.882\u001b[0m | \u001b[1mINFO    \u001b[0m | \u001b[36mlibrary.python.fvm.solver\u001b[0m:\u001b[36mlog_callback_hyperbolic\u001b[0m:\u001b[36m43\u001b[0m - \u001b[1miteration: 71, time: 0.036050, dt: 0.000487, next write at time: 0.044444\u001b[0m\n",
      "\u001b[32m2025-08-08 06:20:47.901\u001b[0m | \u001b[1mINFO    \u001b[0m | \u001b[36mlibrary.python.fvm.solver\u001b[0m:\u001b[36mlog_callback_hyperbolic\u001b[0m:\u001b[36m43\u001b[0m - \u001b[1miteration: 72, time: 0.036535, dt: 0.000485, next write at time: 0.044444\u001b[0m\n",
      "\u001b[32m2025-08-08 06:20:47.918\u001b[0m | \u001b[1mINFO    \u001b[0m | \u001b[36mlibrary.python.fvm.solver\u001b[0m:\u001b[36mlog_callback_hyperbolic\u001b[0m:\u001b[36m43\u001b[0m - \u001b[1miteration: 73, time: 0.037022, dt: 0.000487, next write at time: 0.044444\u001b[0m\n",
      "\u001b[32m2025-08-08 06:20:47.935\u001b[0m | \u001b[1mINFO    \u001b[0m | \u001b[36mlibrary.python.fvm.solver\u001b[0m:\u001b[36mlog_callback_hyperbolic\u001b[0m:\u001b[36m43\u001b[0m - \u001b[1miteration: 74, time: 0.037507, dt: 0.000485, next write at time: 0.044444\u001b[0m\n",
      "\u001b[32m2025-08-08 06:20:47.955\u001b[0m | \u001b[1mINFO    \u001b[0m | \u001b[36mlibrary.python.fvm.solver\u001b[0m:\u001b[36mlog_callback_hyperbolic\u001b[0m:\u001b[36m43\u001b[0m - \u001b[1miteration: 75, time: 0.037993, dt: 0.000487, next write at time: 0.044444\u001b[0m\n",
      "\u001b[32m2025-08-08 06:20:47.969\u001b[0m | \u001b[1mINFO    \u001b[0m | \u001b[36mlibrary.python.fvm.solver\u001b[0m:\u001b[36mlog_callback_hyperbolic\u001b[0m:\u001b[36m43\u001b[0m - \u001b[1miteration: 76, time: 0.038478, dt: 0.000484, next write at time: 0.044444\u001b[0m\n",
      "\u001b[32m2025-08-08 06:20:47.990\u001b[0m | \u001b[1mINFO    \u001b[0m | \u001b[36mlibrary.python.fvm.solver\u001b[0m:\u001b[36mlog_callback_hyperbolic\u001b[0m:\u001b[36m43\u001b[0m - \u001b[1miteration: 77, time: 0.038964, dt: 0.000486, next write at time: 0.044444\u001b[0m\n",
      "\u001b[32m2025-08-08 06:20:48.013\u001b[0m | \u001b[1mINFO    \u001b[0m | \u001b[36mlibrary.python.fvm.solver\u001b[0m:\u001b[36mlog_callback_hyperbolic\u001b[0m:\u001b[36m43\u001b[0m - \u001b[1miteration: 78, time: 0.039448, dt: 0.000484, next write at time: 0.044444\u001b[0m\n",
      "\u001b[32m2025-08-08 06:20:48.038\u001b[0m | \u001b[1mINFO    \u001b[0m | \u001b[36mlibrary.python.fvm.solver\u001b[0m:\u001b[36mlog_callback_hyperbolic\u001b[0m:\u001b[36m43\u001b[0m - \u001b[1miteration: 79, time: 0.039934, dt: 0.000486, next write at time: 0.044444\u001b[0m\n",
      "\u001b[32m2025-08-08 06:20:48.062\u001b[0m | \u001b[1mINFO    \u001b[0m | \u001b[36mlibrary.python.fvm.solver\u001b[0m:\u001b[36mlog_callback_hyperbolic\u001b[0m:\u001b[36m43\u001b[0m - \u001b[1miteration: 80, time: 0.040417, dt: 0.000483, next write at time: 0.044444\u001b[0m\n",
      "\u001b[32m2025-08-08 06:20:48.076\u001b[0m | \u001b[1mINFO    \u001b[0m | \u001b[36mlibrary.python.fvm.solver\u001b[0m:\u001b[36mlog_callback_hyperbolic\u001b[0m:\u001b[36m43\u001b[0m - \u001b[1miteration: 81, time: 0.040903, dt: 0.000486, next write at time: 0.044444\u001b[0m\n",
      "\u001b[32m2025-08-08 06:20:48.093\u001b[0m | \u001b[1mINFO    \u001b[0m | \u001b[36mlibrary.python.fvm.solver\u001b[0m:\u001b[36mlog_callback_hyperbolic\u001b[0m:\u001b[36m43\u001b[0m - \u001b[1miteration: 82, time: 0.041386, dt: 0.000483, next write at time: 0.044444\u001b[0m\n",
      "\u001b[32m2025-08-08 06:20:48.114\u001b[0m | \u001b[1mINFO    \u001b[0m | \u001b[36mlibrary.python.fvm.solver\u001b[0m:\u001b[36mlog_callback_hyperbolic\u001b[0m:\u001b[36m43\u001b[0m - \u001b[1miteration: 83, time: 0.041872, dt: 0.000486, next write at time: 0.044444\u001b[0m\n",
      "\u001b[32m2025-08-08 06:20:48.131\u001b[0m | \u001b[1mINFO    \u001b[0m | \u001b[36mlibrary.python.fvm.solver\u001b[0m:\u001b[36mlog_callback_hyperbolic\u001b[0m:\u001b[36m43\u001b[0m - \u001b[1miteration: 84, time: 0.042354, dt: 0.000483, next write at time: 0.044444\u001b[0m\n",
      "\u001b[32m2025-08-08 06:20:48.150\u001b[0m | \u001b[1mINFO    \u001b[0m | \u001b[36mlibrary.python.fvm.solver\u001b[0m:\u001b[36mlog_callback_hyperbolic\u001b[0m:\u001b[36m43\u001b[0m - \u001b[1miteration: 85, time: 0.042840, dt: 0.000486, next write at time: 0.044444\u001b[0m\n",
      "\u001b[32m2025-08-08 06:20:48.175\u001b[0m | \u001b[1mINFO    \u001b[0m | \u001b[36mlibrary.python.fvm.solver\u001b[0m:\u001b[36mlog_callback_hyperbolic\u001b[0m:\u001b[36m43\u001b[0m - \u001b[1miteration: 86, time: 0.043322, dt: 0.000482, next write at time: 0.044444\u001b[0m\n",
      "\u001b[32m2025-08-08 06:20:48.189\u001b[0m | \u001b[1mINFO    \u001b[0m | \u001b[36mlibrary.python.fvm.solver\u001b[0m:\u001b[36mlog_callback_hyperbolic\u001b[0m:\u001b[36m43\u001b[0m - \u001b[1miteration: 87, time: 0.043807, dt: 0.000485, next write at time: 0.044444\u001b[0m\n",
      "\u001b[32m2025-08-08 06:20:48.210\u001b[0m | \u001b[1mINFO    \u001b[0m | \u001b[36mlibrary.python.fvm.solver\u001b[0m:\u001b[36mlog_callback_hyperbolic\u001b[0m:\u001b[36m43\u001b[0m - \u001b[1miteration: 88, time: 0.044289, dt: 0.000482, next write at time: 0.044444\u001b[0m\n",
      "\u001b[32m2025-08-08 06:20:48.225\u001b[0m | \u001b[1mINFO    \u001b[0m | \u001b[36mlibrary.python.fvm.solver\u001b[0m:\u001b[36mlog_callback_hyperbolic\u001b[0m:\u001b[36m43\u001b[0m - \u001b[1miteration: 89, time: 0.044774, dt: 0.000485, next write at time: 0.044444\u001b[0m\n",
      "\u001b[32m2025-08-08 06:20:48.259\u001b[0m | \u001b[1mINFO    \u001b[0m | \u001b[36mlibrary.python.fvm.solver\u001b[0m:\u001b[36mlog_callback_hyperbolic\u001b[0m:\u001b[36m43\u001b[0m - \u001b[1miteration: 90, time: 0.045256, dt: 0.000482, next write at time: 0.055556\u001b[0m\n",
      "\u001b[32m2025-08-08 06:20:48.275\u001b[0m | \u001b[1mINFO    \u001b[0m | \u001b[36mlibrary.python.fvm.solver\u001b[0m:\u001b[36mlog_callback_hyperbolic\u001b[0m:\u001b[36m43\u001b[0m - \u001b[1miteration: 91, time: 0.045740, dt: 0.000485, next write at time: 0.055556\u001b[0m\n",
      "\u001b[32m2025-08-08 06:20:48.297\u001b[0m | \u001b[1mINFO    \u001b[0m | \u001b[36mlibrary.python.fvm.solver\u001b[0m:\u001b[36mlog_callback_hyperbolic\u001b[0m:\u001b[36m43\u001b[0m - \u001b[1miteration: 92, time: 0.046222, dt: 0.000481, next write at time: 0.055556\u001b[0m\n",
      "\u001b[32m2025-08-08 06:20:48.312\u001b[0m | \u001b[1mINFO    \u001b[0m | \u001b[36mlibrary.python.fvm.solver\u001b[0m:\u001b[36mlog_callback_hyperbolic\u001b[0m:\u001b[36m43\u001b[0m - \u001b[1miteration: 93, time: 0.046706, dt: 0.000484, next write at time: 0.055556\u001b[0m\n",
      "\u001b[32m2025-08-08 06:20:48.334\u001b[0m | \u001b[1mINFO    \u001b[0m | \u001b[36mlibrary.python.fvm.solver\u001b[0m:\u001b[36mlog_callback_hyperbolic\u001b[0m:\u001b[36m43\u001b[0m - \u001b[1miteration: 94, time: 0.047187, dt: 0.000481, next write at time: 0.055556\u001b[0m\n",
      "\u001b[32m2025-08-08 06:20:48.357\u001b[0m | \u001b[1mINFO    \u001b[0m | \u001b[36mlibrary.python.fvm.solver\u001b[0m:\u001b[36mlog_callback_hyperbolic\u001b[0m:\u001b[36m43\u001b[0m - \u001b[1miteration: 95, time: 0.047671, dt: 0.000484, next write at time: 0.055556\u001b[0m\n",
      "\u001b[32m2025-08-08 06:20:48.376\u001b[0m | \u001b[1mINFO    \u001b[0m | \u001b[36mlibrary.python.fvm.solver\u001b[0m:\u001b[36mlog_callback_hyperbolic\u001b[0m:\u001b[36m43\u001b[0m - \u001b[1miteration: 96, time: 0.048152, dt: 0.000481, next write at time: 0.055556\u001b[0m\n",
      "\u001b[32m2025-08-08 06:20:48.393\u001b[0m | \u001b[1mINFO    \u001b[0m | \u001b[36mlibrary.python.fvm.solver\u001b[0m:\u001b[36mlog_callback_hyperbolic\u001b[0m:\u001b[36m43\u001b[0m - \u001b[1miteration: 97, time: 0.048636, dt: 0.000484, next write at time: 0.055556\u001b[0m\n",
      "\u001b[32m2025-08-08 06:20:48.415\u001b[0m | \u001b[1mINFO    \u001b[0m | \u001b[36mlibrary.python.fvm.solver\u001b[0m:\u001b[36mlog_callback_hyperbolic\u001b[0m:\u001b[36m43\u001b[0m - \u001b[1miteration: 98, time: 0.049116, dt: 0.000481, next write at time: 0.055556\u001b[0m\n",
      "\u001b[32m2025-08-08 06:20:48.444\u001b[0m | \u001b[1mINFO    \u001b[0m | \u001b[36mlibrary.python.fvm.solver\u001b[0m:\u001b[36mlog_callback_hyperbolic\u001b[0m:\u001b[36m43\u001b[0m - \u001b[1miteration: 99, time: 0.049600, dt: 0.000483, next write at time: 0.055556\u001b[0m\n",
      "\u001b[32m2025-08-08 06:20:48.461\u001b[0m | \u001b[1mINFO    \u001b[0m | \u001b[36mlibrary.python.fvm.solver\u001b[0m:\u001b[36mlog_callback_hyperbolic\u001b[0m:\u001b[36m43\u001b[0m - \u001b[1miteration: 100, time: 0.050080, dt: 0.000480, next write at time: 0.055556\u001b[0m\n",
      "\u001b[32m2025-08-08 06:20:48.492\u001b[0m | \u001b[1mINFO    \u001b[0m | \u001b[36mlibrary.python.fvm.solver\u001b[0m:\u001b[36mlog_callback_hyperbolic\u001b[0m:\u001b[36m43\u001b[0m - \u001b[1miteration: 101, time: 0.050564, dt: 0.000483, next write at time: 0.055556\u001b[0m\n",
      "\u001b[32m2025-08-08 06:20:48.531\u001b[0m | \u001b[1mINFO    \u001b[0m | \u001b[36mlibrary.python.fvm.solver\u001b[0m:\u001b[36mlog_callback_hyperbolic\u001b[0m:\u001b[36m43\u001b[0m - \u001b[1miteration: 102, time: 0.051044, dt: 0.000480, next write at time: 0.055556\u001b[0m\n",
      "\u001b[32m2025-08-08 06:20:48.562\u001b[0m | \u001b[1mINFO    \u001b[0m | \u001b[36mlibrary.python.fvm.solver\u001b[0m:\u001b[36mlog_callback_hyperbolic\u001b[0m:\u001b[36m43\u001b[0m - \u001b[1miteration: 103, time: 0.051527, dt: 0.000483, next write at time: 0.055556\u001b[0m\n",
      "\u001b[32m2025-08-08 06:20:48.599\u001b[0m | \u001b[1mINFO    \u001b[0m | \u001b[36mlibrary.python.fvm.solver\u001b[0m:\u001b[36mlog_callback_hyperbolic\u001b[0m:\u001b[36m43\u001b[0m - \u001b[1miteration: 104, time: 0.052007, dt: 0.000480, next write at time: 0.055556\u001b[0m\n",
      "\u001b[32m2025-08-08 06:20:48.615\u001b[0m | \u001b[1mINFO    \u001b[0m | \u001b[36mlibrary.python.fvm.solver\u001b[0m:\u001b[36mlog_callback_hyperbolic\u001b[0m:\u001b[36m43\u001b[0m - \u001b[1miteration: 105, time: 0.052490, dt: 0.000483, next write at time: 0.055556\u001b[0m\n",
      "\u001b[32m2025-08-08 06:20:48.635\u001b[0m | \u001b[1mINFO    \u001b[0m | \u001b[36mlibrary.python.fvm.solver\u001b[0m:\u001b[36mlog_callback_hyperbolic\u001b[0m:\u001b[36m43\u001b[0m - \u001b[1miteration: 106, time: 0.052970, dt: 0.000480, next write at time: 0.055556\u001b[0m\n",
      "\u001b[32m2025-08-08 06:20:48.654\u001b[0m | \u001b[1mINFO    \u001b[0m | \u001b[36mlibrary.python.fvm.solver\u001b[0m:\u001b[36mlog_callback_hyperbolic\u001b[0m:\u001b[36m43\u001b[0m - \u001b[1miteration: 107, time: 0.053452, dt: 0.000483, next write at time: 0.055556\u001b[0m\n",
      "\u001b[32m2025-08-08 06:20:48.675\u001b[0m | \u001b[1mINFO    \u001b[0m | \u001b[36mlibrary.python.fvm.solver\u001b[0m:\u001b[36mlog_callback_hyperbolic\u001b[0m:\u001b[36m43\u001b[0m - \u001b[1miteration: 108, time: 0.053932, dt: 0.000480, next write at time: 0.055556\u001b[0m\n",
      "\u001b[32m2025-08-08 06:20:48.691\u001b[0m | \u001b[1mINFO    \u001b[0m | \u001b[36mlibrary.python.fvm.solver\u001b[0m:\u001b[36mlog_callback_hyperbolic\u001b[0m:\u001b[36m43\u001b[0m - \u001b[1miteration: 109, time: 0.054415, dt: 0.000482, next write at time: 0.055556\u001b[0m\n",
      "\u001b[32m2025-08-08 06:20:48.714\u001b[0m | \u001b[1mINFO    \u001b[0m | \u001b[36mlibrary.python.fvm.solver\u001b[0m:\u001b[36mlog_callback_hyperbolic\u001b[0m:\u001b[36m43\u001b[0m - \u001b[1miteration: 110, time: 0.054894, dt: 0.000480, next write at time: 0.055556\u001b[0m\n",
      "\u001b[32m2025-08-08 06:20:48.730\u001b[0m | \u001b[1mINFO    \u001b[0m | \u001b[36mlibrary.python.fvm.solver\u001b[0m:\u001b[36mlog_callback_hyperbolic\u001b[0m:\u001b[36m43\u001b[0m - \u001b[1miteration: 111, time: 0.055376, dt: 0.000482, next write at time: 0.055556\u001b[0m\n",
      "\u001b[32m2025-08-08 06:20:48.749\u001b[0m | \u001b[1mINFO    \u001b[0m | \u001b[36mlibrary.python.fvm.solver\u001b[0m:\u001b[36mlog_callback_hyperbolic\u001b[0m:\u001b[36m43\u001b[0m - \u001b[1miteration: 112, time: 0.055856, dt: 0.000480, next write at time: 0.055556\u001b[0m\n",
      "\u001b[32m2025-08-08 06:20:48.768\u001b[0m | \u001b[1mINFO    \u001b[0m | \u001b[36mlibrary.python.fvm.solver\u001b[0m:\u001b[36mlog_callback_hyperbolic\u001b[0m:\u001b[36m43\u001b[0m - \u001b[1miteration: 113, time: 0.056338, dt: 0.000482, next write at time: 0.066667\u001b[0m\n",
      "\u001b[32m2025-08-08 06:20:48.793\u001b[0m | \u001b[1mINFO    \u001b[0m | \u001b[36mlibrary.python.fvm.solver\u001b[0m:\u001b[36mlog_callback_hyperbolic\u001b[0m:\u001b[36m43\u001b[0m - \u001b[1miteration: 114, time: 0.056817, dt: 0.000480, next write at time: 0.066667\u001b[0m\n",
      "\u001b[32m2025-08-08 06:20:48.812\u001b[0m | \u001b[1mINFO    \u001b[0m | \u001b[36mlibrary.python.fvm.solver\u001b[0m:\u001b[36mlog_callback_hyperbolic\u001b[0m:\u001b[36m43\u001b[0m - \u001b[1miteration: 115, time: 0.057299, dt: 0.000482, next write at time: 0.066667\u001b[0m\n",
      "\u001b[32m2025-08-08 06:20:48.843\u001b[0m | \u001b[1mINFO    \u001b[0m | \u001b[36mlibrary.python.fvm.solver\u001b[0m:\u001b[36mlog_callback_hyperbolic\u001b[0m:\u001b[36m43\u001b[0m - \u001b[1miteration: 116, time: 0.057779, dt: 0.000479, next write at time: 0.066667\u001b[0m\n",
      "\u001b[32m2025-08-08 06:20:48.858\u001b[0m | \u001b[1mINFO    \u001b[0m | \u001b[36mlibrary.python.fvm.solver\u001b[0m:\u001b[36mlog_callback_hyperbolic\u001b[0m:\u001b[36m43\u001b[0m - \u001b[1miteration: 117, time: 0.058260, dt: 0.000481, next write at time: 0.066667\u001b[0m\n",
      "\u001b[32m2025-08-08 06:20:48.883\u001b[0m | \u001b[1mINFO    \u001b[0m | \u001b[36mlibrary.python.fvm.solver\u001b[0m:\u001b[36mlog_callback_hyperbolic\u001b[0m:\u001b[36m43\u001b[0m - \u001b[1miteration: 118, time: 0.058739, dt: 0.000479, next write at time: 0.066667\u001b[0m\n",
      "\u001b[32m2025-08-08 06:20:48.899\u001b[0m | \u001b[1mINFO    \u001b[0m | \u001b[36mlibrary.python.fvm.solver\u001b[0m:\u001b[36mlog_callback_hyperbolic\u001b[0m:\u001b[36m43\u001b[0m - \u001b[1miteration: 119, time: 0.059221, dt: 0.000481, next write at time: 0.066667\u001b[0m\n",
      "\u001b[32m2025-08-08 06:20:48.922\u001b[0m | \u001b[1mINFO    \u001b[0m | \u001b[36mlibrary.python.fvm.solver\u001b[0m:\u001b[36mlog_callback_hyperbolic\u001b[0m:\u001b[36m43\u001b[0m - \u001b[1miteration: 120, time: 0.059700, dt: 0.000479, next write at time: 0.066667\u001b[0m\n",
      "\u001b[32m2025-08-08 06:20:48.942\u001b[0m | \u001b[1mINFO    \u001b[0m | \u001b[36mlibrary.python.fvm.solver\u001b[0m:\u001b[36mlog_callback_hyperbolic\u001b[0m:\u001b[36m43\u001b[0m - \u001b[1miteration: 121, time: 0.060181, dt: 0.000481, next write at time: 0.066667\u001b[0m\n",
      "\u001b[32m2025-08-08 06:20:48.959\u001b[0m | \u001b[1mINFO    \u001b[0m | \u001b[36mlibrary.python.fvm.solver\u001b[0m:\u001b[36mlog_callback_hyperbolic\u001b[0m:\u001b[36m43\u001b[0m - \u001b[1miteration: 122, time: 0.060660, dt: 0.000479, next write at time: 0.066667\u001b[0m\n",
      "\u001b[32m2025-08-08 06:20:48.980\u001b[0m | \u001b[1mINFO    \u001b[0m | \u001b[36mlibrary.python.fvm.solver\u001b[0m:\u001b[36mlog_callback_hyperbolic\u001b[0m:\u001b[36m43\u001b[0m - \u001b[1miteration: 123, time: 0.061141, dt: 0.000481, next write at time: 0.066667\u001b[0m\n",
      "\u001b[32m2025-08-08 06:20:48.997\u001b[0m | \u001b[1mINFO    \u001b[0m | \u001b[36mlibrary.python.fvm.solver\u001b[0m:\u001b[36mlog_callback_hyperbolic\u001b[0m:\u001b[36m43\u001b[0m - \u001b[1miteration: 124, time: 0.061621, dt: 0.000479, next write at time: 0.066667\u001b[0m\n",
      "\u001b[32m2025-08-08 06:20:49.017\u001b[0m | \u001b[1mINFO    \u001b[0m | \u001b[36mlibrary.python.fvm.solver\u001b[0m:\u001b[36mlog_callback_hyperbolic\u001b[0m:\u001b[36m43\u001b[0m - \u001b[1miteration: 125, time: 0.062101, dt: 0.000481, next write at time: 0.066667\u001b[0m\n",
      "\u001b[32m2025-08-08 06:20:49.036\u001b[0m | \u001b[1mINFO    \u001b[0m | \u001b[36mlibrary.python.fvm.solver\u001b[0m:\u001b[36mlog_callback_hyperbolic\u001b[0m:\u001b[36m43\u001b[0m - \u001b[1miteration: 126, time: 0.062581, dt: 0.000479, next write at time: 0.066667\u001b[0m\n",
      "\u001b[32m2025-08-08 06:20:49.059\u001b[0m | \u001b[1mINFO    \u001b[0m | \u001b[36mlibrary.python.fvm.solver\u001b[0m:\u001b[36mlog_callback_hyperbolic\u001b[0m:\u001b[36m43\u001b[0m - \u001b[1miteration: 127, time: 0.063061, dt: 0.000480, next write at time: 0.066667\u001b[0m\n",
      "\u001b[32m2025-08-08 06:20:49.093\u001b[0m | \u001b[1mINFO    \u001b[0m | \u001b[36mlibrary.python.fvm.solver\u001b[0m:\u001b[36mlog_callback_hyperbolic\u001b[0m:\u001b[36m43\u001b[0m - \u001b[1miteration: 128, time: 0.063541, dt: 0.000479, next write at time: 0.066667\u001b[0m\n",
      "\u001b[32m2025-08-08 06:20:49.109\u001b[0m | \u001b[1mINFO    \u001b[0m | \u001b[36mlibrary.python.fvm.solver\u001b[0m:\u001b[36mlog_callback_hyperbolic\u001b[0m:\u001b[36m43\u001b[0m - \u001b[1miteration: 129, time: 0.064021, dt: 0.000480, next write at time: 0.066667\u001b[0m\n",
      "\u001b[32m2025-08-08 06:20:49.125\u001b[0m | \u001b[1mINFO    \u001b[0m | \u001b[36mlibrary.python.fvm.solver\u001b[0m:\u001b[36mlog_callback_hyperbolic\u001b[0m:\u001b[36m43\u001b[0m - \u001b[1miteration: 130, time: 0.064500, dt: 0.000479, next write at time: 0.066667\u001b[0m\n",
      "\u001b[32m2025-08-08 06:20:49.144\u001b[0m | \u001b[1mINFO    \u001b[0m | \u001b[36mlibrary.python.fvm.solver\u001b[0m:\u001b[36mlog_callback_hyperbolic\u001b[0m:\u001b[36m43\u001b[0m - \u001b[1miteration: 131, time: 0.064981, dt: 0.000480, next write at time: 0.066667\u001b[0m\n",
      "\u001b[32m2025-08-08 06:20:49.163\u001b[0m | \u001b[1mINFO    \u001b[0m | \u001b[36mlibrary.python.fvm.solver\u001b[0m:\u001b[36mlog_callback_hyperbolic\u001b[0m:\u001b[36m43\u001b[0m - \u001b[1miteration: 132, time: 0.065460, dt: 0.000479, next write at time: 0.066667\u001b[0m\n",
      "\u001b[32m2025-08-08 06:20:49.180\u001b[0m | \u001b[1mINFO    \u001b[0m | \u001b[36mlibrary.python.fvm.solver\u001b[0m:\u001b[36mlog_callback_hyperbolic\u001b[0m:\u001b[36m43\u001b[0m - \u001b[1miteration: 133, time: 0.065940, dt: 0.000480, next write at time: 0.066667\u001b[0m\n",
      "\u001b[32m2025-08-08 06:20:49.208\u001b[0m | \u001b[1mINFO    \u001b[0m | \u001b[36mlibrary.python.fvm.solver\u001b[0m:\u001b[36mlog_callback_hyperbolic\u001b[0m:\u001b[36m43\u001b[0m - \u001b[1miteration: 134, time: 0.066420, dt: 0.000479, next write at time: 0.066667\u001b[0m\n",
      "\u001b[32m2025-08-08 06:20:49.229\u001b[0m | \u001b[1mINFO    \u001b[0m | \u001b[36mlibrary.python.fvm.solver\u001b[0m:\u001b[36mlog_callback_hyperbolic\u001b[0m:\u001b[36m43\u001b[0m - \u001b[1miteration: 135, time: 0.066899, dt: 0.000480, next write at time: 0.066667\u001b[0m\n",
      "\u001b[32m2025-08-08 06:20:49.249\u001b[0m | \u001b[1mINFO    \u001b[0m | \u001b[36mlibrary.python.fvm.solver\u001b[0m:\u001b[36mlog_callback_hyperbolic\u001b[0m:\u001b[36m43\u001b[0m - \u001b[1miteration: 136, time: 0.067379, dt: 0.000479, next write at time: 0.077778\u001b[0m\n",
      "\u001b[32m2025-08-08 06:20:49.264\u001b[0m | \u001b[1mINFO    \u001b[0m | \u001b[36mlibrary.python.fvm.solver\u001b[0m:\u001b[36mlog_callback_hyperbolic\u001b[0m:\u001b[36m43\u001b[0m - \u001b[1miteration: 137, time: 0.067859, dt: 0.000480, next write at time: 0.077778\u001b[0m\n",
      "\u001b[32m2025-08-08 06:20:49.290\u001b[0m | \u001b[1mINFO    \u001b[0m | \u001b[36mlibrary.python.fvm.solver\u001b[0m:\u001b[36mlog_callback_hyperbolic\u001b[0m:\u001b[36m43\u001b[0m - \u001b[1miteration: 138, time: 0.068338, dt: 0.000479, next write at time: 0.077778\u001b[0m\n",
      "\u001b[32m2025-08-08 06:20:49.306\u001b[0m | \u001b[1mINFO    \u001b[0m | \u001b[36mlibrary.python.fvm.solver\u001b[0m:\u001b[36mlog_callback_hyperbolic\u001b[0m:\u001b[36m43\u001b[0m - \u001b[1miteration: 139, time: 0.068818, dt: 0.000480, next write at time: 0.077778\u001b[0m\n",
      "\u001b[32m2025-08-08 06:20:49.333\u001b[0m | \u001b[1mINFO    \u001b[0m | \u001b[36mlibrary.python.fvm.solver\u001b[0m:\u001b[36mlog_callback_hyperbolic\u001b[0m:\u001b[36m43\u001b[0m - \u001b[1miteration: 140, time: 0.069297, dt: 0.000479, next write at time: 0.077778\u001b[0m\n",
      "\u001b[32m2025-08-08 06:20:49.351\u001b[0m | \u001b[1mINFO    \u001b[0m | \u001b[36mlibrary.python.fvm.solver\u001b[0m:\u001b[36mlog_callback_hyperbolic\u001b[0m:\u001b[36m43\u001b[0m - \u001b[1miteration: 141, time: 0.069777, dt: 0.000480, next write at time: 0.077778\u001b[0m\n",
      "\u001b[32m2025-08-08 06:20:49.373\u001b[0m | \u001b[1mINFO    \u001b[0m | \u001b[36mlibrary.python.fvm.solver\u001b[0m:\u001b[36mlog_callback_hyperbolic\u001b[0m:\u001b[36m43\u001b[0m - \u001b[1miteration: 142, time: 0.070256, dt: 0.000479, next write at time: 0.077778\u001b[0m\n",
      "\u001b[32m2025-08-08 06:20:49.388\u001b[0m | \u001b[1mINFO    \u001b[0m | \u001b[36mlibrary.python.fvm.solver\u001b[0m:\u001b[36mlog_callback_hyperbolic\u001b[0m:\u001b[36m43\u001b[0m - \u001b[1miteration: 143, time: 0.070736, dt: 0.000479, next write at time: 0.077778\u001b[0m\n",
      "\u001b[32m2025-08-08 06:20:49.411\u001b[0m | \u001b[1mINFO    \u001b[0m | \u001b[36mlibrary.python.fvm.solver\u001b[0m:\u001b[36mlog_callback_hyperbolic\u001b[0m:\u001b[36m43\u001b[0m - \u001b[1miteration: 144, time: 0.071215, dt: 0.000480, next write at time: 0.077778\u001b[0m\n",
      "\u001b[32m2025-08-08 06:20:49.429\u001b[0m | \u001b[1mINFO    \u001b[0m | \u001b[36mlibrary.python.fvm.solver\u001b[0m:\u001b[36mlog_callback_hyperbolic\u001b[0m:\u001b[36m43\u001b[0m - \u001b[1miteration: 145, time: 0.071695, dt: 0.000479, next write at time: 0.077778\u001b[0m\n",
      "\u001b[32m2025-08-08 06:20:49.449\u001b[0m | \u001b[1mINFO    \u001b[0m | \u001b[36mlibrary.python.fvm.solver\u001b[0m:\u001b[36mlog_callback_hyperbolic\u001b[0m:\u001b[36m43\u001b[0m - \u001b[1miteration: 146, time: 0.072174, dt: 0.000480, next write at time: 0.077778\u001b[0m\n",
      "\u001b[32m2025-08-08 06:20:49.472\u001b[0m | \u001b[1mINFO    \u001b[0m | \u001b[36mlibrary.python.fvm.solver\u001b[0m:\u001b[36mlog_callback_hyperbolic\u001b[0m:\u001b[36m43\u001b[0m - \u001b[1miteration: 147, time: 0.072654, dt: 0.000479, next write at time: 0.077778\u001b[0m\n",
      "\u001b[32m2025-08-08 06:20:49.488\u001b[0m | \u001b[1mINFO    \u001b[0m | \u001b[36mlibrary.python.fvm.solver\u001b[0m:\u001b[36mlog_callback_hyperbolic\u001b[0m:\u001b[36m43\u001b[0m - \u001b[1miteration: 148, time: 0.073133, dt: 0.000480, next write at time: 0.077778\u001b[0m\n",
      "\u001b[32m2025-08-08 06:20:49.509\u001b[0m | \u001b[1mINFO    \u001b[0m | \u001b[36mlibrary.python.fvm.solver\u001b[0m:\u001b[36mlog_callback_hyperbolic\u001b[0m:\u001b[36m43\u001b[0m - \u001b[1miteration: 149, time: 0.073612, dt: 0.000479, next write at time: 0.077778\u001b[0m\n",
      "\u001b[32m2025-08-08 06:20:49.530\u001b[0m | \u001b[1mINFO    \u001b[0m | \u001b[36mlibrary.python.fvm.solver\u001b[0m:\u001b[36mlog_callback_hyperbolic\u001b[0m:\u001b[36m43\u001b[0m - \u001b[1miteration: 150, time: 0.074092, dt: 0.000480, next write at time: 0.077778\u001b[0m\n",
      "\u001b[32m2025-08-08 06:20:49.548\u001b[0m | \u001b[1mINFO    \u001b[0m | \u001b[36mlibrary.python.fvm.solver\u001b[0m:\u001b[36mlog_callback_hyperbolic\u001b[0m:\u001b[36m43\u001b[0m - \u001b[1miteration: 151, time: 0.074571, dt: 0.000479, next write at time: 0.077778\u001b[0m\n",
      "\u001b[32m2025-08-08 06:20:49.581\u001b[0m | \u001b[1mINFO    \u001b[0m | \u001b[36mlibrary.python.fvm.solver\u001b[0m:\u001b[36mlog_callback_hyperbolic\u001b[0m:\u001b[36m43\u001b[0m - \u001b[1miteration: 152, time: 0.075050, dt: 0.000480, next write at time: 0.077778\u001b[0m\n",
      "\u001b[32m2025-08-08 06:20:49.603\u001b[0m | \u001b[1mINFO    \u001b[0m | \u001b[36mlibrary.python.fvm.solver\u001b[0m:\u001b[36mlog_callback_hyperbolic\u001b[0m:\u001b[36m43\u001b[0m - \u001b[1miteration: 153, time: 0.075529, dt: 0.000479, next write at time: 0.077778\u001b[0m\n",
      "\u001b[32m2025-08-08 06:20:49.624\u001b[0m | \u001b[1mINFO    \u001b[0m | \u001b[36mlibrary.python.fvm.solver\u001b[0m:\u001b[36mlog_callback_hyperbolic\u001b[0m:\u001b[36m43\u001b[0m - \u001b[1miteration: 154, time: 0.076009, dt: 0.000480, next write at time: 0.077778\u001b[0m\n",
      "\u001b[32m2025-08-08 06:20:49.645\u001b[0m | \u001b[1mINFO    \u001b[0m | \u001b[36mlibrary.python.fvm.solver\u001b[0m:\u001b[36mlog_callback_hyperbolic\u001b[0m:\u001b[36m43\u001b[0m - \u001b[1miteration: 155, time: 0.076488, dt: 0.000479, next write at time: 0.077778\u001b[0m\n",
      "\u001b[32m2025-08-08 06:20:49.663\u001b[0m | \u001b[1mINFO    \u001b[0m | \u001b[36mlibrary.python.fvm.solver\u001b[0m:\u001b[36mlog_callback_hyperbolic\u001b[0m:\u001b[36m43\u001b[0m - \u001b[1miteration: 156, time: 0.076967, dt: 0.000480, next write at time: 0.077778\u001b[0m\n",
      "\u001b[32m2025-08-08 06:20:49.676\u001b[0m | \u001b[1mINFO    \u001b[0m | \u001b[36mlibrary.python.fvm.solver\u001b[0m:\u001b[36mlog_callback_hyperbolic\u001b[0m:\u001b[36m43\u001b[0m - \u001b[1miteration: 157, time: 0.077446, dt: 0.000479, next write at time: 0.077778\u001b[0m\n",
      "\u001b[32m2025-08-08 06:20:49.693\u001b[0m | \u001b[1mINFO    \u001b[0m | \u001b[36mlibrary.python.fvm.solver\u001b[0m:\u001b[36mlog_callback_hyperbolic\u001b[0m:\u001b[36m43\u001b[0m - \u001b[1miteration: 158, time: 0.077926, dt: 0.000480, next write at time: 0.077778\u001b[0m\n",
      "\u001b[32m2025-08-08 06:20:49.709\u001b[0m | \u001b[1mINFO    \u001b[0m | \u001b[36mlibrary.python.fvm.solver\u001b[0m:\u001b[36mlog_callback_hyperbolic\u001b[0m:\u001b[36m43\u001b[0m - \u001b[1miteration: 159, time: 0.078404, dt: 0.000479, next write at time: 0.088889\u001b[0m\n",
      "\u001b[32m2025-08-08 06:20:49.733\u001b[0m | \u001b[1mINFO    \u001b[0m | \u001b[36mlibrary.python.fvm.solver\u001b[0m:\u001b[36mlog_callback_hyperbolic\u001b[0m:\u001b[36m43\u001b[0m - \u001b[1miteration: 160, time: 0.078884, dt: 0.000480, next write at time: 0.088889\u001b[0m\n",
      "\u001b[32m2025-08-08 06:20:49.759\u001b[0m | \u001b[1mINFO    \u001b[0m | \u001b[36mlibrary.python.fvm.solver\u001b[0m:\u001b[36mlog_callback_hyperbolic\u001b[0m:\u001b[36m43\u001b[0m - \u001b[1miteration: 161, time: 0.079363, dt: 0.000479, next write at time: 0.088889\u001b[0m\n",
      "\u001b[32m2025-08-08 06:20:49.787\u001b[0m | \u001b[1mINFO    \u001b[0m | \u001b[36mlibrary.python.fvm.solver\u001b[0m:\u001b[36mlog_callback_hyperbolic\u001b[0m:\u001b[36m43\u001b[0m - \u001b[1miteration: 162, time: 0.079842, dt: 0.000480, next write at time: 0.088889\u001b[0m\n",
      "\u001b[32m2025-08-08 06:20:49.807\u001b[0m | \u001b[1mINFO    \u001b[0m | \u001b[36mlibrary.python.fvm.solver\u001b[0m:\u001b[36mlog_callback_hyperbolic\u001b[0m:\u001b[36m43\u001b[0m - \u001b[1miteration: 163, time: 0.080321, dt: 0.000479, next write at time: 0.088889\u001b[0m\n",
      "\u001b[32m2025-08-08 06:20:49.833\u001b[0m | \u001b[1mINFO    \u001b[0m | \u001b[36mlibrary.python.fvm.solver\u001b[0m:\u001b[36mlog_callback_hyperbolic\u001b[0m:\u001b[36m43\u001b[0m - \u001b[1miteration: 164, time: 0.080800, dt: 0.000480, next write at time: 0.088889\u001b[0m\n",
      "\u001b[32m2025-08-08 06:20:49.858\u001b[0m | \u001b[1mINFO    \u001b[0m | \u001b[36mlibrary.python.fvm.solver\u001b[0m:\u001b[36mlog_callback_hyperbolic\u001b[0m:\u001b[36m43\u001b[0m - \u001b[1miteration: 165, time: 0.081279, dt: 0.000478, next write at time: 0.088889\u001b[0m\n",
      "\u001b[32m2025-08-08 06:20:49.877\u001b[0m | \u001b[1mINFO    \u001b[0m | \u001b[36mlibrary.python.fvm.solver\u001b[0m:\u001b[36mlog_callback_hyperbolic\u001b[0m:\u001b[36m43\u001b[0m - \u001b[1miteration: 166, time: 0.081758, dt: 0.000480, next write at time: 0.088889\u001b[0m\n",
      "\u001b[32m2025-08-08 06:20:49.896\u001b[0m | \u001b[1mINFO    \u001b[0m | \u001b[36mlibrary.python.fvm.solver\u001b[0m:\u001b[36mlog_callback_hyperbolic\u001b[0m:\u001b[36m43\u001b[0m - \u001b[1miteration: 167, time: 0.082237, dt: 0.000478, next write at time: 0.088889\u001b[0m\n",
      "\u001b[32m2025-08-08 06:20:49.910\u001b[0m | \u001b[1mINFO    \u001b[0m | \u001b[36mlibrary.python.fvm.solver\u001b[0m:\u001b[36mlog_callback_hyperbolic\u001b[0m:\u001b[36m43\u001b[0m - \u001b[1miteration: 168, time: 0.082716, dt: 0.000480, next write at time: 0.088889\u001b[0m\n",
      "\u001b[32m2025-08-08 06:20:49.932\u001b[0m | \u001b[1mINFO    \u001b[0m | \u001b[36mlibrary.python.fvm.solver\u001b[0m:\u001b[36mlog_callback_hyperbolic\u001b[0m:\u001b[36m43\u001b[0m - \u001b[1miteration: 169, time: 0.083195, dt: 0.000478, next write at time: 0.088889\u001b[0m\n",
      "\u001b[32m2025-08-08 06:20:49.950\u001b[0m | \u001b[1mINFO    \u001b[0m | \u001b[36mlibrary.python.fvm.solver\u001b[0m:\u001b[36mlog_callback_hyperbolic\u001b[0m:\u001b[36m43\u001b[0m - \u001b[1miteration: 170, time: 0.083674, dt: 0.000480, next write at time: 0.088889\u001b[0m\n",
      "\u001b[32m2025-08-08 06:20:49.976\u001b[0m | \u001b[1mINFO    \u001b[0m | \u001b[36mlibrary.python.fvm.solver\u001b[0m:\u001b[36mlog_callback_hyperbolic\u001b[0m:\u001b[36m43\u001b[0m - \u001b[1miteration: 171, time: 0.084152, dt: 0.000478, next write at time: 0.088889\u001b[0m\n",
      "\u001b[32m2025-08-08 06:20:49.992\u001b[0m | \u001b[1mINFO    \u001b[0m | \u001b[36mlibrary.python.fvm.solver\u001b[0m:\u001b[36mlog_callback_hyperbolic\u001b[0m:\u001b[36m43\u001b[0m - \u001b[1miteration: 172, time: 0.084632, dt: 0.000480, next write at time: 0.088889\u001b[0m\n",
      "\u001b[32m2025-08-08 06:20:50.009\u001b[0m | \u001b[1mINFO    \u001b[0m | \u001b[36mlibrary.python.fvm.solver\u001b[0m:\u001b[36mlog_callback_hyperbolic\u001b[0m:\u001b[36m43\u001b[0m - \u001b[1miteration: 173, time: 0.085110, dt: 0.000478, next write at time: 0.088889\u001b[0m\n",
      "\u001b[32m2025-08-08 06:20:50.027\u001b[0m | \u001b[1mINFO    \u001b[0m | \u001b[36mlibrary.python.fvm.solver\u001b[0m:\u001b[36mlog_callback_hyperbolic\u001b[0m:\u001b[36m43\u001b[0m - \u001b[1miteration: 174, time: 0.085589, dt: 0.000480, next write at time: 0.088889\u001b[0m\n",
      "\u001b[32m2025-08-08 06:20:50.044\u001b[0m | \u001b[1mINFO    \u001b[0m | \u001b[36mlibrary.python.fvm.solver\u001b[0m:\u001b[36mlog_callback_hyperbolic\u001b[0m:\u001b[36m43\u001b[0m - \u001b[1miteration: 175, time: 0.086067, dt: 0.000478, next write at time: 0.088889\u001b[0m\n",
      "\u001b[32m2025-08-08 06:20:50.063\u001b[0m | \u001b[1mINFO    \u001b[0m | \u001b[36mlibrary.python.fvm.solver\u001b[0m:\u001b[36mlog_callback_hyperbolic\u001b[0m:\u001b[36m43\u001b[0m - \u001b[1miteration: 176, time: 0.086547, dt: 0.000480, next write at time: 0.088889\u001b[0m\n",
      "\u001b[32m2025-08-08 06:20:50.093\u001b[0m | \u001b[1mINFO    \u001b[0m | \u001b[36mlibrary.python.fvm.solver\u001b[0m:\u001b[36mlog_callback_hyperbolic\u001b[0m:\u001b[36m43\u001b[0m - \u001b[1miteration: 177, time: 0.087025, dt: 0.000478, next write at time: 0.088889\u001b[0m\n",
      "\u001b[32m2025-08-08 06:20:50.118\u001b[0m | \u001b[1mINFO    \u001b[0m | \u001b[36mlibrary.python.fvm.solver\u001b[0m:\u001b[36mlog_callback_hyperbolic\u001b[0m:\u001b[36m43\u001b[0m - \u001b[1miteration: 178, time: 0.087504, dt: 0.000479, next write at time: 0.088889\u001b[0m\n",
      "\u001b[32m2025-08-08 06:20:50.148\u001b[0m | \u001b[1mINFO    \u001b[0m | \u001b[36mlibrary.python.fvm.solver\u001b[0m:\u001b[36mlog_callback_hyperbolic\u001b[0m:\u001b[36m43\u001b[0m - \u001b[1miteration: 179, time: 0.087982, dt: 0.000478, next write at time: 0.088889\u001b[0m\n",
      "\u001b[32m2025-08-08 06:20:50.178\u001b[0m | \u001b[1mINFO    \u001b[0m | \u001b[36mlibrary.python.fvm.solver\u001b[0m:\u001b[36mlog_callback_hyperbolic\u001b[0m:\u001b[36m43\u001b[0m - \u001b[1miteration: 180, time: 0.088462, dt: 0.000479, next write at time: 0.088889\u001b[0m\n",
      "\u001b[32m2025-08-08 06:20:50.208\u001b[0m | \u001b[1mINFO    \u001b[0m | \u001b[36mlibrary.python.fvm.solver\u001b[0m:\u001b[36mlog_callback_hyperbolic\u001b[0m:\u001b[36m43\u001b[0m - \u001b[1miteration: 181, time: 0.088940, dt: 0.000478, next write at time: 0.088889\u001b[0m\n",
      "\u001b[32m2025-08-08 06:20:50.224\u001b[0m | \u001b[1mINFO    \u001b[0m | \u001b[36mlibrary.python.fvm.solver\u001b[0m:\u001b[36mlog_callback_hyperbolic\u001b[0m:\u001b[36m43\u001b[0m - \u001b[1miteration: 182, time: 0.089419, dt: 0.000479, next write at time: 0.100000\u001b[0m\n",
      "\u001b[32m2025-08-08 06:20:50.243\u001b[0m | \u001b[1mINFO    \u001b[0m | \u001b[36mlibrary.python.fvm.solver\u001b[0m:\u001b[36mlog_callback_hyperbolic\u001b[0m:\u001b[36m43\u001b[0m - \u001b[1miteration: 183, time: 0.089897, dt: 0.000478, next write at time: 0.100000\u001b[0m\n",
      "\u001b[32m2025-08-08 06:20:50.264\u001b[0m | \u001b[1mINFO    \u001b[0m | \u001b[36mlibrary.python.fvm.solver\u001b[0m:\u001b[36mlog_callback_hyperbolic\u001b[0m:\u001b[36m43\u001b[0m - \u001b[1miteration: 184, time: 0.090376, dt: 0.000479, next write at time: 0.100000\u001b[0m\n",
      "\u001b[32m2025-08-08 06:20:50.283\u001b[0m | \u001b[1mINFO    \u001b[0m | \u001b[36mlibrary.python.fvm.solver\u001b[0m:\u001b[36mlog_callback_hyperbolic\u001b[0m:\u001b[36m43\u001b[0m - \u001b[1miteration: 185, time: 0.090854, dt: 0.000478, next write at time: 0.100000\u001b[0m\n",
      "\u001b[32m2025-08-08 06:20:50.306\u001b[0m | \u001b[1mINFO    \u001b[0m | \u001b[36mlibrary.python.fvm.solver\u001b[0m:\u001b[36mlog_callback_hyperbolic\u001b[0m:\u001b[36m43\u001b[0m - \u001b[1miteration: 186, time: 0.091334, dt: 0.000479, next write at time: 0.100000\u001b[0m\n",
      "\u001b[32m2025-08-08 06:20:50.328\u001b[0m | \u001b[1mINFO    \u001b[0m | \u001b[36mlibrary.python.fvm.solver\u001b[0m:\u001b[36mlog_callback_hyperbolic\u001b[0m:\u001b[36m43\u001b[0m - \u001b[1miteration: 187, time: 0.091811, dt: 0.000478, next write at time: 0.100000\u001b[0m\n",
      "\u001b[32m2025-08-08 06:20:50.343\u001b[0m | \u001b[1mINFO    \u001b[0m | \u001b[36mlibrary.python.fvm.solver\u001b[0m:\u001b[36mlog_callback_hyperbolic\u001b[0m:\u001b[36m43\u001b[0m - \u001b[1miteration: 188, time: 0.092291, dt: 0.000479, next write at time: 0.100000\u001b[0m\n",
      "\u001b[32m2025-08-08 06:20:50.364\u001b[0m | \u001b[1mINFO    \u001b[0m | \u001b[36mlibrary.python.fvm.solver\u001b[0m:\u001b[36mlog_callback_hyperbolic\u001b[0m:\u001b[36m43\u001b[0m - \u001b[1miteration: 189, time: 0.092768, dt: 0.000478, next write at time: 0.100000\u001b[0m\n",
      "\u001b[32m2025-08-08 06:20:50.385\u001b[0m | \u001b[1mINFO    \u001b[0m | \u001b[36mlibrary.python.fvm.solver\u001b[0m:\u001b[36mlog_callback_hyperbolic\u001b[0m:\u001b[36m43\u001b[0m - \u001b[1miteration: 190, time: 0.093248, dt: 0.000479, next write at time: 0.100000\u001b[0m\n",
      "\u001b[32m2025-08-08 06:20:50.407\u001b[0m | \u001b[1mINFO    \u001b[0m | \u001b[36mlibrary.python.fvm.solver\u001b[0m:\u001b[36mlog_callback_hyperbolic\u001b[0m:\u001b[36m43\u001b[0m - \u001b[1miteration: 191, time: 0.093725, dt: 0.000477, next write at time: 0.100000\u001b[0m\n",
      "\u001b[32m2025-08-08 06:20:50.423\u001b[0m | \u001b[1mINFO    \u001b[0m | \u001b[36mlibrary.python.fvm.solver\u001b[0m:\u001b[36mlog_callback_hyperbolic\u001b[0m:\u001b[36m43\u001b[0m - \u001b[1miteration: 192, time: 0.094205, dt: 0.000479, next write at time: 0.100000\u001b[0m\n",
      "\u001b[32m2025-08-08 06:20:50.441\u001b[0m | \u001b[1mINFO    \u001b[0m | \u001b[36mlibrary.python.fvm.solver\u001b[0m:\u001b[36mlog_callback_hyperbolic\u001b[0m:\u001b[36m43\u001b[0m - \u001b[1miteration: 193, time: 0.094682, dt: 0.000477, next write at time: 0.100000\u001b[0m\n",
      "\u001b[32m2025-08-08 06:20:50.456\u001b[0m | \u001b[1mINFO    \u001b[0m | \u001b[36mlibrary.python.fvm.solver\u001b[0m:\u001b[36mlog_callback_hyperbolic\u001b[0m:\u001b[36m43\u001b[0m - \u001b[1miteration: 194, time: 0.095162, dt: 0.000479, next write at time: 0.100000\u001b[0m\n",
      "\u001b[32m2025-08-08 06:20:50.476\u001b[0m | \u001b[1mINFO    \u001b[0m | \u001b[36mlibrary.python.fvm.solver\u001b[0m:\u001b[36mlog_callback_hyperbolic\u001b[0m:\u001b[36m43\u001b[0m - \u001b[1miteration: 195, time: 0.095639, dt: 0.000477, next write at time: 0.100000\u001b[0m\n",
      "\u001b[32m2025-08-08 06:20:50.495\u001b[0m | \u001b[1mINFO    \u001b[0m | \u001b[36mlibrary.python.fvm.solver\u001b[0m:\u001b[36mlog_callback_hyperbolic\u001b[0m:\u001b[36m43\u001b[0m - \u001b[1miteration: 196, time: 0.096118, dt: 0.000479, next write at time: 0.100000\u001b[0m\n",
      "\u001b[32m2025-08-08 06:20:50.513\u001b[0m | \u001b[1mINFO    \u001b[0m | \u001b[36mlibrary.python.fvm.solver\u001b[0m:\u001b[36mlog_callback_hyperbolic\u001b[0m:\u001b[36m43\u001b[0m - \u001b[1miteration: 197, time: 0.096596, dt: 0.000477, next write at time: 0.100000\u001b[0m\n",
      "\u001b[32m2025-08-08 06:20:50.532\u001b[0m | \u001b[1mINFO    \u001b[0m | \u001b[36mlibrary.python.fvm.solver\u001b[0m:\u001b[36mlog_callback_hyperbolic\u001b[0m:\u001b[36m43\u001b[0m - \u001b[1miteration: 198, time: 0.097075, dt: 0.000479, next write at time: 0.100000\u001b[0m\n",
      "\u001b[32m2025-08-08 06:20:50.547\u001b[0m | \u001b[1mINFO    \u001b[0m | \u001b[36mlibrary.python.fvm.solver\u001b[0m:\u001b[36mlog_callback_hyperbolic\u001b[0m:\u001b[36m43\u001b[0m - \u001b[1miteration: 199, time: 0.097552, dt: 0.000477, next write at time: 0.100000\u001b[0m\n",
      "\u001b[32m2025-08-08 06:20:50.563\u001b[0m | \u001b[1mINFO    \u001b[0m | \u001b[36mlibrary.python.fvm.solver\u001b[0m:\u001b[36mlog_callback_hyperbolic\u001b[0m:\u001b[36m43\u001b[0m - \u001b[1miteration: 200, time: 0.098032, dt: 0.000479, next write at time: 0.100000\u001b[0m\n",
      "\u001b[32m2025-08-08 06:20:50.584\u001b[0m | \u001b[1mINFO    \u001b[0m | \u001b[36mlibrary.python.fvm.solver\u001b[0m:\u001b[36mlog_callback_hyperbolic\u001b[0m:\u001b[36m43\u001b[0m - \u001b[1miteration: 201, time: 0.098509, dt: 0.000477, next write at time: 0.100000\u001b[0m\n",
      "\u001b[32m2025-08-08 06:20:50.612\u001b[0m | \u001b[1mINFO    \u001b[0m | \u001b[36mlibrary.python.fvm.solver\u001b[0m:\u001b[36mlog_callback_hyperbolic\u001b[0m:\u001b[36m43\u001b[0m - \u001b[1miteration: 202, time: 0.098988, dt: 0.000479, next write at time: 0.100000\u001b[0m\n",
      "\u001b[32m2025-08-08 06:20:50.632\u001b[0m | \u001b[1mINFO    \u001b[0m | \u001b[36mlibrary.python.fvm.solver\u001b[0m:\u001b[36mlog_callback_hyperbolic\u001b[0m:\u001b[36m43\u001b[0m - \u001b[1miteration: 203, time: 0.099466, dt: 0.000477, next write at time: 0.100000\u001b[0m\n",
      "\u001b[32m2025-08-08 06:20:50.652\u001b[0m | \u001b[1mINFO    \u001b[0m | \u001b[36mlibrary.python.fvm.solver\u001b[0m:\u001b[36mlog_callback_hyperbolic\u001b[0m:\u001b[36m43\u001b[0m - \u001b[1miteration: 204, time: 0.099945, dt: 0.000479, next write at time: 0.100000\u001b[0m\n",
      "\u001b[32m2025-08-08 06:20:50.668\u001b[0m | \u001b[1mINFO    \u001b[0m | \u001b[36mlibrary.python.fvm.solver\u001b[0m:\u001b[36mlog_callback_hyperbolic\u001b[0m:\u001b[36m43\u001b[0m - \u001b[1miteration: 205, time: 0.100422, dt: 0.000477, next write at time: 0.100000\u001b[0m\n",
      "\u001b[32m2025-08-08 06:20:50.691\u001b[0m | \u001b[1mINFO    \u001b[0m | \u001b[36mlibrary.python.fvm.solver\u001b[0m:\u001b[36mlog_callback_execution_time\u001b[0m:\u001b[36m55\u001b[0m - \u001b[1mFinished simulation with in 5.187 seconds\u001b[0m\n"
     ]
    }
   ],
   "source": [
    "Qnew, Qaux = solver.solve(mesh, model)\n",
    "\n",
    "io.generate_vtk(\n",
    "    os.path.join(settings.output.directory, f\"{settings.output.filename}.h5\")\n",
    ")"
   ]
  },
  {
   "cell_type": "markdown",
   "id": "5abcc1a4",
   "metadata": {},
   "source": [
    "## Visualization"
   ]
  },
  {
   "cell_type": "code",
   "execution_count": 5,
   "id": "7940f9e8",
   "metadata": {
    "scrolled": true
   },
   "outputs": [
    {
     "name": "stderr",
     "output_type": "stream",
     "text": [
      "\u001b[32m2025-08-08 06:20:54.409\u001b[0m | \u001b[1mINFO    \u001b[0m | \u001b[36mlibrary.postprocessing.postprocessing\u001b[0m:\u001b[36mvtk_interpolate_3d\u001b[0m:\u001b[36m62\u001b[0m - \u001b[1mConverted snapshot 0/10\u001b[0m\n",
      "\u001b[32m2025-08-08 06:20:54.440\u001b[0m | \u001b[1mINFO    \u001b[0m | \u001b[36mlibrary.postprocessing.postprocessing\u001b[0m:\u001b[36mvtk_interpolate_3d\u001b[0m:\u001b[36m62\u001b[0m - \u001b[1mConverted snapshot 1/10\u001b[0m\n",
      "\u001b[32m2025-08-08 06:20:54.477\u001b[0m | \u001b[1mINFO    \u001b[0m | \u001b[36mlibrary.postprocessing.postprocessing\u001b[0m:\u001b[36mvtk_interpolate_3d\u001b[0m:\u001b[36m62\u001b[0m - \u001b[1mConverted snapshot 2/10\u001b[0m\n",
      "\u001b[32m2025-08-08 06:20:54.509\u001b[0m | \u001b[1mINFO    \u001b[0m | \u001b[36mlibrary.postprocessing.postprocessing\u001b[0m:\u001b[36mvtk_interpolate_3d\u001b[0m:\u001b[36m62\u001b[0m - \u001b[1mConverted snapshot 3/10\u001b[0m\n",
      "\u001b[32m2025-08-08 06:20:54.540\u001b[0m | \u001b[1mINFO    \u001b[0m | \u001b[36mlibrary.postprocessing.postprocessing\u001b[0m:\u001b[36mvtk_interpolate_3d\u001b[0m:\u001b[36m62\u001b[0m - \u001b[1mConverted snapshot 4/10\u001b[0m\n",
      "\u001b[32m2025-08-08 06:20:54.564\u001b[0m | \u001b[1mINFO    \u001b[0m | \u001b[36mlibrary.postprocessing.postprocessing\u001b[0m:\u001b[36mvtk_interpolate_3d\u001b[0m:\u001b[36m62\u001b[0m - \u001b[1mConverted snapshot 5/10\u001b[0m\n",
      "\u001b[32m2025-08-08 06:20:54.589\u001b[0m | \u001b[1mINFO    \u001b[0m | \u001b[36mlibrary.postprocessing.postprocessing\u001b[0m:\u001b[36mvtk_interpolate_3d\u001b[0m:\u001b[36m62\u001b[0m - \u001b[1mConverted snapshot 6/10\u001b[0m\n",
      "\u001b[32m2025-08-08 06:20:54.613\u001b[0m | \u001b[1mINFO    \u001b[0m | \u001b[36mlibrary.postprocessing.postprocessing\u001b[0m:\u001b[36mvtk_interpolate_3d\u001b[0m:\u001b[36m62\u001b[0m - \u001b[1mConverted snapshot 7/10\u001b[0m\n",
      "\u001b[32m2025-08-08 06:20:54.636\u001b[0m | \u001b[1mINFO    \u001b[0m | \u001b[36mlibrary.postprocessing.postprocessing\u001b[0m:\u001b[36mvtk_interpolate_3d\u001b[0m:\u001b[36m62\u001b[0m - \u001b[1mConverted snapshot 8/10\u001b[0m\n",
      "\u001b[32m2025-08-08 06:20:54.665\u001b[0m | \u001b[1mINFO    \u001b[0m | \u001b[36mlibrary.postprocessing.postprocessing\u001b[0m:\u001b[36mvtk_interpolate_3d\u001b[0m:\u001b[36m62\u001b[0m - \u001b[1mConverted snapshot 9/10\u001b[0m\n",
      "\u001b[32m2025-08-08 06:20:55.398\u001b[0m | \u001b[1mINFO    \u001b[0m | \u001b[36mlibrary.postprocessing.postprocessing\u001b[0m:\u001b[36mvtk_interpolate_3d\u001b[0m:\u001b[36m65\u001b[0m - \u001b[1mOutput is written to: /home/ingo/Git/Zoomy/outputs/junction_0/out_3d.h5/out_3d.*.vtk\u001b[0m\n"
     ]
    }
   ],
   "source": [
    "io.generate_vtk(os.path.join(settings.output.directory, f\"{settings.name}.h5\"))\n",
    "postprocessing.vtk_interpolate_3d(model, settings, Nz=20, filename='out_3d')"
   ]
  },
  {
   "cell_type": "code",
   "execution_count": null,
   "id": "d7879e81",
   "metadata": {},
   "outputs": [],
   "source": []
  }
 ],
 "metadata": {
  "kernelspec": {
   "display_name": "sms",
   "language": "python",
   "name": "python3"
  },
  "language_info": {
   "codemirror_mode": {
    "name": "ipython",
    "version": 3
   },
   "file_extension": ".py",
   "mimetype": "text/x-python",
   "name": "python",
   "nbconvert_exporter": "python",
   "pygments_lexer": "ipython3",
   "version": "3.12.9"
  },
  "widgets": {
   "application/vnd.jupyter.widget-state+json": {
    "state": {
     "58197ea96c8d4208a27b23118644168f": {
      "model_module": "@jupyter-widgets/base",
      "model_module_version": "2.0.0",
      "model_name": "LayoutModel",
      "state": {
       "_model_module": "@jupyter-widgets/base",
       "_model_module_version": "2.0.0",
       "_model_name": "LayoutModel",
       "_view_count": null,
       "_view_module": "@jupyter-widgets/base",
       "_view_module_version": "2.0.0",
       "_view_name": "LayoutView",
       "align_content": null,
       "align_items": null,
       "align_self": null,
       "border_bottom": null,
       "border_left": null,
       "border_right": null,
       "border_top": null,
       "bottom": null,
       "display": null,
       "flex": null,
       "flex_flow": null,
       "grid_area": null,
       "grid_auto_columns": null,
       "grid_auto_flow": null,
       "grid_auto_rows": null,
       "grid_column": null,
       "grid_gap": null,
       "grid_row": null,
       "grid_template_areas": null,
       "grid_template_columns": null,
       "grid_template_rows": null,
       "height": null,
       "justify_content": null,
       "justify_items": null,
       "left": null,
       "margin": null,
       "max_height": null,
       "max_width": null,
       "min_height": null,
       "min_width": null,
       "object_fit": null,
       "object_position": null,
       "order": null,
       "overflow": null,
       "padding": null,
       "right": null,
       "top": null,
       "visibility": null,
       "width": null
      }
     },
     "6aee9427c56642c3a758e75c7f50945d": {
      "model_module": "@jupyter-widgets/controls",
      "model_module_version": "2.0.0",
      "model_name": "HTMLStyleModel",
      "state": {
       "_model_module": "@jupyter-widgets/controls",
       "_model_module_version": "2.0.0",
       "_model_name": "HTMLStyleModel",
       "_view_count": null,
       "_view_module": "@jupyter-widgets/base",
       "_view_module_version": "2.0.0",
       "_view_name": "StyleView",
       "background": null,
       "description_width": "",
       "font_size": null,
       "text_color": null
      }
     },
     "8e858fdf20384196aa8989375078223c": {
      "model_module": "@jupyter-widgets/controls",
      "model_module_version": "2.0.0",
      "model_name": "HTMLModel",
      "state": {
       "_dom_classes": [],
       "_model_module": "@jupyter-widgets/controls",
       "_model_module_version": "2.0.0",
       "_model_name": "HTMLModel",
       "_view_count": null,
       "_view_module": "@jupyter-widgets/controls",
       "_view_module_version": "2.0.0",
       "_view_name": "HTMLView",
       "description": "",
       "description_allow_html": false,
       "layout": "IPY_MODEL_58197ea96c8d4208a27b23118644168f",
       "placeholder": "​",
       "style": "IPY_MODEL_6aee9427c56642c3a758e75c7f50945d",
       "tabbable": null,
       "tooltip": null,
       "value": "<iframe src=\"http://localhost:40521/index.html?ui=P_0x7fedf49b1c40_0&reconnect=auto\" class=\"pyvista\" style=\"width: 99%; height: 600px; border: 1px solid rgb(221,221,221);\"></iframe>"
      }
     }
    },
    "version_major": 2,
    "version_minor": 0
   }
  }
 },
 "nbformat": 4,
 "nbformat_minor": 5
}
