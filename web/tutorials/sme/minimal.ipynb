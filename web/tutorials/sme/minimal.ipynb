{
 "cells": [
  {
   "cell_type": "raw",
   "id": "906eac95",
   "metadata": {
    "vscode": {
     "languageId": "raw"
    }
   },
   "source": [
    "---\n",
    "title: \"Minimal\"\n",
    "author: Ingo Steldermann\n",
    "date: 07/10/2025\n",
    "format:\n",
    "  html:\n",
    "    code-fold: false\n",
    "    code-tools: true\n",
    "    css: ../notebook.css\n",
    "---"
   ]
  },
  {
   "cell_type": "markdown",
   "id": "a8c5b74f",
   "metadata": {
    "vscode": {
     "languageId": "raw"
    }
   },
   "source": [
    "# Shallow Moment Tutorial (Minimal)"
   ]
  },
  {
   "cell_type": "markdown",
   "id": "b7ce1821",
   "metadata": {
    "vscode": {
     "languageId": "raw"
    }
   },
   "source": [
    "## Imports"
   ]
  },
  {
   "cell_type": "code",
   "execution_count": 1,
   "id": "4f583c96",
   "metadata": {
    "tags": []
   },
   "outputs": [
    {
     "name": "stderr",
     "output_type": "stream",
     "text": [
      "\u001b[32m2025-08-07 07:56:45.399\u001b[0m | \u001b[33m\u001b[1mWARNING \u001b[0m | \u001b[36mlibrary.fvm.solver\u001b[0m:\u001b[36m<module>\u001b[0m:\u001b[36m24\u001b[0m - \u001b[33m\u001b[1mNo module named 'precice'\u001b[0m\n"
     ]
    }
   ],
   "source": [
    "# | code-fold: true\n",
    "# | code-summary: \"Load packages\"\n",
    "# | output: false\n",
    "\n",
    "import os\n",
    "import numpy as np\n",
    "import jax\n",
    "from jax import numpy as jnp\n",
    "import pytest\n",
    "from types import SimpleNamespace\n",
    "from sympy import cos, pi, Piecewise\n",
    "\n",
    "from library.fvm.solver import HyperbolicSolver\n",
    "from library.fvm.ode import RK1\n",
    "import library.fvm.reconstruction as recon\n",
    "import library.fvm.timestepping as timestepping\n",
    "import library.fvm.flux as flux\n",
    "import library.fvm.nonconservative_flux as nc_flux\n",
    "from library.model.boundary_conditions import BoundaryCondition\n",
    "from library.model.models.basisfunctions import Basisfunction, Legendre_shifted\n",
    "from library.model.models.basismatrices import Basismatrices\n",
    "from library.model.models.shallow_moments import ShallowMoments2d\n",
    "import library.misc.io as io\n",
    "\n",
    "import library.model.initial_conditions as IC\n",
    "import library.model.boundary_conditions as BC\n",
    "import library.misc.io as io\n",
    "from library.mesh.mesh import compute_derivatives\n",
    "from tests.pdesoft import plots_paper\n",
    "\n",
    "from library.misc.misc import Zstruct, Settings\n",
    "\n",
    "\n",
    "import library.mesh.mesh as petscMesh\n",
    "import library.postprocessing.postprocessing as postprocessing\n",
    "from library.mesh.mesh import convert_mesh_to_jax\n",
    "import argparse\n"
   ]
  },
  {
   "cell_type": "markdown",
   "id": "9a0972ba",
   "metadata": {},
   "source": [
    "## Model"
   ]
  },
  {
   "cell_type": "code",
   "execution_count": 2,
   "id": "e5acbbe7",
   "metadata": {},
   "outputs": [
    {
     "name": "stderr",
     "output_type": "stream",
     "text": [
      "\u001b[32m2025-08-07 07:56:48.393\u001b[0m | \u001b[33m\u001b[1mWARNING \u001b[0m | \u001b[36mlibrary.misc.misc\u001b[0m:\u001b[36m__init__\u001b[0m:\u001b[36m153\u001b[0m - \u001b[33m\u001b[1mNo 'clean_directory' attribute found in output Zstruct. Default: False\u001b[0m\n"
     ]
    }
   ],
   "source": [
    "level = 0\n",
    "offset = 1 + level\n",
    "settings = Settings(\n",
    "    name=\"test\",\n",
    "    model=Zstruct(\n",
    "        level=level,\n",
    "        parameters=Zstruct(\n",
    "            g=9.81, ex=0, ey=0, ez=1, gz=0, rho=1, nu=0.000001, lamda=0.1\n",
    "        ),\n",
    "    ),\n",
    "    solver=Zstruct(time_end=0.1, compute_dt=timestepping.adaptive(CFL=0.45)),\n",
    "    output=Zstruct(\n",
    "        directory=f\"outputs/junction_{level}\", filename=\"test\", output_snapshots=30\n",
    "    ),\n",
    ")\n"
   ]
  },
  {
   "cell_type": "code",
   "execution_count": 3,
   "id": "fd25e4e2-4653-441c-a82b-4d4c2e4c013b",
   "metadata": {
    "tags": []
   },
   "outputs": [
    {
     "name": "stdout",
     "output_type": "stream",
     "text": [
      "\n"
     ]
    }
   ],
   "source": [
    "inflow_dict = {\n",
    "    0: lambda t, x, dx, q, qaux, p, n: Piecewise((0.1, t < 0.2), (q[0], True)),\n",
    "    1: lambda t, x, dx, q, qaux, p, n: Piecewise((-0.3, t < 0.2), (-q[1], True)),\n",
    "}\n",
    "inflow_dict.update({1 + i: lambda t, x, dx, q, qaux, p, n: 0 for i in range(level)})\n",
    "inflow_dict.update(\n",
    "    {1 + offset + i: lambda t, x, dx, q, qaux, p, n: 0 for i in range(level + 1)}\n",
    ")\n",
    "\n",
    "bcs = BC.BoundaryConditions(\n",
    "    [\n",
    "        BC.Lambda(physical_tag=\"inflow\", prescribe_fields=inflow_dict),\n",
    "        BC.Wall(physical_tag=\"wall\"),\n",
    "    ]\n",
    ")\n",
    "\n",
    "\n",
    "def custom_ic(x):\n",
    "    Q = np.zeros(3 + 2 * level, dtype=float)\n",
    "    Q[0] = 0.01\n",
    "    return Q\n",
    "\n",
    "\n",
    "ic = IC.UserFunction(custom_ic)\n",
    "\n",
    "model = ShallowMoments2d(\n",
    "    fields=3 + 2 * level,\n",
    "    aux_fields=2,\n",
    "    parameters=settings.model.parameters.as_dict(),\n",
    "    boundary_conditions=bcs,\n",
    "    initial_conditions=ic,\n",
    "    settings={\"friction\": [\"newtonian\", \"slip_mod\"]},\n",
    "    basis=Basismatrices(basis=Legendre_shifted(order=level + 1)),\n",
    ")\n",
    "\n",
    "main_dir = os.getenv(\"SMS\")\n",
    "mesh = petscMesh.Mesh.from_gmsh(\n",
    "    os.path.join(main_dir, \"meshes/channel_junction/mesh_2d_coarse.msh\")\n",
    "    # os.path.join(main_dir, \"meshes/channel_junction/mesh_2d_fine.msh\")\n",
    ")\n",
    "\n",
    "\n",
    "# mesh = convert_mesh_to_jax(mesh)\n",
    "class SMESolver(HyperbolicSolver):\n",
    "    def update_qaux(self, Q, Qaux, Qold, Qauxold, mesh, model, parameters, time, dt):\n",
    "        dudx = compute_derivatives(Q[1] / Q[0], mesh, derivatives_multi_index=[[0, 0]])[\n",
    "            :, 0\n",
    "        ]\n",
    "        dvdy = compute_derivatives(\n",
    "            Q[1 + offset] / Q[0], mesh, derivatives_multi_index=[[0, 1]]\n",
    "        )[:, 0]\n",
    "        Qaux = Qaux.at[0].set(dudx)\n",
    "        Qaux = Qaux.at[1].set(dvdy)\n",
    "        return Qaux\n",
    "\n",
    "\n",
    "solver = SMESolver(settings)\n"
   ]
  },
  {
   "cell_type": "markdown",
   "id": "672b830b",
   "metadata": {},
   "source": [
    "## Solver"
   ]
  },
  {
   "cell_type": "code",
   "execution_count": 4,
   "id": "34211aa2-8f9a-4e1d-bb55-1af32668f51e",
   "metadata": {},
   "outputs": [
    {
     "name": "stderr",
     "output_type": "stream",
     "text": [
      "\u001b[32m2025-08-07 07:57:09.493\u001b[0m | \u001b[33m\u001b[1mWARNING \u001b[0m | \u001b[36mlibrary.misc.io\u001b[0m:\u001b[36mwrite_dict_to_hdf5\u001b[0m:\u001b[36m51\u001b[0m - \u001b[33m\u001b[1mSkipping unsupported type for key: num_flux -> <class 'function'>\u001b[0m\n",
      "\u001b[32m2025-08-07 07:57:09.494\u001b[0m | \u001b[33m\u001b[1mWARNING \u001b[0m | \u001b[36mlibrary.misc.io\u001b[0m:\u001b[36mwrite_dict_to_hdf5\u001b[0m:\u001b[36m51\u001b[0m - \u001b[33m\u001b[1mSkipping unsupported type for key: nc_flux -> <class 'function'>\u001b[0m\n",
      "\u001b[32m2025-08-07 07:57:09.496\u001b[0m | \u001b[33m\u001b[1mWARNING \u001b[0m | \u001b[36mlibrary.misc.io\u001b[0m:\u001b[36mwrite_dict_to_hdf5\u001b[0m:\u001b[36m51\u001b[0m - \u001b[33m\u001b[1mSkipping unsupported type for key: compute_dt -> <class 'function'>\u001b[0m\n",
      "\u001b[32m2025-08-07 07:57:13.535\u001b[0m | \u001b[1mINFO    \u001b[0m | \u001b[36mlibrary.fvm.solver\u001b[0m:\u001b[36mlog_callback_hyperbolic\u001b[0m:\u001b[36m37\u001b[0m - \u001b[1miteration: 1, time: 0.006773, dt: 0.006773, next write at time: 0.011111\u001b[0m\n",
      "\u001b[32m2025-08-07 07:57:13.600\u001b[0m | \u001b[1mINFO    \u001b[0m | \u001b[36mlibrary.fvm.solver\u001b[0m:\u001b[36mlog_callback_hyperbolic\u001b[0m:\u001b[36m37\u001b[0m - \u001b[1miteration: 2, time: 0.007304, dt: 0.000532, next write at time: 0.011111\u001b[0m\n",
      "\u001b[32m2025-08-07 07:57:13.664\u001b[0m | \u001b[1mINFO    \u001b[0m | \u001b[36mlibrary.fvm.solver\u001b[0m:\u001b[36mlog_callback_hyperbolic\u001b[0m:\u001b[36m37\u001b[0m - \u001b[1miteration: 3, time: 0.007836, dt: 0.000532, next write at time: 0.011111\u001b[0m\n",
      "\u001b[32m2025-08-07 07:57:13.750\u001b[0m | \u001b[1mINFO    \u001b[0m | \u001b[36mlibrary.fvm.solver\u001b[0m:\u001b[36mlog_callback_hyperbolic\u001b[0m:\u001b[36m37\u001b[0m - \u001b[1miteration: 4, time: 0.008368, dt: 0.000532, next write at time: 0.011111\u001b[0m\n",
      "\u001b[32m2025-08-07 07:57:13.849\u001b[0m | \u001b[1mINFO    \u001b[0m | \u001b[36mlibrary.fvm.solver\u001b[0m:\u001b[36mlog_callback_hyperbolic\u001b[0m:\u001b[36m37\u001b[0m - \u001b[1miteration: 5, time: 0.008899, dt: 0.000532, next write at time: 0.011111\u001b[0m\n",
      "\u001b[32m2025-08-07 07:57:13.956\u001b[0m | \u001b[1mINFO    \u001b[0m | \u001b[36mlibrary.fvm.solver\u001b[0m:\u001b[36mlog_callback_hyperbolic\u001b[0m:\u001b[36m37\u001b[0m - \u001b[1miteration: 6, time: 0.009431, dt: 0.000532, next write at time: 0.011111\u001b[0m\n",
      "\u001b[32m2025-08-07 07:57:14.034\u001b[0m | \u001b[1mINFO    \u001b[0m | \u001b[36mlibrary.fvm.solver\u001b[0m:\u001b[36mlog_callback_hyperbolic\u001b[0m:\u001b[36m37\u001b[0m - \u001b[1miteration: 7, time: 0.009962, dt: 0.000531, next write at time: 0.011111\u001b[0m\n",
      "\u001b[32m2025-08-07 07:57:14.114\u001b[0m | \u001b[1mINFO    \u001b[0m | \u001b[36mlibrary.fvm.solver\u001b[0m:\u001b[36mlog_callback_hyperbolic\u001b[0m:\u001b[36m37\u001b[0m - \u001b[1miteration: 8, time: 0.010494, dt: 0.000531, next write at time: 0.011111\u001b[0m\n",
      "\u001b[32m2025-08-07 07:57:14.175\u001b[0m | \u001b[1mINFO    \u001b[0m | \u001b[36mlibrary.fvm.solver\u001b[0m:\u001b[36mlog_callback_hyperbolic\u001b[0m:\u001b[36m37\u001b[0m - \u001b[1miteration: 9, time: 0.011025, dt: 0.000531, next write at time: 0.011111\u001b[0m\n",
      "\u001b[32m2025-08-07 07:57:14.252\u001b[0m | \u001b[1mINFO    \u001b[0m | \u001b[36mlibrary.fvm.solver\u001b[0m:\u001b[36mlog_callback_hyperbolic\u001b[0m:\u001b[36m37\u001b[0m - \u001b[1miteration: 10, time: 0.011557, dt: 0.000531, next write at time: 0.011111\u001b[0m\n",
      "\u001b[32m2025-08-07 07:57:14.359\u001b[0m | \u001b[1mINFO    \u001b[0m | \u001b[36mlibrary.fvm.solver\u001b[0m:\u001b[36mlog_callback_hyperbolic\u001b[0m:\u001b[36m37\u001b[0m - \u001b[1miteration: 11, time: 0.012088, dt: 0.000531, next write at time: 0.022222\u001b[0m\n",
      "\u001b[32m2025-08-07 07:57:14.445\u001b[0m | \u001b[1mINFO    \u001b[0m | \u001b[36mlibrary.fvm.solver\u001b[0m:\u001b[36mlog_callback_hyperbolic\u001b[0m:\u001b[36m37\u001b[0m - \u001b[1miteration: 12, time: 0.012620, dt: 0.000532, next write at time: 0.022222\u001b[0m\n",
      "\u001b[32m2025-08-07 07:57:14.536\u001b[0m | \u001b[1mINFO    \u001b[0m | \u001b[36mlibrary.fvm.solver\u001b[0m:\u001b[36mlog_callback_hyperbolic\u001b[0m:\u001b[36m37\u001b[0m - \u001b[1miteration: 13, time: 0.013151, dt: 0.000531, next write at time: 0.022222\u001b[0m\n",
      "\u001b[32m2025-08-07 07:57:14.658\u001b[0m | \u001b[1mINFO    \u001b[0m | \u001b[36mlibrary.fvm.solver\u001b[0m:\u001b[36mlog_callback_hyperbolic\u001b[0m:\u001b[36m37\u001b[0m - \u001b[1miteration: 14, time: 0.013683, dt: 0.000532, next write at time: 0.022222\u001b[0m\n",
      "\u001b[32m2025-08-07 07:57:14.752\u001b[0m | \u001b[1mINFO    \u001b[0m | \u001b[36mlibrary.fvm.solver\u001b[0m:\u001b[36mlog_callback_hyperbolic\u001b[0m:\u001b[36m37\u001b[0m - \u001b[1miteration: 15, time: 0.014214, dt: 0.000532, next write at time: 0.022222\u001b[0m\n",
      "\u001b[32m2025-08-07 07:57:14.843\u001b[0m | \u001b[1mINFO    \u001b[0m | \u001b[36mlibrary.fvm.solver\u001b[0m:\u001b[36mlog_callback_hyperbolic\u001b[0m:\u001b[36m37\u001b[0m - \u001b[1miteration: 16, time: 0.014746, dt: 0.000532, next write at time: 0.022222\u001b[0m\n",
      "\u001b[32m2025-08-07 07:57:14.912\u001b[0m | \u001b[1mINFO    \u001b[0m | \u001b[36mlibrary.fvm.solver\u001b[0m:\u001b[36mlog_callback_hyperbolic\u001b[0m:\u001b[36m37\u001b[0m - \u001b[1miteration: 17, time: 0.015277, dt: 0.000532, next write at time: 0.022222\u001b[0m\n",
      "\u001b[32m2025-08-07 07:57:15.013\u001b[0m | \u001b[1mINFO    \u001b[0m | \u001b[36mlibrary.fvm.solver\u001b[0m:\u001b[36mlog_callback_hyperbolic\u001b[0m:\u001b[36m37\u001b[0m - \u001b[1miteration: 18, time: 0.015809, dt: 0.000532, next write at time: 0.022222\u001b[0m\n",
      "\u001b[32m2025-08-07 07:57:15.077\u001b[0m | \u001b[1mINFO    \u001b[0m | \u001b[36mlibrary.fvm.solver\u001b[0m:\u001b[36mlog_callback_hyperbolic\u001b[0m:\u001b[36m37\u001b[0m - \u001b[1miteration: 19, time: 0.016340, dt: 0.000532, next write at time: 0.022222\u001b[0m\n",
      "\u001b[32m2025-08-07 07:57:15.167\u001b[0m | \u001b[1mINFO    \u001b[0m | \u001b[36mlibrary.fvm.solver\u001b[0m:\u001b[36mlog_callback_hyperbolic\u001b[0m:\u001b[36m37\u001b[0m - \u001b[1miteration: 20, time: 0.016872, dt: 0.000532, next write at time: 0.022222\u001b[0m\n",
      "\u001b[32m2025-08-07 07:57:15.235\u001b[0m | \u001b[1mINFO    \u001b[0m | \u001b[36mlibrary.fvm.solver\u001b[0m:\u001b[36mlog_callback_hyperbolic\u001b[0m:\u001b[36m37\u001b[0m - \u001b[1miteration: 21, time: 0.017404, dt: 0.000532, next write at time: 0.022222\u001b[0m\n",
      "\u001b[32m2025-08-07 07:57:15.311\u001b[0m | \u001b[1mINFO    \u001b[0m | \u001b[36mlibrary.fvm.solver\u001b[0m:\u001b[36mlog_callback_hyperbolic\u001b[0m:\u001b[36m37\u001b[0m - \u001b[1miteration: 22, time: 0.017935, dt: 0.000532, next write at time: 0.022222\u001b[0m\n",
      "\u001b[32m2025-08-07 07:57:15.395\u001b[0m | \u001b[1mINFO    \u001b[0m | \u001b[36mlibrary.fvm.solver\u001b[0m:\u001b[36mlog_callback_hyperbolic\u001b[0m:\u001b[36m37\u001b[0m - \u001b[1miteration: 23, time: 0.018467, dt: 0.000532, next write at time: 0.022222\u001b[0m\n",
      "\u001b[32m2025-08-07 07:57:15.488\u001b[0m | \u001b[1mINFO    \u001b[0m | \u001b[36mlibrary.fvm.solver\u001b[0m:\u001b[36mlog_callback_hyperbolic\u001b[0m:\u001b[36m37\u001b[0m - \u001b[1miteration: 24, time: 0.018998, dt: 0.000532, next write at time: 0.022222\u001b[0m\n",
      "\u001b[32m2025-08-07 07:57:15.622\u001b[0m | \u001b[1mINFO    \u001b[0m | \u001b[36mlibrary.fvm.solver\u001b[0m:\u001b[36mlog_callback_hyperbolic\u001b[0m:\u001b[36m37\u001b[0m - \u001b[1miteration: 25, time: 0.019530, dt: 0.000532, next write at time: 0.022222\u001b[0m\n",
      "\u001b[32m2025-08-07 07:57:15.724\u001b[0m | \u001b[1mINFO    \u001b[0m | \u001b[36mlibrary.fvm.solver\u001b[0m:\u001b[36mlog_callback_hyperbolic\u001b[0m:\u001b[36m37\u001b[0m - \u001b[1miteration: 26, time: 0.020061, dt: 0.000532, next write at time: 0.022222\u001b[0m\n",
      "\u001b[32m2025-08-07 07:57:15.801\u001b[0m | \u001b[1mINFO    \u001b[0m | \u001b[36mlibrary.fvm.solver\u001b[0m:\u001b[36mlog_callback_hyperbolic\u001b[0m:\u001b[36m37\u001b[0m - \u001b[1miteration: 27, time: 0.020593, dt: 0.000532, next write at time: 0.022222\u001b[0m\n",
      "\u001b[32m2025-08-07 07:57:15.882\u001b[0m | \u001b[1mINFO    \u001b[0m | \u001b[36mlibrary.fvm.solver\u001b[0m:\u001b[36mlog_callback_hyperbolic\u001b[0m:\u001b[36m37\u001b[0m - \u001b[1miteration: 28, time: 0.021125, dt: 0.000532, next write at time: 0.022222\u001b[0m\n",
      "\u001b[32m2025-08-07 07:57:15.967\u001b[0m | \u001b[1mINFO    \u001b[0m | \u001b[36mlibrary.fvm.solver\u001b[0m:\u001b[36mlog_callback_hyperbolic\u001b[0m:\u001b[36m37\u001b[0m - \u001b[1miteration: 29, time: 0.021656, dt: 0.000532, next write at time: 0.022222\u001b[0m\n",
      "\u001b[32m2025-08-07 07:57:16.019\u001b[0m | \u001b[1mINFO    \u001b[0m | \u001b[36mlibrary.fvm.solver\u001b[0m:\u001b[36mlog_callback_hyperbolic\u001b[0m:\u001b[36m37\u001b[0m - \u001b[1miteration: 30, time: 0.022188, dt: 0.000532, next write at time: 0.022222\u001b[0m\n",
      "\u001b[32m2025-08-07 07:57:16.098\u001b[0m | \u001b[1mINFO    \u001b[0m | \u001b[36mlibrary.fvm.solver\u001b[0m:\u001b[36mlog_callback_hyperbolic\u001b[0m:\u001b[36m37\u001b[0m - \u001b[1miteration: 31, time: 0.022719, dt: 0.000532, next write at time: 0.022222\u001b[0m\n",
      "\u001b[32m2025-08-07 07:57:16.174\u001b[0m | \u001b[1mINFO    \u001b[0m | \u001b[36mlibrary.fvm.solver\u001b[0m:\u001b[36mlog_callback_hyperbolic\u001b[0m:\u001b[36m37\u001b[0m - \u001b[1miteration: 32, time: 0.023251, dt: 0.000532, next write at time: 0.033333\u001b[0m\n",
      "\u001b[32m2025-08-07 07:57:16.252\u001b[0m | \u001b[1mINFO    \u001b[0m | \u001b[36mlibrary.fvm.solver\u001b[0m:\u001b[36mlog_callback_hyperbolic\u001b[0m:\u001b[36m37\u001b[0m - \u001b[1miteration: 33, time: 0.023783, dt: 0.000532, next write at time: 0.033333\u001b[0m\n",
      "\u001b[32m2025-08-07 07:57:16.352\u001b[0m | \u001b[1mINFO    \u001b[0m | \u001b[36mlibrary.fvm.solver\u001b[0m:\u001b[36mlog_callback_hyperbolic\u001b[0m:\u001b[36m37\u001b[0m - \u001b[1miteration: 34, time: 0.024314, dt: 0.000532, next write at time: 0.033333\u001b[0m\n",
      "\u001b[32m2025-08-07 07:57:16.479\u001b[0m | \u001b[1mINFO    \u001b[0m | \u001b[36mlibrary.fvm.solver\u001b[0m:\u001b[36mlog_callback_hyperbolic\u001b[0m:\u001b[36m37\u001b[0m - \u001b[1miteration: 35, time: 0.024846, dt: 0.000532, next write at time: 0.033333\u001b[0m\n",
      "\u001b[32m2025-08-07 07:57:16.568\u001b[0m | \u001b[1mINFO    \u001b[0m | \u001b[36mlibrary.fvm.solver\u001b[0m:\u001b[36mlog_callback_hyperbolic\u001b[0m:\u001b[36m37\u001b[0m - \u001b[1miteration: 36, time: 0.025377, dt: 0.000532, next write at time: 0.033333\u001b[0m\n",
      "\u001b[32m2025-08-07 07:57:16.629\u001b[0m | \u001b[1mINFO    \u001b[0m | \u001b[36mlibrary.fvm.solver\u001b[0m:\u001b[36mlog_callback_hyperbolic\u001b[0m:\u001b[36m37\u001b[0m - \u001b[1miteration: 37, time: 0.025909, dt: 0.000532, next write at time: 0.033333\u001b[0m\n",
      "\u001b[32m2025-08-07 07:57:16.732\u001b[0m | \u001b[1mINFO    \u001b[0m | \u001b[36mlibrary.fvm.solver\u001b[0m:\u001b[36mlog_callback_hyperbolic\u001b[0m:\u001b[36m37\u001b[0m - \u001b[1miteration: 38, time: 0.026441, dt: 0.000532, next write at time: 0.033333\u001b[0m\n",
      "\u001b[32m2025-08-07 07:57:16.821\u001b[0m | \u001b[1mINFO    \u001b[0m | \u001b[36mlibrary.fvm.solver\u001b[0m:\u001b[36mlog_callback_hyperbolic\u001b[0m:\u001b[36m37\u001b[0m - \u001b[1miteration: 39, time: 0.026972, dt: 0.000532, next write at time: 0.033333\u001b[0m\n",
      "\u001b[32m2025-08-07 07:57:16.904\u001b[0m | \u001b[1mINFO    \u001b[0m | \u001b[36mlibrary.fvm.solver\u001b[0m:\u001b[36mlog_callback_hyperbolic\u001b[0m:\u001b[36m37\u001b[0m - \u001b[1miteration: 40, time: 0.027504, dt: 0.000532, next write at time: 0.033333\u001b[0m\n",
      "\u001b[32m2025-08-07 07:57:16.998\u001b[0m | \u001b[1mINFO    \u001b[0m | \u001b[36mlibrary.fvm.solver\u001b[0m:\u001b[36mlog_callback_hyperbolic\u001b[0m:\u001b[36m37\u001b[0m - \u001b[1miteration: 41, time: 0.028035, dt: 0.000532, next write at time: 0.033333\u001b[0m\n",
      "\u001b[32m2025-08-07 07:57:17.068\u001b[0m | \u001b[1mINFO    \u001b[0m | \u001b[36mlibrary.fvm.solver\u001b[0m:\u001b[36mlog_callback_hyperbolic\u001b[0m:\u001b[36m37\u001b[0m - \u001b[1miteration: 42, time: 0.028567, dt: 0.000532, next write at time: 0.033333\u001b[0m\n",
      "\u001b[32m2025-08-07 07:57:17.145\u001b[0m | \u001b[1mINFO    \u001b[0m | \u001b[36mlibrary.fvm.solver\u001b[0m:\u001b[36mlog_callback_hyperbolic\u001b[0m:\u001b[36m37\u001b[0m - \u001b[1miteration: 43, time: 0.029099, dt: 0.000532, next write at time: 0.033333\u001b[0m\n",
      "\u001b[32m2025-08-07 07:57:17.268\u001b[0m | \u001b[1mINFO    \u001b[0m | \u001b[36mlibrary.fvm.solver\u001b[0m:\u001b[36mlog_callback_hyperbolic\u001b[0m:\u001b[36m37\u001b[0m - \u001b[1miteration: 44, time: 0.029630, dt: 0.000532, next write at time: 0.033333\u001b[0m\n",
      "\u001b[32m2025-08-07 07:57:17.362\u001b[0m | \u001b[1mINFO    \u001b[0m | \u001b[36mlibrary.fvm.solver\u001b[0m:\u001b[36mlog_callback_hyperbolic\u001b[0m:\u001b[36m37\u001b[0m - \u001b[1miteration: 45, time: 0.030162, dt: 0.000532, next write at time: 0.033333\u001b[0m\n",
      "\u001b[32m2025-08-07 07:57:17.448\u001b[0m | \u001b[1mINFO    \u001b[0m | \u001b[36mlibrary.fvm.solver\u001b[0m:\u001b[36mlog_callback_hyperbolic\u001b[0m:\u001b[36m37\u001b[0m - \u001b[1miteration: 46, time: 0.030693, dt: 0.000532, next write at time: 0.033333\u001b[0m\n",
      "\u001b[32m2025-08-07 07:57:17.521\u001b[0m | \u001b[1mINFO    \u001b[0m | \u001b[36mlibrary.fvm.solver\u001b[0m:\u001b[36mlog_callback_hyperbolic\u001b[0m:\u001b[36m37\u001b[0m - \u001b[1miteration: 47, time: 0.031225, dt: 0.000532, next write at time: 0.033333\u001b[0m\n",
      "\u001b[32m2025-08-07 07:57:17.615\u001b[0m | \u001b[1mINFO    \u001b[0m | \u001b[36mlibrary.fvm.solver\u001b[0m:\u001b[36mlog_callback_hyperbolic\u001b[0m:\u001b[36m37\u001b[0m - \u001b[1miteration: 48, time: 0.031757, dt: 0.000532, next write at time: 0.033333\u001b[0m\n",
      "\u001b[32m2025-08-07 07:57:17.679\u001b[0m | \u001b[1mINFO    \u001b[0m | \u001b[36mlibrary.fvm.solver\u001b[0m:\u001b[36mlog_callback_hyperbolic\u001b[0m:\u001b[36m37\u001b[0m - \u001b[1miteration: 49, time: 0.032288, dt: 0.000532, next write at time: 0.033333\u001b[0m\n",
      "\u001b[32m2025-08-07 07:57:17.753\u001b[0m | \u001b[1mINFO    \u001b[0m | \u001b[36mlibrary.fvm.solver\u001b[0m:\u001b[36mlog_callback_hyperbolic\u001b[0m:\u001b[36m37\u001b[0m - \u001b[1miteration: 50, time: 0.032820, dt: 0.000532, next write at time: 0.033333\u001b[0m\n",
      "\u001b[32m2025-08-07 07:57:17.829\u001b[0m | \u001b[1mINFO    \u001b[0m | \u001b[36mlibrary.fvm.solver\u001b[0m:\u001b[36mlog_callback_hyperbolic\u001b[0m:\u001b[36m37\u001b[0m - \u001b[1miteration: 51, time: 0.033351, dt: 0.000532, next write at time: 0.033333\u001b[0m\n",
      "\u001b[32m2025-08-07 07:57:17.898\u001b[0m | \u001b[1mINFO    \u001b[0m | \u001b[36mlibrary.fvm.solver\u001b[0m:\u001b[36mlog_callback_hyperbolic\u001b[0m:\u001b[36m37\u001b[0m - \u001b[1miteration: 52, time: 0.033883, dt: 0.000532, next write at time: 0.044444\u001b[0m\n",
      "\u001b[32m2025-08-07 07:57:17.989\u001b[0m | \u001b[1mINFO    \u001b[0m | \u001b[36mlibrary.fvm.solver\u001b[0m:\u001b[36mlog_callback_hyperbolic\u001b[0m:\u001b[36m37\u001b[0m - \u001b[1miteration: 53, time: 0.034415, dt: 0.000532, next write at time: 0.044444\u001b[0m\n",
      "\u001b[32m2025-08-07 07:57:18.049\u001b[0m | \u001b[1mINFO    \u001b[0m | \u001b[36mlibrary.fvm.solver\u001b[0m:\u001b[36mlog_callback_hyperbolic\u001b[0m:\u001b[36m37\u001b[0m - \u001b[1miteration: 54, time: 0.034946, dt: 0.000532, next write at time: 0.044444\u001b[0m\n",
      "\u001b[32m2025-08-07 07:57:18.214\u001b[0m | \u001b[1mINFO    \u001b[0m | \u001b[36mlibrary.fvm.solver\u001b[0m:\u001b[36mlog_callback_hyperbolic\u001b[0m:\u001b[36m37\u001b[0m - \u001b[1miteration: 55, time: 0.035478, dt: 0.000532, next write at time: 0.044444\u001b[0m\n",
      "\u001b[32m2025-08-07 07:57:18.283\u001b[0m | \u001b[1mINFO    \u001b[0m | \u001b[36mlibrary.fvm.solver\u001b[0m:\u001b[36mlog_callback_hyperbolic\u001b[0m:\u001b[36m37\u001b[0m - \u001b[1miteration: 56, time: 0.036009, dt: 0.000532, next write at time: 0.044444\u001b[0m\n",
      "\u001b[32m2025-08-07 07:57:18.359\u001b[0m | \u001b[1mINFO    \u001b[0m | \u001b[36mlibrary.fvm.solver\u001b[0m:\u001b[36mlog_callback_hyperbolic\u001b[0m:\u001b[36m37\u001b[0m - \u001b[1miteration: 57, time: 0.036541, dt: 0.000532, next write at time: 0.044444\u001b[0m\n",
      "\u001b[32m2025-08-07 07:57:18.428\u001b[0m | \u001b[1mINFO    \u001b[0m | \u001b[36mlibrary.fvm.solver\u001b[0m:\u001b[36mlog_callback_hyperbolic\u001b[0m:\u001b[36m37\u001b[0m - \u001b[1miteration: 58, time: 0.037073, dt: 0.000532, next write at time: 0.044444\u001b[0m\n",
      "\u001b[32m2025-08-07 07:57:18.500\u001b[0m | \u001b[1mINFO    \u001b[0m | \u001b[36mlibrary.fvm.solver\u001b[0m:\u001b[36mlog_callback_hyperbolic\u001b[0m:\u001b[36m37\u001b[0m - \u001b[1miteration: 59, time: 0.037604, dt: 0.000532, next write at time: 0.044444\u001b[0m\n",
      "\u001b[32m2025-08-07 07:57:18.579\u001b[0m | \u001b[1mINFO    \u001b[0m | \u001b[36mlibrary.fvm.solver\u001b[0m:\u001b[36mlog_callback_hyperbolic\u001b[0m:\u001b[36m37\u001b[0m - \u001b[1miteration: 60, time: 0.038136, dt: 0.000532, next write at time: 0.044444\u001b[0m\n",
      "\u001b[32m2025-08-07 07:57:18.675\u001b[0m | \u001b[1mINFO    \u001b[0m | \u001b[36mlibrary.fvm.solver\u001b[0m:\u001b[36mlog_callback_hyperbolic\u001b[0m:\u001b[36m37\u001b[0m - \u001b[1miteration: 61, time: 0.038667, dt: 0.000532, next write at time: 0.044444\u001b[0m\n",
      "\u001b[32m2025-08-07 07:57:18.759\u001b[0m | \u001b[1mINFO    \u001b[0m | \u001b[36mlibrary.fvm.solver\u001b[0m:\u001b[36mlog_callback_hyperbolic\u001b[0m:\u001b[36m37\u001b[0m - \u001b[1miteration: 62, time: 0.039199, dt: 0.000532, next write at time: 0.044444\u001b[0m\n",
      "\u001b[32m2025-08-07 07:57:18.822\u001b[0m | \u001b[1mINFO    \u001b[0m | \u001b[36mlibrary.fvm.solver\u001b[0m:\u001b[36mlog_callback_hyperbolic\u001b[0m:\u001b[36m37\u001b[0m - \u001b[1miteration: 63, time: 0.039731, dt: 0.000532, next write at time: 0.044444\u001b[0m\n",
      "\u001b[32m2025-08-07 07:57:18.894\u001b[0m | \u001b[1mINFO    \u001b[0m | \u001b[36mlibrary.fvm.solver\u001b[0m:\u001b[36mlog_callback_hyperbolic\u001b[0m:\u001b[36m37\u001b[0m - \u001b[1miteration: 64, time: 0.040262, dt: 0.000532, next write at time: 0.044444\u001b[0m\n",
      "\u001b[32m2025-08-07 07:57:18.970\u001b[0m | \u001b[1mINFO    \u001b[0m | \u001b[36mlibrary.fvm.solver\u001b[0m:\u001b[36mlog_callback_hyperbolic\u001b[0m:\u001b[36m37\u001b[0m - \u001b[1miteration: 65, time: 0.040794, dt: 0.000532, next write at time: 0.044444\u001b[0m\n",
      "\u001b[32m2025-08-07 07:57:19.092\u001b[0m | \u001b[1mINFO    \u001b[0m | \u001b[36mlibrary.fvm.solver\u001b[0m:\u001b[36mlog_callback_hyperbolic\u001b[0m:\u001b[36m37\u001b[0m - \u001b[1miteration: 66, time: 0.041325, dt: 0.000532, next write at time: 0.044444\u001b[0m\n",
      "\u001b[32m2025-08-07 07:57:19.185\u001b[0m | \u001b[1mINFO    \u001b[0m | \u001b[36mlibrary.fvm.solver\u001b[0m:\u001b[36mlog_callback_hyperbolic\u001b[0m:\u001b[36m37\u001b[0m - \u001b[1miteration: 67, time: 0.041857, dt: 0.000532, next write at time: 0.044444\u001b[0m\n",
      "\u001b[32m2025-08-07 07:57:19.290\u001b[0m | \u001b[1mINFO    \u001b[0m | \u001b[36mlibrary.fvm.solver\u001b[0m:\u001b[36mlog_callback_hyperbolic\u001b[0m:\u001b[36m37\u001b[0m - \u001b[1miteration: 68, time: 0.042389, dt: 0.000532, next write at time: 0.044444\u001b[0m\n",
      "\u001b[32m2025-08-07 07:57:19.372\u001b[0m | \u001b[1mINFO    \u001b[0m | \u001b[36mlibrary.fvm.solver\u001b[0m:\u001b[36mlog_callback_hyperbolic\u001b[0m:\u001b[36m37\u001b[0m - \u001b[1miteration: 69, time: 0.042920, dt: 0.000532, next write at time: 0.044444\u001b[0m\n",
      "\u001b[32m2025-08-07 07:57:19.450\u001b[0m | \u001b[1mINFO    \u001b[0m | \u001b[36mlibrary.fvm.solver\u001b[0m:\u001b[36mlog_callback_hyperbolic\u001b[0m:\u001b[36m37\u001b[0m - \u001b[1miteration: 70, time: 0.043451, dt: 0.000531, next write at time: 0.044444\u001b[0m\n",
      "\u001b[32m2025-08-07 07:57:19.521\u001b[0m | \u001b[1mINFO    \u001b[0m | \u001b[36mlibrary.fvm.solver\u001b[0m:\u001b[36mlog_callback_hyperbolic\u001b[0m:\u001b[36m37\u001b[0m - \u001b[1miteration: 71, time: 0.043980, dt: 0.000529, next write at time: 0.044444\u001b[0m\n",
      "\u001b[32m2025-08-07 07:57:19.617\u001b[0m | \u001b[1mINFO    \u001b[0m | \u001b[36mlibrary.fvm.solver\u001b[0m:\u001b[36mlog_callback_hyperbolic\u001b[0m:\u001b[36m37\u001b[0m - \u001b[1miteration: 72, time: 0.044509, dt: 0.000528, next write at time: 0.044444\u001b[0m\n",
      "\u001b[32m2025-08-07 07:57:19.694\u001b[0m | \u001b[1mINFO    \u001b[0m | \u001b[36mlibrary.fvm.solver\u001b[0m:\u001b[36mlog_callback_hyperbolic\u001b[0m:\u001b[36m37\u001b[0m - \u001b[1miteration: 73, time: 0.045035, dt: 0.000526, next write at time: 0.055556\u001b[0m\n",
      "\u001b[32m2025-08-07 07:57:19.770\u001b[0m | \u001b[1mINFO    \u001b[0m | \u001b[36mlibrary.fvm.solver\u001b[0m:\u001b[36mlog_callback_hyperbolic\u001b[0m:\u001b[36m37\u001b[0m - \u001b[1miteration: 74, time: 0.045560, dt: 0.000525, next write at time: 0.055556\u001b[0m\n",
      "\u001b[32m2025-08-07 07:57:19.928\u001b[0m | \u001b[1mINFO    \u001b[0m | \u001b[36mlibrary.fvm.solver\u001b[0m:\u001b[36mlog_callback_hyperbolic\u001b[0m:\u001b[36m37\u001b[0m - \u001b[1miteration: 75, time: 0.046083, dt: 0.000523, next write at time: 0.055556\u001b[0m\n",
      "\u001b[32m2025-08-07 07:57:20.032\u001b[0m | \u001b[1mINFO    \u001b[0m | \u001b[36mlibrary.fvm.solver\u001b[0m:\u001b[36mlog_callback_hyperbolic\u001b[0m:\u001b[36m37\u001b[0m - \u001b[1miteration: 76, time: 0.046606, dt: 0.000523, next write at time: 0.055556\u001b[0m\n",
      "\u001b[32m2025-08-07 07:57:20.128\u001b[0m | \u001b[1mINFO    \u001b[0m | \u001b[36mlibrary.fvm.solver\u001b[0m:\u001b[36mlog_callback_hyperbolic\u001b[0m:\u001b[36m37\u001b[0m - \u001b[1miteration: 77, time: 0.047127, dt: 0.000521, next write at time: 0.055556\u001b[0m\n",
      "\u001b[32m2025-08-07 07:57:20.223\u001b[0m | \u001b[1mINFO    \u001b[0m | \u001b[36mlibrary.fvm.solver\u001b[0m:\u001b[36mlog_callback_hyperbolic\u001b[0m:\u001b[36m37\u001b[0m - \u001b[1miteration: 78, time: 0.047647, dt: 0.000521, next write at time: 0.055556\u001b[0m\n",
      "\u001b[32m2025-08-07 07:57:20.299\u001b[0m | \u001b[1mINFO    \u001b[0m | \u001b[36mlibrary.fvm.solver\u001b[0m:\u001b[36mlog_callback_hyperbolic\u001b[0m:\u001b[36m37\u001b[0m - \u001b[1miteration: 79, time: 0.048166, dt: 0.000519, next write at time: 0.055556\u001b[0m\n",
      "\u001b[32m2025-08-07 07:57:20.381\u001b[0m | \u001b[1mINFO    \u001b[0m | \u001b[36mlibrary.fvm.solver\u001b[0m:\u001b[36mlog_callback_hyperbolic\u001b[0m:\u001b[36m37\u001b[0m - \u001b[1miteration: 80, time: 0.048685, dt: 0.000518, next write at time: 0.055556\u001b[0m\n",
      "\u001b[32m2025-08-07 07:57:20.453\u001b[0m | \u001b[1mINFO    \u001b[0m | \u001b[36mlibrary.fvm.solver\u001b[0m:\u001b[36mlog_callback_hyperbolic\u001b[0m:\u001b[36m37\u001b[0m - \u001b[1miteration: 81, time: 0.049201, dt: 0.000517, next write at time: 0.055556\u001b[0m\n",
      "\u001b[32m2025-08-07 07:57:20.520\u001b[0m | \u001b[1mINFO    \u001b[0m | \u001b[36mlibrary.fvm.solver\u001b[0m:\u001b[36mlog_callback_hyperbolic\u001b[0m:\u001b[36m37\u001b[0m - \u001b[1miteration: 82, time: 0.049718, dt: 0.000517, next write at time: 0.055556\u001b[0m\n",
      "\u001b[32m2025-08-07 07:57:20.584\u001b[0m | \u001b[1mINFO    \u001b[0m | \u001b[36mlibrary.fvm.solver\u001b[0m:\u001b[36mlog_callback_hyperbolic\u001b[0m:\u001b[36m37\u001b[0m - \u001b[1miteration: 83, time: 0.050234, dt: 0.000516, next write at time: 0.055556\u001b[0m\n",
      "\u001b[32m2025-08-07 07:57:20.664\u001b[0m | \u001b[1mINFO    \u001b[0m | \u001b[36mlibrary.fvm.solver\u001b[0m:\u001b[36mlog_callback_hyperbolic\u001b[0m:\u001b[36m37\u001b[0m - \u001b[1miteration: 84, time: 0.050750, dt: 0.000516, next write at time: 0.055556\u001b[0m\n",
      "\u001b[32m2025-08-07 07:57:20.768\u001b[0m | \u001b[1mINFO    \u001b[0m | \u001b[36mlibrary.fvm.solver\u001b[0m:\u001b[36mlog_callback_hyperbolic\u001b[0m:\u001b[36m37\u001b[0m - \u001b[1miteration: 85, time: 0.051265, dt: 0.000515, next write at time: 0.055556\u001b[0m\n",
      "\u001b[32m2025-08-07 07:57:20.871\u001b[0m | \u001b[1mINFO    \u001b[0m | \u001b[36mlibrary.fvm.solver\u001b[0m:\u001b[36mlog_callback_hyperbolic\u001b[0m:\u001b[36m37\u001b[0m - \u001b[1miteration: 86, time: 0.051780, dt: 0.000514, next write at time: 0.055556\u001b[0m\n",
      "\u001b[32m2025-08-07 07:57:20.955\u001b[0m | \u001b[1mINFO    \u001b[0m | \u001b[36mlibrary.fvm.solver\u001b[0m:\u001b[36mlog_callback_hyperbolic\u001b[0m:\u001b[36m37\u001b[0m - \u001b[1miteration: 87, time: 0.052293, dt: 0.000513, next write at time: 0.055556\u001b[0m\n",
      "\u001b[32m2025-08-07 07:57:21.030\u001b[0m | \u001b[1mINFO    \u001b[0m | \u001b[36mlibrary.fvm.solver\u001b[0m:\u001b[36mlog_callback_hyperbolic\u001b[0m:\u001b[36m37\u001b[0m - \u001b[1miteration: 88, time: 0.052807, dt: 0.000514, next write at time: 0.055556\u001b[0m\n",
      "\u001b[32m2025-08-07 07:57:21.100\u001b[0m | \u001b[1mINFO    \u001b[0m | \u001b[36mlibrary.fvm.solver\u001b[0m:\u001b[36mlog_callback_hyperbolic\u001b[0m:\u001b[36m37\u001b[0m - \u001b[1miteration: 89, time: 0.053321, dt: 0.000514, next write at time: 0.055556\u001b[0m\n",
      "\u001b[32m2025-08-07 07:57:21.169\u001b[0m | \u001b[1mINFO    \u001b[0m | \u001b[36mlibrary.fvm.solver\u001b[0m:\u001b[36mlog_callback_hyperbolic\u001b[0m:\u001b[36m37\u001b[0m - \u001b[1miteration: 90, time: 0.053834, dt: 0.000514, next write at time: 0.055556\u001b[0m\n",
      "\u001b[32m2025-08-07 07:57:21.243\u001b[0m | \u001b[1mINFO    \u001b[0m | \u001b[36mlibrary.fvm.solver\u001b[0m:\u001b[36mlog_callback_hyperbolic\u001b[0m:\u001b[36m37\u001b[0m - \u001b[1miteration: 91, time: 0.054347, dt: 0.000513, next write at time: 0.055556\u001b[0m\n",
      "\u001b[32m2025-08-07 07:57:21.330\u001b[0m | \u001b[1mINFO    \u001b[0m | \u001b[36mlibrary.fvm.solver\u001b[0m:\u001b[36mlog_callback_hyperbolic\u001b[0m:\u001b[36m37\u001b[0m - \u001b[1miteration: 92, time: 0.054860, dt: 0.000513, next write at time: 0.055556\u001b[0m\n",
      "\u001b[32m2025-08-07 07:57:21.409\u001b[0m | \u001b[1mINFO    \u001b[0m | \u001b[36mlibrary.fvm.solver\u001b[0m:\u001b[36mlog_callback_hyperbolic\u001b[0m:\u001b[36m37\u001b[0m - \u001b[1miteration: 93, time: 0.055372, dt: 0.000512, next write at time: 0.055556\u001b[0m\n",
      "\u001b[32m2025-08-07 07:57:21.511\u001b[0m | \u001b[1mINFO    \u001b[0m | \u001b[36mlibrary.fvm.solver\u001b[0m:\u001b[36mlog_callback_hyperbolic\u001b[0m:\u001b[36m37\u001b[0m - \u001b[1miteration: 94, time: 0.055885, dt: 0.000513, next write at time: 0.055556\u001b[0m\n",
      "\u001b[32m2025-08-07 07:57:21.714\u001b[0m | \u001b[1mINFO    \u001b[0m | \u001b[36mlibrary.fvm.solver\u001b[0m:\u001b[36mlog_callback_hyperbolic\u001b[0m:\u001b[36m37\u001b[0m - \u001b[1miteration: 95, time: 0.056398, dt: 0.000513, next write at time: 0.066667\u001b[0m\n",
      "\u001b[32m2025-08-07 07:57:21.863\u001b[0m | \u001b[1mINFO    \u001b[0m | \u001b[36mlibrary.fvm.solver\u001b[0m:\u001b[36mlog_callback_hyperbolic\u001b[0m:\u001b[36m37\u001b[0m - \u001b[1miteration: 96, time: 0.056910, dt: 0.000512, next write at time: 0.066667\u001b[0m\n",
      "\u001b[32m2025-08-07 07:57:21.997\u001b[0m | \u001b[1mINFO    \u001b[0m | \u001b[36mlibrary.fvm.solver\u001b[0m:\u001b[36mlog_callback_hyperbolic\u001b[0m:\u001b[36m37\u001b[0m - \u001b[1miteration: 97, time: 0.057422, dt: 0.000512, next write at time: 0.066667\u001b[0m\n",
      "\u001b[32m2025-08-07 07:57:22.100\u001b[0m | \u001b[1mINFO    \u001b[0m | \u001b[36mlibrary.fvm.solver\u001b[0m:\u001b[36mlog_callback_hyperbolic\u001b[0m:\u001b[36m37\u001b[0m - \u001b[1miteration: 98, time: 0.057934, dt: 0.000512, next write at time: 0.066667\u001b[0m\n",
      "\u001b[32m2025-08-07 07:57:22.179\u001b[0m | \u001b[1mINFO    \u001b[0m | \u001b[36mlibrary.fvm.solver\u001b[0m:\u001b[36mlog_callback_hyperbolic\u001b[0m:\u001b[36m37\u001b[0m - \u001b[1miteration: 99, time: 0.058445, dt: 0.000511, next write at time: 0.066667\u001b[0m\n",
      "\u001b[32m2025-08-07 07:57:22.277\u001b[0m | \u001b[1mINFO    \u001b[0m | \u001b[36mlibrary.fvm.solver\u001b[0m:\u001b[36mlog_callback_hyperbolic\u001b[0m:\u001b[36m37\u001b[0m - \u001b[1miteration: 100, time: 0.058959, dt: 0.000513, next write at time: 0.066667\u001b[0m\n",
      "\u001b[32m2025-08-07 07:57:22.374\u001b[0m | \u001b[1mINFO    \u001b[0m | \u001b[36mlibrary.fvm.solver\u001b[0m:\u001b[36mlog_callback_hyperbolic\u001b[0m:\u001b[36m37\u001b[0m - \u001b[1miteration: 101, time: 0.059472, dt: 0.000513, next write at time: 0.066667\u001b[0m\n",
      "\u001b[32m2025-08-07 07:57:22.463\u001b[0m | \u001b[1mINFO    \u001b[0m | \u001b[36mlibrary.fvm.solver\u001b[0m:\u001b[36mlog_callback_hyperbolic\u001b[0m:\u001b[36m37\u001b[0m - \u001b[1miteration: 102, time: 0.059983, dt: 0.000512, next write at time: 0.066667\u001b[0m\n",
      "\u001b[32m2025-08-07 07:57:22.538\u001b[0m | \u001b[1mINFO    \u001b[0m | \u001b[36mlibrary.fvm.solver\u001b[0m:\u001b[36mlog_callback_hyperbolic\u001b[0m:\u001b[36m37\u001b[0m - \u001b[1miteration: 103, time: 0.060495, dt: 0.000511, next write at time: 0.066667\u001b[0m\n",
      "\u001b[32m2025-08-07 07:57:22.637\u001b[0m | \u001b[1mINFO    \u001b[0m | \u001b[36mlibrary.fvm.solver\u001b[0m:\u001b[36mlog_callback_hyperbolic\u001b[0m:\u001b[36m37\u001b[0m - \u001b[1miteration: 104, time: 0.061007, dt: 0.000512, next write at time: 0.066667\u001b[0m\n",
      "\u001b[32m2025-08-07 07:57:22.733\u001b[0m | \u001b[1mINFO    \u001b[0m | \u001b[36mlibrary.fvm.solver\u001b[0m:\u001b[36mlog_callback_hyperbolic\u001b[0m:\u001b[36m37\u001b[0m - \u001b[1miteration: 105, time: 0.061519, dt: 0.000512, next write at time: 0.066667\u001b[0m\n",
      "\u001b[32m2025-08-07 07:57:22.811\u001b[0m | \u001b[1mINFO    \u001b[0m | \u001b[36mlibrary.fvm.solver\u001b[0m:\u001b[36mlog_callback_hyperbolic\u001b[0m:\u001b[36m37\u001b[0m - \u001b[1miteration: 106, time: 0.062032, dt: 0.000513, next write at time: 0.066667\u001b[0m\n",
      "\u001b[32m2025-08-07 07:57:22.900\u001b[0m | \u001b[1mINFO    \u001b[0m | \u001b[36mlibrary.fvm.solver\u001b[0m:\u001b[36mlog_callback_hyperbolic\u001b[0m:\u001b[36m37\u001b[0m - \u001b[1miteration: 107, time: 0.062544, dt: 0.000512, next write at time: 0.066667\u001b[0m\n",
      "\u001b[32m2025-08-07 07:57:22.967\u001b[0m | \u001b[1mINFO    \u001b[0m | \u001b[36mlibrary.fvm.solver\u001b[0m:\u001b[36mlog_callback_hyperbolic\u001b[0m:\u001b[36m37\u001b[0m - \u001b[1miteration: 108, time: 0.063056, dt: 0.000512, next write at time: 0.066667\u001b[0m\n",
      "\u001b[32m2025-08-07 07:57:23.052\u001b[0m | \u001b[1mINFO    \u001b[0m | \u001b[36mlibrary.fvm.solver\u001b[0m:\u001b[36mlog_callback_hyperbolic\u001b[0m:\u001b[36m37\u001b[0m - \u001b[1miteration: 109, time: 0.063567, dt: 0.000511, next write at time: 0.066667\u001b[0m\n",
      "\u001b[32m2025-08-07 07:57:23.133\u001b[0m | \u001b[1mINFO    \u001b[0m | \u001b[36mlibrary.fvm.solver\u001b[0m:\u001b[36mlog_callback_hyperbolic\u001b[0m:\u001b[36m37\u001b[0m - \u001b[1miteration: 110, time: 0.064080, dt: 0.000513, next write at time: 0.066667\u001b[0m\n",
      "\u001b[32m2025-08-07 07:57:23.229\u001b[0m | \u001b[1mINFO    \u001b[0m | \u001b[36mlibrary.fvm.solver\u001b[0m:\u001b[36mlog_callback_hyperbolic\u001b[0m:\u001b[36m37\u001b[0m - \u001b[1miteration: 111, time: 0.064593, dt: 0.000513, next write at time: 0.066667\u001b[0m\n",
      "\u001b[32m2025-08-07 07:57:23.337\u001b[0m | \u001b[1mINFO    \u001b[0m | \u001b[36mlibrary.fvm.solver\u001b[0m:\u001b[36mlog_callback_hyperbolic\u001b[0m:\u001b[36m37\u001b[0m - \u001b[1miteration: 112, time: 0.065106, dt: 0.000512, next write at time: 0.066667\u001b[0m\n",
      "\u001b[32m2025-08-07 07:57:23.422\u001b[0m | \u001b[1mINFO    \u001b[0m | \u001b[36mlibrary.fvm.solver\u001b[0m:\u001b[36mlog_callback_hyperbolic\u001b[0m:\u001b[36m37\u001b[0m - \u001b[1miteration: 113, time: 0.065617, dt: 0.000512, next write at time: 0.066667\u001b[0m\n",
      "\u001b[32m2025-08-07 07:57:23.512\u001b[0m | \u001b[1mINFO    \u001b[0m | \u001b[36mlibrary.fvm.solver\u001b[0m:\u001b[36mlog_callback_hyperbolic\u001b[0m:\u001b[36m37\u001b[0m - \u001b[1miteration: 114, time: 0.066129, dt: 0.000512, next write at time: 0.066667\u001b[0m\n",
      "\u001b[32m2025-08-07 07:57:23.693\u001b[0m | \u001b[1mINFO    \u001b[0m | \u001b[36mlibrary.fvm.solver\u001b[0m:\u001b[36mlog_callback_hyperbolic\u001b[0m:\u001b[36m37\u001b[0m - \u001b[1miteration: 115, time: 0.066641, dt: 0.000512, next write at time: 0.066667\u001b[0m\n",
      "\u001b[32m2025-08-07 07:57:23.785\u001b[0m | \u001b[1mINFO    \u001b[0m | \u001b[36mlibrary.fvm.solver\u001b[0m:\u001b[36mlog_callback_hyperbolic\u001b[0m:\u001b[36m37\u001b[0m - \u001b[1miteration: 116, time: 0.067154, dt: 0.000513, next write at time: 0.066667\u001b[0m\n",
      "\u001b[32m2025-08-07 07:57:23.875\u001b[0m | \u001b[1mINFO    \u001b[0m | \u001b[36mlibrary.fvm.solver\u001b[0m:\u001b[36mlog_callback_hyperbolic\u001b[0m:\u001b[36m37\u001b[0m - \u001b[1miteration: 117, time: 0.067666, dt: 0.000512, next write at time: 0.077778\u001b[0m\n",
      "\u001b[32m2025-08-07 07:57:23.948\u001b[0m | \u001b[1mINFO    \u001b[0m | \u001b[36mlibrary.fvm.solver\u001b[0m:\u001b[36mlog_callback_hyperbolic\u001b[0m:\u001b[36m37\u001b[0m - \u001b[1miteration: 118, time: 0.068178, dt: 0.000512, next write at time: 0.077778\u001b[0m\n",
      "\u001b[32m2025-08-07 07:57:24.021\u001b[0m | \u001b[1mINFO    \u001b[0m | \u001b[36mlibrary.fvm.solver\u001b[0m:\u001b[36mlog_callback_hyperbolic\u001b[0m:\u001b[36m37\u001b[0m - \u001b[1miteration: 119, time: 0.068689, dt: 0.000511, next write at time: 0.077778\u001b[0m\n",
      "\u001b[32m2025-08-07 07:57:24.111\u001b[0m | \u001b[1mINFO    \u001b[0m | \u001b[36mlibrary.fvm.solver\u001b[0m:\u001b[36mlog_callback_hyperbolic\u001b[0m:\u001b[36m37\u001b[0m - \u001b[1miteration: 120, time: 0.069203, dt: 0.000513, next write at time: 0.077778\u001b[0m\n",
      "\u001b[32m2025-08-07 07:57:24.214\u001b[0m | \u001b[1mINFO    \u001b[0m | \u001b[36mlibrary.fvm.solver\u001b[0m:\u001b[36mlog_callback_hyperbolic\u001b[0m:\u001b[36m37\u001b[0m - \u001b[1miteration: 121, time: 0.069715, dt: 0.000513, next write at time: 0.077778\u001b[0m\n",
      "\u001b[32m2025-08-07 07:57:24.316\u001b[0m | \u001b[1mINFO    \u001b[0m | \u001b[36mlibrary.fvm.solver\u001b[0m:\u001b[36mlog_callback_hyperbolic\u001b[0m:\u001b[36m37\u001b[0m - \u001b[1miteration: 122, time: 0.070227, dt: 0.000512, next write at time: 0.077778\u001b[0m\n",
      "\u001b[32m2025-08-07 07:57:24.387\u001b[0m | \u001b[1mINFO    \u001b[0m | \u001b[36mlibrary.fvm.solver\u001b[0m:\u001b[36mlog_callback_hyperbolic\u001b[0m:\u001b[36m37\u001b[0m - \u001b[1miteration: 123, time: 0.070738, dt: 0.000511, next write at time: 0.077778\u001b[0m\n",
      "\u001b[32m2025-08-07 07:57:24.478\u001b[0m | \u001b[1mINFO    \u001b[0m | \u001b[36mlibrary.fvm.solver\u001b[0m:\u001b[36mlog_callback_hyperbolic\u001b[0m:\u001b[36m37\u001b[0m - \u001b[1miteration: 124, time: 0.071250, dt: 0.000512, next write at time: 0.077778\u001b[0m\n",
      "\u001b[32m2025-08-07 07:57:24.547\u001b[0m | \u001b[1mINFO    \u001b[0m | \u001b[36mlibrary.fvm.solver\u001b[0m:\u001b[36mlog_callback_hyperbolic\u001b[0m:\u001b[36m37\u001b[0m - \u001b[1miteration: 125, time: 0.071762, dt: 0.000511, next write at time: 0.077778\u001b[0m\n",
      "\u001b[32m2025-08-07 07:57:24.650\u001b[0m | \u001b[1mINFO    \u001b[0m | \u001b[36mlibrary.fvm.solver\u001b[0m:\u001b[36mlog_callback_hyperbolic\u001b[0m:\u001b[36m37\u001b[0m - \u001b[1miteration: 126, time: 0.072274, dt: 0.000512, next write at time: 0.077778\u001b[0m\n",
      "\u001b[32m2025-08-07 07:57:24.748\u001b[0m | \u001b[1mINFO    \u001b[0m | \u001b[36mlibrary.fvm.solver\u001b[0m:\u001b[36mlog_callback_hyperbolic\u001b[0m:\u001b[36m37\u001b[0m - \u001b[1miteration: 127, time: 0.072786, dt: 0.000512, next write at time: 0.077778\u001b[0m\n",
      "\u001b[32m2025-08-07 07:57:24.879\u001b[0m | \u001b[1mINFO    \u001b[0m | \u001b[36mlibrary.fvm.solver\u001b[0m:\u001b[36mlog_callback_hyperbolic\u001b[0m:\u001b[36m37\u001b[0m - \u001b[1miteration: 128, time: 0.073297, dt: 0.000512, next write at time: 0.077778\u001b[0m\n",
      "\u001b[32m2025-08-07 07:57:24.948\u001b[0m | \u001b[1mINFO    \u001b[0m | \u001b[36mlibrary.fvm.solver\u001b[0m:\u001b[36mlog_callback_hyperbolic\u001b[0m:\u001b[36m37\u001b[0m - \u001b[1miteration: 129, time: 0.073808, dt: 0.000511, next write at time: 0.077778\u001b[0m\n",
      "\u001b[32m2025-08-07 07:57:25.062\u001b[0m | \u001b[1mINFO    \u001b[0m | \u001b[36mlibrary.fvm.solver\u001b[0m:\u001b[36mlog_callback_hyperbolic\u001b[0m:\u001b[36m37\u001b[0m - \u001b[1miteration: 130, time: 0.074321, dt: 0.000513, next write at time: 0.077778\u001b[0m\n",
      "\u001b[32m2025-08-07 07:57:25.130\u001b[0m | \u001b[1mINFO    \u001b[0m | \u001b[36mlibrary.fvm.solver\u001b[0m:\u001b[36mlog_callback_hyperbolic\u001b[0m:\u001b[36m37\u001b[0m - \u001b[1miteration: 131, time: 0.074834, dt: 0.000512, next write at time: 0.077778\u001b[0m\n",
      "\u001b[32m2025-08-07 07:57:25.211\u001b[0m | \u001b[1mINFO    \u001b[0m | \u001b[36mlibrary.fvm.solver\u001b[0m:\u001b[36mlog_callback_hyperbolic\u001b[0m:\u001b[36m37\u001b[0m - \u001b[1miteration: 132, time: 0.075345, dt: 0.000511, next write at time: 0.077778\u001b[0m\n",
      "\u001b[32m2025-08-07 07:57:25.292\u001b[0m | \u001b[1mINFO    \u001b[0m | \u001b[36mlibrary.fvm.solver\u001b[0m:\u001b[36mlog_callback_hyperbolic\u001b[0m:\u001b[36m37\u001b[0m - \u001b[1miteration: 133, time: 0.075856, dt: 0.000511, next write at time: 0.077778\u001b[0m\n",
      "\u001b[32m2025-08-07 07:57:25.404\u001b[0m | \u001b[1mINFO    \u001b[0m | \u001b[36mlibrary.fvm.solver\u001b[0m:\u001b[36mlog_callback_hyperbolic\u001b[0m:\u001b[36m37\u001b[0m - \u001b[1miteration: 134, time: 0.076368, dt: 0.000512, next write at time: 0.077778\u001b[0m\n",
      "\u001b[32m2025-08-07 07:57:25.522\u001b[0m | \u001b[1mINFO    \u001b[0m | \u001b[36mlibrary.fvm.solver\u001b[0m:\u001b[36mlog_callback_hyperbolic\u001b[0m:\u001b[36m37\u001b[0m - \u001b[1miteration: 135, time: 0.076879, dt: 0.000511, next write at time: 0.077778\u001b[0m\n",
      "\u001b[32m2025-08-07 07:57:25.609\u001b[0m | \u001b[1mINFO    \u001b[0m | \u001b[36mlibrary.fvm.solver\u001b[0m:\u001b[36mlog_callback_hyperbolic\u001b[0m:\u001b[36m37\u001b[0m - \u001b[1miteration: 136, time: 0.077391, dt: 0.000512, next write at time: 0.077778\u001b[0m\n",
      "\u001b[32m2025-08-07 07:57:25.699\u001b[0m | \u001b[1mINFO    \u001b[0m | \u001b[36mlibrary.fvm.solver\u001b[0m:\u001b[36mlog_callback_hyperbolic\u001b[0m:\u001b[36m37\u001b[0m - \u001b[1miteration: 137, time: 0.077902, dt: 0.000512, next write at time: 0.077778\u001b[0m\n",
      "\u001b[32m2025-08-07 07:57:25.824\u001b[0m | \u001b[1mINFO    \u001b[0m | \u001b[36mlibrary.fvm.solver\u001b[0m:\u001b[36mlog_callback_hyperbolic\u001b[0m:\u001b[36m37\u001b[0m - \u001b[1miteration: 138, time: 0.078414, dt: 0.000511, next write at time: 0.088889\u001b[0m\n",
      "\u001b[32m2025-08-07 07:57:25.948\u001b[0m | \u001b[1mINFO    \u001b[0m | \u001b[36mlibrary.fvm.solver\u001b[0m:\u001b[36mlog_callback_hyperbolic\u001b[0m:\u001b[36m37\u001b[0m - \u001b[1miteration: 139, time: 0.078925, dt: 0.000511, next write at time: 0.088889\u001b[0m\n",
      "\u001b[32m2025-08-07 07:57:26.026\u001b[0m | \u001b[1mINFO    \u001b[0m | \u001b[36mlibrary.fvm.solver\u001b[0m:\u001b[36mlog_callback_hyperbolic\u001b[0m:\u001b[36m37\u001b[0m - \u001b[1miteration: 140, time: 0.079438, dt: 0.000513, next write at time: 0.088889\u001b[0m\n",
      "\u001b[32m2025-08-07 07:57:26.110\u001b[0m | \u001b[1mINFO    \u001b[0m | \u001b[36mlibrary.fvm.solver\u001b[0m:\u001b[36mlog_callback_hyperbolic\u001b[0m:\u001b[36m37\u001b[0m - \u001b[1miteration: 141, time: 0.079950, dt: 0.000512, next write at time: 0.088889\u001b[0m\n",
      "\u001b[32m2025-08-07 07:57:26.198\u001b[0m | \u001b[1mINFO    \u001b[0m | \u001b[36mlibrary.fvm.solver\u001b[0m:\u001b[36mlog_callback_hyperbolic\u001b[0m:\u001b[36m37\u001b[0m - \u001b[1miteration: 142, time: 0.080462, dt: 0.000512, next write at time: 0.088889\u001b[0m\n",
      "\u001b[32m2025-08-07 07:57:26.281\u001b[0m | \u001b[1mINFO    \u001b[0m | \u001b[36mlibrary.fvm.solver\u001b[0m:\u001b[36mlog_callback_hyperbolic\u001b[0m:\u001b[36m37\u001b[0m - \u001b[1miteration: 143, time: 0.080973, dt: 0.000511, next write at time: 0.088889\u001b[0m\n",
      "\u001b[32m2025-08-07 07:57:26.374\u001b[0m | \u001b[1mINFO    \u001b[0m | \u001b[36mlibrary.fvm.solver\u001b[0m:\u001b[36mlog_callback_hyperbolic\u001b[0m:\u001b[36m37\u001b[0m - \u001b[1miteration: 144, time: 0.081485, dt: 0.000512, next write at time: 0.088889\u001b[0m\n",
      "\u001b[32m2025-08-07 07:57:26.450\u001b[0m | \u001b[1mINFO    \u001b[0m | \u001b[36mlibrary.fvm.solver\u001b[0m:\u001b[36mlog_callback_hyperbolic\u001b[0m:\u001b[36m37\u001b[0m - \u001b[1miteration: 145, time: 0.081997, dt: 0.000512, next write at time: 0.088889\u001b[0m\n",
      "\u001b[32m2025-08-07 07:57:26.545\u001b[0m | \u001b[1mINFO    \u001b[0m | \u001b[36mlibrary.fvm.solver\u001b[0m:\u001b[36mlog_callback_hyperbolic\u001b[0m:\u001b[36m37\u001b[0m - \u001b[1miteration: 146, time: 0.082510, dt: 0.000513, next write at time: 0.088889\u001b[0m\n",
      "\u001b[32m2025-08-07 07:57:26.652\u001b[0m | \u001b[1mINFO    \u001b[0m | \u001b[36mlibrary.fvm.solver\u001b[0m:\u001b[36mlog_callback_hyperbolic\u001b[0m:\u001b[36m37\u001b[0m - \u001b[1miteration: 147, time: 0.083023, dt: 0.000513, next write at time: 0.088889\u001b[0m\n",
      "\u001b[32m2025-08-07 07:57:26.752\u001b[0m | \u001b[1mINFO    \u001b[0m | \u001b[36mlibrary.fvm.solver\u001b[0m:\u001b[36mlog_callback_hyperbolic\u001b[0m:\u001b[36m37\u001b[0m - \u001b[1miteration: 148, time: 0.083535, dt: 0.000512, next write at time: 0.088889\u001b[0m\n",
      "\u001b[32m2025-08-07 07:57:26.828\u001b[0m | \u001b[1mINFO    \u001b[0m | \u001b[36mlibrary.fvm.solver\u001b[0m:\u001b[36mlog_callback_hyperbolic\u001b[0m:\u001b[36m37\u001b[0m - \u001b[1miteration: 149, time: 0.084047, dt: 0.000512, next write at time: 0.088889\u001b[0m\n",
      "\u001b[32m2025-08-07 07:57:26.899\u001b[0m | \u001b[1mINFO    \u001b[0m | \u001b[36mlibrary.fvm.solver\u001b[0m:\u001b[36mlog_callback_hyperbolic\u001b[0m:\u001b[36m37\u001b[0m - \u001b[1miteration: 150, time: 0.084561, dt: 0.000514, next write at time: 0.088889\u001b[0m\n",
      "\u001b[32m2025-08-07 07:57:26.978\u001b[0m | \u001b[1mINFO    \u001b[0m | \u001b[36mlibrary.fvm.solver\u001b[0m:\u001b[36mlog_callback_hyperbolic\u001b[0m:\u001b[36m37\u001b[0m - \u001b[1miteration: 151, time: 0.085074, dt: 0.000513, next write at time: 0.088889\u001b[0m\n",
      "\u001b[32m2025-08-07 07:57:27.054\u001b[0m | \u001b[1mINFO    \u001b[0m | \u001b[36mlibrary.fvm.solver\u001b[0m:\u001b[36mlog_callback_hyperbolic\u001b[0m:\u001b[36m37\u001b[0m - \u001b[1miteration: 152, time: 0.085588, dt: 0.000514, next write at time: 0.088889\u001b[0m\n",
      "\u001b[32m2025-08-07 07:57:27.142\u001b[0m | \u001b[1mINFO    \u001b[0m | \u001b[36mlibrary.fvm.solver\u001b[0m:\u001b[36mlog_callback_hyperbolic\u001b[0m:\u001b[36m37\u001b[0m - \u001b[1miteration: 153, time: 0.086102, dt: 0.000514, next write at time: 0.088889\u001b[0m\n",
      "\u001b[32m2025-08-07 07:57:27.211\u001b[0m | \u001b[1mINFO    \u001b[0m | \u001b[36mlibrary.fvm.solver\u001b[0m:\u001b[36mlog_callback_hyperbolic\u001b[0m:\u001b[36m37\u001b[0m - \u001b[1miteration: 154, time: 0.086615, dt: 0.000513, next write at time: 0.088889\u001b[0m\n",
      "\u001b[32m2025-08-07 07:57:27.298\u001b[0m | \u001b[1mINFO    \u001b[0m | \u001b[36mlibrary.fvm.solver\u001b[0m:\u001b[36mlog_callback_hyperbolic\u001b[0m:\u001b[36m37\u001b[0m - \u001b[1miteration: 155, time: 0.087128, dt: 0.000513, next write at time: 0.088889\u001b[0m\n",
      "\u001b[32m2025-08-07 07:57:27.413\u001b[0m | \u001b[1mINFO    \u001b[0m | \u001b[36mlibrary.fvm.solver\u001b[0m:\u001b[36mlog_callback_hyperbolic\u001b[0m:\u001b[36m37\u001b[0m - \u001b[1miteration: 156, time: 0.087645, dt: 0.000517, next write at time: 0.088889\u001b[0m\n",
      "\u001b[32m2025-08-07 07:57:27.560\u001b[0m | \u001b[1mINFO    \u001b[0m | \u001b[36mlibrary.fvm.solver\u001b[0m:\u001b[36mlog_callback_hyperbolic\u001b[0m:\u001b[36m37\u001b[0m - \u001b[1miteration: 157, time: 0.088161, dt: 0.000516, next write at time: 0.088889\u001b[0m\n",
      "\u001b[32m2025-08-07 07:57:27.667\u001b[0m | \u001b[1mINFO    \u001b[0m | \u001b[36mlibrary.fvm.solver\u001b[0m:\u001b[36mlog_callback_hyperbolic\u001b[0m:\u001b[36m37\u001b[0m - \u001b[1miteration: 158, time: 0.088677, dt: 0.000515, next write at time: 0.088889\u001b[0m\n",
      "\u001b[32m2025-08-07 07:57:27.788\u001b[0m | \u001b[1mINFO    \u001b[0m | \u001b[36mlibrary.fvm.solver\u001b[0m:\u001b[36mlog_callback_hyperbolic\u001b[0m:\u001b[36m37\u001b[0m - \u001b[1miteration: 159, time: 0.089192, dt: 0.000515, next write at time: 0.088889\u001b[0m\n",
      "\u001b[32m2025-08-07 07:57:27.858\u001b[0m | \u001b[1mINFO    \u001b[0m | \u001b[36mlibrary.fvm.solver\u001b[0m:\u001b[36mlog_callback_hyperbolic\u001b[0m:\u001b[36m37\u001b[0m - \u001b[1miteration: 160, time: 0.089707, dt: 0.000516, next write at time: 0.100000\u001b[0m\n",
      "\u001b[32m2025-08-07 07:57:27.944\u001b[0m | \u001b[1mINFO    \u001b[0m | \u001b[36mlibrary.fvm.solver\u001b[0m:\u001b[36mlog_callback_hyperbolic\u001b[0m:\u001b[36m37\u001b[0m - \u001b[1miteration: 161, time: 0.090223, dt: 0.000516, next write at time: 0.100000\u001b[0m\n",
      "\u001b[32m2025-08-07 07:57:28.027\u001b[0m | \u001b[1mINFO    \u001b[0m | \u001b[36mlibrary.fvm.solver\u001b[0m:\u001b[36mlog_callback_hyperbolic\u001b[0m:\u001b[36m37\u001b[0m - \u001b[1miteration: 162, time: 0.090741, dt: 0.000517, next write at time: 0.100000\u001b[0m\n",
      "\u001b[32m2025-08-07 07:57:28.106\u001b[0m | \u001b[1mINFO    \u001b[0m | \u001b[36mlibrary.fvm.solver\u001b[0m:\u001b[36mlog_callback_hyperbolic\u001b[0m:\u001b[36m37\u001b[0m - \u001b[1miteration: 163, time: 0.091257, dt: 0.000516, next write at time: 0.100000\u001b[0m\n",
      "\u001b[32m2025-08-07 07:57:28.196\u001b[0m | \u001b[1mINFO    \u001b[0m | \u001b[36mlibrary.fvm.solver\u001b[0m:\u001b[36mlog_callback_hyperbolic\u001b[0m:\u001b[36m37\u001b[0m - \u001b[1miteration: 164, time: 0.091772, dt: 0.000515, next write at time: 0.100000\u001b[0m\n",
      "\u001b[32m2025-08-07 07:57:28.287\u001b[0m | \u001b[1mINFO    \u001b[0m | \u001b[36mlibrary.fvm.solver\u001b[0m:\u001b[36mlog_callback_hyperbolic\u001b[0m:\u001b[36m37\u001b[0m - \u001b[1miteration: 165, time: 0.092287, dt: 0.000515, next write at time: 0.100000\u001b[0m\n",
      "\u001b[32m2025-08-07 07:57:28.400\u001b[0m | \u001b[1mINFO    \u001b[0m | \u001b[36mlibrary.fvm.solver\u001b[0m:\u001b[36mlog_callback_hyperbolic\u001b[0m:\u001b[36m37\u001b[0m - \u001b[1miteration: 166, time: 0.092801, dt: 0.000514, next write at time: 0.100000\u001b[0m\n",
      "\u001b[32m2025-08-07 07:57:28.489\u001b[0m | \u001b[1mINFO    \u001b[0m | \u001b[36mlibrary.fvm.solver\u001b[0m:\u001b[36mlog_callback_hyperbolic\u001b[0m:\u001b[36m37\u001b[0m - \u001b[1miteration: 167, time: 0.093315, dt: 0.000514, next write at time: 0.100000\u001b[0m\n",
      "\u001b[32m2025-08-07 07:57:28.573\u001b[0m | \u001b[1mINFO    \u001b[0m | \u001b[36mlibrary.fvm.solver\u001b[0m:\u001b[36mlog_callback_hyperbolic\u001b[0m:\u001b[36m37\u001b[0m - \u001b[1miteration: 168, time: 0.093829, dt: 0.000514, next write at time: 0.100000\u001b[0m\n",
      "\u001b[32m2025-08-07 07:57:28.640\u001b[0m | \u001b[1mINFO    \u001b[0m | \u001b[36mlibrary.fvm.solver\u001b[0m:\u001b[36mlog_callback_hyperbolic\u001b[0m:\u001b[36m37\u001b[0m - \u001b[1miteration: 169, time: 0.094343, dt: 0.000514, next write at time: 0.100000\u001b[0m\n",
      "\u001b[32m2025-08-07 07:57:28.741\u001b[0m | \u001b[1mINFO    \u001b[0m | \u001b[36mlibrary.fvm.solver\u001b[0m:\u001b[36mlog_callback_hyperbolic\u001b[0m:\u001b[36m37\u001b[0m - \u001b[1miteration: 170, time: 0.094856, dt: 0.000513, next write at time: 0.100000\u001b[0m\n",
      "\u001b[32m2025-08-07 07:57:28.824\u001b[0m | \u001b[1mINFO    \u001b[0m | \u001b[36mlibrary.fvm.solver\u001b[0m:\u001b[36mlog_callback_hyperbolic\u001b[0m:\u001b[36m37\u001b[0m - \u001b[1miteration: 171, time: 0.095368, dt: 0.000513, next write at time: 0.100000\u001b[0m\n",
      "\u001b[32m2025-08-07 07:57:28.911\u001b[0m | \u001b[1mINFO    \u001b[0m | \u001b[36mlibrary.fvm.solver\u001b[0m:\u001b[36mlog_callback_hyperbolic\u001b[0m:\u001b[36m37\u001b[0m - \u001b[1miteration: 172, time: 0.095881, dt: 0.000513, next write at time: 0.100000\u001b[0m\n",
      "\u001b[32m2025-08-07 07:57:28.997\u001b[0m | \u001b[1mINFO    \u001b[0m | \u001b[36mlibrary.fvm.solver\u001b[0m:\u001b[36mlog_callback_hyperbolic\u001b[0m:\u001b[36m37\u001b[0m - \u001b[1miteration: 173, time: 0.096393, dt: 0.000512, next write at time: 0.100000\u001b[0m\n",
      "\u001b[32m2025-08-07 07:57:29.111\u001b[0m | \u001b[1mINFO    \u001b[0m | \u001b[36mlibrary.fvm.solver\u001b[0m:\u001b[36mlog_callback_hyperbolic\u001b[0m:\u001b[36m37\u001b[0m - \u001b[1miteration: 174, time: 0.096906, dt: 0.000513, next write at time: 0.100000\u001b[0m\n",
      "\u001b[32m2025-08-07 07:57:29.279\u001b[0m | \u001b[1mINFO    \u001b[0m | \u001b[36mlibrary.fvm.solver\u001b[0m:\u001b[36mlog_callback_hyperbolic\u001b[0m:\u001b[36m37\u001b[0m - \u001b[1miteration: 175, time: 0.097420, dt: 0.000513, next write at time: 0.100000\u001b[0m\n",
      "\u001b[32m2025-08-07 07:57:29.378\u001b[0m | \u001b[1mINFO    \u001b[0m | \u001b[36mlibrary.fvm.solver\u001b[0m:\u001b[36mlog_callback_hyperbolic\u001b[0m:\u001b[36m37\u001b[0m - \u001b[1miteration: 176, time: 0.097932, dt: 0.000512, next write at time: 0.100000\u001b[0m\n",
      "\u001b[32m2025-08-07 07:57:29.497\u001b[0m | \u001b[1mINFO    \u001b[0m | \u001b[36mlibrary.fvm.solver\u001b[0m:\u001b[36mlog_callback_hyperbolic\u001b[0m:\u001b[36m37\u001b[0m - \u001b[1miteration: 177, time: 0.098444, dt: 0.000512, next write at time: 0.100000\u001b[0m\n",
      "\u001b[32m2025-08-07 07:57:29.570\u001b[0m | \u001b[1mINFO    \u001b[0m | \u001b[36mlibrary.fvm.solver\u001b[0m:\u001b[36mlog_callback_hyperbolic\u001b[0m:\u001b[36m37\u001b[0m - \u001b[1miteration: 178, time: 0.098956, dt: 0.000512, next write at time: 0.100000\u001b[0m\n",
      "\u001b[32m2025-08-07 07:57:29.659\u001b[0m | \u001b[1mINFO    \u001b[0m | \u001b[36mlibrary.fvm.solver\u001b[0m:\u001b[36mlog_callback_hyperbolic\u001b[0m:\u001b[36m37\u001b[0m - \u001b[1miteration: 179, time: 0.099468, dt: 0.000512, next write at time: 0.100000\u001b[0m\n",
      "\u001b[32m2025-08-07 07:57:29.732\u001b[0m | \u001b[1mINFO    \u001b[0m | \u001b[36mlibrary.fvm.solver\u001b[0m:\u001b[36mlog_callback_hyperbolic\u001b[0m:\u001b[36m37\u001b[0m - \u001b[1miteration: 180, time: 0.099981, dt: 0.000514, next write at time: 0.100000\u001b[0m\n",
      "\u001b[32m2025-08-07 07:57:29.838\u001b[0m | \u001b[1mINFO    \u001b[0m | \u001b[36mlibrary.fvm.solver\u001b[0m:\u001b[36mlog_callback_hyperbolic\u001b[0m:\u001b[36m37\u001b[0m - \u001b[1miteration: 181, time: 0.100495, dt: 0.000513, next write at time: 0.100000\u001b[0m\n",
      "\u001b[32m2025-08-07 07:57:29.956\u001b[0m | \u001b[1mINFO    \u001b[0m | \u001b[36mlibrary.fvm.solver\u001b[0m:\u001b[36mlog_callback_execution_time\u001b[0m:\u001b[36m49\u001b[0m - \u001b[1mFinished simulation with in 20.457 seconds\u001b[0m\n"
     ]
    }
   ],
   "source": [
    "Qnew, Qaux = solver.solve(mesh, model)\n",
    "\n",
    "io.generate_vtk(\n",
    "    os.path.join(settings.output.directory, f\"{settings.output.filename}.h5\")\n",
    ")"
   ]
  },
  {
   "cell_type": "markdown",
   "id": "5abcc1a4",
   "metadata": {},
   "source": [
    "## Visualization"
   ]
  },
  {
   "cell_type": "code",
   "execution_count": 5,
   "id": "7940f9e8",
   "metadata": {
    "scrolled": true
   },
   "outputs": [
    {
     "name": "stderr",
     "output_type": "stream",
     "text": [
      "\u001b[32m2025-08-07 07:57:48.420\u001b[0m | \u001b[1mINFO    \u001b[0m | \u001b[36mlibrary.postprocessing.postprocessing\u001b[0m:\u001b[36mvtk_interpolate_3d\u001b[0m:\u001b[36m63\u001b[0m - \u001b[1mConverted snapshot 0/10\u001b[0m\n",
      "\u001b[32m2025-08-07 07:57:48.491\u001b[0m | \u001b[1mINFO    \u001b[0m | \u001b[36mlibrary.postprocessing.postprocessing\u001b[0m:\u001b[36mvtk_interpolate_3d\u001b[0m:\u001b[36m63\u001b[0m - \u001b[1mConverted snapshot 1/10\u001b[0m\n",
      "\u001b[32m2025-08-07 07:57:48.598\u001b[0m | \u001b[1mINFO    \u001b[0m | \u001b[36mlibrary.postprocessing.postprocessing\u001b[0m:\u001b[36mvtk_interpolate_3d\u001b[0m:\u001b[36m63\u001b[0m - \u001b[1mConverted snapshot 2/10\u001b[0m\n",
      "\u001b[32m2025-08-07 07:57:48.714\u001b[0m | \u001b[1mINFO    \u001b[0m | \u001b[36mlibrary.postprocessing.postprocessing\u001b[0m:\u001b[36mvtk_interpolate_3d\u001b[0m:\u001b[36m63\u001b[0m - \u001b[1mConverted snapshot 3/10\u001b[0m\n",
      "\u001b[32m2025-08-07 07:57:48.794\u001b[0m | \u001b[1mINFO    \u001b[0m | \u001b[36mlibrary.postprocessing.postprocessing\u001b[0m:\u001b[36mvtk_interpolate_3d\u001b[0m:\u001b[36m63\u001b[0m - \u001b[1mConverted snapshot 4/10\u001b[0m\n",
      "\u001b[32m2025-08-07 07:57:48.872\u001b[0m | \u001b[1mINFO    \u001b[0m | \u001b[36mlibrary.postprocessing.postprocessing\u001b[0m:\u001b[36mvtk_interpolate_3d\u001b[0m:\u001b[36m63\u001b[0m - \u001b[1mConverted snapshot 5/10\u001b[0m\n",
      "\u001b[32m2025-08-07 07:57:48.957\u001b[0m | \u001b[1mINFO    \u001b[0m | \u001b[36mlibrary.postprocessing.postprocessing\u001b[0m:\u001b[36mvtk_interpolate_3d\u001b[0m:\u001b[36m63\u001b[0m - \u001b[1mConverted snapshot 6/10\u001b[0m\n",
      "\u001b[32m2025-08-07 07:57:49.046\u001b[0m | \u001b[1mINFO    \u001b[0m | \u001b[36mlibrary.postprocessing.postprocessing\u001b[0m:\u001b[36mvtk_interpolate_3d\u001b[0m:\u001b[36m63\u001b[0m - \u001b[1mConverted snapshot 7/10\u001b[0m\n",
      "\u001b[32m2025-08-07 07:57:49.131\u001b[0m | \u001b[1mINFO    \u001b[0m | \u001b[36mlibrary.postprocessing.postprocessing\u001b[0m:\u001b[36mvtk_interpolate_3d\u001b[0m:\u001b[36m63\u001b[0m - \u001b[1mConverted snapshot 8/10\u001b[0m\n",
      "\u001b[32m2025-08-07 07:57:49.230\u001b[0m | \u001b[1mINFO    \u001b[0m | \u001b[36mlibrary.postprocessing.postprocessing\u001b[0m:\u001b[36mvtk_interpolate_3d\u001b[0m:\u001b[36m63\u001b[0m - \u001b[1mConverted snapshot 9/10\u001b[0m\n",
      "\u001b[32m2025-08-07 07:57:52.640\u001b[0m | \u001b[1mINFO    \u001b[0m | \u001b[36mlibrary.postprocessing.postprocessing\u001b[0m:\u001b[36mvtk_interpolate_3d\u001b[0m:\u001b[36m66\u001b[0m - \u001b[1mOutput is written to: /home/ingo/Git/Zoomy/outputs/junction_0/out_3d.h5/out_3d.*.vtk\u001b[0m\n"
     ]
    }
   ],
   "source": [
    "io.generate_vtk(os.path.join(settings.output.directory, f\"{settings.name}.h5\"))\n",
    "postprocessing.vtk_interpolate_3d(model, settings, Nz=20, filename='out_3d')"
   ]
  }
 ],
 "metadata": {
  "kernelspec": {
   "display_name": "sms",
   "language": "python",
   "name": "python3"
  },
  "language_info": {
   "codemirror_mode": {
    "name": "ipython",
    "version": 3
   },
   "file_extension": ".py",
   "mimetype": "text/x-python",
   "name": "python",
   "nbconvert_exporter": "python",
   "pygments_lexer": "ipython3",
   "version": "3.12.9"
  },
  "widgets": {
   "application/vnd.jupyter.widget-state+json": {
    "state": {
     "58197ea96c8d4208a27b23118644168f": {
      "model_module": "@jupyter-widgets/base",
      "model_module_version": "2.0.0",
      "model_name": "LayoutModel",
      "state": {
       "_model_module": "@jupyter-widgets/base",
       "_model_module_version": "2.0.0",
       "_model_name": "LayoutModel",
       "_view_count": null,
       "_view_module": "@jupyter-widgets/base",
       "_view_module_version": "2.0.0",
       "_view_name": "LayoutView",
       "align_content": null,
       "align_items": null,
       "align_self": null,
       "border_bottom": null,
       "border_left": null,
       "border_right": null,
       "border_top": null,
       "bottom": null,
       "display": null,
       "flex": null,
       "flex_flow": null,
       "grid_area": null,
       "grid_auto_columns": null,
       "grid_auto_flow": null,
       "grid_auto_rows": null,
       "grid_column": null,
       "grid_gap": null,
       "grid_row": null,
       "grid_template_areas": null,
       "grid_template_columns": null,
       "grid_template_rows": null,
       "height": null,
       "justify_content": null,
       "justify_items": null,
       "left": null,
       "margin": null,
       "max_height": null,
       "max_width": null,
       "min_height": null,
       "min_width": null,
       "object_fit": null,
       "object_position": null,
       "order": null,
       "overflow": null,
       "padding": null,
       "right": null,
       "top": null,
       "visibility": null,
       "width": null
      }
     },
     "6aee9427c56642c3a758e75c7f50945d": {
      "model_module": "@jupyter-widgets/controls",
      "model_module_version": "2.0.0",
      "model_name": "HTMLStyleModel",
      "state": {
       "_model_module": "@jupyter-widgets/controls",
       "_model_module_version": "2.0.0",
       "_model_name": "HTMLStyleModel",
       "_view_count": null,
       "_view_module": "@jupyter-widgets/base",
       "_view_module_version": "2.0.0",
       "_view_name": "StyleView",
       "background": null,
       "description_width": "",
       "font_size": null,
       "text_color": null
      }
     },
     "8e858fdf20384196aa8989375078223c": {
      "model_module": "@jupyter-widgets/controls",
      "model_module_version": "2.0.0",
      "model_name": "HTMLModel",
      "state": {
       "_dom_classes": [],
       "_model_module": "@jupyter-widgets/controls",
       "_model_module_version": "2.0.0",
       "_model_name": "HTMLModel",
       "_view_count": null,
       "_view_module": "@jupyter-widgets/controls",
       "_view_module_version": "2.0.0",
       "_view_name": "HTMLView",
       "description": "",
       "description_allow_html": false,
       "layout": "IPY_MODEL_58197ea96c8d4208a27b23118644168f",
       "placeholder": "​",
       "style": "IPY_MODEL_6aee9427c56642c3a758e75c7f50945d",
       "tabbable": null,
       "tooltip": null,
       "value": "<iframe src=\"http://localhost:40521/index.html?ui=P_0x7fedf49b1c40_0&reconnect=auto\" class=\"pyvista\" style=\"width: 99%; height: 600px; border: 1px solid rgb(221,221,221);\"></iframe>"
      }
     }
    },
    "version_major": 2,
    "version_minor": 0
   }
  }
 },
 "nbformat": 4,
 "nbformat_minor": 5
}
