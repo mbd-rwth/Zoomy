{
 "cells": [
  {
   "cell_type": "raw",
   "id": "906eac95",
   "metadata": {
    "vscode": {
     "languageId": "raw"
    }
   },
   "source": [
    "---\n",
    "title: \"Minimal\"\n",
    "author: Ingo Steldermann\n",
    "date: 07/10/2025\n",
    "format:\n",
    "  html:\n",
    "    code-fold: false\n",
    "    code-tools: true\n",
    "    css: ../notebook.css\n",
    "---"
   ]
  },
  {
   "cell_type": "markdown",
   "id": "a8c5b74f",
   "metadata": {
    "vscode": {
     "languageId": "raw"
    }
   },
   "source": [
    "# Time dependent boundary condition"
   ]
  },
  {
   "cell_type": "markdown",
   "id": "b7ce1821",
   "metadata": {
    "vscode": {
     "languageId": "raw"
    }
   },
   "source": [
    "## Imports"
   ]
  },
  {
   "cell_type": "code",
   "execution_count": 1,
   "id": "4f583c96",
   "metadata": {
    "tags": []
   },
   "outputs": [],
   "source": [
    "# | code-fold: true\n",
    "# | code-summary: \"Load packages\"\n",
    "# | output: false\n",
    "\n",
    "import os\n",
    "import numpy as np\n",
    "import jax\n",
    "from jax import numpy as jnp\n",
    "import pytest\n",
    "from types import SimpleNamespace\n",
    "from sympy import cos, pi, Piecewise, sin, Matrix\n",
    "\n",
    "from library.fvm.solver import HyperbolicSolver\n",
    "from library.fvm.ode import RK1\n",
    "import library.fvm.reconstruction as recon\n",
    "import library.fvm.timestepping as timestepping\n",
    "import library.fvm.flux as flux\n",
    "import library.fvm.nonconservative_flux as nc_flux\n",
    "from library.model.boundary_conditions import BoundaryCondition\n",
    "from library.model.models.basisfunctions import Basisfunction, Legendre_shifted, Legendre_DN, Chebyshevt_shifted\n",
    "from library.model.models.basismatrices import Basismatrices\n",
    "from library.model.models.shallow_moments import ShallowMoments\n",
    "import library.misc.io as io\n",
    "\n",
    "import library.model.initial_conditions as IC\n",
    "import library.model.boundary_conditions as BC\n",
    "import library.misc.io as io\n",
    "from library.mesh.mesh import compute_derivatives\n",
    "from tests.pdesoft import plots_paper\n",
    "\n",
    "from library.misc.misc import Zstruct, Settings\n",
    "\n",
    "\n",
    "import library.mesh.mesh as petscMesh\n",
    "import library.postprocessing.postprocessing as postprocessing\n",
    "from library.mesh.mesh import convert_mesh_to_jax\n",
    "import argparse\n",
    "from library.model.models.basisfunctions import Legendre_shifted, Basisfunction\n",
    "from library.model.models.basismatrices import Basismatrices\n"
   ]
  },
  {
   "cell_type": "markdown",
   "id": "9a0972ba",
   "metadata": {},
   "source": [
    "## Model"
   ]
  },
  {
   "cell_type": "code",
   "execution_count": 2,
   "id": "e5acbbe7",
   "metadata": {},
   "outputs": [],
   "source": [
    "level = 2\n",
    "settings = Settings(\n",
    "    name=\"test\",\n",
    "    output=Zstruct(\n",
    "        directory=f\"outputs/junction_{level}\", filename=\"test\", snapshots=100, clean_directory=True\n",
    "    ),\n",
    ")\n"
   ]
  },
  {
   "cell_type": "code",
   "execution_count": 3,
   "id": "fd25e4e2-4653-441c-a82b-4d4c2e4c013b",
   "metadata": {
    "tags": []
   },
   "outputs": [
    {
     "name": "stdout",
     "output_type": "stream",
     "text": [
      "[ 0.96969696  0.04489341 -0.0380731 ]\n",
      "1.99366775317217e-17\n"
     ]
    }
   ],
   "source": [
    "basis = Legendre_DN\n",
    "testbasis = basis(level)\n",
    "basismatrices = Basismatrices(testbasis)\n",
    "U = lambda z: 1-(1-z)**8\n",
    "Z = np.linspace(0, 1, 100)\n",
    "inflow_profile_coefs = testbasis.project_onto_basis(U(Z))\n",
    "coefs = np.array(inflow_profile_coefs, dtype=np.float64)\n",
    "sum = np.sum(coefs[1:])\n",
    "# coefs[0] = 1\n",
    "# coefs[1:] = coefs[1:] / sum\n",
    "print(coefs)\n",
    "print(np.sum([coefs[k] * testbasis.eval(k, 0) for k in range(level+1)]))\n",
    "\n"
   ]
  },
  {
   "cell_type": "code",
   "execution_count": 4,
   "id": "790405ae",
   "metadata": {},
   "outputs": [
    {
     "name": "stdout",
     "output_type": "stream",
     "text": [
      "[ 0.96969696  0.04489341 -0.0380731 ]\n",
      "0.44246633237097016\n",
      "0.44246633237097016\n"
     ]
    },
    {
     "data": {
      "image/png": "[encoded data removed]",
      "text/plain": [
       "<Figure size 640x480 with 1 Axes>"
      ]
     },
     "metadata": {},
     "output_type": "display_data"
    }
   ],
   "source": [
    "import matplotlib.pyplot as plt\n",
    "\n",
    "U_b = testbasis.reconstruct_velocity_profile(0.5*coefs, Z=Z)\n",
    "U_a = 0.5 * U(Z)\n",
    "\n",
    "plt.plot(U_b, Z)\n",
    "plt.plot(U_a, Z)\n",
    "print(coefs)\n",
    "print(U_a.mean())\n",
    "print(U_a.mean())\n",
    "inflow_profile_coefs = coefs"
   ]
  },
  {
   "cell_type": "code",
   "execution_count": 5,
   "id": "9c125c97",
   "metadata": {},
   "outputs": [],
   "source": [
    "\n",
    "f_h = lambda t: 0.2 * cos(2 * 3.14 * t * 5.) + 1.\n",
    "u_mean = 0.5\n",
    "\n",
    "inflow_dict = {\n",
    "    # 0: lambda t, x, dx, q, qaux, p, n: f_h(t),\n",
    "    0: lambda t, x, dx, q, qaux, p, n: q[0],\n",
    "    # 1: lambda t, x, dx, q, qaux, p, n: f_h(t) * u_mean * inflow_profile_coefs[0]\n",
    "    1: lambda t, x, dx, q, qaux, p, n: q[0] * u_mean * inflow_profile_coefs[0]\n",
    "\n",
    "    # 1: lambda t, x, dx, q, qaux, p, n: q[1]\n",
    "}\n",
    "# inflow_dict.update({1 + i: lambda t, x, dx, q, qaux, p, n: f_h(t) * u_mean * inflow_profile_coefs[1+i] for i in range(level)})\n",
    "inflow_dict.update({1 + i: lambda t, x, dx, q, qaux, p, n: q[0] * u_mean * inflow_profile_coefs[1+i] for i in range(level)})\n",
    "# inflow_dict.update({1 + i: lambda t, x, dx, q, qaux, p, n: q[1+i] for i in range(level)})\n",
    "\n",
    "outflow_dict = {\n",
    "    0: lambda t, x, dx, q, qaux, p, n: f_h(t),\n",
    "    # 1: lambda t, x, dx, q, qaux, p, n: f_h(t) * u_mean * inflow_profile_coefs[0]\n",
    "    1: lambda t, x, dx, q, qaux, p, n: q[1]\n",
    "}\n",
    "outflow_dict.update({1 + i: lambda t, x, dx, q, qaux, p, n: q[i+1] for i in range(level)})\n",
    "\n",
    "bcs = BC.BoundaryConditions(\n",
    "    [\n",
    "        BC.Lambda(physical_tag=\"left\", prescribe_fields=inflow_dict),\n",
    "        BC.Lambda(physical_tag=\"right\", prescribe_fields=outflow_dict),\n",
    "        # BC.Extrapolation(physical_tag=\"right\"),\n",
    "    ]\n",
    ")\n",
    "\n",
    "\n",
    "def custom_ic(x):\n",
    "    Q = np.zeros(2 + level, dtype=float)\n",
    "    Q[0] = 1.\n",
    "    return Q\n",
    "\n",
    "\n",
    "ic = IC.UserFunction(custom_ic)\n",
    "\n",
    "class MyModel(ShallowMoments):\n",
    "    def source(self):   \n",
    "        out = Matrix([0 for i in range(self.n_variables)])\n",
    "        # out += self.chezy()\n",
    "        # out += self.slip()\n",
    "        # out += self.slip_mod()\n",
    "        # out += self.newtonian_turbulent_algebraic()\n",
    "        # out += self.regress_against_power_profile()\n",
    "        return out\n",
    "\n",
    "model = MyModel(\n",
    "    level = level,\n",
    "    boundary_conditions=bcs,\n",
    "    parameters=Zstruct(C=30., lamda=0.001, rho=1000., kappa=0.41, l_bl=0.01, l_turb=0.05, nu=1e-6, c_slipmod=1., r_pp=1.),\n",
    "    basisfunctions=basis\n",
    ")\n",
    "\n",
    "main_dir = os.getenv(\"ZOOMY_DIR\")\n",
    "# mesh = petscMesh.Mesh.from_gmsh(\n",
    "#     os.path.join(main_dir, \"meshes/channel_junction/mesh_2d_coarse.msh\")\n",
    "#     # os.path.join(main_dir, \"meshes/channel_junction/mesh_2d_fine.msh\")\n",
    "# )\n",
    "\n",
    "mesh = petscMesh.Mesh.create_1d([0.0, 10.0], 400)\n",
    "\n",
    "\n",
    "\n"
   ]
  },
  {
   "cell_type": "code",
   "execution_count": 9,
   "id": "0c4362bf",
   "metadata": {},
   "outputs": [
    {
     "data": {
      "image/png": "[encoded data removed]",
      "text/latex": [
       "$\\displaystyle \\left[\\begin{matrix}0.954545454545489 & -0.572727272727389 & 0.363636363636731\\\\-0.572727272727389 & 2.86363636363675 & -1.01818181818308\\\\0.363636363636731 & -1.01818181818308 & 4.20202020202373\\end{matrix}\\right]$"
      ],
      "text/plain": [
       "⎡0.954545454545489   -0.572727272727389  0.363636363636731⎤\n",
       "⎢                                                         ⎥\n",
       "⎢-0.572727272727389   2.86363636363675   -1.01818181818308⎥\n",
       "⎢                                                         ⎥\n",
       "⎣0.363636363636731   -1.01818181818308   4.20202020202373 ⎦"
      ]
     },
     "execution_count": 9,
     "metadata": {},
     "output_type": "execute_result"
    }
   ],
   "source": [
    "model.basismatrices.Minv"
   ]
  },
  {
   "cell_type": "code",
   "execution_count": 6,
   "id": "3015b876",
   "metadata": {},
   "outputs": [],
   "source": [
    "class SMESolver(HyperbolicSolver):\n",
    "    def update_qaux(self, Q, Qaux, Qold, Qauxold, mesh, model, parameters, time, dt):\n",
    "        dudx = compute_derivatives(Q[1] / Q[0], mesh, derivatives_multi_index=[[0, 0]])[\n",
    "            :, 0\n",
    "        ]\n",
    "        # dvdy = compute_derivatives(\n",
    "        #     Q[1 + offset] / Q[0], mesh, derivatives_multi_index=[[0, 1]]\n",
    "        # )[:, 0]\n",
    "        Qaux = Qaux.at[0].set(dudx)\n",
    "        # Qaux = Qaux.at[1].set(dvdy)\n",
    "        return Qaux\n",
    "\n",
    "\n",
    "solver = SMESolver(settings=settings, time_end=10.0, compute_dt=timestepping.adaptive(CFL=0.5))"
   ]
  },
  {
   "cell_type": "markdown",
   "id": "672b830b",
   "metadata": {},
   "source": [
    "## Solver"
   ]
  },
  {
   "cell_type": "code",
   "execution_count": 7,
   "id": "34211aa2-8f9a-4e1d-bb55-1af32668f51e",
   "metadata": {},
   "outputs": [
    {
     "name": "stderr",
     "output_type": "stream",
     "text": [
      "\u001b[32m2025-09-23 16:18:08.329\u001b[0m | \u001b[1mINFO    \u001b[0m | \u001b[36mlibrary.fvm.solver\u001b[0m:\u001b[36mlog_callback_execution_time\u001b[0m:\u001b[36m56\u001b[0m - \u001b[1mFinished simulation with in 40.083 seconds\u001b[0m\n"
     ]
    }
   ],
   "source": [
    "Qnew, Qaux = solver.solve(mesh, model)\n"
   ]
  },
  {
   "cell_type": "markdown",
   "id": "5abcc1a4",
   "metadata": {},
   "source": [
    "## Visualization"
   ]
  },
  {
   "cell_type": "code",
   "execution_count": 8,
   "id": "7940f9e8",
   "metadata": {
    "scrolled": true
   },
   "outputs": [
    {
     "name": "stderr",
     "output_type": "stream",
     "text": [
      "\u001b[32m2025-09-23 16:18:19.907\u001b[0m | \u001b[1mINFO    \u001b[0m | \u001b[36mlibrary.postprocessing.postprocessing\u001b[0m:\u001b[36mvtk_interpolate_3d\u001b[0m:\u001b[36m62\u001b[0m - \u001b[1mConverted snapshot 0/2\u001b[0m\n",
      "\u001b[32m2025-09-23 16:18:19.920\u001b[0m | \u001b[1mINFO    \u001b[0m | \u001b[36mlibrary.postprocessing.postprocessing\u001b[0m:\u001b[36mvtk_interpolate_3d\u001b[0m:\u001b[36m62\u001b[0m - \u001b[1mConverted snapshot 1/2\u001b[0m\n",
      "\u001b[32m2025-09-23 16:18:19.945\u001b[0m | \u001b[1mINFO    \u001b[0m | \u001b[36mlibrary.postprocessing.postprocessing\u001b[0m:\u001b[36mvtk_interpolate_3d\u001b[0m:\u001b[36m65\u001b[0m - \u001b[1mOutput is written to: /home/ingo/Git/Zoomy/outputs/junction_2/out_3d.h5/out_3d.*.vtk\u001b[0m\n"
     ]
    }
   ],
   "source": [
    "io.generate_vtk(os.path.join(settings.output.directory, f\"{settings.name}.h5\"))\n",
    "postprocessing.vtk_interpolate_3d(model, settings, Nz=50, filename='out_3d')"
   ]
  },
  {
   "cell_type": "code",
   "execution_count": null,
   "id": "fafa0e82",
   "metadata": {},
   "outputs": [],
   "source": []
  }
 ],
 "metadata": {
  "kernelspec": {
   "display_name": "zoomy",
   "language": "python",
   "name": "python3"
  },
  "language_info": {
   "codemirror_mode": {
    "name": "ipython",
    "version": 3
   },
   "file_extension": ".py",
   "mimetype": "text/x-python",
   "name": "python",
   "nbconvert_exporter": "python",
   "pygments_lexer": "ipython3",
   "version": "3.12.11"
  },
  "widgets": {
   "application/vnd.jupyter.widget-state+json": {
    "state": {
     "58197ea96c8d4208a27b23118644168f": {
      "model_module": "@jupyter-widgets/base",
      "model_module_version": "2.0.0",
      "model_name": "LayoutModel",
      "state": {
       "_model_module": "@jupyter-widgets/base",
       "_model_module_version": "2.0.0",
       "_model_name": "LayoutModel",
       "_view_count": null,
       "_view_module": "@jupyter-widgets/base",
       "_view_module_version": "2.0.0",
       "_view_name": "LayoutView",
       "align_content": null,
       "align_items": null,
       "align_self": null,
       "border_bottom": null,
       "border_left": null,
       "border_right": null,
       "border_top": null,
       "bottom": null,
       "display": null,
       "flex": null,
       "flex_flow": null,
       "grid_area": null,
       "grid_auto_columns": null,
       "grid_auto_flow": null,
       "grid_auto_rows": null,
       "grid_column": null,
       "grid_gap": null,
       "grid_row": null,
       "grid_template_areas": null,
       "grid_template_columns": null,
       "grid_template_rows": null,
       "height": null,
       "justify_content": null,
       "justify_items": null,
       "left": null,
       "margin": null,
       "max_height": null,
       "max_width": null,
       "min_height": null,
       "min_width": null,
       "object_fit": null,
       "object_position": null,
       "order": null,
       "overflow": null,
       "padding": null,
       "right": null,
       "top": null,
       "visibility": null,
       "width": null
      }
     },
     "6aee9427c56642c3a758e75c7f50945d": {
      "model_module": "@jupyter-widgets/controls",
      "model_module_version": "2.0.0",
      "model_name": "HTMLStyleModel",
      "state": {
       "_model_module": "@jupyter-widgets/controls",
       "_model_module_version": "2.0.0",
       "_model_name": "HTMLStyleModel",
       "_view_count": null,
       "_view_module": "@jupyter-widgets/base",
       "_view_module_version": "2.0.0",
       "_view_name": "StyleView",
       "background": null,
       "description_width": "",
       "font_size": null,
       "text_color": null
      }
     },
     "8e858fdf20384196aa8989375078223c": {
      "model_module": "@jupyter-widgets/controls",
      "model_module_version": "2.0.0",
      "model_name": "HTMLModel",
      "state": {
       "_dom_classes": [],
       "_model_module": "@jupyter-widgets/controls",
       "_model_module_version": "2.0.0",
       "_model_name": "HTMLModel",
       "_view_count": null,
       "_view_module": "@jupyter-widgets/controls",
       "_view_module_version": "2.0.0",
       "_view_name": "HTMLView",
       "description": "",
       "description_allow_html": false,
       "layout": "IPY_MODEL_58197ea96c8d4208a27b23118644168f",
       "placeholder": "​",
       "style": "IPY_MODEL_6aee9427c56642c3a758e75c7f50945d",
       "tabbable": null,
       "tooltip": null,
       "value": "<iframe src=\"http://localhost:40521/index.html?ui=P_0x7fedf49b1c40_0&reconnect=auto\" class=\"pyvista\" style=\"width: 99%; height: 600px; border: 1px solid rgb(221,221,221);\"></iframe>"
      }
     }
    },
    "version_major": 2,
    "version_minor": 0
   }
  }
 },
 "nbformat": 4,
 "nbformat_minor": 5
}
