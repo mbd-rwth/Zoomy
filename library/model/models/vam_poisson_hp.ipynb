{
 "cells": [
  {
   "cell_type": "code",
   "execution_count": 1,
   "id": "514d36e1-0265-4099-8fe8-ff5fbb70621d",
   "metadata": {
    "tags": []
   },
   "outputs": [],
   "source": [
    "from sympy import *"
   ]
  },
  {
   "cell_type": "code",
   "execution_count": 2,
   "id": "c6486434-5b95-405e-8156-074a2bd0364f",
   "metadata": {},
   "outputs": [],
   "source": [
    "def replace_multiple(text, old_list, new_list):\n",
    "    for old, new in zip(old_list, new_list):\n",
    "        text = text.replace(old, new)\n",
    "    return text"
   ]
  },
  {
   "cell_type": "code",
   "execution_count": 3,
   "id": "4445a83e-7534-4757-9f4f-5710a00dfe64",
   "metadata": {
    "tags": []
   },
   "outputs": [],
   "source": [
    "x, dt = symbols('x dt')"
   ]
  },
  {
   "cell_type": "code",
   "execution_count": 4,
   "id": "750e3164-532e-495c-a29e-eb1cff53efd3",
   "metadata": {
    "tags": []
   },
   "outputs": [],
   "source": [
    "h = Function('h')(x)\n",
    "u0 = Function('u0')(x)\n",
    "u1 = Function('u1')(x)\n",
    "w0 = Function('w0')(x)\n",
    "b = Function('b')(x)\n",
    "oldu0 = Function('oldu0')(x)\n",
    "oldu1 = Function('oldu1')(x)\n",
    "oldw0 = Function('oldw0')(x)\n",
    "oldw1 = Function('oldw1')(x)\n",
    "hp0 = Function('hp0')(x)\n",
    "hp1 = Function('hp1')(x)\n"
   ]
  },
  {
   "cell_type": "code",
   "execution_count": 5,
   "id": "9adbefd3-be23-4d5d-8283-99627be90f8c",
   "metadata": {
    "tags": []
   },
   "outputs": [],
   "source": [
    "tau = Matrix([[0, \n",
    "               (hp0).diff(x) + 2*hp1/h*b.diff(x),\n",
    "               - 2*hp1/h,\n",
    "               (hp1).diff(x) -(3*hp0/h - hp1/h)*h.diff(x) - 6*(hp0/h-hp1/h) * b.diff(x),\n",
    "               6 * (hp0/h-hp1/h)\n",
    "              ]]).T"
   ]
  },
  {
   "cell_type": "code",
   "execution_count": 6,
   "id": "af0ac159-76a1-422d-a36c-0c25288e3c7b",
   "metadata": {
    "tags": []
   },
   "outputs": [],
   "source": [
    "Uk = Matrix([[ h, h * oldu0, h*oldu1, h*oldw0, h*oldw1]]).T"
   ]
  },
  {
   "cell_type": "code",
   "execution_count": 7,
   "id": "2ee296a6-07de-45bb-bc20-1b18285cda20",
   "metadata": {
    "tags": []
   },
   "outputs": [],
   "source": [
    "U = Uk - dt * tau"
   ]
  },
  {
   "cell_type": "code",
   "execution_count": 8,
   "id": "60b01d93-334f-4008-a388-62664d5dacc6",
   "metadata": {
    "tags": []
   },
   "outputs": [],
   "source": [
    "h = U[0]\n",
    "u0 = U[1]/h\n",
    "u1 = U[2]/h\n",
    "w0 = U[3]/h\n",
    "w1 = U[4]/h"
   ]
  },
  {
   "cell_type": "code",
   "execution_count": 9,
   "id": "2a31d346-fde4-4072-984f-ce432e982228",
   "metadata": {
    "tags": []
   },
   "outputs": [],
   "source": [
    "I1 = h*u0.diff(x) + 1/3 * (h*u1).diff(x) + 1/3 * u1 * h.diff(x) + 2*(w0 - u0 * b.diff(x))"
   ]
  },
  {
   "cell_type": "code",
   "execution_count": 10,
   "id": "db8d784a-fcfd-44aa-a9bf-923c867e39fe",
   "metadata": {
    "tags": []
   },
   "outputs": [
    {
     "data": {
      "text/plain": [
       "[Derivative(b(x), (x, 2)),\n",
       " Derivative(b(x), x),\n",
       " Derivative(h(x), x),\n",
       " Derivative(hp0(x), (x, 2)),\n",
       " Derivative(hp0(x), x),\n",
       " Derivative(hp1(x), x),\n",
       " Derivative(oldu0(x), x),\n",
       " Derivative(oldu1(x), x)]"
      ]
     },
     "execution_count": 10,
     "metadata": {},
     "output_type": "execute_result"
    }
   ],
   "source": [
    "derivs = sorted(I1.atoms(Derivative), key=str)\n",
    "derivs"
   ]
  },
  {
   "cell_type": "code",
   "execution_count": 11,
   "id": "78801bba-a843-4ae8-9366-1513d6921154",
   "metadata": {
    "tags": []
   },
   "outputs": [],
   "source": [
    "replace_list = [str(d) for d in derivs] + ['oldu0', 'oldu1', 'oldw0', 'oldw1']\n",
    "subs_list = ['ddbdxx', 'dbdx', 'dhdx', 'ddhp0dxx', 'dhp0dx', 'dhp1dx', 'du0dx', 'du1dx'] + ['u0', 'u1', 'w0', 'w1']"
   ]
  },
  {
   "cell_type": "code",
   "execution_count": 12,
   "id": "0a318cfb-2992-436f-856d-047aaa1e8a5f",
   "metadata": {},
   "outputs": [
    {
     "data": {
      "text/plain": [
       "'0.666666666666667*dt*dhp1dx/h - 0.666666666666667*dt*hp1*dhdx/h**2 - 2*(-dt*(dhp0dx + 2*hp1*dbdx/h) + h*u0)*dbdx/h + 2*(-dt*(-(3*hp0/h - hp1/h)*dhdx - (6*hp0/h - 6*hp1/h)*dbdx + dhp1dx) + h*w0)/h + 0.333333333333333*(2*dt*hp1/h + h*u1)*dhdx/h + (-(-dt*(dhp0dx + 2*hp1*dbdx/h) + h*u0)*dhdx/h**2 + (-dt*(ddhp0dxx + 2*hp1*ddbdxx/h + 2*dbdx*dhp1dx/h - 2*hp1*dbdx*dhdx/h**2) + h*du0dx + u0*dhdx)/h)*h + 0.333333333333333*h*du1dx + 0.333333333333333*u1*dhdx'"
      ]
     },
     "execution_count": 12,
     "metadata": {},
     "output_type": "execute_result"
    }
   ],
   "source": [
    "out = replace_multiple(str(I1), replace_list, subs_list)\n",
    "replace_multiple(out, ['(x)'], [''])"
   ]
  },
  {
   "cell_type": "code",
   "execution_count": 13,
   "id": "8c375a64-6ab2-46a5-b97c-86ae4487353c",
   "metadata": {
    "tags": []
   },
   "outputs": [],
   "source": [
    "I2 = h * u0.diff(x) + u1*h.diff(x) + 2*(u1*b.diff(x) - w1)"
   ]
  },
  {
   "cell_type": "code",
   "execution_count": 14,
   "id": "89277683-1168-4252-b5ac-7d3a90aa36e5",
   "metadata": {
    "tags": []
   },
   "outputs": [
    {
     "data": {
      "text/plain": [
       "[Derivative(b(x), (x, 2)),\n",
       " Derivative(b(x), x),\n",
       " Derivative(h(x), x),\n",
       " Derivative(hp0(x), (x, 2)),\n",
       " Derivative(hp0(x), x),\n",
       " Derivative(hp1(x), x),\n",
       " Derivative(oldu0(x), x),\n",
       " Derivative(oldu1(x), x)]"
      ]
     },
     "execution_count": 14,
     "metadata": {},
     "output_type": "execute_result"
    }
   ],
   "source": [
    "derivs = sorted(I1.atoms(Derivative), key=str)\n",
    "derivs"
   ]
  },
  {
   "cell_type": "code",
   "execution_count": 15,
   "id": "3541aa10-8f55-4f65-90ef-0a29624d6b58",
   "metadata": {
    "tags": []
   },
   "outputs": [],
   "source": [
    "replace_list = [str(d) for d in derivs] + ['oldu0', 'oldu1', 'oldw0', 'oldw1']\n",
    "subs_list = ['ddbdxx', 'dbdx', 'dhdx', 'ddhp0dxx', 'dhp0dx', 'dhp1dx', 'du0dx', 'du1dx'] + ['u0', 'u1', 'w0', 'w1']"
   ]
  },
  {
   "cell_type": "code",
   "execution_count": 16,
   "id": "dd18e64e-9b43-496e-a7b7-9dfc5b206414",
   "metadata": {
    "tags": []
   },
   "outputs": [
    {
     "data": {
      "text/plain": [
       "'-2*(-dt*(6*hp0/h - 6*hp1/h) + h*w1)/h + 2*(2*dt*hp1/h + h*u1)*dbdx/h + (2*dt*hp1/h + h*u1)*dhdx/h + (-(-dt*(dhp0dx + 2*hp1*dbdx/h) + h*u0)*dhdx/h**2 + (-dt*(ddhp0dxx + 2*hp1*ddbdxx/h + 2*dbdx*dhp1dx/h - 2*hp1*dbdx*dhdx/h**2) + h*du0dx + u0*dhdx)/h)*h'"
      ]
     },
     "execution_count": 16,
     "metadata": {},
     "output_type": "execute_result"
    }
   ],
   "source": [
    "out = replace_multiple(str(I2), replace_list, subs_list)\n",
    "replace_multiple(out, ['(x)'], [''])"
   ]
  },
  {
   "cell_type": "code",
   "execution_count": null,
   "id": "368be9e6-210d-44fe-b50e-310b5580ba45",
   "metadata": {},
   "outputs": [],
   "source": []
  }
 ],
 "metadata": {
  "kernelspec": {
   "display_name": "Python 3",
   "language": "python",
   "name": "python3"
  },
  "language_info": {
   "codemirror_mode": {
    "name": "ipython",
    "version": 3
   },
   "file_extension": ".py",
   "mimetype": "text/x-python",
   "name": "python",
   "nbconvert_exporter": "python",
   "pygments_lexer": "ipython3",
   "version": "3.9.2"
  }
 },
 "nbformat": 4,
 "nbformat_minor": 5
}
