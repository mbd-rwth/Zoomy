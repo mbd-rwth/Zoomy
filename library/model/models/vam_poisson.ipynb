{
 "cells": [
  {
   "cell_type": "code",
   "execution_count": 1,
   "id": "514d36e1-0265-4099-8fe8-ff5fbb70621d",
   "metadata": {
    "tags": []
   },
   "outputs": [],
   "source": [
    "from sympy import Derivative, Function, Matrix, Symbol, symbols"
   ]
  },
  {
   "cell_type": "code",
   "execution_count": 2,
   "id": "c6486434-5b95-405e-8156-074a2bd0364f",
   "metadata": {},
   "outputs": [],
   "source": [
    "def replace_multiple(text, old_list, new_list):\n",
    "    for old, new in zip(old_list, new_list):\n",
    "        text = text.replace(old, new)\n",
    "    return text"
   ]
  },
  {
   "cell_type": "code",
   "execution_count": 30,
   "id": "4445a83e-7534-4757-9f4f-5710a00dfe64",
   "metadata": {
    "tags": []
   },
   "outputs": [],
   "source": [
    "x, dt, y, t = symbols('x dt y t')"
   ]
  },
  {
   "cell_type": "code",
   "execution_count": 31,
   "id": "750e3164-532e-495c-a29e-eb1cff53efd3",
   "metadata": {
    "tags": []
   },
   "outputs": [],
   "source": [
    "h = Function('h')(x, y, t)\n",
    "u0 = Function('u0')(x)\n",
    "u1 = Function('u1')(x)\n",
    "w0 = Function('w0')(x)\n",
    "b = Function('b')(x)\n",
    "oldu0 = Function('oldu0')(x)\n",
    "oldu1 = Function('oldu1')(x)\n",
    "oldw0 = Function('oldw0')(x)\n",
    "oldw1 = Function('oldw1')(x)\n",
    "p0 = Function('p0')(x)\n",
    "p1 = Function('p1')(x)\n"
   ]
  },
  {
   "cell_type": "code",
   "execution_count": 5,
   "id": "9adbefd3-be23-4d5d-8283-99627be90f8c",
   "metadata": {
    "tags": []
   },
   "outputs": [],
   "source": [
    "tau = Matrix([[0, \n",
    "               (h * p0).diff(x) + 2*p1*b.diff(x),\n",
    "               (h * p1).diff(x) -(3*p0 - p1)*h.diff(x) - 6*(p0-p1) * b.diff(x),\n",
    "                - 2*p1,\n",
    "               6 * (p0-p1)\n",
    "              ]]).T"
   ]
  },
  {
   "cell_type": "code",
   "execution_count": 6,
   "id": "af0ac159-76a1-422d-a36c-0c25288e3c7b",
   "metadata": {
    "tags": []
   },
   "outputs": [],
   "source": [
    "Uk = Matrix([[ h, h * oldu0, h*oldu1, h*oldw0, h*oldw1]]).T"
   ]
  },
  {
   "cell_type": "code",
   "execution_count": 7,
   "id": "2ee296a6-07de-45bb-bc20-1b18285cda20",
   "metadata": {
    "tags": []
   },
   "outputs": [],
   "source": [
    "U = Uk - dt * tau"
   ]
  },
  {
   "cell_type": "code",
   "execution_count": 8,
   "id": "60b01d93-334f-4008-a388-62664d5dacc6",
   "metadata": {
    "tags": []
   },
   "outputs": [],
   "source": [
    "h = U[0]\n",
    "u0 = U[1]/h\n",
    "u1 = U[2]/h\n",
    "w0 = U[3]/h\n",
    "w1 = U[4]/h"
   ]
  },
  {
   "cell_type": "code",
   "execution_count": 37,
   "id": "2a31d346-fde4-4072-984f-ce432e982228",
   "metadata": {
    "tags": []
   },
   "outputs": [],
   "source": [
    "I1 = h*u0.diff(x) + 1/3 * (h*u1).diff(x) + 1/3 * u1 * h.diff(x) + 2*(w0 - u0 * b.diff(x) + h.diff(t).diff(x).diff(y))"
   ]
  },
  {
   "cell_type": "code",
   "execution_count": 38,
   "id": "f11fbd39",
   "metadata": {},
   "outputs": [
    {
     "data": {
      "text/latex": [
       "$\\displaystyle h{\\left(x,y,t \\right)} \\frac{d}{d x} u_{0}{\\left(x \\right)} + 0.333333333333333 h{\\left(x,y,t \\right)} \\frac{d}{d x} u_{1}{\\left(x \\right)} - 2 u_{0}{\\left(x \\right)} \\frac{d}{d x} b{\\left(x \\right)} + 0.666666666666667 u_{1}{\\left(x \\right)} \\frac{\\partial}{\\partial x} h{\\left(x,y,t \\right)} + 2 w_{0}{\\left(x \\right)} + 2 \\frac{\\partial^{3}}{\\partial y\\partial x\\partial t} h{\\left(x,y,t \\right)}$"
      ],
      "text/plain": [
       "h(x, y, t)*Derivative(u0(x), x) + 0.333333333333333*h(x, y, t)*Derivative(u1(x), x) - 2*u0(x)*Derivative(b(x), x) + 0.666666666666667*u1(x)*Derivative(h(x, y, t), x) + 2*w0(x) + 2*Derivative(h(x, y, t), t, x, y)"
      ]
     },
     "execution_count": 38,
     "metadata": {},
     "output_type": "execute_result"
    }
   ],
   "source": [
    "I1"
   ]
  },
  {
   "cell_type": "code",
   "execution_count": 39,
   "id": "0023082d",
   "metadata": {},
   "outputs": [],
   "source": [
    "def make_derivative_symbols(expr, variable_order=None):\n",
    "    \"\"\"\n",
    "    Builds a mapping from Derivative(...) to Symbol(...) using standardized naming,\n",
    "    handling multiple variables and arbitrary derivative orders.\n",
    "\n",
    "    Parameters:\n",
    "        expr: sympy expression\n",
    "        variable_order: Optional list of sympy Symbols defining variable order, e.g., [t, x, y, z]\n",
    "\n",
    "    Returns:\n",
    "        subs_dict: dict mapping Derivative(...) → Symbol('dFUNCdxdydz...')\n",
    "    \"\"\"\n",
    "    subs_dict = {}\n",
    "\n",
    "    # Detect all variables in derivatives if not provided\n",
    "    if variable_order is None:\n",
    "        variables = sorted({v for d in expr.atoms(Derivative) for v in d.variables}, key=str)\n",
    "    else:\n",
    "        variables = variable_order\n",
    "\n",
    "    for d in sorted(expr.atoms(Derivative), key=str):\n",
    "        f = d.expr.func.__name__  # function name like 'h' or 'p0'\n",
    "        counts = {v: 0 for v in variables}\n",
    "\n",
    "        for v in d.variables:\n",
    "            counts[v] += 1\n",
    "\n",
    "        # Build the derivative name like dFUNCddxdydz\n",
    "        name = 'd' + f\n",
    "        for v in variables:\n",
    "            if counts[v] > 0:\n",
    "                name += 'd' * counts[v] + v.name  # e.g., ddx, dy\n",
    "\n",
    "        subs_dict[d] = Symbol(name)\n",
    "\n",
    "    return subs_dict"
   ]
  },
  {
   "cell_type": "code",
   "execution_count": 40,
   "id": "db8d784a-fcfd-44aa-a9bf-923c867e39fe",
   "metadata": {
    "tags": []
   },
   "outputs": [
    {
     "data": {
      "text/plain": [
       "[Derivative(b(x), x),\n",
       " Derivative(h(x, y, t), t, x, y),\n",
       " Derivative(h(x, y, t), x),\n",
       " Derivative(u0(x), x),\n",
       " Derivative(u1(x), x)]"
      ]
     },
     "execution_count": 40,
     "metadata": {},
     "output_type": "execute_result"
    }
   ],
   "source": [
    "derivs = sorted(I1.atoms(Derivative), key=str)\n",
    "derivs"
   ]
  },
  {
   "cell_type": "code",
   "execution_count": 41,
   "id": "e3ca1ef9",
   "metadata": {},
   "outputs": [
    {
     "data": {
      "text/plain": [
       "{Derivative(b(x), x): dbdx,\n",
       " Derivative(h(x, y, t), t, x, y): dhdtdxdy,\n",
       " Derivative(h(x, y, t), x): dhdx,\n",
       " Derivative(u0(x), x): du0dx,\n",
       " Derivative(u1(x), x): du1dx}"
      ]
     },
     "execution_count": 41,
     "metadata": {},
     "output_type": "execute_result"
    }
   ],
   "source": [
    "make_derivative_symbols(I1)"
   ]
  },
  {
   "cell_type": "code",
   "execution_count": 28,
   "id": "78801bba-a843-4ae8-9366-1513d6921154",
   "metadata": {
    "tags": []
   },
   "outputs": [],
   "source": [
    "replace_list = [str(d) for d in derivs] \n",
    "subs_list = ['ddbdxx', 'dbdx', 'ddhdxx', 'dhdx', 'doldu0dx', 'doldu1dx', 'ddp0dxx', 'dp0dx', 'ddp1dxx', 'dp1dx']"
   ]
  },
  {
   "cell_type": "code",
   "execution_count": 29,
   "id": "0a318cfb-2992-436f-856d-047aaa1e8a5f",
   "metadata": {},
   "outputs": [
    {
     "data": {
      "text/plain": [
       "'-0.333333333333333*dt*(-(3*p0 - p1)*ddhdxx - (6*p0 - 6*p1)*ddbdxx - (3*dp0dx - dp1dx)*dhdx - (6*dp0dx - 6*dp1dx)*dbdx + h*ddp1dxx + p1*ddhdxx + 2*dhdx*dp1dx) - 2*(-dt*(h*dp0dx + p0*dhdx + 2*p1*dbdx) + h*oldu0)*dbdx/h + 0.333333333333333*(-dt*(-(3*p0 - p1)*dhdx - (6*p0 - 6*p1)*dbdx + h*dp1dx + p1*dhdx) + h*oldu1)*dhdx/h + 2*(2*dt*p1 + h*oldw0)/h + (-(-dt*(h*dp0dx + p0*dhdx + 2*p1*dbdx) + h*oldu0)*dhdx/h**2 + (-dt*(h*ddp0dxx + p0*ddhdxx + 2*p1*ddbdxx + 2*dbdx*dp1dx + 2*dhdx*dp0dx) + h*doldu0dx + oldu0*dhdx)/h)*h + 0.333333333333333*h*doldu1dx + 0.333333333333333*oldu1*dhdx'"
      ]
     },
     "execution_count": 29,
     "metadata": {},
     "output_type": "execute_result"
    }
   ],
   "source": [
    "out = replace_multiple(str(I1), replace_list, subs_list)\n",
    "replace_multiple(out, ['(x)'], [''])"
   ]
  },
  {
   "cell_type": "code",
   "execution_count": 30,
   "id": "8c375a64-6ab2-46a5-b97c-86ae4487353c",
   "metadata": {
    "tags": []
   },
   "outputs": [],
   "source": [
    "I2 = h * u0.diff(x) + u1*h.diff(x) + 2*(u1*b.diff(x) - w1)"
   ]
  },
  {
   "cell_type": "code",
   "execution_count": 31,
   "id": "89277683-1168-4252-b5ac-7d3a90aa36e5",
   "metadata": {
    "tags": []
   },
   "outputs": [
    {
     "data": {
      "text/plain": [
       "[Derivative(b(x), (x, 2)),\n",
       " Derivative(b(x), x),\n",
       " Derivative(h(x), (x, 2)),\n",
       " Derivative(h(x), x),\n",
       " Derivative(oldu0(x), x),\n",
       " Derivative(p0(x), (x, 2)),\n",
       " Derivative(p0(x), x),\n",
       " Derivative(p1(x), x)]"
      ]
     },
     "execution_count": 31,
     "metadata": {},
     "output_type": "execute_result"
    }
   ],
   "source": [
    "derivs = sorted(I2.atoms(Derivative), key=str)\n",
    "derivs"
   ]
  },
  {
   "cell_type": "code",
   "execution_count": 32,
   "id": "3541aa10-8f55-4f65-90ef-0a29624d6b58",
   "metadata": {
    "tags": []
   },
   "outputs": [],
   "source": [
    "replace_list = [str(d) for d in derivs]\n",
    "subs_list = ['ddbdxx', 'dbdx', 'ddhdxx', 'dhdx', 'doldu0dx', 'ddp0dxx', 'dp0dx', 'dp1dx']"
   ]
  },
  {
   "cell_type": "code",
   "execution_count": 33,
   "id": "dd18e64e-9b43-496e-a7b7-9dfc5b206414",
   "metadata": {
    "tags": []
   },
   "outputs": [
    {
     "data": {
      "text/plain": [
       "'-2*(-dt*(6*p0 - 6*p1) + h*oldw1)/h + 2*(-dt*(-(3*p0 - p1)*dhdx - (6*p0 - 6*p1)*dbdx + h*dp1dx + p1*dhdx) + h*oldu1)*dbdx/h + (-dt*(-(3*p0 - p1)*dhdx - (6*p0 - 6*p1)*dbdx + h*dp1dx + p1*dhdx) + h*oldu1)*dhdx/h + (-(-dt*(h*dp0dx + p0*dhdx + 2*p1*dbdx) + h*oldu0)*dhdx/h**2 + (-dt*(h*ddp0dxx + p0*ddhdxx + 2*p1*ddbdxx + 2*dbdx*dp1dx + 2*dhdx*dp0dx) + h*doldu0dx + oldu0*dhdx)/h)*h'"
      ]
     },
     "execution_count": 33,
     "metadata": {},
     "output_type": "execute_result"
    }
   ],
   "source": [
    "out = replace_multiple(str(I2), replace_list, subs_list)\n",
    "replace_multiple(out, ['(x)'], [''])"
   ]
  }
 ],
 "metadata": {
  "kernelspec": {
   "display_name": "sms",
   "language": "python",
   "name": "python3"
  },
  "language_info": {
   "codemirror_mode": {
    "name": "ipython",
    "version": 3
   },
   "file_extension": ".py",
   "mimetype": "text/x-python",
   "name": "python",
   "nbconvert_exporter": "python",
   "pygments_lexer": "ipython3",
   "version": "3.12.9"
  }
 },
 "nbformat": 4,
 "nbformat_minor": 5
}
