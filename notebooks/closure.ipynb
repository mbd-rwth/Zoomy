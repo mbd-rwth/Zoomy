{
 "cells": [
  {
   "cell_type": "markdown",
   "metadata": {},
   "source": [
    "# Closure-learning"
   ]
  },
  {
   "cell_type": "code",
   "execution_count": 1,
   "metadata": {},
   "outputs": [],
   "source": [
    "import h5py\n",
    "import numpy as np\n",
    "from copy import deepcopy\n",
    "import os\n",
    "\n",
    "from library.misc.io import load_fields_from_hdf5\n",
    "import library.preprocessing.openfoam_moments as openfoam_moments\n",
    "from tests.simulations.test_smm import test_restart_from_openfoam as smm_restart_from_openfoam\n",
    "main_dir = os.getenv(\"SMS\")\n",
    "foam_sim = os.getenv(\"FOAM_SIM\")"
   ]
  },
  {
   "cell_type": "markdown",
   "metadata": {},
   "source": [
    "## Project Openfoam 3d data into moment format"
   ]
  },
  {
   "cell_type": "markdown",
   "metadata": {},
   "source": [
    "Settings:"
   ]
  },
  {
   "cell_type": "code",
   "execution_count": 2,
   "metadata": {},
   "outputs": [],
   "source": [
    "level = 1\n",
    "filepath_openfoam_case = os.path.join(foam_sim, f'multiphase/interFoam/RAS/channelflow_mid/')\n",
    "filepath_target_mesh = os.path.join(os.path.join(main_dir, 'meshes/simple_openfoam/mesh_2d_mid.msh'))\n"
   ]
  },
  {
   "cell_type": "markdown",
   "metadata": {},
   "source": [
    "Project openfoam (3d) to moments:"
   ]
  },
  {
   "cell_type": "code",
   "execution_count": 3,
   "metadata": {},
   "outputs": [
    {
     "name": "stdout",
     "output_type": "stream",
     "text": [
      "[0, 1, 2, 3, 4, 5, 6, 7, 8, 9, 10, 11, 12, 13, 14, 15, 16, 17, 18, 19, 20, 21, 22, 23, 24, 25, 26, 27, 28, 29, 30, 31, 32, 33, 34, 35, 36, 37, 38, 39, 40, 41, 42, 43, 44, 45, 46, 47, 48, 49, 50, 51, 52, 53, 54, 55, 56, 57, 58, 59, 60, 61, 62, 63, 64, 65, 66, 67, 68, 69, 70, 71, 72, 73, 74, 75, 76, 77, 78, 79, 80, 81, 82, 83, 84, 85, 86, 87, 88, 89, 90, 91, 92, 93, 94, 95, 96, 97, 98, 99, 100, 101, 102, 103, 104, 105, 106, 107, 108, 109, 110, 111, 112, 113, 114, 115, 116, 117, 118, 119, 120, 121, 122, 123, 124, 125, 126, 127, 128, 129, 130, 131, 132, 133, 134, 135, 136, 137, 138, 139, 140, 141, 142, 143, 144, 145, 146, 147, 148, 149, 150, 151, 152, 153, 154, 155, 156, 157, 158, 159, 160, 161, 162, 163, 164, 165, 166, 167, 168, 169, 170, 171, 172, 173, 174, 175, 176, 177, 178, 179, 180, 181, 182, 183, 184, 185, 186, 187, 188, 189, 190, 191, 192, 193, 194, 195, 196, 197, 198, 199, 200]\n",
      "\n",
      "Conversion 1/201 completed.\n",
      "Conversion 2/201 completed.\n",
      "Conversion 3/201 completed.\n",
      "Conversion 4/201 completed.\n",
      "Conversion 5/201 completed.\n",
      "Conversion 6/201 completed.\n",
      "Conversion 7/201 completed.\n",
      "Conversion 8/201 completed.\n",
      "Conversion 9/201 completed.\n",
      "Conversion 10/201 completed.\n",
      "Conversion 11/201 completed.\n",
      "Conversion 12/201 completed.\n",
      "Conversion 13/201 completed.\n",
      "Conversion 14/201 completed.\n",
      "Conversion 15/201 completed.\n",
      "Conversion 16/201 completed.\n",
      "Conversion 17/201 completed.\n",
      "Conversion 18/201 completed.\n",
      "Conversion 19/201 completed.\n",
      "Conversion 20/201 completed.\n",
      "Conversion 21/201 completed.\n",
      "Conversion 22/201 completed.\n",
      "Conversion 23/201 completed.\n",
      "Conversion 24/201 completed.\n",
      "Conversion 25/201 completed.\n",
      "Conversion 26/201 completed.\n",
      "Conversion 27/201 completed.\n",
      "Conversion 28/201 completed.\n",
      "Conversion 29/201 completed.\n",
      "Conversion 30/201 completed.\n",
      "Conversion 31/201 completed.\n",
      "Conversion 32/201 completed.\n",
      "Conversion 33/201 completed.\n",
      "Conversion 34/201 completed.\n",
      "Conversion 35/201 completed.\n",
      "Conversion 36/201 completed.\n",
      "Conversion 37/201 completed.\n",
      "Conversion 38/201 completed.\n",
      "Conversion 39/201 completed.\n",
      "Conversion 40/201 completed.\n",
      "Conversion 41/201 completed.\n",
      "Conversion 42/201 completed.\n",
      "Conversion 43/201 completed.\n",
      "Conversion 44/201 completed.\n",
      "Conversion 45/201 completed.\n",
      "Conversion 46/201 completed.\n",
      "Conversion 47/201 completed.\n",
      "Conversion 48/201 completed.\n",
      "Conversion 49/201 completed.\n",
      "Conversion 50/201 completed.\n",
      "Conversion 51/201 completed.\n",
      "Conversion 52/201 completed.\n",
      "Conversion 53/201 completed.\n",
      "Conversion 54/201 completed.\n",
      "Conversion 55/201 completed.\n",
      "Conversion 56/201 completed.\n",
      "Conversion 57/201 completed.\n",
      "Conversion 58/201 completed.\n",
      "Conversion 59/201 completed.\n",
      "Conversion 60/201 completed.\n",
      "Conversion 61/201 completed.\n",
      "Conversion 62/201 completed.\n",
      "Conversion 63/201 completed.\n",
      "Conversion 64/201 completed.\n",
      "Conversion 65/201 completed.\n",
      "Conversion 66/201 completed.\n",
      "Conversion 67/201 completed.\n",
      "Conversion 68/201 completed.\n",
      "Conversion 69/201 completed.\n",
      "Conversion 70/201 completed.\n",
      "Conversion 71/201 completed.\n",
      "Conversion 72/201 completed.\n",
      "Conversion 73/201 completed.\n",
      "Conversion 74/201 completed.\n",
      "Conversion 75/201 completed.\n",
      "Conversion 76/201 completed.\n",
      "Conversion 77/201 completed.\n",
      "Conversion 78/201 completed.\n",
      "Conversion 79/201 completed.\n",
      "Conversion 80/201 completed.\n",
      "Conversion 81/201 completed.\n",
      "Conversion 82/201 completed.\n",
      "Conversion 83/201 completed.\n",
      "Conversion 84/201 completed.\n",
      "Conversion 85/201 completed.\n",
      "Conversion 86/201 completed.\n",
      "Conversion 87/201 completed.\n",
      "Conversion 88/201 completed.\n",
      "Conversion 89/201 completed.\n",
      "Conversion 90/201 completed.\n",
      "Conversion 91/201 completed.\n",
      "Conversion 92/201 completed.\n",
      "Conversion 93/201 completed.\n",
      "Conversion 94/201 completed.\n",
      "Conversion 95/201 completed.\n",
      "Conversion 96/201 completed.\n",
      "Conversion 97/201 completed.\n",
      "Conversion 98/201 completed.\n",
      "Conversion 99/201 completed.\n",
      "Conversion 100/201 completed.\n",
      "Conversion 101/201 completed.\n",
      "Conversion 102/201 completed.\n",
      "Conversion 103/201 completed.\n",
      "Conversion 104/201 completed.\n",
      "Conversion 105/201 completed.\n",
      "Conversion 106/201 completed.\n",
      "Conversion 107/201 completed.\n",
      "Conversion 108/201 completed.\n",
      "Conversion 109/201 completed.\n",
      "Conversion 110/201 completed.\n",
      "Conversion 111/201 completed.\n",
      "Conversion 112/201 completed.\n",
      "Conversion 113/201 completed.\n",
      "Conversion 114/201 completed.\n",
      "Conversion 115/201 completed.\n",
      "Conversion 116/201 completed.\n",
      "Conversion 117/201 completed.\n",
      "Conversion 118/201 completed.\n",
      "Conversion 119/201 completed.\n",
      "Conversion 120/201 completed.\n",
      "Conversion 121/201 completed.\n",
      "Conversion 122/201 completed.\n",
      "Conversion 123/201 completed.\n",
      "Conversion 124/201 completed.\n",
      "Conversion 125/201 completed.\n",
      "Conversion 126/201 completed.\n",
      "Conversion 127/201 completed.\n",
      "Conversion 128/201 completed.\n",
      "Conversion 129/201 completed.\n",
      "Conversion 130/201 completed.\n",
      "Conversion 131/201 completed.\n",
      "Conversion 132/201 completed.\n",
      "Conversion 133/201 completed.\n",
      "Conversion 134/201 completed.\n",
      "Conversion 135/201 completed.\n",
      "Conversion 136/201 completed.\n",
      "Conversion 137/201 completed.\n",
      "Conversion 138/201 completed.\n",
      "Conversion 139/201 completed.\n",
      "Conversion 140/201 completed.\n",
      "Conversion 141/201 completed.\n",
      "Conversion 142/201 completed.\n",
      "Conversion 143/201 completed.\n",
      "Conversion 144/201 completed.\n",
      "Conversion 145/201 completed.\n",
      "Conversion 146/201 completed.\n",
      "Conversion 147/201 completed.\n",
      "Conversion 148/201 completed.\n",
      "Conversion 149/201 completed.\n",
      "Conversion 150/201 completed.\n",
      "Conversion 151/201 completed.\n",
      "Conversion 152/201 completed.\n",
      "Conversion 153/201 completed.\n",
      "Conversion 154/201 completed.\n",
      "Conversion 155/201 completed.\n",
      "Conversion 156/201 completed.\n",
      "Conversion 157/201 completed.\n",
      "Conversion 158/201 completed.\n",
      "Conversion 159/201 completed.\n",
      "Conversion 160/201 completed.\n",
      "Conversion 161/201 completed.\n",
      "Conversion 162/201 completed.\n",
      "Conversion 163/201 completed.\n",
      "Conversion 164/201 completed.\n",
      "Conversion 165/201 completed.\n",
      "Conversion 166/201 completed.\n",
      "Conversion 167/201 completed.\n",
      "Conversion 168/201 completed.\n",
      "Conversion 169/201 completed.\n",
      "Conversion 170/201 completed.\n",
      "Conversion 171/201 completed.\n",
      "Conversion 172/201 completed.\n",
      "Conversion 173/201 completed.\n",
      "Conversion 174/201 completed.\n",
      "Conversion 175/201 completed.\n",
      "Conversion 176/201 completed.\n",
      "Conversion 177/201 completed.\n",
      "Conversion 178/201 completed.\n",
      "Conversion 179/201 completed.\n",
      "Conversion 180/201 completed.\n",
      "Conversion 181/201 completed.\n",
      "Conversion 182/201 completed.\n",
      "Conversion 183/201 completed.\n",
      "Conversion 184/201 completed.\n",
      "Conversion 185/201 completed.\n",
      "Conversion 186/201 completed.\n",
      "Conversion 187/201 completed.\n",
      "Conversion 188/201 completed.\n",
      "Conversion 189/201 completed.\n",
      "Conversion 190/201 completed.\n",
      "Conversion 191/201 completed.\n",
      "Conversion 192/201 completed.\n",
      "Conversion 193/201 completed.\n",
      "Conversion 194/201 completed.\n",
      "Conversion 195/201 completed.\n",
      "Conversion 196/201 completed.\n",
      "Conversion 197/201 completed.\n",
      "Conversion 198/201 completed.\n",
      "Conversion 199/201 completed.\n",
      "Conversion 200/201 completed.\n",
      "Conversion 201/201 completed.\n"
     ]
    }
   ],
   "source": [
    "openfoam_moments.convert_openfoam_to_moments(filepath_openfoam_case, level, filepath_target_mesh, meshtype_order='triangle')"
   ]
  },
  {
   "cell_type": "markdown",
   "metadata": {},
   "source": [
    "Generate training dataset"
   ]
  },
  {
   "cell_type": "code",
   "execution_count": 17,
   "metadata": {},
   "outputs": [
    {
     "name": "stdout",
     "output_type": "stream",
     "text": [
      "number of available cpus: 8\n",
      "rm -f *.gch *.o *.dat \n",
      "rm -rf /home/ingo/Git/SMM/shallow-moments-simulation/bin\n",
      "make command : make DIMENSION=2 N_BOUNDARY_CONDITIONS=4 N_ELEMENTS=1210 N_FIELDS=5 N_FIELDS_AUX=0 PATH_SETTINGS=/home/ingo/Git/SMM/shallow-moments-simulation/outputs/output_c/settings.hdf5 PATH_MESH=/home/ingo/Git/SMM/shallow-moments-simulation/outputs/output_c/mesh.hdf5 PATH_FIELDS=/home/ingo/Git/SMM/shallow-moments-simulation/outputs/output_c/fields.hdf5 TIMESTEPPER=Adaptive TIMESTEPPER_PARAM=0.45 ODE_FLUX=1 ODE_SOURCE=-1\n",
      "-e \u001b[92mBuilding for CPU...\u001b[0m\n",
      "make[1]: Entering directory '/home/ingo/Git/SMM/shallow-moments-simulation/library/solver'\n",
      "`which mpic++` -I./ -I/home/ingo/Git/SMM/shallow-moments-simulation/dependencies/kokkos/core/src -I/home/ingo/Git/SMM/shallow-moments-simulation/dependencies/kokkos/containers/src -I/home/ingo/Git/SMM/shallow-moments-simulation/dependencies/kokkos/algorithms/src -I/home/ingo/Git/SMM/shallow-moments-simulation/dependencies/kokkos/tpls/desul/include -std=c++14 -fopenmp -I./ -I/home/ingo/Git/SMM/shallow-moments-simulation/dependencies/kokkos/core/src -I/home/ingo/Git/SMM/shallow-moments-simulation/dependencies/kokkos/containers/src -I/home/ingo/Git/SMM/shallow-moments-simulation/dependencies/kokkos/algorithms/src -I/home/ingo/Git/SMM/shallow-moments-simulation/dependencies/kokkos/tpls/desul/include -I/home/ingo/Git/SMM/shallow-moments-simulation/dependencies/pnetcdf/src/include -I/home/ingo/Git/SMM/shallow-moments-simulation/dependencies/petsc/build_arch/include -I/home/ingo/Git/SMM/shallow-moments-simulation/dependencies/petsc/include -I/home/ingo/Git/SMM/shallow-moments-simulation/dependencies/hdf5/hdf5/include -DDIMENSION=2 -DN_BOUNDARY_CONDITIONS=4 -DN_ELEMENTS=1210 -DN_FIELDS=5 -DN_FIELDS_AUX=0 -DPATH_SETTINGS=\\\"/home/ingo/Git/SMM/shallow-moments-simulation/outputs/output_c/settings.hdf5\\\" -DPATH_MESH=\\\"/home/ingo/Git/SMM/shallow-moments-simulation/outputs/output_c/mesh.hdf5\\\" -DPATH_FIELDS=\\\"/home/ingo/Git/SMM/shallow-moments-simulation/outputs/output_c/fields.hdf5\\\" -DTIMESTEPPER=\\\"Adaptive\\\" -DTIMESTEPPER_PARAM=0.45 -DODE_FLUX=1 -DODE_SOURCE=-1 -DKOKKOS_ENABLE_CXX17 -DKOKKOS_CXX_STANDARD=c++17 -std=c++17  -g -DVOLKOS_GIT_VERSION=\\\"v0.1-163-g8f051cd\\\"  -c driver.cpp -o /home/ingo/Git/SMM/shallow-moments-simulation/bin/driver.o\n",
      "`which mpic++` -I/home/ingo/Git/SMM/shallow-moments-simulation/dependencies/pnetcdf/src/include -I/home/ingo/Git/SMM/shallow-moments-simulation/dependencies/petsc/build_arch/include -I/home/ingo/Git/SMM/shallow-moments-simulation/dependencies/petsc/include -I/home/ingo/Git/SMM/shallow-moments-simulation/dependencies/hdf5/hdf5/include -DDIMENSION=2 -DN_BOUNDARY_CONDITIONS=4 -DN_ELEMENTS=1210 -DN_FIELDS=5 -DN_FIELDS_AUX=0 -DPATH_SETTINGS=\\\"/home/ingo/Git/SMM/shallow-moments-simulation/outputs/output_c/settings.hdf5\\\" -DPATH_MESH=\\\"/home/ingo/Git/SMM/shallow-moments-simulation/outputs/output_c/mesh.hdf5\\\" -DPATH_FIELDS=\\\"/home/ingo/Git/SMM/shallow-moments-simulation/outputs/output_c/fields.hdf5\\\" -DTIMESTEPPER=\\\"Adaptive\\\" -DTIMESTEPPER_PARAM=0.45 -DODE_FLUX=1 -DODE_SOURCE=-1 -DKOKKOS_ENABLE_CXX17 -DKOKKOS_CXX_STANDARD=c++17 -std=c++17  -g -DVOLKOS_GIT_VERSION=\\\"v0.1-163-g8f051cd\\\"  -c /home/ingo/Git/SMM/shallow-moments-simulation/outputs/output_c/c_interface/Model/model_code.cpp -o model_code.o\n",
      "`which mpic++` -I/home/ingo/Git/SMM/shallow-moments-simulation/dependencies/pnetcdf/src/include -I/home/ingo/Git/SMM/shallow-moments-simulation/dependencies/petsc/build_arch/include -I/home/ingo/Git/SMM/shallow-moments-simulation/dependencies/petsc/include -I/home/ingo/Git/SMM/shallow-moments-simulation/dependencies/hdf5/hdf5/include -DDIMENSION=2 -DN_BOUNDARY_CONDITIONS=4 -DN_ELEMENTS=1210 -DN_FIELDS=5 -DN_FIELDS_AUX=0 -DPATH_SETTINGS=\\\"/home/ingo/Git/SMM/shallow-moments-simulation/outputs/output_c/settings.hdf5\\\" -DPATH_MESH=\\\"/home/ingo/Git/SMM/shallow-moments-simulation/outputs/output_c/mesh.hdf5\\\" -DPATH_FIELDS=\\\"/home/ingo/Git/SMM/shallow-moments-simulation/outputs/output_c/fields.hdf5\\\" -DTIMESTEPPER=\\\"Adaptive\\\" -DTIMESTEPPER_PARAM=0.45 -DODE_FLUX=1 -DODE_SOURCE=-1 -DKOKKOS_ENABLE_CXX17 -DKOKKOS_CXX_STANDARD=c++17 -std=c++17  -g -DVOLKOS_GIT_VERSION=\\\"v0.1-163-g8f051cd\\\"  -c /home/ingo/Git/SMM/shallow-moments-simulation/outputs/output_c/c_interface/Model/boundary_conditions_code.cpp -o boundary_conditions_code.o\n",
      "`which mpic++` -I./ -I/home/ingo/Git/SMM/shallow-moments-simulation/dependencies/kokkos/core/src -I/home/ingo/Git/SMM/shallow-moments-simulation/dependencies/kokkos/containers/src -I/home/ingo/Git/SMM/shallow-moments-simulation/dependencies/kokkos/algorithms/src -I/home/ingo/Git/SMM/shallow-moments-simulation/dependencies/kokkos/tpls/desul/include -std=c++14 -fopenmp -I./ -I/home/ingo/Git/SMM/shallow-moments-simulation/dependencies/kokkos/core/src -I/home/ingo/Git/SMM/shallow-moments-simulation/dependencies/kokkos/containers/src -I/home/ingo/Git/SMM/shallow-moments-simulation/dependencies/kokkos/algorithms/src -I/home/ingo/Git/SMM/shallow-moments-simulation/dependencies/kokkos/tpls/desul/include -I/home/ingo/Git/SMM/shallow-moments-simulation/dependencies/pnetcdf/src/include -I/home/ingo/Git/SMM/shallow-moments-simulation/dependencies/petsc/build_arch/include -I/home/ingo/Git/SMM/shallow-moments-simulation/dependencies/petsc/include -I/home/ingo/Git/SMM/shallow-moments-simulation/dependencies/hdf5/hdf5/include -DDIMENSION=2 -DN_BOUNDARY_CONDITIONS=4 -DN_ELEMENTS=1210 -DN_FIELDS=5 -DN_FIELDS_AUX=0 -DPATH_SETTINGS=\\\"/home/ingo/Git/SMM/shallow-moments-simulation/outputs/output_c/settings.hdf5\\\" -DPATH_MESH=\\\"/home/ingo/Git/SMM/shallow-moments-simulation/outputs/output_c/mesh.hdf5\\\" -DPATH_FIELDS=\\\"/home/ingo/Git/SMM/shallow-moments-simulation/outputs/output_c/fields.hdf5\\\" -DTIMESTEPPER=\\\"Adaptive\\\" -DTIMESTEPPER_PARAM=0.45 -DODE_FLUX=1 -DODE_SOURCE=-1 -DKOKKOS_ENABLE_CXX17 -DKOKKOS_CXX_STANDARD=c++17 -std=c++17  -g -DVOLKOS_GIT_VERSION=\\\"v0.1-163-g8f051cd\\\" -c /home/ingo/Git/SMM/shallow-moments-simulation/dependencies/kokkos/core/src/impl/Kokkos_Command_Line_Parsing.cpp\n",
      "`which mpic++` -I./ -I/home/ingo/Git/SMM/shallow-moments-simulation/dependencies/kokkos/core/src -I/home/ingo/Git/SMM/shallow-moments-simulation/dependencies/kokkos/containers/src -I/home/ingo/Git/SMM/shallow-moments-simulation/dependencies/kokkos/algorithms/src -I/home/ingo/Git/SMM/shallow-moments-simulation/dependencies/kokkos/tpls/desul/include -std=c++14 -fopenmp -I./ -I/home/ingo/Git/SMM/shallow-moments-simulation/dependencies/kokkos/core/src -I/home/ingo/Git/SMM/shallow-moments-simulation/dependencies/kokkos/containers/src -I/home/ingo/Git/SMM/shallow-moments-simulation/dependencies/kokkos/algorithms/src -I/home/ingo/Git/SMM/shallow-moments-simulation/dependencies/kokkos/tpls/desul/include -I/home/ingo/Git/SMM/shallow-moments-simulation/dependencies/pnetcdf/src/include -I/home/ingo/Git/SMM/shallow-moments-simulation/dependencies/petsc/build_arch/include -I/home/ingo/Git/SMM/shallow-moments-simulation/dependencies/petsc/include -I/home/ingo/Git/SMM/shallow-moments-simulation/dependencies/hdf5/hdf5/include -DDIMENSION=2 -DN_BOUNDARY_CONDITIONS=4 -DN_ELEMENTS=1210 -DN_FIELDS=5 -DN_FIELDS_AUX=0 -DPATH_SETTINGS=\\\"/home/ingo/Git/SMM/shallow-moments-simulation/outputs/output_c/settings.hdf5\\\" -DPATH_MESH=\\\"/home/ingo/Git/SMM/shallow-moments-simulation/outputs/output_c/mesh.hdf5\\\" -DPATH_FIELDS=\\\"/home/ingo/Git/SMM/shallow-moments-simulation/outputs/output_c/fields.hdf5\\\" -DTIMESTEPPER=\\\"Adaptive\\\" -DTIMESTEPPER_PARAM=0.45 -DODE_FLUX=1 -DODE_SOURCE=-1 -DKOKKOS_ENABLE_CXX17 -DKOKKOS_CXX_STANDARD=c++17 -std=c++17  -g -DVOLKOS_GIT_VERSION=\\\"v0.1-163-g8f051cd\\\" -c /home/ingo/Git/SMM/shallow-moments-simulation/dependencies/kokkos/core/src/impl/Kokkos_Core.cpp\n",
      "`which mpic++` -I./ -I/home/ingo/Git/SMM/shallow-moments-simulation/dependencies/kokkos/core/src -I/home/ingo/Git/SMM/shallow-moments-simulation/dependencies/kokkos/containers/src -I/home/ingo/Git/SMM/shallow-moments-simulation/dependencies/kokkos/algorithms/src -I/home/ingo/Git/SMM/shallow-moments-simulation/dependencies/kokkos/tpls/desul/include -std=c++14 -fopenmp -I./ -I/home/ingo/Git/SMM/shallow-moments-simulation/dependencies/kokkos/core/src -I/home/ingo/Git/SMM/shallow-moments-simulation/dependencies/kokkos/containers/src -I/home/ingo/Git/SMM/shallow-moments-simulation/dependencies/kokkos/algorithms/src -I/home/ingo/Git/SMM/shallow-moments-simulation/dependencies/kokkos/tpls/desul/include -I/home/ingo/Git/SMM/shallow-moments-simulation/dependencies/pnetcdf/src/include -I/home/ingo/Git/SMM/shallow-moments-simulation/dependencies/petsc/build_arch/include -I/home/ingo/Git/SMM/shallow-moments-simulation/dependencies/petsc/include -I/home/ingo/Git/SMM/shallow-moments-simulation/dependencies/hdf5/hdf5/include -DDIMENSION=2 -DN_BOUNDARY_CONDITIONS=4 -DN_ELEMENTS=1210 -DN_FIELDS=5 -DN_FIELDS_AUX=0 -DPATH_SETTINGS=\\\"/home/ingo/Git/SMM/shallow-moments-simulation/outputs/output_c/settings.hdf5\\\" -DPATH_MESH=\\\"/home/ingo/Git/SMM/shallow-moments-simulation/outputs/output_c/mesh.hdf5\\\" -DPATH_FIELDS=\\\"/home/ingo/Git/SMM/shallow-moments-simulation/outputs/output_c/fields.hdf5\\\" -DTIMESTEPPER=\\\"Adaptive\\\" -DTIMESTEPPER_PARAM=0.45 -DODE_FLUX=1 -DODE_SOURCE=-1 -DKOKKOS_ENABLE_CXX17 -DKOKKOS_CXX_STANDARD=c++17 -std=c++17  -g -DVOLKOS_GIT_VERSION=\\\"v0.1-163-g8f051cd\\\" -c /home/ingo/Git/SMM/shallow-moments-simulation/dependencies/kokkos/core/src/impl/Kokkos_CPUDiscovery.cpp\n",
      "`which mpic++` -I./ -I/home/ingo/Git/SMM/shallow-moments-simulation/dependencies/kokkos/core/src -I/home/ingo/Git/SMM/shallow-moments-simulation/dependencies/kokkos/containers/src -I/home/ingo/Git/SMM/shallow-moments-simulation/dependencies/kokkos/algorithms/src -I/home/ingo/Git/SMM/shallow-moments-simulation/dependencies/kokkos/tpls/desul/include -std=c++14 -fopenmp -I./ -I/home/ingo/Git/SMM/shallow-moments-simulation/dependencies/kokkos/core/src -I/home/ingo/Git/SMM/shallow-moments-simulation/dependencies/kokkos/containers/src -I/home/ingo/Git/SMM/shallow-moments-simulation/dependencies/kokkos/algorithms/src -I/home/ingo/Git/SMM/shallow-moments-simulation/dependencies/kokkos/tpls/desul/include -I/home/ingo/Git/SMM/shallow-moments-simulation/dependencies/pnetcdf/src/include -I/home/ingo/Git/SMM/shallow-moments-simulation/dependencies/petsc/build_arch/include -I/home/ingo/Git/SMM/shallow-moments-simulation/dependencies/petsc/include -I/home/ingo/Git/SMM/shallow-moments-simulation/dependencies/hdf5/hdf5/include -DDIMENSION=2 -DN_BOUNDARY_CONDITIONS=4 -DN_ELEMENTS=1210 -DN_FIELDS=5 -DN_FIELDS_AUX=0 -DPATH_SETTINGS=\\\"/home/ingo/Git/SMM/shallow-moments-simulation/outputs/output_c/settings.hdf5\\\" -DPATH_MESH=\\\"/home/ingo/Git/SMM/shallow-moments-simulation/outputs/output_c/mesh.hdf5\\\" -DPATH_FIELDS=\\\"/home/ingo/Git/SMM/shallow-moments-simulation/outputs/output_c/fields.hdf5\\\" -DTIMESTEPPER=\\\"Adaptive\\\" -DTIMESTEPPER_PARAM=0.45 -DODE_FLUX=1 -DODE_SOURCE=-1 -DKOKKOS_ENABLE_CXX17 -DKOKKOS_CXX_STANDARD=c++17 -std=c++17  -g -DVOLKOS_GIT_VERSION=\\\"v0.1-163-g8f051cd\\\" -c /home/ingo/Git/SMM/shallow-moments-simulation/dependencies/kokkos/core/src/impl/Kokkos_Error.cpp\n",
      "`which mpic++` -I./ -I/home/ingo/Git/SMM/shallow-moments-simulation/dependencies/kokkos/core/src -I/home/ingo/Git/SMM/shallow-moments-simulation/dependencies/kokkos/containers/src -I/home/ingo/Git/SMM/shallow-moments-simulation/dependencies/kokkos/algorithms/src -I/home/ingo/Git/SMM/shallow-moments-simulation/dependencies/kokkos/tpls/desul/include -std=c++14 -fopenmp -I./ -I/home/ingo/Git/SMM/shallow-moments-simulation/dependencies/kokkos/core/src -I/home/ingo/Git/SMM/shallow-moments-simulation/dependencies/kokkos/containers/src -I/home/ingo/Git/SMM/shallow-moments-simulation/dependencies/kokkos/algorithms/src -I/home/ingo/Git/SMM/shallow-moments-simulation/dependencies/kokkos/tpls/desul/include -I/home/ingo/Git/SMM/shallow-moments-simulation/dependencies/pnetcdf/src/include -I/home/ingo/Git/SMM/shallow-moments-simulation/dependencies/petsc/build_arch/include -I/home/ingo/Git/SMM/shallow-moments-simulation/dependencies/petsc/include -I/home/ingo/Git/SMM/shallow-moments-simulation/dependencies/hdf5/hdf5/include -DDIMENSION=2 -DN_BOUNDARY_CONDITIONS=4 -DN_ELEMENTS=1210 -DN_FIELDS=5 -DN_FIELDS_AUX=0 -DPATH_SETTINGS=\\\"/home/ingo/Git/SMM/shallow-moments-simulation/outputs/output_c/settings.hdf5\\\" -DPATH_MESH=\\\"/home/ingo/Git/SMM/shallow-moments-simulation/outputs/output_c/mesh.hdf5\\\" -DPATH_FIELDS=\\\"/home/ingo/Git/SMM/shallow-moments-simulation/outputs/output_c/fields.hdf5\\\" -DTIMESTEPPER=\\\"Adaptive\\\" -DTIMESTEPPER_PARAM=0.45 -DODE_FLUX=1 -DODE_SOURCE=-1 -DKOKKOS_ENABLE_CXX17 -DKOKKOS_CXX_STANDARD=c++17 -std=c++17  -g -DVOLKOS_GIT_VERSION=\\\"v0.1-163-g8f051cd\\\" -c /home/ingo/Git/SMM/shallow-moments-simulation/dependencies/kokkos/core/src/impl/Kokkos_ExecPolicy.cpp\n",
      "`which mpic++` -I./ -I/home/ingo/Git/SMM/shallow-moments-simulation/dependencies/kokkos/core/src -I/home/ingo/Git/SMM/shallow-moments-simulation/dependencies/kokkos/containers/src -I/home/ingo/Git/SMM/shallow-moments-simulation/dependencies/kokkos/algorithms/src -I/home/ingo/Git/SMM/shallow-moments-simulation/dependencies/kokkos/tpls/desul/include -std=c++14 -fopenmp -I./ -I/home/ingo/Git/SMM/shallow-moments-simulation/dependencies/kokkos/core/src -I/home/ingo/Git/SMM/shallow-moments-simulation/dependencies/kokkos/containers/src -I/home/ingo/Git/SMM/shallow-moments-simulation/dependencies/kokkos/algorithms/src -I/home/ingo/Git/SMM/shallow-moments-simulation/dependencies/kokkos/tpls/desul/include -I/home/ingo/Git/SMM/shallow-moments-simulation/dependencies/pnetcdf/src/include -I/home/ingo/Git/SMM/shallow-moments-simulation/dependencies/petsc/build_arch/include -I/home/ingo/Git/SMM/shallow-moments-simulation/dependencies/petsc/include -I/home/ingo/Git/SMM/shallow-moments-simulation/dependencies/hdf5/hdf5/include -DDIMENSION=2 -DN_BOUNDARY_CONDITIONS=4 -DN_ELEMENTS=1210 -DN_FIELDS=5 -DN_FIELDS_AUX=0 -DPATH_SETTINGS=\\\"/home/ingo/Git/SMM/shallow-moments-simulation/outputs/output_c/settings.hdf5\\\" -DPATH_MESH=\\\"/home/ingo/Git/SMM/shallow-moments-simulation/outputs/output_c/mesh.hdf5\\\" -DPATH_FIELDS=\\\"/home/ingo/Git/SMM/shallow-moments-simulation/outputs/output_c/fields.hdf5\\\" -DTIMESTEPPER=\\\"Adaptive\\\" -DTIMESTEPPER_PARAM=0.45 -DODE_FLUX=1 -DODE_SOURCE=-1 -DKOKKOS_ENABLE_CXX17 -DKOKKOS_CXX_STANDARD=c++17 -std=c++17  -g -DVOLKOS_GIT_VERSION=\\\"v0.1-163-g8f051cd\\\" -c /home/ingo/Git/SMM/shallow-moments-simulation/dependencies/kokkos/core/src/impl/Kokkos_HostBarrier.cpp\n",
      "`which mpic++` -I./ -I/home/ingo/Git/SMM/shallow-moments-simulation/dependencies/kokkos/core/src -I/home/ingo/Git/SMM/shallow-moments-simulation/dependencies/kokkos/containers/src -I/home/ingo/Git/SMM/shallow-moments-simulation/dependencies/kokkos/algorithms/src -I/home/ingo/Git/SMM/shallow-moments-simulation/dependencies/kokkos/tpls/desul/include -std=c++14 -fopenmp -I./ -I/home/ingo/Git/SMM/shallow-moments-simulation/dependencies/kokkos/core/src -I/home/ingo/Git/SMM/shallow-moments-simulation/dependencies/kokkos/containers/src -I/home/ingo/Git/SMM/shallow-moments-simulation/dependencies/kokkos/algorithms/src -I/home/ingo/Git/SMM/shallow-moments-simulation/dependencies/kokkos/tpls/desul/include -I/home/ingo/Git/SMM/shallow-moments-simulation/dependencies/pnetcdf/src/include -I/home/ingo/Git/SMM/shallow-moments-simulation/dependencies/petsc/build_arch/include -I/home/ingo/Git/SMM/shallow-moments-simulation/dependencies/petsc/include -I/home/ingo/Git/SMM/shallow-moments-simulation/dependencies/hdf5/hdf5/include -DDIMENSION=2 -DN_BOUNDARY_CONDITIONS=4 -DN_ELEMENTS=1210 -DN_FIELDS=5 -DN_FIELDS_AUX=0 -DPATH_SETTINGS=\\\"/home/ingo/Git/SMM/shallow-moments-simulation/outputs/output_c/settings.hdf5\\\" -DPATH_MESH=\\\"/home/ingo/Git/SMM/shallow-moments-simulation/outputs/output_c/mesh.hdf5\\\" -DPATH_FIELDS=\\\"/home/ingo/Git/SMM/shallow-moments-simulation/outputs/output_c/fields.hdf5\\\" -DTIMESTEPPER=\\\"Adaptive\\\" -DTIMESTEPPER_PARAM=0.45 -DODE_FLUX=1 -DODE_SOURCE=-1 -DKOKKOS_ENABLE_CXX17 -DKOKKOS_CXX_STANDARD=c++17 -std=c++17  -g -DVOLKOS_GIT_VERSION=\\\"v0.1-163-g8f051cd\\\" -c /home/ingo/Git/SMM/shallow-moments-simulation/dependencies/kokkos/core/src/impl/Kokkos_HostSpace.cpp\n",
      "`which mpic++` -I./ -I/home/ingo/Git/SMM/shallow-moments-simulation/dependencies/kokkos/core/src -I/home/ingo/Git/SMM/shallow-moments-simulation/dependencies/kokkos/containers/src -I/home/ingo/Git/SMM/shallow-moments-simulation/dependencies/kokkos/algorithms/src -I/home/ingo/Git/SMM/shallow-moments-simulation/dependencies/kokkos/tpls/desul/include -std=c++14 -fopenmp -I./ -I/home/ingo/Git/SMM/shallow-moments-simulation/dependencies/kokkos/core/src -I/home/ingo/Git/SMM/shallow-moments-simulation/dependencies/kokkos/containers/src -I/home/ingo/Git/SMM/shallow-moments-simulation/dependencies/kokkos/algorithms/src -I/home/ingo/Git/SMM/shallow-moments-simulation/dependencies/kokkos/tpls/desul/include -I/home/ingo/Git/SMM/shallow-moments-simulation/dependencies/pnetcdf/src/include -I/home/ingo/Git/SMM/shallow-moments-simulation/dependencies/petsc/build_arch/include -I/home/ingo/Git/SMM/shallow-moments-simulation/dependencies/petsc/include -I/home/ingo/Git/SMM/shallow-moments-simulation/dependencies/hdf5/hdf5/include -DDIMENSION=2 -DN_BOUNDARY_CONDITIONS=4 -DN_ELEMENTS=1210 -DN_FIELDS=5 -DN_FIELDS_AUX=0 -DPATH_SETTINGS=\\\"/home/ingo/Git/SMM/shallow-moments-simulation/outputs/output_c/settings.hdf5\\\" -DPATH_MESH=\\\"/home/ingo/Git/SMM/shallow-moments-simulation/outputs/output_c/mesh.hdf5\\\" -DPATH_FIELDS=\\\"/home/ingo/Git/SMM/shallow-moments-simulation/outputs/output_c/fields.hdf5\\\" -DTIMESTEPPER=\\\"Adaptive\\\" -DTIMESTEPPER_PARAM=0.45 -DODE_FLUX=1 -DODE_SOURCE=-1 -DKOKKOS_ENABLE_CXX17 -DKOKKOS_CXX_STANDARD=c++17 -std=c++17  -g -DVOLKOS_GIT_VERSION=\\\"v0.1-163-g8f051cd\\\" -c /home/ingo/Git/SMM/shallow-moments-simulation/dependencies/kokkos/core/src/impl/Kokkos_HostSpace_deepcopy.cpp\n",
      "`which mpic++` -I./ -I/home/ingo/Git/SMM/shallow-moments-simulation/dependencies/kokkos/core/src -I/home/ingo/Git/SMM/shallow-moments-simulation/dependencies/kokkos/containers/src -I/home/ingo/Git/SMM/shallow-moments-simulation/dependencies/kokkos/algorithms/src -I/home/ingo/Git/SMM/shallow-moments-simulation/dependencies/kokkos/tpls/desul/include -std=c++14 -fopenmp -I./ -I/home/ingo/Git/SMM/shallow-moments-simulation/dependencies/kokkos/core/src -I/home/ingo/Git/SMM/shallow-moments-simulation/dependencies/kokkos/containers/src -I/home/ingo/Git/SMM/shallow-moments-simulation/dependencies/kokkos/algorithms/src -I/home/ingo/Git/SMM/shallow-moments-simulation/dependencies/kokkos/tpls/desul/include -I/home/ingo/Git/SMM/shallow-moments-simulation/dependencies/pnetcdf/src/include -I/home/ingo/Git/SMM/shallow-moments-simulation/dependencies/petsc/build_arch/include -I/home/ingo/Git/SMM/shallow-moments-simulation/dependencies/petsc/include -I/home/ingo/Git/SMM/shallow-moments-simulation/dependencies/hdf5/hdf5/include -DDIMENSION=2 -DN_BOUNDARY_CONDITIONS=4 -DN_ELEMENTS=1210 -DN_FIELDS=5 -DN_FIELDS_AUX=0 -DPATH_SETTINGS=\\\"/home/ingo/Git/SMM/shallow-moments-simulation/outputs/output_c/settings.hdf5\\\" -DPATH_MESH=\\\"/home/ingo/Git/SMM/shallow-moments-simulation/outputs/output_c/mesh.hdf5\\\" -DPATH_FIELDS=\\\"/home/ingo/Git/SMM/shallow-moments-simulation/outputs/output_c/fields.hdf5\\\" -DTIMESTEPPER=\\\"Adaptive\\\" -DTIMESTEPPER_PARAM=0.45 -DODE_FLUX=1 -DODE_SOURCE=-1 -DKOKKOS_ENABLE_CXX17 -DKOKKOS_CXX_STANDARD=c++17 -std=c++17  -g -DVOLKOS_GIT_VERSION=\\\"v0.1-163-g8f051cd\\\" -c /home/ingo/Git/SMM/shallow-moments-simulation/dependencies/kokkos/core/src/impl/Kokkos_HostThreadTeam.cpp\n",
      "`which mpic++` -I./ -I/home/ingo/Git/SMM/shallow-moments-simulation/dependencies/kokkos/core/src -I/home/ingo/Git/SMM/shallow-moments-simulation/dependencies/kokkos/containers/src -I/home/ingo/Git/SMM/shallow-moments-simulation/dependencies/kokkos/algorithms/src -I/home/ingo/Git/SMM/shallow-moments-simulation/dependencies/kokkos/tpls/desul/include -std=c++14 -fopenmp -I./ -I/home/ingo/Git/SMM/shallow-moments-simulation/dependencies/kokkos/core/src -I/home/ingo/Git/SMM/shallow-moments-simulation/dependencies/kokkos/containers/src -I/home/ingo/Git/SMM/shallow-moments-simulation/dependencies/kokkos/algorithms/src -I/home/ingo/Git/SMM/shallow-moments-simulation/dependencies/kokkos/tpls/desul/include -I/home/ingo/Git/SMM/shallow-moments-simulation/dependencies/pnetcdf/src/include -I/home/ingo/Git/SMM/shallow-moments-simulation/dependencies/petsc/build_arch/include -I/home/ingo/Git/SMM/shallow-moments-simulation/dependencies/petsc/include -I/home/ingo/Git/SMM/shallow-moments-simulation/dependencies/hdf5/hdf5/include -DDIMENSION=2 -DN_BOUNDARY_CONDITIONS=4 -DN_ELEMENTS=1210 -DN_FIELDS=5 -DN_FIELDS_AUX=0 -DPATH_SETTINGS=\\\"/home/ingo/Git/SMM/shallow-moments-simulation/outputs/output_c/settings.hdf5\\\" -DPATH_MESH=\\\"/home/ingo/Git/SMM/shallow-moments-simulation/outputs/output_c/mesh.hdf5\\\" -DPATH_FIELDS=\\\"/home/ingo/Git/SMM/shallow-moments-simulation/outputs/output_c/fields.hdf5\\\" -DTIMESTEPPER=\\\"Adaptive\\\" -DTIMESTEPPER_PARAM=0.45 -DODE_FLUX=1 -DODE_SOURCE=-1 -DKOKKOS_ENABLE_CXX17 -DKOKKOS_CXX_STANDARD=c++17 -std=c++17  -g -DVOLKOS_GIT_VERSION=\\\"v0.1-163-g8f051cd\\\" -c /home/ingo/Git/SMM/shallow-moments-simulation/dependencies/kokkos/core/src/impl/Kokkos_hwloc.cpp\n",
      "`which mpic++` -I./ -I/home/ingo/Git/SMM/shallow-moments-simulation/dependencies/kokkos/core/src -I/home/ingo/Git/SMM/shallow-moments-simulation/dependencies/kokkos/containers/src -I/home/ingo/Git/SMM/shallow-moments-simulation/dependencies/kokkos/algorithms/src -I/home/ingo/Git/SMM/shallow-moments-simulation/dependencies/kokkos/tpls/desul/include -std=c++14 -fopenmp -I./ -I/home/ingo/Git/SMM/shallow-moments-simulation/dependencies/kokkos/core/src -I/home/ingo/Git/SMM/shallow-moments-simulation/dependencies/kokkos/containers/src -I/home/ingo/Git/SMM/shallow-moments-simulation/dependencies/kokkos/algorithms/src -I/home/ingo/Git/SMM/shallow-moments-simulation/dependencies/kokkos/tpls/desul/include -I/home/ingo/Git/SMM/shallow-moments-simulation/dependencies/pnetcdf/src/include -I/home/ingo/Git/SMM/shallow-moments-simulation/dependencies/petsc/build_arch/include -I/home/ingo/Git/SMM/shallow-moments-simulation/dependencies/petsc/include -I/home/ingo/Git/SMM/shallow-moments-simulation/dependencies/hdf5/hdf5/include -DDIMENSION=2 -DN_BOUNDARY_CONDITIONS=4 -DN_ELEMENTS=1210 -DN_FIELDS=5 -DN_FIELDS_AUX=0 -DPATH_SETTINGS=\\\"/home/ingo/Git/SMM/shallow-moments-simulation/outputs/output_c/settings.hdf5\\\" -DPATH_MESH=\\\"/home/ingo/Git/SMM/shallow-moments-simulation/outputs/output_c/mesh.hdf5\\\" -DPATH_FIELDS=\\\"/home/ingo/Git/SMM/shallow-moments-simulation/outputs/output_c/fields.hdf5\\\" -DTIMESTEPPER=\\\"Adaptive\\\" -DTIMESTEPPER_PARAM=0.45 -DODE_FLUX=1 -DODE_SOURCE=-1 -DKOKKOS_ENABLE_CXX17 -DKOKKOS_CXX_STANDARD=c++17 -std=c++17  -g -DVOLKOS_GIT_VERSION=\\\"v0.1-163-g8f051cd\\\" -c /home/ingo/Git/SMM/shallow-moments-simulation/dependencies/kokkos/core/src/impl/Kokkos_MemoryPool.cpp\n",
      "`which mpic++` -I./ -I/home/ingo/Git/SMM/shallow-moments-simulation/dependencies/kokkos/core/src -I/home/ingo/Git/SMM/shallow-moments-simulation/dependencies/kokkos/containers/src -I/home/ingo/Git/SMM/shallow-moments-simulation/dependencies/kokkos/algorithms/src -I/home/ingo/Git/SMM/shallow-moments-simulation/dependencies/kokkos/tpls/desul/include -std=c++14 -fopenmp -I./ -I/home/ingo/Git/SMM/shallow-moments-simulation/dependencies/kokkos/core/src -I/home/ingo/Git/SMM/shallow-moments-simulation/dependencies/kokkos/containers/src -I/home/ingo/Git/SMM/shallow-moments-simulation/dependencies/kokkos/algorithms/src -I/home/ingo/Git/SMM/shallow-moments-simulation/dependencies/kokkos/tpls/desul/include -I/home/ingo/Git/SMM/shallow-moments-simulation/dependencies/pnetcdf/src/include -I/home/ingo/Git/SMM/shallow-moments-simulation/dependencies/petsc/build_arch/include -I/home/ingo/Git/SMM/shallow-moments-simulation/dependencies/petsc/include -I/home/ingo/Git/SMM/shallow-moments-simulation/dependencies/hdf5/hdf5/include -DDIMENSION=2 -DN_BOUNDARY_CONDITIONS=4 -DN_ELEMENTS=1210 -DN_FIELDS=5 -DN_FIELDS_AUX=0 -DPATH_SETTINGS=\\\"/home/ingo/Git/SMM/shallow-moments-simulation/outputs/output_c/settings.hdf5\\\" -DPATH_MESH=\\\"/home/ingo/Git/SMM/shallow-moments-simulation/outputs/output_c/mesh.hdf5\\\" -DPATH_FIELDS=\\\"/home/ingo/Git/SMM/shallow-moments-simulation/outputs/output_c/fields.hdf5\\\" -DTIMESTEPPER=\\\"Adaptive\\\" -DTIMESTEPPER_PARAM=0.45 -DODE_FLUX=1 -DODE_SOURCE=-1 -DKOKKOS_ENABLE_CXX17 -DKOKKOS_CXX_STANDARD=c++17 -std=c++17  -g -DVOLKOS_GIT_VERSION=\\\"v0.1-163-g8f051cd\\\" -c /home/ingo/Git/SMM/shallow-moments-simulation/dependencies/kokkos/core/src/impl/Kokkos_MemorySpace.cpp\n",
      "`which mpic++` -I./ -I/home/ingo/Git/SMM/shallow-moments-simulation/dependencies/kokkos/core/src -I/home/ingo/Git/SMM/shallow-moments-simulation/dependencies/kokkos/containers/src -I/home/ingo/Git/SMM/shallow-moments-simulation/dependencies/kokkos/algorithms/src -I/home/ingo/Git/SMM/shallow-moments-simulation/dependencies/kokkos/tpls/desul/include -std=c++14 -fopenmp -I./ -I/home/ingo/Git/SMM/shallow-moments-simulation/dependencies/kokkos/core/src -I/home/ingo/Git/SMM/shallow-moments-simulation/dependencies/kokkos/containers/src -I/home/ingo/Git/SMM/shallow-moments-simulation/dependencies/kokkos/algorithms/src -I/home/ingo/Git/SMM/shallow-moments-simulation/dependencies/kokkos/tpls/desul/include -I/home/ingo/Git/SMM/shallow-moments-simulation/dependencies/pnetcdf/src/include -I/home/ingo/Git/SMM/shallow-moments-simulation/dependencies/petsc/build_arch/include -I/home/ingo/Git/SMM/shallow-moments-simulation/dependencies/petsc/include -I/home/ingo/Git/SMM/shallow-moments-simulation/dependencies/hdf5/hdf5/include -DDIMENSION=2 -DN_BOUNDARY_CONDITIONS=4 -DN_ELEMENTS=1210 -DN_FIELDS=5 -DN_FIELDS_AUX=0 -DPATH_SETTINGS=\\\"/home/ingo/Git/SMM/shallow-moments-simulation/outputs/output_c/settings.hdf5\\\" -DPATH_MESH=\\\"/home/ingo/Git/SMM/shallow-moments-simulation/outputs/output_c/mesh.hdf5\\\" -DPATH_FIELDS=\\\"/home/ingo/Git/SMM/shallow-moments-simulation/outputs/output_c/fields.hdf5\\\" -DTIMESTEPPER=\\\"Adaptive\\\" -DTIMESTEPPER_PARAM=0.45 -DODE_FLUX=1 -DODE_SOURCE=-1 -DKOKKOS_ENABLE_CXX17 -DKOKKOS_CXX_STANDARD=c++17 -std=c++17  -g -DVOLKOS_GIT_VERSION=\\\"v0.1-163-g8f051cd\\\" -c /home/ingo/Git/SMM/shallow-moments-simulation/dependencies/kokkos/core/src/impl/Kokkos_NumericTraits.cpp\n",
      "`which mpic++` -I./ -I/home/ingo/Git/SMM/shallow-moments-simulation/dependencies/kokkos/core/src -I/home/ingo/Git/SMM/shallow-moments-simulation/dependencies/kokkos/containers/src -I/home/ingo/Git/SMM/shallow-moments-simulation/dependencies/kokkos/algorithms/src -I/home/ingo/Git/SMM/shallow-moments-simulation/dependencies/kokkos/tpls/desul/include -std=c++14 -fopenmp -I./ -I/home/ingo/Git/SMM/shallow-moments-simulation/dependencies/kokkos/core/src -I/home/ingo/Git/SMM/shallow-moments-simulation/dependencies/kokkos/containers/src -I/home/ingo/Git/SMM/shallow-moments-simulation/dependencies/kokkos/algorithms/src -I/home/ingo/Git/SMM/shallow-moments-simulation/dependencies/kokkos/tpls/desul/include -I/home/ingo/Git/SMM/shallow-moments-simulation/dependencies/pnetcdf/src/include -I/home/ingo/Git/SMM/shallow-moments-simulation/dependencies/petsc/build_arch/include -I/home/ingo/Git/SMM/shallow-moments-simulation/dependencies/petsc/include -I/home/ingo/Git/SMM/shallow-moments-simulation/dependencies/hdf5/hdf5/include -DDIMENSION=2 -DN_BOUNDARY_CONDITIONS=4 -DN_ELEMENTS=1210 -DN_FIELDS=5 -DN_FIELDS_AUX=0 -DPATH_SETTINGS=\\\"/home/ingo/Git/SMM/shallow-moments-simulation/outputs/output_c/settings.hdf5\\\" -DPATH_MESH=\\\"/home/ingo/Git/SMM/shallow-moments-simulation/outputs/output_c/mesh.hdf5\\\" -DPATH_FIELDS=\\\"/home/ingo/Git/SMM/shallow-moments-simulation/outputs/output_c/fields.hdf5\\\" -DTIMESTEPPER=\\\"Adaptive\\\" -DTIMESTEPPER_PARAM=0.45 -DODE_FLUX=1 -DODE_SOURCE=-1 -DKOKKOS_ENABLE_CXX17 -DKOKKOS_CXX_STANDARD=c++17 -std=c++17  -g -DVOLKOS_GIT_VERSION=\\\"v0.1-163-g8f051cd\\\" -c /home/ingo/Git/SMM/shallow-moments-simulation/dependencies/kokkos/core/src/impl/Kokkos_Profiling.cpp\n",
      "`which mpic++` -I./ -I/home/ingo/Git/SMM/shallow-moments-simulation/dependencies/kokkos/core/src -I/home/ingo/Git/SMM/shallow-moments-simulation/dependencies/kokkos/containers/src -I/home/ingo/Git/SMM/shallow-moments-simulation/dependencies/kokkos/algorithms/src -I/home/ingo/Git/SMM/shallow-moments-simulation/dependencies/kokkos/tpls/desul/include -std=c++14 -fopenmp -I./ -I/home/ingo/Git/SMM/shallow-moments-simulation/dependencies/kokkos/core/src -I/home/ingo/Git/SMM/shallow-moments-simulation/dependencies/kokkos/containers/src -I/home/ingo/Git/SMM/shallow-moments-simulation/dependencies/kokkos/algorithms/src -I/home/ingo/Git/SMM/shallow-moments-simulation/dependencies/kokkos/tpls/desul/include -I/home/ingo/Git/SMM/shallow-moments-simulation/dependencies/pnetcdf/src/include -I/home/ingo/Git/SMM/shallow-moments-simulation/dependencies/petsc/build_arch/include -I/home/ingo/Git/SMM/shallow-moments-simulation/dependencies/petsc/include -I/home/ingo/Git/SMM/shallow-moments-simulation/dependencies/hdf5/hdf5/include -DDIMENSION=2 -DN_BOUNDARY_CONDITIONS=4 -DN_ELEMENTS=1210 -DN_FIELDS=5 -DN_FIELDS_AUX=0 -DPATH_SETTINGS=\\\"/home/ingo/Git/SMM/shallow-moments-simulation/outputs/output_c/settings.hdf5\\\" -DPATH_MESH=\\\"/home/ingo/Git/SMM/shallow-moments-simulation/outputs/output_c/mesh.hdf5\\\" -DPATH_FIELDS=\\\"/home/ingo/Git/SMM/shallow-moments-simulation/outputs/output_c/fields.hdf5\\\" -DTIMESTEPPER=\\\"Adaptive\\\" -DTIMESTEPPER_PARAM=0.45 -DODE_FLUX=1 -DODE_SOURCE=-1 -DKOKKOS_ENABLE_CXX17 -DKOKKOS_CXX_STANDARD=c++17 -std=c++17  -g -DVOLKOS_GIT_VERSION=\\\"v0.1-163-g8f051cd\\\" -c /home/ingo/Git/SMM/shallow-moments-simulation/dependencies/kokkos/core/src/impl/Kokkos_SharedAlloc.cpp\n",
      "`which mpic++` -I./ -I/home/ingo/Git/SMM/shallow-moments-simulation/dependencies/kokkos/core/src -I/home/ingo/Git/SMM/shallow-moments-simulation/dependencies/kokkos/containers/src -I/home/ingo/Git/SMM/shallow-moments-simulation/dependencies/kokkos/algorithms/src -I/home/ingo/Git/SMM/shallow-moments-simulation/dependencies/kokkos/tpls/desul/include -std=c++14 -fopenmp -I./ -I/home/ingo/Git/SMM/shallow-moments-simulation/dependencies/kokkos/core/src -I/home/ingo/Git/SMM/shallow-moments-simulation/dependencies/kokkos/containers/src -I/home/ingo/Git/SMM/shallow-moments-simulation/dependencies/kokkos/algorithms/src -I/home/ingo/Git/SMM/shallow-moments-simulation/dependencies/kokkos/tpls/desul/include -I/home/ingo/Git/SMM/shallow-moments-simulation/dependencies/pnetcdf/src/include -I/home/ingo/Git/SMM/shallow-moments-simulation/dependencies/petsc/build_arch/include -I/home/ingo/Git/SMM/shallow-moments-simulation/dependencies/petsc/include -I/home/ingo/Git/SMM/shallow-moments-simulation/dependencies/hdf5/hdf5/include -DDIMENSION=2 -DN_BOUNDARY_CONDITIONS=4 -DN_ELEMENTS=1210 -DN_FIELDS=5 -DN_FIELDS_AUX=0 -DPATH_SETTINGS=\\\"/home/ingo/Git/SMM/shallow-moments-simulation/outputs/output_c/settings.hdf5\\\" -DPATH_MESH=\\\"/home/ingo/Git/SMM/shallow-moments-simulation/outputs/output_c/mesh.hdf5\\\" -DPATH_FIELDS=\\\"/home/ingo/Git/SMM/shallow-moments-simulation/outputs/output_c/fields.hdf5\\\" -DTIMESTEPPER=\\\"Adaptive\\\" -DTIMESTEPPER_PARAM=0.45 -DODE_FLUX=1 -DODE_SOURCE=-1 -DKOKKOS_ENABLE_CXX17 -DKOKKOS_CXX_STANDARD=c++17 -std=c++17  -g -DVOLKOS_GIT_VERSION=\\\"v0.1-163-g8f051cd\\\" -c /home/ingo/Git/SMM/shallow-moments-simulation/dependencies/kokkos/core/src/impl/Kokkos_Spinwait.cpp\n",
      "`which mpic++` -I./ -I/home/ingo/Git/SMM/shallow-moments-simulation/dependencies/kokkos/core/src -I/home/ingo/Git/SMM/shallow-moments-simulation/dependencies/kokkos/containers/src -I/home/ingo/Git/SMM/shallow-moments-simulation/dependencies/kokkos/algorithms/src -I/home/ingo/Git/SMM/shallow-moments-simulation/dependencies/kokkos/tpls/desul/include -std=c++14 -fopenmp -I./ -I/home/ingo/Git/SMM/shallow-moments-simulation/dependencies/kokkos/core/src -I/home/ingo/Git/SMM/shallow-moments-simulation/dependencies/kokkos/containers/src -I/home/ingo/Git/SMM/shallow-moments-simulation/dependencies/kokkos/algorithms/src -I/home/ingo/Git/SMM/shallow-moments-simulation/dependencies/kokkos/tpls/desul/include -I/home/ingo/Git/SMM/shallow-moments-simulation/dependencies/pnetcdf/src/include -I/home/ingo/Git/SMM/shallow-moments-simulation/dependencies/petsc/build_arch/include -I/home/ingo/Git/SMM/shallow-moments-simulation/dependencies/petsc/include -I/home/ingo/Git/SMM/shallow-moments-simulation/dependencies/hdf5/hdf5/include -DDIMENSION=2 -DN_BOUNDARY_CONDITIONS=4 -DN_ELEMENTS=1210 -DN_FIELDS=5 -DN_FIELDS_AUX=0 -DPATH_SETTINGS=\\\"/home/ingo/Git/SMM/shallow-moments-simulation/outputs/output_c/settings.hdf5\\\" -DPATH_MESH=\\\"/home/ingo/Git/SMM/shallow-moments-simulation/outputs/output_c/mesh.hdf5\\\" -DPATH_FIELDS=\\\"/home/ingo/Git/SMM/shallow-moments-simulation/outputs/output_c/fields.hdf5\\\" -DTIMESTEPPER=\\\"Adaptive\\\" -DTIMESTEPPER_PARAM=0.45 -DODE_FLUX=1 -DODE_SOURCE=-1 -DKOKKOS_ENABLE_CXX17 -DKOKKOS_CXX_STANDARD=c++17 -std=c++17  -g -DVOLKOS_GIT_VERSION=\\\"v0.1-163-g8f051cd\\\" -c /home/ingo/Git/SMM/shallow-moments-simulation/dependencies/kokkos/core/src/impl/Kokkos_Stacktrace.cpp\n",
      "`which mpic++` -I./ -I/home/ingo/Git/SMM/shallow-moments-simulation/dependencies/kokkos/core/src -I/home/ingo/Git/SMM/shallow-moments-simulation/dependencies/kokkos/containers/src -I/home/ingo/Git/SMM/shallow-moments-simulation/dependencies/kokkos/algorithms/src -I/home/ingo/Git/SMM/shallow-moments-simulation/dependencies/kokkos/tpls/desul/include -std=c++14 -fopenmp -I./ -I/home/ingo/Git/SMM/shallow-moments-simulation/dependencies/kokkos/core/src -I/home/ingo/Git/SMM/shallow-moments-simulation/dependencies/kokkos/containers/src -I/home/ingo/Git/SMM/shallow-moments-simulation/dependencies/kokkos/algorithms/src -I/home/ingo/Git/SMM/shallow-moments-simulation/dependencies/kokkos/tpls/desul/include -I/home/ingo/Git/SMM/shallow-moments-simulation/dependencies/pnetcdf/src/include -I/home/ingo/Git/SMM/shallow-moments-simulation/dependencies/petsc/build_arch/include -I/home/ingo/Git/SMM/shallow-moments-simulation/dependencies/petsc/include -I/home/ingo/Git/SMM/shallow-moments-simulation/dependencies/hdf5/hdf5/include -DDIMENSION=2 -DN_BOUNDARY_CONDITIONS=4 -DN_ELEMENTS=1210 -DN_FIELDS=5 -DN_FIELDS_AUX=0 -DPATH_SETTINGS=\\\"/home/ingo/Git/SMM/shallow-moments-simulation/outputs/output_c/settings.hdf5\\\" -DPATH_MESH=\\\"/home/ingo/Git/SMM/shallow-moments-simulation/outputs/output_c/mesh.hdf5\\\" -DPATH_FIELDS=\\\"/home/ingo/Git/SMM/shallow-moments-simulation/outputs/output_c/fields.hdf5\\\" -DTIMESTEPPER=\\\"Adaptive\\\" -DTIMESTEPPER_PARAM=0.45 -DODE_FLUX=1 -DODE_SOURCE=-1 -DKOKKOS_ENABLE_CXX17 -DKOKKOS_CXX_STANDARD=c++17 -std=c++17  -g -DVOLKOS_GIT_VERSION=\\\"v0.1-163-g8f051cd\\\" -c /home/ingo/Git/SMM/shallow-moments-simulation/dependencies/kokkos/containers/src/impl/Kokkos_UnorderedMap_impl.cpp\n",
      "`which mpic++` -I./ -I/home/ingo/Git/SMM/shallow-moments-simulation/dependencies/kokkos/core/src -I/home/ingo/Git/SMM/shallow-moments-simulation/dependencies/kokkos/containers/src -I/home/ingo/Git/SMM/shallow-moments-simulation/dependencies/kokkos/algorithms/src -I/home/ingo/Git/SMM/shallow-moments-simulation/dependencies/kokkos/tpls/desul/include -std=c++14 -fopenmp -I./ -I/home/ingo/Git/SMM/shallow-moments-simulation/dependencies/kokkos/core/src -I/home/ingo/Git/SMM/shallow-moments-simulation/dependencies/kokkos/containers/src -I/home/ingo/Git/SMM/shallow-moments-simulation/dependencies/kokkos/algorithms/src -I/home/ingo/Git/SMM/shallow-moments-simulation/dependencies/kokkos/tpls/desul/include -I/home/ingo/Git/SMM/shallow-moments-simulation/dependencies/pnetcdf/src/include -I/home/ingo/Git/SMM/shallow-moments-simulation/dependencies/petsc/build_arch/include -I/home/ingo/Git/SMM/shallow-moments-simulation/dependencies/petsc/include -I/home/ingo/Git/SMM/shallow-moments-simulation/dependencies/hdf5/hdf5/include -DDIMENSION=2 -DN_BOUNDARY_CONDITIONS=4 -DN_ELEMENTS=1210 -DN_FIELDS=5 -DN_FIELDS_AUX=0 -DPATH_SETTINGS=\\\"/home/ingo/Git/SMM/shallow-moments-simulation/outputs/output_c/settings.hdf5\\\" -DPATH_MESH=\\\"/home/ingo/Git/SMM/shallow-moments-simulation/outputs/output_c/mesh.hdf5\\\" -DPATH_FIELDS=\\\"/home/ingo/Git/SMM/shallow-moments-simulation/outputs/output_c/fields.hdf5\\\" -DTIMESTEPPER=\\\"Adaptive\\\" -DTIMESTEPPER_PARAM=0.45 -DODE_FLUX=1 -DODE_SOURCE=-1 -DKOKKOS_ENABLE_CXX17 -DKOKKOS_CXX_STANDARD=c++17 -std=c++17  -g -DVOLKOS_GIT_VERSION=\\\"v0.1-163-g8f051cd\\\" -c /home/ingo/Git/SMM/shallow-moments-simulation/dependencies/kokkos/core/src/OpenMP/Kokkos_OpenMP_Instance.cpp\n",
      "`which mpic++` -I./ -I/home/ingo/Git/SMM/shallow-moments-simulation/dependencies/kokkos/core/src -I/home/ingo/Git/SMM/shallow-moments-simulation/dependencies/kokkos/containers/src -I/home/ingo/Git/SMM/shallow-moments-simulation/dependencies/kokkos/algorithms/src -I/home/ingo/Git/SMM/shallow-moments-simulation/dependencies/kokkos/tpls/desul/include -std=c++14 -fopenmp -I./ -I/home/ingo/Git/SMM/shallow-moments-simulation/dependencies/kokkos/core/src -I/home/ingo/Git/SMM/shallow-moments-simulation/dependencies/kokkos/containers/src -I/home/ingo/Git/SMM/shallow-moments-simulation/dependencies/kokkos/algorithms/src -I/home/ingo/Git/SMM/shallow-moments-simulation/dependencies/kokkos/tpls/desul/include -I/home/ingo/Git/SMM/shallow-moments-simulation/dependencies/pnetcdf/src/include -I/home/ingo/Git/SMM/shallow-moments-simulation/dependencies/petsc/build_arch/include -I/home/ingo/Git/SMM/shallow-moments-simulation/dependencies/petsc/include -I/home/ingo/Git/SMM/shallow-moments-simulation/dependencies/hdf5/hdf5/include -DDIMENSION=2 -DN_BOUNDARY_CONDITIONS=4 -DN_ELEMENTS=1210 -DN_FIELDS=5 -DN_FIELDS_AUX=0 -DPATH_SETTINGS=\\\"/home/ingo/Git/SMM/shallow-moments-simulation/outputs/output_c/settings.hdf5\\\" -DPATH_MESH=\\\"/home/ingo/Git/SMM/shallow-moments-simulation/outputs/output_c/mesh.hdf5\\\" -DPATH_FIELDS=\\\"/home/ingo/Git/SMM/shallow-moments-simulation/outputs/output_c/fields.hdf5\\\" -DTIMESTEPPER=\\\"Adaptive\\\" -DTIMESTEPPER_PARAM=0.45 -DODE_FLUX=1 -DODE_SOURCE=-1 -DKOKKOS_ENABLE_CXX17 -DKOKKOS_CXX_STANDARD=c++17 -std=c++17  -g -DVOLKOS_GIT_VERSION=\\\"v0.1-163-g8f051cd\\\" -c /home/ingo/Git/SMM/shallow-moments-simulation/dependencies/kokkos/core/src/OpenMP/Kokkos_OpenMP_Task.cpp\n",
      "ar cr libkokkos.a Kokkos_Command_Line_Parsing.o Kokkos_Core.o Kokkos_CPUDiscovery.o Kokkos_Error.o Kokkos_ExecPolicy.o Kokkos_HostBarrier.o Kokkos_HostSpace.o Kokkos_HostSpace_deepcopy.o Kokkos_HostThreadTeam.o Kokkos_hwloc.o Kokkos_MemoryPool.o Kokkos_MemorySpace.o Kokkos_NumericTraits.o Kokkos_Profiling.o Kokkos_SharedAlloc.o Kokkos_Spinwait.o Kokkos_Stacktrace.o Kokkos_UnorderedMap_impl.o Kokkos_OpenMP_Instance.o Kokkos_OpenMP_Task.o\n",
      "ranlib libkokkos.a\n",
      "`which mpic++` -fopenmp -L/home/ingo/Git/SMM/shallow-moments-simulation/library/solver  /home/ingo/Git/SMM/shallow-moments-simulation/bin/driver.o model_code.o boundary_conditions_code.o  -lkokkos -ldl   -o /home/ingo/Git/SMM/shallow-moments-simulation/bin/volkos  -L/home/ingo/Git/SMM/shallow-moments-simulation/dependencies/pnetcdf/src/libs/.libs -lpnetcdf -L/home/ingo/Git/SMM/shallow-moments-simulation/dependencies/hdf5/hdf5/lib -l:libhdf5.so -Wl,-rpath,/home/ingo/Git/SMM/shallow-moments-simulation/dependencies/petsc/build_arch/lib -L/home/ingo/Git/SMM/shallow-moments-simulation/dependencies/petsc/build_arch/lib -l:libpetsc.so -Wl,-rpath=/home/ingo/Git/SMM/shallow-moments-simulation/dependencies/hdf5/hdf5/lib\n",
      "make[1]: Leaving directory '/home/ingo/Git/SMM/shallow-moments-simulation/library/solver'\n",
      "OMP_N_THREADS not set, using default value 1\n",
      "Kokkos::OpenMP::initialize WARNING: OMP_PROC_BIND environment variable not set\n",
      "  In general, for best performance with OpenMP 4.0 or better set OMP_PROC_BIND=spread and OMP_PLACES=threads\n",
      "  For best performance with OpenMP 3.1 set OMP_PROC_BIND=true\n",
      "  For unit testing set OMP_PROC_BIND=false\n",
      "C program running\n",
      "Loop time: 12.0735 s\n",
      "Time elapsed: 12.0834\n",
      "Total time: 17.0392 s\n"
     ]
    },
    {
     "data": {
      "text/html": [
       "<pre style=\"white-space:pre;overflow-x:auto;line-height:normal;font-family:Menlo,'DejaVu Sans Mono',consolas,'Courier New',monospace\"><span style=\"color: #808000; text-decoration-color: #808000; font-weight: bold\">Warning:</span><span style=\"color: #808000; text-decoration-color: #808000\"> VTK requires 3D points, but 2D points given. Appending </span><span style=\"color: #808000; text-decoration-color: #808000; font-weight: bold\">0</span><span style=\"color: #808000; text-decoration-color: #808000\"> third component.</span>\n",
       "</pre>\n"
      ],
      "text/plain": [
       "\u001b[1;33mWarning:\u001b[0m\u001b[33m VTK requires 3D points, but 2D points given. Appending \u001b[0m\u001b[1;33m0\u001b[0m\u001b[33m third component.\u001b[0m\n"
      ]
     },
     "metadata": {},
     "output_type": "display_data"
    },
    {
     "data": {
      "text/html": [
       "<pre style=\"white-space:pre;overflow-x:auto;line-height:normal;font-family:Menlo,'DejaVu Sans Mono',consolas,'Courier New',monospace\"><span style=\"color: #808000; text-decoration-color: #808000; font-weight: bold\">Warning:</span><span style=\"color: #808000; text-decoration-color: #808000\"> VTK requires 3D points, but 2D points given. Appending </span><span style=\"color: #808000; text-decoration-color: #808000; font-weight: bold\">0</span><span style=\"color: #808000; text-decoration-color: #808000\"> third component.</span>\n",
       "</pre>\n"
      ],
      "text/plain": [
       "\u001b[1;33mWarning:\u001b[0m\u001b[33m VTK requires 3D points, but 2D points given. Appending \u001b[0m\u001b[1;33m0\u001b[0m\u001b[33m third component.\u001b[0m\n"
      ]
     },
     "metadata": {},
     "output_type": "display_data"
    },
    {
     "data": {
      "text/html": [
       "<pre style=\"white-space:pre;overflow-x:auto;line-height:normal;font-family:Menlo,'DejaVu Sans Mono',consolas,'Courier New',monospace\"><span style=\"color: #808000; text-decoration-color: #808000; font-weight: bold\">Warning:</span><span style=\"color: #808000; text-decoration-color: #808000\"> VTK requires 3D points, but 2D points given. Appending </span><span style=\"color: #808000; text-decoration-color: #808000; font-weight: bold\">0</span><span style=\"color: #808000; text-decoration-color: #808000\"> third component.</span>\n",
       "</pre>\n"
      ],
      "text/plain": [
       "\u001b[1;33mWarning:\u001b[0m\u001b[33m VTK requires 3D points, but 2D points given. Appending \u001b[0m\u001b[1;33m0\u001b[0m\u001b[33m third component.\u001b[0m\n"
      ]
     },
     "metadata": {},
     "output_type": "display_data"
    },
    {
     "data": {
      "text/html": [
       "<pre style=\"white-space:pre;overflow-x:auto;line-height:normal;font-family:Menlo,'DejaVu Sans Mono',consolas,'Courier New',monospace\"><span style=\"color: #808000; text-decoration-color: #808000; font-weight: bold\">Warning:</span><span style=\"color: #808000; text-decoration-color: #808000\"> VTK requires 3D points, but 2D points given. Appending </span><span style=\"color: #808000; text-decoration-color: #808000; font-weight: bold\">0</span><span style=\"color: #808000; text-decoration-color: #808000\"> third component.</span>\n",
       "</pre>\n"
      ],
      "text/plain": [
       "\u001b[1;33mWarning:\u001b[0m\u001b[33m VTK requires 3D points, but 2D points given. Appending \u001b[0m\u001b[1;33m0\u001b[0m\u001b[33m third component.\u001b[0m\n"
      ]
     },
     "metadata": {},
     "output_type": "display_data"
    },
    {
     "data": {
      "text/html": [
       "<pre style=\"white-space:pre;overflow-x:auto;line-height:normal;font-family:Menlo,'DejaVu Sans Mono',consolas,'Courier New',monospace\"><span style=\"color: #808000; text-decoration-color: #808000; font-weight: bold\">Warning:</span><span style=\"color: #808000; text-decoration-color: #808000\"> VTK requires 3D points, but 2D points given. Appending </span><span style=\"color: #808000; text-decoration-color: #808000; font-weight: bold\">0</span><span style=\"color: #808000; text-decoration-color: #808000\"> third component.</span>\n",
       "</pre>\n"
      ],
      "text/plain": [
       "\u001b[1;33mWarning:\u001b[0m\u001b[33m VTK requires 3D points, but 2D points given. Appending \u001b[0m\u001b[1;33m0\u001b[0m\u001b[33m third component.\u001b[0m\n"
      ]
     },
     "metadata": {},
     "output_type": "display_data"
    },
    {
     "data": {
      "text/html": [
       "<pre style=\"white-space:pre;overflow-x:auto;line-height:normal;font-family:Menlo,'DejaVu Sans Mono',consolas,'Courier New',monospace\"><span style=\"color: #808000; text-decoration-color: #808000; font-weight: bold\">Warning:</span><span style=\"color: #808000; text-decoration-color: #808000\"> VTK requires 3D points, but 2D points given. Appending </span><span style=\"color: #808000; text-decoration-color: #808000; font-weight: bold\">0</span><span style=\"color: #808000; text-decoration-color: #808000\"> third component.</span>\n",
       "</pre>\n"
      ],
      "text/plain": [
       "\u001b[1;33mWarning:\u001b[0m\u001b[33m VTK requires 3D points, but 2D points given. Appending \u001b[0m\u001b[1;33m0\u001b[0m\u001b[33m third component.\u001b[0m\n"
      ]
     },
     "metadata": {},
     "output_type": "display_data"
    },
    {
     "data": {
      "text/html": [
       "<pre style=\"white-space:pre;overflow-x:auto;line-height:normal;font-family:Menlo,'DejaVu Sans Mono',consolas,'Courier New',monospace\"><span style=\"color: #808000; text-decoration-color: #808000; font-weight: bold\">Warning:</span><span style=\"color: #808000; text-decoration-color: #808000\"> VTK requires 3D points, but 2D points given. Appending </span><span style=\"color: #808000; text-decoration-color: #808000; font-weight: bold\">0</span><span style=\"color: #808000; text-decoration-color: #808000\"> third component.</span>\n",
       "</pre>\n"
      ],
      "text/plain": [
       "\u001b[1;33mWarning:\u001b[0m\u001b[33m VTK requires 3D points, but 2D points given. Appending \u001b[0m\u001b[1;33m0\u001b[0m\u001b[33m third component.\u001b[0m\n"
      ]
     },
     "metadata": {},
     "output_type": "display_data"
    },
    {
     "data": {
      "text/html": [
       "<pre style=\"white-space:pre;overflow-x:auto;line-height:normal;font-family:Menlo,'DejaVu Sans Mono',consolas,'Courier New',monospace\"><span style=\"color: #808000; text-decoration-color: #808000; font-weight: bold\">Warning:</span><span style=\"color: #808000; text-decoration-color: #808000\"> VTK requires 3D points, but 2D points given. Appending </span><span style=\"color: #808000; text-decoration-color: #808000; font-weight: bold\">0</span><span style=\"color: #808000; text-decoration-color: #808000\"> third component.</span>\n",
       "</pre>\n"
      ],
      "text/plain": [
       "\u001b[1;33mWarning:\u001b[0m\u001b[33m VTK requires 3D points, but 2D points given. Appending \u001b[0m\u001b[1;33m0\u001b[0m\u001b[33m third component.\u001b[0m\n"
      ]
     },
     "metadata": {},
     "output_type": "display_data"
    },
    {
     "data": {
      "text/html": [
       "<pre style=\"white-space:pre;overflow-x:auto;line-height:normal;font-family:Menlo,'DejaVu Sans Mono',consolas,'Courier New',monospace\"><span style=\"color: #808000; text-decoration-color: #808000; font-weight: bold\">Warning:</span><span style=\"color: #808000; text-decoration-color: #808000\"> VTK requires 3D points, but 2D points given. Appending </span><span style=\"color: #808000; text-decoration-color: #808000; font-weight: bold\">0</span><span style=\"color: #808000; text-decoration-color: #808000\"> third component.</span>\n",
       "</pre>\n"
      ],
      "text/plain": [
       "\u001b[1;33mWarning:\u001b[0m\u001b[33m VTK requires 3D points, but 2D points given. Appending \u001b[0m\u001b[1;33m0\u001b[0m\u001b[33m third component.\u001b[0m\n"
      ]
     },
     "metadata": {},
     "output_type": "display_data"
    },
    {
     "data": {
      "text/html": [
       "<pre style=\"white-space:pre;overflow-x:auto;line-height:normal;font-family:Menlo,'DejaVu Sans Mono',consolas,'Courier New',monospace\"><span style=\"color: #808000; text-decoration-color: #808000; font-weight: bold\">Warning:</span><span style=\"color: #808000; text-decoration-color: #808000\"> VTK requires 3D points, but 2D points given. Appending </span><span style=\"color: #808000; text-decoration-color: #808000; font-weight: bold\">0</span><span style=\"color: #808000; text-decoration-color: #808000\"> third component.</span>\n",
       "</pre>\n"
      ],
      "text/plain": [
       "\u001b[1;33mWarning:\u001b[0m\u001b[33m VTK requires 3D points, but 2D points given. Appending \u001b[0m\u001b[1;33m0\u001b[0m\u001b[33m third component.\u001b[0m\n"
      ]
     },
     "metadata": {},
     "output_type": "display_data"
    },
    {
     "data": {
      "text/html": [
       "<pre style=\"white-space:pre;overflow-x:auto;line-height:normal;font-family:Menlo,'DejaVu Sans Mono',consolas,'Courier New',monospace\"><span style=\"color: #808000; text-decoration-color: #808000; font-weight: bold\">Warning:</span><span style=\"color: #808000; text-decoration-color: #808000\"> VTK requires 3D points, but 2D points given. Appending </span><span style=\"color: #808000; text-decoration-color: #808000; font-weight: bold\">0</span><span style=\"color: #808000; text-decoration-color: #808000\"> third component.</span>\n",
       "</pre>\n"
      ],
      "text/plain": [
       "\u001b[1;33mWarning:\u001b[0m\u001b[33m VTK requires 3D points, but 2D points given. Appending \u001b[0m\u001b[1;33m0\u001b[0m\u001b[33m third component.\u001b[0m\n"
      ]
     },
     "metadata": {},
     "output_type": "display_data"
    },
    {
     "data": {
      "text/html": [
       "<pre style=\"white-space:pre;overflow-x:auto;line-height:normal;font-family:Menlo,'DejaVu Sans Mono',consolas,'Courier New',monospace\"><span style=\"color: #808000; text-decoration-color: #808000; font-weight: bold\">Warning:</span><span style=\"color: #808000; text-decoration-color: #808000\"> VTK requires 3D points, but 2D points given. Appending </span><span style=\"color: #808000; text-decoration-color: #808000; font-weight: bold\">0</span><span style=\"color: #808000; text-decoration-color: #808000\"> third component.</span>\n",
       "</pre>\n"
      ],
      "text/plain": [
       "\u001b[1;33mWarning:\u001b[0m\u001b[33m VTK requires 3D points, but 2D points given. Appending \u001b[0m\u001b[1;33m0\u001b[0m\u001b[33m third component.\u001b[0m\n"
      ]
     },
     "metadata": {},
     "output_type": "display_data"
    },
    {
     "data": {
      "text/html": [
       "<pre style=\"white-space:pre;overflow-x:auto;line-height:normal;font-family:Menlo,'DejaVu Sans Mono',consolas,'Courier New',monospace\"><span style=\"color: #808000; text-decoration-color: #808000; font-weight: bold\">Warning:</span><span style=\"color: #808000; text-decoration-color: #808000\"> VTK requires 3D points, but 2D points given. Appending </span><span style=\"color: #808000; text-decoration-color: #808000; font-weight: bold\">0</span><span style=\"color: #808000; text-decoration-color: #808000\"> third component.</span>\n",
       "</pre>\n"
      ],
      "text/plain": [
       "\u001b[1;33mWarning:\u001b[0m\u001b[33m VTK requires 3D points, but 2D points given. Appending \u001b[0m\u001b[1;33m0\u001b[0m\u001b[33m third component.\u001b[0m\n"
      ]
     },
     "metadata": {},
     "output_type": "display_data"
    },
    {
     "data": {
      "text/html": [
       "<pre style=\"white-space:pre;overflow-x:auto;line-height:normal;font-family:Menlo,'DejaVu Sans Mono',consolas,'Courier New',monospace\"><span style=\"color: #808000; text-decoration-color: #808000; font-weight: bold\">Warning:</span><span style=\"color: #808000; text-decoration-color: #808000\"> VTK requires 3D points, but 2D points given. Appending </span><span style=\"color: #808000; text-decoration-color: #808000; font-weight: bold\">0</span><span style=\"color: #808000; text-decoration-color: #808000\"> third component.</span>\n",
       "</pre>\n"
      ],
      "text/plain": [
       "\u001b[1;33mWarning:\u001b[0m\u001b[33m VTK requires 3D points, but 2D points given. Appending \u001b[0m\u001b[1;33m0\u001b[0m\u001b[33m third component.\u001b[0m\n"
      ]
     },
     "metadata": {},
     "output_type": "display_data"
    },
    {
     "data": {
      "text/html": [
       "<pre style=\"white-space:pre;overflow-x:auto;line-height:normal;font-family:Menlo,'DejaVu Sans Mono',consolas,'Courier New',monospace\"><span style=\"color: #808000; text-decoration-color: #808000; font-weight: bold\">Warning:</span><span style=\"color: #808000; text-decoration-color: #808000\"> VTK requires 3D points, but 2D points given. Appending </span><span style=\"color: #808000; text-decoration-color: #808000; font-weight: bold\">0</span><span style=\"color: #808000; text-decoration-color: #808000\"> third component.</span>\n",
       "</pre>\n"
      ],
      "text/plain": [
       "\u001b[1;33mWarning:\u001b[0m\u001b[33m VTK requires 3D points, but 2D points given. Appending \u001b[0m\u001b[1;33m0\u001b[0m\u001b[33m third component.\u001b[0m\n"
      ]
     },
     "metadata": {},
     "output_type": "display_data"
    },
    {
     "data": {
      "text/html": [
       "<pre style=\"white-space:pre;overflow-x:auto;line-height:normal;font-family:Menlo,'DejaVu Sans Mono',consolas,'Courier New',monospace\"><span style=\"color: #808000; text-decoration-color: #808000; font-weight: bold\">Warning:</span><span style=\"color: #808000; text-decoration-color: #808000\"> VTK requires 3D points, but 2D points given. Appending </span><span style=\"color: #808000; text-decoration-color: #808000; font-weight: bold\">0</span><span style=\"color: #808000; text-decoration-color: #808000\"> third component.</span>\n",
       "</pre>\n"
      ],
      "text/plain": [
       "\u001b[1;33mWarning:\u001b[0m\u001b[33m VTK requires 3D points, but 2D points given. Appending \u001b[0m\u001b[1;33m0\u001b[0m\u001b[33m third component.\u001b[0m\n"
      ]
     },
     "metadata": {},
     "output_type": "display_data"
    },
    {
     "data": {
      "text/html": [
       "<pre style=\"white-space:pre;overflow-x:auto;line-height:normal;font-family:Menlo,'DejaVu Sans Mono',consolas,'Courier New',monospace\"><span style=\"color: #808000; text-decoration-color: #808000; font-weight: bold\">Warning:</span><span style=\"color: #808000; text-decoration-color: #808000\"> VTK requires 3D points, but 2D points given. Appending </span><span style=\"color: #808000; text-decoration-color: #808000; font-weight: bold\">0</span><span style=\"color: #808000; text-decoration-color: #808000\"> third component.</span>\n",
       "</pre>\n"
      ],
      "text/plain": [
       "\u001b[1;33mWarning:\u001b[0m\u001b[33m VTK requires 3D points, but 2D points given. Appending \u001b[0m\u001b[1;33m0\u001b[0m\u001b[33m third component.\u001b[0m\n"
      ]
     },
     "metadata": {},
     "output_type": "display_data"
    },
    {
     "data": {
      "text/html": [
       "<pre style=\"white-space:pre;overflow-x:auto;line-height:normal;font-family:Menlo,'DejaVu Sans Mono',consolas,'Courier New',monospace\"><span style=\"color: #808000; text-decoration-color: #808000; font-weight: bold\">Warning:</span><span style=\"color: #808000; text-decoration-color: #808000\"> VTK requires 3D points, but 2D points given. Appending </span><span style=\"color: #808000; text-decoration-color: #808000; font-weight: bold\">0</span><span style=\"color: #808000; text-decoration-color: #808000\"> third component.</span>\n",
       "</pre>\n"
      ],
      "text/plain": [
       "\u001b[1;33mWarning:\u001b[0m\u001b[33m VTK requires 3D points, but 2D points given. Appending \u001b[0m\u001b[1;33m0\u001b[0m\u001b[33m third component.\u001b[0m\n"
      ]
     },
     "metadata": {},
     "output_type": "display_data"
    },
    {
     "data": {
      "text/html": [
       "<pre style=\"white-space:pre;overflow-x:auto;line-height:normal;font-family:Menlo,'DejaVu Sans Mono',consolas,'Courier New',monospace\"><span style=\"color: #808000; text-decoration-color: #808000; font-weight: bold\">Warning:</span><span style=\"color: #808000; text-decoration-color: #808000\"> VTK requires 3D points, but 2D points given. Appending </span><span style=\"color: #808000; text-decoration-color: #808000; font-weight: bold\">0</span><span style=\"color: #808000; text-decoration-color: #808000\"> third component.</span>\n",
       "</pre>\n"
      ],
      "text/plain": [
       "\u001b[1;33mWarning:\u001b[0m\u001b[33m VTK requires 3D points, but 2D points given. Appending \u001b[0m\u001b[1;33m0\u001b[0m\u001b[33m third component.\u001b[0m\n"
      ]
     },
     "metadata": {},
     "output_type": "display_data"
    },
    {
     "data": {
      "text/html": [
       "<pre style=\"white-space:pre;overflow-x:auto;line-height:normal;font-family:Menlo,'DejaVu Sans Mono',consolas,'Courier New',monospace\"><span style=\"color: #808000; text-decoration-color: #808000; font-weight: bold\">Warning:</span><span style=\"color: #808000; text-decoration-color: #808000\"> VTK requires 3D points, but 2D points given. Appending </span><span style=\"color: #808000; text-decoration-color: #808000; font-weight: bold\">0</span><span style=\"color: #808000; text-decoration-color: #808000\"> third component.</span>\n",
       "</pre>\n"
      ],
      "text/plain": [
       "\u001b[1;33mWarning:\u001b[0m\u001b[33m VTK requires 3D points, but 2D points given. Appending \u001b[0m\u001b[1;33m0\u001b[0m\u001b[33m third component.\u001b[0m\n"
      ]
     },
     "metadata": {},
     "output_type": "display_data"
    },
    {
     "data": {
      "text/html": [
       "<pre style=\"white-space:pre;overflow-x:auto;line-height:normal;font-family:Menlo,'DejaVu Sans Mono',consolas,'Courier New',monospace\"><span style=\"color: #808000; text-decoration-color: #808000; font-weight: bold\">Warning:</span><span style=\"color: #808000; text-decoration-color: #808000\"> VTK requires 3D points, but 2D points given. Appending </span><span style=\"color: #808000; text-decoration-color: #808000; font-weight: bold\">0</span><span style=\"color: #808000; text-decoration-color: #808000\"> third component.</span>\n",
       "</pre>\n"
      ],
      "text/plain": [
       "\u001b[1;33mWarning:\u001b[0m\u001b[33m VTK requires 3D points, but 2D points given. Appending \u001b[0m\u001b[1;33m0\u001b[0m\u001b[33m third component.\u001b[0m\n"
      ]
     },
     "metadata": {},
     "output_type": "display_data"
    },
    {
     "data": {
      "text/html": [
       "<pre style=\"white-space:pre;overflow-x:auto;line-height:normal;font-family:Menlo,'DejaVu Sans Mono',consolas,'Courier New',monospace\"><span style=\"color: #808000; text-decoration-color: #808000; font-weight: bold\">Warning:</span><span style=\"color: #808000; text-decoration-color: #808000\"> VTK requires 3D points, but 2D points given. Appending </span><span style=\"color: #808000; text-decoration-color: #808000; font-weight: bold\">0</span><span style=\"color: #808000; text-decoration-color: #808000\"> third component.</span>\n",
       "</pre>\n"
      ],
      "text/plain": [
       "\u001b[1;33mWarning:\u001b[0m\u001b[33m VTK requires 3D points, but 2D points given. Appending \u001b[0m\u001b[1;33m0\u001b[0m\u001b[33m third component.\u001b[0m\n"
      ]
     },
     "metadata": {},
     "output_type": "display_data"
    },
    {
     "data": {
      "text/html": [
       "<pre style=\"white-space:pre;overflow-x:auto;line-height:normal;font-family:Menlo,'DejaVu Sans Mono',consolas,'Courier New',monospace\"><span style=\"color: #808000; text-decoration-color: #808000; font-weight: bold\">Warning:</span><span style=\"color: #808000; text-decoration-color: #808000\"> VTK requires 3D points, but 2D points given. Appending </span><span style=\"color: #808000; text-decoration-color: #808000; font-weight: bold\">0</span><span style=\"color: #808000; text-decoration-color: #808000\"> third component.</span>\n",
       "</pre>\n"
      ],
      "text/plain": [
       "\u001b[1;33mWarning:\u001b[0m\u001b[33m VTK requires 3D points, but 2D points given. Appending \u001b[0m\u001b[1;33m0\u001b[0m\u001b[33m third component.\u001b[0m\n"
      ]
     },
     "metadata": {},
     "output_type": "display_data"
    },
    {
     "data": {
      "text/html": [
       "<pre style=\"white-space:pre;overflow-x:auto;line-height:normal;font-family:Menlo,'DejaVu Sans Mono',consolas,'Courier New',monospace\"><span style=\"color: #808000; text-decoration-color: #808000; font-weight: bold\">Warning:</span><span style=\"color: #808000; text-decoration-color: #808000\"> VTK requires 3D points, but 2D points given. Appending </span><span style=\"color: #808000; text-decoration-color: #808000; font-weight: bold\">0</span><span style=\"color: #808000; text-decoration-color: #808000\"> third component.</span>\n",
       "</pre>\n"
      ],
      "text/plain": [
       "\u001b[1;33mWarning:\u001b[0m\u001b[33m VTK requires 3D points, but 2D points given. Appending \u001b[0m\u001b[1;33m0\u001b[0m\u001b[33m third component.\u001b[0m\n"
      ]
     },
     "metadata": {},
     "output_type": "display_data"
    },
    {
     "data": {
      "text/html": [
       "<pre style=\"white-space:pre;overflow-x:auto;line-height:normal;font-family:Menlo,'DejaVu Sans Mono',consolas,'Courier New',monospace\"><span style=\"color: #808000; text-decoration-color: #808000; font-weight: bold\">Warning:</span><span style=\"color: #808000; text-decoration-color: #808000\"> VTK requires 3D points, but 2D points given. Appending </span><span style=\"color: #808000; text-decoration-color: #808000; font-weight: bold\">0</span><span style=\"color: #808000; text-decoration-color: #808000\"> third component.</span>\n",
       "</pre>\n"
      ],
      "text/plain": [
       "\u001b[1;33mWarning:\u001b[0m\u001b[33m VTK requires 3D points, but 2D points given. Appending \u001b[0m\u001b[1;33m0\u001b[0m\u001b[33m third component.\u001b[0m\n"
      ]
     },
     "metadata": {},
     "output_type": "display_data"
    },
    {
     "data": {
      "text/html": [
       "<pre style=\"white-space:pre;overflow-x:auto;line-height:normal;font-family:Menlo,'DejaVu Sans Mono',consolas,'Courier New',monospace\"><span style=\"color: #808000; text-decoration-color: #808000; font-weight: bold\">Warning:</span><span style=\"color: #808000; text-decoration-color: #808000\"> VTK requires 3D points, but 2D points given. Appending </span><span style=\"color: #808000; text-decoration-color: #808000; font-weight: bold\">0</span><span style=\"color: #808000; text-decoration-color: #808000\"> third component.</span>\n",
       "</pre>\n"
      ],
      "text/plain": [
       "\u001b[1;33mWarning:\u001b[0m\u001b[33m VTK requires 3D points, but 2D points given. Appending \u001b[0m\u001b[1;33m0\u001b[0m\u001b[33m third component.\u001b[0m\n"
      ]
     },
     "metadata": {},
     "output_type": "display_data"
    },
    {
     "data": {
      "text/html": [
       "<pre style=\"white-space:pre;overflow-x:auto;line-height:normal;font-family:Menlo,'DejaVu Sans Mono',consolas,'Courier New',monospace\"><span style=\"color: #808000; text-decoration-color: #808000; font-weight: bold\">Warning:</span><span style=\"color: #808000; text-decoration-color: #808000\"> VTK requires 3D points, but 2D points given. Appending </span><span style=\"color: #808000; text-decoration-color: #808000; font-weight: bold\">0</span><span style=\"color: #808000; text-decoration-color: #808000\"> third component.</span>\n",
       "</pre>\n"
      ],
      "text/plain": [
       "\u001b[1;33mWarning:\u001b[0m\u001b[33m VTK requires 3D points, but 2D points given. Appending \u001b[0m\u001b[1;33m0\u001b[0m\u001b[33m third component.\u001b[0m\n"
      ]
     },
     "metadata": {},
     "output_type": "display_data"
    },
    {
     "data": {
      "text/html": [
       "<pre style=\"white-space:pre;overflow-x:auto;line-height:normal;font-family:Menlo,'DejaVu Sans Mono',consolas,'Courier New',monospace\"><span style=\"color: #808000; text-decoration-color: #808000; font-weight: bold\">Warning:</span><span style=\"color: #808000; text-decoration-color: #808000\"> VTK requires 3D points, but 2D points given. Appending </span><span style=\"color: #808000; text-decoration-color: #808000; font-weight: bold\">0</span><span style=\"color: #808000; text-decoration-color: #808000\"> third component.</span>\n",
       "</pre>\n"
      ],
      "text/plain": [
       "\u001b[1;33mWarning:\u001b[0m\u001b[33m VTK requires 3D points, but 2D points given. Appending \u001b[0m\u001b[1;33m0\u001b[0m\u001b[33m third component.\u001b[0m\n"
      ]
     },
     "metadata": {},
     "output_type": "display_data"
    },
    {
     "data": {
      "text/html": [
       "<pre style=\"white-space:pre;overflow-x:auto;line-height:normal;font-family:Menlo,'DejaVu Sans Mono',consolas,'Courier New',monospace\"><span style=\"color: #808000; text-decoration-color: #808000; font-weight: bold\">Warning:</span><span style=\"color: #808000; text-decoration-color: #808000\"> VTK requires 3D points, but 2D points given. Appending </span><span style=\"color: #808000; text-decoration-color: #808000; font-weight: bold\">0</span><span style=\"color: #808000; text-decoration-color: #808000\"> third component.</span>\n",
       "</pre>\n"
      ],
      "text/plain": [
       "\u001b[1;33mWarning:\u001b[0m\u001b[33m VTK requires 3D points, but 2D points given. Appending \u001b[0m\u001b[1;33m0\u001b[0m\u001b[33m third component.\u001b[0m\n"
      ]
     },
     "metadata": {},
     "output_type": "display_data"
    },
    {
     "data": {
      "text/html": [
       "<pre style=\"white-space:pre;overflow-x:auto;line-height:normal;font-family:Menlo,'DejaVu Sans Mono',consolas,'Courier New',monospace\"><span style=\"color: #808000; text-decoration-color: #808000; font-weight: bold\">Warning:</span><span style=\"color: #808000; text-decoration-color: #808000\"> VTK requires 3D points, but 2D points given. Appending </span><span style=\"color: #808000; text-decoration-color: #808000; font-weight: bold\">0</span><span style=\"color: #808000; text-decoration-color: #808000\"> third component.</span>\n",
       "</pre>\n"
      ],
      "text/plain": [
       "\u001b[1;33mWarning:\u001b[0m\u001b[33m VTK requires 3D points, but 2D points given. Appending \u001b[0m\u001b[1;33m0\u001b[0m\u001b[33m third component.\u001b[0m\n"
      ]
     },
     "metadata": {},
     "output_type": "display_data"
    },
    {
     "data": {
      "text/html": [
       "<pre style=\"white-space:pre;overflow-x:auto;line-height:normal;font-family:Menlo,'DejaVu Sans Mono',consolas,'Courier New',monospace\"><span style=\"color: #808000; text-decoration-color: #808000; font-weight: bold\">Warning:</span><span style=\"color: #808000; text-decoration-color: #808000\"> VTK requires 3D points, but 2D points given. Appending </span><span style=\"color: #808000; text-decoration-color: #808000; font-weight: bold\">0</span><span style=\"color: #808000; text-decoration-color: #808000\"> third component.</span>\n",
       "</pre>\n"
      ],
      "text/plain": [
       "\u001b[1;33mWarning:\u001b[0m\u001b[33m VTK requires 3D points, but 2D points given. Appending \u001b[0m\u001b[1;33m0\u001b[0m\u001b[33m third component.\u001b[0m\n"
      ]
     },
     "metadata": {},
     "output_type": "display_data"
    },
    {
     "data": {
      "text/html": [
       "<pre style=\"white-space:pre;overflow-x:auto;line-height:normal;font-family:Menlo,'DejaVu Sans Mono',consolas,'Courier New',monospace\"><span style=\"color: #808000; text-decoration-color: #808000; font-weight: bold\">Warning:</span><span style=\"color: #808000; text-decoration-color: #808000\"> VTK requires 3D points, but 2D points given. Appending </span><span style=\"color: #808000; text-decoration-color: #808000; font-weight: bold\">0</span><span style=\"color: #808000; text-decoration-color: #808000\"> third component.</span>\n",
       "</pre>\n"
      ],
      "text/plain": [
       "\u001b[1;33mWarning:\u001b[0m\u001b[33m VTK requires 3D points, but 2D points given. Appending \u001b[0m\u001b[1;33m0\u001b[0m\u001b[33m third component.\u001b[0m\n"
      ]
     },
     "metadata": {},
     "output_type": "display_data"
    },
    {
     "data": {
      "text/html": [
       "<pre style=\"white-space:pre;overflow-x:auto;line-height:normal;font-family:Menlo,'DejaVu Sans Mono',consolas,'Courier New',monospace\"><span style=\"color: #808000; text-decoration-color: #808000; font-weight: bold\">Warning:</span><span style=\"color: #808000; text-decoration-color: #808000\"> VTK requires 3D points, but 2D points given. Appending </span><span style=\"color: #808000; text-decoration-color: #808000; font-weight: bold\">0</span><span style=\"color: #808000; text-decoration-color: #808000\"> third component.</span>\n",
       "</pre>\n"
      ],
      "text/plain": [
       "\u001b[1;33mWarning:\u001b[0m\u001b[33m VTK requires 3D points, but 2D points given. Appending \u001b[0m\u001b[1;33m0\u001b[0m\u001b[33m third component.\u001b[0m\n"
      ]
     },
     "metadata": {},
     "output_type": "display_data"
    },
    {
     "data": {
      "text/html": [
       "<pre style=\"white-space:pre;overflow-x:auto;line-height:normal;font-family:Menlo,'DejaVu Sans Mono',consolas,'Courier New',monospace\"><span style=\"color: #808000; text-decoration-color: #808000; font-weight: bold\">Warning:</span><span style=\"color: #808000; text-decoration-color: #808000\"> VTK requires 3D points, but 2D points given. Appending </span><span style=\"color: #808000; text-decoration-color: #808000; font-weight: bold\">0</span><span style=\"color: #808000; text-decoration-color: #808000\"> third component.</span>\n",
       "</pre>\n"
      ],
      "text/plain": [
       "\u001b[1;33mWarning:\u001b[0m\u001b[33m VTK requires 3D points, but 2D points given. Appending \u001b[0m\u001b[1;33m0\u001b[0m\u001b[33m third component.\u001b[0m\n"
      ]
     },
     "metadata": {},
     "output_type": "display_data"
    },
    {
     "data": {
      "text/html": [
       "<pre style=\"white-space:pre;overflow-x:auto;line-height:normal;font-family:Menlo,'DejaVu Sans Mono',consolas,'Courier New',monospace\"><span style=\"color: #808000; text-decoration-color: #808000; font-weight: bold\">Warning:</span><span style=\"color: #808000; text-decoration-color: #808000\"> VTK requires 3D points, but 2D points given. Appending </span><span style=\"color: #808000; text-decoration-color: #808000; font-weight: bold\">0</span><span style=\"color: #808000; text-decoration-color: #808000\"> third component.</span>\n",
       "</pre>\n"
      ],
      "text/plain": [
       "\u001b[1;33mWarning:\u001b[0m\u001b[33m VTK requires 3D points, but 2D points given. Appending \u001b[0m\u001b[1;33m0\u001b[0m\u001b[33m third component.\u001b[0m\n"
      ]
     },
     "metadata": {},
     "output_type": "display_data"
    },
    {
     "data": {
      "text/html": [
       "<pre style=\"white-space:pre;overflow-x:auto;line-height:normal;font-family:Menlo,'DejaVu Sans Mono',consolas,'Courier New',monospace\"><span style=\"color: #808000; text-decoration-color: #808000; font-weight: bold\">Warning:</span><span style=\"color: #808000; text-decoration-color: #808000\"> VTK requires 3D points, but 2D points given. Appending </span><span style=\"color: #808000; text-decoration-color: #808000; font-weight: bold\">0</span><span style=\"color: #808000; text-decoration-color: #808000\"> third component.</span>\n",
       "</pre>\n"
      ],
      "text/plain": [
       "\u001b[1;33mWarning:\u001b[0m\u001b[33m VTK requires 3D points, but 2D points given. Appending \u001b[0m\u001b[1;33m0\u001b[0m\u001b[33m third component.\u001b[0m\n"
      ]
     },
     "metadata": {},
     "output_type": "display_data"
    },
    {
     "data": {
      "text/html": [
       "<pre style=\"white-space:pre;overflow-x:auto;line-height:normal;font-family:Menlo,'DejaVu Sans Mono',consolas,'Courier New',monospace\"><span style=\"color: #808000; text-decoration-color: #808000; font-weight: bold\">Warning:</span><span style=\"color: #808000; text-decoration-color: #808000\"> VTK requires 3D points, but 2D points given. Appending </span><span style=\"color: #808000; text-decoration-color: #808000; font-weight: bold\">0</span><span style=\"color: #808000; text-decoration-color: #808000\"> third component.</span>\n",
       "</pre>\n"
      ],
      "text/plain": [
       "\u001b[1;33mWarning:\u001b[0m\u001b[33m VTK requires 3D points, but 2D points given. Appending \u001b[0m\u001b[1;33m0\u001b[0m\u001b[33m third component.\u001b[0m\n"
      ]
     },
     "metadata": {},
     "output_type": "display_data"
    },
    {
     "data": {
      "text/html": [
       "<pre style=\"white-space:pre;overflow-x:auto;line-height:normal;font-family:Menlo,'DejaVu Sans Mono',consolas,'Courier New',monospace\"><span style=\"color: #808000; text-decoration-color: #808000; font-weight: bold\">Warning:</span><span style=\"color: #808000; text-decoration-color: #808000\"> VTK requires 3D points, but 2D points given. Appending </span><span style=\"color: #808000; text-decoration-color: #808000; font-weight: bold\">0</span><span style=\"color: #808000; text-decoration-color: #808000\"> third component.</span>\n",
       "</pre>\n"
      ],
      "text/plain": [
       "\u001b[1;33mWarning:\u001b[0m\u001b[33m VTK requires 3D points, but 2D points given. Appending \u001b[0m\u001b[1;33m0\u001b[0m\u001b[33m third component.\u001b[0m\n"
      ]
     },
     "metadata": {},
     "output_type": "display_data"
    },
    {
     "data": {
      "text/html": [
       "<pre style=\"white-space:pre;overflow-x:auto;line-height:normal;font-family:Menlo,'DejaVu Sans Mono',consolas,'Courier New',monospace\"><span style=\"color: #808000; text-decoration-color: #808000; font-weight: bold\">Warning:</span><span style=\"color: #808000; text-decoration-color: #808000\"> VTK requires 3D points, but 2D points given. Appending </span><span style=\"color: #808000; text-decoration-color: #808000; font-weight: bold\">0</span><span style=\"color: #808000; text-decoration-color: #808000\"> third component.</span>\n",
       "</pre>\n"
      ],
      "text/plain": [
       "\u001b[1;33mWarning:\u001b[0m\u001b[33m VTK requires 3D points, but 2D points given. Appending \u001b[0m\u001b[1;33m0\u001b[0m\u001b[33m third component.\u001b[0m\n"
      ]
     },
     "metadata": {},
     "output_type": "display_data"
    },
    {
     "data": {
      "text/html": [
       "<pre style=\"white-space:pre;overflow-x:auto;line-height:normal;font-family:Menlo,'DejaVu Sans Mono',consolas,'Courier New',monospace\"><span style=\"color: #808000; text-decoration-color: #808000; font-weight: bold\">Warning:</span><span style=\"color: #808000; text-decoration-color: #808000\"> VTK requires 3D points, but 2D points given. Appending </span><span style=\"color: #808000; text-decoration-color: #808000; font-weight: bold\">0</span><span style=\"color: #808000; text-decoration-color: #808000\"> third component.</span>\n",
       "</pre>\n"
      ],
      "text/plain": [
       "\u001b[1;33mWarning:\u001b[0m\u001b[33m VTK requires 3D points, but 2D points given. Appending \u001b[0m\u001b[1;33m0\u001b[0m\u001b[33m third component.\u001b[0m\n"
      ]
     },
     "metadata": {},
     "output_type": "display_data"
    },
    {
     "data": {
      "text/html": [
       "<pre style=\"white-space:pre;overflow-x:auto;line-height:normal;font-family:Menlo,'DejaVu Sans Mono',consolas,'Courier New',monospace\"><span style=\"color: #808000; text-decoration-color: #808000; font-weight: bold\">Warning:</span><span style=\"color: #808000; text-decoration-color: #808000\"> VTK requires 3D points, but 2D points given. Appending </span><span style=\"color: #808000; text-decoration-color: #808000; font-weight: bold\">0</span><span style=\"color: #808000; text-decoration-color: #808000\"> third component.</span>\n",
       "</pre>\n"
      ],
      "text/plain": [
       "\u001b[1;33mWarning:\u001b[0m\u001b[33m VTK requires 3D points, but 2D points given. Appending \u001b[0m\u001b[1;33m0\u001b[0m\u001b[33m third component.\u001b[0m\n"
      ]
     },
     "metadata": {},
     "output_type": "display_data"
    },
    {
     "data": {
      "text/html": [
       "<pre style=\"white-space:pre;overflow-x:auto;line-height:normal;font-family:Menlo,'DejaVu Sans Mono',consolas,'Courier New',monospace\"><span style=\"color: #808000; text-decoration-color: #808000; font-weight: bold\">Warning:</span><span style=\"color: #808000; text-decoration-color: #808000\"> VTK requires 3D points, but 2D points given. Appending </span><span style=\"color: #808000; text-decoration-color: #808000; font-weight: bold\">0</span><span style=\"color: #808000; text-decoration-color: #808000\"> third component.</span>\n",
       "</pre>\n"
      ],
      "text/plain": [
       "\u001b[1;33mWarning:\u001b[0m\u001b[33m VTK requires 3D points, but 2D points given. Appending \u001b[0m\u001b[1;33m0\u001b[0m\u001b[33m third component.\u001b[0m\n"
      ]
     },
     "metadata": {},
     "output_type": "display_data"
    },
    {
     "data": {
      "text/html": [
       "<pre style=\"white-space:pre;overflow-x:auto;line-height:normal;font-family:Menlo,'DejaVu Sans Mono',consolas,'Courier New',monospace\"><span style=\"color: #808000; text-decoration-color: #808000; font-weight: bold\">Warning:</span><span style=\"color: #808000; text-decoration-color: #808000\"> VTK requires 3D points, but 2D points given. Appending </span><span style=\"color: #808000; text-decoration-color: #808000; font-weight: bold\">0</span><span style=\"color: #808000; text-decoration-color: #808000\"> third component.</span>\n",
       "</pre>\n"
      ],
      "text/plain": [
       "\u001b[1;33mWarning:\u001b[0m\u001b[33m VTK requires 3D points, but 2D points given. Appending \u001b[0m\u001b[1;33m0\u001b[0m\u001b[33m third component.\u001b[0m\n"
      ]
     },
     "metadata": {},
     "output_type": "display_data"
    },
    {
     "data": {
      "text/html": [
       "<pre style=\"white-space:pre;overflow-x:auto;line-height:normal;font-family:Menlo,'DejaVu Sans Mono',consolas,'Courier New',monospace\"><span style=\"color: #808000; text-decoration-color: #808000; font-weight: bold\">Warning:</span><span style=\"color: #808000; text-decoration-color: #808000\"> VTK requires 3D points, but 2D points given. Appending </span><span style=\"color: #808000; text-decoration-color: #808000; font-weight: bold\">0</span><span style=\"color: #808000; text-decoration-color: #808000\"> third component.</span>\n",
       "</pre>\n"
      ],
      "text/plain": [
       "\u001b[1;33mWarning:\u001b[0m\u001b[33m VTK requires 3D points, but 2D points given. Appending \u001b[0m\u001b[1;33m0\u001b[0m\u001b[33m third component.\u001b[0m\n"
      ]
     },
     "metadata": {},
     "output_type": "display_data"
    },
    {
     "data": {
      "text/html": [
       "<pre style=\"white-space:pre;overflow-x:auto;line-height:normal;font-family:Menlo,'DejaVu Sans Mono',consolas,'Courier New',monospace\"><span style=\"color: #808000; text-decoration-color: #808000; font-weight: bold\">Warning:</span><span style=\"color: #808000; text-decoration-color: #808000\"> VTK requires 3D points, but 2D points given. Appending </span><span style=\"color: #808000; text-decoration-color: #808000; font-weight: bold\">0</span><span style=\"color: #808000; text-decoration-color: #808000\"> third component.</span>\n",
       "</pre>\n"
      ],
      "text/plain": [
       "\u001b[1;33mWarning:\u001b[0m\u001b[33m VTK requires 3D points, but 2D points given. Appending \u001b[0m\u001b[1;33m0\u001b[0m\u001b[33m third component.\u001b[0m\n"
      ]
     },
     "metadata": {},
     "output_type": "display_data"
    },
    {
     "data": {
      "text/html": [
       "<pre style=\"white-space:pre;overflow-x:auto;line-height:normal;font-family:Menlo,'DejaVu Sans Mono',consolas,'Courier New',monospace\"><span style=\"color: #808000; text-decoration-color: #808000; font-weight: bold\">Warning:</span><span style=\"color: #808000; text-decoration-color: #808000\"> VTK requires 3D points, but 2D points given. Appending </span><span style=\"color: #808000; text-decoration-color: #808000; font-weight: bold\">0</span><span style=\"color: #808000; text-decoration-color: #808000\"> third component.</span>\n",
       "</pre>\n"
      ],
      "text/plain": [
       "\u001b[1;33mWarning:\u001b[0m\u001b[33m VTK requires 3D points, but 2D points given. Appending \u001b[0m\u001b[1;33m0\u001b[0m\u001b[33m third component.\u001b[0m\n"
      ]
     },
     "metadata": {},
     "output_type": "display_data"
    },
    {
     "data": {
      "text/html": [
       "<pre style=\"white-space:pre;overflow-x:auto;line-height:normal;font-family:Menlo,'DejaVu Sans Mono',consolas,'Courier New',monospace\"><span style=\"color: #808000; text-decoration-color: #808000; font-weight: bold\">Warning:</span><span style=\"color: #808000; text-decoration-color: #808000\"> VTK requires 3D points, but 2D points given. Appending </span><span style=\"color: #808000; text-decoration-color: #808000; font-weight: bold\">0</span><span style=\"color: #808000; text-decoration-color: #808000\"> third component.</span>\n",
       "</pre>\n"
      ],
      "text/plain": [
       "\u001b[1;33mWarning:\u001b[0m\u001b[33m VTK requires 3D points, but 2D points given. Appending \u001b[0m\u001b[1;33m0\u001b[0m\u001b[33m third component.\u001b[0m\n"
      ]
     },
     "metadata": {},
     "output_type": "display_data"
    },
    {
     "data": {
      "text/html": [
       "<pre style=\"white-space:pre;overflow-x:auto;line-height:normal;font-family:Menlo,'DejaVu Sans Mono',consolas,'Courier New',monospace\"><span style=\"color: #808000; text-decoration-color: #808000; font-weight: bold\">Warning:</span><span style=\"color: #808000; text-decoration-color: #808000\"> VTK requires 3D points, but 2D points given. Appending </span><span style=\"color: #808000; text-decoration-color: #808000; font-weight: bold\">0</span><span style=\"color: #808000; text-decoration-color: #808000\"> third component.</span>\n",
       "</pre>\n"
      ],
      "text/plain": [
       "\u001b[1;33mWarning:\u001b[0m\u001b[33m VTK requires 3D points, but 2D points given. Appending \u001b[0m\u001b[1;33m0\u001b[0m\u001b[33m third component.\u001b[0m\n"
      ]
     },
     "metadata": {},
     "output_type": "display_data"
    },
    {
     "data": {
      "text/html": [
       "<pre style=\"white-space:pre;overflow-x:auto;line-height:normal;font-family:Menlo,'DejaVu Sans Mono',consolas,'Courier New',monospace\"><span style=\"color: #808000; text-decoration-color: #808000; font-weight: bold\">Warning:</span><span style=\"color: #808000; text-decoration-color: #808000\"> VTK requires 3D points, but 2D points given. Appending </span><span style=\"color: #808000; text-decoration-color: #808000; font-weight: bold\">0</span><span style=\"color: #808000; text-decoration-color: #808000\"> third component.</span>\n",
       "</pre>\n"
      ],
      "text/plain": [
       "\u001b[1;33mWarning:\u001b[0m\u001b[33m VTK requires 3D points, but 2D points given. Appending \u001b[0m\u001b[1;33m0\u001b[0m\u001b[33m third component.\u001b[0m\n"
      ]
     },
     "metadata": {},
     "output_type": "display_data"
    },
    {
     "data": {
      "text/html": [
       "<pre style=\"white-space:pre;overflow-x:auto;line-height:normal;font-family:Menlo,'DejaVu Sans Mono',consolas,'Courier New',monospace\"><span style=\"color: #808000; text-decoration-color: #808000; font-weight: bold\">Warning:</span><span style=\"color: #808000; text-decoration-color: #808000\"> VTK requires 3D points, but 2D points given. Appending </span><span style=\"color: #808000; text-decoration-color: #808000; font-weight: bold\">0</span><span style=\"color: #808000; text-decoration-color: #808000\"> third component.</span>\n",
       "</pre>\n"
      ],
      "text/plain": [
       "\u001b[1;33mWarning:\u001b[0m\u001b[33m VTK requires 3D points, but 2D points given. Appending \u001b[0m\u001b[1;33m0\u001b[0m\u001b[33m third component.\u001b[0m\n"
      ]
     },
     "metadata": {},
     "output_type": "display_data"
    },
    {
     "data": {
      "text/html": [
       "<pre style=\"white-space:pre;overflow-x:auto;line-height:normal;font-family:Menlo,'DejaVu Sans Mono',consolas,'Courier New',monospace\"><span style=\"color: #808000; text-decoration-color: #808000; font-weight: bold\">Warning:</span><span style=\"color: #808000; text-decoration-color: #808000\"> VTK requires 3D points, but 2D points given. Appending </span><span style=\"color: #808000; text-decoration-color: #808000; font-weight: bold\">0</span><span style=\"color: #808000; text-decoration-color: #808000\"> third component.</span>\n",
       "</pre>\n"
      ],
      "text/plain": [
       "\u001b[1;33mWarning:\u001b[0m\u001b[33m VTK requires 3D points, but 2D points given. Appending \u001b[0m\u001b[1;33m0\u001b[0m\u001b[33m third component.\u001b[0m\n"
      ]
     },
     "metadata": {},
     "output_type": "display_data"
    },
    {
     "data": {
      "text/html": [
       "<pre style=\"white-space:pre;overflow-x:auto;line-height:normal;font-family:Menlo,'DejaVu Sans Mono',consolas,'Courier New',monospace\"><span style=\"color: #808000; text-decoration-color: #808000; font-weight: bold\">Warning:</span><span style=\"color: #808000; text-decoration-color: #808000\"> VTK requires 3D points, but 2D points given. Appending </span><span style=\"color: #808000; text-decoration-color: #808000; font-weight: bold\">0</span><span style=\"color: #808000; text-decoration-color: #808000\"> third component.</span>\n",
       "</pre>\n"
      ],
      "text/plain": [
       "\u001b[1;33mWarning:\u001b[0m\u001b[33m VTK requires 3D points, but 2D points given. Appending \u001b[0m\u001b[1;33m0\u001b[0m\u001b[33m third component.\u001b[0m\n"
      ]
     },
     "metadata": {},
     "output_type": "display_data"
    },
    {
     "data": {
      "text/html": [
       "<pre style=\"white-space:pre;overflow-x:auto;line-height:normal;font-family:Menlo,'DejaVu Sans Mono',consolas,'Courier New',monospace\"><span style=\"color: #808000; text-decoration-color: #808000; font-weight: bold\">Warning:</span><span style=\"color: #808000; text-decoration-color: #808000\"> VTK requires 3D points, but 2D points given. Appending </span><span style=\"color: #808000; text-decoration-color: #808000; font-weight: bold\">0</span><span style=\"color: #808000; text-decoration-color: #808000\"> third component.</span>\n",
       "</pre>\n"
      ],
      "text/plain": [
       "\u001b[1;33mWarning:\u001b[0m\u001b[33m VTK requires 3D points, but 2D points given. Appending \u001b[0m\u001b[1;33m0\u001b[0m\u001b[33m third component.\u001b[0m\n"
      ]
     },
     "metadata": {},
     "output_type": "display_data"
    },
    {
     "data": {
      "text/html": [
       "<pre style=\"white-space:pre;overflow-x:auto;line-height:normal;font-family:Menlo,'DejaVu Sans Mono',consolas,'Courier New',monospace\"><span style=\"color: #808000; text-decoration-color: #808000; font-weight: bold\">Warning:</span><span style=\"color: #808000; text-decoration-color: #808000\"> VTK requires 3D points, but 2D points given. Appending </span><span style=\"color: #808000; text-decoration-color: #808000; font-weight: bold\">0</span><span style=\"color: #808000; text-decoration-color: #808000\"> third component.</span>\n",
       "</pre>\n"
      ],
      "text/plain": [
       "\u001b[1;33mWarning:\u001b[0m\u001b[33m VTK requires 3D points, but 2D points given. Appending \u001b[0m\u001b[1;33m0\u001b[0m\u001b[33m third component.\u001b[0m\n"
      ]
     },
     "metadata": {},
     "output_type": "display_data"
    },
    {
     "data": {
      "text/html": [
       "<pre style=\"white-space:pre;overflow-x:auto;line-height:normal;font-family:Menlo,'DejaVu Sans Mono',consolas,'Courier New',monospace\"><span style=\"color: #808000; text-decoration-color: #808000; font-weight: bold\">Warning:</span><span style=\"color: #808000; text-decoration-color: #808000\"> VTK requires 3D points, but 2D points given. Appending </span><span style=\"color: #808000; text-decoration-color: #808000; font-weight: bold\">0</span><span style=\"color: #808000; text-decoration-color: #808000\"> third component.</span>\n",
       "</pre>\n"
      ],
      "text/plain": [
       "\u001b[1;33mWarning:\u001b[0m\u001b[33m VTK requires 3D points, but 2D points given. Appending \u001b[0m\u001b[1;33m0\u001b[0m\u001b[33m third component.\u001b[0m\n"
      ]
     },
     "metadata": {},
     "output_type": "display_data"
    },
    {
     "data": {
      "text/html": [
       "<pre style=\"white-space:pre;overflow-x:auto;line-height:normal;font-family:Menlo,'DejaVu Sans Mono',consolas,'Courier New',monospace\"><span style=\"color: #808000; text-decoration-color: #808000; font-weight: bold\">Warning:</span><span style=\"color: #808000; text-decoration-color: #808000\"> VTK requires 3D points, but 2D points given. Appending </span><span style=\"color: #808000; text-decoration-color: #808000; font-weight: bold\">0</span><span style=\"color: #808000; text-decoration-color: #808000\"> third component.</span>\n",
       "</pre>\n"
      ],
      "text/plain": [
       "\u001b[1;33mWarning:\u001b[0m\u001b[33m VTK requires 3D points, but 2D points given. Appending \u001b[0m\u001b[1;33m0\u001b[0m\u001b[33m third component.\u001b[0m\n"
      ]
     },
     "metadata": {},
     "output_type": "display_data"
    },
    {
     "data": {
      "text/html": [
       "<pre style=\"white-space:pre;overflow-x:auto;line-height:normal;font-family:Menlo,'DejaVu Sans Mono',consolas,'Courier New',monospace\"><span style=\"color: #808000; text-decoration-color: #808000; font-weight: bold\">Warning:</span><span style=\"color: #808000; text-decoration-color: #808000\"> VTK requires 3D points, but 2D points given. Appending </span><span style=\"color: #808000; text-decoration-color: #808000; font-weight: bold\">0</span><span style=\"color: #808000; text-decoration-color: #808000\"> third component.</span>\n",
       "</pre>\n"
      ],
      "text/plain": [
       "\u001b[1;33mWarning:\u001b[0m\u001b[33m VTK requires 3D points, but 2D points given. Appending \u001b[0m\u001b[1;33m0\u001b[0m\u001b[33m third component.\u001b[0m\n"
      ]
     },
     "metadata": {},
     "output_type": "display_data"
    },
    {
     "data": {
      "text/html": [
       "<pre style=\"white-space:pre;overflow-x:auto;line-height:normal;font-family:Menlo,'DejaVu Sans Mono',consolas,'Courier New',monospace\"><span style=\"color: #808000; text-decoration-color: #808000; font-weight: bold\">Warning:</span><span style=\"color: #808000; text-decoration-color: #808000\"> VTK requires 3D points, but 2D points given. Appending </span><span style=\"color: #808000; text-decoration-color: #808000; font-weight: bold\">0</span><span style=\"color: #808000; text-decoration-color: #808000\"> third component.</span>\n",
       "</pre>\n"
      ],
      "text/plain": [
       "\u001b[1;33mWarning:\u001b[0m\u001b[33m VTK requires 3D points, but 2D points given. Appending \u001b[0m\u001b[1;33m0\u001b[0m\u001b[33m third component.\u001b[0m\n"
      ]
     },
     "metadata": {},
     "output_type": "display_data"
    },
    {
     "data": {
      "text/html": [
       "<pre style=\"white-space:pre;overflow-x:auto;line-height:normal;font-family:Menlo,'DejaVu Sans Mono',consolas,'Courier New',monospace\"><span style=\"color: #808000; text-decoration-color: #808000; font-weight: bold\">Warning:</span><span style=\"color: #808000; text-decoration-color: #808000\"> VTK requires 3D points, but 2D points given. Appending </span><span style=\"color: #808000; text-decoration-color: #808000; font-weight: bold\">0</span><span style=\"color: #808000; text-decoration-color: #808000\"> third component.</span>\n",
       "</pre>\n"
      ],
      "text/plain": [
       "\u001b[1;33mWarning:\u001b[0m\u001b[33m VTK requires 3D points, but 2D points given. Appending \u001b[0m\u001b[1;33m0\u001b[0m\u001b[33m third component.\u001b[0m\n"
      ]
     },
     "metadata": {},
     "output_type": "display_data"
    },
    {
     "data": {
      "text/html": [
       "<pre style=\"white-space:pre;overflow-x:auto;line-height:normal;font-family:Menlo,'DejaVu Sans Mono',consolas,'Courier New',monospace\"><span style=\"color: #808000; text-decoration-color: #808000; font-weight: bold\">Warning:</span><span style=\"color: #808000; text-decoration-color: #808000\"> VTK requires 3D points, but 2D points given. Appending </span><span style=\"color: #808000; text-decoration-color: #808000; font-weight: bold\">0</span><span style=\"color: #808000; text-decoration-color: #808000\"> third component.</span>\n",
       "</pre>\n"
      ],
      "text/plain": [
       "\u001b[1;33mWarning:\u001b[0m\u001b[33m VTK requires 3D points, but 2D points given. Appending \u001b[0m\u001b[1;33m0\u001b[0m\u001b[33m third component.\u001b[0m\n"
      ]
     },
     "metadata": {},
     "output_type": "display_data"
    },
    {
     "data": {
      "text/html": [
       "<pre style=\"white-space:pre;overflow-x:auto;line-height:normal;font-family:Menlo,'DejaVu Sans Mono',consolas,'Courier New',monospace\"><span style=\"color: #808000; text-decoration-color: #808000; font-weight: bold\">Warning:</span><span style=\"color: #808000; text-decoration-color: #808000\"> VTK requires 3D points, but 2D points given. Appending </span><span style=\"color: #808000; text-decoration-color: #808000; font-weight: bold\">0</span><span style=\"color: #808000; text-decoration-color: #808000\"> third component.</span>\n",
       "</pre>\n"
      ],
      "text/plain": [
       "\u001b[1;33mWarning:\u001b[0m\u001b[33m VTK requires 3D points, but 2D points given. Appending \u001b[0m\u001b[1;33m0\u001b[0m\u001b[33m third component.\u001b[0m\n"
      ]
     },
     "metadata": {},
     "output_type": "display_data"
    },
    {
     "data": {
      "text/html": [
       "<pre style=\"white-space:pre;overflow-x:auto;line-height:normal;font-family:Menlo,'DejaVu Sans Mono',consolas,'Courier New',monospace\"><span style=\"color: #808000; text-decoration-color: #808000; font-weight: bold\">Warning:</span><span style=\"color: #808000; text-decoration-color: #808000\"> VTK requires 3D points, but 2D points given. Appending </span><span style=\"color: #808000; text-decoration-color: #808000; font-weight: bold\">0</span><span style=\"color: #808000; text-decoration-color: #808000\"> third component.</span>\n",
       "</pre>\n"
      ],
      "text/plain": [
       "\u001b[1;33mWarning:\u001b[0m\u001b[33m VTK requires 3D points, but 2D points given. Appending \u001b[0m\u001b[1;33m0\u001b[0m\u001b[33m third component.\u001b[0m\n"
      ]
     },
     "metadata": {},
     "output_type": "display_data"
    },
    {
     "data": {
      "text/html": [
       "<pre style=\"white-space:pre;overflow-x:auto;line-height:normal;font-family:Menlo,'DejaVu Sans Mono',consolas,'Courier New',monospace\"><span style=\"color: #808000; text-decoration-color: #808000; font-weight: bold\">Warning:</span><span style=\"color: #808000; text-decoration-color: #808000\"> VTK requires 3D points, but 2D points given. Appending </span><span style=\"color: #808000; text-decoration-color: #808000; font-weight: bold\">0</span><span style=\"color: #808000; text-decoration-color: #808000\"> third component.</span>\n",
       "</pre>\n"
      ],
      "text/plain": [
       "\u001b[1;33mWarning:\u001b[0m\u001b[33m VTK requires 3D points, but 2D points given. Appending \u001b[0m\u001b[1;33m0\u001b[0m\u001b[33m third component.\u001b[0m\n"
      ]
     },
     "metadata": {},
     "output_type": "display_data"
    },
    {
     "data": {
      "text/html": [
       "<pre style=\"white-space:pre;overflow-x:auto;line-height:normal;font-family:Menlo,'DejaVu Sans Mono',consolas,'Courier New',monospace\"><span style=\"color: #808000; text-decoration-color: #808000; font-weight: bold\">Warning:</span><span style=\"color: #808000; text-decoration-color: #808000\"> VTK requires 3D points, but 2D points given. Appending </span><span style=\"color: #808000; text-decoration-color: #808000; font-weight: bold\">0</span><span style=\"color: #808000; text-decoration-color: #808000\"> third component.</span>\n",
       "</pre>\n"
      ],
      "text/plain": [
       "\u001b[1;33mWarning:\u001b[0m\u001b[33m VTK requires 3D points, but 2D points given. Appending \u001b[0m\u001b[1;33m0\u001b[0m\u001b[33m third component.\u001b[0m\n"
      ]
     },
     "metadata": {},
     "output_type": "display_data"
    },
    {
     "data": {
      "text/html": [
       "<pre style=\"white-space:pre;overflow-x:auto;line-height:normal;font-family:Menlo,'DejaVu Sans Mono',consolas,'Courier New',monospace\"><span style=\"color: #808000; text-decoration-color: #808000; font-weight: bold\">Warning:</span><span style=\"color: #808000; text-decoration-color: #808000\"> VTK requires 3D points, but 2D points given. Appending </span><span style=\"color: #808000; text-decoration-color: #808000; font-weight: bold\">0</span><span style=\"color: #808000; text-decoration-color: #808000\"> third component.</span>\n",
       "</pre>\n"
      ],
      "text/plain": [
       "\u001b[1;33mWarning:\u001b[0m\u001b[33m VTK requires 3D points, but 2D points given. Appending \u001b[0m\u001b[1;33m0\u001b[0m\u001b[33m third component.\u001b[0m\n"
      ]
     },
     "metadata": {},
     "output_type": "display_data"
    },
    {
     "data": {
      "text/html": [
       "<pre style=\"white-space:pre;overflow-x:auto;line-height:normal;font-family:Menlo,'DejaVu Sans Mono',consolas,'Courier New',monospace\"><span style=\"color: #808000; text-decoration-color: #808000; font-weight: bold\">Warning:</span><span style=\"color: #808000; text-decoration-color: #808000\"> VTK requires 3D points, but 2D points given. Appending </span><span style=\"color: #808000; text-decoration-color: #808000; font-weight: bold\">0</span><span style=\"color: #808000; text-decoration-color: #808000\"> third component.</span>\n",
       "</pre>\n"
      ],
      "text/plain": [
       "\u001b[1;33mWarning:\u001b[0m\u001b[33m VTK requires 3D points, but 2D points given. Appending \u001b[0m\u001b[1;33m0\u001b[0m\u001b[33m third component.\u001b[0m\n"
      ]
     },
     "metadata": {},
     "output_type": "display_data"
    },
    {
     "data": {
      "text/html": [
       "<pre style=\"white-space:pre;overflow-x:auto;line-height:normal;font-family:Menlo,'DejaVu Sans Mono',consolas,'Courier New',monospace\"><span style=\"color: #808000; text-decoration-color: #808000; font-weight: bold\">Warning:</span><span style=\"color: #808000; text-decoration-color: #808000\"> VTK requires 3D points, but 2D points given. Appending </span><span style=\"color: #808000; text-decoration-color: #808000; font-weight: bold\">0</span><span style=\"color: #808000; text-decoration-color: #808000\"> third component.</span>\n",
       "</pre>\n"
      ],
      "text/plain": [
       "\u001b[1;33mWarning:\u001b[0m\u001b[33m VTK requires 3D points, but 2D points given. Appending \u001b[0m\u001b[1;33m0\u001b[0m\u001b[33m third component.\u001b[0m\n"
      ]
     },
     "metadata": {},
     "output_type": "display_data"
    },
    {
     "data": {
      "text/html": [
       "<pre style=\"white-space:pre;overflow-x:auto;line-height:normal;font-family:Menlo,'DejaVu Sans Mono',consolas,'Courier New',monospace\"><span style=\"color: #808000; text-decoration-color: #808000; font-weight: bold\">Warning:</span><span style=\"color: #808000; text-decoration-color: #808000\"> VTK requires 3D points, but 2D points given. Appending </span><span style=\"color: #808000; text-decoration-color: #808000; font-weight: bold\">0</span><span style=\"color: #808000; text-decoration-color: #808000\"> third component.</span>\n",
       "</pre>\n"
      ],
      "text/plain": [
       "\u001b[1;33mWarning:\u001b[0m\u001b[33m VTK requires 3D points, but 2D points given. Appending \u001b[0m\u001b[1;33m0\u001b[0m\u001b[33m third component.\u001b[0m\n"
      ]
     },
     "metadata": {},
     "output_type": "display_data"
    },
    {
     "data": {
      "text/html": [
       "<pre style=\"white-space:pre;overflow-x:auto;line-height:normal;font-family:Menlo,'DejaVu Sans Mono',consolas,'Courier New',monospace\"><span style=\"color: #808000; text-decoration-color: #808000; font-weight: bold\">Warning:</span><span style=\"color: #808000; text-decoration-color: #808000\"> VTK requires 3D points, but 2D points given. Appending </span><span style=\"color: #808000; text-decoration-color: #808000; font-weight: bold\">0</span><span style=\"color: #808000; text-decoration-color: #808000\"> third component.</span>\n",
       "</pre>\n"
      ],
      "text/plain": [
       "\u001b[1;33mWarning:\u001b[0m\u001b[33m VTK requires 3D points, but 2D points given. Appending \u001b[0m\u001b[1;33m0\u001b[0m\u001b[33m third component.\u001b[0m\n"
      ]
     },
     "metadata": {},
     "output_type": "display_data"
    },
    {
     "data": {
      "text/html": [
       "<pre style=\"white-space:pre;overflow-x:auto;line-height:normal;font-family:Menlo,'DejaVu Sans Mono',consolas,'Courier New',monospace\"><span style=\"color: #808000; text-decoration-color: #808000; font-weight: bold\">Warning:</span><span style=\"color: #808000; text-decoration-color: #808000\"> VTK requires 3D points, but 2D points given. Appending </span><span style=\"color: #808000; text-decoration-color: #808000; font-weight: bold\">0</span><span style=\"color: #808000; text-decoration-color: #808000\"> third component.</span>\n",
       "</pre>\n"
      ],
      "text/plain": [
       "\u001b[1;33mWarning:\u001b[0m\u001b[33m VTK requires 3D points, but 2D points given. Appending \u001b[0m\u001b[1;33m0\u001b[0m\u001b[33m third component.\u001b[0m\n"
      ]
     },
     "metadata": {},
     "output_type": "display_data"
    },
    {
     "data": {
      "text/html": [
       "<pre style=\"white-space:pre;overflow-x:auto;line-height:normal;font-family:Menlo,'DejaVu Sans Mono',consolas,'Courier New',monospace\"><span style=\"color: #808000; text-decoration-color: #808000; font-weight: bold\">Warning:</span><span style=\"color: #808000; text-decoration-color: #808000\"> VTK requires 3D points, but 2D points given. Appending </span><span style=\"color: #808000; text-decoration-color: #808000; font-weight: bold\">0</span><span style=\"color: #808000; text-decoration-color: #808000\"> third component.</span>\n",
       "</pre>\n"
      ],
      "text/plain": [
       "\u001b[1;33mWarning:\u001b[0m\u001b[33m VTK requires 3D points, but 2D points given. Appending \u001b[0m\u001b[1;33m0\u001b[0m\u001b[33m third component.\u001b[0m\n"
      ]
     },
     "metadata": {},
     "output_type": "display_data"
    },
    {
     "data": {
      "text/html": [
       "<pre style=\"white-space:pre;overflow-x:auto;line-height:normal;font-family:Menlo,'DejaVu Sans Mono',consolas,'Courier New',monospace\"><span style=\"color: #808000; text-decoration-color: #808000; font-weight: bold\">Warning:</span><span style=\"color: #808000; text-decoration-color: #808000\"> VTK requires 3D points, but 2D points given. Appending </span><span style=\"color: #808000; text-decoration-color: #808000; font-weight: bold\">0</span><span style=\"color: #808000; text-decoration-color: #808000\"> third component.</span>\n",
       "</pre>\n"
      ],
      "text/plain": [
       "\u001b[1;33mWarning:\u001b[0m\u001b[33m VTK requires 3D points, but 2D points given. Appending \u001b[0m\u001b[1;33m0\u001b[0m\u001b[33m third component.\u001b[0m\n"
      ]
     },
     "metadata": {},
     "output_type": "display_data"
    },
    {
     "data": {
      "text/html": [
       "<pre style=\"white-space:pre;overflow-x:auto;line-height:normal;font-family:Menlo,'DejaVu Sans Mono',consolas,'Courier New',monospace\"><span style=\"color: #808000; text-decoration-color: #808000; font-weight: bold\">Warning:</span><span style=\"color: #808000; text-decoration-color: #808000\"> VTK requires 3D points, but 2D points given. Appending </span><span style=\"color: #808000; text-decoration-color: #808000; font-weight: bold\">0</span><span style=\"color: #808000; text-decoration-color: #808000\"> third component.</span>\n",
       "</pre>\n"
      ],
      "text/plain": [
       "\u001b[1;33mWarning:\u001b[0m\u001b[33m VTK requires 3D points, but 2D points given. Appending \u001b[0m\u001b[1;33m0\u001b[0m\u001b[33m third component.\u001b[0m\n"
      ]
     },
     "metadata": {},
     "output_type": "display_data"
    },
    {
     "data": {
      "text/html": [
       "<pre style=\"white-space:pre;overflow-x:auto;line-height:normal;font-family:Menlo,'DejaVu Sans Mono',consolas,'Courier New',monospace\"><span style=\"color: #808000; text-decoration-color: #808000; font-weight: bold\">Warning:</span><span style=\"color: #808000; text-decoration-color: #808000\"> VTK requires 3D points, but 2D points given. Appending </span><span style=\"color: #808000; text-decoration-color: #808000; font-weight: bold\">0</span><span style=\"color: #808000; text-decoration-color: #808000\"> third component.</span>\n",
       "</pre>\n"
      ],
      "text/plain": [
       "\u001b[1;33mWarning:\u001b[0m\u001b[33m VTK requires 3D points, but 2D points given. Appending \u001b[0m\u001b[1;33m0\u001b[0m\u001b[33m third component.\u001b[0m\n"
      ]
     },
     "metadata": {},
     "output_type": "display_data"
    },
    {
     "data": {
      "text/html": [
       "<pre style=\"white-space:pre;overflow-x:auto;line-height:normal;font-family:Menlo,'DejaVu Sans Mono',consolas,'Courier New',monospace\"><span style=\"color: #808000; text-decoration-color: #808000; font-weight: bold\">Warning:</span><span style=\"color: #808000; text-decoration-color: #808000\"> VTK requires 3D points, but 2D points given. Appending </span><span style=\"color: #808000; text-decoration-color: #808000; font-weight: bold\">0</span><span style=\"color: #808000; text-decoration-color: #808000\"> third component.</span>\n",
       "</pre>\n"
      ],
      "text/plain": [
       "\u001b[1;33mWarning:\u001b[0m\u001b[33m VTK requires 3D points, but 2D points given. Appending \u001b[0m\u001b[1;33m0\u001b[0m\u001b[33m third component.\u001b[0m\n"
      ]
     },
     "metadata": {},
     "output_type": "display_data"
    },
    {
     "data": {
      "text/html": [
       "<pre style=\"white-space:pre;overflow-x:auto;line-height:normal;font-family:Menlo,'DejaVu Sans Mono',consolas,'Courier New',monospace\"><span style=\"color: #808000; text-decoration-color: #808000; font-weight: bold\">Warning:</span><span style=\"color: #808000; text-decoration-color: #808000\"> VTK requires 3D points, but 2D points given. Appending </span><span style=\"color: #808000; text-decoration-color: #808000; font-weight: bold\">0</span><span style=\"color: #808000; text-decoration-color: #808000\"> third component.</span>\n",
       "</pre>\n"
      ],
      "text/plain": [
       "\u001b[1;33mWarning:\u001b[0m\u001b[33m VTK requires 3D points, but 2D points given. Appending \u001b[0m\u001b[1;33m0\u001b[0m\u001b[33m third component.\u001b[0m\n"
      ]
     },
     "metadata": {},
     "output_type": "display_data"
    },
    {
     "data": {
      "text/html": [
       "<pre style=\"white-space:pre;overflow-x:auto;line-height:normal;font-family:Menlo,'DejaVu Sans Mono',consolas,'Courier New',monospace\"><span style=\"color: #808000; text-decoration-color: #808000; font-weight: bold\">Warning:</span><span style=\"color: #808000; text-decoration-color: #808000\"> VTK requires 3D points, but 2D points given. Appending </span><span style=\"color: #808000; text-decoration-color: #808000; font-weight: bold\">0</span><span style=\"color: #808000; text-decoration-color: #808000\"> third component.</span>\n",
       "</pre>\n"
      ],
      "text/plain": [
       "\u001b[1;33mWarning:\u001b[0m\u001b[33m VTK requires 3D points, but 2D points given. Appending \u001b[0m\u001b[1;33m0\u001b[0m\u001b[33m third component.\u001b[0m\n"
      ]
     },
     "metadata": {},
     "output_type": "display_data"
    },
    {
     "data": {
      "text/html": [
       "<pre style=\"white-space:pre;overflow-x:auto;line-height:normal;font-family:Menlo,'DejaVu Sans Mono',consolas,'Courier New',monospace\"><span style=\"color: #808000; text-decoration-color: #808000; font-weight: bold\">Warning:</span><span style=\"color: #808000; text-decoration-color: #808000\"> VTK requires 3D points, but 2D points given. Appending </span><span style=\"color: #808000; text-decoration-color: #808000; font-weight: bold\">0</span><span style=\"color: #808000; text-decoration-color: #808000\"> third component.</span>\n",
       "</pre>\n"
      ],
      "text/plain": [
       "\u001b[1;33mWarning:\u001b[0m\u001b[33m VTK requires 3D points, but 2D points given. Appending \u001b[0m\u001b[1;33m0\u001b[0m\u001b[33m third component.\u001b[0m\n"
      ]
     },
     "metadata": {},
     "output_type": "display_data"
    },
    {
     "data": {
      "text/html": [
       "<pre style=\"white-space:pre;overflow-x:auto;line-height:normal;font-family:Menlo,'DejaVu Sans Mono',consolas,'Courier New',monospace\"><span style=\"color: #808000; text-decoration-color: #808000; font-weight: bold\">Warning:</span><span style=\"color: #808000; text-decoration-color: #808000\"> VTK requires 3D points, but 2D points given. Appending </span><span style=\"color: #808000; text-decoration-color: #808000; font-weight: bold\">0</span><span style=\"color: #808000; text-decoration-color: #808000\"> third component.</span>\n",
       "</pre>\n"
      ],
      "text/plain": [
       "\u001b[1;33mWarning:\u001b[0m\u001b[33m VTK requires 3D points, but 2D points given. Appending \u001b[0m\u001b[1;33m0\u001b[0m\u001b[33m third component.\u001b[0m\n"
      ]
     },
     "metadata": {},
     "output_type": "display_data"
    },
    {
     "data": {
      "text/html": [
       "<pre style=\"white-space:pre;overflow-x:auto;line-height:normal;font-family:Menlo,'DejaVu Sans Mono',consolas,'Courier New',monospace\"><span style=\"color: #808000; text-decoration-color: #808000; font-weight: bold\">Warning:</span><span style=\"color: #808000; text-decoration-color: #808000\"> VTK requires 3D points, but 2D points given. Appending </span><span style=\"color: #808000; text-decoration-color: #808000; font-weight: bold\">0</span><span style=\"color: #808000; text-decoration-color: #808000\"> third component.</span>\n",
       "</pre>\n"
      ],
      "text/plain": [
       "\u001b[1;33mWarning:\u001b[0m\u001b[33m VTK requires 3D points, but 2D points given. Appending \u001b[0m\u001b[1;33m0\u001b[0m\u001b[33m third component.\u001b[0m\n"
      ]
     },
     "metadata": {},
     "output_type": "display_data"
    },
    {
     "data": {
      "text/html": [
       "<pre style=\"white-space:pre;overflow-x:auto;line-height:normal;font-family:Menlo,'DejaVu Sans Mono',consolas,'Courier New',monospace\"><span style=\"color: #808000; text-decoration-color: #808000; font-weight: bold\">Warning:</span><span style=\"color: #808000; text-decoration-color: #808000\"> VTK requires 3D points, but 2D points given. Appending </span><span style=\"color: #808000; text-decoration-color: #808000; font-weight: bold\">0</span><span style=\"color: #808000; text-decoration-color: #808000\"> third component.</span>\n",
       "</pre>\n"
      ],
      "text/plain": [
       "\u001b[1;33mWarning:\u001b[0m\u001b[33m VTK requires 3D points, but 2D points given. Appending \u001b[0m\u001b[1;33m0\u001b[0m\u001b[33m third component.\u001b[0m\n"
      ]
     },
     "metadata": {},
     "output_type": "display_data"
    },
    {
     "data": {
      "text/html": [
       "<pre style=\"white-space:pre;overflow-x:auto;line-height:normal;font-family:Menlo,'DejaVu Sans Mono',consolas,'Courier New',monospace\"><span style=\"color: #808000; text-decoration-color: #808000; font-weight: bold\">Warning:</span><span style=\"color: #808000; text-decoration-color: #808000\"> VTK requires 3D points, but 2D points given. Appending </span><span style=\"color: #808000; text-decoration-color: #808000; font-weight: bold\">0</span><span style=\"color: #808000; text-decoration-color: #808000\"> third component.</span>\n",
       "</pre>\n"
      ],
      "text/plain": [
       "\u001b[1;33mWarning:\u001b[0m\u001b[33m VTK requires 3D points, but 2D points given. Appending \u001b[0m\u001b[1;33m0\u001b[0m\u001b[33m third component.\u001b[0m\n"
      ]
     },
     "metadata": {},
     "output_type": "display_data"
    },
    {
     "data": {
      "text/html": [
       "<pre style=\"white-space:pre;overflow-x:auto;line-height:normal;font-family:Menlo,'DejaVu Sans Mono',consolas,'Courier New',monospace\"><span style=\"color: #808000; text-decoration-color: #808000; font-weight: bold\">Warning:</span><span style=\"color: #808000; text-decoration-color: #808000\"> VTK requires 3D points, but 2D points given. Appending </span><span style=\"color: #808000; text-decoration-color: #808000; font-weight: bold\">0</span><span style=\"color: #808000; text-decoration-color: #808000\"> third component.</span>\n",
       "</pre>\n"
      ],
      "text/plain": [
       "\u001b[1;33mWarning:\u001b[0m\u001b[33m VTK requires 3D points, but 2D points given. Appending \u001b[0m\u001b[1;33m0\u001b[0m\u001b[33m third component.\u001b[0m\n"
      ]
     },
     "metadata": {},
     "output_type": "display_data"
    },
    {
     "data": {
      "text/html": [
       "<pre style=\"white-space:pre;overflow-x:auto;line-height:normal;font-family:Menlo,'DejaVu Sans Mono',consolas,'Courier New',monospace\"><span style=\"color: #808000; text-decoration-color: #808000; font-weight: bold\">Warning:</span><span style=\"color: #808000; text-decoration-color: #808000\"> VTK requires 3D points, but 2D points given. Appending </span><span style=\"color: #808000; text-decoration-color: #808000; font-weight: bold\">0</span><span style=\"color: #808000; text-decoration-color: #808000\"> third component.</span>\n",
       "</pre>\n"
      ],
      "text/plain": [
       "\u001b[1;33mWarning:\u001b[0m\u001b[33m VTK requires 3D points, but 2D points given. Appending \u001b[0m\u001b[1;33m0\u001b[0m\u001b[33m third component.\u001b[0m\n"
      ]
     },
     "metadata": {},
     "output_type": "display_data"
    },
    {
     "data": {
      "text/html": [
       "<pre style=\"white-space:pre;overflow-x:auto;line-height:normal;font-family:Menlo,'DejaVu Sans Mono',consolas,'Courier New',monospace\"><span style=\"color: #808000; text-decoration-color: #808000; font-weight: bold\">Warning:</span><span style=\"color: #808000; text-decoration-color: #808000\"> VTK requires 3D points, but 2D points given. Appending </span><span style=\"color: #808000; text-decoration-color: #808000; font-weight: bold\">0</span><span style=\"color: #808000; text-decoration-color: #808000\"> third component.</span>\n",
       "</pre>\n"
      ],
      "text/plain": [
       "\u001b[1;33mWarning:\u001b[0m\u001b[33m VTK requires 3D points, but 2D points given. Appending \u001b[0m\u001b[1;33m0\u001b[0m\u001b[33m third component.\u001b[0m\n"
      ]
     },
     "metadata": {},
     "output_type": "display_data"
    },
    {
     "data": {
      "text/html": [
       "<pre style=\"white-space:pre;overflow-x:auto;line-height:normal;font-family:Menlo,'DejaVu Sans Mono',consolas,'Courier New',monospace\"><span style=\"color: #808000; text-decoration-color: #808000; font-weight: bold\">Warning:</span><span style=\"color: #808000; text-decoration-color: #808000\"> VTK requires 3D points, but 2D points given. Appending </span><span style=\"color: #808000; text-decoration-color: #808000; font-weight: bold\">0</span><span style=\"color: #808000; text-decoration-color: #808000\"> third component.</span>\n",
       "</pre>\n"
      ],
      "text/plain": [
       "\u001b[1;33mWarning:\u001b[0m\u001b[33m VTK requires 3D points, but 2D points given. Appending \u001b[0m\u001b[1;33m0\u001b[0m\u001b[33m third component.\u001b[0m\n"
      ]
     },
     "metadata": {},
     "output_type": "display_data"
    },
    {
     "data": {
      "text/html": [
       "<pre style=\"white-space:pre;overflow-x:auto;line-height:normal;font-family:Menlo,'DejaVu Sans Mono',consolas,'Courier New',monospace\"><span style=\"color: #808000; text-decoration-color: #808000; font-weight: bold\">Warning:</span><span style=\"color: #808000; text-decoration-color: #808000\"> VTK requires 3D points, but 2D points given. Appending </span><span style=\"color: #808000; text-decoration-color: #808000; font-weight: bold\">0</span><span style=\"color: #808000; text-decoration-color: #808000\"> third component.</span>\n",
       "</pre>\n"
      ],
      "text/plain": [
       "\u001b[1;33mWarning:\u001b[0m\u001b[33m VTK requires 3D points, but 2D points given. Appending \u001b[0m\u001b[1;33m0\u001b[0m\u001b[33m third component.\u001b[0m\n"
      ]
     },
     "metadata": {},
     "output_type": "display_data"
    },
    {
     "data": {
      "text/html": [
       "<pre style=\"white-space:pre;overflow-x:auto;line-height:normal;font-family:Menlo,'DejaVu Sans Mono',consolas,'Courier New',monospace\"><span style=\"color: #808000; text-decoration-color: #808000; font-weight: bold\">Warning:</span><span style=\"color: #808000; text-decoration-color: #808000\"> VTK requires 3D points, but 2D points given. Appending </span><span style=\"color: #808000; text-decoration-color: #808000; font-weight: bold\">0</span><span style=\"color: #808000; text-decoration-color: #808000\"> third component.</span>\n",
       "</pre>\n"
      ],
      "text/plain": [
       "\u001b[1;33mWarning:\u001b[0m\u001b[33m VTK requires 3D points, but 2D points given. Appending \u001b[0m\u001b[1;33m0\u001b[0m\u001b[33m third component.\u001b[0m\n"
      ]
     },
     "metadata": {},
     "output_type": "display_data"
    },
    {
     "data": {
      "text/html": [
       "<pre style=\"white-space:pre;overflow-x:auto;line-height:normal;font-family:Menlo,'DejaVu Sans Mono',consolas,'Courier New',monospace\"><span style=\"color: #808000; text-decoration-color: #808000; font-weight: bold\">Warning:</span><span style=\"color: #808000; text-decoration-color: #808000\"> VTK requires 3D points, but 2D points given. Appending </span><span style=\"color: #808000; text-decoration-color: #808000; font-weight: bold\">0</span><span style=\"color: #808000; text-decoration-color: #808000\"> third component.</span>\n",
       "</pre>\n"
      ],
      "text/plain": [
       "\u001b[1;33mWarning:\u001b[0m\u001b[33m VTK requires 3D points, but 2D points given. Appending \u001b[0m\u001b[1;33m0\u001b[0m\u001b[33m third component.\u001b[0m\n"
      ]
     },
     "metadata": {},
     "output_type": "display_data"
    },
    {
     "data": {
      "text/html": [
       "<pre style=\"white-space:pre;overflow-x:auto;line-height:normal;font-family:Menlo,'DejaVu Sans Mono',consolas,'Courier New',monospace\"><span style=\"color: #808000; text-decoration-color: #808000; font-weight: bold\">Warning:</span><span style=\"color: #808000; text-decoration-color: #808000\"> VTK requires 3D points, but 2D points given. Appending </span><span style=\"color: #808000; text-decoration-color: #808000; font-weight: bold\">0</span><span style=\"color: #808000; text-decoration-color: #808000\"> third component.</span>\n",
       "</pre>\n"
      ],
      "text/plain": [
       "\u001b[1;33mWarning:\u001b[0m\u001b[33m VTK requires 3D points, but 2D points given. Appending \u001b[0m\u001b[1;33m0\u001b[0m\u001b[33m third component.\u001b[0m\n"
      ]
     },
     "metadata": {},
     "output_type": "display_data"
    },
    {
     "data": {
      "text/html": [
       "<pre style=\"white-space:pre;overflow-x:auto;line-height:normal;font-family:Menlo,'DejaVu Sans Mono',consolas,'Courier New',monospace\"><span style=\"color: #808000; text-decoration-color: #808000; font-weight: bold\">Warning:</span><span style=\"color: #808000; text-decoration-color: #808000\"> VTK requires 3D points, but 2D points given. Appending </span><span style=\"color: #808000; text-decoration-color: #808000; font-weight: bold\">0</span><span style=\"color: #808000; text-decoration-color: #808000\"> third component.</span>\n",
       "</pre>\n"
      ],
      "text/plain": [
       "\u001b[1;33mWarning:\u001b[0m\u001b[33m VTK requires 3D points, but 2D points given. Appending \u001b[0m\u001b[1;33m0\u001b[0m\u001b[33m third component.\u001b[0m\n"
      ]
     },
     "metadata": {},
     "output_type": "display_data"
    },
    {
     "data": {
      "text/html": [
       "<pre style=\"white-space:pre;overflow-x:auto;line-height:normal;font-family:Menlo,'DejaVu Sans Mono',consolas,'Courier New',monospace\"><span style=\"color: #808000; text-decoration-color: #808000; font-weight: bold\">Warning:</span><span style=\"color: #808000; text-decoration-color: #808000\"> VTK requires 3D points, but 2D points given. Appending </span><span style=\"color: #808000; text-decoration-color: #808000; font-weight: bold\">0</span><span style=\"color: #808000; text-decoration-color: #808000\"> third component.</span>\n",
       "</pre>\n"
      ],
      "text/plain": [
       "\u001b[1;33mWarning:\u001b[0m\u001b[33m VTK requires 3D points, but 2D points given. Appending \u001b[0m\u001b[1;33m0\u001b[0m\u001b[33m third component.\u001b[0m\n"
      ]
     },
     "metadata": {},
     "output_type": "display_data"
    },
    {
     "data": {
      "text/html": [
       "<pre style=\"white-space:pre;overflow-x:auto;line-height:normal;font-family:Menlo,'DejaVu Sans Mono',consolas,'Courier New',monospace\"><span style=\"color: #808000; text-decoration-color: #808000; font-weight: bold\">Warning:</span><span style=\"color: #808000; text-decoration-color: #808000\"> VTK requires 3D points, but 2D points given. Appending </span><span style=\"color: #808000; text-decoration-color: #808000; font-weight: bold\">0</span><span style=\"color: #808000; text-decoration-color: #808000\"> third component.</span>\n",
       "</pre>\n"
      ],
      "text/plain": [
       "\u001b[1;33mWarning:\u001b[0m\u001b[33m VTK requires 3D points, but 2D points given. Appending \u001b[0m\u001b[1;33m0\u001b[0m\u001b[33m third component.\u001b[0m\n"
      ]
     },
     "metadata": {},
     "output_type": "display_data"
    },
    {
     "data": {
      "text/html": [
       "<pre style=\"white-space:pre;overflow-x:auto;line-height:normal;font-family:Menlo,'DejaVu Sans Mono',consolas,'Courier New',monospace\"><span style=\"color: #808000; text-decoration-color: #808000; font-weight: bold\">Warning:</span><span style=\"color: #808000; text-decoration-color: #808000\"> VTK requires 3D points, but 2D points given. Appending </span><span style=\"color: #808000; text-decoration-color: #808000; font-weight: bold\">0</span><span style=\"color: #808000; text-decoration-color: #808000\"> third component.</span>\n",
       "</pre>\n"
      ],
      "text/plain": [
       "\u001b[1;33mWarning:\u001b[0m\u001b[33m VTK requires 3D points, but 2D points given. Appending \u001b[0m\u001b[1;33m0\u001b[0m\u001b[33m third component.\u001b[0m\n"
      ]
     },
     "metadata": {},
     "output_type": "display_data"
    },
    {
     "data": {
      "text/html": [
       "<pre style=\"white-space:pre;overflow-x:auto;line-height:normal;font-family:Menlo,'DejaVu Sans Mono',consolas,'Courier New',monospace\"><span style=\"color: #808000; text-decoration-color: #808000; font-weight: bold\">Warning:</span><span style=\"color: #808000; text-decoration-color: #808000\"> VTK requires 3D points, but 2D points given. Appending </span><span style=\"color: #808000; text-decoration-color: #808000; font-weight: bold\">0</span><span style=\"color: #808000; text-decoration-color: #808000\"> third component.</span>\n",
       "</pre>\n"
      ],
      "text/plain": [
       "\u001b[1;33mWarning:\u001b[0m\u001b[33m VTK requires 3D points, but 2D points given. Appending \u001b[0m\u001b[1;33m0\u001b[0m\u001b[33m third component.\u001b[0m\n"
      ]
     },
     "metadata": {},
     "output_type": "display_data"
    },
    {
     "data": {
      "text/html": [
       "<pre style=\"white-space:pre;overflow-x:auto;line-height:normal;font-family:Menlo,'DejaVu Sans Mono',consolas,'Courier New',monospace\"><span style=\"color: #808000; text-decoration-color: #808000; font-weight: bold\">Warning:</span><span style=\"color: #808000; text-decoration-color: #808000\"> VTK requires 3D points, but 2D points given. Appending </span><span style=\"color: #808000; text-decoration-color: #808000; font-weight: bold\">0</span><span style=\"color: #808000; text-decoration-color: #808000\"> third component.</span>\n",
       "</pre>\n"
      ],
      "text/plain": [
       "\u001b[1;33mWarning:\u001b[0m\u001b[33m VTK requires 3D points, but 2D points given. Appending \u001b[0m\u001b[1;33m0\u001b[0m\u001b[33m third component.\u001b[0m\n"
      ]
     },
     "metadata": {},
     "output_type": "display_data"
    },
    {
     "data": {
      "text/html": [
       "<pre style=\"white-space:pre;overflow-x:auto;line-height:normal;font-family:Menlo,'DejaVu Sans Mono',consolas,'Courier New',monospace\"><span style=\"color: #808000; text-decoration-color: #808000; font-weight: bold\">Warning:</span><span style=\"color: #808000; text-decoration-color: #808000\"> VTK requires 3D points, but 2D points given. Appending </span><span style=\"color: #808000; text-decoration-color: #808000; font-weight: bold\">0</span><span style=\"color: #808000; text-decoration-color: #808000\"> third component.</span>\n",
       "</pre>\n"
      ],
      "text/plain": [
       "\u001b[1;33mWarning:\u001b[0m\u001b[33m VTK requires 3D points, but 2D points given. Appending \u001b[0m\u001b[1;33m0\u001b[0m\u001b[33m third component.\u001b[0m\n"
      ]
     },
     "metadata": {},
     "output_type": "display_data"
    },
    {
     "data": {
      "text/html": [
       "<pre style=\"white-space:pre;overflow-x:auto;line-height:normal;font-family:Menlo,'DejaVu Sans Mono',consolas,'Courier New',monospace\"><span style=\"color: #808000; text-decoration-color: #808000; font-weight: bold\">Warning:</span><span style=\"color: #808000; text-decoration-color: #808000\"> VTK requires 3D points, but 2D points given. Appending </span><span style=\"color: #808000; text-decoration-color: #808000; font-weight: bold\">0</span><span style=\"color: #808000; text-decoration-color: #808000\"> third component.</span>\n",
       "</pre>\n"
      ],
      "text/plain": [
       "\u001b[1;33mWarning:\u001b[0m\u001b[33m VTK requires 3D points, but 2D points given. Appending \u001b[0m\u001b[1;33m0\u001b[0m\u001b[33m third component.\u001b[0m\n"
      ]
     },
     "metadata": {},
     "output_type": "display_data"
    },
    {
     "data": {
      "text/html": [
       "<pre style=\"white-space:pre;overflow-x:auto;line-height:normal;font-family:Menlo,'DejaVu Sans Mono',consolas,'Courier New',monospace\"><span style=\"color: #808000; text-decoration-color: #808000; font-weight: bold\">Warning:</span><span style=\"color: #808000; text-decoration-color: #808000\"> VTK requires 3D points, but 2D points given. Appending </span><span style=\"color: #808000; text-decoration-color: #808000; font-weight: bold\">0</span><span style=\"color: #808000; text-decoration-color: #808000\"> third component.</span>\n",
       "</pre>\n"
      ],
      "text/plain": [
       "\u001b[1;33mWarning:\u001b[0m\u001b[33m VTK requires 3D points, but 2D points given. Appending \u001b[0m\u001b[1;33m0\u001b[0m\u001b[33m third component.\u001b[0m\n"
      ]
     },
     "metadata": {},
     "output_type": "display_data"
    },
    {
     "data": {
      "text/html": [
       "<pre style=\"white-space:pre;overflow-x:auto;line-height:normal;font-family:Menlo,'DejaVu Sans Mono',consolas,'Courier New',monospace\"><span style=\"color: #808000; text-decoration-color: #808000; font-weight: bold\">Warning:</span><span style=\"color: #808000; text-decoration-color: #808000\"> VTK requires 3D points, but 2D points given. Appending </span><span style=\"color: #808000; text-decoration-color: #808000; font-weight: bold\">0</span><span style=\"color: #808000; text-decoration-color: #808000\"> third component.</span>\n",
       "</pre>\n"
      ],
      "text/plain": [
       "\u001b[1;33mWarning:\u001b[0m\u001b[33m VTK requires 3D points, but 2D points given. Appending \u001b[0m\u001b[1;33m0\u001b[0m\u001b[33m third component.\u001b[0m\n"
      ]
     },
     "metadata": {},
     "output_type": "display_data"
    },
    {
     "data": {
      "text/html": [
       "<pre style=\"white-space:pre;overflow-x:auto;line-height:normal;font-family:Menlo,'DejaVu Sans Mono',consolas,'Courier New',monospace\"><span style=\"color: #808000; text-decoration-color: #808000; font-weight: bold\">Warning:</span><span style=\"color: #808000; text-decoration-color: #808000\"> VTK requires 3D points, but 2D points given. Appending </span><span style=\"color: #808000; text-decoration-color: #808000; font-weight: bold\">0</span><span style=\"color: #808000; text-decoration-color: #808000\"> third component.</span>\n",
       "</pre>\n"
      ],
      "text/plain": [
       "\u001b[1;33mWarning:\u001b[0m\u001b[33m VTK requires 3D points, but 2D points given. Appending \u001b[0m\u001b[1;33m0\u001b[0m\u001b[33m third component.\u001b[0m\n"
      ]
     },
     "metadata": {},
     "output_type": "display_data"
    },
    {
     "data": {
      "text/html": [
       "<pre style=\"white-space:pre;overflow-x:auto;line-height:normal;font-family:Menlo,'DejaVu Sans Mono',consolas,'Courier New',monospace\"><span style=\"color: #808000; text-decoration-color: #808000; font-weight: bold\">Warning:</span><span style=\"color: #808000; text-decoration-color: #808000\"> VTK requires 3D points, but 2D points given. Appending </span><span style=\"color: #808000; text-decoration-color: #808000; font-weight: bold\">0</span><span style=\"color: #808000; text-decoration-color: #808000\"> third component.</span>\n",
       "</pre>\n"
      ],
      "text/plain": [
       "\u001b[1;33mWarning:\u001b[0m\u001b[33m VTK requires 3D points, but 2D points given. Appending \u001b[0m\u001b[1;33m0\u001b[0m\u001b[33m third component.\u001b[0m\n"
      ]
     },
     "metadata": {},
     "output_type": "display_data"
    },
    {
     "data": {
      "text/html": [
       "<pre style=\"white-space:pre;overflow-x:auto;line-height:normal;font-family:Menlo,'DejaVu Sans Mono',consolas,'Courier New',monospace\"><span style=\"color: #808000; text-decoration-color: #808000; font-weight: bold\">Warning:</span><span style=\"color: #808000; text-decoration-color: #808000\"> VTK requires 3D points, but 2D points given. Appending </span><span style=\"color: #808000; text-decoration-color: #808000; font-weight: bold\">0</span><span style=\"color: #808000; text-decoration-color: #808000\"> third component.</span>\n",
       "</pre>\n"
      ],
      "text/plain": [
       "\u001b[1;33mWarning:\u001b[0m\u001b[33m VTK requires 3D points, but 2D points given. Appending \u001b[0m\u001b[1;33m0\u001b[0m\u001b[33m third component.\u001b[0m\n"
      ]
     },
     "metadata": {},
     "output_type": "display_data"
    },
    {
     "data": {
      "text/html": [
       "<pre style=\"white-space:pre;overflow-x:auto;line-height:normal;font-family:Menlo,'DejaVu Sans Mono',consolas,'Courier New',monospace\"><span style=\"color: #808000; text-decoration-color: #808000; font-weight: bold\">Warning:</span><span style=\"color: #808000; text-decoration-color: #808000\"> VTK requires 3D points, but 2D points given. Appending </span><span style=\"color: #808000; text-decoration-color: #808000; font-weight: bold\">0</span><span style=\"color: #808000; text-decoration-color: #808000\"> third component.</span>\n",
       "</pre>\n"
      ],
      "text/plain": [
       "\u001b[1;33mWarning:\u001b[0m\u001b[33m VTK requires 3D points, but 2D points given. Appending \u001b[0m\u001b[1;33m0\u001b[0m\u001b[33m third component.\u001b[0m\n"
      ]
     },
     "metadata": {},
     "output_type": "display_data"
    },
    {
     "data": {
      "text/html": [
       "<pre style=\"white-space:pre;overflow-x:auto;line-height:normal;font-family:Menlo,'DejaVu Sans Mono',consolas,'Courier New',monospace\"><span style=\"color: #808000; text-decoration-color: #808000; font-weight: bold\">Warning:</span><span style=\"color: #808000; text-decoration-color: #808000\"> VTK requires 3D points, but 2D points given. Appending </span><span style=\"color: #808000; text-decoration-color: #808000; font-weight: bold\">0</span><span style=\"color: #808000; text-decoration-color: #808000\"> third component.</span>\n",
       "</pre>\n"
      ],
      "text/plain": [
       "\u001b[1;33mWarning:\u001b[0m\u001b[33m VTK requires 3D points, but 2D points given. Appending \u001b[0m\u001b[1;33m0\u001b[0m\u001b[33m third component.\u001b[0m\n"
      ]
     },
     "metadata": {},
     "output_type": "display_data"
    },
    {
     "data": {
      "text/html": [
       "<pre style=\"white-space:pre;overflow-x:auto;line-height:normal;font-family:Menlo,'DejaVu Sans Mono',consolas,'Courier New',monospace\"><span style=\"color: #808000; text-decoration-color: #808000; font-weight: bold\">Warning:</span><span style=\"color: #808000; text-decoration-color: #808000\"> VTK requires 3D points, but 2D points given. Appending </span><span style=\"color: #808000; text-decoration-color: #808000; font-weight: bold\">0</span><span style=\"color: #808000; text-decoration-color: #808000\"> third component.</span>\n",
       "</pre>\n"
      ],
      "text/plain": [
       "\u001b[1;33mWarning:\u001b[0m\u001b[33m VTK requires 3D points, but 2D points given. Appending \u001b[0m\u001b[1;33m0\u001b[0m\u001b[33m third component.\u001b[0m\n"
      ]
     },
     "metadata": {},
     "output_type": "display_data"
    },
    {
     "data": {
      "text/html": [
       "<pre style=\"white-space:pre;overflow-x:auto;line-height:normal;font-family:Menlo,'DejaVu Sans Mono',consolas,'Courier New',monospace\"><span style=\"color: #808000; text-decoration-color: #808000; font-weight: bold\">Warning:</span><span style=\"color: #808000; text-decoration-color: #808000\"> VTK requires 3D points, but 2D points given. Appending </span><span style=\"color: #808000; text-decoration-color: #808000; font-weight: bold\">0</span><span style=\"color: #808000; text-decoration-color: #808000\"> third component.</span>\n",
       "</pre>\n"
      ],
      "text/plain": [
       "\u001b[1;33mWarning:\u001b[0m\u001b[33m VTK requires 3D points, but 2D points given. Appending \u001b[0m\u001b[1;33m0\u001b[0m\u001b[33m third component.\u001b[0m\n"
      ]
     },
     "metadata": {},
     "output_type": "display_data"
    },
    {
     "data": {
      "text/html": [
       "<pre style=\"white-space:pre;overflow-x:auto;line-height:normal;font-family:Menlo,'DejaVu Sans Mono',consolas,'Courier New',monospace\"><span style=\"color: #808000; text-decoration-color: #808000; font-weight: bold\">Warning:</span><span style=\"color: #808000; text-decoration-color: #808000\"> VTK requires 3D points, but 2D points given. Appending </span><span style=\"color: #808000; text-decoration-color: #808000; font-weight: bold\">0</span><span style=\"color: #808000; text-decoration-color: #808000\"> third component.</span>\n",
       "</pre>\n"
      ],
      "text/plain": [
       "\u001b[1;33mWarning:\u001b[0m\u001b[33m VTK requires 3D points, but 2D points given. Appending \u001b[0m\u001b[1;33m0\u001b[0m\u001b[33m third component.\u001b[0m\n"
      ]
     },
     "metadata": {},
     "output_type": "display_data"
    },
    {
     "data": {
      "text/html": [
       "<pre style=\"white-space:pre;overflow-x:auto;line-height:normal;font-family:Menlo,'DejaVu Sans Mono',consolas,'Courier New',monospace\"><span style=\"color: #808000; text-decoration-color: #808000; font-weight: bold\">Warning:</span><span style=\"color: #808000; text-decoration-color: #808000\"> VTK requires 3D points, but 2D points given. Appending </span><span style=\"color: #808000; text-decoration-color: #808000; font-weight: bold\">0</span><span style=\"color: #808000; text-decoration-color: #808000\"> third component.</span>\n",
       "</pre>\n"
      ],
      "text/plain": [
       "\u001b[1;33mWarning:\u001b[0m\u001b[33m VTK requires 3D points, but 2D points given. Appending \u001b[0m\u001b[1;33m0\u001b[0m\u001b[33m third component.\u001b[0m\n"
      ]
     },
     "metadata": {},
     "output_type": "display_data"
    },
    {
     "data": {
      "text/html": [
       "<pre style=\"white-space:pre;overflow-x:auto;line-height:normal;font-family:Menlo,'DejaVu Sans Mono',consolas,'Courier New',monospace\"><span style=\"color: #808000; text-decoration-color: #808000; font-weight: bold\">Warning:</span><span style=\"color: #808000; text-decoration-color: #808000\"> VTK requires 3D points, but 2D points given. Appending </span><span style=\"color: #808000; text-decoration-color: #808000; font-weight: bold\">0</span><span style=\"color: #808000; text-decoration-color: #808000\"> third component.</span>\n",
       "</pre>\n"
      ],
      "text/plain": [
       "\u001b[1;33mWarning:\u001b[0m\u001b[33m VTK requires 3D points, but 2D points given. Appending \u001b[0m\u001b[1;33m0\u001b[0m\u001b[33m third component.\u001b[0m\n"
      ]
     },
     "metadata": {},
     "output_type": "display_data"
    },
    {
     "data": {
      "text/html": [
       "<pre style=\"white-space:pre;overflow-x:auto;line-height:normal;font-family:Menlo,'DejaVu Sans Mono',consolas,'Courier New',monospace\"><span style=\"color: #808000; text-decoration-color: #808000; font-weight: bold\">Warning:</span><span style=\"color: #808000; text-decoration-color: #808000\"> VTK requires 3D points, but 2D points given. Appending </span><span style=\"color: #808000; text-decoration-color: #808000; font-weight: bold\">0</span><span style=\"color: #808000; text-decoration-color: #808000\"> third component.</span>\n",
       "</pre>\n"
      ],
      "text/plain": [
       "\u001b[1;33mWarning:\u001b[0m\u001b[33m VTK requires 3D points, but 2D points given. Appending \u001b[0m\u001b[1;33m0\u001b[0m\u001b[33m third component.\u001b[0m\n"
      ]
     },
     "metadata": {},
     "output_type": "display_data"
    },
    {
     "data": {
      "text/html": [
       "<pre style=\"white-space:pre;overflow-x:auto;line-height:normal;font-family:Menlo,'DejaVu Sans Mono',consolas,'Courier New',monospace\"><span style=\"color: #808000; text-decoration-color: #808000; font-weight: bold\">Warning:</span><span style=\"color: #808000; text-decoration-color: #808000\"> VTK requires 3D points, but 2D points given. Appending </span><span style=\"color: #808000; text-decoration-color: #808000; font-weight: bold\">0</span><span style=\"color: #808000; text-decoration-color: #808000\"> third component.</span>\n",
       "</pre>\n"
      ],
      "text/plain": [
       "\u001b[1;33mWarning:\u001b[0m\u001b[33m VTK requires 3D points, but 2D points given. Appending \u001b[0m\u001b[1;33m0\u001b[0m\u001b[33m third component.\u001b[0m\n"
      ]
     },
     "metadata": {},
     "output_type": "display_data"
    },
    {
     "data": {
      "text/html": [
       "<pre style=\"white-space:pre;overflow-x:auto;line-height:normal;font-family:Menlo,'DejaVu Sans Mono',consolas,'Courier New',monospace\"><span style=\"color: #808000; text-decoration-color: #808000; font-weight: bold\">Warning:</span><span style=\"color: #808000; text-decoration-color: #808000\"> VTK requires 3D points, but 2D points given. Appending </span><span style=\"color: #808000; text-decoration-color: #808000; font-weight: bold\">0</span><span style=\"color: #808000; text-decoration-color: #808000\"> third component.</span>\n",
       "</pre>\n"
      ],
      "text/plain": [
       "\u001b[1;33mWarning:\u001b[0m\u001b[33m VTK requires 3D points, but 2D points given. Appending \u001b[0m\u001b[1;33m0\u001b[0m\u001b[33m third component.\u001b[0m\n"
      ]
     },
     "metadata": {},
     "output_type": "display_data"
    },
    {
     "data": {
      "text/html": [
       "<pre style=\"white-space:pre;overflow-x:auto;line-height:normal;font-family:Menlo,'DejaVu Sans Mono',consolas,'Courier New',monospace\"><span style=\"color: #808000; text-decoration-color: #808000; font-weight: bold\">Warning:</span><span style=\"color: #808000; text-decoration-color: #808000\"> VTK requires 3D points, but 2D points given. Appending </span><span style=\"color: #808000; text-decoration-color: #808000; font-weight: bold\">0</span><span style=\"color: #808000; text-decoration-color: #808000\"> third component.</span>\n",
       "</pre>\n"
      ],
      "text/plain": [
       "\u001b[1;33mWarning:\u001b[0m\u001b[33m VTK requires 3D points, but 2D points given. Appending \u001b[0m\u001b[1;33m0\u001b[0m\u001b[33m third component.\u001b[0m\n"
      ]
     },
     "metadata": {},
     "output_type": "display_data"
    },
    {
     "data": {
      "text/html": [
       "<pre style=\"white-space:pre;overflow-x:auto;line-height:normal;font-family:Menlo,'DejaVu Sans Mono',consolas,'Courier New',monospace\"><span style=\"color: #808000; text-decoration-color: #808000; font-weight: bold\">Warning:</span><span style=\"color: #808000; text-decoration-color: #808000\"> VTK requires 3D points, but 2D points given. Appending </span><span style=\"color: #808000; text-decoration-color: #808000; font-weight: bold\">0</span><span style=\"color: #808000; text-decoration-color: #808000\"> third component.</span>\n",
       "</pre>\n"
      ],
      "text/plain": [
       "\u001b[1;33mWarning:\u001b[0m\u001b[33m VTK requires 3D points, but 2D points given. Appending \u001b[0m\u001b[1;33m0\u001b[0m\u001b[33m third component.\u001b[0m\n"
      ]
     },
     "metadata": {},
     "output_type": "display_data"
    },
    {
     "data": {
      "text/html": [
       "<pre style=\"white-space:pre;overflow-x:auto;line-height:normal;font-family:Menlo,'DejaVu Sans Mono',consolas,'Courier New',monospace\"><span style=\"color: #808000; text-decoration-color: #808000; font-weight: bold\">Warning:</span><span style=\"color: #808000; text-decoration-color: #808000\"> VTK requires 3D points, but 2D points given. Appending </span><span style=\"color: #808000; text-decoration-color: #808000; font-weight: bold\">0</span><span style=\"color: #808000; text-decoration-color: #808000\"> third component.</span>\n",
       "</pre>\n"
      ],
      "text/plain": [
       "\u001b[1;33mWarning:\u001b[0m\u001b[33m VTK requires 3D points, but 2D points given. Appending \u001b[0m\u001b[1;33m0\u001b[0m\u001b[33m third component.\u001b[0m\n"
      ]
     },
     "metadata": {},
     "output_type": "display_data"
    },
    {
     "data": {
      "text/html": [
       "<pre style=\"white-space:pre;overflow-x:auto;line-height:normal;font-family:Menlo,'DejaVu Sans Mono',consolas,'Courier New',monospace\"><span style=\"color: #808000; text-decoration-color: #808000; font-weight: bold\">Warning:</span><span style=\"color: #808000; text-decoration-color: #808000\"> VTK requires 3D points, but 2D points given. Appending </span><span style=\"color: #808000; text-decoration-color: #808000; font-weight: bold\">0</span><span style=\"color: #808000; text-decoration-color: #808000\"> third component.</span>\n",
       "</pre>\n"
      ],
      "text/plain": [
       "\u001b[1;33mWarning:\u001b[0m\u001b[33m VTK requires 3D points, but 2D points given. Appending \u001b[0m\u001b[1;33m0\u001b[0m\u001b[33m third component.\u001b[0m\n"
      ]
     },
     "metadata": {},
     "output_type": "display_data"
    },
    {
     "data": {
      "text/html": [
       "<pre style=\"white-space:pre;overflow-x:auto;line-height:normal;font-family:Menlo,'DejaVu Sans Mono',consolas,'Courier New',monospace\"><span style=\"color: #808000; text-decoration-color: #808000; font-weight: bold\">Warning:</span><span style=\"color: #808000; text-decoration-color: #808000\"> VTK requires 3D points, but 2D points given. Appending </span><span style=\"color: #808000; text-decoration-color: #808000; font-weight: bold\">0</span><span style=\"color: #808000; text-decoration-color: #808000\"> third component.</span>\n",
       "</pre>\n"
      ],
      "text/plain": [
       "\u001b[1;33mWarning:\u001b[0m\u001b[33m VTK requires 3D points, but 2D points given. Appending \u001b[0m\u001b[1;33m0\u001b[0m\u001b[33m third component.\u001b[0m\n"
      ]
     },
     "metadata": {},
     "output_type": "display_data"
    },
    {
     "data": {
      "text/html": [
       "<pre style=\"white-space:pre;overflow-x:auto;line-height:normal;font-family:Menlo,'DejaVu Sans Mono',consolas,'Courier New',monospace\"><span style=\"color: #808000; text-decoration-color: #808000; font-weight: bold\">Warning:</span><span style=\"color: #808000; text-decoration-color: #808000\"> VTK requires 3D points, but 2D points given. Appending </span><span style=\"color: #808000; text-decoration-color: #808000; font-weight: bold\">0</span><span style=\"color: #808000; text-decoration-color: #808000\"> third component.</span>\n",
       "</pre>\n"
      ],
      "text/plain": [
       "\u001b[1;33mWarning:\u001b[0m\u001b[33m VTK requires 3D points, but 2D points given. Appending \u001b[0m\u001b[1;33m0\u001b[0m\u001b[33m third component.\u001b[0m\n"
      ]
     },
     "metadata": {},
     "output_type": "display_data"
    },
    {
     "data": {
      "text/html": [
       "<pre style=\"white-space:pre;overflow-x:auto;line-height:normal;font-family:Menlo,'DejaVu Sans Mono',consolas,'Courier New',monospace\"><span style=\"color: #808000; text-decoration-color: #808000; font-weight: bold\">Warning:</span><span style=\"color: #808000; text-decoration-color: #808000\"> VTK requires 3D points, but 2D points given. Appending </span><span style=\"color: #808000; text-decoration-color: #808000; font-weight: bold\">0</span><span style=\"color: #808000; text-decoration-color: #808000\"> third component.</span>\n",
       "</pre>\n"
      ],
      "text/plain": [
       "\u001b[1;33mWarning:\u001b[0m\u001b[33m VTK requires 3D points, but 2D points given. Appending \u001b[0m\u001b[1;33m0\u001b[0m\u001b[33m third component.\u001b[0m\n"
      ]
     },
     "metadata": {},
     "output_type": "display_data"
    },
    {
     "data": {
      "text/html": [
       "<pre style=\"white-space:pre;overflow-x:auto;line-height:normal;font-family:Menlo,'DejaVu Sans Mono',consolas,'Courier New',monospace\"><span style=\"color: #808000; text-decoration-color: #808000; font-weight: bold\">Warning:</span><span style=\"color: #808000; text-decoration-color: #808000\"> VTK requires 3D points, but 2D points given. Appending </span><span style=\"color: #808000; text-decoration-color: #808000; font-weight: bold\">0</span><span style=\"color: #808000; text-decoration-color: #808000\"> third component.</span>\n",
       "</pre>\n"
      ],
      "text/plain": [
       "\u001b[1;33mWarning:\u001b[0m\u001b[33m VTK requires 3D points, but 2D points given. Appending \u001b[0m\u001b[1;33m0\u001b[0m\u001b[33m third component.\u001b[0m\n"
      ]
     },
     "metadata": {},
     "output_type": "display_data"
    },
    {
     "data": {
      "text/html": [
       "<pre style=\"white-space:pre;overflow-x:auto;line-height:normal;font-family:Menlo,'DejaVu Sans Mono',consolas,'Courier New',monospace\"><span style=\"color: #808000; text-decoration-color: #808000; font-weight: bold\">Warning:</span><span style=\"color: #808000; text-decoration-color: #808000\"> VTK requires 3D points, but 2D points given. Appending </span><span style=\"color: #808000; text-decoration-color: #808000; font-weight: bold\">0</span><span style=\"color: #808000; text-decoration-color: #808000\"> third component.</span>\n",
       "</pre>\n"
      ],
      "text/plain": [
       "\u001b[1;33mWarning:\u001b[0m\u001b[33m VTK requires 3D points, but 2D points given. Appending \u001b[0m\u001b[1;33m0\u001b[0m\u001b[33m third component.\u001b[0m\n"
      ]
     },
     "metadata": {},
     "output_type": "display_data"
    },
    {
     "data": {
      "text/html": [
       "<pre style=\"white-space:pre;overflow-x:auto;line-height:normal;font-family:Menlo,'DejaVu Sans Mono',consolas,'Courier New',monospace\"><span style=\"color: #808000; text-decoration-color: #808000; font-weight: bold\">Warning:</span><span style=\"color: #808000; text-decoration-color: #808000\"> VTK requires 3D points, but 2D points given. Appending </span><span style=\"color: #808000; text-decoration-color: #808000; font-weight: bold\">0</span><span style=\"color: #808000; text-decoration-color: #808000\"> third component.</span>\n",
       "</pre>\n"
      ],
      "text/plain": [
       "\u001b[1;33mWarning:\u001b[0m\u001b[33m VTK requires 3D points, but 2D points given. Appending \u001b[0m\u001b[1;33m0\u001b[0m\u001b[33m third component.\u001b[0m\n"
      ]
     },
     "metadata": {},
     "output_type": "display_data"
    },
    {
     "data": {
      "text/html": [
       "<pre style=\"white-space:pre;overflow-x:auto;line-height:normal;font-family:Menlo,'DejaVu Sans Mono',consolas,'Courier New',monospace\"><span style=\"color: #808000; text-decoration-color: #808000; font-weight: bold\">Warning:</span><span style=\"color: #808000; text-decoration-color: #808000\"> VTK requires 3D points, but 2D points given. Appending </span><span style=\"color: #808000; text-decoration-color: #808000; font-weight: bold\">0</span><span style=\"color: #808000; text-decoration-color: #808000\"> third component.</span>\n",
       "</pre>\n"
      ],
      "text/plain": [
       "\u001b[1;33mWarning:\u001b[0m\u001b[33m VTK requires 3D points, but 2D points given. Appending \u001b[0m\u001b[1;33m0\u001b[0m\u001b[33m third component.\u001b[0m\n"
      ]
     },
     "metadata": {},
     "output_type": "display_data"
    },
    {
     "data": {
      "text/html": [
       "<pre style=\"white-space:pre;overflow-x:auto;line-height:normal;font-family:Menlo,'DejaVu Sans Mono',consolas,'Courier New',monospace\"><span style=\"color: #808000; text-decoration-color: #808000; font-weight: bold\">Warning:</span><span style=\"color: #808000; text-decoration-color: #808000\"> VTK requires 3D points, but 2D points given. Appending </span><span style=\"color: #808000; text-decoration-color: #808000; font-weight: bold\">0</span><span style=\"color: #808000; text-decoration-color: #808000\"> third component.</span>\n",
       "</pre>\n"
      ],
      "text/plain": [
       "\u001b[1;33mWarning:\u001b[0m\u001b[33m VTK requires 3D points, but 2D points given. Appending \u001b[0m\u001b[1;33m0\u001b[0m\u001b[33m third component.\u001b[0m\n"
      ]
     },
     "metadata": {},
     "output_type": "display_data"
    },
    {
     "data": {
      "text/html": [
       "<pre style=\"white-space:pre;overflow-x:auto;line-height:normal;font-family:Menlo,'DejaVu Sans Mono',consolas,'Courier New',monospace\"><span style=\"color: #808000; text-decoration-color: #808000; font-weight: bold\">Warning:</span><span style=\"color: #808000; text-decoration-color: #808000\"> VTK requires 3D points, but 2D points given. Appending </span><span style=\"color: #808000; text-decoration-color: #808000; font-weight: bold\">0</span><span style=\"color: #808000; text-decoration-color: #808000\"> third component.</span>\n",
       "</pre>\n"
      ],
      "text/plain": [
       "\u001b[1;33mWarning:\u001b[0m\u001b[33m VTK requires 3D points, but 2D points given. Appending \u001b[0m\u001b[1;33m0\u001b[0m\u001b[33m third component.\u001b[0m\n"
      ]
     },
     "metadata": {},
     "output_type": "display_data"
    },
    {
     "data": {
      "text/html": [
       "<pre style=\"white-space:pre;overflow-x:auto;line-height:normal;font-family:Menlo,'DejaVu Sans Mono',consolas,'Courier New',monospace\"><span style=\"color: #808000; text-decoration-color: #808000; font-weight: bold\">Warning:</span><span style=\"color: #808000; text-decoration-color: #808000\"> VTK requires 3D points, but 2D points given. Appending </span><span style=\"color: #808000; text-decoration-color: #808000; font-weight: bold\">0</span><span style=\"color: #808000; text-decoration-color: #808000\"> third component.</span>\n",
       "</pre>\n"
      ],
      "text/plain": [
       "\u001b[1;33mWarning:\u001b[0m\u001b[33m VTK requires 3D points, but 2D points given. Appending \u001b[0m\u001b[1;33m0\u001b[0m\u001b[33m third component.\u001b[0m\n"
      ]
     },
     "metadata": {},
     "output_type": "display_data"
    },
    {
     "data": {
      "text/html": [
       "<pre style=\"white-space:pre;overflow-x:auto;line-height:normal;font-family:Menlo,'DejaVu Sans Mono',consolas,'Courier New',monospace\"><span style=\"color: #808000; text-decoration-color: #808000; font-weight: bold\">Warning:</span><span style=\"color: #808000; text-decoration-color: #808000\"> VTK requires 3D points, but 2D points given. Appending </span><span style=\"color: #808000; text-decoration-color: #808000; font-weight: bold\">0</span><span style=\"color: #808000; text-decoration-color: #808000\"> third component.</span>\n",
       "</pre>\n"
      ],
      "text/plain": [
       "\u001b[1;33mWarning:\u001b[0m\u001b[33m VTK requires 3D points, but 2D points given. Appending \u001b[0m\u001b[1;33m0\u001b[0m\u001b[33m third component.\u001b[0m\n"
      ]
     },
     "metadata": {},
     "output_type": "display_data"
    },
    {
     "data": {
      "text/html": [
       "<pre style=\"white-space:pre;overflow-x:auto;line-height:normal;font-family:Menlo,'DejaVu Sans Mono',consolas,'Courier New',monospace\"><span style=\"color: #808000; text-decoration-color: #808000; font-weight: bold\">Warning:</span><span style=\"color: #808000; text-decoration-color: #808000\"> VTK requires 3D points, but 2D points given. Appending </span><span style=\"color: #808000; text-decoration-color: #808000; font-weight: bold\">0</span><span style=\"color: #808000; text-decoration-color: #808000\"> third component.</span>\n",
       "</pre>\n"
      ],
      "text/plain": [
       "\u001b[1;33mWarning:\u001b[0m\u001b[33m VTK requires 3D points, but 2D points given. Appending \u001b[0m\u001b[1;33m0\u001b[0m\u001b[33m third component.\u001b[0m\n"
      ]
     },
     "metadata": {},
     "output_type": "display_data"
    },
    {
     "data": {
      "text/html": [
       "<pre style=\"white-space:pre;overflow-x:auto;line-height:normal;font-family:Menlo,'DejaVu Sans Mono',consolas,'Courier New',monospace\"><span style=\"color: #808000; text-decoration-color: #808000; font-weight: bold\">Warning:</span><span style=\"color: #808000; text-decoration-color: #808000\"> VTK requires 3D points, but 2D points given. Appending </span><span style=\"color: #808000; text-decoration-color: #808000; font-weight: bold\">0</span><span style=\"color: #808000; text-decoration-color: #808000\"> third component.</span>\n",
       "</pre>\n"
      ],
      "text/plain": [
       "\u001b[1;33mWarning:\u001b[0m\u001b[33m VTK requires 3D points, but 2D points given. Appending \u001b[0m\u001b[1;33m0\u001b[0m\u001b[33m third component.\u001b[0m\n"
      ]
     },
     "metadata": {},
     "output_type": "display_data"
    },
    {
     "data": {
      "text/html": [
       "<pre style=\"white-space:pre;overflow-x:auto;line-height:normal;font-family:Menlo,'DejaVu Sans Mono',consolas,'Courier New',monospace\"><span style=\"color: #808000; text-decoration-color: #808000; font-weight: bold\">Warning:</span><span style=\"color: #808000; text-decoration-color: #808000\"> VTK requires 3D points, but 2D points given. Appending </span><span style=\"color: #808000; text-decoration-color: #808000; font-weight: bold\">0</span><span style=\"color: #808000; text-decoration-color: #808000\"> third component.</span>\n",
       "</pre>\n"
      ],
      "text/plain": [
       "\u001b[1;33mWarning:\u001b[0m\u001b[33m VTK requires 3D points, but 2D points given. Appending \u001b[0m\u001b[1;33m0\u001b[0m\u001b[33m third component.\u001b[0m\n"
      ]
     },
     "metadata": {},
     "output_type": "display_data"
    },
    {
     "data": {
      "text/html": [
       "<pre style=\"white-space:pre;overflow-x:auto;line-height:normal;font-family:Menlo,'DejaVu Sans Mono',consolas,'Courier New',monospace\"><span style=\"color: #808000; text-decoration-color: #808000; font-weight: bold\">Warning:</span><span style=\"color: #808000; text-decoration-color: #808000\"> VTK requires 3D points, but 2D points given. Appending </span><span style=\"color: #808000; text-decoration-color: #808000; font-weight: bold\">0</span><span style=\"color: #808000; text-decoration-color: #808000\"> third component.</span>\n",
       "</pre>\n"
      ],
      "text/plain": [
       "\u001b[1;33mWarning:\u001b[0m\u001b[33m VTK requires 3D points, but 2D points given. Appending \u001b[0m\u001b[1;33m0\u001b[0m\u001b[33m third component.\u001b[0m\n"
      ]
     },
     "metadata": {},
     "output_type": "display_data"
    },
    {
     "data": {
      "text/html": [
       "<pre style=\"white-space:pre;overflow-x:auto;line-height:normal;font-family:Menlo,'DejaVu Sans Mono',consolas,'Courier New',monospace\"><span style=\"color: #808000; text-decoration-color: #808000; font-weight: bold\">Warning:</span><span style=\"color: #808000; text-decoration-color: #808000\"> VTK requires 3D points, but 2D points given. Appending </span><span style=\"color: #808000; text-decoration-color: #808000; font-weight: bold\">0</span><span style=\"color: #808000; text-decoration-color: #808000\"> third component.</span>\n",
       "</pre>\n"
      ],
      "text/plain": [
       "\u001b[1;33mWarning:\u001b[0m\u001b[33m VTK requires 3D points, but 2D points given. Appending \u001b[0m\u001b[1;33m0\u001b[0m\u001b[33m third component.\u001b[0m\n"
      ]
     },
     "metadata": {},
     "output_type": "display_data"
    },
    {
     "data": {
      "text/html": [
       "<pre style=\"white-space:pre;overflow-x:auto;line-height:normal;font-family:Menlo,'DejaVu Sans Mono',consolas,'Courier New',monospace\"><span style=\"color: #808000; text-decoration-color: #808000; font-weight: bold\">Warning:</span><span style=\"color: #808000; text-decoration-color: #808000\"> VTK requires 3D points, but 2D points given. Appending </span><span style=\"color: #808000; text-decoration-color: #808000; font-weight: bold\">0</span><span style=\"color: #808000; text-decoration-color: #808000\"> third component.</span>\n",
       "</pre>\n"
      ],
      "text/plain": [
       "\u001b[1;33mWarning:\u001b[0m\u001b[33m VTK requires 3D points, but 2D points given. Appending \u001b[0m\u001b[1;33m0\u001b[0m\u001b[33m third component.\u001b[0m\n"
      ]
     },
     "metadata": {},
     "output_type": "display_data"
    },
    {
     "data": {
      "text/html": [
       "<pre style=\"white-space:pre;overflow-x:auto;line-height:normal;font-family:Menlo,'DejaVu Sans Mono',consolas,'Courier New',monospace\"><span style=\"color: #808000; text-decoration-color: #808000; font-weight: bold\">Warning:</span><span style=\"color: #808000; text-decoration-color: #808000\"> VTK requires 3D points, but 2D points given. Appending </span><span style=\"color: #808000; text-decoration-color: #808000; font-weight: bold\">0</span><span style=\"color: #808000; text-decoration-color: #808000\"> third component.</span>\n",
       "</pre>\n"
      ],
      "text/plain": [
       "\u001b[1;33mWarning:\u001b[0m\u001b[33m VTK requires 3D points, but 2D points given. Appending \u001b[0m\u001b[1;33m0\u001b[0m\u001b[33m third component.\u001b[0m\n"
      ]
     },
     "metadata": {},
     "output_type": "display_data"
    },
    {
     "data": {
      "text/html": [
       "<pre style=\"white-space:pre;overflow-x:auto;line-height:normal;font-family:Menlo,'DejaVu Sans Mono',consolas,'Courier New',monospace\"><span style=\"color: #808000; text-decoration-color: #808000; font-weight: bold\">Warning:</span><span style=\"color: #808000; text-decoration-color: #808000\"> VTK requires 3D points, but 2D points given. Appending </span><span style=\"color: #808000; text-decoration-color: #808000; font-weight: bold\">0</span><span style=\"color: #808000; text-decoration-color: #808000\"> third component.</span>\n",
       "</pre>\n"
      ],
      "text/plain": [
       "\u001b[1;33mWarning:\u001b[0m\u001b[33m VTK requires 3D points, but 2D points given. Appending \u001b[0m\u001b[1;33m0\u001b[0m\u001b[33m third component.\u001b[0m\n"
      ]
     },
     "metadata": {},
     "output_type": "display_data"
    },
    {
     "data": {
      "text/html": [
       "<pre style=\"white-space:pre;overflow-x:auto;line-height:normal;font-family:Menlo,'DejaVu Sans Mono',consolas,'Courier New',monospace\"><span style=\"color: #808000; text-decoration-color: #808000; font-weight: bold\">Warning:</span><span style=\"color: #808000; text-decoration-color: #808000\"> VTK requires 3D points, but 2D points given. Appending </span><span style=\"color: #808000; text-decoration-color: #808000; font-weight: bold\">0</span><span style=\"color: #808000; text-decoration-color: #808000\"> third component.</span>\n",
       "</pre>\n"
      ],
      "text/plain": [
       "\u001b[1;33mWarning:\u001b[0m\u001b[33m VTK requires 3D points, but 2D points given. Appending \u001b[0m\u001b[1;33m0\u001b[0m\u001b[33m third component.\u001b[0m\n"
      ]
     },
     "metadata": {},
     "output_type": "display_data"
    },
    {
     "data": {
      "text/html": [
       "<pre style=\"white-space:pre;overflow-x:auto;line-height:normal;font-family:Menlo,'DejaVu Sans Mono',consolas,'Courier New',monospace\"><span style=\"color: #808000; text-decoration-color: #808000; font-weight: bold\">Warning:</span><span style=\"color: #808000; text-decoration-color: #808000\"> VTK requires 3D points, but 2D points given. Appending </span><span style=\"color: #808000; text-decoration-color: #808000; font-weight: bold\">0</span><span style=\"color: #808000; text-decoration-color: #808000\"> third component.</span>\n",
       "</pre>\n"
      ],
      "text/plain": [
       "\u001b[1;33mWarning:\u001b[0m\u001b[33m VTK requires 3D points, but 2D points given. Appending \u001b[0m\u001b[1;33m0\u001b[0m\u001b[33m third component.\u001b[0m\n"
      ]
     },
     "metadata": {},
     "output_type": "display_data"
    },
    {
     "data": {
      "text/html": [
       "<pre style=\"white-space:pre;overflow-x:auto;line-height:normal;font-family:Menlo,'DejaVu Sans Mono',consolas,'Courier New',monospace\"><span style=\"color: #808000; text-decoration-color: #808000; font-weight: bold\">Warning:</span><span style=\"color: #808000; text-decoration-color: #808000\"> VTK requires 3D points, but 2D points given. Appending </span><span style=\"color: #808000; text-decoration-color: #808000; font-weight: bold\">0</span><span style=\"color: #808000; text-decoration-color: #808000\"> third component.</span>\n",
       "</pre>\n"
      ],
      "text/plain": [
       "\u001b[1;33mWarning:\u001b[0m\u001b[33m VTK requires 3D points, but 2D points given. Appending \u001b[0m\u001b[1;33m0\u001b[0m\u001b[33m third component.\u001b[0m\n"
      ]
     },
     "metadata": {},
     "output_type": "display_data"
    },
    {
     "data": {
      "text/html": [
       "<pre style=\"white-space:pre;overflow-x:auto;line-height:normal;font-family:Menlo,'DejaVu Sans Mono',consolas,'Courier New',monospace\"><span style=\"color: #808000; text-decoration-color: #808000; font-weight: bold\">Warning:</span><span style=\"color: #808000; text-decoration-color: #808000\"> VTK requires 3D points, but 2D points given. Appending </span><span style=\"color: #808000; text-decoration-color: #808000; font-weight: bold\">0</span><span style=\"color: #808000; text-decoration-color: #808000\"> third component.</span>\n",
       "</pre>\n"
      ],
      "text/plain": [
       "\u001b[1;33mWarning:\u001b[0m\u001b[33m VTK requires 3D points, but 2D points given. Appending \u001b[0m\u001b[1;33m0\u001b[0m\u001b[33m third component.\u001b[0m\n"
      ]
     },
     "metadata": {},
     "output_type": "display_data"
    },
    {
     "data": {
      "text/html": [
       "<pre style=\"white-space:pre;overflow-x:auto;line-height:normal;font-family:Menlo,'DejaVu Sans Mono',consolas,'Courier New',monospace\"><span style=\"color: #808000; text-decoration-color: #808000; font-weight: bold\">Warning:</span><span style=\"color: #808000; text-decoration-color: #808000\"> VTK requires 3D points, but 2D points given. Appending </span><span style=\"color: #808000; text-decoration-color: #808000; font-weight: bold\">0</span><span style=\"color: #808000; text-decoration-color: #808000\"> third component.</span>\n",
       "</pre>\n"
      ],
      "text/plain": [
       "\u001b[1;33mWarning:\u001b[0m\u001b[33m VTK requires 3D points, but 2D points given. Appending \u001b[0m\u001b[1;33m0\u001b[0m\u001b[33m third component.\u001b[0m\n"
      ]
     },
     "metadata": {},
     "output_type": "display_data"
    },
    {
     "data": {
      "text/html": [
       "<pre style=\"white-space:pre;overflow-x:auto;line-height:normal;font-family:Menlo,'DejaVu Sans Mono',consolas,'Courier New',monospace\"><span style=\"color: #808000; text-decoration-color: #808000; font-weight: bold\">Warning:</span><span style=\"color: #808000; text-decoration-color: #808000\"> VTK requires 3D points, but 2D points given. Appending </span><span style=\"color: #808000; text-decoration-color: #808000; font-weight: bold\">0</span><span style=\"color: #808000; text-decoration-color: #808000\"> third component.</span>\n",
       "</pre>\n"
      ],
      "text/plain": [
       "\u001b[1;33mWarning:\u001b[0m\u001b[33m VTK requires 3D points, but 2D points given. Appending \u001b[0m\u001b[1;33m0\u001b[0m\u001b[33m third component.\u001b[0m\n"
      ]
     },
     "metadata": {},
     "output_type": "display_data"
    },
    {
     "data": {
      "text/html": [
       "<pre style=\"white-space:pre;overflow-x:auto;line-height:normal;font-family:Menlo,'DejaVu Sans Mono',consolas,'Courier New',monospace\"><span style=\"color: #808000; text-decoration-color: #808000; font-weight: bold\">Warning:</span><span style=\"color: #808000; text-decoration-color: #808000\"> VTK requires 3D points, but 2D points given. Appending </span><span style=\"color: #808000; text-decoration-color: #808000; font-weight: bold\">0</span><span style=\"color: #808000; text-decoration-color: #808000\"> third component.</span>\n",
       "</pre>\n"
      ],
      "text/plain": [
       "\u001b[1;33mWarning:\u001b[0m\u001b[33m VTK requires 3D points, but 2D points given. Appending \u001b[0m\u001b[1;33m0\u001b[0m\u001b[33m third component.\u001b[0m\n"
      ]
     },
     "metadata": {},
     "output_type": "display_data"
    },
    {
     "data": {
      "text/html": [
       "<pre style=\"white-space:pre;overflow-x:auto;line-height:normal;font-family:Menlo,'DejaVu Sans Mono',consolas,'Courier New',monospace\"><span style=\"color: #808000; text-decoration-color: #808000; font-weight: bold\">Warning:</span><span style=\"color: #808000; text-decoration-color: #808000\"> VTK requires 3D points, but 2D points given. Appending </span><span style=\"color: #808000; text-decoration-color: #808000; font-weight: bold\">0</span><span style=\"color: #808000; text-decoration-color: #808000\"> third component.</span>\n",
       "</pre>\n"
      ],
      "text/plain": [
       "\u001b[1;33mWarning:\u001b[0m\u001b[33m VTK requires 3D points, but 2D points given. Appending \u001b[0m\u001b[1;33m0\u001b[0m\u001b[33m third component.\u001b[0m\n"
      ]
     },
     "metadata": {},
     "output_type": "display_data"
    },
    {
     "data": {
      "text/html": [
       "<pre style=\"white-space:pre;overflow-x:auto;line-height:normal;font-family:Menlo,'DejaVu Sans Mono',consolas,'Courier New',monospace\"><span style=\"color: #808000; text-decoration-color: #808000; font-weight: bold\">Warning:</span><span style=\"color: #808000; text-decoration-color: #808000\"> VTK requires 3D points, but 2D points given. Appending </span><span style=\"color: #808000; text-decoration-color: #808000; font-weight: bold\">0</span><span style=\"color: #808000; text-decoration-color: #808000\"> third component.</span>\n",
       "</pre>\n"
      ],
      "text/plain": [
       "\u001b[1;33mWarning:\u001b[0m\u001b[33m VTK requires 3D points, but 2D points given. Appending \u001b[0m\u001b[1;33m0\u001b[0m\u001b[33m third component.\u001b[0m\n"
      ]
     },
     "metadata": {},
     "output_type": "display_data"
    },
    {
     "data": {
      "text/html": [
       "<pre style=\"white-space:pre;overflow-x:auto;line-height:normal;font-family:Menlo,'DejaVu Sans Mono',consolas,'Courier New',monospace\"><span style=\"color: #808000; text-decoration-color: #808000; font-weight: bold\">Warning:</span><span style=\"color: #808000; text-decoration-color: #808000\"> VTK requires 3D points, but 2D points given. Appending </span><span style=\"color: #808000; text-decoration-color: #808000; font-weight: bold\">0</span><span style=\"color: #808000; text-decoration-color: #808000\"> third component.</span>\n",
       "</pre>\n"
      ],
      "text/plain": [
       "\u001b[1;33mWarning:\u001b[0m\u001b[33m VTK requires 3D points, but 2D points given. Appending \u001b[0m\u001b[1;33m0\u001b[0m\u001b[33m third component.\u001b[0m\n"
      ]
     },
     "metadata": {},
     "output_type": "display_data"
    },
    {
     "data": {
      "text/html": [
       "<pre style=\"white-space:pre;overflow-x:auto;line-height:normal;font-family:Menlo,'DejaVu Sans Mono',consolas,'Courier New',monospace\"><span style=\"color: #808000; text-decoration-color: #808000; font-weight: bold\">Warning:</span><span style=\"color: #808000; text-decoration-color: #808000\"> VTK requires 3D points, but 2D points given. Appending </span><span style=\"color: #808000; text-decoration-color: #808000; font-weight: bold\">0</span><span style=\"color: #808000; text-decoration-color: #808000\"> third component.</span>\n",
       "</pre>\n"
      ],
      "text/plain": [
       "\u001b[1;33mWarning:\u001b[0m\u001b[33m VTK requires 3D points, but 2D points given. Appending \u001b[0m\u001b[1;33m0\u001b[0m\u001b[33m third component.\u001b[0m\n"
      ]
     },
     "metadata": {},
     "output_type": "display_data"
    },
    {
     "data": {
      "text/html": [
       "<pre style=\"white-space:pre;overflow-x:auto;line-height:normal;font-family:Menlo,'DejaVu Sans Mono',consolas,'Courier New',monospace\"><span style=\"color: #808000; text-decoration-color: #808000; font-weight: bold\">Warning:</span><span style=\"color: #808000; text-decoration-color: #808000\"> VTK requires 3D points, but 2D points given. Appending </span><span style=\"color: #808000; text-decoration-color: #808000; font-weight: bold\">0</span><span style=\"color: #808000; text-decoration-color: #808000\"> third component.</span>\n",
       "</pre>\n"
      ],
      "text/plain": [
       "\u001b[1;33mWarning:\u001b[0m\u001b[33m VTK requires 3D points, but 2D points given. Appending \u001b[0m\u001b[1;33m0\u001b[0m\u001b[33m third component.\u001b[0m\n"
      ]
     },
     "metadata": {},
     "output_type": "display_data"
    },
    {
     "data": {
      "text/html": [
       "<pre style=\"white-space:pre;overflow-x:auto;line-height:normal;font-family:Menlo,'DejaVu Sans Mono',consolas,'Courier New',monospace\"><span style=\"color: #808000; text-decoration-color: #808000; font-weight: bold\">Warning:</span><span style=\"color: #808000; text-decoration-color: #808000\"> VTK requires 3D points, but 2D points given. Appending </span><span style=\"color: #808000; text-decoration-color: #808000; font-weight: bold\">0</span><span style=\"color: #808000; text-decoration-color: #808000\"> third component.</span>\n",
       "</pre>\n"
      ],
      "text/plain": [
       "\u001b[1;33mWarning:\u001b[0m\u001b[33m VTK requires 3D points, but 2D points given. Appending \u001b[0m\u001b[1;33m0\u001b[0m\u001b[33m third component.\u001b[0m\n"
      ]
     },
     "metadata": {},
     "output_type": "display_data"
    },
    {
     "data": {
      "text/html": [
       "<pre style=\"white-space:pre;overflow-x:auto;line-height:normal;font-family:Menlo,'DejaVu Sans Mono',consolas,'Courier New',monospace\"><span style=\"color: #808000; text-decoration-color: #808000; font-weight: bold\">Warning:</span><span style=\"color: #808000; text-decoration-color: #808000\"> VTK requires 3D points, but 2D points given. Appending </span><span style=\"color: #808000; text-decoration-color: #808000; font-weight: bold\">0</span><span style=\"color: #808000; text-decoration-color: #808000\"> third component.</span>\n",
       "</pre>\n"
      ],
      "text/plain": [
       "\u001b[1;33mWarning:\u001b[0m\u001b[33m VTK requires 3D points, but 2D points given. Appending \u001b[0m\u001b[1;33m0\u001b[0m\u001b[33m third component.\u001b[0m\n"
      ]
     },
     "metadata": {},
     "output_type": "display_data"
    },
    {
     "data": {
      "text/html": [
       "<pre style=\"white-space:pre;overflow-x:auto;line-height:normal;font-family:Menlo,'DejaVu Sans Mono',consolas,'Courier New',monospace\"><span style=\"color: #808000; text-decoration-color: #808000; font-weight: bold\">Warning:</span><span style=\"color: #808000; text-decoration-color: #808000\"> VTK requires 3D points, but 2D points given. Appending </span><span style=\"color: #808000; text-decoration-color: #808000; font-weight: bold\">0</span><span style=\"color: #808000; text-decoration-color: #808000\"> third component.</span>\n",
       "</pre>\n"
      ],
      "text/plain": [
       "\u001b[1;33mWarning:\u001b[0m\u001b[33m VTK requires 3D points, but 2D points given. Appending \u001b[0m\u001b[1;33m0\u001b[0m\u001b[33m third component.\u001b[0m\n"
      ]
     },
     "metadata": {},
     "output_type": "display_data"
    },
    {
     "data": {
      "text/html": [
       "<pre style=\"white-space:pre;overflow-x:auto;line-height:normal;font-family:Menlo,'DejaVu Sans Mono',consolas,'Courier New',monospace\"><span style=\"color: #808000; text-decoration-color: #808000; font-weight: bold\">Warning:</span><span style=\"color: #808000; text-decoration-color: #808000\"> VTK requires 3D points, but 2D points given. Appending </span><span style=\"color: #808000; text-decoration-color: #808000; font-weight: bold\">0</span><span style=\"color: #808000; text-decoration-color: #808000\"> third component.</span>\n",
       "</pre>\n"
      ],
      "text/plain": [
       "\u001b[1;33mWarning:\u001b[0m\u001b[33m VTK requires 3D points, but 2D points given. Appending \u001b[0m\u001b[1;33m0\u001b[0m\u001b[33m third component.\u001b[0m\n"
      ]
     },
     "metadata": {},
     "output_type": "display_data"
    },
    {
     "data": {
      "text/html": [
       "<pre style=\"white-space:pre;overflow-x:auto;line-height:normal;font-family:Menlo,'DejaVu Sans Mono',consolas,'Courier New',monospace\"><span style=\"color: #808000; text-decoration-color: #808000; font-weight: bold\">Warning:</span><span style=\"color: #808000; text-decoration-color: #808000\"> VTK requires 3D points, but 2D points given. Appending </span><span style=\"color: #808000; text-decoration-color: #808000; font-weight: bold\">0</span><span style=\"color: #808000; text-decoration-color: #808000\"> third component.</span>\n",
       "</pre>\n"
      ],
      "text/plain": [
       "\u001b[1;33mWarning:\u001b[0m\u001b[33m VTK requires 3D points, but 2D points given. Appending \u001b[0m\u001b[1;33m0\u001b[0m\u001b[33m third component.\u001b[0m\n"
      ]
     },
     "metadata": {},
     "output_type": "display_data"
    },
    {
     "data": {
      "text/html": [
       "<pre style=\"white-space:pre;overflow-x:auto;line-height:normal;font-family:Menlo,'DejaVu Sans Mono',consolas,'Courier New',monospace\"><span style=\"color: #808000; text-decoration-color: #808000; font-weight: bold\">Warning:</span><span style=\"color: #808000; text-decoration-color: #808000\"> VTK requires 3D points, but 2D points given. Appending </span><span style=\"color: #808000; text-decoration-color: #808000; font-weight: bold\">0</span><span style=\"color: #808000; text-decoration-color: #808000\"> third component.</span>\n",
       "</pre>\n"
      ],
      "text/plain": [
       "\u001b[1;33mWarning:\u001b[0m\u001b[33m VTK requires 3D points, but 2D points given. Appending \u001b[0m\u001b[1;33m0\u001b[0m\u001b[33m third component.\u001b[0m\n"
      ]
     },
     "metadata": {},
     "output_type": "display_data"
    },
    {
     "data": {
      "text/html": [
       "<pre style=\"white-space:pre;overflow-x:auto;line-height:normal;font-family:Menlo,'DejaVu Sans Mono',consolas,'Courier New',monospace\"><span style=\"color: #808000; text-decoration-color: #808000; font-weight: bold\">Warning:</span><span style=\"color: #808000; text-decoration-color: #808000\"> VTK requires 3D points, but 2D points given. Appending </span><span style=\"color: #808000; text-decoration-color: #808000; font-weight: bold\">0</span><span style=\"color: #808000; text-decoration-color: #808000\"> third component.</span>\n",
       "</pre>\n"
      ],
      "text/plain": [
       "\u001b[1;33mWarning:\u001b[0m\u001b[33m VTK requires 3D points, but 2D points given. Appending \u001b[0m\u001b[1;33m0\u001b[0m\u001b[33m third component.\u001b[0m\n"
      ]
     },
     "metadata": {},
     "output_type": "display_data"
    },
    {
     "data": {
      "text/html": [
       "<pre style=\"white-space:pre;overflow-x:auto;line-height:normal;font-family:Menlo,'DejaVu Sans Mono',consolas,'Courier New',monospace\"><span style=\"color: #808000; text-decoration-color: #808000; font-weight: bold\">Warning:</span><span style=\"color: #808000; text-decoration-color: #808000\"> VTK requires 3D points, but 2D points given. Appending </span><span style=\"color: #808000; text-decoration-color: #808000; font-weight: bold\">0</span><span style=\"color: #808000; text-decoration-color: #808000\"> third component.</span>\n",
       "</pre>\n"
      ],
      "text/plain": [
       "\u001b[1;33mWarning:\u001b[0m\u001b[33m VTK requires 3D points, but 2D points given. Appending \u001b[0m\u001b[1;33m0\u001b[0m\u001b[33m third component.\u001b[0m\n"
      ]
     },
     "metadata": {},
     "output_type": "display_data"
    },
    {
     "data": {
      "text/html": [
       "<pre style=\"white-space:pre;overflow-x:auto;line-height:normal;font-family:Menlo,'DejaVu Sans Mono',consolas,'Courier New',monospace\"><span style=\"color: #808000; text-decoration-color: #808000; font-weight: bold\">Warning:</span><span style=\"color: #808000; text-decoration-color: #808000\"> VTK requires 3D points, but 2D points given. Appending </span><span style=\"color: #808000; text-decoration-color: #808000; font-weight: bold\">0</span><span style=\"color: #808000; text-decoration-color: #808000\"> third component.</span>\n",
       "</pre>\n"
      ],
      "text/plain": [
       "\u001b[1;33mWarning:\u001b[0m\u001b[33m VTK requires 3D points, but 2D points given. Appending \u001b[0m\u001b[1;33m0\u001b[0m\u001b[33m third component.\u001b[0m\n"
      ]
     },
     "metadata": {},
     "output_type": "display_data"
    },
    {
     "data": {
      "text/html": [
       "<pre style=\"white-space:pre;overflow-x:auto;line-height:normal;font-family:Menlo,'DejaVu Sans Mono',consolas,'Courier New',monospace\"><span style=\"color: #808000; text-decoration-color: #808000; font-weight: bold\">Warning:</span><span style=\"color: #808000; text-decoration-color: #808000\"> VTK requires 3D points, but 2D points given. Appending </span><span style=\"color: #808000; text-decoration-color: #808000; font-weight: bold\">0</span><span style=\"color: #808000; text-decoration-color: #808000\"> third component.</span>\n",
       "</pre>\n"
      ],
      "text/plain": [
       "\u001b[1;33mWarning:\u001b[0m\u001b[33m VTK requires 3D points, but 2D points given. Appending \u001b[0m\u001b[1;33m0\u001b[0m\u001b[33m third component.\u001b[0m\n"
      ]
     },
     "metadata": {},
     "output_type": "display_data"
    },
    {
     "data": {
      "text/html": [
       "<pre style=\"white-space:pre;overflow-x:auto;line-height:normal;font-family:Menlo,'DejaVu Sans Mono',consolas,'Courier New',monospace\"><span style=\"color: #808000; text-decoration-color: #808000; font-weight: bold\">Warning:</span><span style=\"color: #808000; text-decoration-color: #808000\"> VTK requires 3D points, but 2D points given. Appending </span><span style=\"color: #808000; text-decoration-color: #808000; font-weight: bold\">0</span><span style=\"color: #808000; text-decoration-color: #808000\"> third component.</span>\n",
       "</pre>\n"
      ],
      "text/plain": [
       "\u001b[1;33mWarning:\u001b[0m\u001b[33m VTK requires 3D points, but 2D points given. Appending \u001b[0m\u001b[1;33m0\u001b[0m\u001b[33m third component.\u001b[0m\n"
      ]
     },
     "metadata": {},
     "output_type": "display_data"
    },
    {
     "data": {
      "text/html": [
       "<pre style=\"white-space:pre;overflow-x:auto;line-height:normal;font-family:Menlo,'DejaVu Sans Mono',consolas,'Courier New',monospace\"><span style=\"color: #808000; text-decoration-color: #808000; font-weight: bold\">Warning:</span><span style=\"color: #808000; text-decoration-color: #808000\"> VTK requires 3D points, but 2D points given. Appending </span><span style=\"color: #808000; text-decoration-color: #808000; font-weight: bold\">0</span><span style=\"color: #808000; text-decoration-color: #808000\"> third component.</span>\n",
       "</pre>\n"
      ],
      "text/plain": [
       "\u001b[1;33mWarning:\u001b[0m\u001b[33m VTK requires 3D points, but 2D points given. Appending \u001b[0m\u001b[1;33m0\u001b[0m\u001b[33m third component.\u001b[0m\n"
      ]
     },
     "metadata": {},
     "output_type": "display_data"
    },
    {
     "data": {
      "text/html": [
       "<pre style=\"white-space:pre;overflow-x:auto;line-height:normal;font-family:Menlo,'DejaVu Sans Mono',consolas,'Courier New',monospace\"><span style=\"color: #808000; text-decoration-color: #808000; font-weight: bold\">Warning:</span><span style=\"color: #808000; text-decoration-color: #808000\"> VTK requires 3D points, but 2D points given. Appending </span><span style=\"color: #808000; text-decoration-color: #808000; font-weight: bold\">0</span><span style=\"color: #808000; text-decoration-color: #808000\"> third component.</span>\n",
       "</pre>\n"
      ],
      "text/plain": [
       "\u001b[1;33mWarning:\u001b[0m\u001b[33m VTK requires 3D points, but 2D points given. Appending \u001b[0m\u001b[1;33m0\u001b[0m\u001b[33m third component.\u001b[0m\n"
      ]
     },
     "metadata": {},
     "output_type": "display_data"
    },
    {
     "data": {
      "text/html": [
       "<pre style=\"white-space:pre;overflow-x:auto;line-height:normal;font-family:Menlo,'DejaVu Sans Mono',consolas,'Courier New',monospace\"><span style=\"color: #808000; text-decoration-color: #808000; font-weight: bold\">Warning:</span><span style=\"color: #808000; text-decoration-color: #808000\"> VTK requires 3D points, but 2D points given. Appending </span><span style=\"color: #808000; text-decoration-color: #808000; font-weight: bold\">0</span><span style=\"color: #808000; text-decoration-color: #808000\"> third component.</span>\n",
       "</pre>\n"
      ],
      "text/plain": [
       "\u001b[1;33mWarning:\u001b[0m\u001b[33m VTK requires 3D points, but 2D points given. Appending \u001b[0m\u001b[1;33m0\u001b[0m\u001b[33m third component.\u001b[0m\n"
      ]
     },
     "metadata": {},
     "output_type": "display_data"
    },
    {
     "data": {
      "text/html": [
       "<pre style=\"white-space:pre;overflow-x:auto;line-height:normal;font-family:Menlo,'DejaVu Sans Mono',consolas,'Courier New',monospace\"><span style=\"color: #808000; text-decoration-color: #808000; font-weight: bold\">Warning:</span><span style=\"color: #808000; text-decoration-color: #808000\"> VTK requires 3D points, but 2D points given. Appending </span><span style=\"color: #808000; text-decoration-color: #808000; font-weight: bold\">0</span><span style=\"color: #808000; text-decoration-color: #808000\"> third component.</span>\n",
       "</pre>\n"
      ],
      "text/plain": [
       "\u001b[1;33mWarning:\u001b[0m\u001b[33m VTK requires 3D points, but 2D points given. Appending \u001b[0m\u001b[1;33m0\u001b[0m\u001b[33m third component.\u001b[0m\n"
      ]
     },
     "metadata": {},
     "output_type": "display_data"
    },
    {
     "data": {
      "text/html": [
       "<pre style=\"white-space:pre;overflow-x:auto;line-height:normal;font-family:Menlo,'DejaVu Sans Mono',consolas,'Courier New',monospace\"><span style=\"color: #808000; text-decoration-color: #808000; font-weight: bold\">Warning:</span><span style=\"color: #808000; text-decoration-color: #808000\"> VTK requires 3D points, but 2D points given. Appending </span><span style=\"color: #808000; text-decoration-color: #808000; font-weight: bold\">0</span><span style=\"color: #808000; text-decoration-color: #808000\"> third component.</span>\n",
       "</pre>\n"
      ],
      "text/plain": [
       "\u001b[1;33mWarning:\u001b[0m\u001b[33m VTK requires 3D points, but 2D points given. Appending \u001b[0m\u001b[1;33m0\u001b[0m\u001b[33m third component.\u001b[0m\n"
      ]
     },
     "metadata": {},
     "output_type": "display_data"
    },
    {
     "data": {
      "text/html": [
       "<pre style=\"white-space:pre;overflow-x:auto;line-height:normal;font-family:Menlo,'DejaVu Sans Mono',consolas,'Courier New',monospace\"><span style=\"color: #808000; text-decoration-color: #808000; font-weight: bold\">Warning:</span><span style=\"color: #808000; text-decoration-color: #808000\"> VTK requires 3D points, but 2D points given. Appending </span><span style=\"color: #808000; text-decoration-color: #808000; font-weight: bold\">0</span><span style=\"color: #808000; text-decoration-color: #808000\"> third component.</span>\n",
       "</pre>\n"
      ],
      "text/plain": [
       "\u001b[1;33mWarning:\u001b[0m\u001b[33m VTK requires 3D points, but 2D points given. Appending \u001b[0m\u001b[1;33m0\u001b[0m\u001b[33m third component.\u001b[0m\n"
      ]
     },
     "metadata": {},
     "output_type": "display_data"
    },
    {
     "data": {
      "text/html": [
       "<pre style=\"white-space:pre;overflow-x:auto;line-height:normal;font-family:Menlo,'DejaVu Sans Mono',consolas,'Courier New',monospace\"><span style=\"color: #808000; text-decoration-color: #808000; font-weight: bold\">Warning:</span><span style=\"color: #808000; text-decoration-color: #808000\"> VTK requires 3D points, but 2D points given. Appending </span><span style=\"color: #808000; text-decoration-color: #808000; font-weight: bold\">0</span><span style=\"color: #808000; text-decoration-color: #808000\"> third component.</span>\n",
       "</pre>\n"
      ],
      "text/plain": [
       "\u001b[1;33mWarning:\u001b[0m\u001b[33m VTK requires 3D points, but 2D points given. Appending \u001b[0m\u001b[1;33m0\u001b[0m\u001b[33m third component.\u001b[0m\n"
      ]
     },
     "metadata": {},
     "output_type": "display_data"
    },
    {
     "data": {
      "text/html": [
       "<pre style=\"white-space:pre;overflow-x:auto;line-height:normal;font-family:Menlo,'DejaVu Sans Mono',consolas,'Courier New',monospace\"><span style=\"color: #808000; text-decoration-color: #808000; font-weight: bold\">Warning:</span><span style=\"color: #808000; text-decoration-color: #808000\"> VTK requires 3D points, but 2D points given. Appending </span><span style=\"color: #808000; text-decoration-color: #808000; font-weight: bold\">0</span><span style=\"color: #808000; text-decoration-color: #808000\"> third component.</span>\n",
       "</pre>\n"
      ],
      "text/plain": [
       "\u001b[1;33mWarning:\u001b[0m\u001b[33m VTK requires 3D points, but 2D points given. Appending \u001b[0m\u001b[1;33m0\u001b[0m\u001b[33m third component.\u001b[0m\n"
      ]
     },
     "metadata": {},
     "output_type": "display_data"
    },
    {
     "data": {
      "text/html": [
       "<pre style=\"white-space:pre;overflow-x:auto;line-height:normal;font-family:Menlo,'DejaVu Sans Mono',consolas,'Courier New',monospace\"><span style=\"color: #808000; text-decoration-color: #808000; font-weight: bold\">Warning:</span><span style=\"color: #808000; text-decoration-color: #808000\"> VTK requires 3D points, but 2D points given. Appending </span><span style=\"color: #808000; text-decoration-color: #808000; font-weight: bold\">0</span><span style=\"color: #808000; text-decoration-color: #808000\"> third component.</span>\n",
       "</pre>\n"
      ],
      "text/plain": [
       "\u001b[1;33mWarning:\u001b[0m\u001b[33m VTK requires 3D points, but 2D points given. Appending \u001b[0m\u001b[1;33m0\u001b[0m\u001b[33m third component.\u001b[0m\n"
      ]
     },
     "metadata": {},
     "output_type": "display_data"
    },
    {
     "data": {
      "text/html": [
       "<pre style=\"white-space:pre;overflow-x:auto;line-height:normal;font-family:Menlo,'DejaVu Sans Mono',consolas,'Courier New',monospace\"><span style=\"color: #808000; text-decoration-color: #808000; font-weight: bold\">Warning:</span><span style=\"color: #808000; text-decoration-color: #808000\"> VTK requires 3D points, but 2D points given. Appending </span><span style=\"color: #808000; text-decoration-color: #808000; font-weight: bold\">0</span><span style=\"color: #808000; text-decoration-color: #808000\"> third component.</span>\n",
       "</pre>\n"
      ],
      "text/plain": [
       "\u001b[1;33mWarning:\u001b[0m\u001b[33m VTK requires 3D points, but 2D points given. Appending \u001b[0m\u001b[1;33m0\u001b[0m\u001b[33m third component.\u001b[0m\n"
      ]
     },
     "metadata": {},
     "output_type": "display_data"
    },
    {
     "data": {
      "text/html": [
       "<pre style=\"white-space:pre;overflow-x:auto;line-height:normal;font-family:Menlo,'DejaVu Sans Mono',consolas,'Courier New',monospace\"><span style=\"color: #808000; text-decoration-color: #808000; font-weight: bold\">Warning:</span><span style=\"color: #808000; text-decoration-color: #808000\"> VTK requires 3D points, but 2D points given. Appending </span><span style=\"color: #808000; text-decoration-color: #808000; font-weight: bold\">0</span><span style=\"color: #808000; text-decoration-color: #808000\"> third component.</span>\n",
       "</pre>\n"
      ],
      "text/plain": [
       "\u001b[1;33mWarning:\u001b[0m\u001b[33m VTK requires 3D points, but 2D points given. Appending \u001b[0m\u001b[1;33m0\u001b[0m\u001b[33m third component.\u001b[0m\n"
      ]
     },
     "metadata": {},
     "output_type": "display_data"
    },
    {
     "data": {
      "text/html": [
       "<pre style=\"white-space:pre;overflow-x:auto;line-height:normal;font-family:Menlo,'DejaVu Sans Mono',consolas,'Courier New',monospace\"><span style=\"color: #808000; text-decoration-color: #808000; font-weight: bold\">Warning:</span><span style=\"color: #808000; text-decoration-color: #808000\"> VTK requires 3D points, but 2D points given. Appending </span><span style=\"color: #808000; text-decoration-color: #808000; font-weight: bold\">0</span><span style=\"color: #808000; text-decoration-color: #808000\"> third component.</span>\n",
       "</pre>\n"
      ],
      "text/plain": [
       "\u001b[1;33mWarning:\u001b[0m\u001b[33m VTK requires 3D points, but 2D points given. Appending \u001b[0m\u001b[1;33m0\u001b[0m\u001b[33m third component.\u001b[0m\n"
      ]
     },
     "metadata": {},
     "output_type": "display_data"
    },
    {
     "data": {
      "text/html": [
       "<pre style=\"white-space:pre;overflow-x:auto;line-height:normal;font-family:Menlo,'DejaVu Sans Mono',consolas,'Courier New',monospace\"><span style=\"color: #808000; text-decoration-color: #808000; font-weight: bold\">Warning:</span><span style=\"color: #808000; text-decoration-color: #808000\"> VTK requires 3D points, but 2D points given. Appending </span><span style=\"color: #808000; text-decoration-color: #808000; font-weight: bold\">0</span><span style=\"color: #808000; text-decoration-color: #808000\"> third component.</span>\n",
       "</pre>\n"
      ],
      "text/plain": [
       "\u001b[1;33mWarning:\u001b[0m\u001b[33m VTK requires 3D points, but 2D points given. Appending \u001b[0m\u001b[1;33m0\u001b[0m\u001b[33m third component.\u001b[0m\n"
      ]
     },
     "metadata": {},
     "output_type": "display_data"
    },
    {
     "data": {
      "text/html": [
       "<pre style=\"white-space:pre;overflow-x:auto;line-height:normal;font-family:Menlo,'DejaVu Sans Mono',consolas,'Courier New',monospace\"><span style=\"color: #808000; text-decoration-color: #808000; font-weight: bold\">Warning:</span><span style=\"color: #808000; text-decoration-color: #808000\"> VTK requires 3D points, but 2D points given. Appending </span><span style=\"color: #808000; text-decoration-color: #808000; font-weight: bold\">0</span><span style=\"color: #808000; text-decoration-color: #808000\"> third component.</span>\n",
       "</pre>\n"
      ],
      "text/plain": [
       "\u001b[1;33mWarning:\u001b[0m\u001b[33m VTK requires 3D points, but 2D points given. Appending \u001b[0m\u001b[1;33m0\u001b[0m\u001b[33m third component.\u001b[0m\n"
      ]
     },
     "metadata": {},
     "output_type": "display_data"
    },
    {
     "data": {
      "text/html": [
       "<pre style=\"white-space:pre;overflow-x:auto;line-height:normal;font-family:Menlo,'DejaVu Sans Mono',consolas,'Courier New',monospace\"><span style=\"color: #808000; text-decoration-color: #808000; font-weight: bold\">Warning:</span><span style=\"color: #808000; text-decoration-color: #808000\"> VTK requires 3D points, but 2D points given. Appending </span><span style=\"color: #808000; text-decoration-color: #808000; font-weight: bold\">0</span><span style=\"color: #808000; text-decoration-color: #808000\"> third component.</span>\n",
       "</pre>\n"
      ],
      "text/plain": [
       "\u001b[1;33mWarning:\u001b[0m\u001b[33m VTK requires 3D points, but 2D points given. Appending \u001b[0m\u001b[1;33m0\u001b[0m\u001b[33m third component.\u001b[0m\n"
      ]
     },
     "metadata": {},
     "output_type": "display_data"
    },
    {
     "data": {
      "text/html": [
       "<pre style=\"white-space:pre;overflow-x:auto;line-height:normal;font-family:Menlo,'DejaVu Sans Mono',consolas,'Courier New',monospace\"><span style=\"color: #808000; text-decoration-color: #808000; font-weight: bold\">Warning:</span><span style=\"color: #808000; text-decoration-color: #808000\"> VTK requires 3D points, but 2D points given. Appending </span><span style=\"color: #808000; text-decoration-color: #808000; font-weight: bold\">0</span><span style=\"color: #808000; text-decoration-color: #808000\"> third component.</span>\n",
       "</pre>\n"
      ],
      "text/plain": [
       "\u001b[1;33mWarning:\u001b[0m\u001b[33m VTK requires 3D points, but 2D points given. Appending \u001b[0m\u001b[1;33m0\u001b[0m\u001b[33m third component.\u001b[0m\n"
      ]
     },
     "metadata": {},
     "output_type": "display_data"
    },
    {
     "data": {
      "text/html": [
       "<pre style=\"white-space:pre;overflow-x:auto;line-height:normal;font-family:Menlo,'DejaVu Sans Mono',consolas,'Courier New',monospace\"><span style=\"color: #808000; text-decoration-color: #808000; font-weight: bold\">Warning:</span><span style=\"color: #808000; text-decoration-color: #808000\"> VTK requires 3D points, but 2D points given. Appending </span><span style=\"color: #808000; text-decoration-color: #808000; font-weight: bold\">0</span><span style=\"color: #808000; text-decoration-color: #808000\"> third component.</span>\n",
       "</pre>\n"
      ],
      "text/plain": [
       "\u001b[1;33mWarning:\u001b[0m\u001b[33m VTK requires 3D points, but 2D points given. Appending \u001b[0m\u001b[1;33m0\u001b[0m\u001b[33m third component.\u001b[0m\n"
      ]
     },
     "metadata": {},
     "output_type": "display_data"
    },
    {
     "data": {
      "text/html": [
       "<pre style=\"white-space:pre;overflow-x:auto;line-height:normal;font-family:Menlo,'DejaVu Sans Mono',consolas,'Courier New',monospace\"><span style=\"color: #808000; text-decoration-color: #808000; font-weight: bold\">Warning:</span><span style=\"color: #808000; text-decoration-color: #808000\"> VTK requires 3D points, but 2D points given. Appending </span><span style=\"color: #808000; text-decoration-color: #808000; font-weight: bold\">0</span><span style=\"color: #808000; text-decoration-color: #808000\"> third component.</span>\n",
       "</pre>\n"
      ],
      "text/plain": [
       "\u001b[1;33mWarning:\u001b[0m\u001b[33m VTK requires 3D points, but 2D points given. Appending \u001b[0m\u001b[1;33m0\u001b[0m\u001b[33m third component.\u001b[0m\n"
      ]
     },
     "metadata": {},
     "output_type": "display_data"
    },
    {
     "data": {
      "text/html": [
       "<pre style=\"white-space:pre;overflow-x:auto;line-height:normal;font-family:Menlo,'DejaVu Sans Mono',consolas,'Courier New',monospace\"><span style=\"color: #808000; text-decoration-color: #808000; font-weight: bold\">Warning:</span><span style=\"color: #808000; text-decoration-color: #808000\"> VTK requires 3D points, but 2D points given. Appending </span><span style=\"color: #808000; text-decoration-color: #808000; font-weight: bold\">0</span><span style=\"color: #808000; text-decoration-color: #808000\"> third component.</span>\n",
       "</pre>\n"
      ],
      "text/plain": [
       "\u001b[1;33mWarning:\u001b[0m\u001b[33m VTK requires 3D points, but 2D points given. Appending \u001b[0m\u001b[1;33m0\u001b[0m\u001b[33m third component.\u001b[0m\n"
      ]
     },
     "metadata": {},
     "output_type": "display_data"
    },
    {
     "data": {
      "text/html": [
       "<pre style=\"white-space:pre;overflow-x:auto;line-height:normal;font-family:Menlo,'DejaVu Sans Mono',consolas,'Courier New',monospace\"><span style=\"color: #808000; text-decoration-color: #808000; font-weight: bold\">Warning:</span><span style=\"color: #808000; text-decoration-color: #808000\"> VTK requires 3D points, but 2D points given. Appending </span><span style=\"color: #808000; text-decoration-color: #808000; font-weight: bold\">0</span><span style=\"color: #808000; text-decoration-color: #808000\"> third component.</span>\n",
       "</pre>\n"
      ],
      "text/plain": [
       "\u001b[1;33mWarning:\u001b[0m\u001b[33m VTK requires 3D points, but 2D points given. Appending \u001b[0m\u001b[1;33m0\u001b[0m\u001b[33m third component.\u001b[0m\n"
      ]
     },
     "metadata": {},
     "output_type": "display_data"
    },
    {
     "data": {
      "text/html": [
       "<pre style=\"white-space:pre;overflow-x:auto;line-height:normal;font-family:Menlo,'DejaVu Sans Mono',consolas,'Courier New',monospace\"><span style=\"color: #808000; text-decoration-color: #808000; font-weight: bold\">Warning:</span><span style=\"color: #808000; text-decoration-color: #808000\"> VTK requires 3D points, but 2D points given. Appending </span><span style=\"color: #808000; text-decoration-color: #808000; font-weight: bold\">0</span><span style=\"color: #808000; text-decoration-color: #808000\"> third component.</span>\n",
       "</pre>\n"
      ],
      "text/plain": [
       "\u001b[1;33mWarning:\u001b[0m\u001b[33m VTK requires 3D points, but 2D points given. Appending \u001b[0m\u001b[1;33m0\u001b[0m\u001b[33m third component.\u001b[0m\n"
      ]
     },
     "metadata": {},
     "output_type": "display_data"
    },
    {
     "data": {
      "text/html": [
       "<pre style=\"white-space:pre;overflow-x:auto;line-height:normal;font-family:Menlo,'DejaVu Sans Mono',consolas,'Courier New',monospace\"><span style=\"color: #808000; text-decoration-color: #808000; font-weight: bold\">Warning:</span><span style=\"color: #808000; text-decoration-color: #808000\"> VTK requires 3D points, but 2D points given. Appending </span><span style=\"color: #808000; text-decoration-color: #808000; font-weight: bold\">0</span><span style=\"color: #808000; text-decoration-color: #808000\"> third component.</span>\n",
       "</pre>\n"
      ],
      "text/plain": [
       "\u001b[1;33mWarning:\u001b[0m\u001b[33m VTK requires 3D points, but 2D points given. Appending \u001b[0m\u001b[1;33m0\u001b[0m\u001b[33m third component.\u001b[0m\n"
      ]
     },
     "metadata": {},
     "output_type": "display_data"
    },
    {
     "data": {
      "text/html": [
       "<pre style=\"white-space:pre;overflow-x:auto;line-height:normal;font-family:Menlo,'DejaVu Sans Mono',consolas,'Courier New',monospace\"><span style=\"color: #808000; text-decoration-color: #808000; font-weight: bold\">Warning:</span><span style=\"color: #808000; text-decoration-color: #808000\"> VTK requires 3D points, but 2D points given. Appending </span><span style=\"color: #808000; text-decoration-color: #808000; font-weight: bold\">0</span><span style=\"color: #808000; text-decoration-color: #808000\"> third component.</span>\n",
       "</pre>\n"
      ],
      "text/plain": [
       "\u001b[1;33mWarning:\u001b[0m\u001b[33m VTK requires 3D points, but 2D points given. Appending \u001b[0m\u001b[1;33m0\u001b[0m\u001b[33m third component.\u001b[0m\n"
      ]
     },
     "metadata": {},
     "output_type": "display_data"
    },
    {
     "data": {
      "text/html": [
       "<pre style=\"white-space:pre;overflow-x:auto;line-height:normal;font-family:Menlo,'DejaVu Sans Mono',consolas,'Courier New',monospace\"><span style=\"color: #808000; text-decoration-color: #808000; font-weight: bold\">Warning:</span><span style=\"color: #808000; text-decoration-color: #808000\"> VTK requires 3D points, but 2D points given. Appending </span><span style=\"color: #808000; text-decoration-color: #808000; font-weight: bold\">0</span><span style=\"color: #808000; text-decoration-color: #808000\"> third component.</span>\n",
       "</pre>\n"
      ],
      "text/plain": [
       "\u001b[1;33mWarning:\u001b[0m\u001b[33m VTK requires 3D points, but 2D points given. Appending \u001b[0m\u001b[1;33m0\u001b[0m\u001b[33m third component.\u001b[0m\n"
      ]
     },
     "metadata": {},
     "output_type": "display_data"
    },
    {
     "data": {
      "text/html": [
       "<pre style=\"white-space:pre;overflow-x:auto;line-height:normal;font-family:Menlo,'DejaVu Sans Mono',consolas,'Courier New',monospace\"><span style=\"color: #808000; text-decoration-color: #808000; font-weight: bold\">Warning:</span><span style=\"color: #808000; text-decoration-color: #808000\"> VTK requires 3D points, but 2D points given. Appending </span><span style=\"color: #808000; text-decoration-color: #808000; font-weight: bold\">0</span><span style=\"color: #808000; text-decoration-color: #808000\"> third component.</span>\n",
       "</pre>\n"
      ],
      "text/plain": [
       "\u001b[1;33mWarning:\u001b[0m\u001b[33m VTK requires 3D points, but 2D points given. Appending \u001b[0m\u001b[1;33m0\u001b[0m\u001b[33m third component.\u001b[0m\n"
      ]
     },
     "metadata": {},
     "output_type": "display_data"
    },
    {
     "data": {
      "text/html": [
       "<pre style=\"white-space:pre;overflow-x:auto;line-height:normal;font-family:Menlo,'DejaVu Sans Mono',consolas,'Courier New',monospace\"><span style=\"color: #808000; text-decoration-color: #808000; font-weight: bold\">Warning:</span><span style=\"color: #808000; text-decoration-color: #808000\"> VTK requires 3D points, but 2D points given. Appending </span><span style=\"color: #808000; text-decoration-color: #808000; font-weight: bold\">0</span><span style=\"color: #808000; text-decoration-color: #808000\"> third component.</span>\n",
       "</pre>\n"
      ],
      "text/plain": [
       "\u001b[1;33mWarning:\u001b[0m\u001b[33m VTK requires 3D points, but 2D points given. Appending \u001b[0m\u001b[1;33m0\u001b[0m\u001b[33m third component.\u001b[0m\n"
      ]
     },
     "metadata": {},
     "output_type": "display_data"
    },
    {
     "data": {
      "text/html": [
       "<pre style=\"white-space:pre;overflow-x:auto;line-height:normal;font-family:Menlo,'DejaVu Sans Mono',consolas,'Courier New',monospace\"><span style=\"color: #808000; text-decoration-color: #808000; font-weight: bold\">Warning:</span><span style=\"color: #808000; text-decoration-color: #808000\"> VTK requires 3D points, but 2D points given. Appending </span><span style=\"color: #808000; text-decoration-color: #808000; font-weight: bold\">0</span><span style=\"color: #808000; text-decoration-color: #808000\"> third component.</span>\n",
       "</pre>\n"
      ],
      "text/plain": [
       "\u001b[1;33mWarning:\u001b[0m\u001b[33m VTK requires 3D points, but 2D points given. Appending \u001b[0m\u001b[1;33m0\u001b[0m\u001b[33m third component.\u001b[0m\n"
      ]
     },
     "metadata": {},
     "output_type": "display_data"
    },
    {
     "data": {
      "text/html": [
       "<pre style=\"white-space:pre;overflow-x:auto;line-height:normal;font-family:Menlo,'DejaVu Sans Mono',consolas,'Courier New',monospace\"><span style=\"color: #808000; text-decoration-color: #808000; font-weight: bold\">Warning:</span><span style=\"color: #808000; text-decoration-color: #808000\"> VTK requires 3D points, but 2D points given. Appending </span><span style=\"color: #808000; text-decoration-color: #808000; font-weight: bold\">0</span><span style=\"color: #808000; text-decoration-color: #808000\"> third component.</span>\n",
       "</pre>\n"
      ],
      "text/plain": [
       "\u001b[1;33mWarning:\u001b[0m\u001b[33m VTK requires 3D points, but 2D points given. Appending \u001b[0m\u001b[1;33m0\u001b[0m\u001b[33m third component.\u001b[0m\n"
      ]
     },
     "metadata": {},
     "output_type": "display_data"
    },
    {
     "data": {
      "text/html": [
       "<pre style=\"white-space:pre;overflow-x:auto;line-height:normal;font-family:Menlo,'DejaVu Sans Mono',consolas,'Courier New',monospace\"><span style=\"color: #808000; text-decoration-color: #808000; font-weight: bold\">Warning:</span><span style=\"color: #808000; text-decoration-color: #808000\"> VTK requires 3D points, but 2D points given. Appending </span><span style=\"color: #808000; text-decoration-color: #808000; font-weight: bold\">0</span><span style=\"color: #808000; text-decoration-color: #808000\"> third component.</span>\n",
       "</pre>\n"
      ],
      "text/plain": [
       "\u001b[1;33mWarning:\u001b[0m\u001b[33m VTK requires 3D points, but 2D points given. Appending \u001b[0m\u001b[1;33m0\u001b[0m\u001b[33m third component.\u001b[0m\n"
      ]
     },
     "metadata": {},
     "output_type": "display_data"
    },
    {
     "data": {
      "text/html": [
       "<pre style=\"white-space:pre;overflow-x:auto;line-height:normal;font-family:Menlo,'DejaVu Sans Mono',consolas,'Courier New',monospace\"><span style=\"color: #808000; text-decoration-color: #808000; font-weight: bold\">Warning:</span><span style=\"color: #808000; text-decoration-color: #808000\"> VTK requires 3D points, but 2D points given. Appending </span><span style=\"color: #808000; text-decoration-color: #808000; font-weight: bold\">0</span><span style=\"color: #808000; text-decoration-color: #808000\"> third component.</span>\n",
       "</pre>\n"
      ],
      "text/plain": [
       "\u001b[1;33mWarning:\u001b[0m\u001b[33m VTK requires 3D points, but 2D points given. Appending \u001b[0m\u001b[1;33m0\u001b[0m\u001b[33m third component.\u001b[0m\n"
      ]
     },
     "metadata": {},
     "output_type": "display_data"
    },
    {
     "data": {
      "text/html": [
       "<pre style=\"white-space:pre;overflow-x:auto;line-height:normal;font-family:Menlo,'DejaVu Sans Mono',consolas,'Courier New',monospace\"><span style=\"color: #808000; text-decoration-color: #808000; font-weight: bold\">Warning:</span><span style=\"color: #808000; text-decoration-color: #808000\"> VTK requires 3D points, but 2D points given. Appending </span><span style=\"color: #808000; text-decoration-color: #808000; font-weight: bold\">0</span><span style=\"color: #808000; text-decoration-color: #808000\"> third component.</span>\n",
       "</pre>\n"
      ],
      "text/plain": [
       "\u001b[1;33mWarning:\u001b[0m\u001b[33m VTK requires 3D points, but 2D points given. Appending \u001b[0m\u001b[1;33m0\u001b[0m\u001b[33m third component.\u001b[0m\n"
      ]
     },
     "metadata": {},
     "output_type": "display_data"
    },
    {
     "data": {
      "text/html": [
       "<pre style=\"white-space:pre;overflow-x:auto;line-height:normal;font-family:Menlo,'DejaVu Sans Mono',consolas,'Courier New',monospace\"><span style=\"color: #808000; text-decoration-color: #808000; font-weight: bold\">Warning:</span><span style=\"color: #808000; text-decoration-color: #808000\"> VTK requires 3D points, but 2D points given. Appending </span><span style=\"color: #808000; text-decoration-color: #808000; font-weight: bold\">0</span><span style=\"color: #808000; text-decoration-color: #808000\"> third component.</span>\n",
       "</pre>\n"
      ],
      "text/plain": [
       "\u001b[1;33mWarning:\u001b[0m\u001b[33m VTK requires 3D points, but 2D points given. Appending \u001b[0m\u001b[1;33m0\u001b[0m\u001b[33m third component.\u001b[0m\n"
      ]
     },
     "metadata": {},
     "output_type": "display_data"
    },
    {
     "data": {
      "text/html": [
       "<pre style=\"white-space:pre;overflow-x:auto;line-height:normal;font-family:Menlo,'DejaVu Sans Mono',consolas,'Courier New',monospace\"><span style=\"color: #808000; text-decoration-color: #808000; font-weight: bold\">Warning:</span><span style=\"color: #808000; text-decoration-color: #808000\"> VTK requires 3D points, but 2D points given. Appending </span><span style=\"color: #808000; text-decoration-color: #808000; font-weight: bold\">0</span><span style=\"color: #808000; text-decoration-color: #808000\"> third component.</span>\n",
       "</pre>\n"
      ],
      "text/plain": [
       "\u001b[1;33mWarning:\u001b[0m\u001b[33m VTK requires 3D points, but 2D points given. Appending \u001b[0m\u001b[1;33m0\u001b[0m\u001b[33m third component.\u001b[0m\n"
      ]
     },
     "metadata": {},
     "output_type": "display_data"
    },
    {
     "data": {
      "text/html": [
       "<pre style=\"white-space:pre;overflow-x:auto;line-height:normal;font-family:Menlo,'DejaVu Sans Mono',consolas,'Courier New',monospace\"><span style=\"color: #808000; text-decoration-color: #808000; font-weight: bold\">Warning:</span><span style=\"color: #808000; text-decoration-color: #808000\"> VTK requires 3D points, but 2D points given. Appending </span><span style=\"color: #808000; text-decoration-color: #808000; font-weight: bold\">0</span><span style=\"color: #808000; text-decoration-color: #808000\"> third component.</span>\n",
       "</pre>\n"
      ],
      "text/plain": [
       "\u001b[1;33mWarning:\u001b[0m\u001b[33m VTK requires 3D points, but 2D points given. Appending \u001b[0m\u001b[1;33m0\u001b[0m\u001b[33m third component.\u001b[0m\n"
      ]
     },
     "metadata": {},
     "output_type": "display_data"
    },
    {
     "data": {
      "text/html": [
       "<pre style=\"white-space:pre;overflow-x:auto;line-height:normal;font-family:Menlo,'DejaVu Sans Mono',consolas,'Courier New',monospace\"><span style=\"color: #808000; text-decoration-color: #808000; font-weight: bold\">Warning:</span><span style=\"color: #808000; text-decoration-color: #808000\"> VTK requires 3D points, but 2D points given. Appending </span><span style=\"color: #808000; text-decoration-color: #808000; font-weight: bold\">0</span><span style=\"color: #808000; text-decoration-color: #808000\"> third component.</span>\n",
       "</pre>\n"
      ],
      "text/plain": [
       "\u001b[1;33mWarning:\u001b[0m\u001b[33m VTK requires 3D points, but 2D points given. Appending \u001b[0m\u001b[1;33m0\u001b[0m\u001b[33m third component.\u001b[0m\n"
      ]
     },
     "metadata": {},
     "output_type": "display_data"
    },
    {
     "data": {
      "text/html": [
       "<pre style=\"white-space:pre;overflow-x:auto;line-height:normal;font-family:Menlo,'DejaVu Sans Mono',consolas,'Courier New',monospace\"><span style=\"color: #808000; text-decoration-color: #808000; font-weight: bold\">Warning:</span><span style=\"color: #808000; text-decoration-color: #808000\"> VTK requires 3D points, but 2D points given. Appending </span><span style=\"color: #808000; text-decoration-color: #808000; font-weight: bold\">0</span><span style=\"color: #808000; text-decoration-color: #808000\"> third component.</span>\n",
       "</pre>\n"
      ],
      "text/plain": [
       "\u001b[1;33mWarning:\u001b[0m\u001b[33m VTK requires 3D points, but 2D points given. Appending \u001b[0m\u001b[1;33m0\u001b[0m\u001b[33m third component.\u001b[0m\n"
      ]
     },
     "metadata": {},
     "output_type": "display_data"
    },
    {
     "data": {
      "text/html": [
       "<pre style=\"white-space:pre;overflow-x:auto;line-height:normal;font-family:Menlo,'DejaVu Sans Mono',consolas,'Courier New',monospace\"><span style=\"color: #808000; text-decoration-color: #808000; font-weight: bold\">Warning:</span><span style=\"color: #808000; text-decoration-color: #808000\"> VTK requires 3D points, but 2D points given. Appending </span><span style=\"color: #808000; text-decoration-color: #808000; font-weight: bold\">0</span><span style=\"color: #808000; text-decoration-color: #808000\"> third component.</span>\n",
       "</pre>\n"
      ],
      "text/plain": [
       "\u001b[1;33mWarning:\u001b[0m\u001b[33m VTK requires 3D points, but 2D points given. Appending \u001b[0m\u001b[1;33m0\u001b[0m\u001b[33m third component.\u001b[0m\n"
      ]
     },
     "metadata": {},
     "output_type": "display_data"
    },
    {
     "data": {
      "text/html": [
       "<pre style=\"white-space:pre;overflow-x:auto;line-height:normal;font-family:Menlo,'DejaVu Sans Mono',consolas,'Courier New',monospace\"><span style=\"color: #808000; text-decoration-color: #808000; font-weight: bold\">Warning:</span><span style=\"color: #808000; text-decoration-color: #808000\"> VTK requires 3D points, but 2D points given. Appending </span><span style=\"color: #808000; text-decoration-color: #808000; font-weight: bold\">0</span><span style=\"color: #808000; text-decoration-color: #808000\"> third component.</span>\n",
       "</pre>\n"
      ],
      "text/plain": [
       "\u001b[1;33mWarning:\u001b[0m\u001b[33m VTK requires 3D points, but 2D points given. Appending \u001b[0m\u001b[1;33m0\u001b[0m\u001b[33m third component.\u001b[0m\n"
      ]
     },
     "metadata": {},
     "output_type": "display_data"
    },
    {
     "data": {
      "text/html": [
       "<pre style=\"white-space:pre;overflow-x:auto;line-height:normal;font-family:Menlo,'DejaVu Sans Mono',consolas,'Courier New',monospace\"><span style=\"color: #808000; text-decoration-color: #808000; font-weight: bold\">Warning:</span><span style=\"color: #808000; text-decoration-color: #808000\"> VTK requires 3D points, but 2D points given. Appending </span><span style=\"color: #808000; text-decoration-color: #808000; font-weight: bold\">0</span><span style=\"color: #808000; text-decoration-color: #808000\"> third component.</span>\n",
       "</pre>\n"
      ],
      "text/plain": [
       "\u001b[1;33mWarning:\u001b[0m\u001b[33m VTK requires 3D points, but 2D points given. Appending \u001b[0m\u001b[1;33m0\u001b[0m\u001b[33m third component.\u001b[0m\n"
      ]
     },
     "metadata": {},
     "output_type": "display_data"
    },
    {
     "data": {
      "text/html": [
       "<pre style=\"white-space:pre;overflow-x:auto;line-height:normal;font-family:Menlo,'DejaVu Sans Mono',consolas,'Courier New',monospace\"><span style=\"color: #808000; text-decoration-color: #808000; font-weight: bold\">Warning:</span><span style=\"color: #808000; text-decoration-color: #808000\"> VTK requires 3D points, but 2D points given. Appending </span><span style=\"color: #808000; text-decoration-color: #808000; font-weight: bold\">0</span><span style=\"color: #808000; text-decoration-color: #808000\"> third component.</span>\n",
       "</pre>\n"
      ],
      "text/plain": [
       "\u001b[1;33mWarning:\u001b[0m\u001b[33m VTK requires 3D points, but 2D points given. Appending \u001b[0m\u001b[1;33m0\u001b[0m\u001b[33m third component.\u001b[0m\n"
      ]
     },
     "metadata": {},
     "output_type": "display_data"
    },
    {
     "data": {
      "text/html": [
       "<pre style=\"white-space:pre;overflow-x:auto;line-height:normal;font-family:Menlo,'DejaVu Sans Mono',consolas,'Courier New',monospace\"><span style=\"color: #808000; text-decoration-color: #808000; font-weight: bold\">Warning:</span><span style=\"color: #808000; text-decoration-color: #808000\"> VTK requires 3D points, but 2D points given. Appending </span><span style=\"color: #808000; text-decoration-color: #808000; font-weight: bold\">0</span><span style=\"color: #808000; text-decoration-color: #808000\"> third component.</span>\n",
       "</pre>\n"
      ],
      "text/plain": [
       "\u001b[1;33mWarning:\u001b[0m\u001b[33m VTK requires 3D points, but 2D points given. Appending \u001b[0m\u001b[1;33m0\u001b[0m\u001b[33m third component.\u001b[0m\n"
      ]
     },
     "metadata": {},
     "output_type": "display_data"
    },
    {
     "data": {
      "text/html": [
       "<pre style=\"white-space:pre;overflow-x:auto;line-height:normal;font-family:Menlo,'DejaVu Sans Mono',consolas,'Courier New',monospace\"><span style=\"color: #808000; text-decoration-color: #808000; font-weight: bold\">Warning:</span><span style=\"color: #808000; text-decoration-color: #808000\"> VTK requires 3D points, but 2D points given. Appending </span><span style=\"color: #808000; text-decoration-color: #808000; font-weight: bold\">0</span><span style=\"color: #808000; text-decoration-color: #808000\"> third component.</span>\n",
       "</pre>\n"
      ],
      "text/plain": [
       "\u001b[1;33mWarning:\u001b[0m\u001b[33m VTK requires 3D points, but 2D points given. Appending \u001b[0m\u001b[1;33m0\u001b[0m\u001b[33m third component.\u001b[0m\n"
      ]
     },
     "metadata": {},
     "output_type": "display_data"
    }
   ],
   "source": [
    "smm_restart_from_openfoam(level=level)"
   ]
  },
  {
   "cell_type": "markdown",
   "metadata": {},
   "source": [
    "## Train with multi-trajectory SinDy"
   ]
  },
  {
   "cell_type": "markdown",
   "metadata": {},
   "source": [
    "### Read input/output dataset"
   ]
  },
  {
   "cell_type": "code",
   "execution_count": 18,
   "metadata": {},
   "outputs": [],
   "source": [
    "\n",
    "path_data_input = f\"{filepath_openfoam_case}/closure_dataset_input.hdf5\"\n",
    "path_data_output = f\"{filepath_openfoam_case}/closure_dataset_output.hdf5\""
   ]
  },
  {
   "cell_type": "code",
   "execution_count": 19,
   "metadata": {},
   "outputs": [],
   "source": [
    "with h5py.File(path_data_input, \"r\") as f:\n",
    "    n_iterations = len(f.keys())\n",
    "    Q, Qaux, time = load_fields_from_hdf5(path_data_input, 0)\n",
    "    n_elements = Q.shape[0]\n",
    "    n_fields = Q.shape[1]\n",
    "\n",
    "input = np.zeros((n_iterations, n_elements, n_fields))\n",
    "output = np.zeros((n_iterations, n_elements, n_fields))\n",
    "dts = np.zeros((n_iterations, n_elements)) \n",
    "for i in range(n_iterations):\n",
    "    output[i, :, :] = deepcopy(Q)\n",
    "    Q, Qaux, time = load_fields_from_hdf5(path_data_input, i)\n",
    "    input[i, :, :] = deepcopy(Q)\n",
    "    Q, Qaux, dt = load_fields_from_hdf5(path_data_output, i)\n",
    "    dts[i, :] = dt\n",
    "input = input.reshape(n_iterations*n_elements, n_fields)\n",
    "output = output.reshape(n_iterations*n_elements, n_fields)\n",
    "dts = dts.reshape(n_iterations*n_elements)\n"
   ]
  },
  {
   "cell_type": "markdown",
   "metadata": {},
   "source": [
    "go to primitive variables"
   ]
  },
  {
   "cell_type": "code",
   "execution_count": 20,
   "metadata": {},
   "outputs": [],
   "source": [
    "for i in range(1, n_fields):\n",
    "    input[:,i] = input[:,i] / input[:,0]"
   ]
  },
  {
   "cell_type": "markdown",
   "metadata": {},
   "source": [
    "Sanity checks"
   ]
  },
  {
   "cell_type": "code",
   "execution_count": 22,
   "metadata": {},
   "outputs": [
    {
     "name": "stdout",
     "output_type": "stream",
     "text": [
      "number of NAN entries in output: 0/1203950\n",
      "number of inf entries in output: 0/1203950\n",
      "number of non-zero entries in output: 969722/1203950\n"
     ]
    }
   ],
   "source": [
    "\n",
    "print(f\"number of NAN entries in output: {np.sum(np.isnan(output) > 0)}/{output.shape[0]*output.shape[1]}\")\n",
    "print(f\"number of inf entries in output: {np.sum(np.isinf(output) > 0)}/{output.shape[0]*output.shape[1]}\")\n",
    "print(f\"number of non-zero entries in output: {np.sum(np.abs(output) > 0)}/{output.shape[0]*output.shape[1]}\")"
   ]
  },
  {
   "cell_type": "markdown",
   "metadata": {},
   "source": [
    "Use [Multiple trajectories](https://pysindy.readthedocs.io/en/latest/examples/1_feature_overview/example.html#Single-trajectory,-pass-in-collection-times)"
   ]
  },
  {
   "cell_type": "markdown",
   "metadata": {},
   "source": [
    "### Warning\n",
    "because we need at least 3 time steps (maybe a custom fd model helps?), I assume a linear relation in time and sample the output as list [IC, IC+0.5*dQ, IC_dQ]. This is clearly an assumption."
   ]
  },
  {
   "cell_type": "code",
   "execution_count": 23,
   "metadata": {},
   "outputs": [],
   "source": [
    "x_data = []\n",
    "T_data = []\n",
    "for i in range(n_iterations*n_elements):\n",
    "    x_data.append(np.stack((input[i, :], input[i,:] + 0.5 *output[i, :], input[i,:] + 1.0 *output[i, :])))\n",
    "    T_data.append( np.array([0, 0.5*dts[i], 1.0 * dts[i]]) )"
   ]
  },
  {
   "cell_type": "markdown",
   "metadata": {},
   "source": [
    "Test train split"
   ]
  },
  {
   "cell_type": "code",
   "execution_count": 24,
   "metadata": {},
   "outputs": [
    {
     "name": "stdout",
     "output_type": "stream",
     "text": [
      "number of training samples: 238382\n",
      "number of test samples: 2408\n"
     ]
    }
   ],
   "source": [
    "indices = np.linspace(0, len(x_data)-1, len(x_data), dtype=int)\n",
    "from sklearn.model_selection import train_test_split\n",
    "I_train, I_test = train_test_split(indices, test_size=0.01, random_state=42)\n",
    "x_test = [x_data[i] for i in I_test]\n",
    "T_test = [T_data[i] for i in I_test]\n",
    "x_train = [x_data[i] for i in I_train]\n",
    "T_train = [T_data[i] for i in I_train]\n",
    "print(f\"number of training samples: {len(x_train)}\")\n",
    "print(f\"number of test samples: {len(x_test)}\")"
   ]
  },
  {
   "cell_type": "markdown",
   "metadata": {},
   "source": [
    "### PySindy"
   ]
  },
  {
   "cell_type": "code",
   "execution_count": 25,
   "metadata": {},
   "outputs": [],
   "source": [
    "import pysindy as ps "
   ]
  },
  {
   "cell_type": "markdown",
   "metadata": {},
   "source": [
    "### Train without any constraints"
   ]
  },
  {
   "cell_type": "code",
   "execution_count": 26,
   "metadata": {},
   "outputs": [
    {
     "name": "stdout",
     "output_type": "stream",
     "text": [
      "(h)' = 1.985 f1(h,hu,hu1,hv,hv1)\n",
      "(hu)' = 0.189 f0(h,hu,hu1,hv,hv1) + 8.152 f1(h,hu,hu1,hv,hv1)\n",
      "(hu1)' = 1.103 f1(h,hu,hu1,hv,hv1)\n",
      "(hv)' = 0.271 f1(h,hu,hu1,hv,hv1)\n",
      "(hv1)' = 0.000\n"
     ]
    },
    {
     "name": "stderr",
     "output_type": "stream",
     "text": [
      "/home/ingo/Git/SMM/shallow-moments-simulation/.venv/lib/python3.9/site-packages/pysindy/optimizers/stlsq.py:201: UserWarning: Sparsity parameter is too big (0.1) and eliminated all coefficients\n",
      "  warnings.warn(\n"
     ]
    }
   ],
   "source": [
    "## Create data\n",
    "# library_poly = ps.PolynomialLibrary(degree=2, include_bias=False)\n",
    "library_unsym = ps.CustomLibrary(\n",
    "    library_functions=[lambda h, u, u1, v, v1: abs(u), lambda h, u, u2, v, v1: abs(v)])\n",
    "    # library_functions=[lambda h, u, v : abs(u), lambda h, u, v: abs(u)])\n",
    "combined_library = library_unsym\n",
    "# feature_names = ['h', 'hu', 'hv']\n",
    "feature_names = ['h', 'hu', 'hu1', 'hv', 'hv1']\n",
    "model_unsym = ps.SINDy(feature_library = combined_library, feature_names = feature_names)\n",
    "# model = ps.SINDy(feature_library = library_poly)\n",
    "model_unsym.fit(x_train, t=T_train, multiple_trajectories=True, unbias=True)\n",
    "model_unsym.print()\n",
    " "
   ]
  },
  {
   "cell_type": "code",
   "execution_count": 27,
   "metadata": {},
   "outputs": [],
   "source": [
    "def compute_error(model, x_test, T_test):\n",
    "    # considered_fields = [1, 2]\n",
    "    considered_fields = [1]\n",
    "    error = 0.\n",
    "    rel_error = 0.\n",
    "    mean = 0.\n",
    "    n_tests = len(x_test)\n",
    "    for i in range(n_tests):\n",
    "        x0 = x_test[i][0]\n",
    "        y = x_test[i][-1, considered_fields]\n",
    "        time = T_test[i][:]\n",
    "        y_sim = model.simulate(x0, time)[-1, considered_fields]\n",
    "        x0_selected = x0[considered_fields]\n",
    "        dy_no_closure = y-x0_selected\n",
    "        dy_with_closure = y_sim-x0_selected\n",
    "        error += np.linalg.norm((dy_no_closure))\n",
    "        rel_error+= np.linalg.norm((dy_with_closure)) \n",
    "    error = error/n_tests\n",
    "    rel_error = rel_error/n_tests\n",
    "    print(f'base L2 error {error}')\n",
    "    print(f'closure L2 error {rel_error}')\n",
    "    print(f'closure rel L2 error {rel_error/error}')\n"
   ]
  },
  {
   "cell_type": "markdown",
   "metadata": {},
   "source": [
    "Test"
   ]
  },
  {
   "cell_type": "code",
   "execution_count": 28,
   "metadata": {},
   "outputs": [
    {
     "name": "stdout",
     "output_type": "stream",
     "text": [
      "base L2 error 0.007542096055960814\n",
      "closure L2 error 0.0031387581585930902\n",
      "closure rel L2 error 0.4161652324902978\n",
      "None\n"
     ]
    }
   ],
   "source": [
    "print(compute_error(model_unsym, x_test , T_test))\n",
    "# print(compute_error(model_unsym, x_train, T_train))"
   ]
  },
  {
   "cell_type": "markdown",
   "metadata": {},
   "source": [
    "### Constraint problem for level = 0"
   ]
  },
  {
   "cell_type": "code",
   "execution_count": null,
   "metadata": {},
   "outputs": [],
   "source": [
    "## Create data\n",
    "n_constraints = 5\n",
    "n_targets = x_train[0].shape[1]\n",
    "n_features = 2\n",
    "n_eqns = 3\n",
    "constraint_rhs = np.zeros(n_constraints)\n",
    "constraint_lhs = np.zeros((n_constraints, n_eqns*n_features))\n",
    "# coefficients of Abs(u) == Abs(v) in u'\n",
    "constraint_lhs[0, n_features + 0] = 1\n",
    "constraint_lhs[0, n_features + 1] = -1\n",
    "# coefficients of Abs(u) == Abs(v) in v'\n",
    "constraint_lhs[1, 2*n_features + 0] = 1\n",
    "constraint_lhs[1, 2*n_features + 1] = -1\n",
    "# coefs for u' and v' are the same\n",
    "constraint_lhs[2, 1*n_features + 0] = 1\n",
    "constraint_lhs[2, 2*n_features + 0] = -1\n",
    "# h' is not affcted from Abs(u)\n",
    "constraint_lhs[3, 0] = 1\n",
    "# h' is not affcted from Abs(v)\n",
    "constraint_lhs[4, 1] = 1\n",
    "\n",
    "opt = ps.ConstrainedSR3(constraint_lhs=constraint_lhs, constraint_rhs=constraint_rhs, threshold=0.5, thresholder='l1')\n",
    "# opt = ps.SR3(threshold=0.5, thresholder='l1')\n",
    "library_sym = ps.CustomLibrary(\n",
    "    library_functions=[lambda x, y, z: abs(y), lambda x, y, z: abs(z)])\n",
    "    # library_functions=[lambda h, u, u1, v, v1: abs(u), lambda h, u, u2, v, v1: abs(v)])\n",
    "combined_library = library_sym\n",
    "feature_names = ['h', 'u', 'v']\n",
    "# feature_names = ['h', 'u', 'u1', 'v', 'v1']\n",
    "model_sym = ps.SINDy(feature_library = combined_library, feature_names = feature_names, optimizer=opt)\n",
    "\n",
    "\n",
    "model_sym.fit(x_train, t=T_train, multiple_trajectories=True)\n",
    "model_sym.print()\n",
    " "
   ]
  },
  {
   "cell_type": "code",
   "execution_count": null,
   "metadata": {},
   "outputs": [],
   "source": [
    "print(compute_error(model_sym, x_test , T_test))\n",
    "print(compute_error(model_sym, x_train, T_train))"
   ]
  },
  {
   "cell_type": "markdown",
   "metadata": {},
   "source": [
    "### Constraint problem for level = 1"
   ]
  },
  {
   "cell_type": "code",
   "execution_count": 29,
   "metadata": {},
   "outputs": [
    {
     "name": "stdout",
     "output_type": "stream",
     "text": [
      "(h)' = 0.000\n",
      "(hu)' = 0.000\n",
      "(hu1)' = 0.000\n",
      "(hv)' = 0.000\n",
      "(hv1)' = 0.000\n"
     ]
    }
   ],
   "source": [
    "\n",
    "## Create data\n",
    "n_constraints = 16\n",
    "n_targets = x_train[0].shape[1]\n",
    "n_features = 4\n",
    "n_eqns = 5\n",
    "constraint_rhs = np.zeros(n_constraints)\n",
    "constraint_lhs = np.zeros((n_constraints, n_eqns*n_features))\n",
    "# coefficients of Abs(u) == Abs(v) in u'\n",
    "constraint_lhs[0, n_features + 0] = 1\n",
    "constraint_lhs[0, n_features + 2] = -1\n",
    "# coefficients of Abs(u) == Abs(v) in v'\n",
    "constraint_lhs[1, 3*n_features + 0] = 1\n",
    "constraint_lhs[1, 3*n_features + 2] = -1\n",
    "# coefs for u' and v' are the same\n",
    "constraint_lhs[2, 1*n_features + 0] = 1\n",
    "constraint_lhs[2, 3*n_features + 0] = -1\n",
    "\n",
    "# coefficients of Abs(u1) == Abs(v1) in u'\n",
    "constraint_lhs[3, n_features + 1] = 1\n",
    "constraint_lhs[3, n_features + 3] = -1\n",
    "# coefficients of Abs(u1) == Abs(v1) in v'\n",
    "constraint_lhs[4, 3*n_features + 1] = 1\n",
    "constraint_lhs[4, 3*n_features + 3] = -1\n",
    "# coefs for u1' and v1' are the same\n",
    "constraint_lhs[5, 1*n_features + 1] = 1\n",
    "constraint_lhs[5, 3*n_features + 1] = -1\n",
    "\n",
    "# coefficients of Abs(u) == Abs(v) in u1'\n",
    "constraint_lhs[6, 2*n_features + 0] = 1\n",
    "constraint_lhs[6, 2*n_features + 2] = -1\n",
    "# coefficients of Abs(u) == Abs(v) in v1'\n",
    "constraint_lhs[7, 4*n_features + 0] = 1\n",
    "constraint_lhs[7, 4*n_features + 2] = -1\n",
    "# coefs for u' and v' are the same\n",
    "constraint_lhs[8, 2*n_features + 0] = 1\n",
    "constraint_lhs[8, 4*n_features + 0] = -1\n",
    " \n",
    "# coefficients of Abs(u1) == Abs(v1) in u1'\n",
    "constraint_lhs[9, 2*n_features + 1] = 1\n",
    "constraint_lhs[9, 2*n_features + 3] = -1\n",
    "# coefficients of Abs(u1) == Abs(v1) in v1'\n",
    "constraint_lhs[10, 4*n_features + 1] = 1\n",
    "constraint_lhs[10, 4*n_features + 3] = -1\n",
    "# coefs for u1' and v1' are the same\n",
    "constraint_lhs[11, 2*n_features + 1] = 1\n",
    "constraint_lhs[11, 4*n_features + 1] = -1\n",
    "\n",
    "# h' is not affcted from Abs(u)\n",
    "constraint_lhs[12, 0] = 1\n",
    "# h' is not affcted from Abs(v)\n",
    "constraint_lhs[13, 1] = 1\n",
    "# h' is not affcted from Abs(u1)\n",
    "constraint_lhs[14, 2] = 1\n",
    "# h' is not affcted from Abs(v1)\n",
    "constraint_lhs[15, 3] = 1\n",
    "\n",
    "opt = ps.ConstrainedSR3(constraint_lhs=constraint_lhs, constraint_rhs=constraint_rhs, threshold=0.5, thresholder='l1')\n",
    "# opt = ps.SR3(threshold=0.5, thresholder='l1')\n",
    "# library_poly = ps.PolynomialLibrary(degree=2, include_bias=False)\n",
    "library_sym_1 = ps.CustomLibrary(\n",
    "    # library_functions=[lambda x, y, z: abs(y), lambda x, y, z: abs(z)])\n",
    "    library_functions=[lambda h, u, u1, v, v1: abs(u), lambda h, u, u1, v, v1: abs(u1), lambda h, u, u1, v, v1: abs(u)**(7/3),  lambda h, u, u1, v, v1: abs(u1)**(7/3)])\n",
    "combined_library = library_sym_1\n",
    "# feature_names = ['h', 'hu', 'hv']\n",
    "feature_names = ['h', 'hu', 'hu1', 'hv', 'hv1']\n",
    "model_sym_1 = ps.SINDy(feature_library = combined_library, feature_names = feature_names, optimizer=opt)\n",
    "\n",
    "\n",
    "model_sym_1.fit(x_train, t=T_train, multiple_trajectories=True)\n",
    "model_sym_1.print()\n",
    " "
   ]
  },
  {
   "cell_type": "code",
   "execution_count": 30,
   "metadata": {},
   "outputs": [
    {
     "name": "stdout",
     "output_type": "stream",
     "text": [
      "base L2 error 0.007542096055960814\n",
      "closure L2 error 0.0\n",
      "closure rel L2 error 0.0\n",
      "None\n"
     ]
    }
   ],
   "source": [
    "\n",
    "print(compute_error(model_sym_1, x_test , T_test))\n",
    "# print(compute_error(model_sym_1, x_train, T_train))"
   ]
  },
  {
   "cell_type": "code",
   "execution_count": 31,
   "metadata": {},
   "outputs": [
    {
     "name": "stdout",
     "output_type": "stream",
     "text": [
      "(h)' = 0.000\n",
      "(hu)' = 0.291 f0(h,hu,hu1,hv,hv1) + -0.145 f1(h,hu,hu1,hv,hv1)\n",
      "(hu1)' = 0.000\n",
      "(hv)' = 0.291 f0(h,hu,hu1,hv,hv1) + -0.145 f1(h,hu,hu1,hv,hv1)\n",
      "(hv1)' = 0.000\n"
     ]
    }
   ],
   "source": [
    "## Create data\n",
    "n_constraints = 8\n",
    "n_targets = x_train[0].shape[1]\n",
    "n_features = 4\n",
    "n_eqns = 5\n",
    "constraint_rhs = np.zeros(n_constraints)\n",
    "constraint_lhs = np.zeros((n_constraints, n_eqns*n_features))\n",
    "# coefs for u' and v' are the same\n",
    "constraint_lhs[0, 1*n_features + 0] = 1\n",
    "constraint_lhs[0, 3*n_features + 0] = -1\n",
    "\n",
    "# coefs for u1' and v1' are the same\n",
    "constraint_lhs[1, 1*n_features + 1] = 1\n",
    "constraint_lhs[1, 3*n_features + 1] = -1\n",
    "\n",
    "# coefs for u' and v' are the same\n",
    "constraint_lhs[2, 2*n_features + 0] = 1\n",
    "constraint_lhs[2, 4*n_features + 0] = -1\n",
    " \n",
    "# coefs for u1' and v1' are the same\n",
    "constraint_lhs[3, 2*n_features + 1] = 1\n",
    "constraint_lhs[3, 4*n_features + 1] = -1\n",
    "\n",
    "# h' is not affcted from Abs(u)\n",
    "constraint_lhs[4, 0] = 1\n",
    "# h' is not affcted from Abs(v)\n",
    "constraint_lhs[5, 1] = 1\n",
    "# h' is not affcted from Abs(u1)\n",
    "constraint_lhs[6, 2] = 1\n",
    "# h' is not affcted from Abs(v1)\n",
    "constraint_lhs[7, 3] = 1\n",
    "\n",
    "opt = ps.ConstrainedSR3(constraint_lhs=constraint_lhs, constraint_rhs=constraint_rhs, threshold=0.5, thresholder='l1')\n",
    "# opt = ps.SR3(threshold=0.5, thresholder='l1')\n",
    "# library_poly = ps.PolynomialLibrary(degree=2, include_bias=False)\n",
    "library_sym_1 = ps.CustomLibrary(\n",
    "    # library_functions=[lambda x, y, z: abs(y), lambda x, y, z: abs(z)])\n",
    "    library_functions=[lambda h, u, u1, v, v1: abs(u), lambda h, u, u1, v, v1: abs(u1), lambda h, u, u1, v, v1: abs(u)**(7/3),  lambda h, u, u1, v, v1: abs(u1)**(7/3)])\n",
    "combined_library = library_sym_1\n",
    "# feature_names = ['h', 'hu', 'hv']\n",
    "feature_names = ['h', 'hu', 'hu1', 'hv', 'hv1']\n",
    "model_sym_1 = ps.SINDy(feature_library = combined_library, feature_names = feature_names, optimizer=opt)\n",
    "\n",
    "\n",
    "model_sym_1.fit(x_train, t=T_train, multiple_trajectories=True)\n",
    "model_sym_1.print()\n",
    " "
   ]
  },
  {
   "cell_type": "code",
   "execution_count": 32,
   "metadata": {},
   "outputs": [
    {
     "name": "stdout",
     "output_type": "stream",
     "text": [
      "base L2 error 0.007542096055960814\n",
      "closure L2 error 0.0025594488518678967\n",
      "closure rel L2 error 0.3393551120109461\n",
      "None\n"
     ]
    }
   ],
   "source": [
    "print(compute_error(model_sym_1, x_test , T_test))\n",
    "# print(compute_error(model_sym_1, x_train, T_train))"
   ]
  },
  {
   "cell_type": "markdown",
   "metadata": {},
   "source": [
    "## TODOs\n",
    "- [ ] Comparison to multistep integration\n",
    "- [ ] Comparison of error in 3D (different projection)\n",
    "- [x] check why there are so little non-zeros. Something wrong in callback.h?\n",
    "- [x] generate mid/high resulition data\n",
    "- [x] use only newtonian model, not chezy\n",
    "- [x] use level 0 system.\n",
    "- [ ] Ideally, I do not want to recompute the moment projection of the high fidality data every time. Can I just use the first N-levels of a given one? I think this requires changes in `callback.h` and fit the Q fields to the correct size and PICK THE RIGHT FIELDS."
   ]
  },
  {
   "cell_type": "markdown",
   "metadata": {},
   "source": []
  }
 ],
 "metadata": {
  "kernelspec": {
   "display_name": "sms",
   "language": "python",
   "name": "python3"
  },
  "language_info": {
   "codemirror_mode": {
    "name": "ipython",
    "version": 3
   },
   "file_extension": ".py",
   "mimetype": "text/x-python",
   "name": "python",
   "nbconvert_exporter": "python",
   "pygments_lexer": "ipython3",
   "version": "3.9.2"
  }
 },
 "nbformat": 4,
 "nbformat_minor": 2
}
