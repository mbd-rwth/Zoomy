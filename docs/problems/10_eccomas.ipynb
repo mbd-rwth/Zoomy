{
  "cells": [
    {
      "cell_type": "raw",
      "id": "0ccc326b",
      "metadata": {},
      "source": [
        "---\n",
        "title: 'Eccomas2024'\n",
        "author: 'IS'\n",
        "date: '05/23/2024'\n",
        "---"
      ]
    },
    {
      "cell_type": "markdown",
      "id": "d15ecce3",
      "metadata": {},
      "source": [
        "## Introduction"
      ]
    },
    {
      "cell_type": "markdown",
      "id": "561c03a2",
      "metadata": {},
      "source": [
        "## Shear Shallow Flow Method"
      ]
    },
    {
      "cell_type": "markdown",
      "id": "35bebf95",
      "metadata": {},
      "source": [
        "## Shallow Moment Method"
      ]
    },
    {
      "cell_type": "markdown",
      "id": "787f78bc",
      "metadata": {},
      "source": [
        "## Numerical Experiments"
      ]
    },
    {
      "cell_type": "markdown",
      "id": "e18dc34f",
      "metadata": {},
      "source": [
        "### TC 1: invisic 1d flow"
      ]
    },
    {
      "cell_type": "code",
      "execution_count": null,
      "id": "81f47fca",
      "metadata": {
        "vscode": {
          "languageId": "python"
        }
      },
      "outputs": [],
      "source": [
        "\n",
        "import numpy as np\n",
        "import pytest\n",
        "from types import SimpleNamespace\n",
        "\n",
        "from library.pysolver.solver import *\n",
        "from library.model.model import *\n",
        "import library.model.initial_conditions as IC\n",
        "import library.model.boundary_conditions as BC\n",
        "from library.pysolver.ode import RK1\n",
        "import library.misc.io as io\n",
        "from library.pysolver.reconstruction import GradientMesh\n",
        "import library.postprocessing.postprocessing as postprocessing\n",
        "import library.mesh.mesh as petscMesh\n",
        "import argparse"
      ]
    },
    {
      "cell_type": "markdown",
      "id": "4d99525e",
      "metadata": {},
      "source": [
        "### TC 2: dam-break with fingering"
      ]
    },
    {
      "cell_type": "markdown",
      "id": "4446d733",
      "metadata": {},
      "source": [
        "### TC 3: comparison with high-fidelity data"
      ]
    },
    {
      "cell_type": "markdown",
      "id": "a7753903",
      "metadata": {},
      "source": [
        "## Conclusion"
      ]
    }
  ],
  "metadata": {
    "kernelspec": {
      "display_name": "Python 3 (ipykernel)",
      "language": "python",
      "name": "python3"
    }
  },
  "nbformat": 4,
  "nbformat_minor": 5
}
